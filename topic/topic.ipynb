{
 "cells": [
  {
   "cell_type": "code",
   "execution_count": 3,
   "id": "7915aab4-5560-4838-8756-f682b23f3940",
   "metadata": {},
   "outputs": [],
   "source": [
    "from glob import glob\n",
    "import json\n",
    "from sklearn.feature_extraction.text import (\n",
    "    TfidfVectorizer,\n",
    "    CountVectorizer\n",
    ")\n",
    "from sklearn.decomposition import (\n",
    "    NMF,\n",
    "    LatentDirichletAllocation\n",
    ")"
   ]
  },
  {
   "cell_type": "code",
   "execution_count": 4,
   "id": "125bf421-f205-4068-8bb1-cd86080771c8",
   "metadata": {},
   "outputs": [],
   "source": [
    "no_features = 100\n",
    "no_topics = 10\n",
    "no_top_words = 10\n",
    "docsdir = \"../arxiv_papers_infos/\""
   ]
  },
  {
   "cell_type": "code",
   "execution_count": 5,
   "id": "a659217b-6dce-41f6-a993-681a6e4170a1",
   "metadata": {},
   "outputs": [],
   "source": [
    "filenames = glob(f\"{docsdir}/*.json\")"
   ]
  },
  {
   "cell_type": "code",
   "execution_count": 6,
   "id": "2ec86037-f11a-4735-bac7-7d0d039438f7",
   "metadata": {},
   "outputs": [],
   "source": [
    "documents = []\n",
    "titles = []\n",
    "for filename in filenames:\n",
    "    with open(filename, \"r\") as f:\n",
    "        data = json.load(f)\n",
    "    titles.append(data['result']['title'])\n",
    "    data = f\"{data['result']['title']} -- {data['result']['abstract']}\"\n",
    "    documents.append(data)"
   ]
  },
  {
   "cell_type": "code",
   "execution_count": 5,
   "id": "e61bd799-912d-4196-9a74-0f2edcb667b0",
   "metadata": {},
   "outputs": [
    {
     "name": "stderr",
     "output_type": "stream",
     "text": [
      "/home/ronnypetson/anaconda3/lib/python3.7/site-packages/sklearn/utils/deprecation.py:87: FutureWarning: Function get_feature_names is deprecated; get_feature_names is deprecated in 1.0 and will be removed in 1.2. Please use get_feature_names_out instead.\n",
      "  warnings.warn(msg, category=FutureWarning)\n"
     ]
    }
   ],
   "source": [
    "# NMF is able to use tf-idf\n",
    "tfidf_vectorizer = TfidfVectorizer(\n",
    "    max_df=0.95,\n",
    "    min_df=2,\n",
    "    max_features=no_features,\n",
    "    stop_words=\"english\"\n",
    ")\n",
    "tfidf = tfidf_vectorizer.fit_transform(documents)\n",
    "tfidf_feature_names = tfidf_vectorizer.get_feature_names()"
   ]
  },
  {
   "cell_type": "code",
   "execution_count": 7,
   "id": "13961b46",
   "metadata": {},
   "outputs": [],
   "source": [
    "# https://huggingface.co/sentence-transformers\n",
    "from sentence_transformers import SentenceTransformer"
   ]
  },
  {
   "cell_type": "code",
   "execution_count": 8,
   "id": "80f73251",
   "metadata": {},
   "outputs": [],
   "source": [
    "transf = SentenceTransformer(\"paraphrase-MiniLM-L6-v2\")"
   ]
  },
  {
   "cell_type": "code",
   "execution_count": 9,
   "id": "765fc943",
   "metadata": {},
   "outputs": [],
   "source": [
    "trf_emb = transf.encode(documents)"
   ]
  },
  {
   "cell_type": "code",
   "execution_count": 10,
   "id": "e38d9653-4fd9-460e-a5a6-52c8de424edb",
   "metadata": {},
   "outputs": [],
   "source": [
    "import numpy as np\n",
    "from sklearn.manifold import TSNE\n",
    "from matplotlib import pyplot as plt"
   ]
  },
  {
   "cell_type": "code",
   "execution_count": 11,
   "id": "b4263968-909a-48dc-aeda-ce94b6c615b7",
   "metadata": {},
   "outputs": [],
   "source": [
    "# X = tfidf.toarray()\n",
    "X = trf_emb"
   ]
  },
  {
   "cell_type": "code",
   "execution_count": 47,
   "id": "ab1c1173-8ccd-4987-bbb7-edc53e2daa17",
   "metadata": {},
   "outputs": [],
   "source": [
    "def get_tsne():\n",
    "    tsne = TSNE(\n",
    "        n_components=2,\n",
    "        learning_rate='auto',\n",
    "        init='random',\n",
    "        perplexity=3\n",
    "    )\n",
    "    return tsne\n",
    "\n",
    "def plot(X):\n",
    "    plt.scatter(X[:, 0], X[:, 1])"
   ]
  },
  {
   "cell_type": "code",
   "execution_count": 48,
   "id": "bf4caddf-d063-49a6-9696-7927678dc427",
   "metadata": {},
   "outputs": [],
   "source": [
    "tsne = get_tsne()"
   ]
  },
  {
   "cell_type": "code",
   "execution_count": 49,
   "id": "5ae43678-2d38-46c7-922b-bf48a2347421",
   "metadata": {},
   "outputs": [],
   "source": [
    "X_tsne = tsne.fit_transform(X)"
   ]
  },
  {
   "cell_type": "code",
   "execution_count": 21,
   "id": "574cb827-7d2b-4bcb-9613-29612a81006f",
   "metadata": {},
   "outputs": [],
   "source": [
    "# plt.scatter(X_tsne[:, 0], X_tsne[:, 1])"
   ]
  },
  {
   "cell_type": "code",
   "execution_count": 39,
   "id": "89f464b4",
   "metadata": {},
   "outputs": [],
   "source": [
    "# https://plotly.com/python/v3/ipython-notebooks/baltimore-vital-signs/\n",
    "import plotly.express as px\n",
    "import pandas as pd"
   ]
  },
  {
   "cell_type": "code",
   "execution_count": 50,
   "id": "94f1fc22",
   "metadata": {},
   "outputs": [
    {
     "data": {
      "application/vnd.plotly.v1+json": {
       "config": {
        "plotlyServerURL": "https://plot.ly"
       },
       "data": [
        {
         "hovertemplate": "<b>%{hovertext}</b><br><br>x_tsne=%{x}<br>y_tsne=%{y}<extra></extra>",
         "hovertext": [
          "examining untempered social media: analyzing cascades of polarized conversations",
          "end-to-end bias mitigation: removing gender bias in deep learning",
          "predicting event attendance exploring social influence",
          "multi-task learning for influence estimation and maximization",
          "multi-task deep cnn model for no-reference image quality assessment on smartphone camera photos",
          "toward the prevention of privacy threats: how can we persuade our social network platform users?",
          "device to remotely track and locate the position of a child for safety",
          "emerging topics in internet technology: a complex networks approach",
          "demographic influences on contemporary art with unsupervised style embeddings",
          "short text topic modeling: application to tweets about bitcoin",
          "on-device filtering of social media images for efficient storage",
          "social centralization and semantic collapse: hyperbolic embeddings of networks and text",
          "somiap: social media images analysis and prediction framework",
          "inference in opinion dynamics under social pressure",
          "spread of information with confirmation bias in cyber-social networks",
          "context-aware systems for sequential item recommendation",
          "multilingual, temporal and sentimental distant-reading of city events",
          "spreading of fake news, competence, and learning: kinetic modeling and numerical approximation",
          "why polls fail to predict elections",
          "communities of attention networks: introducing qualitative and conversational perspectives for altmetrics",
          "leveraging motifs to model the temporal dynamics of diffusion networks",
          "network formation under random attack and probabilistic spread",
          "a trust-based recommendation method using network diffusion processes",
          "a co\\mbox{-}operative game theoretic approach for the budgeted influence maximization problem",
          "zealotry effects on opinion dynamics in the adaptive voter model",
          "semantic homophily in online communication: evidence from twitter",
          "redqueen: an online algorithm for smart broadcasting in social networks",
          "visualizing spreading phenomena on complex networks",
          "a behavioral analysis on the reselection of seed nodes in independent cascade based influence maximization",
          "sample debiasing in the themis open world database system (extended version)",
          "generative models for spear phishing posts on social media",
          "characterizing networks of propaganda on twitter: a case study",
          "multiscale socio-ecological networks in the age of information",
          "towards better social crisis data with hermes: hybrid sensing for emergency management system",
          "protecting anonymous speech: a generative adversarial network methodology for removing stylistic indicators in text",
          "viralbert: a user focused bert-based approach to virality prediction",
          "graph neural networks with continual learning for fake news detection from social media",
          "recommending influenceable targets based on influence propagation through activity behaviors in online social media",
          "competitive influence propagation and fake news mitigation in the presence of strong user bias",
          "familiar strangers: the collective regularity in human behaviors",
          "a transformer-based approach to irony and sarcasm detection",
          "a deep language-independent network to analyze the impact of covid-19 on the world via sentiment analysis",
          "iot-enabled social relationships meet artificial social intelligence",
          "weakly supervised collective feature learning from curated media",
          "on the use of benford's law to detect gan-generated images",
          "epidemic spreading and equilibrium social distancing in heterogeneous networks",
          "compromised account detection using authorship verification: a novel approach",
          "covid-19 and social media: beyond polarization",
          "red bots do it better: comparative analysis of social bot partisan behavior",
          "fastcover: an unsupervised learning framework for multi-hop influence maximization in social networks",
          "capturing dynamics of information diffusion in sns: a survey of methodology and techniques",
          "hpcc-ynu at semeval-2020 task 9: a bilingual vector gating mechanism for sentiment analysis of code-mixed text",
          "improved two-stage hate speech classification for twitter based on deep neural networks",
          "mobility strategies based on percolation theory to avoid the spread of diseases: covid-19",
          "people lie, actions don't! modeling infodemic proliferation predictors among social media users",
          "multidimensional outlier detection in temporal interaction networks: an application to political communication on twitter",
          "high degree vertices and spread of infections in spatially modelled social networks",
          "a quantitative framework for establishing low-risk interdistrict travel corridors during covid-19",
          "optimal percolation on multiplex networks",
          "using network motifs to characterize temporal network evolution leading to diffusion inhibition",
          "social contagions with communication channels alternation on multiplex networks",
          "online actions with offline impact: how online social networks influence online and offline user behavior",
          "quantifying how hateful communities radicalize online users",
          "epidemic thresholds of infectious diseases on tie-decay networks",
          "non-markovian temporal networks with auto- and cross-correlated link dynamics",
          "analyzing social interaction networks from twitter for planned special events",
          "adaptive influence maximization with myopic feedback",
          "a tool for spatio-temporal analysis of social anxiety with twitter data",
          "mapping the invocation structure of online political interaction",
          "prediction of soil moisture content based on satellite data and sequence-to-sequence networks",
          "revisiting item promotion in gnn-based collaborative filtering: a masked targeted topological attack perspective",
          "predicting signed edges with\no(\nn\n1+o(1)\nlogn)\nqueries",
          "analysis of the competition among viral strains using a temporal interaction-driven contagion model",
          "utfpr at semeval-2019 task 5: hate speech identification with recurrent neural networks",
          "partisanship, propaganda and post-truth politics: quantifying impact in online debate",
          "integrating sentiment and social structure to determine preference alignments: the irish marriage referendum",
          "measuring adolescents' well-being: correspondence of naive digital traces to survey data",
          "generalized network dismantling",
          "temporal network epistemology: on reaching consensus in real world setting",
          "covid-19 misinformation and disinformation on social networks -- the limits of veritistic countermeasures",
          "a simple and efficient ensemble classifier combining multiple neural network models on social media datasets in vietnamese",
          "an emotional analysis of false information in social media and news articles",
          "political discourse on social media: echo chambers, gatekeepers, and the price of bipartisanship",
          "discrimination universally determines reconstruction of multiplex networks",
          "deep learning super-diffusion in multiplex networks",
          "modeling live video streaming: real-time classification, qoe inference, and field evaluation",
          "topology and dynamics of narratives on brexit propagated by uk press during 2016 and 2017",
          "social media writing style fingerprint",
          "fybrrchat: a distributed chat application for secure p2p messaging",
          "urban epidemic hazard index for chinese cities: why did small cities become epidemic hotspots?",
          "selecting nodes and buying links to maximize the information diffusion in a network",
          "social network-based distancing strategies to flatten the covid 19 curve in a post-lockdown world",
          "who is next: rising star prediction via diffusion of user interest in social networks",
          "covid-19 attack rate increases with city size",
          "on the impact of social media recommendations on opinion consensus",
          "recommender systems with random walks: a survey",
          "an image dataset of text patches in everyday scenes",
          "asymptotically optimal bounds for estimating h-index in sublinear time with applications to subgraph counting",
          "co-training for extraction of adverse drug reaction mentions from tweets",
          "mathematics of digital hyperspace",
          "approximate identification of the optimal epidemic source in complex networks",
          "using social media for word-of-mouth marketing",
          "towards profit maximization for online social network providers",
          "scalable psychological momentum forecasting in esports",
          "sensing social media signals for cryptocurrency news",
          "bots, disinformation, and the first trump impeachment",
          "using deep networks and transfer learning to address disinformation",
          "somps-net : attention based social graph framework for early detection of fake health news",
          "deep convolutional forest: a dynamic deep ensemble approach for spam detection in text",
          "identifying semantically duplicate questions using data science approach: a quora case study",
          "independent publishers and social networks in the 21st century: the balance of power in the transatlantic spanish-language book market",
          "debunking rumors in networks",
          "bev-net: assessing social distancing compliance by joint people localization and geometric reasoning",
          "an open access nlp dataset for arabic dialects : data collection, labeling, and model construction",
          "abem: an adaptive agent-based evolutionary approach for mining influencers in online social networks",
          "influence of cognitive, geographical, and collaborative proximity on knowledge production of canadian nanotechnology",
          "reinforcement learning based recommender systems: a survey",
          "limited individual attention and online virality of low-quality information",
          "multi-task learning for extraction of adverse drug reaction mentions from tweets",
          "profit maximization using social networks in two-phase setting",
          "fog radio access networks: mobility management, interference mitigation and resource optimization",
          "ynu-hpcc at semeval-2020 task 8: using a parallel-channel model for memotion analysis",
          "long-range connections and mixed diffusion in fractional networks",
          "trust and trustworthiness in social recommender systems",
          "midmod-osn: a microscopic-level information diffusion model for online social networks",
          "repetitive users network emerges from multiple rumor cascades",
          "political polarization in social media: analysis of the \"twitter political field\" in japan",
          "predicting opioid relapse using social media data",
          "a composite centrality measure for improved identification of influential users",
          "gsim: a graph neural network based relevance measure for heterogeneous graphs",
          "symmetric continuous subgraph matching with bidirectional dynamic programming",
          "unifying continuous, discrete, and hybrid susceptible-infected-recovered processes on networks",
          "suppression of groups intermingling as appealing option for flattening and delaying the epidemiological curve while allowing economic and social life at bearable level during covid-19 pandemic",
          "document embedding for scientific articles: efficacy of word embeddings vs tfidf",
          "graph convolutional networks in feature space for image deblurring and super-resolution",
          "a service-oriented architecture for assisting the authoring of semantic crowd maps",
          "a survey on studying the social networks of students",
          "rumor source detection with multiple observations under adaptive diffusions",
          "learning dynamic embeddings from temporal interactions",
          "diffusion approximation of a network model of meme popularity",
          "social contagion on higher-order structures",
          "deeplink: a novel link prediction framework based on deep learning",
          "coloring in the links: capturing social ties as they are perceived",
          "deleting edges to restrict the size of an epidemic in temporal networks",
          "enterprise social networks as digital infrastructures -- understanding the utilitarian value of social media at the workplace",
          "selecting and combining complementary feature representations and classifiers for hate speech detection",
          "networked partisanship and framing: a socio-semantic network analysis of the italian debate on migration",
          "on misinformation containment in online social networks",
          "seeing and believing: evaluating the trustworthiness of twitter users",
          "rumor propagation with heterogeneous transmission in social networks",
          "preserving integrity in online social networks",
          "digraphwave: scalable extraction of structural node embeddings via diffusion on directed graphs",
          "dyhgcn: a dynamic heterogeneous graph convolutional network to learn users' dynamic preferences for information diffusion prediction",
          "diffnet++: a neural influence and interest diffusion network for social recommendation",
          "topology-driven diversity for targeted influence maximization with application to user engagement in social networks",
          "an early look at the parler online social network",
          "predicting peer-to-peer and collective social contagion from individual behaviour",
          "adoção de social crm em micro e pequenas empresas: uma análise do mercado santareno",
          "feasibility study of social media for public health behaviour changes",
          "motif iteration model for network representation",
          "on irreversible spread of influence in edge-weighted graphs",
          "a longitudinal analysis of the public perception of the opportunities and challenges of the internet of things",
          "social network analysis: from graph theory to applications with python",
          "interpretable multi-head self-attention model for sarcasm detection in social media",
          "a holistic approach for predicting links in coevolving multilayer networks",
          "a dataset and benchmarks for multimedia social analysis",
          "beyond personalization: social content recommendation for creator equality and consumer satisfaction",
          "characterization of citizens using word2vec and latent topic analysis in a large set of tweets",
          "co-training for demographic classification using deep learning from label proportions",
          "impersonation on social media: a deep neural approach to identify ingenuine content",
          "identifying offensive posts and targeted offense from twitter",
          "exercise? i thought you said 'extra fries': leveraging sentence demarcations and multi-hop attention for meme affect analysis",
          "structure-aware generation network for recipe generation from images",
          "diffusion geometry unravels the emergence of functional clusters in collective phenomena",
          "d-sempre: learning deep semantic-preserving embeddings for user interests-social contents modeling",
          "a privacy-preserving architecture for the protection of adolescents in online social networks",
          "from the difference of structures to the structure of the difference",
          "usefulness of the age-structured sir dynamics in modelling covid-19",
          "learning deep networks from noisy labels with dropout regularization",
          "dynamical decoherence of a qubit coupled to a quantum dot or the syk black hole",
          "does homophily make socialbots more influential? exploring infiltration strategies",
          "\"to target or not to target\": identification and analysis of abusive text using ensemble of classifiers",
          "representation learning on graphs with jumping knowledge networks",
          "predicting the diversity of early epidemic spread on networks",
          "how does active participation effect consensus: adaptive network model of opinion dynamics and influence maximizing rewiring",
          "fairness-aware caching and radio resource allocation for the downlink of multi-cell ofdma systems",
          "\"breaking\" disasters: predicting and characterizing the global news value of natural and man-made disasters",
          "contextual rnn-t for open domain asr",
          "why echo chambers form and network interventions fail: selection outpaces influence in dynamic networks",
          "facebook (a)live? are live social broadcasts really broadcasts?",
          "scalable approximation algorithm for network immunization",
          "improving information cascade modeling by social topology and dual role user dependency",
          "spatial-temporal attention fusion network for short-term passenger flow prediction on holidays in urban rail transit systems",
          "nlp-cic at semeval-2020 task 9: analysing sentiment in code-switching language using a simple deep-learning classifier",
          "reconstructing commuters network using machine learning and urban indicators",
          "netizen-style commenting on fashion photos: dataset and diversity measures",
          "scale-arbitrary invertible image downscaling",
          "heri-graphs: a workflow of creating datasets for multi-modal machine learning on graphs of heritage values and attributes with social media",
          "id-reveal: identity-aware deepfake video detection",
          "deep learning-based sentiment analysis of covid-19 vaccination responses from twitter data",
          "fusing location and text features for sentiment classification",
          "deep learning in the automotive industry: applications and tools",
          "detecting and explaining crisis",
          "sequential prediction of social media popularity with deep temporal context networks",
          "multi-level hypothesis testing for populations of heterogeneous networks",
          "trusted and secured d2d-aided communications in 5g networks",
          "socialvec: social entity embeddings",
          "earned benefit maximization in social networks under budget constraint",
          "epidemic spreading on evolving signed networks",
          "accurate portraits of scientific resources and knowledge service components",
          "increase of low-frequency modes of user dynamics in online social networks during overheating of discussions",
          "optimal active social network de-anonymization using information thresholds",
          "infection percolation: a dynamic network model of disease spreading",
          "adversarial classification on social networks",
          "learning multivariate hawkes processes at scale",
          "agent-based simulations for protecting nursing homes with prevention and vaccination strategies",
          "novel multicolumn kernel extreme learning machine for food detection via optimal features from cnn",
          "influence maximization based on dynamic personal perception in knowledge graph",
          "generating dynamic contact graphs with indirect links",
          "reportage: automatically extracting the exact age of twitter users based on self-reports in tweets",
          "a weibo dataset for the 2022 russo-ukrainian crisis",
          "the homophily principle in social network analysis",
          "disease spreading with social distancing: a prevention strategy in disordered multiplex networks",
          "a survey of location inference techniques on twitter",
          "understanding teenage perceptions and configurations of privacy on instagram",
          "behavioural dimensions for discovering knowledge actor roles utilising enterprise social network metrics",
          "a review of deep learning-based approaches for deepfake content detection",
          "viraliency: pooling local virality",
          "a novel framework with information fusion and neighborhood enhancement for user identity linkage",
          "fake it till you make it: fishing for catfishes",
          "epidemic spreading in multiplex networks influenced by opinion exchanges on vaccination",
          "detecting hostile posts using relational graph convolutional network",
          "pay attention to virality: understanding popularity of social media videos with the attention mechanism",
          "the role of geography in the complex diffusion of innovations",
          "linked credibility reviews for explainable misinformation detection",
          "communety: a deep learning system for the prediction of cohesive social communities",
          "evolution of ego-networks in social media with link recommendations",
          "a deep network model for paraphrase detection in short text messages",
          "credibility-based fake news detection",
          "behind the mask: a computational study of anonymous' presence on twitter",
          "the effect of social distancing on the reach of an epidemic in social networks",
          "compressible and learnable encryption for untrusted cloud environments",
          "did you take the pill? - detecting personal intake of medicine from twitter",
          "tracking the history and evolution of entities: entity-centric temporal analysis of large social media archives",
          "a multilayer network dataset of interaction and influence spreading in a virtual world",
          "latent viral marketing, concepts and control methods",
          "towards propagation uncertainty: edge-enhanced bayesian graph convolutional networks for rumor detection",
          "a survey on echo chambers on social media: description, detection and mitigation",
          "learning representation over dynamic graph using aggregation-diffusion mechanism",
          "fringe news networks: dynamics of us news viewership following the 2020 presidential election",
          "from #jobsearch to #mask: improving covid-19 cascade prediction with spillover effects",
          "transfer learning from lda to bilstm-cnn for offensive language detection in twitter",
          "containing misinformation spreading in temporal social networks",
          "predicting opinion dynamics via sociologically-informed neural networks",
          "emodnn: understanding emotions from short texts through a deep neural network ensemble",
          "polarization model of online social networks based on the concept of spontaneous symmetry breaking",
          "towards an augmented reality fourth generation social networks",
          "predicting human activities from user-generated content",
          "transgender community sentiment analysis from social media data: a natural language processing approach",
          "social sourcing: incorporating social networks into crowdsourcing contest design",
          "evolving nature of human contact networks with its impact on epidemic processes",
          "mitigating overexposure in viral marketing",
          "complex contagions: a decade in review",
          "cooperative coinfection dynamics on clustered networks",
          "exploring arsenic danger awareness in the polish copper basin via network simulation - preliminary results",
          "emotion correlation mining through deep learning models on natural language text",
          "clustering via information access in a network",
          "dynamics of the threshold model on hypergraphs",
          "woli at semeval-2020 task 12: arabic offensive language identification on different twitter datasets",
          "pysentimiento: a python toolkit for sentiment analysis and socialnlp tasks",
          "event-radar: real-time local event detection system for geo-tagged tweet streams",
          "how network properties and epidemic parameters influence stochastic sir dynamics on scale-free random networks",
          "adversarial threats to deepfake detection: a practical perspective",
          "modeling spatial trajectories using coarse-grained smartphone logs",
          "cyberthreat detection from twitter using deep neural networks",
          "information access equality on network generative models",
          "somin.ai: personality-driven content generation platform",
          "deep representation learning for clustering of health tweets",
          "fauxward: a graph neural network approach to fauxtography detection using social media comments",
          "multi-unit diffusion auctions with intermediaries",
          "epidemic prevalence information on social networks mediates emergent collective outcomes in voluntary vaccine schemes",
          "group emotion recognition using machine learning",
          "misinformation spreading on correlated multiplex networks",
          "deep learning guided android malware and anomaly detection",
          "people-centric computing and communications in smart cities",
          "the impact of covid-19 on flight networks",
          "activity maximization by effective information diffusion in social networks",
          "multi-granularity reasoning for social relation recognition from images",
          "ghmerti at semeval-2019 task 6: a deep word- and character-based approach to offensive language identification",
          "dani: a fast diffusion aware network inference algorithm",
          "rethinking defeasible reasoning: a scalable approach",
          "local information sources received the most attention from puerto ricans during the aftermath of hurricane maría",
          "a model for the influence of media on the ideology of content in online social networks",
          "towards a multi-agent system for online hate speech detection",
          "opinion dynamics theory for analysis of consensus formation and division of opinion on the internet",
          "evolving methods for evaluating and disseminating computing research",
          "cimtdetect: a community infused matrix-tensor coupled factorization based method for fake news detection",
          "a cnn-lstm-based hybrid deep learning approach to detect sentiment polarities on monkeypox tweets",
          "twitter bot detection using bidirectional long short-term memory neural networks and word embeddings",
          "social media usage patterns during natural hazards",
          "dynamic influence maximization",
          "remembering winter was coming: character-oriented video summaries of tv series",
          "vais hate speech detection system: a deep learning based approach for system combination",
          "deepfakes generation and detection: state-of-the-art, open challenges, countermeasures, and way forward",
          "integrity 2022: integrity in social networks and media",
          "overall evaluations on benefits of influence when disturbed by rivals",
          "mobile social services with network externality: from separate pricing to bundled pricing",
          "automatic rumor detection on microblogs: a survey",
          "a survey on influence maximization in a social network",
          "memefacegenerator: adversarial synthesis of chinese meme-face from natural sentences",
          "linky: visualizing user identity linkage results for multiple online social networks",
          "multiview deep learning for predicting twitter users' location",
          "are we always in strife? a longitudinal study of the echo chamber effect in the australian twittersphere",
          "gag: global attributed graph neural network for streaming session-based recommendation",
          "agent-based neutral competition in two-community networks",
          "cheating in online gaming spreads through observation and victimization",
          "sequential seeding in multilayer networks",
          "a graph theory approach to assess nature's contribution to people at a global scale",
          "ai-based approach for safety signals detection from social networks: application to the levothyrox scandal in 2017 on doctissimo forum",
          "subgraph nomination: query by example subgraph retrieval in networks",
          "unsupervised text mining of covid-19 records",
          "prediction of trending topics using anfis and deterministic models",
          "multi-level graph convolutional networks for cross-platform anchor link prediction",
          "interlayer link prediction in multiplex social networks based on multiple types of consistency between embedding vectors",
          "depressionnet: a novel summarization boosted deep framework for depression detection on social media",
          "a study on herd behavior using sentiment analysis in online social network",
          "identifying partisan slant in news articles and twitter during political crises",
          "coordinated behavior on social media in 2019 uk general election",
          "self-supervised learning from web data for multimodal retrieval",
          "efficient hierarchical clustering for classification and anomaly detection",
          "a replication strategy for mobile opportunistic networks based on utility clustering",
          "the gompertz growth of covid-19 outbreaks is caused by super-spreaders",
          "metadetector: meta event knowledge transfer for fake news detection",
          "bring your friend! real or virtual?",
          "investigating coordinated 'social' targeting of high-profile twitter accounts",
          "muboost: an effective method for solving indic multilingual text classification problem",
          "network modularity controls the speed of information diffusion",
          "parametric reshaping of portraits in videos",
          "cyber physical systems (cps) surveillance using an epidemic model",
          "physics graduate student employment: what we can learn from professional social media",
          "partisan asymmetries in exposure to misinformation",
          "the mass, fake news, and cognition security",
          "what sets verified users apart? insights, analysis and prediction of verified users on twitter",
          "nps-anticlone: identity cloning detection based on non-privacy-sensitive user profile data",
          "multimodal feature extraction for memes sentiment classification",
          "hierarchical fashion graph network for personalized outfit recommendation",
          "deap-faked: knowledge graph based approach for fake news detection",
          "measuring the impact of spammers on e-mail and twitter networks",
          "capturing edge attributes via network embedding",
          "analyzing worldwide social distancing through large-scale computer vision",
          "leveraging multiple relations for fashion trend forecasting based on social media",
          "cross-lingual cross-platform rumor verification pivoting on multimedia content",
          "a hub-and-spoke model for content-moderation-at-scale on an information-sharing platform",
          "deep learning approach for enhanced cyber threat indicators in twitter stream",
          "overview of checkthat! 2020: automatic identification and verification of claims in social media",
          "identifying coordinated accounts on social media through hidden influence and group behaviours",
          "super-blockers and the effect of network structure on information cascades",
          "facehack: triggering backdoored facial recognition systems using facial characteristics",
          "detecting transaction-based tax evasion activities on social media platforms using multi-modal deep neural networks",
          "learning and evaluating graph neural network explanations based on counterfactual and factual reasoning",
          "centrality with diversity",
          "scarlet: explainable attention based graph neural network for fake news spreader prediction",
          "moving the epidemic tipping point through topologically targeted social distancing",
          "optimal resource diffusion for suppressing disease spreading in multiplex networks",
          "challenges of growing social media networks from the bottom-up through the agent perspective",
          "adaptive interaction fusion networks for fake news detection",
          "using sentiment representation learning to enhance gender classification for user profiling",
          "measuring influence on instagram: a network-oblivious approach",
          "correlated feature selection for tweet spam classification",
          "leveraging transformers for hate speech detection in conversational code-mixed tweets",
          "it's always april fools' day! on the difficulty of social network misinformation classification via propagation features",
          "fast influencers in complex networks",
          "information evolution in complex networks",
          "cognitive cascades: how to model (and potentially counter) the spread of fake news",
          "epidemics on networks: reducing disease transmission using health emergency declarations and peer communication",
          "humaid: human-annotated disaster incidents data from twitter with deep learning benchmarks",
          "bias-resistant social news aggregator based on blockchain",
          "twhin: embedding the twitter heterogeneous information network for personalized recommendation",
          "gradient method for continuous influence maximization with budget-saving considerations",
          "a generalized bass model for product growth in networks",
          "generating simple directed social network graphs for information spreading",
          "ginger cannot cure cancer: battling fake health news with a comprehensive data repository",
          "observing responses to the covid-19 pandemic using worldwide network cameras",
          "blag: bandit on large action set graph",
          "a case study and qualitative analysis of simple cross-lingual opinion mining",
          "modeling political activism around gun debate via social media",
          "checkovid: a covid-19 misinformation detection system on twitter using network and content mining perspectives",
          "a robust deep ensemble classifier for figurative language detection",
          "dgsvis: visual analysis of hierarchical snapshots in dynamic graph",
          "faketagger: robust safeguards against deepfake dissemination via provenance tracking",
          "monitoring energy trends through automatic information extraction",
          "the impact of social curiosity on information spreading on networks",
          "random networks with heterogeneous reciprocity",
          "an innovative word encoding method for text classification using convolutional neural network",
          "dynamic routing for social information sharing",
          "msnet: a multilevel instance segmentation network for natural disaster damage assessment in aerial videos",
          "location and audience selection for maximizing social influence",
          "analyzing temporal relationships between trending terms on twitter and urban dictionary activity",
          "pay attention to emoji: feature fusion network with emograph2vec model for sentiment analysis",
          "a survey of location prediction on twitter",
          "social influence and unfollowing accelerate the emergence of echo chambers",
          "information consumption and boundary spanning in decentralized online social networks: the case of mastodon users",
          "the complexity of social media response: statistical evidence for one-dimensional engagement signal in twitter",
          "leveraging users' social network embeddings for fake news detection on twitter",
          "smart wireless communication is the cornerstone of smart infrastructures",
          "multimodal model with text and drug embeddings for adverse drug reaction classification",
          "fake news mitigation via point process based intervention",
          "strategic seeding of rival opinions",
          "joint learning of pre-trained and random units for domain adaptation in part-of-speech tagging",
          "fake news detection on social media using geometric deep learning",
          "contextual bandits for advertising campaigns: a diffusion-model independent approach (extended version)",
          "embracing domain differences in fake news: cross-domain fake news detection using multi-modal data",
          "temporal nuances of coordination network semantics",
          "sharing emotions at scale: the vent dataset",
          "composite behavioral modeling for identity theft detection in online social networks",
          "agent based rumor spreading in a scale-free network",
          "from senseless swarms to smart mobs: tuning networks for prosocial behaviour",
          "automatic extraction of urban outdoor perception from geolocated free-texts",
          "attributed multi-relational attention network for fact-checking url recommendation",
          "modeling social readers: novel tools for addressing reception from online book reviews",
          "a text classification framework for simple and effective early depression detection over social media streams",
          "a multi-task approach for named entity recognition in social media data",
          "influence of temporal aspects and age-correlations on the process of opinion formation based on polish contact survey",
          "understanding web archiving services and their (mis)use on social media",
          "playing with thresholds on the forward linear threshold rank",
          "network psychometrics and cognitive network science open new ways for detecting, understanding and tackling the complexity of math anxiety: a review",
          "u.s. social fragmentation at multiple scales",
          "big data for social sciences: measuring patterns of human behavior through large-scale mobile phone data",
          "claim: curriculum learning policy for influence maximization in unknown social networks",
          "deepcp: deep learning driven cascade prediction based autonomous content placement in closed social network",
          "online competitive influence maximization",
          "abusive language detection in online conversations by combining content-and graph-based features",
          "hashkat: large-scale simulations of online social networks",
          "social diffusion sources can escape detection",
          "optimization of coupling and global collapse in diffusively coupled socio-ecological resource exploitation networks",
          "covid-19 epidemic under the k-quarantine model: network approach",
          "a viral marketing-based model for opinion dynamics in online social networks",
          "eight years of homicide evolution in monterrey, mexico: a network approach",
          "task-driven sampling of attributed networks",
          "high-resolution home location prediction from tweets using deep learning with dynamic structure",
          "hidden dependence of spreading vulnerability on topological complexity",
          "cognitive systems approach to smart cities",
          "an army of me: sockpuppets in online discussion communities",
          "suicidal ideation and mental disorder detection with attentive relation networks",
          "social networks analysis to retrieve critical comments on online platforms",
          "a spectral method for activity shaping in continuous-time information cascades",
          "does yoga make you happy? analyzing twitter user happiness using textual and temporal information",
          "interpretable business survival prediction",
          "measuring disparate outcomes of content recommendation algorithms with distributional inequality metrics",
          "explosive transitions induced by interdependent contagion-consensus dynamics in multiplex networks",
          "using deep neural networks to translate multi-lingual threat intelligence",
          "identifying emergency stages in facebook posts of police departments with convolutional and recurrent neural networks and support vector machines",
          "impact of presymptomatic transmission on epidemic spreading in contact networks: a dynamic message-passing analysis",
          "changes from classical statistics to modern statistics and data science",
          "controlling graph dynamics with reinforcement learning and graph neural networks",
          "seasonal payoff variations and the evolution of cooperation in social dilemmas",
          "semantic classification of tabular datasets via character-level convolutional neural networks",
          "weighted h-index for identifying influential spreaders",
          "public risk perception and emotion on twitter during the covid-19 pandemic",
          "probabilistic social learning improves the public's detection of misinformation",
          "structural and temporal heterogeneities on networks",
          "a vector logistic dynamical approach to epidemic evolution on interacting social-contact and production-capacity graphs",
          "diffusion, influence and best-response dynamics in networks: an action model approach",
          "social influences in recommendation systems",
          "prevalence and scalable control of localized networks",
          "temporal graph kernels for classifying dissemination processes",
          "a tutorial on event detection using social media data analysis: applications, challenges, and open problems",
          "an information diffusion approach to rumor propagation and identification on twitter",
          "quarc: quaternion multi-modal fusion architecture for hate speech classification",
          "mcdiarmid drift detection methods for evolving data streams",
          "social data analysis: a study on friend rating influence",
          "qactor: on-line active learning for noisy labeled stream data",
          "vaccination with partial transmission and social distancing on contact networks",
          "deep-disaster: unsupervised disaster detection and localization using visual data",
          "face-off: adversarial face obfuscation",
          "uncritical polarized groups: the impact of spreading fake news as fact in social networks",
          "network infusion to infer information sources in networks",
          "deepsketch2face: a deep learning based sketching system for 3d face and caricature modeling",
          "connected but segregated: social networks in rural villages",
          "social media polarization and echo chambers in the context of covid-19: case study",
          "group based centrality for immunization of complex networks",
          "p2pgnn: a decentralized graph neural network for node classification in peer-to-peer networks",
          "leveraging the crowd to detect and reduce the spread of fake news and misinformation",
          "visual analysis of photo policy misconfigurations using treemaps",
          "d2d-lstm based prediction of the d2d diffusion path in mobile social networks",
          "impact of confirmation bias on competitive information spread in social networks",
          "eye of the mind: image processing for social coding",
          "similarity learning for authorship verification in social media",
          "using social network and semantic analysis to analyze online travel forums and forecast tourism demand",
          "balancing information exposure in social networks",
          "detecting contagious spreading of urban innovations on the global city network",
          "survey of nlp in pharmacology: methodology, tasks, resources, knowledge, and tools",
          "inside the echo chamber: disentangling network dynamics from polarization",
          "penetrating a social network: the follow-back problem",
          "validation of twitter opinion trends with national polling aggregates: hillary clinton vs donald trump",
          "learning shared semantic space with correlation alignment for cross-modal event retrieval",
          "diffusion and auction on graphs",
          "signed latent factors for spamming activity detection",
          "capsule-forensics: using capsule networks to detect forged images and videos",
          "scrank: spammer and celebrity ranking in directed social networks",
          "antivax movement and epidemic spreading in the era of social networks: nonmonotonic effects, bistability and network segregation",
          "weakly-supervised fine-grained event recognition on social media texts for disaster management",
          "learnability of competitive threshold models",
          "rwn: robust watermarking network for image cropping localization",
          "automatic image stylization using deep fully convolutional networks",
          "long-range connections, real-world networks and rates of diffusion",
          "deep multi-modality soft-decoding of very low bit-rate face videos",
          "danish stance classification and rumour resolution",
          "fast few shot self-attentive semi-supervised political inclination prediction",
          "controlling epidemic spread using probabilistic diffusion models on networks",
          "a framework for pre-processing of social media feeds based on integrated local knowledge base",
          "\"double vaccinated, 5g boosted!\": learning attitudes towards covid-19 vaccination from social media",
          "simplicial complexes: higher-order spectral dimension and dynamics",
          "co.me.t.a. -- covid-19 media textual analysis. a dashboard for media monitoring",
          "a friend recommendation system using semantic based knn algorithm",
          "cross-media keyphrase prediction: a unified framework with multi-modality multi-head attention and image wordings",
          "a logical framework for verifying privacy breaches of social networks",
          "new models and methods for formation and analysis of social networks",
          "word frequency and sentiment analysis of twitter messages during coronavirus pandemic",
          "opinion maximization in social trust networks",
          "the role of the big geographic sort in the circulation of misinformation among u.s. reddit users",
          "uncovering coordinated networks on social media: methods and case studies",
          "representing social networks as dynamic heterogeneous graphs",
          "emh: extended mixing h-index centrality for identification important users in social networks based on neighborhood diversity",
          "predicting diffusion reach probabilities via representation learning on social networks",
          "personalized multi-faceted trust modeling to determine trust links in social media and its potential for misinformation management",
          "sign: scalable inception graph neural networks",
          "photo filter recommendation by category-aware aesthetic learning",
          "identifying crisis response communities in online social networks for compound disasters: the case of hurricane laura and covid-19",
          "matching community structure across online social networks",
          "neural parameter calibration for large-scale multi-agent models",
          "bangla text classification using transformers",
          "sneak into devil's colony- a study of fake profiles in online social networks and the cyber law",
          "misogynistic tweet detection: modelling cnn with small datasets",
          "balancing the spread of two opinions in sparse social networks",
          "a systematic literature review about idea mining: the use of machine-driven analytics to generate ideas",
          "the size conundrum: why online knowledge markets can fail at scale",
          "outdoorsent: sentiment analysis of urban outdoor images by using semantic and deep features",
          "maximizing welfare in social networks under a utility driven influence diffusion model",
          "connected learning, collapsed contexts",
          "a case study of chinese sentiment analysis on social media reviews based on lstm",
          "evidential temporal-aware graph-based social event detection via dempster-shafer theory",
          "steghash: new method for information hiding in open social networks",
          "opinion diffusion software with strategic opinion revelation and unfriending",
          "mitigating the backfire effect using pacing and leading",
          "are anti-feminist communities gateways to the far right? evidence from reddit and youtube",
          "characterizing and predicting supply-side engagement on crowd-contributed video sharing platforms",
          "trollslayer: crowdsourcing and characterization of abusive birds in twitter",
          "cascades: a view from audience",
          "pattern and anomaly detection in urban temporal networks",
          "modeling food popularity dependencies using social media data",
          "corrective information does not necessarily curb social disruption",
          "use of a controlled experiment and computational models to measure the impact of sequential peer exposures on decision making",
          "from crowdsourcing to crowdmining: using implicit human intelligence for better understanding of crowdsourced data",
          "network representation learning: a survey",
          "a cross-repository model for predicting popularity in github",
          "motif discovery algorithms in static and temporal networks: a survey",
          "modeling interconnected social and technical risks in open source software ecosystems",
          "predicting users' value changes by the friends' influence from social media usage",
          "exposing individual differences through network topology",
          "visualizing collective idea generation and innovation processes in social networks",
          "understanding global reaction to the recent outbreaks of covid-19: insights from instagram data analysis",
          "automated email generation for targeted attacks using natural language",
          "gender prediction in english-hindi code-mixed social media content : corpus and baseline system",
          "an automated pipeline for character and relationship extraction from readers' literary book reviews on goodreads.com",
          "smart information spreading for opinion maximization in social networks",
          "youtube ad view sentiment analysis using deep learning and machine learning",
          "predicting the role of political trolls in social media",
          "blockchain for the metaverse: a review",
          "predicting enterprise cyber incidents using social network analysis on the darkweb hacker forums",
          "interpretable rumor detection in microblogs by attending to user interactions",
          "modeling spatial social complex networks for dynamical processes",
          "modelling excess mortality in covid-19-like epidemics",
          "learning word representations for tunisian sentiment analysis",
          "emerging methods of auction design in social networks",
          "evolution of the political opinion landscape during electoral periods",
          "topic-based influence computation in social networks under resource constraints",
          "herd behaviors in epidemics: a dynamics-coupled evolutionary games approach",
          "tattoo image search at scale: joint detection and compact representation learning",
          "automatic argumentative-zoning using word2vec",
          "network and agent dynamics with evolving protection against systemic risk",
          "traffic-twitter transformer: a nature language processing-joined framework for network-wide traffic forecasting",
          "continuous influence-based community partition for social networks",
          "using blockchain to rein in the new post-truth world and check the spread of fake news",
          "identifying the topology of undirected networks from diffused non-stationary graph signals",
          "neural latent space model for dynamic networks and temporal knowledge graphs",
          "revenue maximization in incentivized social advertising",
          "navigation objects extraction for better content structure understanding",
          "voting-based opinion maximization",
          "where do you want to invest? predicting startup funding from freely, publicly available web information",
          "weakening the inner strength: spotting core collusive users in youtube blackmarket network",
          "how to estimate epidemic risk from incomplete contact diaries data?",
          "recursive patterns in online echo chambers",
          "competing spreading dynamics in simplicial complex",
          "knowledge graph-enabled text-based automatic personality prediction",
          "sense-giving strategies of media organisations in social media disaster communication: findings from hurricane harvey",
          "multi-source data fusion outage location in distribution systems via probabilistic graph models",
          "socialgcn: an efficient graph convolutional network based model for social recommendation",
          "compelling evidence of oscillatory behaviour of hadronic multiplicities in the shifted gompertz distribution",
          "dasc: towards a road damage-aware social-media-driven car sensing framework for disaster response applications",
          "social discrete choice models",
          "thinking in frequency: face forgery detection by mining frequency-aware clues",
          "modeling implicit communities using spatio-temporal point processes from geo-tagged event traces",
          "abusive language detection and characterization of twitter behavior",
          "social explorative attention based recommendation for content distribution platforms",
          "emtagger: a word embedding based novel method for hashtag recommendation on twitter",
          "image2song: song retrieval via bridging image content and lyric words",
          "approximation algorithms for graph burning",
          "ties: temporal interaction embeddings for enhancing social media integrity at facebook",
          "text-mining forma mentis networks reconstruct public perception of the stem gender gap in social media",
          "instagram filter removal on fashionable images",
          "characterising different communities of twitter users: migrants and natives",
          "analysing social media network data with r: semi-automated screening of users, comments and communication patterns",
          "social network analysis using coordination games",
          "reporting revenge porn: a preliminary expert analysis",
          "combinatorial trace method for network immunization",
          "improving rnn transducer based asr with auxiliary tasks",
          "using twitter attribute information to predict stock prices",
          "automatic identification and ranking of emergency aids in social media macro community",
          "a cross-platform collection of social network profiles",
          "a study of whatsapp usage patterns and prediction models without message content",
          "deep neural networks in fully connected crf for image labeling with social network metadata",
          "tensor factorization with label information for fake news detection",
          "controlling fake news by tagging: a branching process analysis",
          "detecting cyberbullying and cyberaggression in social media",
          "violence detection in videos",
          "amobee at semeval-2019 tasks 5 and 6: multiple choice cnn over contextual embedding",
          "a deep dive into the consistently toxic 1% of twitter",
          "multi-auxiliary augmented collaborative variational auto-encoder for tag recommendation",
          "calling to cnn-lstm for rumor detection: a deep multi-channel model for message veracity classification in microblogs",
          "on the submodularity of diffusion models: equivalent conditions and applications",
          "a spreader ranking algorithm for extremely low-budget influence maximization in social networks using community bridge nodes",
          "fairness across network positions in cyberbullying detection algorithms",
          "attention-based method for categorizing different types of online harassment language",
          "hot streaks on social media",
          "neural contrastive clustering: fully unsupervised bias reduction for sentiment classification",
          "sentiment analysis of online travel reviews based on capsule network and sentiment lexicon",
          "utilizing neural networks and linguistic metadata for early detection of depression indications in text sequences",
          "fine-grained prediction of political leaning on social media with unsupervised deep learning",
          "social interactions affect discovery processes",
          "opinion formation in multiplex networks with general initial distributions",
          "concurrency-induced transitions in epidemic dynamics on temporal networks",
          "simulation and application of covid-19 compartment model using physics-informed neural network",
          "unsupervised domain adaptation with global and local graph neural networks in limited labeled data scenario: application to disaster management",
          "meta-analysis of the accuracy of syndromic surveillance",
          "ego-graph replay based continual learning for misinformation engagement prediction",
          "measuring the impact of influence on individuals: roadmap to quantifying attitude",
          "producing augmentation-invariant embeddings from real-life imagery",
          "normalizing text using language modelling based on phonetics and string similarity",
          "self-induced consensus of reddit users to characterise the gamestop short squeeze",
          "the block point process model for continuous-time event-based dynamic networks",
          "dancing to the partisan beat: a first analysis of political communication on tiktok",
          "understanding the twitter usage of humanities and social sciences academic journals",
          "gcnet: graph completion network for incomplete multimodal learning in conversation",
          "wechat uptake of chinese scholarly journals: an analysis of cssci-indexed journals",
          "fake news detection tools and methods -- a review",
          "modeling epidemic spreading through public transit using time-varying encounter network",
          "#brexit: leave or remain? the role of user's community and diachronic evolution on stance detection",
          "sparsity-aware neural user behavior modeling in online interaction platforms",
          "you too brutus! trapping hateful users in social media: challenges, solutions & insights",
          "mmga: multimodal learning with graph alignment",
          "stackemo-towards enhancing user experience by augmenting stack overflow with emojis",
          "measuring diversity in heterogeneous information networks",
          "impact of indirect contacts in emerging infectious disease on social networks",
          "modeling image virality with pairwise spatial transformer networks",
          "understanding the limitations of network online learning",
          "fake news propagate differently from real news even at early stages of spreading",
          "multi-modality deep restoration of extremely compressed face videos",
          "\"way back then\": a data-driven view of 25+ years of web evolution",
          "applications of knowledge graphs for food science and industry",
          "pocketcare: tracking the flu with mobile phones using partial observations of proximity and symptoms",
          "controlling elections through social influence",
          "c19-tranet: an empirical, global index-case transmission network of sars-cov-2",
          "characterizing the 2022 russo-ukrainian conflict through the lenses of aspect-based sentiment analysis: dataset, methodology, and preliminary findings",
          "social distancing and epidemic resurgence in agent-based susceptible-infectious-recovered models",
          "on the privacy of dk-random graphs",
          "an innovation diffusion model of a local electricity network that is influenced by internal and external factors",
          "social shaping of information infrastructure: on being specific about the technology",
          "spread, then target, and advertise in waves: optimal budget allocation across advertising channels",
          "fake news detection through graph comment advanced learning",
          "portuguese man-of-war image classification with convolutional neural networks",
          "deepfirearm: learning discriminative feature representation for fine-grained firearm retrieval",
          "nlp-cuet@dravidianlangtech-eacl2021: investigating visual and textual features to identify trolls from multimodal social media memes",
          "fashionbrain project: a vision for understanding europe's fashion data universe",
          "social interaction layers in complex networks for the dynamical epidemic modeling of covid-19 in brazil",
          "epidemic oscillations induced by social network control: the discontinuous case",
          "peer-to-peer based social networks: a comprehensive survey",
          "theories for influencer identification in complex networks",
          "infectivity enhances prediction of viral cascades in twitter",
          "spatial super-spreaders and super-susceptibles in human movement networks",
          "character networks and book genre classification",
          "detecting group beliefs related to 2018's brazilian elections in tweets a combined study on modeling topics and sentiment analysis",
          "quantum advantage for differential equation analysis",
          "recurrent neural network based part-of-speech tagger for code-mixed social media text",
          "modeling partial lockdowns in multiplex networks using partition strategies",
          "what increases (social) media attention: research impact, author prominence or title attractiveness?",
          "new normal: cooperative paradigm for covid-19 timely detection and containment using internet of things and deep learning",
          "random walks with erasure: diversifying personalized recommendations on social and information networks",
          "estimating network structure from incomplete event data",
          "volume explored by a branching random walk on general graphs",
          "e2eg: end-to-end node classification using graph topology and text-based node attributes",
          "sentiment analysis and effect of covid-19 pandemic using college subreddit data",
          "controllability of social networks and the strategic use of random information",
          "fair airtime allocation for content dissemination in wifi-direct-based mobile social networks",
          "stopping explosion by penalising transmission to hubs in scale-free spatial random graphs",
          "do we really need to catch them all? a new user-guided social media crawling method",
          "an autonomous approach to measure social distances and hygienic practices during covid-19 pandemic in public open spaces",
          "quantifying urban road network vulnerability and resilience to attacks",
          "web application for collaborative semantic web information architecture",
          "on event causality detection in tweets",
          "constructive and toxic speech detection for open-domain social media comments in vietnamese",
          "long-term dynamics of fairness intervention in connection recommender systems",
          "inf-vae: a variational autoencoder framework to integrate homophily and influence in diffusion prediction",
          "discovering small target sets in social networks: a fast and effective algorithm",
          "attestnet -- an attention and subword tokenization based approach for code-switched text hate speech detection",
          "photos and tags: a method to evaluate privacy behavior",
          "continuous activity maximization in online social networks",
          "point-of-interest type prediction using text and images",
          "characterizing behavioral trends in a community driven discussion platform",
          "to what extent homophily and influencer networks explain song popularity",
          "predicting the popularity of reddit posts with ai",
          "spatial structure and information transfer in visual networks",
          "influence of namo app on twitter",
          "a graph-based modelling of epidemics: properties, simulation, and continuum limit",
          "tunizi: a tunisian arabizi sentiment analysis dataset",
          "universal dependencies parsing for colloquial singaporean english",
          "a smart security system with face recognition",
          "political propagation of social botnets: policy consequences",
          "sequential event detection using multimodal data in nonstationary environments",
          "combination of domain knowledge and deep learning for sentiment analysis of short and informal messages on social media",
          "rcelf: a residual-based approach for influence maximization problem",
          "do diffusion protocols govern cascade growth?",
          "reputation analysis of news sources in twitter: particular case of spanish presidential election in 2019",
          "online emotions during the storming of the u.s. capitol: evidence from the social media network parler",
          "\"attention\" for detecting unreliable news in the information age",
          "local edge dynamics and opinion polarization",
          "ingesting high-velocity streaming graphs from social media sources",
          "successful new-entry prediction for multi-party online conversations via latent topics and discourse modeling",
          "this just in: fake news packs a lot in title, uses simpler, repetitive content in text body, more similar to satire than real news",
          "simplicial models of social contagion",
          "gim: gpu accelerated ris-based influence maximization algorithm",
          "epidemic spreading in populations of mobile agents with adaptive behavioral response",
          "detecting gan-generated imagery using color cues",
          "the effects of diffusion of information on epidemic spread -- a multilayer approach",
          "rumor source detection under querying with untruthful answers",
          "two-pathogen model with competition on clustered networks",
          "distributional semantics approach to detect intent in twitter conversations on sexual assaults",
          "learning-based link prediction analysis for facebook100 network",
          "streaming social event detection and evolution discovery in heterogeneous information networks",
          "a study of fake news reading and annotating in social media context",
          "bd-shs: a benchmark dataset for learning to detect online bangla hate speech in different social contexts",
          "reliable and efficient long-term social media monitoring",
          "optimize_prime@dravidianlangtech-acl2022: emotion analysis in tamil",
          "a heterogeneous graphical model to understand user-level sentiments in social media",
          "do they all look the same? deciphering chinese, japanese and koreans by fine-grained deep learning",
          "automatic image filtering on social networks using deep learning and perceptual hashing during crises",
          "false news on social media: a data-driven survey",
          "are gan generated images easy to detect? a critical analysis of the state-of-the-art",
          "detecting group anomalies in tera-scale multi-aspect data via dense-subtensor mining",
          "understanding perceptions of problematic facebook use: when people experience negative life impact and a lack of control",
          "upscaling human activity data: an ecological perspective",
          "sentiment analysis of microblogging dataset on coronavirus pandemic",
          "opinion conflicts: an effective route to detect incivility in twitter",
          "importance of initial conditions in the polarization of complex networks",
          "improving cyberbully detection with user interaction",
          "a quantitative portrait of wikipedia's high-tempo collaborations during the 2020 coronavirus pandemic",
          "evaluating deep learning approaches for covid19 fake news detection",
          "i-aid: identifying actionable information from disaster-related tweets",
          "early detection of promoted campaigns on social media",
          "balancing quarantine and self-distancing measures in adaptive epidemic networks",
          "scratch as social network: topic modeling and sentiment analysis in scratch projects",
          "a multi-layer approach to disinformation detection on twitter",
          "not all interventions are equal for the height of the second peak",
          "systematically monitoring social media: the case of the german federal election 2017",
          "pole: polarized embedding for signed networks",
          "finding qs: profiling qanon supporters on parler",
          "deep learning analysis and age prediction from shoeprints",
          "the effect of co-location on human communication networks",
          "automatic ensemble learning for online influence maximization",
          "ghostlink: latent network inference for influence-aware recommendation",
          "efficient vaccination strategies for epidemic control using network information",
          "scalable influence estimation without sampling",
          "multimodal sentiment analysis to explore the structure of emotions",
          "farmer-bot: an interactive bot for farmers",
          "the geography of open source software: evidence from github",
          "conspiracy vs science: a large-scale analysis of online discussion cascades",
          "analyzing wikipedia membership dataset and predictingunconnected nodes in the signed networks",
          "#secim2023: first public dataset for studying turkish general election",
          "importance sketching of influence dynamics in billion-scale networks",
          "a location-sentiment-aware recommender system for both home-town and out-of-town users",
          "discovering topical interactions in text-based cascades using hidden markov hawkes processes",
          "context-aware attention for understanding twitter abuse",
          "bert transformer model for detecting arabic gpt2 auto-generated tweets",
          "netspam: a network-based spam detection framework for reviews in online social media",
          "habituation effect in social networks as a potential factor silently crushing influence maximisation efforts",
          "image credibility analysis with effective domain transferred deep networks",
          "weak dynamic monopolies in social graphs",
          "a customisable pipeline for continuously harvesting socially-minded twitter users",
          "citizens' emotion on gst: a spatio-temporal analysis over twitter data",
          "a framework for quantifying controversy of social network debates using attributed networks: biased random walk (brw)",
          "social media usage in kuwait: a comparison of perspectives between healthcare practitioners and patients",
          "trend alert: how a cross-platform organization manipulated twitter trends in the indian general election",
          "deep two-path semi-supervised learning for fake news detection",
          "iust at semeval-2020 task 9: sentiment analysis for code-mixed social media text using deep neural networks and linear baselines",
          "unsupervised learning of parsimonious general-purpose embeddings for user and location modelling",
          "analyzing image-based political propaganda in referendum campaigns: from elements to strategies",
          "multivariate relations aggregation learning in social networks",
          "homophily on social networks changes evolutionary advantage in competitive information diffusion",
          "belief control strategies for interactions over weakly-connected graphs",
          "preserving privacy enables \"co-existence equilibrium\" of competitive diffusion in social networks",
          "joint autoregressive and graph models for software and developer social networks",
          "attending the emotions to detect online abusive language",
          "a decentralized trust-aware collaborative filtering recommender system based on weighted items for social tagging systems",
          "multiplex influence maximization in online social networks with heterogeneous diffusion models",
          "continuous-time relationship prediction in dynamic heterogeneous information networks",
          "twittermancer: predicting interactions on twitter accurately",
          "exploring the public reaction to covid-19 news on social media in portugal",
          "a multi-opinion based method for quantifying polarization on social networks",
          "the geographic spread of covid-19 correlates with the structure of social networks as measured by facebook",
          "spatial heterogeneity can lead to substantial local variations in covid-19 timing and severity",
          "understanding and forecasting lifecycle events in information cascades",
          "search engine drives the evolution of social networks",
          "characterizing and detecting hateful users on twitter",
          "improving automatic hate speech detection with multiword expression features",
          "graph neural network enhanced language models for efficient multilingual text classification",
          "deep learning approach for intelligent named entity recognition of cyber security",
          "psycho-linguistic differences among competing vaccination communities on social media",
          "steering social activity: a stochastic optimal control point of view",
          "a k-hop collaborate game model: extended to community budgets and adaptive non-submodularity",
          "machine learning-based automatic annotation and detection of covid-19 fake news",
          "graphse\n2\n: an encrypted graph database for privacy-preserving social search",
          "controlling distant contacts to reduce disease spreading on disordered complex networks",
          "human-centered emotion recognition in animated gifs",
          "news sharing networks expose information polluters on social media",
          "dynamics of cascades on burstiness-controlled temporal networks",
          "on credit-based incentive mechanisms of voluntary user comment reviewing in social networks",
          "survey of generative methods for social media analysis",
          "multi-task domain adaptation for sequence tagging",
          "diffusion of innovation over social networks under limited-trust equilibrium",
          "improving rotated text detection with rotation region proposal networks",
          "efficient limited-time reachability estimation in temporal networks",
          "gcn-alp: addressing matching collisions in anchor link prediction",
          "multivariate spatiotemporal hawkes processes and network reconstruction",
          "optimal vaccine roll-out strategies with respect to social distancing measures for sars-cov-2 pandemic",
          "influence maximization in unknown social networks: learning policies for effective graph sampling",
          "comparing community-aware centrality measures in online social networks",
          "network model and analysis of the spread of covid-19 with social distancing",
          "sentiment analysis with r: natural language processing for semi-automated assessments of qualitative data",
          "a bayesian social platform for inclusive and evidence-based decision making",
          "a deep hybrid model for recommendation systems",
          "tweet moodifier: towards giving emotional awareness to twitter users",
          "deep fake detection: survey of facial manipulation detection solutions",
          "a graph model with indirect co-location links",
          "multiple accounts detection on facebook using semi-supervised learning on graphs",
          "characterizing spontaneous ideation contest on social media: case study on the name change of facebook to meta",
          "regulating competition in age of information under network externalities",
          "political homophily in independence movements: analysing and classifying social media users by national identity",
          "burning two worlds: algorithms for burning dense and tree-like graphs",
          "flipping the perspective in contact tracing",
          "generalized equivariance and preferential labeling for gnn node classification",
          "crisisbert: a robust transformer for crisis classification and contextual crisis embedding",
          "local topological moves determine global diffusion properties of hyperbolic higher-order networks",
          "cyberbullying detection in social networks using deep learning based models; a reproducibility study",
          "applying text mining to protest stories as voice against media censorship",
          "spectral methods for immunization of large networks",
          "social science guided feature engineering: a novel approach to signed link analysis",
          "threat from being social: vulnerability analysis of social network coupled smart grid",
          "epidemic growth and griffiths effects on an emergent network of excited atoms",
          "influencers identification in complex networks through reaction-diffusion dynamics",
          "global sentiment analysis of covid-19 tweets over time",
          "deepfake representation with multilinear regression",
          "brexit and bots: characterizing the behaviour of automated accounts on twitter during the uk election",
          "audio style transfer",
          "a random algorithm for profit maximization with multiple adoptions in online social networks",
          "using social media background to improve cold-start recommendation deep models",
          "modelling control strategies against classical swine fever: influence of traders and markets using static and temporal networks in ecuador",
          "analysing twitter semantic networks: the case of 2018 italian elections",
          "on distributed algorithms for minimum dominating set problem, from theory to application",
          "target set selection parameterized by vertex cover and more",
          "unleashing the power of hashtags in tweet analytics with distributed framework on apache storm",
          "characterising communities of twitter users who posted vaccines related tweets by information sources",
          "user identification across social networking sites using user profiles and posting patterns",
          "nash equilibrium in social media",
          "the reachability of contagion in temporal contact networks: how disease latency can exploit the rhythm of human behavior",
          "collaborative filtering with topic and social latent factors incorporating implicit feedback",
          "internet of things (iot) and cloud computing enabled disaster management",
          "harnessing the power of ego network layers for link prediction in online social networks",
          "making sense of unstructured text data",
          "necessary and sufficient budgets in information source finding with querying: adaptivity gap",
          "false: fake news automatic and lightweight solution",
          "i'll be back: examining restored accounts on twitter",
          "on the aggression diffusion modeling and minimization in online social networks",
          "transformer-based classification of premise in tweets related to covid-19",
          "smart crawling: a new approach toward focus crawling from twitter",
          "clearumor at semeval-2019 task 7: convolving elmo against rumors",
          "building a location-based set of social media users",
          "stance detection with bert embeddings for credibility analysis of information on social media",
          "stay with your community: bridges between clusters trigger expansion of covid-19",
          "graph-based modeling of online communities for fake news detection",
          "temporal graph signal decomposition",
          "trust-based dynamic linear threshold models for non-competitive and competitive influence propagation",
          "detection of violent extremists in social media",
          "an agent-based model of message propagation in the facebook electronic social network",
          "offensive language identification in low-resourced code-mixed dravidian languages using pseudo-labeling",
          "visual sentiment analysis from disaster images in social media",
          "exposing twitter users to contrarian news",
          "an integrated framework for competitive multi-channel marketing of multi-featured products",
          "stochastic epidemic networks with strategic link formation",
          "effects of social ties in knowledge diffusion: case study on plos one",
          "optimal decisions of a rational agent in the presence of biased information providers",
          "impossible by conventional means: ten years on from the darpa red balloon challenge",
          "intweetive text summarization",
          "robust and scalable entity alignment in big data",
          "h-vgrae: a hierarchical stochastic spatial-temporal embedding method for robust anomaly detection in dynamic networks",
          "long-range event-level prediction and response simulation for urban crime and global terrorism with granger networks",
          "popular topics spread faster: new dimension for influence propagation in online social networks",
          "estimating the state of epidemics spreading with graph neural networks",
          "analysis of social media data using multimodal deep learning for disaster response",
          "real-time influence maximization on dynamic social streams",
          "lexicon-constrained copying network for chinese abstractive summarization",
          "beautiful and damned. combined effect of content quality and social ties on user engagement",
          "modeling and optimization of latency in erasure-coded storage systems",
          "analysing the social spread of behaviour: integrating complex contagions into network based diffusions",
          "modeling of information diffusion on social networks with applications to wechat",
          "dynamic deep multi-modal fusion for image privacy prediction",
          "fake news detection in social media using graph neural networks and nlp techniques: a covid-19 use-case",
          "tbcov: two billion multilingual covid-19 tweets with sentiment, entity, geo, and gender labels",
          "contact activity and dynamics of the online elite",
          "co-diffusion of social contagions",
          "optimising sars-cov-2 pooled testing strategies on social networks for low-resource settings",
          "modeling and performance of uplink cache-enabled massive mimo heterogeneous networks",
          "characterizing the 2016 russian ira influence campaign",
          "ndlib: a python library to model and analyze diffusion processes over complex networks",
          "understanding service integration of online social networks: a data-driven study",
          "effective influence spreading in temporal networks with sequential seeding",
          "#isis vs #actioncountersterrorism: a computational analysis of extremist and counter-extremist twitter narratives",
          "the spatial dissemination of covid-19 and associated socio-economic consequences",
          "identifying depression on twitter",
          "tracking infection diffusion in social networks: filtering algorithms and threshold bounds",
          "end-to-end learning for short text expansion",
          "a first look at zoombombing",
          "demographic confounding causes extreme instances of lifestyle politics on facebook",
          "identify influential nodes in online social network for brand communication",
          "gundapusunil at semeval-2020 task 9: syntactic semantic lstm architecture for sentiment analysis of code-mixed data",
          "early identification of pathogenic social media accounts",
          "news labeling as early as possible: real or fake?",
          "unibuckernel: geolocating swiss german jodels using ensemble learning",
          "machine learning towards intelligent systems: applications, challenges, and opportunities",
          "centralities in complex networks",
          "an approach for time-aware domain-based social influence prediction",
          "polysemous visual-semantic embedding for cross-modal retrieval",
          "#lockdown: network-enhanced emotional profiling at the times of covid-19",
          "uncertainty estimation for community standards violation in online social networks",
          "do you do yoga? understanding twitter users' types and motivations using social and textual information",
          "covid-19 spreading under containment actions",
          "deeptrust: a deep learning approach for measuring social media users trustworthiness",
          "social groups based content caching in wireless networks",
          "learning social circles in ego networks based on multi-view social graphs",
          "cuda-self-organizing feature map based visual sentiment analysis of bank customer complaints for analytical crm",
          "touplegdd: a fine-designed solution of influence maximization by deep reinforcement learning",
          "influence of trust in the spreading of information",
          "qanon propaganda on twitter as information warfare: influencers, networks, and narratives",
          "deep exogenous and endogenous influence combination for social chatter intensity prediction",
          "exploratory analysis of covid-19 tweets using topic modeling, umap, and digraphs",
          "composite community-aware diversified influence maximization with efficient approximation",
          "joint inference on truth/rumor and their sources in social networks",
          "detecting conspiracy theory against covid-19 vaccines",
          "stand: a spatio-temporal algorithm for network diffusion simulation",
          "beyond the coverage of information spreading: analytical and empirical evidence of re-exposure in large-scale online social networks",
          "efficient continuous multi-query processing over graph streams",
          "sok: fake news outbreak 2021: can we stop the viral spread?",
          "viral content propagation in online social networks",
          "lstm based sentiment analysis for cryptocurrency prediction",
          "trust and believe -- should we? evaluating the trustworthiness of twitter users",
          "modeling how social network algorithms can influence opinion polarization",
          "model-independent online learning for influence maximization",
          "audit analysis models, security frameworks and their relevance for voip",
          "towards a human-like open-domain chatbot",
          "two-path deep semi-supervised learning for timely fake news detection",
          "movienet: a movie multilayer network model using visual and textual semantic cues",
          "dynamics of opinion polarization",
          "neural models for offensive language detection",
          "diffusion dynamics of competing information on networks",
          "multi-stage complex contagions in random multiplex networks",
          "cascade-based echo chamber detection",
          "syntactic-gcn bert based chinese event extraction",
          "information cocoons in online navigation",
          "an open-source benchmark suite for cloud and iot microservices",
          "maximizing spreading influence via measuring influence overlap for social networks",
          "a network-based citation indicator of scientific performance",
          "echoes through time: evolution of the italian covid-19 vaccination debate",
          "tweeting for the cause: network analysis of uk petition sharing",
          "bias and high-dimensional adjustment in observational studies of peer effects",
          "modeling ideological salience and framing in polarized online groups with graph neural networks and structured sparsity",
          "fake news in social networks",
          "a structural model of business card exchange networks",
          "regional economic status inference from information flow and talent mobility",
          "leveraging multi-source weak social supervision for early detection of fake news",
          "information operations in turkey: manufacturing resilience with free twitter accounts",
          "network connectivity dynamics affect the evolution of culturally transmitted variants",
          "a corpus for english-japanese multimodal neural machine translation with comparable sentences",
          "modelling formation of online temporal communities",
          "exploring the limits of weakly supervised pretraining",
          "a synchronized action framework for responsible detection of coordination on social media",
          "attributed social network embedding",
          "extracting inter-community conflicts in reddit",
          "evaluating roles of central users in online communication networks: a case study of #panamaleaks",
          "inferring propagation paths for sparsely observed perturbations on complex networks",
          "the enemy among us: detecting hate speech with threats based 'othering' language embeddings",
          "deep neural networks for bot detection",
          "rumor detection on twitter with claim-guided hierarchical graph attention networks",
          "estimating topic exposure for under-represented users on social media",
          "numeral understanding in financial tweets for fine-grained crowd-based forecasting",
          "quantifying time-dependent media agenda and public opinion by topic modeling",
          "majority opinion diffusion in social networks: an adversarial approach",
          "network segregation in a model of misinformation and fact checking",
          "a socio-geographic perspective on human activities in social media",
          "heterogeneous peer effects in the linear threshold model",
          "can co-location be used as a proxy for face-to-face contacts?",
          "salamnet at semeval-2020 task12: deep learning approach for arabic offensive language detection",
          "vaim: visual analytics for influence maximization",
          "comparison between traditional machine learning models and neural network models for vietnamese hate speech detection",
          "movingfashion: a benchmark for the video-to-shop challenge",
          "link transmission centrality in large-scale social networks",
          "a comprehensive review of visual-textual sentiment analysis from social media networks",
          "beyond adaptive submodularity: adaptive influence maximization with intermediary constraints",
          "benchmarking unsupervised near-duplicate image detection",
          "the diffusive epidemic process on barabasi-albert networks",
          "analytics of business time series using machine learning and bayesian inference",
          "semi-supervised user geolocation via graph convolutional networks",
          "on inference of network topology and confirmation bias in cyber-social networks",
          "universal masking is urgent in the covid-19 pandemic: seir and agent based models, empirical validation, policy recommendations",
          "identifying causal relations in tweets using deep learning: use case on diabetes-related tweets from 2017-2021",
          "res-cnn-bilstm network for overcoming mental health disturbances caused due to cyberbullying through social media",
          "predicting twitter user socioeconomic attributes with network and language information",
          "analyzing behavioral trends in community driven discussion platforms like reddit",
          "fake news detection using temporal features extracted via point process",
          "personalized fashion recommendation from personal social media data: an item-to-set metric learning approach",
          "how well can machine learning predict demographics of social media users?",
          "from symbols to embeddings: a tale of two representations in computational social science",
          "subjective metrics-based cloud market performance prediction",
          "spatiotemporal cnns for pornography detection in videos",
          "time-bounded influence diffusion with incentives",
          "inferring multiplex diffusion network via multivariate marked hawkes process",
          "first-passage times to quantify and compare structural correlations and heterogeneity in complex systems",
          "learning emoji embeddings using emoji co-occurrence network graph",
          "on some tractable and hard instances for partial incentives and target set selection",
          "variable-sized input, character-level recurrent neural networks in lead generation: predicting close rates from raw user inputs",
          "mining tourism experience on twitter: a case study",
          "reading in-between the lines: an analysis of dissenter",
          "leveraging social communities for optimizing cellular device-to-device communications",
          "generating a heterosexual bipartite network embedded in social network",
          "universal growth of social groups: empirical analysis and modeling",
          "semi-supervised recurrent neural network for adverse drug reaction mention extraction",
          "towards understanding political interactions on instagram",
          "an effort to measure customer relationship performance in indonesia's fintech industry",
          "recovery: a multimodal repository for covid-19 news credibility research",
          "the unfolding structure of arguments in online debates: the case of a no-deal brexit",
          "rethinking the generational gap in online news use: an infrastructural perspective",
          "what's kooking? characterizing india's emerging social network, koo",
          "polarization of climate politics results from partisan sorting: evidence from finnish twittersphere",
          "vehicular networks for combating a worldwide pandemic: preventing the spread of covid-19",
          "learning spatiotemporal-aware representation for poi recommendation",
          "improved topic modeling in twitter through community pooling",
          "time-constrained adaptive influence maximization",
          "network inference and influence maximization from samples",
          "scalable adversarial attack algorithms on influence maximization",
          "the effect of algorithmic bias and network structure on coexistence, consensus, and polarization of opinions",
          "sentiment analysis of political tweets for israel using machine learning",
          "modeling spread of preferences in social networks for sampling-based preference aggregation",
          "on the predictability of infectious disease outbreaks",
          "human activity and mobility data reveal disparities in exposure risk reduction indicators among socially vulnerable populations during covid-19",
          "statistical physics of complex information dynamics",
          "rosgas: adaptive social bot detection with reinforced self-supervised gnn architecture search",
          "detecting ideal instagram influencer using social network analysis",
          "outward influence and cascade size estimation in billion-scale networks",
          "interplay between exogenous triggers and endogenous behavioral changes in contagion processes on social networks",
          "from agent-based models to the macroscopic description of fake-news spread: the role of competence in data-driven applications",
          "maximizing the diversity of exposure in a social network",
          "predicting user emotional tone in mental disorder online communities",
          "more than meets the tie: examining the role of interpersonal relationships in social networks",
          "an adaptable and agnostic flow scheduling approach for data center networks",
          "algorithms for online influencer marketing",
          "monitoring covid-19 social distancing with person detection and tracking via fine-tuned yolo v3 and deepsort techniques",
          "a model of spreading of sudden events on social networks",
          "bot-match: social bot detection with recursive nearest neighbors search",
          "topicbert: a transformer transfer learning based memory-graph approach for multimodal streaming social media topic detection",
          "uld@nuig at semeval-2020 task 9: generative morphemes with an attention model for sentiment analysis in code-mixed text",
          "corporate core values and social responsibility: what really matters to whom",
          "classification benchmarks for under-resourced bengali language based on multichannel convolutional-lstm network",
          "rumor detection with self-supervised learning on texts and social graph",
          "investigating and modeling the dynamics of long ties",
          "graph structure based heuristics for optimal targeting in social networks",
          "self-attentive hawkes processes",
          "stationarity of the inter-event power-law distributions",
          "deep learning via lstm models for covid-19 infection forecasting in india",
          "the covid-19 pandemic on the turkish twittersphere",
          "a comparative analysis of social network pages by interests of their followers",
          "rumor detection on social media with bi-directional graph convolutional networks",
          "rp-dnn: a tweet level propagation context based deep neural networks for early rumor detection in social media",
          "barriers and opportunities to accessible social media content authoring",
          "identifying unsafe videos on online public media using real-time crowdsourcing",
          "detecting and modelling real percolation and phase transitions of information on social media",
          "analysis of home location estimation with iteration on twitter following relationship",
          "camta: causal attention model for multi-touch attribution",
          "measuring and characterizing hate speech on news websites",
          "privacy-aware recommender systems challenge on twitter's home timeline",
          "gundapusunil at semeval-2020 task 8: multimodal memotion analysis",
          "garain at semeval-2020 task 12: sequence based deep learning for categorizing offensive language in social media",
          "understanding information spreading in social media during hurricane sandy: user activity and network properties",
          "geosocial location classification: associating type to places based on geotagged social-media posts",
          "distributed data processing frameworks for big graph data",
          "hate speech detection on vietnamese social media text using the bi-gru-lstm-cnn model",
          "modeling the effect of observational social learning on parental decision-making for childhood vaccination and diseases spread over household networks",
          "context-dependent self-exciting point processes: models, methods, and risk bounds in high dimensions",
          "hate begets hate: a temporal study of hate speech",
          "modelling and predicting the effect of social distancing and travel restrictions on covid-19 spreading",
          "zooming into video conferencing privacy and security threats",
          "deriving emotions and sentiments from visual content: a disaster analysis use case",
          "optimized caching and spectrum partitioning for d2d enabled cellular systems with clustered devices",
          "a bi-level assessment of twitter in predicting the results of an election: delhi assembly elections 2020",
          "uncovering the structure of the french media ecosystem",
          "bandit algorithms for real-time data capture on large social medias",
          "mathematical models of radicalization and terrorism",
          "are we all in a truman show? spotting instagram crowdturfing through self-training",
          "influential user subscription on time-decaying social streams",
          "news article teaser tweets and how to generate them",
          "social network structure and the spread of complex contagions from a population genetics perspective",
          "we don't speak the same language: interpreting polarization through machine translation",
          "bangla hate speech detection on social media using attention-based recurrent neural network",
          "communication and personality profiles of global software developers",
          "sub-linear memory sketches for near neighbor search on streaming data",
          "higher contagion and weaker ties mean anger spreads faster than joy in social media",
          "estimating the expected influence capacities of nodes in complex networks under the susceptible-infectious-recovered (sir) model",
          "opom: customized invisible cloak towards face privacy protection",
          "detecting bots and assessing their impact in social networks",
          "bridging separate communities with common interest in distributed social networks through the use of social objects",
          "cnn-based fast source device identification",
          "federated hierarchical hybrid networks for clickbait detection",
          "towards face encryption by generating adversarial identity masks",
          "relative, local and global dimension in complex networks",
          "keyphrase extraction from disaster-related tweets",
          "modeling echo chambers and polarization dynamics in social networks",
          "social network aided plagiarism detection: social network aided plagiarism detection",
          "automatic personality prediction; an enhanced method using ensemble modeling",
          "the anatomy of a population-scale social network",
          "camera fingerprint: a new perspective for identifying user's identity",
          "analysis of infectious-recovery epidemic models for membership dynamics of online social networks",
          "community detection in social network using temporal data",
          "a hybrid persian sentiment analysis framework: integrating dependency grammar based rules and deep neural networks",
          "exploring the effect of streamed social media data variations on social network analysis",
          "domain adaptation on graphs by learning aligned graph bases",
          "sentihood: targeted aspect based sentiment analysis dataset for urban neighbourhoods",
          "online learning and optimization under a new linear-threshold model with negative influence",
          "aracovid19-mfh: arabic covid-19 multi-label fake news and hate speech detection dataset",
          "contagion dynamics on adaptive multiplex networks with awareness-dependent rewiring",
          "a survey on multimodal disinformation detection",
          "on technical trading and social media indicators in cryptocurrencies' price classification through deep learning",
          "contagion in simplicial complexes",
          "community detection in political twitter networks using nonnegative matrix factorization methods",
          "pichunt: social media image retrieval for improved law enforcement",
          "whose advantage? measuring attention dynamics across youtube and twitter on controversial topics",
          "don't be greedy: leveraging community structure to find high quality seed sets for influence maximization",
          "touchdown on the cloud: the impact of the super bowl on cloud",
          "excavating \"excavating ai\": the elephant in the gallery",
          "a new (aleph) stochastic quenched disorder model for interaction of network- master node",
          "navigating the kaleidoscope of covid-19 misinformation using deep learning",
          "kibs innovative entrepreneurship networks on social media",
          "universal transformer hawkes process with adaptive recursive iteration",
          "discovering influencers in opinion formation over social graphs",
          "you, the web and your device: longitudinal characterization of browsing habits",
          "cft: a cluster-based file transfer scheme for highway",
          "dxram's fault-tolerance mechanisms meet high speed i/o devices",
          "demarcating endogenous and exogenous opinion dynamics: an experimental design approach",
          "application of liquid rank reputation system for content recommendation",
          "detecting offensive language in tweets using deep learning",
          "stateless computation",
          "on the behaviour of deviant communities in online social networks",
          "opinion modeling on social media and marketing aspects",
          "relevance of temporal cores for epidemic spread in temporal networks",
          "multi-perspective relevance matching with hierarchical convnets for social media search",
          "honvis: visualizing and exploring higher-order networks",
          "artificial intelligence for low-resource communities: influence maximization in an uncertain world",
          "game-on: graph attention network based multimodal fusion for fake news detection",
          "structured networks and coarse-grained descriptions: a dynamical perspective",
          "crawling political communities in twitter and extracting political affiliations",
          "networks and identity drive geographic properties of the diffusion of linguistic innovation",
          "arabic language sentiment analysis on health services",
          "social media as an instant source of feedback on water quality",
          "controlled language and baby turing test for general conversational intelligence",
          "bounded rationality in scholarly knowledge discovery",
          "neighborhood random walk graph sampling for regularized bayesian graph convolutional neural networks",
          "privacy-preserving online content moderation: a federated learning use case",
          "reentrant phase transitions in threshold driven contagion on multiplex networks",
          "lfw-beautified: a dataset of face images with beautification and augmented reality filters",
          "causally-guided regularization of graph attention improves generalizability",
          "youtube recommendations and effects on sharing across online social platforms",
          "understanding filter bubbles and polarization in social networks",
          "cybersecurity discussions in stack overflow: a developer-centred analysis of engagement and self-disclosure behaviour",
          "paper2repo: github repository recommendation for academic papers",
          "image aesthetics prediction using multiple patches preserving the original aspect ratio of contents",
          "hierarchical invasion of cooperation in complex networks",
          "social clustering in epidemic spread on coevolving networks",
          "conspiracy in the time of corona: automatic detection of covid-19 conspiracy theories in social media and the news",
          "f-score driven max margin neural network for named entity recognition in chinese social media",
          "continuous graph neural networks",
          "gcan: graph-aware co-attention networks for explainable fake news detection on social media",
          "information content of coevolutionary game landscapes",
          "misinformation mitigation under differential propagation rates and temporal penalties",
          "del-hate: a deep learning tunable ensemble for hate speech detection",
          "emotion analysis using multi-layered networks for graphical representation of tweets",
          "going extreme: comparative analysis of hate speech in parler and gab",
          "extracting real social interactions from social media: a debate of covid-19 policies in mexico",
          "generating fact checking explanations",
          "intertwined viral marketing through online social networks",
          "modeling reflexivity of social systems in disease spread",
          "interlayer link prediction in multiplex social networks: an iterative degree penalty algorithm",
          "social contagion and associative diffusion in multilayer network",
          "to simulate the spread of infectious diseases by the random matrix",
          "social network community detection based on textual content similarity and sentimental tendency",
          "hate speech in pixels: detection of offensive memes towards automatic moderation",
          "mapping and discrimination of networks in the complexity-entropy plane",
          "what is the people posting about symptoms related to coronavirus in bogota, colombia?",
          "discourse analysis of covid-19 in persian twitter social networks using graph mining and natural language processing",
          "macross: urban dynamics modeling based on metapath guided cross-modal embedding",
          "investigating italian disinformation spreading on twitter in the context of 2019 european elections",
          "a general method to find highly coordinating communities in social media through inferred interaction links",
          "on optimal two-sided pricing of congested networks",
          "studying confirmation bias in hashtag usage on twitter",
          "civil rephrases of toxic texts with self-supervised transformers",
          "personalitygate: a general plug-and-play gnn gate to enhance cascade prediction with personality recognition task",
          "evaluation of vaccination strategies for sir epidemics on random networks incorporating household structure",
          "energy-efficient wireless content delivery with proactive caching",
          "sockpuppet detection: a telegram case study",
          "disentangling sources of influence in online social networks",
          "image privacy prediction using deep neural networks",
          "exploring the effectiveness of a covid-19 contact tracing app using an agent-based model",
          "seed selection and social coupon allocation for redemption maximization in online social networks",
          "complex contagion features without social reinforcement in a model of social information flow",
          "polarization, partisanship and junk news consumption over social media in the us",
          "identifying influential nodes using overlapping modularity vitality",
          "sentiment analysis for roman urdu text over social media, a comparative study",
          "joint inference of user community and interest patterns in social interaction networks",
          "click-through rate prediction using graph neural networks and online learning",
          "labeled data generation with inexact supervision",
          "leveraging conversation structure on social media to identify potentially influential users",
          "fondue: a framework for node disambiguation using network embeddings",
          "contextualizing online conversational networks",
          "snapmode: an intelligent and distributed large-scale fashion image retrieval platform based on big data and deep generative adversarial network technologies",
          "st-former for short-term passenger flow prediction during covid-19 in urban rail transit system",
          "detecting pathogenic social media accounts without content or network structure",
          "protest activity detection and perceived violence estimation from social media images",
          "when machine learning meets big data: a wireless communication perspective",
          "epidemic spreading on time-varying multiplex networks",
          "studying fake news via network analysis: detection and mitigation",
          "botnet campaign detection on twitter",
          "the effects of data quality on the analysis of corporate board interlock networks",
          "characterizing the country-wide adoption and evolution of the jodel messaging app in saudi arabia",
          "a large-scale dataset for hate speech detection on vietnamese social media texts",
          "enwalk: learning network features for spam detection in twitter",
          "bitsa_nlp@lt-edi-acl2022: leveraging pretrained language models for detecting homophobia and transphobia in social media comments",
          "higher order monotonicity and submodularity of influence in social networks: from local to global",
          "simplified algorithms for order-based core maintenance",
          "knowledge enhanced multi-modal fake news detection",
          "redrawing the 'color line': examining racial segregation in associative networks on twitter",
          "sentiment classification of customer reviews about automobiles in roman urdu",
          "towards trusted social networks with blockchain technology",
          "pers: a personalized and explainable poi recommender system",
          "dynamical evolution of anti-social phenomena: a data science approach",
          "weakly-supervised multi-face 3d reconstruction",
          "maximizing coverage centrality via network design: extended version",
          "unraveling the effects of multiscale network entanglement on disintegration of empirical systems",
          "complete submodularity characterization in the comparative independent cascade model",
          "sybil-proof diffusion auction in social networks",
          "friend-based ranking",
          "lexicon generation for detecting fake news",
          "meta-inductive node classification across graphs",
          "ai-based bmi inference from facial images: an application to weight monitoring",
          "ego network structure in online social networks and its impact on information diffusion",
          "on the dual nature of adoption processes in complex networks",
          "phase transitions and control measures for network epidemics caused by infections with presymptomatic, asymptomatic,and symptomatic stages",
          "where do deep fakes look? synthetic face detection via gaze tracking",
          "graph-hist: graph classification from latent feature histograms with application to bot detection",
          "how polarized have we become? a multimodal classification of trump followers and clinton followers",
          "reconnecting the estranged relationships: optimizing the influence propagation in evolving networks",
          "tracking the diffusion of named entities",
          "accenture at checkthat! 2021: interesting claim identification and ranking with contextually sensitive lexical training data augmentation",
          "a method to evaluate the reliability of social media data for social network analysis",
          "multi-party campaigning",
          "detecting anti-vaccine users on twitter",
          "analyzing user activities using vector space model in online social networks",
          "a network-centric framework for auditing recommendation systems",
          "time is what prevents everything from happening at once: propagation time-conscious influence maximization",
          "understanding user topic preferences across multiple social networks",
          "seeing the forest for the trees? an investigation of network knowledge",
          "great new design: how do we talk about media architecture in social media",
          "virus spread versus contact tracing: two competing contagion processes",
          "exploring the role of intrinsic nodal activation on the spread of influence in complex networks",
          "inferring political preferences from twitter",
          "prophylaxis of epidemic spreading with transient dynamics",
          "understanding the attitudes, knowledge sharing behaviors and task performance of core developers: a longitudinal study",
          "cisco at semeval-2021 task 5: what's toxic?: leveraging transformers for multiple toxic span extraction from online comments",
          "fair treatment allocations in social networks",
          "representation learning of reconstructed graphs using random walk graph convolutional network",
          "a hybrid model for identity obfuscation by face replacement",
          "spread of infectious disease and social awareness as parasitic contagions on clustered networks",
          "vulnerability of d2d communications from interconnected social networks",
          "prediction of facebook post metrics using machine learning",
          "learning latent local conversation modes for predicting community endorsement in online discussions",
          "igniter: news recommendation in microblogging applications (extended version)",
          "building and using personal knowledge graph to improve suicidal ideation detection on social media",
          "#phramacovigilance - exploring deep learning techniques for identifying mentions of medication intake from twitter",
          "intelligent social bots uncover the link between user preference and diversity of news consumption",
          "land use identification through social network interaction",
          "informing users: effects of notification properties and user characteristics on sharing attitudes",
          "detecting fake news with capsule neural networks",
          "extracting textual overlays from social media videos using neural networks",
          "attitudes toward open access, open peer review, and altmetrics among contributors to spanish scholarly journals",
          "modeling noisiness to recognize named entities using multitask neural networks on social media",
          "phase transitions and stability of dynamical processes on hypergraphs",
          "identifying student communities in blended courses",
          "breaking the communities: characterizing community changing users using text mining and graph machine learning on twitter",
          "cognitive networks identify the content of english and italian popular posts about covid-19 vaccines: anticipation, logistics, conspiracy and loss of trust",
          "cats and captions vs. creators and the clock: comparing multimodal content to context in predicting relative popularity",
          "scalable lattice influence maximization",
          "steal your life using 5 cents: hacking android smartphones with nfc tags",
          "lights and shadows of covid-19, technology and industry 4.0",
          "it is rotating leaders who build the swarm: social network determinants of growth for healthcare virtual communities of practice",
          "etma: efficient transformer based multilevel attention framework for multimodal fake news detection",
          "contagion dynamics of extremist propaganda in social networks",
          "a survey on natural language processing for fake news detection",
          "dynamic time warping distance for message propagation classification in twitter",
          "catch me if you can: deceiving stance detection and geotagging models to protect privacy of individuals on twitter",
          "developing a trusted human-ai network for humanitarian benefit",
          "under the conditions of non-agenda ownership: social media users in the 2019 ukrainian presidential elections campaign",
          "what is the mission of innovation?",
          "cobwebs from the past and present: extracting large social networks using internet archive data",
          "socialbots supporting human rights",
          "bootstrapped graph diffusions: exposing the power of nonlinearity",
          "clickbait detection using word embeddings",
          "fine-grained event categorization with heterogeneous graph convolutional networks",
          "tales of a city: sentiment analysis of urban green space in dublin",
          "transformer based automatic covid-19 fake news detection system",
          "universality of the sis prevalence in networks",
          "gmfim: a generative mask-guided facial image manipulation model for privacy preservation",
          "social networks are divulging your identity behind crypto addresses",
          "personal vs. know-how contacts: which matter more in wiki elections?",
          "estimation of a low-rank topic-based model for information cascades",
          "a viral timeline branching process to study a social network",
          "df-captcha: a deepfake captcha for preventing fake calls",
          "super-resolving compressed images via parallel and series integration of artifact reduction and resolution enhancement",
          "buildup of speaking skills in an online learning community: a network-analytic exploration",
          "user satisfaction-driven bandwidth allocation for image transmission in a crowded environment",
          "research status of deep learning methods for rumor detection",
          "identifying possible rumor spreaders on twitter: a weak supervised learning approach",
          "the effect of computer-generated descriptions on photo-sharing experiences of people with visual impairments",
          "discovering strategic behaviors for collaborative content-production in social networks",
          "on the effect of selfie beautification filters on face detection and recognition",
          "predicting engagement in online social networks: challenges and opportunities",
          "visual and textual sentiment analysis using deep fusion convolutional neural networks",
          "multi-modal fusion using fine-tuned self-attention and transfer learning for veracity analysis of web information",
          "active unidirectional network flow generates a packet molecular transport in cells",
          "integral privacy for sampling",
          "finding early adopters of innovation in social network",
          "kinetic modelling of epidemic dynamics: social contacts, control with uncertain data, and multiscale spatial dynamics",
          "modeling conversation structure and temporal dynamics for jointly predicting rumor stance and veracity",
          "multi-channel attentive graph convolutional network with sentiment fusion for multimodal sentiment analysis",
          "multi-task dialog act and sentiment recognition on mastodon",
          "a weakly-supervised iterative graph-based approach to retrieve covid-19 misinformation topics",
          "tib's visual analytics group at mediaeval '20: detecting fake news on corona virus and 5g conspiracy",
          "depolarization of echo chambers by random dynamical nudge",
          "automatic detection of influential actors in disinformation networks",
          "modeling influencer marketing campaigns in social networks",
          "hbmax: optimizing memory efficiency for parallel influence maximization on multicore architectures",
          "a viral load-based model for epidemic spread on spatial networks",
          "attacking strategies and temporal analysis involving facebook discussion groups",
          "dydiff-vae: a dynamic variational framework for information diffusion prediction",
          "who framed roger reindeer? de-censorship of facebook posts by snippet classification",
          "how to maximize the spread of social influence: a survey",
          "ti-capsule: capsule network for stock exchange prediction",
          "forecasting people's needs in hurricane events from social network",
          "a deep multi-level attentive network for multimodal sentiment analysis",
          "identitydp: differential private identification protection for face images",
          "partial information sharing over social learning networks",
          "bi-layer voter model: modeling intolerant/tolerant positions and bots in opinion dynamics",
          "automatic discovery of political meme genres with diverse appearances",
          "interpretable stochastic block influence model: measuring social influence among homophilous communities",
          "5pen technology: a new dawn in homogeneous and heterogeneous computing",
          "optimal pricing for peer-to-peer sharing with network externalities",
          "influence maximization under generic threshold-based non-submodular model",
          "positioning services of a travel agency in social networks",
          "dynamics of tax evasion through an epidemic-like model",
          "a trust model for spreading gossip in social networks",
          "a framework for unsupervised classificiation and data mining of tweets about cyber vulnerabilities",
          "not good times for lies: misinformation detection on the russia-ukraine war, covid-19, and refugees",
          "the manufacture of partisan echo chambers by follow train abuse on twitter",
          "mass testing and proactiveness affect epidemic spreading",
          "literature survey on interplay of topics, information diffusion and connections on social networks",
          "a survey on modelling of infectious disease spread and control on social contact networks",
          "evangelism in social networks: algorithms and complexity",
          "learning through the grapevine: the impact of noise and the breadth and depth of social networks",
          "design of imacros-based data crawler and the behavioral analysis of facebook users",
          "a survey on location-driven influence maximization",
          "deep agent: studying the dynamics of information spread and evolution in social networks",
          "discovering signals from web sources to predict cyber attacks",
          "visual themes and sentiment on social networks to aid first responders during crisis events",
          "opinion formation on social networks with algorithmic bias: dynamics and bias imbalance",
          "multi-winner contests for strategic diffusion in social networks",
          "the scaling of social interactions across animal species",
          "graph capsule convolutional neural networks",
          "online caching with no regret: optimistic learning via recommendations",
          "coordination problems on networks revisited: statics and dynamics",
          "incentivized blockchain-based social media platforms: a case study of steemit",
          "majority-vote model with limited visibility: an investigation into filter bubbles",
          "homogeneity-based transmissive process to model true and false news in social networks",
          "time-varying networks approach to social dynamics: from individual to collective behavior",
          "influence maximization in social networks using discretized harris hawks optimization algorithm and neighbour scout strategy",
          "recommending links through influence maximization",
          "step out of your comfort zone: more inclusive content recommendation for networked systems",
          "spread of hate speech in online social media",
          "behaviour in social media for floods and heat waves in disaster response via artificial intelligence",
          "the advantages of interdisciplinarity in modern science",
          "addressing the challenges of cross-lingual hate speech detection",
          "data-driven contact structures: from homogeneous mixing to multilayer networks",
          "a noisy opinion formation model with two opposing mass media",
          "structural temporal graph neural networks for anomaly detection in dynamic graphs",
          "a large-scale comparison of social media coverage and mentions captured by the two altmetric aggregators- altmetric.com and plumx",
          "osn dashboard tool for sentiment analysis",
          "e-health management services in supporting empowerment",
          "using almetrics for contextualised mapping of societal impact: from hits to networks",
          "exploring mental health communications among instagram coaches",
          "sentiment analysis for arabic in social media network: a systematic mapping study",
          "cyberbullying detection using deep neural network from social media comments in bangla language",
          "reintel: a multimodal data challenge for responsible information identification on social network sites",
          "lgbtq privacy concerns on social media",
          "right-wing german hate speech on twitter: analysis and automatic detection",
          "influence of repetition through limited recall",
          "weakest-link control of invasive species: impacts of memory, bounded rationality and network structure in repeated cooperative games",
          "knowledge network and a knowledge network example",
          "deep neural models for medical concept normalization in user-generated texts",
          "the impact of incorrect social information on collective wisdom in human groups",
          "dominant set-based active learning for text classification and its application to online social media",
          "influence maximization in real-world closed social networks",
          "mitigating misinformation spread on blockchain enabled social media networks",
          "manipulating the online marketplace of ideas",
          "cyclostationary statistical models and algorithms for anomaly detection using multi-modal data",
          "does the first mover advantage exist on github?",
          "election control through social influence with unknown preferences",
          "specae: spectral autoencoder for anomaly detection in attributed networks",
          "vesonet: traffic-aware content caching for vehicular social networks based on path planning and deep reinforcement learning",
          "prisoner's dilemma on real social networks: revisited",
          "rumor stance classification in online social networks: the state-of-the-art, prospects, and future challenges",
          "dl based analysis of movie reviews",
          "developing successful shared tasks on offensive language identification for dravidian languages",
          "mcd: a modified community diversity approach for detecting influential nodes in social networks",
          "classifying vaccine sentiment tweets by modelling domain-specific representation and commonsense knowledge into context-aware attentive gru",
          "collective classification of spam campaigners on twitter: a hierarchical meta-path based approach",
          "social influence and radicalization: a social data analytics study",
          "seeds buffering for information spreading processes",
          "exploratory analysis of a social media network in sri lanka during the covid-19 virus outbreak",
          "heterogeneous graph attention networks for early detection of rumors on twitter",
          "measuring #gamergate: a tale of hate, sexism, and bullying",
          "covid-19 should be suppressed by mixed constraints -- from simulations on constrained scale-free networks",
          "mining user/movie preferred features based on reviews for video recommendation system",
          "the effect of pokémon go on the pulse of the city: a natural experiment",
          "inference of users demographic attributes based on homophily in communication networks",
          "end-to-end trainable non-collaborative dialog system",
          "a web infrastructure for certifying multimedia news content for fake news defense",
          "deep inference of personality traits by integrating image and word use in social networks",
          "unifying markov chain approach for disease and rumor spreading in complex networks",
          "modelling surveys effects in political competitions",
          "boosting parallel influence-maximization kernels for undirected networks with fusing and vectorization",
          "mining top-k sequential patterns in database graphs:a new challenging problem and a sampling-based approach",
          "community detection for access-control decisions: analysing the role of homophily and information diffusion in online social networks",
          "memory-induced mechanism for self-sustaining activity in networks",
          "survey about protection motivation on social networking sites: university of maribor students, 2018",
          "a new distribution for multiplicities in leptonic and hadronic collisions at high energies",
          "popularity prediction for social media over arbitrary time horizons",
          "effective multi-query expansions: collaborative deep networks for robust landmark retrieval",
          "dancinglines: an analytical scheme to depict cross-platform event popularity",
          "semi-supervised confidence network aided gated attention based recurrent neural network for clickbait detection",
          "greener: graph neural networks for news media profiling",
          "more or less? predict the social influence of malicious urls on social media",
          "maximizing influence-based group shapley centrality",
          "finding low-tension communities",
          "combined centrality measures for an improved characterization of influence spread in social networks",
          "modeling social media contagion using hawkes processes",
          "revenue sharing in the internet: a moral hazard approach and a net-neutrality perspective",
          "a multi-input multi-output transformer-based hybrid neural network for multi-class privacy disclosure detection",
          "an analysis of privacy-aware personalization signals by using online evaluation methods",
          "an enhanced geo location technique for social network communication system",
          "a network topology approach to bot classification",
          "joint inference of structure and diffusion in partially observed social networks",
          "attack tolerance of link prediction algorithms: how to hide your relations in a social network",
          "fake news early detection: an interdisciplinary study",
          "strategizing covid-19 lockdowns using mobility patterns",
          "the impact of information dissemination on vaccination in multiplex networks",
          "digital forensics for iot and wsns",
          "automatic detection of passable roads after floods in remote sensed and social media data",
          "flood severity mapping from volunteered geographic information by interpreting water level from images containing people: a case study of hurricane harvey",
          "deep collaborative embedding for information cascade prediction",
          "hiding individuals and communities in a social network",
          "there is something beyond the twitter network",
          "catbert: context-aware tiny bert for detecting social engineering emails",
          "evolution of diversity and dominance of companies in online activity",
          "exploring the social influence of kaggle virtual community on the m5 competition",
          "combating fake news by empowering fact-checked news spread via topology-based interventions",
          "online influence maximization under linear threshold model",
          "tracking e-cigarette warning label compliance on instagram with deep learning",
          "a multi-feature diffusion model: rumor blocking in social networks",
          "modeling caricature expressions by 3d blendshape and dynamic texture",
          "fair and representative subset selection from data streams",
          "interplay between topology and social learning over weak graphs",
          "the potential of social media analytics for improving social media communication of emergency agencies",
          "selfish caching games on directed graphs",
          "what are your pronouns? examining gender pronoun usage on twitter",
          "targeted influence with community and gender-aware seeding",
          "improved twitter sentiment analysis using naive bayes and custom language model",
          "exploring hyper-parameter optimization for neural machine translation on gpu architectures",
          "social bubbles and superspreaders: source identification for contagion processes on hypertrees",
          "burning geometric graphs",
          "long ties accelerate noisy threshold-based contagions",
          "logically at factify 2022: multimodal fact verification",
          "sentiment analysis of covid-19 tweets using evolutionary classification-based lstm model",
          "flux of information in scale-free networks",
          "aging in binary-state models: the threshold model for complex contagion",
          "sentiment analysis for arabic language: a brief survey of approaches and techniques",
          "identifying the global terror hubs and vulnerable motifs using complex network dynamics",
          "redirect2own: protecting the intellectual property of user-uploaded content through off-site indirect access",
          "influence maximization under limited network information: seeding high-degree neighbors",
          "bring a friend! privately or publicly?",
          "emergence of polarization in a voter model with personalized information",
          "deep sentiment classification and topic discovery on novel coronavirus or covid-19 online discussions: nlp using lstm recurrent neural network approach",
          "detecting the impact of public transit on the transmission of epidemics",
          "constructing interval variables via faceted rasch measurement and multitask deep learning: a hate speech application",
          "twitter sentiment analysis via bi-sense emoji embedding and attention-based lstm",
          "robustness and stability of enterprise intranet social networks: the impact of moderators",
          "the network structure of unequal diffusion",
          "an exploration of geo-temporal characteristics of users' reactions on social media during the pandemic",
          "hate speech detection: a solved problem? the challenging case of long tail on twitter",
          "explain and conquer: personalised text-based reviews to achieve transparency",
          "scheduling oltp transactions via machine learning",
          "toward early and order-of-magnitude cascade prediction in social networks",
          "on attribution of deepfakes",
          "diffusion multi-unit auctions with diminishing marginal utility buyers",
          "modelling strong control measures for epidemic propagation with networks -- a covid-19 case study",
          "real-time virtual-try-on from a single example image through deep inverse graphics and learned differentiable renderers",
          "nlp-cuet@lt-edi-eacl2021: multilingual code-mixed hope speech detection using cross-lingual representation learner",
          "campus traffic and e-learning during covid-19 pandemic",
          "writing about covid-19 vaccines: emotional profiling unravels how mainstream and alternative press framed astrazeneca, pfizer and vaccination campaigns",
          "the impact of disinformation on a controversial debate on social media",
          "mechanisms and attributes of echo chambers in social media",
          "hate speech detection on vietnamese social media text using the bidirectional-lstm model",
          "a convolutional lstm based residual network for deepfake video detection",
          "ensemble network for ranking images based on visual appeal",
          "the physics of governance networks: critical transitions in contagion dynamics on multilayer adaptive networks with application to the sustainable use of renewable resources",
          "finding influentials in twitter: a temporal influence ranking model",
          "stylistic variation in social media part-of-speech tagging",
          "visual analytics for temporal hypergraph model exploration",
          "checked: chinese covid-19 fake news dataset",
          "suppressing epidemic spreading in multiplex networks with social-support",
          "social network fusion and mining: a survey",
          "discovering polarized communities in signed networks",
          "from mean-field to complex topologies: network effects on the algorithmic bias model",
          "balancing spreads of influence in a social network",
          "cyberbullying identification using participant-vocabulary consistency",
          "a multi-transformation evolutionary framework for influence maximization in social networks",
          "a method to discover digital collaborative conversations in business collaborations",
          "social- and mobility-aware device-to-device content delivery",
          "cks: a community-based k-shell decomposition approach using community bridge nodes for influence maximization",
          "causal inference for early detection of pathogenic social media accounts",
          "natural scales in geographical patterns",
          "misleading metadata detection on youtube",
          "discourse-aware rumour stance classification in social media using sequential classifiers",
          "graph-based joint pandemic concern and relation extraction on twitter",
          "hierarchical team structure and multidimensional localization (or siloing) on networks",
          "transfer learning for risk classification of social media posts: model evaluation study",
          "complaint identification in social media with transformer networks",
          "humans of simulated new york (hosny): an exploratory comprehensive model of city life",
          "improving rating and relevance with point-of-interest recommender system",
          "no echo in the chambers of political interactions on reddit",
          "network structure and patterns of information diversity on twitter",
          "convolutional neural networks for sentiment analysis in persian social media",
          "rapid classification of crisis-related data on social networks using convolutional neural networks",
          "using graph theory and social media data to assess cultural ecosystem services in coastal areas: method development and application",
          "measuring global multi-scale place connectivity using geotagged social media data",
          "lambda learner: fast incremental learning on data streams",
          "adaptation des r{é}seaux sociaux d'entreprise pour favoriser l'apprentissage informel sur le lieu de travail",
          "lowest degree decomposition of complex networks",
          "which friends are more popular than you? contact strength and the friendship paradox in social networks",
          "ensemble deep learning on time-series representation of tweets for rumor detection in social media",
          "evaluating and improving social awareness of energy communities through semantic network analysis of online news",
          "analysis of the influence of political polarization in the vaccination stance: the brazilian covid-19 scenario",
          "catching up with trends: the changing landscape of political discussions on twitter in 2014 and 2019",
          "character-level hypernetworks for hate speech detection",
          "detecting influence campaigns in social networks using the ising model",
          "activating the \"breakfast club\": modeling influence spread in natural-world social networks",
          "semi-automatic generation of multilingual datasets for stance detection in twitter",
          "multimodal learning for hateful memes detection",
          "capturing social media expressions during the covid-19 pandemic in argentina and forecasting mental health and emotions",
          "competing control scenarios in probabilistic sir epidemics on social-contact networks",
          "synergistic interactions promote behavior spreading and alter phase transition on multiplex networks",
          "decomposing the fundamentals of creepy stories",
          "data analysis in social networks for agribusiness -- a systematic mapping study",
          "heterogeneous face attribute estimation: a deep multi-task learning approach",
          "heterogeneous contact networks in covid-19 spreading: the role of social deprivation",
          "discovering opioid use patterns from social media for relapse prevention",
          "aracovid19-ssd: arabic covid-19 sentiment and sarcasm detection dataset",
          "solvable epidemic model on degree-correlated networks",
          "optimize_prime@dravidianlangtech-acl2022: abusive comment detection in tamil",
          "named entity recognition on twitter for turkish using semi-supervised learning with word embeddings",
          "ethical user interfaces: exploring the effects of dark patterns on facebook",
          "traffic generation for benchmarking data centre networks",
          "playing with friends -- the importance of social play during the covid-19 pandemic",
          "influence maximization in social networks: a survey of behaviour-aware methods",
          "estimating group properties in online social networks with a classifier",
          "rapid prototyping of a text mining application for cryptocurrency market intelligence",
          "the impact of nft profile pictures within social network communities",
          "adaptive submodular influence maximization with myopic feedback",
          "global data science project for covid-19",
          "damnets: a deep autoregressive model for generating markovian network time series",
          "tamper-evident complex genomic networks",
          "diversity of skills and collective intelligence in github",
          "identifying exogenous and endogenous activity in social media",
          "localizing and quantifying damage in social media images",
          "jnet: learning user representations via joint network embedding and topic embedding",
          "multi-task pharmacovigilance mining from social media posts",
          "exploiting multi-domain visual information for fake news detection",
          "the influence of a transport process on the epidemic threshold",
          "contrastive clustering: toward unsupervised bias reduction for emotion and sentiment classification",
          "mining dev for social and technical insights about software development",
          "making \"fetch\" happen: the influence of social and linguistic context on nonstandard word growth and decline",
          "reverse engineering of generative models: inferring model hyperparameters from generated images",
          "neural network aided quarantine control model estimation of global covid-19 spread",
          "signed network modeling based on structural balance theory",
          "adaptive susceptibility and heterogeneity in contagion models on networks",
          "lexpander: applying colexification networks to automated lexicon expansion",
          "understanding and monitoring human trafficking via social sensors: a sociological approach",
          "on the unreasonable effectiveness of feature propagation in learning on graphs with missing node features",
          "a framework for parallel and distributed training of neural networks",
          "connected cooperators and trojan horses: how correlations between cooperativeness and social connectedness affect the evolution of cooperation",
          "asynchronous opinion dynamics in social networks",
          "depicting urban boundaries from a mobility network of spatial interactions: a case study of great britain with geo-located twitter data",
          "controversy-seeking fuels rumor-telling activity in polarized opinion networks",
          "towards offensive language identification for tamil code-mixed youtube comments and posts",
          "does the public discuss other topics on climate change than researchers? a comparison of explorative networks based on author keywords and hashtags",
          "learning to hash-tag videos with tag2vec",
          "friendship paradox biases perceptions in directed networks",
          "understanding psycholinguistic behavior of predominant drunk texters in social media",
          "captcha attack: turning captchas against humanity",
          "retweets distort exposure to polarized information",
          "instagrammable data: using visuals to showcase more than numbers on aj labs instagram page",
          "optimal modularity in complex contagion",
          "determining question-answer plausibility in crowdsourced datasets using multi-task learning",
          "ranking online social users by their influence",
          "pricing social visibility service in online social networks: modeling and algorithms",
          "the friendship paradox and social network participation",
          "movepattern: interactive framework to provide scalable visualization of movement patterns",
          "auditing digital platforms for discrimination in economic opportunity advertising",
          "graph based semi-supervised learning with convolution neural networks to classify crisis related tweets",
          "mechanism design in social networks",
          "sub-event detection from twitter streams as a sequence labeling problem",
          "social behavior and mental health: a snapshot survey under covid-19 pandemic",
          "exploring, browsing and interacting with multi-scale structures of knowledge",
          "measuring, characterizing, and detecting facebook like farms",
          "towards nlp with deep learning: convolutional neural networks and recurrent neural networks for offensive language identification in social media",
          "expert system gradient descent style training: development of a defensible artificial intelligence technique",
          "hierarchical organization of h. eugene stanley scientific collaboration community in weighted network representation",
          "what is gab? a bastion of free speech or an alt-right echo chamber?",
          "#ilooklikeanengineer: using social media based hashtag activism campaigns as a lens to better understand engineering diversity issues",
          "information source finding in networks: querying with budgets",
          "direct observation of quantum percolation dynamics",
          "the online behaviour of the algerian abusers in social media networks",
          "echo chambers on social media: a comparative analysis",
          "deephateexplainer: explainable hate speech detection in under-resourced bengali language",
          "game-theoretical approach for opinion dynamics on social networks",
          "the digital flynn effect: complexity of posts on social media increases over time",
          "all you need is \"love\": evading hate-speech detection",
          "database of indian social media influencers on twitter",
          "tracing the use of practices through networks of collaboration",
          "contrastive meta learning with behavior multiplicity for recommendation",
          "photos are all you need for reciprocal recommendation in online dating",
          "probability-turbulence divergence: a tunable allotaxonometric instrument for comparing heavy-tailed categorical distributions",
          "distance distribution in extreme modular networks",
          "better bounds on the adaptivity gap of influence maximization under full-adoption feedback",
          "towards automatic detection of wildlife trade using machine vision models",
          "detecting high-quality gan-generated face images using neural networks",
          "influential node detection in implicit social networks using multi-task gaussian copula models",
          "infynlp at smm4h task 2: stacked ensemble of shallow convolutional neural networks for identifying personal medication intake from twitter",
          "dpos: decentralized, privacy-preserving, and low-complexity online slicing for multi-tenant networks",
          "steemops: extracting and analyzing key operations in steemit blockchain-based social media platform",
          "a deep learning approach for tweet classification and rescue scheduling for effective disaster management",
          "from continuous to discontinuous transitions in social diffusion",
          "scraping social media photos posted in kenya and elsewhere to detect and analyze food types",
          "md-csdnetwork: multi-domain cross stitched network for deepfake detection",
          "optimal control of the covid-19 pandemic: controlled sanitary deconfinement in portugal",
          "effects of memory on spreading processes in non-markovian temporal networks",
          "controversy detection: a text and graph neural network based approach",
          "how far is facebook from me? facebook network infrastructure analysis",
          "deep learning paradigm with transformed monolingual word embeddings for multilingual sentiment analysis",
          "recommendation of scholarly venues based on dynamic user interests",
          "leveraging personal navigation assistant systems using automated social media traffic reporting",
          "scientific success from the perspective of the strength of weak ties",
          "size matters: a comparative analysis of community detection algorithms",
          "mining adverse drug reactions from unstructured mediums at scale",
          "the chameleon attack: manipulating content display in online social media",
          "a hierarchical attention model for social contextual image recommendation",
          "on the readability of abstract set visualizations",
          "a collaborative ranking model with multiple location-based similarities for venue suggestion",
          "molecular communications at the macroscale: a novel framework for modeling epidemic spreading and mitigation",
          "broadband internet and social capital",
          "is radicalization reinforced by social media censorship?",
          "characterization of cross-posting activity for professional users across facebook, twitter and google+",
          "intrinsic image popularity assessment",
          "recommending users: whom to follow on federated social networks",
          "a note on general statistics of publicly accessible knowledge bases",
          "falling into the echo chamber: the italian vaccination debate on twitter",
          "an implementation of vector quantization using the genetic algorithm approach",
          "visually explainable recommendation",
          "transformer hawkes process",
          "unsupervised user identity linkage via factoid embedding",
          "using deep learning neural networks and candlestick chart representation to predict stock market",
          "covi-agentsim: an agent-based model for evaluating methods of digital contact tracing",
          "do influencers influence? -- analyzing players' activity in an online multiplayer game",
          "on detecting gans and retouching based synthetic alterations",
          "network diffusion model reveals recovery multipliers and heterogeneous spatial effects in post-disaster community recovery",
          "causal inference for influence propagation -- identifiability of the independent cascade model",
          "sexism identification in tweets and gabs using deep neural networks",
          "correlations between covid-19 and dengue",
          "exploring self-identified counseling expertise in online support forums",
          "a survey of community search over big graphs",
          "youtube covid-19 vaccine misinformation on twitter: platform interactions and moderation blind spots",
          "ams_adrn at semeval-2022 task 5: a suitable image-text multimodal joint modeling method for multi-task misogyny identification",
          "is uncertainty always bad?: effect of topic competence on uncertain opinions",
          "assessing the use of social media in massive open online courses",
          "digital surveillance networks of 2014 ebola epidemics and lessons for covid-19",
          "an intelligent system for multi-topic social spam detection in microblogging",
          "the opacity problem in social contagion",
          "nearest neighbour approaches for emotion detection in tweets",
          "cross-language sentiment analysis of european twitter messages duringthe covid-19 pandemic",
          "adversarial perturbations of opinion dynamics in networks",
          "a comparative study on covid-19 fake news detection using different transformer based models",
          "the language and social behavior of innovators",
          "an influence-based clustering model on twitter",
          "link recommendations: their impact on network structure and minorities",
          "deep unified multimodal embeddings for understanding both content and users in social media networks",
          "mean birds: detecting aggression and bullying on twitter",
          "co-evolution of viral processes and structural stability in signed social networks",
          "a unified graph-based approach to disinformation detection using contextual and semantic relations",
          "ranking-based group identification via factorized attention on social tripartite graph",
          "the wisdom_of_crowds: an efficient, philosophically-validated, social epistemological network profiling toolkit",
          "deepnc: deep generative network completion",
          "synergistic effects in threshold models on networks",
          "visual content privacy leaks on social media networks",
          "learning review representations from user and product level information for spam detection",
          "tagpick: a system for bridging micro-video hashtags and e-commerce categories",
          "landmark breaker: obstructing deepfake by disturbing landmark extraction",
          "insta-vax: a multimodal benchmark for anti-vaccine and misinformation posts detection on social media",
          "anatomy of scholarly information behavior patterns in the wake of academic social media platforms",
          "sarcasm detection in twitter -- performance impact while using data augmentation: word embeddings",
          "hateful memes detection via complementary visual and linguistic networks",
          "machine learning-based approach for depression detection in twitter using content and activity features",
          "arabs and atheism: religious discussions in the arab twittersphere",
          "less is more: semi-supervised causal inference for detecting pathogenic users in social media",
          "energy-efficient data transfer optimization via decision-tree based uncertainty reduction",
          "synergistic effects in networked epidemic spreading dynamics",
          "a multilayer network model of the coevolution of the spread of a disease and competing opinions",
          "fr-detect: a multi-modal framework for early fake news detection on social media using publishers features",
          "tweepfake: about detecting deepfake tweets",
          "signed link prediction with sparse data: the role of personality information",
          "identifying influential brokers on social media from social network structure",
          "information diffusion in social networks in two phases",
          "diverse strategic identities induce dynamical states in evolutionary games",
          "network structured kinetic models of social interactions",
          "investigating classification techniques with feature selection for intention mining from twitter feed",
          "multimodal detection of information disorder from social media",
          "inferring users' preferences through leveraging their social relationships",
          "against the others! detecting moral outrage insocial media networks",
          "power structure in chilean news media",
          "detect language of transliterated texts",
          "fairfil: contrastive neural debiasing method for pretrained text encoders",
          "cognitive network science for understanding online social cognitions: a brief review",
          "friend recommendation based on hashtags analysis",
          "statistical physics of social networking",
          "higher-order percolation processes on multiplex hypergraphs",
          "connection discovery using shared images by gaussian relational topic model",
          "an early look at the gettr social network",
          "influence estimation on social media networks using causal inference",
          "fake news detection using parallel bert deep neural networks",
          "leveraging multi-level dependency of relational sequences for social spammer detection",
          "exploiting social influence to control elections based on scoring rules",
          "empirically grounded agent-based models of innovation diffusion: a critical review",
          "hierarchical propagation networks for fake news detection: investigation and exploitation",
          "content retrieval at the edge: a social-aware and named data cooperative framework",
          "cultural diffusion and trends in facebook photographs",
          "neural language model based training data augmentation for weakly supervised early rumor detection",
          "news consumption and social media regulations policy",
          "multitask learning for blackmarket tweet detection",
          "infusing collaborative recommenders with distributed representations",
          "effectiveness of diffusing information through a social network in multiple phases",
          "compressibility of network opinion and spread states in the laplacian-eigenvector basis",
          "identifying fake news from twitter sharing data: a large-scale study",
          "unstable diffusion in social networks",
          "translating multispectral imagery to nighttime imagery via conditional generative adversarial networks",
          "synchronization of online social rhythms via avatar communications",
          "assessing the interplay between travel patterns and sars-cov-2 outbreak in realistic urban setting",
          "centrality-weighted opinion dynamics: disagreement and social network partition",
          "leveraging multi-domain, heterogeneous data using deep multitask learning for hate speech detection",
          "gan-generated faces detection: a survey and new perspectives (2022)",
          "a counter-forensic method for cnn-based camera model identification",
          "event detection in colombian security twitter news using fine-grained latent topic analysis",
          "combining deep learning and string kernels for the localization of swiss german tweets",
          "quickim: efficient, accurate and robust influence maximization algorithm on billion-scale networks",
          "photozilla: a large-scale photography dataset and visual embedding for 20 photography styles",
          "protecting facial privacy: generating adversarial identity masks via style-robust makeup transfer",
          "event identification in social networks",
          "filming multimodal sarcasm detection with attention",
          "unsupervised cyberbullying detection via time-informed gaussian mixture model",
          "countering misinformation on social networks using graph alterations",
          "ideological consumerism in colombian elections, 2015: links between political ideology, twitter activity and electoral results",
          "provably efficient reinforcement learning for online adaptive influence maximization",
          "a long-term analysis of polarization on twitter",
          "exploiting the relationship between visual and textual features in social networks for image classification with zero-shot deep learning",
          "the community structure of collaboration networks in computer science and its impact on scientific production and consumption",
          "disco: influence maximization meets network embedding and deep learning",
          "network inference from a mixture of diffusion models for fake news mitigation",
          "stateless puzzles for real time online fraud preemption",
          "coevolutionary dynamics with global fields",
          "upb at semeval-2022 task 5: enhancing uniter with image sentiment and graph convolutional networks for multimedia automatic misogyny identification",
          "beyond worst-case (in)approximability of nonsubmodular influence maximization",
          "role of hubs in the synergistic spread of behavior",
          "psycho-demographic analysis of the facebook rainbow campaign",
          "lifelong learning of hate speech classification on social media",
          "learning social image embedding with deep multimodal attention networks",
          "data-driven mitigation of adversarial text perturbation",
          "coarse and fine-grained hostility detection in hindi posts using fine tuned multilingual embeddings",
          "mining social media for open innovation in transportation systems",
          "a personalized recommender system for pervasive social networks",
          "the network structure of visited locations according to geotagged social media photos",
          "promoting and countering misinformation during australia's 2019-2020 bushfires: a case study of polarisation",
          "an automated pipeline for the discovery of conspiracy and conspiracy theory narrative frameworks: bridgegate, pizzagate and storytelling on the web",
          "question retrieval for community-based question answering via heterogeneous network integration learning",
          "eyes tell all: irregular pupil shapes reveal gan-generated faces",
          "tackling racial bias in automated online hate detection: towards fair and accurate classification of hateful online users using geometric deep learning",
          "tweets2stance: users stance detection exploiting zero-shot learning algorithms on tweets",
          "distributed graph clustering by load balancing",
          "influence minimization under budget and matroid constraints: extended version",
          "detecting fake accounts through generative adversarial network in online social media",
          "\"i can't keep it up.\" a dataset from the defunct voat.co news aggregator",
          "the footprint of campaign strategies in farsi twitter: a case for 2021 iranian presidential election",
          "sequences of purchases in credit card data reveal life styles in urban populations",
          "a context-based disambiguation model for sentiment concepts using a bag-of-concepts approach",
          "manipulating twitter through deletions",
          "influence-aware task assignment in spatial crowdsourcing (technical report)",
          "aesthetic attribute assessment of images numerically on mixed multi-attribute datasets",
          "introducing an abusive language classification framework for telegram to investigate the german hater community",
          "modeling the propagation of trojan malware in online social networks",
          "walk in wild: an ensemble approach for hostility detection in hindi posts",
          "fast generation of simple directed social network graphs with reciprocal edges and high clustering",
          "\"23andme confirms: i'm super white\" -- analyzing twitter discourse on genetic testing",
          "exploring multi-task multi-lingual learning of transformer models for hate speech and offensive speech identification in social media",
          "twitter user geolocation using deep multiview learning",
          "signed graph convolutional network",
          "utilizing deep learning to identify drug use on twitter data",
          "the fake news spreading plague: was it preventable?",
          "henin: learning heterogeneous neural interaction networks for explainable cyberbullying detection on social media",
          "forsage: anatomy of a smart-contract pyramid scheme",
          "sentiq: a probabilistic logic approach to enhance sentiment analysis tool quality",
          "federated graph attention network for rumor detection",
          "user modeling for point-of-interest recommendations in location-based social networks: the state-of-the-art",
          "think globally, act locally: on the optimal seeding for nonsubmodular influence maximization",
          "community structures in information networks for a discrete agent population",
          "charting closed-loop collective cultural decisions: from book best sellers and music downloads to twitter hashtags and reddit comments",
          "an analysis of malware trends in enterprise networks",
          "critical impact of social networks infodemic on defeating coronavirus covid-19 pandemic: twitter-based study and research directions",
          "sensitivity and reliability in incomplete networks: centrality metrics to community scoring functions",
          "the role of homophily in the emergence of opinion controversies",
          "semantic sentiment analysis of twitter data",
          "creating and understanding email communication networks to aid digital forensic investigations",
          "aggression-annotated corpus of hindi-english code-mixed data",
          "digital data archives as knowledge infrastructures: mediating data sharing and reuse",
          "a hierarchical network-oriented analysis of user participation in misinformation spread on whatsapp",
          "the web centipede: understanding how web communities influence each other through the lens of mainstream and alternative news sources",
          "twibot-22: towards graph-based twitter bot detection",
          "sisl:self-supervised image signature learning for splicing detection and localization",
          "are emojis predictable?",
          "stochastic blockmodels with edge information",
          "gaps in information access in social networks",
          "measuring node contribution to community structure with modularity vitality",
          "face mask detection using convolution neural network",
          "i stand with you: using emojis to study solidarity in crisis events",
          "profile matching across unstructured online social networks: threats and countermeasures",
          "minimizing polarization and disagreement in social networks",
          "rise of qanon: a mental model of good and evil stews in an echochamber",
          "deepfakes detection with automatic face weighting",
          "analyzing the design space of re-opening policies and covid-19 outcomes in the us",
          "privacy-preserving schemes for ad hoc social networks: a survey",
          "streetscape augmentation using generative adversarial networks: insights related to health and wellbeing",
          "iad: interaction-aware diffusion framework in social networks",
          "facter-check: semi-automated fact-checking through semantic similarity and natural language inference",
          "multi-faceted trust-based collaborative filtering",
          "the limited reach of fake news on twitter during 2019 european elections",
          "identifying clickbait: a multi-strategy approach using neural networks",
          "anti-transfer learning for task invariance in convolutional neural networks for speech processing",
          "a deep ensemble framework for fake news detection and classification",
          "deepfork: supervised prediction of information diffusion in github",
          "hater-o-genius aggression classification using capsule networks",
          "eeg classification by factoring in sensor configuration",
          "explainable misinformation detection across multiple social media platforms",
          "where are we? using scopus to map the literature at the intersection between artificial intelligence and research on crime",
          "joint topic-semantic-aware social recommendation for online voting",
          "enabling and emerging technologies for social distancing: a comprehensive survey and open problems",
          "vulnerable to misinformation? verifi!",
          "automatic generation of personalized comment based on user profile",
          "sentence-level bert and multi-task learning of age and gender in social media",
          "detecting stance in tweets : a signed network based approach",
          "dissecting the meme magic: understanding indicators of virality in image memes",
          "neural conditional event time models",
          "statistical physics of vaccination",
          "universal nonlinear infection kernel from heterogeneous exposure on higher-order networks",
          "finding shortest and nearly shortest path nodes in large substantially incomplete networks",
          "socialbots on fire: modeling adversarial behaviors of socialbots via multi-agent hierarchical reinforcement learning",
          "learning stance embeddings from signed social graphs",
          "community detection using preference networks",
          "extracting significant signal of news consumption from social networks: the case of twitter in italian political elections",
          "node classification for signed social networks using diffuse interface methods",
          "deep co-attention network for multi-view subspace learning",
          "providing slowdown information to improve selfish routing",
          "photo stylistic brush: robust style transfer via superpixel-based bipartite graph",
          "detecting online hate speech: approaches using weak supervision and network embedding models",
          "characterizing vaccination movements on youtube in the united states and brazil",
          "influence maximization with deactivation in social networks",
          "controversial information spreads faster and further in reddit",
          "exact computation of influence spread by binary decision diagrams",
          "kgap: knowledge graph augmented political perspective detection in news media",
          "dialoguernn: an attentive rnn for emotion detection in conversations",
          "leveraging medical sentiment to understand patients health on social media",
          "integrating semantic and structural information with graph convolutional network for controversy detection",
          "inferring user gender from user generated visual content on a deep semantic space",
          "twitter spam detection: a systematic review",
          "multilayer network model of movie script",
          "a kernel of truth: determining rumor veracity on twitter by diffusion pattern alone",
          "tar on social media: a framework for online content moderation",
          "optimal team recruitment strategies for collaborative mobile crowdsourcing systems",
          "hypergraph laplacians in diffusion framework",
          "network composition from multi-layer data",
          "leveraging local network communities to predict academic performance",
          "popularity prediction on social platforms with coupled graph neural networks",
          "mask-guided image person removal with data synthesis",
          "learning user representations in online social networks using temporal dynamics of information diffusion",
          "the role of conversation context for sarcasm detection in online interactions",
          "simplicial contagion in temporal higher-order networks",
          "seeding with costly network information",
          "unraveling the dynamic importance of county-level features in trajectory of covid-19",
          "identifying cost-effective debunkers for multi-stage fake news mitigation campaigns",
          "human expression recognition using facial shape based fourier descriptors fusion",
          "interacting opinion and disease dynamics in multiplex networks: discontinuous phase transition and non-monotonic consensus times",
          "evaluating marijuana-related tweets on twitter",
          "emotion recognition for vietnamese social media text",
          "multivariate analysis for multiple network data via semi-symmetric tensor pca",
          "personality traits and echo chambers on facebook",
          "cultural transmission modes of music sampling traditions remain stable despite delocalization in the digital age",
          "analyzing gender inequality through large-scale facebook advertising data",
          "evolutionary of online social networks driven by pareto wealth distribution and bidirectional preferential attachment",
          "graph neural networks for user identity linkage",
          "overhead control with reliable transmission of popular packets in ad-hoc social networks",
          "gender bias in sharenting: both men and women mention sons more often than daughters on social media",
          "extractive adversarial networks: high-recall explanations for identifying personal attacks in social media posts",
          "some like it hoax: automated fake news detection in social networks",
          "a paradigm shift: detecting human rights violations through web images",
          "all one needs to know about metaverse: a complete survey on technological singularity, virtual ecosystem, and research agenda",
          "monitor: a multimodal fusion framework to assess message veracity in social networks",
          "human trajectories characteristics",
          "turing patterns mediated by network topology in homogeneous active systems",
          "white or blue, the whale gets its vengeance: a social media analysis of the blue whale challenge",
          "under the shadow of sunshine: characterizing spam campaigns abusing phone numbers across online social networks",
          "behavioral modeling of persian instagram users to detect bots",
          "the network limits of infectious disease control via occupation-based targeting",
          "the age of social sensing",
          "everything about you: a multimodal approach towards friendship inference in online social networks",
          "'dark germany': hidden patterns of participation in online far-right protests against refugee housing",
          "anomaly detection with joint representation learning of content and connection",
          "sparsemax and relaxed wasserstein for topic sparsity",
          "a neural influence diffusion model for social recommendation",
          "a study of text representations in hate speech detection",
          "large-scale gender/age prediction of tumblr users",
          "female librarians and male computer programmers? gender bias in occupational images on digital media platforms",
          "who funds misinformation? a systematic analysis of the ad-related profit routines of fake news sites",
          "incentivized campaigning in social networks",
          "fast distributed bandits for online recommendation systems",
          "towards better graph representation: two-branch collaborative graph neural networks for multimodal marketing intention detection",
          "modeling institutional credit risk with financial news",
          "detecting sarcasm in multimodal social platforms",
          "automated analysis of topic-actor networks on twitter: new approach to the analysis of socio-semantic networks",
          "deep learning for instance retrieval: a survey",
          "a social search model for large scale social networks",
          "a motif-based approach for identifying controversy",
          "bert-based ensemble approaches for hate speech detection",
          "your stance is exposed! analysing possible factors for stance detection on social media",
          "community detection using low-dimensional network embedding algorithms",
          "importance-aware learning for neural headline editing",
          "smoke screener or straight shooter: detecting elite sybil attacks in user-review social networks",
          "social catalysts: characterizing people who spark conversations among others",
          "a method for assessing the success and failure of community-level interventions in the presence of network diffusion, social reinforcement, and related social effects",
          "a sampling-guided unsupervised learning method to capture percolation in complex networks",
          "epidemic outbreaks with adaptive prevention on complex networks",
          "fakebuster: a deepfakes detection tool for video conferencing scenarios",
          "dynamic hawkes processes for discovering time-evolving communities' states behind diffusion processes",
          "electoral forecasting using a novel temporal attenuation model: predicting the us presidential elections",
          "from classical to modern opinion dynamics",
          "spatial games of fake news",
          "auditing the sensitivity of graph-based ranking with visual analytics",
          "nash equilibrium seeking with non-doubly stochastic communication weight matrix",
          "virus spread and voter model on random graphs with multiple type nodes",
          "sentiment analysis of twitter data",
          "evolution of cooperation on temporal networks",
          "modelling requirements for content recommendation systems",
          "time-dependent heterogeneity leads to transient suppression of the covid-19 epidemic, not herd immunity",
          "optimizing offer sets in sub-linear time",
          "identifying critical higher-order interactions in complex networks",
          "automated pii extraction from social media for raising privacy awareness: a deep transfer learning approach",
          "monotone submodular diversity functions for categorical vectors with application to diversification of seeds for targeted influence maximization",
          "sequence-to-sequence lexical normalization with multilingual transformers",
          "activists want better, safer technology",
          "discovering archetypes to interpret evolution of individual behavior",
          "trust based attachment",
          "venue suggestion using social-centric scores",
          "markov chain approaches to payoff optimization in the self-organizing network coloring game",
          "urban crowdsensing using social media: an empirical study on transformer and recurrent neural networks",
          "fashion conversation data on instagram",
          "reintel challenge 2020: exploiting transfer learning models for reliable intelligence identification on vietnamese social network sites",
          "deepsocial: social distancing monitoring and infection risk assessment in covid-19 pandemic",
          "learning to rank for push notifications using pairwise expected regret",
          "open access books in the humanities and social sciences: an open access altmetric advantage",
          "coordinating narratives and the capitol riots on parler",
          "new survey questions and estimators for network clustering with respondent-driven sampling data",
          "\"gettr-ing\" deep insights from the social network gettr",
          "the forchheim image database for camera identification in the wild",
          "spreading of memes on multiplex networks",
          "learning ideological embeddings from information cascades",
          "quick survey of graph-based fraud detection methods",
          "statistical physics of epidemic on network predictions for sars-cov-2 parameters",
          "user profiles matching for different social networks based on faces embeddings",
          "\"i cannot do all of this alone\": exploring instrumental and prayer support in online health communities",
          "understanding the radical mind: identifying signals to detect extremist content on twitter",
          "a self-learning information diffusion model for smart social networks",
          "joint sentiment/topic modeling on text data using boosted restricted boltzmann machine",
          "towards a social virtual reality learning environment in high fidelity",
          "hipsters on networks: how a small group of individuals can lead to an anti-establishment majority",
          "scalable influence maximization for multiple products in continuous-time diffusion networks",
          "urban scaling of football followership on twitter",
          "applications of online deep learning for crisis response using social media information",
          "cascade: contextual sarcasm detection in online discussion forums",
          "optimal interlayer structure for promoting spreading of sis model in two-layer networks",
          "exploring the ideological nature of journalists' social networks on twitter and associations with news story content",
          "defending democracy: using deep learning to identify and prevent misinformation",
          "měj přehled / be informed",
          "efficient approximation algorithms for adaptive target profit maximization",
          "interactive search and exploration in online discussion forums using multimodal embeddings",
          "sexism detection: the first corpus in algerian dialect with a code-switching in arabic/ french and english",
          "influence maximization (im) in complex networks with limited visibility using statistical methods",
          "twitter sentiment analysis using distributed word and sentence representation",
          "event graphs: advances and applications of second-order time-unfolded temporal network models",
          "a hierarchical model of non-homogeneous poisson processes for twitter retweets",
          "textually guided ranking network for attentional image retweet modeling",
          "blocking self-avoiding walks stops cyber-epidemics: a scalable gpu-based approach",
          "applicability of multilayer diffusion network inference to social media data",
          "combining textual features for the detection of hateful and offensive language",
          "phee: a phased hybrid evaluation-enhanced approach for identifying influential users in social networks",
          "firms' challenges and social responsibilities during covid-19: a twitter analysis",
          "on the detection of synthetic images generated by diffusion models",
          "ti-cnn: convolutional neural networks for fake news detection",
          "ask \"who\", not \"what\": bitcoin volatility forecasting with twitter data",
          "untangling the role of diverse social dimensions in the diffusion of microfinance",
          "cascading behavior in yelp reviews",
          "modeling covid-19 spread in small colleges",
          "mining unfollow behavior in large-scale online social networks via spatial-temporal interaction",
          "the emergence of polarization in coevolving networks",
          "games of social distancing during an epidemic: local vs statistical information",
          "bias amplification in experimental social networks is reduced by resampling",
          "how impersonators exploit instagram to generate fake engagement?",
          "a heuristic-driven uncertainty based ensemble framework for fake news detection in tweets and news articles",
          "unveiling real-life effects of online photo sharing",
          "cache-enabled uplink transmission in wireless small cell networks",
          "autoregressive perturbations for data poisoning",
          "towards a time based video search engine for al quran interpretation",
          "discovering users topic of interest from tweet",
          "monstor: an inductive approach for estimating and maximizing influence over unseen networks",
          "networks beyond pairwise interactions: structure and dynamics",
          "a sneak into the devil's colony - fake profiles in online social networks",
          "domain adaptation with adversarial training and graph embeddings",
          "graph clustering with dynamic embedding",
          "the information in emotion communication",
          "graph embeddings for abusive language detection",
          "mining trends of covid-19 vaccine beliefs on twitter with lexical embeddings",
          "generate descriptive social networks for large populations from available observations: a novel methodology and a generator",
          "joint non-negative matrix factorization for learning ideological leaning on twitter",
          "understanding the network formation pattern for better link prediction",
          "fairy: a framework for understanding relationships between users' actions and their social feeds",
          "adversarial privacy preserving graph embedding against inference attack",
          "your most telling friends: propagating latent ideological features on twitter using neighborhood coherence",
          "autonomous inference of complex network dynamics from incomplete and noisy data",
          "going viral: optimizing discount allocation in social networks for influence maximization",
          "fatigued pagerank",
          "generalizable prediction of academic performance from short texts on social media",
          "neural character-based composition models for abuse detection",
          "effectiveness of dismantling strategies on moderated vs. unmoderated online social platforms",
          "neural-brane: neural bayesian personalized ranking for attributed network embedding",
          "multifaceted privacy: how to express your online persona without revealing your sensitive attributes",
          "perceived and intended sarcasm detection with graph attention networks",
          "deep convolutional pooling transformer for deepfake detection",
          "deep learning methods for event verification and image repurposing detection",
          "forecasting managerial turnover through e-mail based social network analysis",
          "modeling influence with semantics in social networks: a survey",
          "locate who you are: matching geo-location to text for user identity linkage",
          "learning features of network structures using graphlets",
          "sarcasm analysis using conversation context",
          "distributed applications in gamification of the learning process",
          "a fast algorithm for ranking users by their influence in online social platforms",
          "the effect of pets on happiness: a data-driven approach via large-scale social media",
          "play with me? understanding and measuring the social aspect of casual gaming",
          "crawling twitter data through api: a technical/legal perspective",
          "sexism prediction in spanish and english tweets using monolingual and multilingual bert and ensemble models",
          "a case report on the \"a.i. locked-in problem\": social concerns with modern nlp",
          "fast influence maximization in dynamic graphs: a local updating approach",
          "social network analysis taxonomy based on graph representation",
          "deep learning approach on information diffusion in heterogeneous networks",
          "mining user interaction patterns in the darkweb to predict enterprise cyber incidents",
          "region-enhanced deep graph convolutional networks for rumor detection",
          "effector detection in social networks",
          "abusniff: automatic detection and defenses against abusive facebook friends",
          "patch-wise contrastive style learning for instagram filter removal",
          "feature driven and point process approaches for popularity prediction",
          "networks in a world unknown: public whatsapp groups in the venezuelan refugee crisis",
          "maximizing spreading in complex networks with risk in node activation",
          "sac2vec: information network representation with structure and content",
          "tweets sentiment analysis via word embeddings and machine learning techniques",
          "physics-informed machine learning for the covid-19 pandemic: adherence to social distancing and short-term predictions for eight countries",
          "diva: a scalable, interactive and customizable visual analytics platform for information diffusion on large networks",
          "user-aware folk popularity rank: user-popularity-based tag recommendation that can enhance social popularity",
          "systems applications of social networks",
          "exploiting investors social network for stock prediction in china's market",
          "ai for trustworthiness! credible user identification on social web for disaster response agencies",
          "abolitionist networks: modeling language change in nineteenth-century activist newspapers",
          "urban social media inequality: definition, measurements, and application",
          "characterizing twitter interaction during covid-19 pandemic using complex networks and text mining",
          "evading deepfake-image detectors with white- and black-box attacks",
          "leveraging dependency grammar for fine-grained offensive language detection using graph convolutional networks",
          "uncertainty reasoning for probabilistic petri nets via bayesian networks",
          "mining half a billion topical experts across multiple social networks",
          "quantifying agent impacts on contact sequences in social interactions",
          "modeling popularity in asynchronous social media streams with recurrent neural networks",
          "maximizing the probability of fixation in the positional voter model",
          "multimodal named entity recognition for short social media posts",
          "emoji-based co-attention network for microblog sentiment analysis",
          "the future of misinformation detection: new perspectives and trends",
          "heterogeneous collaborative filtering",
          "software engineers response to public crisis: lessons learnt from spontaneously building an informative covid-19 dashboard",
          "adaptive multi-feature budgeted profit maximization in social networks",
          "driving the last mile: characterizing and understanding distracted driving posts on social networks",
          "social media cluster dynamics create resilient global hate highways",
          "commaid: visual analytics for communication analysis through interactive dynamics modeling",
          "text-based sentiment analysis and music emotion recognition",
          "sequence learning with rnns for medical concept normalization in user-generated texts",
          "on limitations of uniplex networks for modeling multiplex contagion",
          "experiments in detecting persuasion techniques in the news",
          "the spreading of computer viruses on time-varying networks",
          "influence maximization meets efficiency and effectiveness: a hop-based approach",
          "a system for identifying and visualizing influential communities",
          "resilience and elasticity of co-evolving information ecosystems",
          "how information diffuse in a nomination network",
          "neural abstractive unsupervised summarization of online news discussions",
          "opinion-based centrality in multiplex networks: a convex optimization approach",
          "a survey on influence maximization: from an ml-based combinatorial optimization",
          "information diffusion in social networks: friendship paradox based models and statistical inference",
          "the network dynamics of social and technological conventions",
          "detection and prediction of users attitude based on real-time and batch sentiment analysis of facebook comments",
          "language identification on massive datasets of short message using an attention mechanism cnn",
          "online human-bot interactions: detection, estimation, and characterization",
          "mentorship network structure: how relationships emerge online and what they mean for amateur creators",
          "a semantic approach for user-brand targeting in on-line social networks",
          "deep learning based parameter search for an agent based social network model",
          "fishing for clickbaits in social images and texts with linguistically-infused neural network models",
          "the spread of voting attitudes in social networks",
          "ggvit:multistream vision transformer network in face2face facial reenactment detection",
          "temporal scale estimation for oversampled network cascades: theory, algorithms, and experiment",
          "multi-view community detection in facebook public pages",
          "beyond covid-19 pandemic: topology-aware optimisation of vaccination strategy for minimising virus spreading",
          "optimal community structure for social contagions",
          "social media marketing analytics : a multicultural approach applied to the beauty \\& cosmetic sector",
          "predicting the quality of short narratives from social media",
          "studying leaders & their concerns using online social media during the times of crisis -- a covid case study",
          "call attention to rumors: deep attention based recurrent neural networks for early rumor detection",
          "how often should i access my online social networks?",
          "smart flood resilience: harnessing community-scale big data for predictive flood risk monitoring, rapid impact assessment, and situational awareness",
          "complex social contagion induces bistability on multiplex networks",
          "learning from online regrets: from deleted posts to risk awareness in social network sites",
          "detecting face2face facial reenactment in videos",
          "recurrent neural networks for online video popularity prediction",
          "detection and classification of masses in mammographic images in a multi-kernel approach",
          "troll tweet detection using contextualized word representations",
          "explain influence maximization with sobol indices",
          "limsi_upv at semeval-2020 task 9: recurrent convolutional neural network for code-mixed sentiment analysis",
          "sentiment index of the russian speaking facebook",
          "social media analysis for organizations: us northeastern public and state libraries case study",
          "explainable authorship verification in social media via attention-based similarity learning",
          "a comparative analysis of graph neural networks and commonly used machine learning algorithms on fake news detection",
          "service adoption spreading in online social networks",
          "como mensurar a importância, influência e a relevância de usuários do twitter? uma análise da interação dos candidatos à presidência do brasil nas eleições de 2018",
          "a picture is worth a thousand words: an empirical study on the influence of content visibility on diffusion processes within a virtual world",
          "plexus: an interactive visualization tool for analyzing public emotions from twitter data",
          "casgcn: predicting future cascade growth based on information diffusion graph",
          "information spreading dynamics on adaptive social networks",
          "correlation between social proximity and mobility similarity",
          "few-shot tweet detection in emerging disaster events",
          "competitive contagion with sparse seeding",
          "low government performance and uncivil political tweets: evidence from the covid-19 crisis in the u.s",
          "identifying biased users in online social networks to enhance the accuracy of sentiment analysis: a user behavior-based approach",
          "evolution of collective fairness in complex networks through degree-based role assignment",
          "junk news on military affairs and national security: social media disinformation campaigns against us military personnel and veterans",
          "understanding echo chambers in e-commerce recommender systems",
          "content-based analysis of the cultural differences between tiktok and douyin",
          "do you really follow them? automatic detection of credulous twitter users",
          "modeling of user portrait through social media",
          "interpretable fake news detection with topic and deep variational models",
          "goodfatr: a platform for automated threat report collection and ioc extraction",
          "image manipulation specifications on social networking services for encryption-then-compression systems",
          "dynamic laplace: efficient centrality measure for weighted or unweighted evolving networks",
          "election manipulation on social networks: seeding, edge removal, edge addition",
          "modeling the impact of social distancing and targeted vaccination on the spread of covid-19 through a real city-scale contact network",
          "multimodal analysis: informed content estimation and audio source separation",
          "restoring the structure: a modular analysis of ego-driven organizational networks",
          "feedback shaping: a modeling approach to nurture content creation",
          "neural networks for dengue prediction: a systematic review",
          "ai based presentation creator with customized audio content delivery",
          "maximizing contrasting opinions in signed social networks",
          "two-faced humans on twitter and facebook: harvesting social multimedia for human personality profiling",
          "team dynamics during the delivery of a large-scale, engineered system",
          "pornography consumption in social media",
          "characterising user content on a multi-lingual social network",
          "data driven modeling social media influence using differential equations",
          "tracing community genealogy: how new communities emerge from the old",
          "crush: contextually regularized and user anchored self-supervised hate speech detection",
          "drag: dynamic region-aware gcn for privacy-leaking image detection",
          "foundations of temporal text networks",
          "eggs: a flexible approach to relational modeling of social network spam",
          "strategies and vulnerabilities of participants in venezuelan influence operations",
          "hawkes process classification through discriminative modeling of text",
          "fake news detection on news-oriented heterogeneous information networks through hierarchical graph attention",
          "phase transition of the 2-choices dynamics on core-periphery networks",
          "dual application of speech enhancement for automatic speech recognition",
          "comparing suicide risk insights derived from clinical and social media data",
          "convergence of opinion diffusion is pspace-complete",
          "double-scale self-supervised hypergraph learning for group recommendation",
          "assessing the impact of social network structure on the diffusion of coronavirus disease (covid-19): a generalized spatial seird model",
          "poised: spotting twitter spam off the beaten paths",
          "exploring and mining attributed sequences of interactions",
          "a cnn-rnn framework for image annotation from visual cues and social network metadata",
          "discovery and classification of twitter bots",
          "superspreading k-cores at the center of covid-19 pandemic persistence",
          "quantifying echo chamber effects in information spreading over political communication networks",
          "uncertainty-aware personal assistant for making personalized privacy decisions",
          "wac: a corpus of wikipedia conversations for online abuse detection",
          "controlling percolation with limited resources",
          "making \"fetch\" happen: the influence of social and linguistic context on nonstandard word growth and decline",
          "detecting deepfakes with metric learning",
          "the influence of social networks on human society",
          "debate on online social networks at the time of covid-19: an italian case study",
          "a survey of point-of-interest recommendation in location-based social networks",
          "contingency-aware influence maximization: a reinforcement learning approach",
          "the impact of twitter on political influence on the choice of a running mate: social network analysis and semantic analysis -- a review",
          "contagion-preserving network sparsifiers: exploring epidemic edge importance utilizing effective resistance",
          "the effect of people recommenders on echo chambers and polarization",
          "cyber anomaly detection using graph-node role-dynamics",
          "a structural characterization of market power in electric power networks",
          "collective decision dynamics in group evacuation: behavioral experiment and machine learning models",
          "reputation systems for news on twitter: a large-scale study",
          "interdependent diffusion: the social contagion of interacting beliefs",
          "least cost influence maximization across multiple social networks",
          "neighborhood matters: influence maximization in social networks with limited access",
          "cost function learning in memorized social networks with cognitive behavioral asymmetry",
          "consistent approximation of epidemic dynamics on degree-heterogeneous clustered networks",
          "weibo-cov: a large-scale covid-19 social media dataset from weibo",
          "assessing the impact of contextual information in hate speech detection",
          "\"like sheep among wolves\": characterizing hateful users on twitter",
          "adapting deep learning methods for mental health prediction on social media",
          "moral emotions shape the virality of covid-19 misinformation on social media",
          "maximizing fair content spread via edge suggestion in social networks",
          "scaling of foreign attractiveness for countries and states",
          "dynamic graph echo state networks",
          "gender recognition in informal and formal language scenarios via transfer learning",
          "bots increase exposure to negative and inflammatory content in online social systems",
          "prediction of esg compliance using a heterogeneous information network",
          "finding top performers through email patterns analysis",
          "headline diagnosis: manipulation of content farm headlines",
          "a temporal network version of watts's cascade model",
          "a map equation with metadata: varying the role of attributes in community detection",
          "integrating lexical and temporal signals in neural ranking models for searching social media streams",
          "heterogeneous interventions reduce the spread of covid-19 in simulations on real mobility data",
          "deep health care text classification",
          "twitter dataset for 2022 russo-ukrainian crisis",
          "fake news identification using machine learning algorithms based on graph features",
          "do the young live in a \"smaller world\" than the old? age-specific degrees of separation in human communication",
          "nonlinear random walks optimize the trade-off between cost and prevention in epidemics lockdown measures : the esir model",
          "user behavior discovery in the covid-19 era through the sentiment analysis of user tweet texts",
          "topical alignment in online social systems",
          "inter-cluster transmission control using graph modal barriers",
          "learning networks from random walk-based node similarities",
          "social distancing as a network population game in a socially connected world",
          "network disruption: maximizing disagreement and polarization in social networks",
          "e-commerce in your inbox: product recommendations at scale",
          "styling with attention to details",
          "racism is a virus: anti-asian hate and counterspeech in social media during the covid-19 crisis",
          "pattern dynamics of interacting contagions",
          "fake news detection using semi-supervised graph convolutional network",
          "i know where you are coming from: on the impact of social media sources on ai model performance",
          "adversarial active learning based heterogeneous graph neural network for fake news detection",
          "nowcasting the stance of social media users in a sudden vote: the case of the greek referendum",
          "pattern detection in the activation space for identifying synthesized content",
          "semi-supervised stance detection of tweets via distant network supervision",
          "impact of covid-19 on city-scale transportation and safety: an early experience from detroit",
          "structural inequalities exacerbate infection disparities: a computational approach",
          "close and ordinary social contacts: how important are they in promoting large-scale contagion?",
          "\"a virus has no religion\": analyzing islamophobia on twitter during the covid-19 outbreak",
          "who will share my image? predicting the content diffusion path in online social networks",
          "bayesian graph convolutional neural networks via tempered mcmc",
          "blockchain-enabled end-to-end encryption for instant messaging applications",
          "aggressive, repetitive, intentional, visible, and imbalanced: refining representations for cyberbullying classification",
          "epidemic spreading in a social network with facial masks wearing individuals",
          "contextualizing asr lattice rescoring with hybrid pointer network language model",
          "improving joint layer rnn based keyphrase extraction by using syntactical features",
          "collective influence of multiple spreaders evaluated by tracing real information flow in large-scale social networks",
          "sd-measure: a social distancing detector",
          "deep learning-based spatially explicit emulation of an agent-based simulator for pandemic in a city",
          "inference, prediction and optimization of non-pharmaceutical interventions using compartment models: the pyross library",
          "dimensionrank: personal neural representations for personalized general search",
          "vaccination strategies against covid-19 and the diffusion of anti-vaccination views",
          "networks of power: analyzing world leaders interactions on social media",
          "check_square at checkthat! 2020: claim detection in social media via fusion of transformer and syntactic features",
          "mapping social media attention in microbiology: identifying main topics and actors",
          "perception of emergent epidemic of covid-2019 / sars cov-2 on the polish internet",
          "an approximate marginal spread computation approach for the budgeted influence maximization with delay",
          "detecting gang-involved escalation on social media using context",
          "rosetta: large scale system for text detection and recognition in images",
          "fairness in influence maximization through randomization",
          "timme: twitter ideology-detection via multi-task multi-relational embedding",
          "measuring similarity between brands using followers' post in social media",
          "sequential change-point detection in high-dimensional gaussian graphical models",
          "high quality degree based heuristics for the influence maximization problem",
          "social-aware cooperative caching in fog radio access networks",
          "online tools for public engagement: case studies from reykjavik",
          "actionable and political text classification using word embeddings and lstm",
          "characterizing efficient referrals in social networks",
          "a probabilistic framework for location inference from social media",
          "identifying user profiles via user footprints",
          "identifying individual dogs in social media images",
          "centralized and decentralized isolation strategies and their impact on the covid-19 pandemic dynamics",
          "discovering interesting subgraphs in social media networks",
          "protecting shared information in networks: a network security game with strategic attacks",
          "improving the authentication with built-in camera protocol using built-in motion sensors: a deep learning solution",
          "centralities for networks with consumable resources",
          "stochastic dynamic programming heuristics for influence maximization-revenue optimization",
          "affect analysis in-the-wild: valence-arousal, expressions, action units and a unified framework",
          "item: independent temporal motifs to summarize and compare temporal networks",
          "unknowable manipulators: social network curator algorithms",
          "you shall know a user by the company it keeps: dynamic representations for social media users in nlp",
          "social network structure is predictive of health and wellness",
          "covid-19 infodemic reveals new tipping point epidemiology and a revised\nr\nformula",
          "an information theoretic framework for active de-anonymization in social networks based on group memberships",
          "who with whom and how?: extracting large social networks using search engines",
          "detecting human-to-human-or-object (h2o) interactions with diabolo",
          "a re-conceptualization of online misinformation diffusion",
          "contributive social capital extraction from different types of online data sources",
          "friend network as gatekeeper: a study of wechat users' consumption of friend-curated contents",
          "transitivity and degree assortativity explained: the bipartite structure of social networks",
          "predicting the patterns of spatio-temporal signal propagation in complex networks",
          "how social are social media the dark patterns in facebook's interface",
          "predicting the flu from instagram",
          "dynamics of diffusion on monoplex and multiplex networks: a message-passing approach",
          "an email attachment is worth a thousand words, or is it?",
          "learning heat diffusion graphs",
          "deciphering social opinion polarization towards political event based on content and structural analysis",
          "tracking influential nodes in time-decaying dynamic interaction networks",
          "experiments in inferring social networks of diffusion",
          "modelling and analysing behaviours and emotions via complex user interactions",
          "get-aid: visual recognition of human rights abuses via global emotional traits",
          "simulation of the covid-19 pandemic on the social network of slovenia: estimating the intrinsic forecast uncertainty",
          "analysis of adversarial attacks against cnn-based image forgery detectors",
          "content privacy enforcement models in decentralized online social networks: state of play, solutions, limitations, and future directions",
          "image data hiding with multi-scale autoencoder network",
          "gitevolve: predicting the evolution of github repositories",
          "self-presentation and emotional contagion on facebook: new experimental measures of profiles' emotional coherence",
          "lg4av: combining language models and graph neural networks for author verification",
          "\"when and where?\": behavior dominant location forecasting with micro-blog streams",
          "omni-directional image generation from single snapshot image",
          "credulous users and fake news: a real case study on the propagation in twitter",
          "data backup network formation with heterogeneous agents",
          "graph-aware evolutionary algorithms for influence maximization",
          "schemes of propagation models and source estimators for rumor source detection in online social networks: a short survey of a decade of research",
          "the human geography of twitter",
          "discipline reputation evaluation based on phd exchange network",
          "profile matching across online social networks",
          "privacy leakage through innocent content sharing in online social networks",
          "explainable depression detection with multi-modalities using a hybrid deep learning model on social media",
          "understanding and predicting delay in reciprocal relations",
          "a semi-supervised approach to message stance classification",
          "why so inflammatory? explainability in automatic detection of inflammatory social media users",
          "on the identifiability of the influence model for stochastic spatiotemporal spread processes",
          "author2vec: a framework for generating user embedding",
          "social community-aware content placement in wireless device-to-device communication networks",
          "new methods to generate massive synthetic networks",
          "a bayesian and machine learning approach to estimating influence model parameters for im-ro",
          "the healthy states of america: creating a health taxonomy with social media",
          "online influence maximization under the independent cascade model with node-level feedback",
          "segregation in religion networks",
          "mining reaction and diffusion dynamics in social activities",
          "metapriv: acting in favor of privacy on social media platforms",
          "coevolution spreading in complex networks",
          "restricted black-box adversarial attack against deepfake face swapping",
          "hate speech detection using static bert embeddings",
          "the digital architectures of social media: comparing political campaigning on facebook, twitter, instagram, and snapchat in the 2016 u.s. election",
          "impact of social media posts in real life violence: a case study in bangladesh",
          "mining urban lifestyles: urban computing, human behavior and recommender systems",
          "network topology inference from spectral templates",
          "lexical analysis of automated accounts on twitter",
          "combating the elsagate phenomenon: deep learning architectures for disturbing cartoons",
          "challenges in community resilience planning and opportunities with simulation modeling",
          "extracting feelings of people regarding covid-19 by social network mining",
          "implicit crowdsourcing for identifying abusive behavior in online social networks",
          "graph representation learning via graphical mutual information maximization",
          "team yao at factify 2022: utilizing pre-trained models and co-attention networks for multi-modal fact verification",
          "political elections under (social) fire? analysis and detection of propaganda on twitter",
          "understanding public opinion on using hydroxychloroquine for covid-19 treatment via social media",
          "an analysis of community structure in brazilian political topic-based twitter networks",
          "entropy-enhanced multimodal attention model for scene-aware dialogue generation",
          "on multi-cascade influence maximization: model, hardness and algorithmic framework",
          "multi-modal attention network for stock movements prediction",
          "an energy conserving routing scheme for wireless body sensor nanonetwork communication",
          "anatomy of a stablecoin's failure: the terra-luna case",
          "nhad: neuro-fuzzy based horizontal anomaly detection in online social networks",
          "inferring structural characteristics of networks with strong and weak ties from fixed-choice surveys",
          "reducing seed bias in respondent-driven sampling by estimating block transition probabilities",
          "role of artificial intelligence in detection of hateful speech for hinglish data on social media",
          "study of the usability of linkedin: a social media platform meant to connect employers and employees",
          "a systematic identification and analysis of scientists on twitter",
          "detecting offensive language on social networks: an end-to-end detection method based on graph attention networks",
          "improved forecasting of cryptocurrency price using social signals",
          "detection of propaganda techniques in visuo-lingual metaphor in memes",
          "characterizing the spread of exaggerated news content over social media",
          "viewpoint discovery and understanding in social networks",
          "covid19-hpsmp: covid-19 adopted hybrid and parallel deep information fusion framework for stock price movement prediction",
          "a unified seeding framework",
          "improving latent user models in online social media",
          "the social bow tie",
          "leveraging tagging and rating for recommendation: rmf meets weighted diffusion on tripartite graphs",
          "divided we rule: influencer polarization on twitter during political crises in india",
          "beyond performance metrics: examining a decrease in students' physics self-efficacy through a social network lens",
          "quantification of the propagation of rumors on social media",
          "retweet-bert: political leaning detection using language features and information diffusion on social networks",
          "social dynamics of financial networks",
          "multimodal deep learning framework for image popularity prediction on social media",
          "winning the competition: enhancing counter-contagion in sis-like epidemic processes",
          "infringement of tweets geo-location privacy: an approach based on graph convolutional neural networks",
          "generating cyber threat intelligence to discover potential security threats using classification and topic modeling",
          "an emotion-aware multi-task approach to fake news and rumour detection using transfer learning",
          "affective polarization in online climate change discourse on twitter",
          "a multilevel clustering technique for community detection",
          "graph representation learning for popularity prediction problem: a survey",
          "restoration of user videos shared on social media",
          "ossint - open source social network intelligence an efficient and effective way to uncover \"private\" information in osn profiles",
          "sars-cov-2 dissemination using a network of the united states counties",
          "modelling social context for fake news detection: a graph neural network based approach",
          "heterogeneous continuous time random walks",
          "transformer-graph neural network with global-local attention for multimodal rumour detection with knowledge distillation",
          "estimating emotion contagion on social media via localized diffusion in dynamic graphs",
          "surveying the research on fake news in social media: a tale of networks and language",
          "including images into message veracity assessment in social media",
          "question identification in arabic language using emotional based features",
          "coupon advertising in online social systems: algorithms and sampling techniques",
          "fitting in and breaking up: a nonlinear version of coevolving voter models",
          "complex contagions with timers",
          "contrastive learning of emoji-based representations for resource-poor languages",
          "peopletraffic: a common framework for harmonizing privacy and epidemic risks",
          "simple attention-based representation learning for ranking short social media posts",
          "a deep learning approach for detecting traffic accidents from social media data",
          "integrating boundary assembling into a dnn framework for named entity recognition in chinese social media text",
          "topology reveals universal features for network comparison",
          "cognitive analysis of security threats on social networking services: slovakia in need of stronger action",
          "anatomy of an online misinformation network",
          "the structure of online social networks mirror those in the offline world",
          "competing local and global interactions in social dynamics: how important is the friendship network?",
          "graph-based methods for discrete choice",
          "privacy-driven access control in social networks by means of automatic semantic annotation",
          "what's in a name? understanding profile name reuse on twitter",
          "an event detection technique using social media data",
          "a multitask deep learning approach for user depression detection on sina weibo",
          "three prophylactic interventions to counter fake news on social media",
          "a human dimension of hacking: social engineering through social media",
          "automatic sexism detection with multilingual transformer models",
          "exploiting deep learning for persian sentiment analysis",
          "ntulm: enriching social media text representations with non-textual units",
          "distributed rumor blocking with multiple positive cascades",
          "textrolls: identifying russian trolls on twitter from a textual perspective",
          "collaborative inference of coexisting information diffusions",
          "strategies and influence of social bots in a 2017 german state election - a case study on twitter",
          "semantic property graph for scalable knowledge graph analytics",
          "a structured approach to predicting image enhancement parameters",
          "latte: application oriented social network embedding",
          "network science predicts who dies next in game of thrones",
          "event extraction based on deep learning in food hazard arabic texts",
          "continual distributed learning for crisis management",
          "investigating dissemination of scientific information on twitter: a study of topic networks in opioid publications",
          "modeling aggression propagation on social media",
          "on the fairness of time-critical influence maximization in social networks",
          "the impact of social media presence and board member composition on new venture success: evidences from vc-backed u.s. startups",
          "adjustable reach in a network centrality based on current flows",
          "weak ties strengthen anger contagion in social media",
          "directionality reduces the impact of epidemics in multilayer networks",
          "social politics: agenda setting and political communication on social media",
          "topology comparison of twitter diffusion networks effectively reveals misleading information",
          "diffusion of new products with recovering consumers",
          "uncovering flaming events on news media in social media",
          "exploring the effects of activity-preserving time dilation on the dynamic interplay of airborne contagion processes and temporal networks using an interaction-driven model",
          "robust training of social media image classification models for rapid disaster response",
          "user blocking considered harmful? an attacker-controllable side channel to identify social accounts",
          "bi-directional recurrent neural ordinary differential equations for social media text classification",
          "towards scalable network delay minimization",
          "did state-sponsored trolls shape the 2016 us presidential election discourse? quantifying influence on twitter",
          "burstiness and tie reinforcement in time varying social networks",
          "network refinement: a unified framework for enhancing signal or removing noise of networks",
          "post quantum cryptography: readiness challenges and the approaching storm",
          "why do cascade sizes follow a power-law?",
          "cross-lingual capsule network for hate speech detection in social media",
          "signed graph diffusion network",
          "how mobility patterns drive disease spread: a case study using public transit passenger card travel data",
          "real-time detection of content polluters in partially observable twitter networks",
          "small coverage effect in epidemic network models shows that masks can become more effective with less people wearing them",
          "characterizing user susceptibility to covid-19 misinformation on twitter",
          "when the umpire is also a player: bias in private label product recommendations on e-commerce marketplaces",
          "predictive linguistic cues for fake news: a societal artificial intelligence problem",
          "exploring the antecedents of consumer confidence through semantic network analysis of online news",
          "adult content in social live streaming services: characterizing deviant users and relationships",
          "network-based fake news detection: a pattern-driven approach",
          "spatial-temporal frequency forgery clue for video forgery detection in vis and nir scenario",
          "improved approximation factor for adaptive influence maximization via simple greedy strategies",
          "personalized word representations carrying personalized semantics learned from social network posts",
          "motivations and expectations for virtual gift-giving in douyin live streams",
          "the effect of heterogeneity on hypergraph contagion models",
          "pairwise link prediction",
          "public wisdom matters! discourse-aware hyperbolic fourier co-attention for social-text classification",
          "continuous profit maximization: a study of unconstrained dr-submodular maximization",
          "an efficient randomized algorithm for rumor blocking in online social networks",
          "social bots for online public health interventions",
          "deep learning benchmarks and datasets for social media image classification for disaster response",
          "the quoter model: a paradigmatic model of the social flow of written information",
          "quantifying the structure of controversial discussions with unsupervised methods: a look into the twitter climate change conversation",
          "resilient consensus for multi-agent systems under adversarial spreading processes",
          "the mechanisms of self-organised criticality in social processes of knowledge creation",
          "qsan: a quantum-probability based signed attention network for explainable false information detection",
          "social value and information quality in online health information search",
          "a general definition of network communities and the corresponding detection algorithm",
          "epidemic sir model on a face-to-face interaction network: new mobility induced phase transitions",
          "jointly embedding the local and global relations of heterogeneous graph for rumor detection",
          "detecting medical misinformation on social media using multimodal deep learning",
          "as long as you talk about me: the importance of family firm brands and the contingent role of family-firm identity",
          "an adaptive bounded-confidence model of opinion dynamics on networks",
          "sarcasm detection framework using emotion and sentiment features",
          "hashtag-centric immersive search on social media",
          "um sistema de aquisição e análise de dados para extração de conhecimento da plataforma ebit",
          "an agent-based model for emotion contagion and competition in online social media",
          "a pipeline for graph-based monitoring of the changes in the information space of russian social media during the lockdown",
          "caching structures for distributed data management in p2p-based social networks",
          "deepc2: ai-powered covert command and control on osns",
          "multi-winner election control via social influence",
          "identification of social-media platform of videos through the use of shared features",
          "multi-dimensional racism classification during covid-19: stigmatization, offensiveness, blame, and exclusion",
          "k-core structure of real multiplex networks",
          "how many tweets dowe need?: efficient mining of short-term polarized topics on twitter: a case study from japan",
          "understanding political polarization via jointly modeling users, connections and multimodal contents on heterogeneous graphs",
          "zoom-rnn: a novel method for person recognition using recurrent neural networks",
          "lobo -- evaluation of generalization deficiencies in twitter bot classifiers",
          "stochastic win-stay-lose-shift strategy with dynamic aspirations in evolutionary social dilemmas",
          "branching process with attack: viral competing markets",
          "utcnn: a deep learning model of stance classificationon on social media text",
          "a fast, compact, accurate model for language identification of codemixed text",
          "startupbr: higher education's influence on social networks and entrepreneurship in brazil",
          "graph-based normalizing flow for human motion generation and reconstruction",
          "opinion dynamics with backfire effect and biased assimilation",
          "designing weighted and multiplex networks for deep learning user geolocation in twitter",
          "a correspondence analysis framework for author-conference recommendations",
          "online caching with optimistic learning",
          "global misinformation spillovers in the online vaccination debate before and during covid-19",
          "early warning of covid-19 hotspots using mobility of high risk users from web search queries",
          "gudie: a flexible, user-defined method to extract subgraphs of interest from large graphs",
          "identifying the\nk\nbest targets for an advertisement campaign via online social networks",
          "shallow reading with deep learning: predicting popularity of online content using only its title",
          "analyzing digital politics: challenges and experiments in a dual perspective",
          "public discourse and social network echo chambers driven by socio-cognitive biases",
          "fakedetector: effective fake news detection with deep diffusive neural network",
          "improving the explainability of neural sentiment classifiers via data augmentation",
          "evidence of complex contagion of information in social media: an experiment using twitter bots",
          "reducing access disparities in networks using edge augmentation",
          "an end-to-end framework to identify pathogenic social media accounts on twitter",
          "disaster tweets classification using bert-based language model",
          "efficiency in truthful auctions via a social network",
          "from social netizens to data citizens: variations of gdpr awareness in 28 european countries",
          "maximising the benefits of an acutely limited number of covid-19 tests",
          "the automatic quasi-clique merger algorithm (aqcm)",
          "news-sharing on twitter reveals emergent fragmentation of media agenda and persistent polarization",
          "probing empirical contact networks by simulation of spreading dynamics",
          "the first large scale collection of diverse hausa language datasets",
          "modelling competitive marketing strategies in social networks",
          "increasing the flow of rumors in social networks by spreading groups",
          "analyzing offline social engagements: an empirical study of meetup events related to software development",
          "the effect of sociocultural variables on sarcasm communication online",
          "variation across scales: measurement fidelity under twitter data sampling",
          "migration patterns, friendship networks, and the diaspora: the potential of facebook social connectedness index to anticipate displacement patterns induced by russia invasion of ukraine in the european union",
          "expertise and confidence explain how social influence evolves along intellective tasks",
          "improving fractal pre-training",
          "automatically identifying political ads on facebook: towards understanding of manipulation via user targeting",
          "rapid detection of fast innovation under the pressure of covid-19",
          "flexible imitation suppresses epidemics through better vaccination",
          "post or tweet: lessons from a study of facebook and twitter usage",
          "do you see what i see? capabilities and limits of automated multimedia content analysis",
          "uncovering the dark side of telegram: fakes, clones, scams, and conspiracy movements",
          "covid-19 sentiment analysis via deep learning during the rise of novel cases",
          "determining the veracity of rumours on twitter",
          "opinion manipulation on farsi twitter",
          "how medical crowdfunding helps people? a large-scale case study on waterdrop fundraising",
          "preference enhanced social influence modeling for network-aware cascade prediction",
          "characterizing the use of images in state-sponsored information warfare operations by russian trolls on twitter",
          "sentiment analysis of typhoon related tweets using standard and bidirectional recurrent neural networks",
          "temporal effects on hashtag reuse in twitter: a cognitive-inspired hashtag recommendation approach",
          "assessing individual and community vulnerability to fake news in social networks",
          "gated recurrent neural network approach for multilabel emotion detection in microblogs",
          "detecting radical text over online media using deep learning",
          "krylov subspace approximation for local community detection in large networks",
          "behavioral communities and the atomic structure of networks",
          "continuous detection, rapidly react: unseen rumors detection based on continual prompt-tuning",
          "what propels celebrity follower counts? language use or social connectivity",
          "predicting anti-asian hateful users on twitter during covid-19",
          "match-tensor: a deep relevance model for search",
          "reasoning about complex networks: a logic programming approach",
          "bertuit: understanding spanish language in twitter through a native transformer",
          "iitk at semeval-2020 task 8: unimodal and bimodal sentiment analysis of internet memes",
          "insights into incitement: a computational perspective on dangerous speech on twitter in india",
          "temporal patterns of reciprocity in communication networks",
          "blocking adversarial influence in social networks",
          "independent asymmetric embedding for information diffusion prediction on social networks",
          "a novel formal agent-based simulation modeling framework of an aids complex adaptive system",
          "fake news detection with heterogeneous transformer",
          "humor detection in english-hindi code-mixed social media content : corpus and baseline system",
          "conductance and social capital: modeling and empirically measuring online social influence",
          "inside the right-leaning echo chambers: characterizing gab, an unmoderated social system",
          "from social to epidemic criticality and back",
          "social network analysis of electric vehicles adoption: a data-based approach",
          "bounding the inefficiency of compromise in opinion formation",
          "recurrent graph neural networks for rumor detection in online forums",
          "diffusion geometry of multiplex and interdependent systems",
          "an efficient architecture for predicting the case of characters using sequence models",
          "applying machine learning techniques for caching in edge networks: a comprehensive survey",
          "revisiting information cascades in online social networks",
          "social networks through the prism of cognition",
          "a multimodal model with twitter finbert embeddings for extreme price movement prediction of bitcoin",
          "mulbot: unsupervised bot detection based on multivariate time series",
          "seed selection for information cascade in multilayer networks",
          "social media networks attacks and their preventive mechanisms: a review",
          "a bounded-confidence model of opinion dynamics with heterogeneous node-activity levels",
          "an event correlation filtering method for fake news detection"
         ],
         "legendgroup": "",
         "marker": {
          "color": "#636efa",
          "symbol": "circle"
         },
         "mode": "markers",
         "name": "",
         "showlegend": false,
         "type": "scattergl",
         "x": [
          -23.854642868041992,
          40.03560256958008,
          3.4111506938934326,
          39.11759567260742,
          40.875511169433594,
          5.237941265106201,
          20.818572998046875,
          25.053386688232422,
          49.29352569580078,
          -13.651021003723145,
          27.70184326171875,
          31.924612045288086,
          20.06394386291504,
          36.470420837402344,
          14.341798782348633,
          51.03636169433594,
          -13.637767791748047,
          -54.07981872558594,
          90.52825927734375,
          -6.4685869216918945,
          10.341118812561035,
          -7.046256065368652,
          43.68305587768555,
          56.88093185424805,
          85.53199005126953,
          -21.601333618164062,
          10.471938133239746,
          60.38330078125,
          51.8619270324707,
          69.85724639892578,
          -7.160118103027344,
          -22.758527755737305,
          8.671920776367188,
          -73.2442398071289,
          5.063509464263916,
          -32.31166076660156,
          -69.50267028808594,
          -8.349381446838379,
          -52.07720184326172,
          2.2532031536102295,
          18.660001754760742,
          -61.647247314453125,
          29.344457626342773,
          30.60129737854004,
          41.4351806640625,
          -15.753996849060059,
          7.824828624725342,
          -59.1465950012207,
          -38.95400619506836,
          46.845550537109375,
          16.7696533203125,
          26.4185791015625,
          -20.540868759155273,
          -15.111373901367188,
          -57.735408782958984,
          -43.16169357299805,
          -14.535762786865234,
          -49.53889465332031,
          18.76527976989746,
          73.70489501953125,
          -9.697752952575684,
          1.0126248598098755,
          -29.98845672607422,
          -26.565887451171875,
          5.7502641677856445,
          10.167680740356445,
          54.428348541259766,
          -29.7552490234375,
          -3.906754493713379,
          -23.8413143157959,
          42.10911178588867,
          80.51863098144531,
          -16.513906478881836,
          -15.179803848266602,
          -36.879581451416016,
          -31.643850326538086,
          15.059927940368652,
          46.0662727355957,
          -3.871525526046753,
          -71.97883605957031,
          -41.076107025146484,
          -58.40863037109375,
          -38.05144500732422,
          12.59571361541748,
          18.714794158935547,
          -2.613107919692993,
          -37.259246826171875,
          5.51249361038208,
          16.48186683654785,
          -28.79849624633789,
          5.05539083480835,
          -41.74895095825195,
          42.82229995727539,
          -62.99120330810547,
          35.48688888549805,
          40.2252197265625,
          35.19987869262695,
          71.26277160644531,
          -54.87165451049805,
          31.767454147338867,
          -24.00385093688965,
          39.1414909362793,
          -28.401248931884766,
          -0.013765113428235054,
          -79.13468170166016,
          -38.77947235107422,
          24.31118392944336,
          -65.96668243408203,
          -41.95134735107422,
          12.268062591552734,
          -23.44771385192871,
          -94.20201110839844,
          -56.82889175415039,
          0.18423083424568176,
          44.845184326171875,
          20.201709747314453,
          47.90626907348633,
          -14.156740188598633,
          -55.12809753417969,
          57.39384078979492,
          79.88539123535156,
          16.179885864257812,
          20.10869026184082,
          43.75246047973633,
          28.304922103881836,
          -85.38642120361328,
          -38.208438873291016,
          -58.582435607910156,
          71.97117614746094,
          66.00201416015625,
          73.01863098144531,
          -13.621358871459961,
          -44.08190155029297,
          64.9979248046875,
          77.8453369140625,
          36.041107177734375,
          21.793729782104492,
          -88.61034393310547,
          35.54267883300781,
          -10.48270320892334,
          -0.15830443799495697,
          58.02895736694336,
          1.1563470363616943,
          60.782859802246094,
          1.6562509536743164,
          -24.351783752441406,
          -20.0578670501709,
          -70.86402130126953,
          3.997187852859497,
          -85.56396484375,
          2.6620655059814453,
          66.70669555664062,
          0.03173828125,
          44.20307159423828,
          45.41431427001953,
          -28.79792022705078,
          11.531817436218262,
          11.935647964477539,
          -31.827363967895508,
          73.55469512939453,
          52.54513168334961,
          29.375080108642578,
          -18.58504295349121,
          72.83700561523438,
          65.00108337402344,
          35.64077377319336,
          54.0820198059082,
          -34.74296951293945,
          28.20389747619629,
          -55.00949478149414,
          -10.14906120300293,
          16.951942443847656,
          38.742881774902344,
          7.2305803298950195,
          19.074243545532227,
          -12.749223709106445,
          13.040237426757812,
          -36.99578857421875,
          27.928388595581055,
          7.62408447265625,
          -43.927040100097656,
          -12.521039009094238,
          61.59379577636719,
          -21.11400032043457,
          33.55615997314453,
          74.46553039550781,
          -76.2181396484375,
          30.676496505737305,
          1.3073803186416626,
          -2.5408308506011963,
          -25.604843139648438,
          27.294279098510742,
          -24.392580032348633,
          24.80746841430664,
          -16.31266212463379,
          43.188697814941406,
          30.534732818603516,
          34.78683853149414,
          49.31130599975586,
          -59.836734771728516,
          -30.376422882080078,
          48.065914154052734,
          -67.8827896118164,
          43.2698860168457,
          48.56714630126953,
          77.73343658447266,
          61.31245040893555,
          56.6894645690918,
          -28.132286071777344,
          25.883398056030273,
          2.3535618782043457,
          8.195732116699219,
          -30.28713035583496,
          -56.18294143676758,
          35.06464767456055,
          -50.453548431396484,
          38.094871520996094,
          35.30607223510742,
          36.633304595947266,
          -34.78768539428711,
          -67.52498626708984,
          -21.43330192565918,
          -41.75575637817383,
          -4.512253761291504,
          11.423628807067871,
          12.044288635253906,
          45.838043212890625,
          -28.760478973388672,
          64.65496826171875,
          6.187526702880859,
          -33.54513168334961,
          -8.990900993347168,
          -14.471763610839844,
          23.077198028564453,
          -75.02400970458984,
          29.907970428466797,
          54.61827087402344,
          10.004266738891602,
          -59.83606719970703,
          12.10706901550293,
          -15.938980102539062,
          21.290075302124023,
          -58.175567626953125,
          -6.429122447967529,
          -12.881257057189941,
          -34.692771911621094,
          -87.62332916259766,
          -38.370365142822266,
          61.22615432739258,
          -52.492210388183594,
          26.206872940063477,
          -8.776345252990723,
          -69.77257537841797,
          37.322914123535156,
          -33.08308410644531,
          -21.478975296020508,
          -4.544691562652588,
          21.155160903930664,
          -28.24146842956543,
          37.61294174194336,
          -4.926121234893799,
          38.174007415771484,
          -7.794983386993408,
          -17.944522857666016,
          -23.022493362426758,
          -36.333526611328125,
          30.790945053100586,
          0.4508069157600403,
          -10.000910758972168,
          -19.436670303344727,
          -15.04776382446289,
          -36.189613342285156,
          45.56170654296875,
          69.23258972167969,
          -10.537374496459961,
          9.495176315307617,
          5.127066135406494,
          -47.12678527832031,
          -65.47311401367188,
          -54.7471923828125,
          -37.3726806640625,
          -38.08134460449219,
          -69.76255798339844,
          -6.64194393157959,
          24.409873962402344,
          -49.46292495727539,
          56.15130615234375,
          25.204639434814453,
          -10.804391860961914,
          16.36250877380371,
          13.863399505615234,
          -75.3967056274414,
          -34.65457534790039,
          -23.687105178833008,
          37.97750473022461,
          -67.65601348876953,
          -62.19659423828125,
          -53.668766021728516,
          -37.10822677612305,
          -78.64105987548828,
          56.81401443481445,
          13.153717041015625,
          -26.447452545166016,
          42.84640884399414,
          2.780519723892212,
          42.95221710205078,
          47.28998947143555,
          -91.6569595336914,
          54.86386489868164,
          16.861570358276367,
          67.14942932128906,
          28.291027069091797,
          -33.203155517578125,
          48.20099639892578,
          -34.67557144165039,
          -17.019258499145508,
          -3.333249092102051,
          8.854979515075684,
          -56.6955680847168,
          51.10555648803711,
          -55.621585845947266,
          -86.5623779296875,
          65.13137817382812,
          64.8383560180664,
          -54.19485092163086,
          -23.56032371520996,
          -36.58989715576172,
          -20.83868980407715,
          19.551774978637695,
          24.678424835205078,
          54.33517837524414,
          -42.02510452270508,
          -67.55546569824219,
          32.27480697631836,
          -28.748966217041016,
          2.496079206466675,
          9.728986740112305,
          41.5836067199707,
          29.38909912109375,
          23.43726921081543,
          -71.48861694335938,
          -62.444129943847656,
          1.341428279876709,
          6.235397815704346,
          15.115488052368164,
          80.36875915527344,
          -62.9071159362793,
          -44.168365478515625,
          64.64579772949219,
          -56.75327682495117,
          80.7119369506836,
          -92.43533325195312,
          -7.785181522369385,
          -10.649765968322754,
          -46.48368835449219,
          -23.131826400756836,
          8.711368560791016,
          58.04378890991211,
          -14.676568984985352,
          79.52635192871094,
          71.27185821533203,
          -70.59605407714844,
          -15.188337326049805,
          -41.11936569213867,
          9.359637260437012,
          -48.1173095703125,
          -27.140392303466797,
          2.193227767944336,
          -43.53132247924805,
          -20.1547908782959,
          -68.78740692138672,
          23.591703414916992,
          15.908553123474121,
          -57.5416259765625,
          -31.03304672241211,
          -75.44561004638672,
          -25.022356033325195,
          -2.9201364517211914,
          57.44021224975586,
          35.25554275512695,
          16.838747024536133,
          -66.03742218017578,
          -56.50738525390625,
          33.56272506713867,
          -20.866613388061523,
          -35.37863540649414,
          -72.70880126953125,
          18.652820587158203,
          62.32241439819336,
          43.06907653808594,
          73.00456237792969,
          -7.0638275146484375,
          -8.761218070983887,
          2.6019725799560547,
          12.04254150390625,
          -73.67277526855469,
          37.285072326660156,
          -5.188104152679443,
          -39.9093132019043,
          -3.7021920680999756,
          -37.500221252441406,
          60.60646438598633,
          -14.119572639465332,
          -55.63169479370117,
          30.661523818969727,
          -54.145442962646484,
          -35.38432693481445,
          15.922941207885742,
          29.35146141052246,
          -60.582313537597656,
          34.15036392211914,
          -57.22593307495117,
          -21.96567153930664,
          -37.46857833862305,
          6.335769176483154,
          -35.118186950683594,
          -65.06904602050781,
          27.556222915649414,
          -52.572608947753906,
          17.264249801635742,
          -86.2786865234375,
          9.164724349975586,
          -3.7953338623046875,
          28.577255249023438,
          11.613718032836914,
          18.162574768066406,
          -20.76426887512207,
          20.729137420654297,
          46.97579574584961,
          64.69256591796875,
          38.76174545288086,
          -8.173433303833008,
          8.496373176574707,
          10.573042869567871,
          46.741580963134766,
          -56.78302001953125,
          2.8784708976745605,
          -37.305118560791016,
          48.57582473754883,
          18.162094116210938,
          21.523189544677734,
          28.41402816772461,
          -16.8524169921875,
          -56.558013916015625,
          -7.587553977966309,
          27.463720321655273,
          -28.247961044311523,
          20.114768981933594,
          43.28462600708008,
          -22.6246395111084,
          -10.690909385681152,
          -75.52174377441406,
          -23.671401977539062,
          0.9450366497039795,
          48.9908561706543,
          -3.937134027481079,
          26.23462677001953,
          65.75520324707031,
          -56.583370208740234,
          -71.07410430908203,
          17.260984420776367,
          -25.171510696411133,
          -3.2328875064849854,
          51.51845932006836,
          8.666810989379883,
          67.79480743408203,
          -21.174671173095703,
          -87.05704498291016,
          -16.213314056396484,
          20.588254928588867,
          11.829825401306152,
          31.75105094909668,
          -34.454978942871094,
          -76.04513549804688,
          58.94275665283203,
          -53.54130935668945,
          23.87241554260254,
          54.32716751098633,
          -14.489516258239746,
          -59.76660919189453,
          -25.90070915222168,
          85.20132446289062,
          -64.5120849609375,
          10.431999206542969,
          -11.06047534942627,
          15.764278411865234,
          38.39542007446289,
          4.784411907196045,
          -12.390192985534668,
          -25.91425132751465,
          -18.411712646484375,
          -0.05074944347143173,
          -32.84530258178711,
          8.976813316345215,
          -31.90137481689453,
          21.069656372070312,
          -54.270084381103516,
          -42.15153503417969,
          44.43047332763672,
          11.344564437866211,
          -33.99606704711914,
          -75.735595703125,
          11.710725784301758,
          28.1678409576416,
          42.64337921142578,
          21.590116500854492,
          50.3518180847168,
          0.646430253982544,
          -28.585552215576172,
          -16.126140594482422,
          17.7503604888916,
          -79.80945587158203,
          9.301486015319824,
          -51.373130798339844,
          -5.704010486602783,
          10.024721145629883,
          8.639962196350098,
          6.21347188949585,
          -62.487667083740234,
          31.79159164428711,
          -17.74378204345703,
          -22.013368606567383,
          59.61384963989258,
          27.240707397460938,
          41.82787322998047,
          43.186309814453125,
          74.65592193603516,
          50.282386779785156,
          -75.57038879394531,
          77.44902801513672,
          1.4258967638015747,
          18.506263732910156,
          -15.466919898986816,
          -3.6632285118103027,
          51.02935791015625,
          34.49496078491211,
          44.16096878051758,
          -19.656932830810547,
          38.84588623046875,
          46.76789855957031,
          -35.38195037841797,
          -14.458595275878906,
          13.447514533996582,
          13.661298751831055,
          -28.74205207824707,
          -22.70865821838379,
          -1.8922590017318726,
          -19.581897735595703,
          28.818384170532227,
          10.487534523010254,
          39.83821105957031,
          -57.090755462646484,
          29.926088333129883,
          23.10618782043457,
          53.818824768066406,
          56.22758865356445,
          73.25467681884766,
          57.606197357177734,
          50.29851150512695,
          4.014703273773193,
          62.074951171875,
          -62.230342864990234,
          -7.209399700164795,
          5.701383113861084,
          17.266029357910156,
          31.630088806152344,
          -24.471328735351562,
          -31.151432037353516,
          31.518648147583008,
          -6.1504974365234375,
          -89.50971221923828,
          11.81767463684082,
          -28.59395408630371,
          -17.453189849853516,
          -54.38601303100586,
          -34.2860107421875,
          11.571075439453125,
          -24.30744743347168,
          60.852195739746094,
          7.143636703491211,
          -7.638519287109375,
          -5.064543724060059,
          53.59066390991211,
          -70.22577667236328,
          66.46129608154297,
          2.2530763149261475,
          37.29560470581055,
          24.801616668701172,
          50.83570861816406,
          0.6181693077087402,
          -13.512738227844238,
          -23.330223083496094,
          -28.147708892822266,
          -9.819175720214844,
          2.800018072128296,
          -77.35977935791016,
          19.931915283203125,
          42.72380828857422,
          6.931391716003418,
          -5.990812301635742,
          47.597679138183594,
          47.44618225097656,
          26.395048141479492,
          -13.809588432312012,
          54.081871032714844,
          58.32129669189453,
          19.14194679260254,
          54.207672119140625,
          -7.879641056060791,
          8.694581985473633,
          50.318504333496094,
          -9.933485984802246,
          -21.018613815307617,
          17.543399810791016,
          -5.343774795532227,
          -25.779605865478516,
          30.686817169189453,
          -77.8402099609375,
          -78.41169738769531,
          10.78569507598877,
          -11.642287254333496,
          44.92942428588867,
          -63.414424896240234,
          -70.06234741210938,
          -18.667184829711914,
          44.58578109741211,
          -12.75967788696289,
          -15.026352882385254,
          40.18559265136719,
          -89.14759826660156,
          32.62184143066406,
          48.474796295166016,
          -2.380876302719116,
          -4.405172824859619,
          -13.491073608398438,
          -3.9824721813201904,
          -12.403820991516113,
          -56.03298568725586,
          -28.696857452392578,
          17.695537567138672,
          -21.69055938720703,
          -19.064931869506836,
          -58.574520111083984,
          -74.31458282470703,
          29.054365158081055,
          -11.74552059173584,
          33.64523696899414,
          25.344934463500977,
          17.03192901611328,
          34.651123046875,
          26.056161880493164,
          -32.73548889160156,
          -32.8785400390625,
          -0.9213787913322449,
          -32.44538497924805,
          -51.693389892578125,
          -24.754369735717773,
          -26.13029670715332,
          16.75621223449707,
          -23.114479064941406,
          35.52687072753906,
          14.800362586975098,
          47.8888053894043,
          -24.724435806274414,
          -29.399757385253906,
          20.0919189453125,
          -57.3892822265625,
          50.0777587890625,
          28.507814407348633,
          37.956905364990234,
          -12.303420066833496,
          87.2095718383789,
          -45.725364685058594,
          -67.11801147460938,
          -13.122130393981934,
          63.82140350341797,
          23.20367431640625,
          13.879203796386719,
          37.23543167114258,
          -57.13142013549805,
          16.664718627929688,
          43.25102996826172,
          16.10320281982422,
          81.03961944580078,
          -32.83123016357422,
          -13.375373840332031,
          11.807334899902344,
          23.89378547668457,
          -32.03959655761719,
          -19.397451400756836,
          -23.187162399291992,
          -36.27755355834961,
          48.998287200927734,
          27.157875061035156,
          -41.03597640991211,
          26.68743324279785,
          -59.04899978637695,
          50.75585174560547,
          24.09591293334961,
          16.569957733154297,
          84.8109359741211,
          -59.08719253540039,
          48.85380935668945,
          32.797645568847656,
          51.939056396484375,
          18.39665412902832,
          -60.27593231201172,
          -6.209059238433838,
          36.061561584472656,
          -50.490535736083984,
          -35.321842193603516,
          41.334228515625,
          -0.5153464674949646,
          43.424861907958984,
          -6.5763444900512695,
          11.454997062683105,
          56.42424774169922,
          68.95356750488281,
          -13.361754417419434,
          42.02906036376953,
          -22.58123779296875,
          24.527549743652344,
          -25.436750411987305,
          -25.42210578918457,
          -17.44708824157715,
          10.537285804748535,
          -7.687714099884033,
          -36.622432708740234,
          11.067983627319336,
          -22.795970916748047,
          41.70781707763672,
          28.862266540527344,
          -50.41558074951172,
          -51.80135726928711,
          -61.66639709472656,
          36.95796585083008,
          -24.330596923828125,
          2.311321973800659,
          -69.5180435180664,
          -4.177439212799072,
          51.766841888427734,
          -10.269819259643555,
          41.339019775390625,
          -23.366151809692383,
          -90.09622192382812,
          -17.818756103515625,
          -4.527594566345215,
          60.264060974121094,
          -20.099002838134766,
          -64.60218811035156,
          -27.008203506469727,
          -22.37421417236328,
          -33.221248626708984,
          -23.64154815673828,
          58.19911193847656,
          -73.23876190185547,
          -61.64067077636719,
          41.60340118408203,
          -53.475460052490234,
          0.06681258976459503,
          21.314661026000977,
          -62.48299789428711,
          1.218287706375122,
          42.45380783081055,
          1.928531289100647,
          -59.00553894042969,
          -70.3761978149414,
          -78.59693145751953,
          13.878053665161133,
          -12.14551830291748,
          -20.57166862487793,
          -45.173519134521484,
          -11.512231826782227,
          -32.595481872558594,
          43.693023681640625,
          -48.35458755493164,
          58.805908203125,
          -42.143943786621094,
          40.37184143066406,
          51.367591857910156,
          -36.922576904296875,
          47.915672302246094,
          -33.29466247558594,
          36.80110168457031,
          56.60698699951172,
          -65.04357147216797,
          3.062448740005493,
          -32.988773345947266,
          60.456512451171875,
          36.9559211730957,
          33.91826248168945,
          -1.9457110166549683,
          42.9608039855957,
          -41.09816360473633,
          15.325764656066895,
          50.80195617675781,
          52.537696838378906,
          -0.20267178118228912,
          -0.5900367498397827,
          -23.210956573486328,
          -61.167667388916016,
          -30.90226173400879,
          -70.47357940673828,
          25.521053314208984,
          25.190561294555664,
          -35.54275131225586,
          59.73726272583008,
          12.687994956970215,
          43.815399169921875,
          32.84228515625,
          57.341041564941406,
          -13.471288681030273,
          39.815799713134766,
          31.914386749267578,
          13.09803581237793,
          -42.78766632080078,
          -56.34339141845703,
          -23.376832962036133,
          -48.41145706176758,
          -48.17821502685547,
          28.16063690185547,
          24.741500854492188,
          -21.987998962402344,
          -26.04379653930664,
          -74.62736511230469,
          9.559222221374512,
          -82.11615753173828,
          32.68881607055664,
          44.64164733886719,
          -68.82987213134766,
          63.65774154663086,
          -12.488203048706055,
          -38.76813507080078,
          -55.905887603759766,
          27.15043067932129,
          7.873022079467773,
          -7.93189001083374,
          29.81138038635254,
          25.892370223999023,
          15.118022918701172,
          25.27253532409668,
          60.53227615356445,
          34.326534271240234,
          -49.44822692871094,
          48.53370666503906,
          70.98030853271484,
          -42.53213119506836,
          -33.23396682739258,
          2.276378631591797,
          50.442100524902344,
          -38.79026412963867,
          50.17864227294922,
          36.627838134765625,
          -23.036836624145508,
          -21.02509117126465,
          37.32428741455078,
          -26.202102661132812,
          54.21092987060547,
          -13.478813171386719,
          85.1230697631836,
          -70.1861343383789,
          19.534456253051758,
          -3.40358829498291,
          -27.748443603515625,
          -25.611249923706055,
          82.62149047851562,
          8.656062126159668,
          4.4939374923706055,
          23.921466827392578,
          -62.49354934692383,
          42.53029251098633,
          -37.7362174987793,
          21.033018112182617,
          40.60334396362305,
          37.86479187011719,
          -26.356834411621094,
          -36.603763580322266,
          54.36250305175781,
          46.37129592895508,
          -36.75428771972656,
          -84.60302734375,
          -7.213093280792236,
          16.78217315673828,
          -16.93907928466797,
          44.088348388671875,
          -76.20917510986328,
          56.59726333618164,
          21.428150177001953,
          70.47183227539062,
          -70.25952911376953,
          -0.7474709153175354,
          -22.97958755493164,
          -54.704124450683594,
          20.694734573364258,
          -88.92174530029297,
          24.83138084411621,
          -63.098758697509766,
          -19.891490936279297,
          -66.11129760742188,
          67.80155944824219,
          25.328449249267578,
          -58.4089469909668,
          -2.9767251014709473,
          -4.388877868652344,
          -45.11357116699219,
          -21.30467987060547,
          34.25829315185547,
          -30.92178726196289,
          -8.298019409179688,
          35.943233489990234,
          -45.45293426513672,
          13.156098365783691,
          -9.767845153808594,
          67.67601013183594,
          -2.022357702255249,
          -28.484209060668945,
          -24.028959274291992,
          -79.59037780761719,
          49.74180603027344,
          16.085742950439453,
          -11.807568550109863,
          74.48748779296875,
          -9.43952465057373,
          -34.28833770751953,
          17.91899871826172,
          -72.28553771972656,
          -54.739410400390625,
          8.005010604858398,
          -7.3472514152526855,
          -48.996368408203125,
          79.66938018798828,
          -57.68644714355469,
          11.827187538146973,
          64.3607177734375,
          50.85670471191406,
          -58.66215133666992,
          -49.53727340698242,
          -54.12791442871094,
          11.782536506652832,
          18.67611312866211,
          -25.346294403076172,
          -12.628310203552246,
          35.23699188232422,
          25.912464141845703,
          -43.21467208862305,
          -59.45576477050781,
          34.4509162902832,
          34.23675537109375,
          8.728679656982422,
          -10.40570068359375,
          21.49058723449707,
          -55.00345993041992,
          -11.766153335571289,
          -28.245445251464844,
          -14.964759826660156,
          -50.25093460083008,
          76.74871063232422,
          9.686681747436523,
          76.98573303222656,
          46.776695251464844,
          25.530546188354492,
          -48.48427963256836,
          0.3112849295139313,
          -55.62178421020508,
          48.07017517089844,
          -91.03050994873047,
          -73.26912689208984,
          12.89510440826416,
          11.000285148620605,
          74.11724090576172,
          -70.75948333740234,
          -28.514549255371094,
          -36.14180374145508,
          3.9765231609344482,
          36.76354217529297,
          39.25300216674805,
          11.785272598266602,
          28.18768310546875,
          -70.46784210205078,
          21.578271865844727,
          36.97642517089844,
          -5.689547061920166,
          11.741436958312988,
          -7.976399898529053,
          -37.9977912902832,
          -42.08548355102539,
          50.82231903076172,
          47.03951644897461,
          65.68775177001953,
          -10.383296966552734,
          -82.10823822021484,
          -1.3645097017288208,
          29.86702537536621,
          -25.199752807617188,
          -35.247859954833984,
          5.568917751312256,
          19.20783233642578,
          -60.782814025878906,
          -24.10316276550293,
          -5.636606216430664,
          31.628225326538086,
          -6.963607311248779,
          30.40476417541504,
          -20.734006881713867,
          61.052223205566406,
          -18.520483016967773,
          -9.88587760925293,
          21.506851196289062,
          -22.892641067504883,
          -2.8005573749542236,
          -89.71282196044922,
          34.22526168823242,
          -25.27199935913086,
          -37.37152862548828,
          49.681514739990234,
          -68.42976379394531,
          5.767890453338623,
          11.612491607666016,
          -43.30730056762695,
          -8.622175216674805,
          48.39039993286133,
          -36.04973602294922,
          58.36457824707031,
          5.850482940673828,
          -33.25540542602539,
          37.84138870239258,
          11.94615364074707,
          -13.937346458435059,
          -76.94657135009766,
          28.93859100341797,
          14.294838905334473,
          -59.94343948364258,
          -50.49248123168945,
          -3.6199607849121094,
          6.072886943817139,
          -13.361734390258789,
          -57.99749755859375,
          80.37721252441406,
          5.738363742828369,
          16.339885711669922,
          43.81019592285156,
          42.49968719482422,
          43.239166259765625,
          17.317602157592773,
          13.579325675964355,
          -39.31303405761719,
          46.36663818359375,
          11.757862091064453,
          -4.599179267883301,
          -19.46573829650879,
          78.1137924194336,
          12.025640487670898,
          7.5240020751953125,
          -55.040130615234375,
          -41.313987731933594,
          0.7603428363800049,
          -64.14370727539062,
          -36.78691101074219,
          -7.460131645202637,
          -3.486396074295044,
          -22.923248291015625,
          -54.191429138183594,
          68.67717742919922,
          -13.472043991088867,
          55.755306243896484,
          48.03693389892578,
          61.9505615234375,
          37.05500030517578,
          -29.966209411621094,
          13.330028533935547,
          -21.437368392944336,
          -48.545372009277344,
          15.8955717086792,
          -1.8873472213745117,
          1.8210505247116089,
          56.9769401550293,
          -0.16349413990974426,
          -54.307586669921875,
          -26.257003784179688,
          -5.819813251495361,
          -2.6235575675964355,
          78.08135986328125,
          38.52248001098633,
          -63.10251998901367,
          -53.10885238647461,
          -3.6647095680236816,
          -10.41159725189209,
          25.65216064453125,
          29.83686065673828,
          -3.2032113075256348,
          -90.23589324951172,
          0.4571164548397064,
          46.392677307128906,
          34.63227844238281,
          1.8483452796936035,
          -58.495452880859375,
          -56.32297134399414,
          12.12492561340332,
          -88.25914001464844,
          -86.87190246582031,
          -2.4396345615386963,
          23.512714385986328,
          13.801292419433594,
          17.81521987915039,
          36.19114303588867,
          -28.78422737121582,
          -0.5403147339820862,
          16.56431007385254,
          -10.364407539367676,
          27.62517738342285,
          27.333751678466797,
          73.14116668701172,
          -35.61311340332031,
          -34.250064849853516,
          24.03641128540039,
          -27.578716278076172,
          -48.525753021240234,
          -56.39643859863281,
          -45.21257400512695,
          78.58905029296875,
          -33.583717346191406,
          -32.03432846069336,
          18.377788543701172,
          -45.453792572021484,
          3.9765641689300537,
          48.45044708251953,
          12.299751281738281,
          -8.866917610168457,
          -22.253765106201172,
          -4.115915298461914,
          52.699806213378906,
          72.4912338256836,
          -38.52399444580078,
          -28.66611671447754,
          60.13515090942383,
          -4.438684940338135,
          60.589820861816406,
          41.36399841308594,
          60.94218826293945,
          59.7108154296875,
          19.752206802368164,
          -79.2723617553711,
          -32.70620346069336,
          48.22468948364258,
          2.7407867908477783,
          4.527042865753174,
          61.21721649169922,
          -28.40611457824707,
          77.50454711914062,
          -21.05218505859375,
          -8.585110664367676,
          83.7430419921875,
          -20.148277282714844,
          39.17219161987305,
          -69.8057861328125,
          -9.298797607421875,
          -46.56317901611328,
          -79.5091781616211,
          -3.5121631622314453,
          -37.32390594482422,
          -51.93933868408203,
          -15.674835205078125,
          46.434730529785156,
          15.353480339050293,
          49.32093811035156,
          -13.438211441040039,
          -71.7730484008789,
          -2.4236996173858643,
          35.19218063354492,
          43.83442306518555,
          22.2278995513916,
          46.59128952026367,
          56.88310623168945,
          38.0307502746582,
          40.29407501220703,
          -8.891406059265137,
          28.471593856811523,
          -9.114761352539062,
          3.0532991886138916,
          22.562665939331055,
          16.279254913330078,
          62.004913330078125,
          -44.99698257446289,
          -48.02191925048828,
          12.430855751037598,
          21.28446388244629,
          21.573179244995117,
          -25.180130004882812,
          -23.888940811157227,
          27.428794860839844,
          28.7529239654541,
          77.72075653076172,
          21.31410789489746,
          -9.281007766723633,
          52.88753128051758,
          77.31794738769531,
          -1.5091056823730469,
          -27.174808502197266,
          14.54675579071045,
          56.13786697387695,
          46.056705474853516,
          7.66134786605835,
          -17.333816528320312,
          -73.2532730102539,
          26.59813117980957,
          3.2241170406341553,
          -14.209085464477539,
          17.355287551879883,
          -69.84920501708984,
          -26.757545471191406,
          -33.385498046875,
          -28.214887619018555,
          5.057591915130615,
          -46.37228775024414,
          33.77418518066406,
          8.963072776794434,
          64.863037109375,
          -10.471640586853027,
          -22.048322677612305,
          78.28888702392578,
          15.13319206237793,
          12.127007484436035,
          -63.38572311401367,
          -56.453163146972656,
          -18.459104537963867,
          -20.56846046447754,
          -23.50525665283203,
          45.001312255859375,
          -35.894126892089844,
          -12.06772518157959,
          79.98625946044922,
          -35.752769470214844,
          76.7563705444336,
          -16.634601593017578,
          12.580543518066406,
          17.764158248901367,
          -41.65147018432617,
          63.974510192871094,
          -5.351225852966309,
          -52.082942962646484,
          72.53522491455078,
          -25.627058029174805,
          9.710892677307129,
          48.21339797973633,
          30.82293701171875,
          -3.245657444000244,
          74.17977142333984,
          -8.865386962890625,
          35.98893356323242,
          -24.39507293701172,
          -43.65308380126953,
          -27.262269973754883,
          34.15153121948242,
          -16.766141891479492,
          -56.72590255737305,
          -36.834041595458984,
          17.516977310180664,
          32.432281494140625,
          -35.88725662231445,
          -43.70807647705078,
          -8.012332916259766,
          -4.578836441040039,
          74.47486114501953,
          -56.598209381103516,
          -21.953710556030273,
          -21.879215240478516,
          -88.68987274169922,
          67.27183532714844,
          14.674087524414062,
          57.39318084716797,
          70.08551025390625,
          26.663232803344727,
          30.3591365814209,
          -54.81257247924805,
          14.419951438903809,
          -63.77424240112305,
          84.68914031982422,
          23.297693252563477,
          -10.140580177307129,
          -2.2835164070129395,
          -27.08744239807129,
          50.37826919555664,
          -13.990988731384277,
          -20.09943389892578,
          43.6207275390625,
          7.61541748046875,
          10.978970527648926,
          -8.562898635864258,
          84.76497650146484,
          -83.14595031738281,
          -7.172627925872803,
          47.15278625488281,
          56.154239654541016,
          11.976120948791504,
          5.0009989738464355,
          -33.99216842651367,
          -48.518985748291016,
          27.985143661499023,
          -31.389938354492188,
          -10.345633506774902,
          52.793922424316406,
          -20.92282485961914,
          -37.91775131225586,
          61.71123123168945,
          60.92120361328125,
          -9.265554428100586,
          -11.715963363647461,
          60.39091110229492,
          -2.752638816833496,
          49.772491455078125,
          -56.6910514831543,
          -58.061500549316406,
          -42.445377349853516,
          27.3134765625,
          7.638128757476807,
          -66.98910522460938,
          27.337604522705078,
          12.96277904510498,
          8.73291015625,
          0.7876417636871338,
          22.143890380859375,
          -11.334108352661133,
          -81.66544342041016,
          -14.199881553649902,
          56.75130844116211,
          16.106542587280273,
          -68.2196273803711,
          -6.095462322235107,
          -47.909183502197266,
          -59.152828216552734,
          -62.69888687133789,
          14.373291969299316,
          -26.491775512695312,
          -44.863121032714844,
          -35.92582321166992,
          20.84839630126953,
          26.305952072143555,
          -42.20709228515625,
          42.24354934692383,
          62.15823745727539,
          -20.201032638549805,
          -19.164657592773438,
          -70.33793640136719,
          -24.538331985473633,
          61.590980529785156,
          10.961920738220215,
          -40.89366149902344,
          25.913585662841797,
          -32.19906997680664,
          -5.357683181762695,
          31.23282814025879,
          1.8774974346160889,
          39.27875900268555,
          -89.61885070800781,
          -85.3656005859375,
          10.194329261779785,
          33.36178970336914,
          52.87477493286133,
          3.1251471042633057,
          -31.415279388427734,
          -53.51179885864258,
          23.236251831054688,
          8.10611629486084,
          22.49515724182129,
          -25.349403381347656,
          -89.43171691894531,
          -32.04546356201172,
          -18.979944229125977,
          -71.69599914550781,
          -72.310546875,
          -32.29954528808594,
          26.024974822998047,
          37.997283935546875,
          56.12625503540039,
          -30.67878532409668,
          -41.73113250732422,
          -0.06553643196821213,
          -22.165077209472656,
          54.352848052978516,
          -78.15469360351562,
          -76.67274475097656,
          -32.12977981567383,
          60.14644241333008,
          58.367889404296875,
          86.04122924804688,
          14.461134910583496,
          -0.09096306562423706,
          20.78218650817871,
          47.247802734375,
          47.39683532714844,
          4.065960884094238,
          -17.079769134521484,
          13.012934684753418,
          -10.630270957946777,
          -74.71429443359375,
          -22.758373260498047,
          -40.96757507324219,
          -8.294919967651367,
          -29.185474395751953,
          38.40425109863281,
          0.5599138736724854,
          20.340444564819336,
          49.57160949707031,
          8.087427139282227,
          -6.351351737976074,
          -45.692649841308594,
          37.584049224853516,
          10.57237434387207,
          -1.5443320274353027,
          78.5751724243164,
          79.57049560546875,
          8.93746566772461,
          16.981822967529297,
          85.89861297607422,
          -52.37385940551758,
          -4.347018718719482,
          49.58858871459961,
          52.642555236816406,
          51.7179069519043,
          -28.614639282226562,
          -80.44973754882812,
          26.786006927490234,
          -21.75588035583496,
          -13.038386344909668,
          36.317169189453125,
          67.61405181884766,
          -9.972203254699707,
          -24.17348289489746,
          28.923362731933594,
          -6.508395195007324,
          -6.004860877990723,
          -24.7762393951416,
          -2.920402765274048,
          -41.05492401123047,
          11.69066333770752,
          -19.28614044189453,
          14.947921752929688,
          -9.65274429321289,
          53.34954833984375,
          -46.44663619995117,
          -60.898963928222656,
          1.3345601558685303,
          48.13600540161133,
          7.159412860870361,
          -71.65213775634766,
          10.959178924560547,
          31.5817813873291,
          85.52741241455078,
          10.867142677307129,
          45.89091110229492,
          13.99371337890625,
          -94.19633483886719,
          21.070283889770508,
          -4.472225666046143,
          72.81468200683594,
          -84.19306182861328,
          -45.822105407714844,
          -45.33333969116211,
          50.89461135864258,
          -57.26122283935547,
          -90.84638214111328,
          -17.39635467529297,
          -20.099153518676758,
          51.600337982177734,
          23.096654891967773,
          20.749950408935547,
          -3.3888423442840576,
          -60.4928092956543,
          5.035861968994141,
          -29.395673751831055,
          86.78546905517578,
          55.84421157836914,
          71.70279693603516,
          -4.09127950668335,
          23.279268264770508,
          6.056469440460205,
          7.02691650390625,
          43.603946685791016,
          29.28817367553711,
          -20.436344146728516,
          61.86033248901367,
          -71.41817474365234,
          -12.044032096862793,
          50.31645965576172,
          73.06454467773438,
          70.69441223144531,
          0.7982866168022156,
          38.647769927978516,
          11.740675926208496,
          13.632145881652832,
          -41.96116638183594,
          -5.0264458656311035,
          19.624778747558594,
          56.966552734375,
          -59.97111892700195,
          -56.44599914550781,
          -33.39662170410156,
          30.117271423339844,
          -75.05797576904297,
          -73.73331451416016,
          26.022781372070312,
          12.42395305633545,
          -34.68048095703125,
          -7.604372024536133,
          45.093814849853516,
          -23.50214958190918,
          -70.24551391601562,
          56.760398864746094,
          -53.79905700683594,
          -87.9906005859375,
          54.68889236450195,
          52.24809646606445,
          59.36851501464844,
          -78.27626037597656,
          77.0733413696289,
          0.2246217429637909,
          -3.466306447982788,
          -26.685657501220703,
          31.56532096862793,
          1.1051111221313477,
          54.22408676147461,
          -1.2126039266586304,
          -46.3196907043457,
          -55.293907165527344,
          21.928131103515625,
          28.27520751953125,
          -24.71413230895996,
          -45.604061126708984,
          -2.8181803226470947,
          50.94172286987305,
          36.2901611328125,
          85.92771911621094,
          -62.62664031982422,
          -25.185110092163086,
          -15.145198822021484,
          -35.82622528076172,
          2.7925937175750732,
          16.966075897216797,
          -58.51555633544922,
          -22.513395309448242,
          0.4276927411556244,
          77.96270751953125,
          -31.706727981567383,
          44.4488639831543,
          -54.64313888549805,
          -23.80554962158203,
          53.620819091796875,
          -23.02182960510254,
          -54.010250091552734,
          -80.70408630371094,
          -19.77828598022461,
          -38.38283157348633,
          -35.61330032348633,
          46.67399215698242,
          48.73042297363281,
          1.651180624961853,
          33.4635124206543,
          0.7591683268547058,
          63.10695266723633,
          -70.84282684326172,
          -41.41453552246094,
          6.1746745109558105,
          80.74488067626953,
          43.297019958496094,
          -26.267671585083008,
          -3.417518377304077,
          45.40342330932617,
          -4.2873663902282715,
          74.98986053466797,
          51.835506439208984,
          -43.17736053466797,
          -15.954679489135742,
          44.501468658447266,
          0.4076489508152008,
          -66.73188781738281,
          6.503908634185791,
          -59.0792236328125,
          -54.639671325683594,
          -0.9384613037109375,
          68.25392150878906,
          -38.477699279785156,
          -23.790225982666016,
          -21.093549728393555,
          -69.3034896850586,
          8.901901245117188,
          6.536979675292969,
          32.43927764892578,
          46.10148239135742,
          45.71800231933594,
          21.34435272216797,
          -86.88854217529297,
          72.65218353271484,
          -80.00623321533203,
          -40.868553161621094,
          -26.529052734375,
          -4.546999931335449,
          9.068926811218262,
          -25.799152374267578,
          15.493288040161133,
          -56.316680908203125,
          -35.96795654296875,
          -5.642806053161621,
          -38.06986999511719,
          37.135799407958984,
          57.75544738769531,
          -42.84412384033203,
          -58.56296157836914,
          -62.50027847290039,
          -20.54792594909668,
          -14.1589994430542,
          8.66930866241455,
          -0.12416824698448181,
          74.13671112060547,
          -56.86225128173828,
          33.826393127441406,
          52.2547607421875,
          18.662111282348633,
          21.120729446411133,
          54.51020812988281,
          -49.6456184387207,
          2.4249696731567383,
          21.02156639099121,
          52.11273956298828,
          1.3894274234771729,
          -79.2263412475586,
          35.236454010009766,
          -56.09322738647461,
          -57.27629089355469,
          -24.86825942993164,
          -3.9839518070220947,
          56.834991455078125,
          -18.39064598083496,
          26.28203010559082,
          -56.968502044677734,
          82.60025024414062,
          -10.699259757995605,
          17.428165435791016,
          11.07703685760498,
          79.71028900146484,
          29.099143981933594,
          -2.011631488800049,
          35.21732711791992,
          5.590036392211914,
          -36.1028938293457,
          -4.13661003112793,
          -16.450557708740234,
          58.050750732421875,
          21.342992782592773,
          -8.50140380859375,
          -49.821109771728516,
          -18.385313034057617,
          20.020885467529297,
          1.9562119245529175,
          22.934616088867188,
          13.682316780090332,
          -10.716594696044922,
          21.343063354492188,
          58.783260345458984,
          36.4201774597168,
          -69.54115295410156,
          -53.042030334472656,
          -19.826614379882812,
          -55.74163055419922,
          20.251956939697266,
          -3.4601051807403564,
          -9.550727844238281,
          28.232553482055664,
          -10.31635856628418,
          -25.855958938598633,
          -6.100406646728516,
          70.74302673339844,
          19.86627197265625,
          -19.811037063598633,
          -37.90644454956055,
          -3.3224973678588867,
          35.74991226196289,
          -19.453344345092773,
          -22.866662979125977,
          -0.2246798425912857,
          -4.325305938720703,
          50.656455993652344,
          51.03066635131836,
          13.958900451660156,
          19.84800148010254,
          54.32006072998047,
          27.391172409057617,
          42.79230880737305,
          26.956262588500977,
          -57.73986053466797,
          77.04607391357422,
          16.959346771240234,
          -77.8992691040039,
          8.242169380187988,
          39.93341064453125,
          47.20301818847656,
          -49.05398178100586,
          5.7611212730407715,
          -14.354097366333008,
          -3.676439046859741,
          25.618606567382812,
          26.9339542388916,
          -5.599980354309082,
          23.323993682861328,
          8.259398460388184,
          -55.0611572265625,
          -14.728001594543457,
          50.288536071777344,
          36.2588005065918,
          47.962337493896484,
          -17.413183212280273,
          1.6006832122802734,
          -45.53031539916992,
          -7.253354549407959,
          44.15507888793945,
          51.721961975097656,
          -17.23002815246582,
          -82.10930633544922,
          26.507253646850586,
          50.86558532714844,
          35.3902702331543,
          63.87876892089844,
          -78.34642791748047,
          -41.648643493652344,
          38.23984146118164,
          42.466651916503906,
          18.82118034362793,
          45.55767059326172,
          2.8814921379089355,
          -51.29534149169922,
          -2.605231761932373,
          78.37460327148438,
          -80.36058044433594,
          -1.2211052179336548,
          37.2894172668457,
          3.614769697189331,
          -33.56625747680664,
          -42.22260284423828,
          0.3522387146949768,
          -35.04331588745117,
          -55.71852493286133,
          33.17873764038086,
          -70.33858489990234,
          -7.412485122680664,
          -29.54823112487793,
          43.30951690673828,
          32.14992904663086,
          -18.776874542236328,
          -32.01044845581055,
          -15.242907524108887,
          52.616634368896484,
          47.96300506591797,
          20.050579071044922,
          -4.438915729522705,
          16.0933837890625,
          16.86241340637207,
          58.113075256347656,
          44.76279067993164,
          -83.49362182617188,
          26.5493221282959,
          74.90202331542969,
          15.4383544921875,
          -54.29642105102539,
          -67.47628021240234,
          -43.22551727294922,
          73.55757904052734,
          -5.067550182342529,
          -42.623931884765625,
          -60.217132568359375,
          43.47883224487305,
          82.67059326171875,
          65.18529510498047,
          5.392390727996826,
          33.11780548095703,
          -8.87365436553955,
          -35.45775604248047,
          -46.453712463378906,
          37.44081497192383,
          -19.333330154418945,
          -24.51224708557129,
          1.3302446603775024,
          2.591615676879883,
          17.933063507080078,
          38.98442077636719,
          5.093188285827637,
          0.7974064946174622,
          12.06774616241455,
          6.926390171051025,
          13.149931907653809,
          -68.7542953491211,
          -42.76654052734375,
          87.11490631103516,
          21.485292434692383,
          -57.19191360473633,
          75.19235229492188,
          -11.275794982910156,
          -87.45698547363281,
          -54.69227600097656,
          -37.26335906982422,
          39.96470260620117,
          5.294570446014404,
          24.978731155395508,
          -51.775657653808594,
          12.102340698242188,
          41.494441986083984,
          -6.2091827392578125,
          -46.086116790771484,
          38.75961685180664,
          -26.421606063842773,
          42.9084358215332,
          41.35590744018555,
          -37.00983428955078,
          34.446861267089844,
          55.41886901855469,
          35.692596435546875,
          59.37916946411133,
          -21.045270919799805,
          72.55937194824219,
          -3.2574639320373535,
          -69.34567260742188,
          -35.606197357177734,
          39.840423583984375,
          -19.97758674621582,
          26.807392120361328,
          -10.422836303710938,
          50.73493957519531,
          -51.84891891479492,
          11.104056358337402,
          0.0168316513299942,
          -1.9621723890304565,
          51.37921905517578,
          -5.828187465667725,
          -12.15767765045166,
          -24.595279693603516,
          25.063993453979492,
          1.9638104438781738,
          -8.995739936828613,
          28.479625701904297,
          0.5530264973640442,
          4.644255638122559,
          -70.63018798828125,
          -65.28986358642578,
          19.842578887939453,
          43.15306854248047,
          -25.893510818481445,
          -26.126705169677734,
          72.29911041259766,
          -65.17045593261719,
          -60.698524475097656,
          -51.879981994628906,
          -40.24871063232422,
          23.05475425720215,
          -23.109521865844727,
          -29.02171516418457,
          33.88619613647461,
          46.241539001464844,
          -18.872446060180664,
          -12.930885314941406,
          -8.991613388061523,
          16.852069854736328,
          -6.7637763023376465,
          -15.378727912902832,
          28.138776779174805,
          77.92350006103516,
          -54.0950927734375,
          -65.86378479003906,
          -4.478056907653809,
          7.226166725158691,
          -22.29241180419922,
          -90.9256362915039,
          66.32064819335938,
          49.28404998779297,
          12.820758819580078,
          -23.265892028808594,
          -42.278045654296875,
          -58.78621292114258,
          26.430185317993164,
          -21.378921508789062,
          -29.129602432250977,
          13.431656837463379,
          -17.67962074279785,
          26.081727981567383,
          -11.86130428314209,
          -14.783443450927734,
          -36.34867858886719,
          37.40167236328125,
          -40.61387252807617,
          26.4282169342041,
          31.056447982788086,
          72.47874450683594,
          -60.35772705078125,
          -40.49769592285156,
          62.80390930175781,
          -22.053495407104492,
          -48.56227493286133,
          47.30487823486328,
          -47.46196746826172,
          8.55931282043457,
          23.645143508911133,
          -7.255881309509277,
          -46.35470199584961,
          43.3035888671875,
          -37.27174758911133,
          61.43468475341797,
          24.515037536621094,
          -67.89592742919922,
          18.950349807739258,
          -20.365713119506836,
          10.777255058288574,
          39.332096099853516,
          -9.255261421203613,
          -2.5928008556365967,
          -57.45140838623047,
          -74.81290435791016,
          -21.87641143798828,
          2.0098583698272705,
          -25.192405700683594,
          16.499345779418945,
          24.29057502746582,
          -34.60929489135742,
          -19.986282348632812,
          45.493377685546875,
          -43.927574157714844,
          -24.415300369262695,
          76.91032409667969,
          -36.705074310302734,
          80.11740112304688,
          29.551464080810547,
          12.19384765625,
          42.3850212097168,
          -23.427316665649414,
          -80.27225494384766,
          53.68825912475586,
          -18.915573120117188,
          47.905235290527344,
          -55.88719177246094,
          -37.15536117553711,
          -60.817604064941406,
          -14.390466690063477,
          0.3200027644634247,
          -42.5072135925293,
          21.73369598388672,
          -87.92400360107422,
          -7.8267388343811035,
          33.88617706298828,
          0.8421601057052612,
          4.435276508331299,
          21.702423095703125,
          43.17974853515625,
          60.7791633605957,
          14.309427261352539,
          74.77188110351562,
          -4.14850378036499,
          51.69343948364258,
          -48.7823486328125,
          -52.05994415283203,
          57.38139724731445,
          -22.460580825805664,
          -53.698768615722656,
          -33.6907844543457,
          30.296001434326172,
          -28.01871681213379,
          -11.221851348876953,
          -0.6781978011131287,
          54.58660888671875,
          67.16315460205078,
          5.26328182220459,
          0.7227151393890381,
          16.355796813964844,
          -56.94013595581055,
          -51.95629119873047,
          31.524503707885742,
          -51.548519134521484,
          -15.952714920043945,
          10.525800704956055,
          -18.810850143432617,
          -45.86547088623047,
          -4.032922744750977,
          -48.98676681518555,
          1.1819194555282593,
          -5.657160758972168,
          -19.915571212768555,
          -24.731821060180664,
          -12.876983642578125,
          42.73929214477539,
          -21.50873374938965,
          45.19835662841797,
          -0.8633162379264832,
          -71.0339126586914,
          -26.872005462646484,
          -5.818694591522217,
          -14.124314308166504,
          8.008605003356934,
          72.63794708251953,
          13.853957176208496,
          20.334331512451172,
          24.69648551940918,
          -14.322529792785645,
          -27.317529678344727,
          -25.944562911987305,
          73.62189483642578,
          -72.97178649902344,
          6.803133964538574,
          -2.61618709564209,
          1.724108099937439,
          19.40453338623047,
          -11.157425880432129,
          49.8028450012207,
          12.542851448059082,
          89.96109008789062,
          33.65294647216797,
          -64.54752349853516,
          71.05903625488281,
          16.809051513671875,
          -31.750146865844727,
          -31.109949111938477,
          -4.004906177520752,
          11.727901458740234,
          -41.311710357666016,
          37.612430572509766,
          8.419818878173828,
          19.668020248413086,
          46.087371826171875,
          17.088584899902344,
          -6.111516952514648,
          54.35874557495117,
          34.278446197509766,
          47.9825439453125,
          18.382305145263672,
          23.514812469482422,
          81.46057891845703,
          -41.05549621582031,
          -57.103004455566406,
          17.321714401245117,
          12.961233139038086,
          -23.99308204650879,
          66.9089126586914,
          6.995321273803711,
          41.28117370605469,
          -10.637986183166504,
          -29.512990951538086,
          10.641679763793945,
          -27.930892944335938,
          63.27035903930664,
          -6.006961345672607,
          -57.666343688964844,
          5.836654186248779,
          -21.021724700927734,
          59.97135925292969,
          33.645835876464844,
          34.452823638916016,
          -24.345928192138672,
          -79.79013061523438,
          74.84928894042969,
          -11.956104278564453,
          -34.151119232177734,
          -70.89311981201172,
          -49.90948486328125,
          53.93622970581055,
          34.68780517578125,
          -8.254264831542969,
          43.031620025634766,
          -30.818037033081055,
          25.01582908630371,
          -41.65352249145508,
          -41.55809020996094,
          -28.90172576904297,
          17.813426971435547,
          -2.952662944793701,
          51.19068908691406,
          -56.68783950805664,
          41.84308624267578,
          -62.09840774536133,
          -81.5098648071289,
          3.801166534423828,
          -28.904796600341797,
          -47.058555603027344,
          2.8345017433166504,
          -21.642412185668945,
          -14.787050247192383,
          39.649375915527344,
          -55.00950241088867,
          -56.26906967163086,
          11.45620346069336,
          79.34866333007812,
          2.6722426414489746,
          -57.2420768737793,
          1.401649832725525,
          48.999542236328125,
          8.556344985961914,
          -15.421011924743652,
          24.125932693481445,
          72.2717514038086,
          -37.68856430053711,
          -8.370097160339355,
          -80.44766998291016,
          12.723221778869629,
          -27.7805233001709,
          58.05712890625,
          4.051708698272705,
          64.2447280883789,
          -25.43064308166504,
          11.230931282043457,
          57.84156036376953,
          28.90727424621582,
          15.228569984436035,
          -13.603219985961914,
          1.8899071216583252,
          64.66127014160156,
          8.824797630310059,
          73.98644256591797,
          46.69227600097656,
          40.09950256347656,
          1.628220558166504,
          -10.868496894836426,
          60.57737731933594,
          67.18610382080078,
          74.64527130126953,
          34.36369323730469,
          48.13227462768555,
          26.44794464111328,
          -0.0358230285346508,
          20.61172103881836,
          2.8863203525543213,
          11.773701667785645,
          57.60734939575195,
          9.682034492492676,
          18.038814544677734,
          -6.054956436157227,
          -87.86540985107422,
          24.737958908081055,
          -17.393281936645508,
          50.31056594848633,
          42.84383010864258,
          -19.704805374145508,
          22.57304573059082,
          53.90011978149414,
          -30.62296485900879,
          -49.478858947753906,
          13.854580879211426,
          47.65577697753906,
          12.846985816955566,
          -78.15299224853516,
          -79.23323822021484,
          -18.249555587768555,
          2.3062825202941895,
          -58.30113983154297,
          44.113529205322266,
          -9.137040138244629,
          21.504573822021484,
          -71.57777404785156,
          -10.185029983520508,
          40.967044830322266,
          83.86367797851562,
          9.558834075927734,
          -40.04233169555664,
          -75.61871337890625,
          44.272857666015625,
          -63.460636138916016,
          33.926292419433594,
          -4.059593677520752,
          -30.82969093322754,
          -1.4533218145370483,
          -24.271648406982422,
          -46.4452018737793,
          -9.348037719726562,
          -28.19101333618164,
          -32.359588623046875,
          46.967063903808594,
          32.217891693115234,
          16.876502990722656,
          18.450002670288086,
          13.058869361877441,
          -21.328195571899414,
          50.06133270263672,
          12.78825569152832,
          22.622600555419922,
          -25.663095474243164,
          18.53120231628418,
          -36.78041458129883,
          4.9907002449035645,
          65.07176208496094,
          12.218454360961914,
          61.51045608520508,
          87.27176666259766,
          50.23179626464844,
          26.533044815063477,
          76.22045135498047,
          -49.563846588134766,
          1.5166988372802734,
          2.472810745239258,
          17.57984733581543,
          -59.44838333129883,
          -87.39124298095703,
          10.266228675842285,
          -70.07723999023438,
          -9.918246269226074,
          -26.555105209350586,
          50.25749969482422,
          41.019081115722656,
          34.63243865966797,
          -34.16999435424805,
          44.230369567871094,
          25.765586853027344,
          -23.331401824951172,
          -33.711326599121094,
          4.8037614822387695,
          -69.53842163085938,
          -2.29093074798584,
          -35.15324783325195,
          14.01903247833252,
          -32.05768966674805,
          27.064208984375,
          13.530121803283691,
          2.086184501647949,
          -75.74129486083984,
          33.06043243408203,
          -26.482412338256836,
          -24.99420166015625,
          38.61192321777344,
          -57.05678176879883,
          39.74691390991211,
          -14.704572677612305,
          -44.02313232421875,
          4.423965930938721,
          -59.94028854370117,
          -5.388083457946777,
          26.951662063598633,
          9.315617561340332,
          86.67444610595703,
          -43.2175178527832,
          20.90049934387207,
          7.061023712158203,
          11.795389175415039,
          -51.43758773803711,
          -56.088226318359375,
          49.820343017578125,
          4.862501621246338,
          8.177806854248047,
          -8.889126777648926,
          -27.380455017089844,
          37.3350830078125,
          78.58522033691406,
          -21.342700958251953,
          17.087753295898438,
          22.478654861450195,
          -43.01753234863281,
          3.953075408935547,
          2.393293857574463,
          -63.22263717651367,
          -21.997045516967773,
          30.69743537902832,
          -56.917808532714844,
          39.28742599487305,
          51.31371307373047,
          -31.459375381469727,
          -42.41437911987305,
          -2.0946428775787354,
          45.403053283691406,
          -37.2477912902832,
          -54.204551696777344,
          -38.390682220458984,
          7.203852653503418,
          -7.914953231811523,
          19.530994415283203,
          -18.390790939331055,
          47.3583984375,
          -10.113204002380371,
          -54.186737060546875,
          67.13595581054688,
          44.89063262939453,
          -36.011199951171875,
          -27.886253356933594,
          39.67951202392578,
          10.005274772644043,
          24.234193801879883,
          23.405418395996094,
          -51.12043762207031,
          -8.941794395446777,
          48.63383865356445,
          43.4652214050293,
          15.221501350402832,
          -20.1282958984375,
          -58.21434020996094,
          -22.985776901245117,
          -14.407665252685547,
          -59.088706970214844,
          -69.79281616210938,
          38.6700553894043,
          31.335567474365234,
          67.84092712402344,
          1.3806517124176025,
          -38.35238265991211,
          -52.57645034790039,
          2.1170544624328613,
          -72.76456451416016,
          -0.4206244647502899,
          76.45834350585938,
          14.988253593444824,
          -48.034881591796875,
          -47.1370735168457,
          -67.34394073486328,
          -61.96342086791992,
          -3.9793708324432373,
          -26.230777740478516,
          -59.2242317199707,
          -8.396466255187988,
          5.666137218475342,
          27.202091217041016,
          -57.57998275756836,
          -66.40164947509766,
          36.74655532836914,
          81.03718566894531,
          -14.348301887512207,
          -4.695260524749756,
          -60.63665771484375,
          -5.4551286697387695,
          -63.42568588256836,
          89.8315658569336,
          39.96280288696289,
          -24.888212203979492,
          -50.4727668762207,
          -16.74333381652832,
          -1.6556668281555176,
          -67.96443939208984,
          -10.91019058227539,
          77.13604736328125,
          17.43086051940918,
          -2.9798078536987305,
          -49.909637451171875,
          50.886714935302734,
          -30.888914108276367,
          65.41157531738281,
          -56.348567962646484,
          -0.5230163931846619,
          1.4910969734191895,
          26.904033660888672,
          -80.25048828125,
          -10.263057708740234,
          -57.36662292480469,
          -8.429738998413086,
          -51.87710952758789,
          49.68678283691406,
          -23.505619049072266,
          15.260457038879395,
          38.637752532958984,
          -26.219562530517578,
          65.25897216796875,
          10.85527515411377,
          46.664825439453125,
          79.4741439819336,
          -33.141109466552734,
          7.2535200119018555,
          34.55980682373047,
          20.09335708618164,
          61.890132904052734,
          26.577320098876953,
          -43.58161926269531,
          50.71363067626953,
          -6.176770210266113,
          37.48118209838867,
          71.99020385742188,
          45.01804733276367,
          -32.90133285522461,
          23.279277801513672,
          -4.647983074188232,
          12.307990074157715,
          6.3253936767578125,
          -50.1470947265625,
          8.12479305267334,
          26.221099853515625,
          -9.900763511657715,
          -69.76546478271484,
          -20.617530822753906,
          47.89216613769531,
          8.99046516418457,
          11.344058990478516,
          -0.24789778888225555,
          -66.04444122314453,
          9.985087394714355,
          -31.050575256347656,
          19.123624801635742,
          -22.581785202026367,
          23.817447662353516,
          12.737135887145996,
          17.167034149169922,
          -51.9587287902832,
          -32.68169021606445,
          41.79310607910156,
          60.632991790771484,
          13.789677619934082,
          56.26566696166992,
          -39.234928131103516,
          4.722445487976074,
          42.08053970336914,
          62.18820571899414,
          -43.70124053955078,
          53.65145492553711,
          36.77922821044922,
          -86.7903823852539,
          6.11241340637207,
          43.55708694458008,
          62.60697937011719,
          8.365592002868652,
          -55.835880279541016,
          -8.678215026855469,
          1.5709534883499146,
          -8.2966890335083,
          45.88243103027344,
          64.82788848876953,
          75.69915008544922,
          15.594605445861816,
          44.952178955078125,
          -60.33488845825195,
          56.3400993347168,
          -14.635835647583008,
          25.377931594848633,
          16.91233253479004,
          -8.758625984191895,
          45.29299545288086,
          -21.01800537109375,
          -34.121421813964844,
          -0.5600271224975586,
          22.69276237487793,
          66.59112548828125,
          -34.40987777709961,
          45.765323638916016,
          -70.07291412353516,
          -55.27265548706055,
          -19.636905670166016,
          62.243892669677734,
          28.220426559448242,
          -35.69928741455078,
          -48.06861877441406,
          -36.63526153564453,
          39.249507904052734,
          31.979646682739258,
          -78.11612701416016,
          32.695404052734375,
          23.656808853149414,
          -60.40858840942383,
          1.762412667274475,
          66.90687561035156,
          -6.567750930786133,
          12.198801040649414,
          -10.362338066101074,
          -5.6168742179870605,
          -79.59889221191406,
          12.779425621032715,
          -63.855079650878906,
          31.58984375,
          -59.56666946411133,
          -3.309514045715332,
          16.31995391845703,
          0.1266849935054779,
          44.49245071411133,
          -27.087923049926758,
          23.444406509399414,
          -85.95262145996094,
          -43.277565002441406,
          8.041438102722168,
          44.52895736694336,
          -17.034181594848633,
          -5.261157035827637,
          -10.12368106842041,
          -62.47417449951172,
          -17.296798706054688,
          76.9702377319336,
          20.552186965942383,
          49.2720947265625,
          4.268933296203613,
          -45.885555267333984,
          -66.293212890625,
          17.037015914916992,
          -10.55072021484375,
          -36.924591064453125,
          -63.935218811035156,
          -51.44719314575195,
          -25.441608428955078,
          63.97807312011719,
          83.97749328613281,
          -1.2480016946792603,
          -40.92115783691406,
          9.925209045410156,
          16.693775177001953,
          -6.162883281707764,
          8.963863372802734,
          10.97413158416748,
          6.045200347900391,
          -64.69931030273438,
          4.150654315948486,
          0.2804099917411804,
          47.602699279785156,
          4.435311317443848,
          -3.3991568088531494,
          -21.725135803222656,
          -58.04364013671875,
          -55.93180847167969,
          -5.0177435874938965,
          2.8858988285064697,
          -20.9851016998291,
          18.47625160217285,
          -88.22871398925781,
          -31.643949508666992,
          23.949007034301758,
          -39.59572982788086,
          67.60491943359375,
          49.53813552856445,
          60.29829025268555,
          -6.91105842590332,
          -42.089115142822266,
          -69.58003997802734,
          -15.795816421508789,
          -23.083934783935547,
          37.88092041015625,
          0.7468435168266296,
          70.83322143554688,
          -38.656124114990234,
          -12.3528470993042,
          -36.90731430053711,
          -51.1851692199707,
          35.24941635131836,
          -55.15382766723633,
          -21.262813568115234,
          -73.34989929199219,
          62.65534973144531,
          14.036582946777344,
          25.923858642578125,
          -30.909873962402344,
          27.334312438964844,
          24.29743766784668,
          18.773298263549805,
          32.20267105102539,
          -21.833677291870117,
          79.66082000732422,
          -15.801895141601562,
          -52.45443344116211,
          -49.883567810058594,
          -71.90520477294922,
          42.396915435791016,
          -66.75988006591797,
          -19.549150466918945,
          15.124356269836426,
          -65.30467987060547,
          47.42230987548828,
          54.45310592651367,
          6.3170976638793945,
          -3.312687635421753,
          0.33325397968292236,
          57.990760803222656,
          1.8096811771392822,
          58.008453369140625,
          -88.0155258178711,
          -37.696685791015625,
          -73.39686584472656,
          -34.03662109375,
          -16.92127799987793,
          -10.457253456115723,
          17.430553436279297,
          14.993101119995117,
          23.837984085083008,
          73.8210678100586,
          -12.520914077758789,
          -90.19461059570312,
          -83.78311157226562,
          29.40276336669922,
          35.967464447021484,
          74.82530975341797,
          28.784006118774414,
          11.943108558654785,
          -37.917205810546875,
          -57.38184356689453,
          78.3653335571289,
          -10.885333061218262,
          85.34551239013672,
          44.509647369384766,
          -13.993408203125,
          6.341272830963135,
          -19.3480167388916,
          -25.194557189941406,
          6.1236958503723145,
          -37.944950103759766,
          13.636833190917969,
          -33.840065002441406,
          -23.73537254333496,
          2.0049452781677246,
          1.612768530845642,
          59.207122802734375,
          36.28969955444336,
          28.51194190979004,
          26.96063232421875,
          79.46800994873047,
          -82.24272918701172,
          -50.851993560791016,
          13.911346435546875,
          65.07826232910156,
          40.74452590942383,
          -35.34696960449219,
          -37.88796615600586,
          -62.16657638549805,
          -24.79994773864746,
          10.18414306640625,
          30.24583625793457,
          -43.261234283447266,
          -76.89520263671875,
          -52.68378448486328,
          23.0416259765625,
          -49.11709213256836,
          -18.843238830566406,
          -24.18517303466797,
          -12.457128524780273,
          -7.8629021644592285,
          33.16854476928711,
          -53.16590881347656,
          -25.622766494750977,
          -13.748893737792969,
          -11.53298282623291,
          -19.844268798828125,
          33.28239059448242,
          30.889665603637695,
          -28.51038932800293,
          -68.04507446289062,
          -37.48616027832031,
          -11.375798225402832,
          14.822669982910156,
          -51.8915901184082,
          -59.24576187133789,
          -32.20358657836914,
          -40.25349807739258,
          -21.107229232788086,
          79.98609161376953,
          -51.86433792114258,
          -32.136138916015625,
          -35.847007751464844,
          -57.48326110839844,
          -37.23489761352539,
          -57.93165969848633,
          77.27129364013672,
          11.870716094970703,
          -87.20203399658203,
          -18.33382797241211,
          -14.4569673538208,
          16.32318115234375,
          13.779796600341797,
          19.07557487487793,
          16.26149559020996,
          -27.8712215423584,
          -8.70489501953125,
          62.066287994384766,
          -1.0530036687850952,
          -11.718727111816406,
          -63.305320739746094,
          5.715852737426758,
          3.5732178688049316,
          -25.866384506225586,
          -17.369050979614258,
          23.15562629699707,
          32.91936492919922,
          -11.660356521606445,
          18.073322296142578,
          17.180593490600586,
          45.49176025390625,
          -7.007740020751953,
          25.326078414916992,
          -81.55888366699219,
          -5.33329963684082,
          51.735740661621094,
          -4.343866348266602,
          36.270965576171875,
          -67.77196502685547
         ],
         "xaxis": "x",
         "y": [
          23.09756088256836,
          4.388855457305908,
          10.63566780090332,
          48.187591552734375,
          -53.78501892089844,
          -20.323890686035156,
          8.154603958129883,
          2.203007221221924,
          -42.49411392211914,
          -44.0595588684082,
          -31.434843063354492,
          -29.856342315673828,
          -42.81119918823242,
          13.932598114013672,
          35.920021057128906,
          -15.392562866210938,
          -1.8651018142700195,
          7.337661266326904,
          16.406200408935547,
          9.136482238769531,
          62.31803894042969,
          64.42826080322266,
          -8.775944709777832,
          36.77920150756836,
          18.974414825439453,
          34.10005187988281,
          7.100637435913086,
          17.46135711669922,
          52.149993896484375,
          23.62238121032715,
          -49.98832321166992,
          1.9365547895431519,
          -0.9808621406555176,
          -37.598697662353516,
          -50.3752555847168,
          43.57136154174805,
          -12.761383056640625,
          -17.903017044067383,
          1.484130620956421,
          19.983081817626953,
          -71.93865966796875,
          43.5266227722168,
          -9.844450950622559,
          -53.75822067260742,
          -77.8381576538086,
          59.81765365600586,
          -11.515984535217285,
          32.717018127441406,
          -7.786763668060303,
          25.263212203979492,
          63.00637435913086,
          -75.72695922851562,
          -74.76158905029297,
          41.06837844848633,
          6.102974891662598,
          -16.856220245361328,
          58.130088806152344,
          48.905738830566406,
          71.59146118164062,
          16.23443031311035,
          82.64434051513672,
          -12.004400253295898,
          -73.97663879394531,
          68.70471954345703,
          57.37431335449219,
          26.319374084472656,
          49.95857238769531,
          -37.485477447509766,
          11.347057342529297,
          -34.87031173706055,
          -14.272377967834473,
          0.0895063579082489,
          72.48038482666016,
          -78.77726745605469,
          9.566703796386719,
          -35.570640563964844,
          -49.07857894897461,
          70.26907348632812,
          45.4492301940918,
          27.7620906829834,
          -80.25846862792969,
          6.297534942626953,
          12.939929008483887,
          53.86066436767578,
          66.26254272460938,
          0.6764433979988098,
          10.341207504272461,
          -48.09141540527344,
          -22.537429809570312,
          66.06431579589844,
          44.16535568237305,
          49.02035140991211,
          -23.683961868286133,
          45.70320510864258,
          6.259575843811035,
          -8.60258674621582,
          -45.77616882324219,
          26.15618133544922,
          -58.04161071777344,
          -29.205244064331055,
          67.14913177490234,
          50.100284576416016,
          34.38175964355469,
          13.84648609161377,
          -22.30997657775879,
          -8.389142990112305,
          -56.538360595703125,
          -10.076765060424805,
          30.99833106994629,
          -42.81258773803711,
          2.4976840019226074,
          -2.725614547729492,
          50.89439392089844,
          -62.28525161743164,
          44.377197265625,
          1.7137097120285034,
          -15.728845596313477,
          -5.391289710998535,
          -57.95632553100586,
          38.09020233154297,
          -16.814197540283203,
          -84.4869613647461,
          77.25825500488281,
          -7.652806758880615,
          20.657102584838867,
          6.031997203826904,
          9.6308012008667,
          -60.455665588378906,
          50.596981048583984,
          -13.95688247680664,
          7.216134071350098,
          67.45824432373047,
          50.66248321533203,
          -1.2813959121704102,
          1.8832954168319702,
          -33.320213317871094,
          19.493995666503906,
          12.7713623046875,
          -28.59185791015625,
          34.739532470703125,
          83.5119857788086,
          -10.605269432067871,
          24.31710433959961,
          18.384065628051758,
          4.596188068389893,
          -77.2945785522461,
          6.727069854736328,
          6.982426643371582,
          -27.636493682861328,
          5.5140814781188965,
          -14.953372955322266,
          2.0294721126556396,
          49.83354568481445,
          -9.41141414642334,
          40.357242584228516,
          -78.7510986328125,
          4.636641979217529,
          -4.416008472442627,
          12.004996299743652,
          16.09657096862793,
          61.613929748535156,
          -9.918414115905762,
          -45.857112884521484,
          -51.14765548706055,
          -13.229642868041992,
          -45.71152877807617,
          -20.85654067993164,
          -22.125852584838867,
          -55.28569793701172,
          -24.550559997558594,
          -74.34303283691406,
          -87.49542236328125,
          -21.60629653930664,
          41.859371185302734,
          -58.19430160522461,
          -17.06231689453125,
          46.76292037963867,
          67.9923324584961,
          -53.56519317626953,
          84.54727172851562,
          -3.9224984645843506,
          -69.80648040771484,
          9.87346363067627,
          63.949615478515625,
          10.37131404876709,
          -22.632564544677734,
          -39.56041717529297,
          -67.94942474365234,
          41.35487365722656,
          0.5951038002967834,
          78.43867492675781,
          64.50708770751953,
          43.701229095458984,
          -76.51683807373047,
          40.13552474975586,
          -37.39595031738281,
          -31.93550682067871,
          -47.02082443237305,
          -58.791603088378906,
          22.453689575195312,
          -38.50548553466797,
          -64.20857238769531,
          -40.99272918701172,
          -26.22745132446289,
          16.486474990844727,
          -24.329999923706055,
          -2.112776279449463,
          37.266780853271484,
          59.71649169921875,
          2.3237273693084717,
          35.625152587890625,
          -6.613293647766113,
          49.669132232666016,
          -6.519309043884277,
          81.66093444824219,
          62.865901947021484,
          -21.141395568847656,
          42.35075378417969,
          69.4270248413086,
          -20.096416473388672,
          -28.07405662536621,
          33.57069396972656,
          56.35113525390625,
          -36.7612419128418,
          -18.54583168029785,
          23.13245964050293,
          -66.09828186035156,
          40.90083694458008,
          -14.786358833312988,
          -9.996393203735352,
          72.47726440429688,
          -91.92835235595703,
          -4.2728352546691895,
          30.00095558166504,
          1.575334072113037,
          -42.811988830566406,
          -6.5103936195373535,
          -77.4500503540039,
          -10.74787712097168,
          -25.648317337036133,
          59.576873779296875,
          -25.78243637084961,
          -54.34011459350586,
          2.23714280128479,
          55.018585205078125,
          38.34877395629883,
          6.303544998168945,
          17.218029022216797,
          9.385977745056152,
          7.245664119720459,
          65.42206573486328,
          -74.39033508300781,
          8.910353660583496,
          11.585938453674316,
          -45.67138671875,
          28.267311096191406,
          -2.1487724781036377,
          11.872504234313965,
          -39.244327545166016,
          27.491193771362305,
          44.82276916503906,
          31.360200881958008,
          80.81257629394531,
          71.38944244384766,
          58.78247833251953,
          -52.252235412597656,
          34.56612777709961,
          84.58562469482422,
          -75.76750183105469,
          -45.89549255371094,
          -28.043668746948242,
          69.05155944824219,
          -64.67589569091797,
          -35.372459411621094,
          -56.10413360595703,
          70.61312103271484,
          -45.4057502746582,
          -52.17377853393555,
          -5.080415725708008,
          -74.06082153320312,
          74.487548828125,
          -44.56268310546875,
          8.965377807617188,
          -50.25016403198242,
          -10.076440811157227,
          49.4815673828125,
          42.092742919921875,
          -4.135025978088379,
          -75.1467514038086,
          64.52647399902344,
          44.34089279174805,
          -46.736656188964844,
          3.3273987770080566,
          -73.50225067138672,
          11.627676963806152,
          31.456697463989258,
          -17.743228912353516,
          20.148658752441406,
          -11.036811828613281,
          -37.85044479370117,
          46.67546081542969,
          -69.00657653808594,
          -70.46110534667969,
          -66.8923110961914,
          -15.285100936889648,
          32.31959915161133,
          2.8602921962738037,
          2.31614089012146,
          36.96052169799805,
          -89.21783447265625,
          -19.116901397705078,
          -38.844364166259766,
          19.609830856323242,
          -16.778175354003906,
          26.528457641601562,
          -61.66710662841797,
          31.325992584228516,
          -1.206065058708191,
          -57.88140106201172,
          18.35314178466797,
          40.3812255859375,
          1.9507277011871338,
          -13.793086051940918,
          -11.497907638549805,
          -42.47079086303711,
          -39.12542724609375,
          12.291147232055664,
          -7.447884559631348,
          -57.347923278808594,
          -53.07831954956055,
          -29.59320640563965,
          65.9670181274414,
          -16.57337188720703,
          49.801753997802734,
          -10.410841941833496,
          -81.70844268798828,
          70.19990539550781,
          -37.50205993652344,
          -10.849288940429688,
          17.040451049804688,
          28.78987693786621,
          -9.295063972473145,
          -29.260765075683594,
          -8.508124351501465,
          -86.12615966796875,
          -34.870487213134766,
          -19.556928634643555,
          30.08623695373535,
          0.9099864363670349,
          51.888816833496094,
          -35.68907165527344,
          2.284703254699707,
          -63.4002571105957,
          -57.31380844116211,
          -24.804765701293945,
          -8.88647174835205,
          68.57085418701172,
          -67.60396575927734,
          -25.55255889892578,
          4.276042938232422,
          47.96786117553711,
          -7.785627841949463,
          60.845603942871094,
          56.65459060668945,
          27.156736373901367,
          -14.80866813659668,
          -39.72780227661133,
          -2.233083724975586,
          31.4987850189209,
          -72.1344223022461,
          16.777801513671875,
          39.895511627197266,
          52.47555923461914,
          5.713083744049072,
          61.90957260131836,
          -41.76681137084961,
          12.312911987304688,
          -29.67789649963379,
          42.824440002441406,
          54.55144119262695,
          19.265947341918945,
          -9.437870979309082,
          52.56688690185547,
          41.94861602783203,
          -46.16598892211914,
          3.2901031970977783,
          27.751068115234375,
          -71.92369842529297,
          16.645950317382812,
          -67.4717788696289,
          -9.400197982788086,
          19.28666114807129,
          40.22322082519531,
          -81.65650177001953,
          30.386566162109375,
          -34.79030990600586,
          30.207202911376953,
          -35.92426300048828,
          -40.45442581176758,
          -36.582157135009766,
          18.499448776245117,
          -31.891294479370117,
          -4.384698390960693,
          -0.08180272579193115,
          -9.44035530090332,
          -53.985069274902344,
          25.93027687072754,
          37.72437286376953,
          -58.13804244995117,
          -9.473243713378906,
          42.40282440185547,
          -13.680286407470703,
          -6.922270774841309,
          -55.81221008300781,
          -9.720306396484375,
          37.36701202392578,
          8.865480422973633,
          -36.921485900878906,
          -2.9496521949768066,
          -36.36829376220703,
          -4.047511100769043,
          -59.177425384521484,
          22.981281280517578,
          -16.567575454711914,
          74.79899597167969,
          4.316745281219482,
          29.527334213256836,
          8.944438934326172,
          20.157100677490234,
          -10.672748565673828,
          38.11358642578125,
          -65.45986938476562,
          31.783329010009766,
          61.734153747558594,
          43.81867980957031,
          58.53276443481445,
          35.317161560058594,
          -27.088787078857422,
          16.876434326171875,
          -42.38340377807617,
          49.46187210083008,
          -9.5487699508667,
          -18.783288955688477,
          -40.40176773071289,
          14.24111557006836,
          62.02855682373047,
          -28.2983341217041,
          -41.78599548339844,
          5.812773704528809,
          51.27854537963867,
          -49.87498474121094,
          -42.72090148925781,
          60.3116340637207,
          63.624794006347656,
          19.248868942260742,
          43.52933120727539,
          -52.48993682861328,
          48.68673324584961,
          25.139583587646484,
          4.4573655128479,
          80.18331909179688,
          62.24010467529297,
          57.65694046020508,
          -12.842021942138672,
          70.08599853515625,
          14.25241756439209,
          -26.32608985900879,
          1.8317962884902954,
          -78.89127349853516,
          65.23168182373047,
          3.3983447551727295,
          -52.980560302734375,
          74.50923156738281,
          -39.7514533996582,
          -67.43325805664062,
          7.6798224449157715,
          73.87071990966797,
          -59.697914123535156,
          27.750614166259766,
          32.98189926147461,
          79.72439575195312,
          4.046192169189453,
          -3.3588268756866455,
          -17.358230590820312,
          33.73848342895508,
          37.531497955322266,
          -44.02592086791992,
          -51.501827239990234,
          -38.85239791870117,
          10.835293769836426,
          40.54041290283203,
          -61.992332458496094,
          19.08173942565918,
          27.50040626525879,
          -3.185926675796509,
          -58.70288848876953,
          -74.74674224853516,
          33.548892974853516,
          -57.520774841308594,
          5.331582069396973,
          73.78824615478516,
          -42.1204948425293,
          72.36631774902344,
          -51.00369644165039,
          -37.490211486816406,
          75.86702728271484,
          -52.3011474609375,
          -38.111698150634766,
          6.82645320892334,
          60.16331481933594,
          -52.890647888183594,
          31.820554733276367,
          48.64649200439453,
          22.185100555419922,
          -1.6364613771438599,
          -77.46446228027344,
          -21.975482940673828,
          41.22941589355469,
          39.429019927978516,
          12.012445449829102,
          5.220287322998047,
          -8.57486629486084,
          13.06392765045166,
          38.002593994140625,
          60.687721252441406,
          -8.326675415039062,
          6.736180782318115,
          -32.821678161621094,
          -46.390933990478516,
          38.5098876953125,
          63.9273567199707,
          -67.43478393554688,
          -14.171858787536621,
          -68.40007781982422,
          39.2750129699707,
          -15.437108039855957,
          25.801570892333984,
          -41.2513313293457,
          29.966411590576172,
          20.64693832397461,
          -39.762672424316406,
          -28.224201202392578,
          -26.2545223236084,
          65.19539642333984,
          16.81313705444336,
          23.067913055419922,
          3.616976261138916,
          -59.58369445800781,
          68.4046630859375,
          -42.06180953979492,
          -22.425874710083008,
          0.6098043918609619,
          -2.6265857219696045,
          -11.747258186340332,
          9.718897819519043,
          3.6456732749938965,
          15.82767391204834,
          0.32567495107650757,
          -29.557838439941406,
          22.110065460205078,
          16.348979949951172,
          44.16899490356445,
          -48.998111724853516,
          -75.26750183105469,
          -36.372100830078125,
          15.228949546813965,
          -39.20469665527344,
          -10.790233612060547,
          -22.248586654663086,
          -44.61479187011719,
          -0.4083375632762909,
          29.551738739013672,
          66.944580078125,
          -51.499271392822266,
          -74.6414566040039,
          1.1522804498672485,
          15.058650016784668,
          63.01026153564453,
          -21.26588249206543,
          -62.23216247558594,
          64.29559326171875,
          -39.27964782714844,
          36.746097564697266,
          -2.1306421756744385,
          9.475702285766602,
          63.438148498535156,
          35.37921905517578,
          -21.344711303710938,
          39.527069091796875,
          30.932628631591797,
          -25.402196884155273,
          60.6242561340332,
          16.22322654724121,
          62.67625045776367,
          -44.9494743347168,
          -40.045989990234375,
          -44.080081939697266,
          -13.500051498413086,
          84.1649169921875,
          -40.72645950317383,
          11.048884391784668,
          -76.24469757080078,
          -46.85050582885742,
          -68.26344299316406,
          -20.849435806274414,
          -40.725563049316406,
          -84.0234146118164,
          72.675537109375,
          2.688621759414673,
          13.505609512329102,
          -34.948001861572266,
          16.94476890563965,
          0.9361734986305237,
          24.405113220214844,
          -66.1544189453125,
          79.21794891357422,
          -67.94146728515625,
          52.61972427368164,
          -41.50947952270508,
          -23.246135711669922,
          32.71004867553711,
          -41.737815856933594,
          -11.669795989990234,
          -6.446091651916504,
          -62.37357711791992,
          -49.7003173828125,
          -77.1246566772461,
          -18.65404510498047,
          -11.124076843261719,
          2.7443063259124756,
          61.9162483215332,
          32.43781661987305,
          -51.78670120239258,
          -67.3508529663086,
          -4.319351673126221,
          -57.97675323486328,
          -38.8585205078125,
          -41.513824462890625,
          6.908958911895752,
          -3.85190486907959,
          49.74345016479492,
          67.72766876220703,
          57.64174270629883,
          -40.460575103759766,
          -41.94055938720703,
          -29.0405216217041,
          30.043001174926758,
          -48.0829963684082,
          -64.226806640625,
          6.114256381988525,
          44.09316635131836,
          6.227244853973389,
          -22.930002212524414,
          15.682663917541504,
          -23.155094146728516,
          -17.328144073486328,
          56.86613845825195,
          -21.004810333251953,
          -7.500344276428223,
          -73.74710083007812,
          -31.183820724487305,
          -16.809085845947266,
          33.708412170410156,
          56.32514572143555,
          41.138179779052734,
          58.22393035888672,
          -7.966715335845947,
          -52.582942962646484,
          -16.689016342163086,
          -20.891071319580078,
          49.211063385009766,
          24.589406967163086,
          63.893436431884766,
          -27.768693923950195,
          66.82854461669922,
          2.570765972137451,
          29.5207462310791,
          46.50502014160156,
          46.94981384277344,
          -8.310344696044922,
          -83.71369171142578,
          -57.93910598754883,
          -89.56753540039062,
          -36.54322814941406,
          52.6611213684082,
          66.46400451660156,
          -22.582693099975586,
          34.56010437011719,
          41.44464874267578,
          42.101173400878906,
          -0.8921166062355042,
          -29.118741989135742,
          25.624277114868164,
          -75.79653930664062,
          49.57264709472656,
          5.827799320220947,
          51.74210739135742,
          -27.663164138793945,
          52.86662292480469,
          80.86486053466797,
          5.392276763916016,
          22.814105987548828,
          20.328166961669922,
          -7.077149868011475,
          28.230932235717773,
          -13.2446870803833,
          46.254974365234375,
          -41.879451751708984,
          -33.35200500488281,
          -48.41058349609375,
          -84.917724609375,
          -8.344205856323242,
          49.973907470703125,
          59.9658088684082,
          -85.02740478515625,
          -18.079431533813477,
          42.22681427001953,
          -36.68843460083008,
          14.217098236083984,
          -24.603551864624023,
          -38.81158447265625,
          -3.8422892093658447,
          9.735849380493164,
          61.98927307128906,
          -51.49790573120117,
          -51.32974624633789,
          -50.63247299194336,
          4.940954685211182,
          -41.649436950683594,
          -40.31342315673828,
          31.39484405517578,
          68.4807357788086,
          -2.625046730041504,
          18.81298065185547,
          -2.1491479873657227,
          3.576155185699463,
          10.816444396972656,
          9.785930633544922,
          -1.7361232042312622,
          79.4829330444336,
          30.490337371826172,
          66.88994598388672,
          -77.79655456542969,
          59.14372253417969,
          3.551395893096924,
          69.23764038085938,
          -67.18255615234375,
          -9.656429290771484,
          -29.74835205078125,
          -4.1501994132995605,
          -74.09040832519531,
          -26.11810874938965,
          -44.088626861572266,
          -39.39985656738281,
          -59.11146545410156,
          -37.46235656738281,
          1.1603590250015259,
          -77.07430267333984,
          -11.554510116577148,
          -20.11663818359375,
          11.836466789245605,
          41.44227981567383,
          -13.400049209594727,
          0.8894069790840149,
          -12.523151397705078,
          27.8526611328125,
          19.65756607055664,
          -42.8497428894043,
          -85.83173370361328,
          67.4601058959961,
          -46.91251754760742,
          -16.497316360473633,
          64.03738403320312,
          11.531094551086426,
          0.5890108942985535,
          -32.97549819946289,
          18.978546142578125,
          47.92793655395508,
          47.209720611572266,
          -12.209802627563477,
          74.41070556640625,
          49.729713439941406,
          -50.367881774902344,
          -19.636917114257812,
          -0.18980450928211212,
          0.6917282938957214,
          23.138996124267578,
          12.754948616027832,
          17.267333984375,
          -4.373314380645752,
          81.9318618774414,
          -32.16456985473633,
          -64.16831970214844,
          31.069467544555664,
          2.5393495559692383,
          -58.706722259521484,
          61.619510650634766,
          -30.18311882019043,
          -31.58757209777832,
          23.474822998046875,
          -45.781375885009766,
          -5.334839344024658,
          -20.261871337890625,
          -76.41252136230469,
          -47.476436614990234,
          11.040526390075684,
          12.547430038452148,
          68.46342468261719,
          15.933853149414062,
          51.80177688598633,
          0.33254873752593994,
          -69.19791412353516,
          -9.965218544006348,
          61.51192092895508,
          56.26209259033203,
          -16.093509674072266,
          27.59331703186035,
          27.06743812561035,
          46.895835876464844,
          47.5892333984375,
          67.3600082397461,
          -19.956682205200195,
          -73.80923461914062,
          -76.16349792480469,
          -41.87575912475586,
          -58.179996490478516,
          30.824216842651367,
          27.20000457763672,
          27.92597007751465,
          16.849023818969727,
          3.028496026992798,
          50.68898010253906,
          -43.66813659667969,
          -4.9116082191467285,
          60.37955093383789,
          -11.593441009521484,
          16.052398681640625,
          -58.529296875,
          26.61158561706543,
          -81.70711517333984,
          47.579063415527344,
          -15.079360008239746,
          80.71263885498047,
          63.77775955200195,
          19.404781341552734,
          48.35443115234375,
          49.040775299072266,
          -42.61882400512695,
          -37.32301712036133,
          -14.376343727111816,
          -54.27230453491211,
          -59.17422103881836,
          69.42529296875,
          -9.713277816772461,
          -30.82061767578125,
          29.116188049316406,
          26.636260986328125,
          72.67835998535156,
          52.68153381347656,
          4.261378765106201,
          -40.32193374633789,
          78.59461212158203,
          -51.787986755371094,
          -15.181402206420898,
          78.4621810913086,
          -4.067150592803955,
          15.280082702636719,
          83.98888397216797,
          34.62452697753906,
          39.529842376708984,
          -66.80517578125,
          -5.209716320037842,
          -83.33895874023438,
          28.322566986083984,
          -3.6746816635131836,
          63.34327697753906,
          -2.6076595783233643,
          35.62712860107422,
          60.50056838989258,
          -19.954761505126953,
          31.454208374023438,
          -19.154006958007812,
          38.84910202026367,
          71.74443817138672,
          -13.259117126464844,
          -38.321712493896484,
          -7.727133274078369,
          47.24340057373047,
          23.906044006347656,
          -2.023270606994629,
          -13.118000030517578,
          -61.56072235107422,
          17.581314086914062,
          -16.491619110107422,
          -1.5790116786956787,
          -44.900020599365234,
          -1.066736102104187,
          41.658782958984375,
          -11.36351490020752,
          14.113219261169434,
          27.15526580810547,
          -30.426546096801758,
          35.933135986328125,
          -78.39275360107422,
          -44.25215148925781,
          26.486764907836914,
          45.0272102355957,
          61.883148193359375,
          18.858924865722656,
          5.6306328773498535,
          18.95782470703125,
          -68.30693817138672,
          25.68349266052246,
          3.105902910232544,
          50.30776596069336,
          34.83333969116211,
          66.99479675292969,
          -39.41438674926758,
          31.820650100708008,
          -66.79057312011719,
          -4.77437162399292,
          -10.420434951782227,
          78.11170959472656,
          35.669334411621094,
          -31.438796997070312,
          18.420654296875,
          22.338186264038086,
          47.292869567871094,
          82.37928009033203,
          62.931793212890625,
          -23.516618728637695,
          18.682138442993164,
          46.3219108581543,
          -16.417316436767578,
          53.104827880859375,
          -29.857608795166016,
          47.858154296875,
          -42.49652099609375,
          64.07312774658203,
          -59.46691131591797,
          -6.461297988891602,
          3.128157138824463,
          35.56610870361328,
          -75.6945571899414,
          -66.6700210571289,
          -3.660156726837158,
          -38.43881607055664,
          -15.205015182495117,
          49.38618469238281,
          -16.716705322265625,
          -59.09091567993164,
          21.271066665649414,
          -15.76766300201416,
          -28.293001174926758,
          41.19736099243164,
          -4.121704578399658,
          -19.907228469848633,
          16.38336753845215,
          1.2451732158660889,
          25.94822120666504,
          26.944625854492188,
          -32.82332229614258,
          13.687232971191406,
          40.36532211303711,
          33.26613998413086,
          3.9105172157287598,
          35.58137893676758,
          62.94110870361328,
          4.286207675933838,
          7.281493186950684,
          -5.688574314117432,
          34.98542785644531,
          -38.575469970703125,
          -27.761930465698242,
          10.255928993225098,
          48.06596755981445,
          -32.03789138793945,
          -60.0552864074707,
          -20.26479721069336,
          -35.40620040893555,
          3.89310359954834,
          -73.39900970458984,
          70.2373275756836,
          80.85548400878906,
          18.090106964111328,
          -32.17770767211914,
          -27.313264846801758,
          -68.31082916259766,
          49.192806243896484,
          23.93538475036621,
          25.465927124023438,
          -30.680204391479492,
          -2.62690806388855,
          26.70599937438965,
          26.0452880859375,
          25.525936126708984,
          56.98773956298828,
          -2.9005677700042725,
          -8.134915351867676,
          44.93252944946289,
          -61.48134231567383,
          1.905380368232727,
          -57.032894134521484,
          -7.377911567687988,
          -1.7516282796859741,
          1.9275239706039429,
          11.679924964904785,
          74.70218658447266,
          -72.19155883789062,
          -8.370538711547852,
          0.9450422525405884,
          27.577346801757812,
          -44.21525192260742,
          6.549053192138672,
          40.521968841552734,
          7.012886047363281,
          2.3133296966552734,
          74.82643127441406,
          47.632545471191406,
          -77.10688018798828,
          47.7071418762207,
          -86.27934265136719,
          16.4649715423584,
          70.98004150390625,
          -42.870849609375,
          47.475826263427734,
          -42.489959716796875,
          65.87262725830078,
          53.27644729614258,
          -38.98755645751953,
          35.879356384277344,
          57.4725341796875,
          -48.42129135131836,
          -52.97359848022461,
          10.25218677520752,
          14.218936920166016,
          -14.091636657714844,
          -35.15181350708008,
          10.195426940917969,
          -4.126527786254883,
          6.363135814666748,
          -53.832481384277344,
          60.0305290222168,
          65.47175598144531,
          48.119606018066406,
          -40.5416374206543,
          60.330020904541016,
          -30.07989501953125,
          -36.86044692993164,
          -71.72633361816406,
          -24.005495071411133,
          27.030384063720703,
          39.35222244262695,
          -57.37546920776367,
          6.735663890838623,
          -1.9373334646224976,
          44.97019958496094,
          9.421733856201172,
          1.4661039113998413,
          28.77640151977539,
          25.87394142150879,
          55.47536087036133,
          -36.07725143432617,
          -44.050785064697266,
          48.379478454589844,
          48.60577392578125,
          28.016294479370117,
          6.556407451629639,
          -36.38679122924805,
          27.33254623413086,
          63.468536376953125,
          53.007328033447266,
          52.47904586791992,
          -8.162887573242188,
          -2.9698562622070312,
          53.441009521484375,
          56.74677276611328,
          7.249818801879883,
          11.54154109954834,
          12.635595321655273,
          21.304561614990234,
          -14.096075057983398,
          38.069644927978516,
          45.34688949584961,
          10.08266830444336,
          -8.489665031433105,
          -30.115196228027344,
          -76.00686645507812,
          12.30799388885498,
          -84.26179504394531,
          2.1670596599578857,
          24.718873977661133,
          59.8786506652832,
          81.28459930419922,
          55.37363815307617,
          57.49433517456055,
          28.542123794555664,
          20.31510353088379,
          5.936735153198242,
          -3.4577078819274902,
          4.003553867340088,
          -12.49656867980957,
          62.82365798950195,
          -42.30426025390625,
          36.696678161621094,
          -73.00118255615234,
          -30.86885643005371,
          -84.64567565917969,
          -75.2276382446289,
          20.83559226989746,
          -38.00087356567383,
          -7.126877307891846,
          -85.7088851928711,
          71.33146667480469,
          52.6856689453125,
          -78.88746643066406,
          53.023311614990234,
          34.5382080078125,
          -44.26097106933594,
          -23.764511108398438,
          0.21252688765525818,
          10.81976318359375,
          -13.215497016906738,
          2.725069761276245,
          -2.582378625869751,
          40.54976272583008,
          -67.80931854248047,
          78.3798828125,
          29.040332794189453,
          -84.51683807373047,
          0.10679705440998077,
          7.245723247528076,
          -55.70250701904297,
          57.92817687988281,
          -67.9310531616211,
          -8.501977920532227,
          -31.87126350402832,
          -54.96452331542969,
          -50.08732986450195,
          -66.9597396850586,
          78.93306732177734,
          -43.5769157409668,
          18.925634384155273,
          -68.01937103271484,
          -44.91149139404297,
          23.307777404785156,
          -20.873708724975586,
          62.417274475097656,
          37.9979133605957,
          -52.87272262573242,
          -13.127700805664062,
          5.576862335205078,
          -41.57366943359375,
          49.31616973876953,
          21.328794479370117,
          87.63031768798828,
          -16.566633224487305,
          -22.463483810424805,
          79.62945556640625,
          -29.327880859375,
          -20.168132781982422,
          -4.785118103027344,
          43.478607177734375,
          10.73468017578125,
          -42.513553619384766,
          50.20845413208008,
          26.662586212158203,
          29.797409057617188,
          80.55440521240234,
          15.949153900146484,
          -17.600812911987305,
          -1.953070878982544,
          28.978736877441406,
          8.702536582946777,
          -4.134665012359619,
          -73.30651092529297,
          -60.58237075805664,
          -1.0739457607269287,
          35.221622467041016,
          48.55909729003906,
          -53.034854888916016,
          20.39698600769043,
          19.910158157348633,
          -15.468478202819824,
          46.54439163208008,
          -15.327310562133789,
          33.1627082824707,
          -50.15945816040039,
          -35.28281784057617,
          -60.24138641357422,
          4.086411476135254,
          3.4522767066955566,
          -25.80217170715332,
          87.6001968383789,
          -37.946598052978516,
          4.187670707702637,
          3.277179002761841,
          14.050528526306152,
          -16.941566467285156,
          4.023252964019775,
          -40.85992431640625,
          48.8366813659668,
          68.68638610839844,
          35.587162017822266,
          -53.502506256103516,
          63.72024917602539,
          -27.047380447387695,
          24.17277717590332,
          6.520347595214844,
          -74.54991912841797,
          -43.71501922607422,
          -78.59912109375,
          39.423763275146484,
          -23.764617919921875,
          44.54328536987305,
          62.415382385253906,
          -11.524142265319824,
          78.46150970458984,
          61.37425994873047,
          37.705440521240234,
          -90.87763977050781,
          52.45967483520508,
          42.096397399902344,
          21.378507614135742,
          39.7821044921875,
          4.884195327758789,
          -8.293882369995117,
          1.4862746000289917,
          -19.825054168701172,
          -70.06502532958984,
          10.527850151062012,
          69.8719711303711,
          -20.040325164794922,
          -18.343612670898438,
          4.831867218017578,
          -31.378244400024414,
          44.247337341308594,
          37.42446517944336,
          80.52792358398438,
          7.142827987670898,
          44.52924728393555,
          -49.26451873779297,
          25.702014923095703,
          -15.389384269714355,
          -53.750823974609375,
          11.708891868591309,
          39.93523406982422,
          3.667468547821045,
          -44.214969635009766,
          43.7035026550293,
          -67.7054214477539,
          -15.290570259094238,
          -15.125353813171387,
          70.1109848022461,
          -6.139533519744873,
          -12.07504940032959,
          -5.031785011291504,
          13.313033103942871,
          -86.06041717529297,
          30.335922241210938,
          -66.53840637207031,
          57.587249755859375,
          8.257710456848145,
          -14.015679359436035,
          35.12744140625,
          -46.76350021362305,
          14.472672462463379,
          -36.451778411865234,
          28.971439361572266,
          -59.85893249511719,
          48.93167495727539,
          42.91360855102539,
          63.0651741027832,
          -75.34590911865234,
          24.72225570678711,
          -5.081076145172119,
          5.19333553314209,
          -51.628936767578125,
          -11.007226943969727,
          70.5362319946289,
          68.4361572265625,
          -59.01541519165039,
          -28.575485229492188,
          25.181625366210938,
          32.869449615478516,
          -59.49888610839844,
          -51.12752151489258,
          -13.14085865020752,
          24.871570587158203,
          30.52094078063965,
          -18.03530502319336,
          -15.767436981201172,
          48.43185043334961,
          18.05168914794922,
          22.780590057373047,
          6.80422830581665,
          63.18766403198242,
          38.816993713378906,
          -36.62343978881836,
          64.24266815185547,
          0.02863011322915554,
          -71.57120513916016,
          74.53620910644531,
          9.826509475708008,
          -65.53826141357422,
          77.53378295898438,
          -14.386382102966309,
          -9.587599754333496,
          10.166613578796387,
          -14.007156372070312,
          -40.10590744018555,
          -54.39560317993164,
          -7.856937885284424,
          -39.26020431518555,
          -27.23506736755371,
          -12.15550422668457,
          -52.267574310302734,
          -10.97387981414795,
          -59.37229919433594,
          87.07454681396484,
          20.20132827758789,
          2.8355906009674072,
          32.26747512817383,
          -2.3898112773895264,
          45.91605758666992,
          -22.27486228942871,
          30.839466094970703,
          4.37853479385376,
          -15.78965950012207,
          -30.738670349121094,
          -6.712356090545654,
          -54.640377044677734,
          -19.389156341552734,
          20.235937118530273,
          -1.0506592988967896,
          29.53763198852539,
          -18.867101669311523,
          -7.690664291381836,
          60.49542236328125,
          -49.43767547607422,
          -29.99742889404297,
          -41.10340881347656,
          20.50107765197754,
          65.0550765991211,
          -65.58728790283203,
          -23.707897186279297,
          7.9438700675964355,
          62.42235565185547,
          42.27378463745117,
          -25.296016693115234,
          -31.6787109375,
          9.66306209564209,
          -44.443199157714844,
          5.523714065551758,
          1.5307621955871582,
          -16.833057403564453,
          -0.8539878726005554,
          -37.925376892089844,
          9.803553581237793,
          -51.78522491455078,
          -11.20993709564209,
          74.57701873779297,
          -23.23122215270996,
          32.921974182128906,
          60.89659881591797,
          0.6405539512634277,
          -51.23727798461914,
          -36.97468185424805,
          26.2417049407959,
          18.405866622924805,
          18.63251304626465,
          37.714378356933594,
          36.87459945678711,
          29.28321075439453,
          49.662750244140625,
          6.67483377456665,
          49.85723114013672,
          2.35668683052063,
          36.86553192138672,
          52.34185028076172,
          -45.14870834350586,
          -51.183372497558594,
          -66.70745849609375,
          12.872200012207031,
          20.32887840270996,
          -85.90644073486328,
          42.134883880615234,
          0.49673473834991455,
          2.8340559005737305,
          48.59288024902344,
          1.2167376279830933,
          58.12028121948242,
          22.361814498901367,
          -56.12092208862305,
          28.050352096557617,
          1.4214634895324707,
          66.6498794555664,
          18.024526596069336,
          67.18148040771484,
          28.972089767456055,
          13.003057479858398,
          -17.43755531311035,
          30.230981826782227,
          31.985807418823242,
          -43.953033447265625,
          -44.307125091552734,
          7.488938331604004,
          70.62464904785156,
          43.23750686645508,
          2.7195522785186768,
          -14.622392654418945,
          53.33378219604492,
          -26.618330001831055,
          20.0072021484375,
          3.7640230655670166,
          44.777122497558594,
          31.52675437927246,
          -12.441085815429688,
          -24.391769409179688,
          -73.46748352050781,
          -39.158607482910156,
          5.374792575836182,
          -81.3189697265625,
          52.51084518432617,
          13.5225248336792,
          3.0553133487701416,
          20.291181564331055,
          -40.31828308105469,
          -16.043975830078125,
          9.103372573852539,
          12.611210823059082,
          -50.57133102416992,
          -84.79083251953125,
          -79.81759643554688,
          -18.85483741760254,
          -75.58399200439453,
          2.405275821685791,
          64.44181823730469,
          9.812504768371582,
          -56.1792106628418,
          1.448616623878479,
          -63.61716842651367,
          37.64633560180664,
          31.63007926940918,
          4.635707378387451,
          -40.776546478271484,
          8.584244728088379,
          24.668912887573242,
          -40.2887077331543,
          -1.5660873651504517,
          71.4369125366211,
          -2.7247955799102783,
          -35.5140380859375,
          -78.31372833251953,
          43.70322799682617,
          31.147756576538086,
          34.019676208496094,
          2.6451001167297363,
          53.08778381347656,
          31.530467987060547,
          2.3792128562927246,
          -61.832576751708984,
          41.62248992919922,
          -31.18208122253418,
          -9.760489463806152,
          8.748779296875,
          12.581095695495605,
          -8.115406036376953,
          -46.30381774902344,
          49.397865295410156,
          19.012243270874023,
          29.397336959838867,
          23.13498306274414,
          -18.28349494934082,
          50.5325813293457,
          -18.71337127685547,
          84.23926544189453,
          -25.74021339416504,
          -37.17676544189453,
          -25.494258880615234,
          -49.82441329956055,
          -12.789811134338379,
          -16.087080001831055,
          41.45468521118164,
          39.81951141357422,
          48.84333419799805,
          77.5641098022461,
          22.342321395874023,
          -30.404327392578125,
          -17.414779663085938,
          28.807022094726562,
          -6.963128566741943,
          58.67499542236328,
          -8.334770202636719,
          -3.579500436782837,
          58.832096099853516,
          72.47137451171875,
          -9.647159576416016,
          -39.243709564208984,
          -42.95671081542969,
          64.53474426269531,
          -25.54909896850586,
          36.513362884521484,
          -49.0223503112793,
          40.17870330810547,
          -7.353489398956299,
          -6.403492450714111,
          53.084835052490234,
          -58.0692253112793,
          13.865968704223633,
          -59.54566955566406,
          22.493627548217773,
          12.934640884399414,
          -41.13478088378906,
          -18.90117073059082,
          -72.7249755859375,
          29.976871490478516,
          -37.055416107177734,
          -61.37156295776367,
          83.496826171875,
          72.68900299072266,
          82.96265411376953,
          -23.091650009155273,
          21.090167999267578,
          75.49368286132812,
          64.45872497558594,
          -50.459014892578125,
          2.293463706970215,
          4.606650352478027,
          53.924835205078125,
          -2.9603776931762695,
          19.909873962402344,
          42.93016815185547,
          57.78921127319336,
          -79.9351577758789,
          -39.020484924316406,
          -13.095908164978027,
          66.85665893554688,
          28.36549949645996,
          -76.0071029663086,
          -33.146968841552734,
          -15.499671936035156,
          42.12480163574219,
          -64.68693542480469,
          -74.15882110595703,
          59.94001770019531,
          -59.9039421081543,
          -81.01042175292969,
          30.366252899169922,
          32.162567138671875,
          4.792119026184082,
          17.063812255859375,
          -85.62738800048828,
          -63.65766143798828,
          -31.385683059692383,
          78.54620361328125,
          28.607032775878906,
          -64.1301040649414,
          16.642230987548828,
          21.359060287475586,
          56.515357971191406,
          22.02126693725586,
          -0.32127147912979126,
          0.16938532888889313,
          10.7432861328125,
          -52.22355270385742,
          44.125762939453125,
          16.287317276000977,
          -22.162967681884766,
          42.262935638427734,
          -66.53252410888672,
          36.60243606567383,
          -50.74119567871094,
          -38.094078063964844,
          -41.7381591796875,
          40.77117919921875,
          -44.06563949584961,
          17.15431022644043,
          64.66572570800781,
          -36.127479553222656,
          12.177653312683105,
          3.8941986560821533,
          -52.88052749633789,
          -40.138362884521484,
          -1.2686347961425781,
          1.9123021364212036,
          -52.49604797363281,
          19.855527877807617,
          69.98303985595703,
          90.67041778564453,
          0.8073808550834656,
          -9.526881217956543,
          33.691001892089844,
          6.453279495239258,
          -75.3040771484375,
          -8.396515846252441,
          62.81320571899414,
          -19.652334213256836,
          -90.21711730957031,
          24.421768188476562,
          69.4537582397461,
          59.3874626159668,
          -46.818267822265625,
          -20.013309478759766,
          -59.50972366333008,
          48.66151428222656,
          -60.43647003173828,
          42.82785415649414,
          65.57890319824219,
          -69.76470947265625,
          -58.54541015625,
          -20.69580841064453,
          -8.861464500427246,
          33.81371307373047,
          28.649316787719727,
          21.924503326416016,
          -23.471126556396484,
          -0.03727972134947777,
          50.667938232421875,
          47.81889343261719,
          62.94468307495117,
          46.8975830078125,
          0.4550013840198517,
          55.645286560058594,
          -38.95020294189453,
          -29.647754669189453,
          -57.73191833496094,
          -13.069755554199219,
          59.26020050048828,
          -57.97807312011719,
          1.5598939657211304,
          14.038894653320312,
          -51.192176818847656,
          58.4171028137207,
          -3.857879400253296,
          65.43153381347656,
          -63.266353607177734,
          22.344667434692383,
          4.207332611083984,
          -57.9754638671875,
          43.45229721069336,
          10.567925453186035,
          3.1184258460998535,
          37.425804138183594,
          -78.59734344482422,
          19.542875289916992,
          -41.480159759521484,
          90.65657806396484,
          -0.3252410590648651,
          -16.609294891357422,
          24.02236557006836,
          -4.83399772644043,
          77.64198303222656,
          -11.797971725463867,
          15.962050437927246,
          -17.329662322998047,
          90.65927124023438,
          16.689125061035156,
          33.77919006347656,
          -39.97726821899414,
          -75.04723358154297,
          -29.135271072387695,
          28.832603454589844,
          1.3245770931243896,
          35.19844436645508,
          -74.48001098632812,
          -55.938629150390625,
          24.89399528503418,
          21.306917190551758,
          29.577564239501953,
          24.024587631225586,
          71.34028625488281,
          -58.42655944824219,
          18.10918617248535,
          -84.38957977294922,
          10.193081855773926,
          5.2069573402404785,
          -76.80253601074219,
          -29.425973892211914,
          16.617563247680664,
          -14.691818237304688,
          -30.704071044921875,
          48.6884651184082,
          77.00892639160156,
          49.585227966308594,
          -25.793855667114258,
          -79.85624694824219,
          38.59746170043945,
          -54.514583587646484,
          -14.852113723754883,
          -26.61211585998535,
          -43.53999328613281,
          62.12136459350586,
          -22.403722763061523,
          -67.8342514038086,
          56.129730224609375,
          57.362876892089844,
          -34.68478775024414,
          35.036705017089844,
          -74.04192352294922,
          3.85052752494812,
          -39.185115814208984,
          76.84687805175781,
          16.724050521850586,
          -58.735816955566406,
          -15.470245361328125,
          -30.359703063964844,
          -46.24907684326172,
          -6.551117897033691,
          67.63082122802734,
          40.76395034790039,
          3.5262129306793213,
          -19.073667526245117,
          -24.03017234802246,
          -24.361778259277344,
          5.320356845855713,
          25.44115447998047,
          -31.319889068603516,
          -31.112112045288086,
          80.38036346435547,
          -17.869098663330078,
          52.796390533447266,
          44.230525970458984,
          38.877567291259766,
          -79.55690002441406,
          58.826210021972656,
          51.526634216308594,
          -90.35297393798828,
          45.18391418457031,
          21.006153106689453,
          39.86820983886719,
          30.112993240356445,
          -71.30664825439453,
          6.128830909729004,
          9.489556312561035,
          53.1018180847168,
          29.59701919555664,
          57.07465362548828,
          -44.31525421142578,
          21.20977783203125,
          11.884771347045898,
          20.17732048034668,
          17.85894012451172,
          41.19523620605469,
          -0.3171871602535248,
          -30.91386604309082,
          -62.18526840209961,
          48.82518768310547,
          -29.200345993041992,
          21.483488082885742,
          18.732919692993164,
          59.21550369262695,
          58.11534881591797,
          -30.874732971191406,
          -7.874438762664795,
          -41.3101692199707,
          -58.9699821472168,
          30.028287887573242,
          3.220766544342041,
          -51.77864074707031,
          -90.35737609863281,
          -42.41323471069336,
          22.09407615661621,
          -67.36648559570312,
          -9.202963829040527,
          58.81212615966797,
          49.86725616455078,
          -3.479193687438965,
          -64.4957504272461,
          -4.382925510406494,
          50.41153335571289,
          43.31571960449219,
          0.037346698343753815,
          50.741241455078125,
          -20.189537048339844,
          -16.356178283691406,
          -3.4419209957122803,
          -63.094322204589844,
          4.924011707305908,
          -82.40751647949219,
          -64.29373931884766,
          3.8839828968048096,
          -9.895149230957031,
          24.015483856201172,
          87.1109619140625,
          18.133970260620117,
          -33.98030090332031,
          5.063758373260498,
          -15.101631164550781,
          33.96846389770508,
          24.520999908447266,
          29.578857421875,
          -5.895029544830322,
          -21.97484016418457,
          -4.776643753051758,
          -3.5588510036468506,
          28.349971771240234,
          -19.987924575805664,
          -10.331589698791504,
          43.569068908691406,
          61.598323822021484,
          -2.8330254554748535,
          70.08736419677734,
          -66.80451965332031,
          0.935787558555603,
          63.59457778930664,
          7.368297576904297,
          -71.3315658569336,
          -80.00785064697266,
          -54.95353317260742,
          -27.73446273803711,
          -38.44074249267578,
          29.595151901245117,
          -44.7238655090332,
          -67.3490219116211,
          -26.579164505004883,
          -50.611141204833984,
          -50.1433219909668,
          7.059089660644531,
          -29.540254592895508,
          47.652069091796875,
          25.343339920043945,
          -52.622032165527344,
          24.946735382080078,
          30.302488327026367,
          1.4566162824630737,
          -38.551109313964844,
          58.41693878173828,
          -71.62687683105469,
          28.971607208251953,
          59.571895599365234,
          3.01611590385437,
          -77.76893615722656,
          -47.07994079589844,
          -63.63493347167969,
          -91.85142517089844,
          19.977771759033203,
          -31.25115966796875,
          1.5723673105239868,
          2.946916341781616,
          1.0851391553878784,
          -52.36350631713867,
          -80.35139465332031,
          -73.92681121826172,
          -16.931394577026367,
          -4.836862564086914,
          8.83022403717041,
          -20.430185317993164,
          23.09326934814453,
          0.35695067048072815,
          12.425265312194824,
          -41.63595962524414,
          -9.730876922607422,
          21.634794235229492,
          -40.758663177490234,
          -75.6975326538086,
          -15.538229942321777,
          -91.86306762695312,
          19.262542724609375,
          28.93761444091797,
          -78.96707916259766,
          -38.669490814208984,
          2.4361627101898193,
          -53.80472946166992,
          -3.0800974369049072,
          -51.085147857666016,
          -34.71698760986328,
          -41.861968994140625,
          0.6005448698997498,
          -36.744667053222656,
          41.90310287475586,
          26.246912002563477,
          -1.3436017036437988,
          35.66754150390625,
          28.83685874938965,
          38.931495666503906,
          33.340911865234375,
          -34.608055114746094,
          11.262372970581055,
          -64.18798828125,
          1.843578815460205,
          32.3658561706543,
          9.003278732299805,
          -10.152572631835938,
          -54.778411865234375,
          -39.33755111694336,
          43.08340072631836,
          34.29948806762695,
          44.697269439697266,
          57.34164047241211,
          -41.014488220214844,
          -19.281539916992188,
          26.848560333251953,
          -32.73573303222656,
          -63.07372283935547,
          53.554588317871094,
          -22.854116439819336,
          -47.445289611816406,
          82.54407501220703,
          -23.557825088500977,
          -8.32714557647705,
          -4.009220123291016,
          -49.708595275878906,
          -57.10148620605469,
          -15.715970039367676,
          62.71657943725586,
          -74.17451477050781,
          -59.35930633544922,
          -77.56037139892578,
          18.312599182128906,
          9.497888565063477,
          49.76704406738281,
          1.525770902633667,
          -37.227928161621094,
          -71.6483154296875,
          -19.003225326538086,
          -88.45413208007812,
          53.37369918823242,
          74.96993255615234,
          64.42160034179688,
          69.82046508789062,
          -3.9155802726745605,
          -18.278038024902344,
          36.7965202331543,
          -2.841886281967163,
          1.4174613952636719,
          -42.084991455078125,
          30.86692237854004,
          -37.50979995727539,
          -73.0906753540039,
          29.673824310302734,
          38.13189697265625,
          2.23140025138855,
          50.28620529174805,
          -14.696308135986328,
          -45.4305534362793,
          -45.422393798828125,
          -34.66759490966797,
          -72.27395629882812,
          30.778528213500977,
          -35.373233795166016,
          2.032710552215576,
          -63.956600189208984,
          21.630990982055664,
          87.32830047607422,
          27.4014835357666,
          19.396278381347656,
          -25.448627471923828,
          -64.88648986816406,
          15.487251281738281,
          -49.56363296508789,
          79.46630859375,
          44.99974822998047,
          46.286842346191406,
          -1.9629124402999878,
          -60.12580108642578,
          50.961883544921875,
          -52.99983215332031,
          -49.94356155395508,
          -41.66342544555664,
          16.16645622253418,
          78.45631408691406,
          -70.65904235839844,
          -6.715528964996338,
          -19.116798400878906,
          71.18401336669922,
          -70.54946899414062,
          -51.722984313964844,
          0.5478513836860657,
          -20.86275291442871,
          -22.245445251464844,
          -10.368888854980469,
          36.68986511230469,
          51.549476623535156,
          -36.88682556152344,
          34.03036117553711,
          -9.549260139465332,
          55.97113800048828,
          -4.212656021118164,
          -17.97174644470215,
          8.057992935180664,
          -9.089714050292969,
          -44.03765106201172,
          -13.56551456451416,
          -75.77450561523438,
          -25.962566375732422,
          -70.3047866821289,
          -1.8362733125686646,
          10.549243927001953,
          -6.71925163269043,
          -25.91667938232422,
          34.042083740234375,
          -50.90079116821289,
          11.382951736450195,
          -52.37839889526367,
          -19.987146377563477,
          -34.7030143737793,
          -75.42865753173828,
          -20.427082061767578,
          38.76314163208008,
          -13.653975486755371,
          -7.577417850494385,
          11.684490203857422,
          -10.701554298400879,
          71.7501220703125,
          66.91143035888672,
          -60.408756256103516,
          62.20381164550781,
          16.587583541870117,
          12.601439476013184,
          -4.203773498535156,
          25.123132705688477,
          38.887332916259766,
          62.002174377441406,
          -37.327186584472656,
          44.29235076904297,
          13.955899238586426,
          66.38028717041016,
          -2.6675446033477783,
          50.07035827636719,
          -16.244861602783203,
          42.4767951965332,
          -64.14984893798828,
          29.78282356262207,
          -5.8644795417785645,
          -1.6527907848358154,
          -6.5454182624816895,
          24.61066436767578,
          -10.470145225524902,
          -35.29725646972656,
          -79.90473937988281,
          50.96068572998047,
          -51.7870979309082,
          -10.976776123046875,
          1.0509926080703735,
          31.375974655151367,
          -34.135555267333984,
          -56.345096588134766,
          55.693206787109375,
          7.085517883300781,
          -39.13178634643555,
          67.67778778076172,
          -18.831899642944336,
          4.713693141937256,
          -30.262041091918945,
          41.44196319580078,
          -45.73781204223633,
          -0.8706850409507751,
          14.664597511291504,
          42.61686325073242,
          -14.043060302734375,
          -40.615970611572266,
          -50.910003662109375,
          55.12889862060547,
          3.4540560245513916,
          3.6872668266296387,
          -4.548439979553223,
          48.6833381652832,
          -31.250375747680664,
          -77.8568115234375,
          34.27263641357422,
          -37.692142486572266,
          47.320655822753906,
          -18.392379760742188,
          -18.493345260620117,
          57.74502944946289,
          64.20399475097656,
          -72.14833068847656,
          42.015533447265625,
          28.896596908569336,
          -76.5333251953125,
          -19.093338012695312,
          -22.740829467773438,
          24.791040420532227,
          -33.784141540527344,
          53.71782684326172,
          -11.807075500488281,
          28.660079956054688,
          59.622314453125,
          4.574736595153809,
          -24.548477172851562,
          -8.671713829040527,
          -16.814470291137695,
          -23.566734313964844,
          -62.920494079589844,
          -31.333049774169922,
          -3.0729830265045166,
          48.6014404296875,
          49.209163665771484,
          -14.236871719360352,
          -56.15464782714844,
          -4.772848606109619,
          -53.95720672607422,
          -65.48265838623047,
          31.783395767211914,
          26.07278060913086,
          8.597871780395508,
          -10.48348331451416,
          -26.75629234313965,
          1.678364634513855,
          -14.761293411254883,
          53.840091705322266,
          38.43513870239258,
          36.67631530761719,
          -49.41610336303711,
          -68.76800537109375,
          -12.53106689453125,
          0.6111285090446472,
          -27.906177520751953,
          -49.256919860839844,
          -63.90709686279297,
          -55.080135345458984,
          14.361515998840332,
          -16.916996002197266,
          -15.140361785888672,
          8.719237327575684,
          -49.65264129638672,
          -31.4510555267334,
          25.778675079345703,
          -26.385469436645508,
          4.277583122253418,
          -16.516889572143555,
          -90.35265350341797,
          -31.365514755249023,
          46.809669494628906,
          14.906591415405273,
          64.75988006591797,
          -44.57899856567383,
          6.036393165588379,
          34.52301788330078,
          -17.716894149780273,
          -34.92760467529297,
          -24.49363899230957,
          9.131632804870605,
          40.39668655395508,
          9.688626289367676,
          -37.394412994384766,
          53.66108322143555,
          61.00542449951172,
          -28.78661346435547,
          25.1335391998291,
          51.48358917236328,
          -42.44821548461914,
          14.511476516723633,
          3.69862961769104,
          32.267513275146484,
          -57.96821212768555,
          -72.21548461914062,
          -42.54063034057617,
          -12.433655738830566,
          50.29792022705078,
          -26.82021141052246,
          21.439340591430664,
          -59.448612213134766,
          -40.243560791015625,
          1.6357433795928955,
          -12.279361724853516,
          44.86383056640625,
          44.56294631958008,
          -23.894397735595703,
          -74.02880859375,
          15.775577545166016,
          -37.926536560058594,
          -56.1806526184082,
          87.71418762207031,
          -11.561305046081543,
          42.454532623291016,
          47.271942138671875,
          29.026615142822266,
          2.4856491088867188,
          65.0869140625,
          -68.323486328125,
          49.764869689941406,
          30.65157127380371,
          68.24044799804688,
          32.673789978027344,
          -41.43678665161133,
          -67.4454574584961,
          -10.251940727233887,
          20.450868606567383,
          -25.191293716430664,
          23.091445922851562,
          -49.50102996826172,
          23.24018669128418,
          -53.9461784362793,
          62.15291213989258,
          37.682552337646484,
          61.295448303222656,
          77.9404525756836,
          -3.519670009613037,
          -50.26576232910156,
          30.590967178344727,
          -1.8904539346694946,
          7.4207282066345215,
          -49.8853874206543,
          82.80020904541016,
          -69.84696197509766,
          -54.63051986694336,
          -26.732826232910156,
          -43.855506896972656,
          -11.130683898925781,
          32.165260314941406,
          -77.09103393554688,
          -42.2366943359375,
          -22.510427474975586,
          -51.42375183105469,
          -12.787915229797363,
          70.5476303100586,
          -22.434755325317383,
          60.65936279296875,
          -39.274147033691406,
          65.48355102539062,
          64.81824493408203,
          19.888172149658203,
          -40.88813018798828,
          50.70530700683594,
          -17.065032958984375,
          -41.10505676269531,
          22.866758346557617,
          -29.255081176757812,
          -7.459344387054443,
          -2.1011009216308594,
          -8.613235473632812,
          -46.758853912353516,
          -10.350831031799316,
          -45.03961944580078,
          -31.343143463134766,
          15.400391578674316,
          25.01908302307129,
          48.719234466552734,
          -83.39485931396484,
          14.960121154785156,
          13.27888298034668,
          44.963775634765625,
          34.987953186035156,
          40.95991134643555,
          -46.17305374145508,
          53.680850982666016,
          -0.7917364239692688,
          1.4873565435409546,
          9.61560344696045,
          40.288150787353516,
          -76.8457260131836,
          -31.131471633911133,
          48.17420196533203,
          33.9546012878418,
          7.030392169952393,
          -39.5205078125,
          -15.761774063110352,
          49.10017395019531,
          -67.93809509277344,
          -39.668212890625,
          7.3089985847473145,
          -13.458006858825684,
          49.44078063964844,
          30.864913940429688,
          16.07978057861328,
          -41.31869125366211,
          -11.431422233581543,
          55.53181838989258,
          14.546768188476562,
          -27.052284240722656,
          -64.90602111816406,
          72.41911315917969,
          14.038883209228516,
          -63.8278923034668,
          -11.065393447875977,
          30.186826705932617,
          -36.515933990478516,
          33.467891693115234,
          6.13422966003418,
          59.658729553222656,
          -3.84773850440979,
          -38.815406799316406,
          29.760942459106445,
          35.3759880065918,
          -3.0128302574157715,
          80.4395980834961,
          38.48320388793945,
          33.307708740234375,
          15.402495384216309,
          64.63169860839844,
          32.33549118041992,
          -76.38824462890625,
          -19.433917999267578,
          -44.065303802490234,
          21.83263397216797,
          24.207061767578125,
          11.765315055847168,
          14.88337230682373,
          -71.62310028076172,
          -7.185519695281982,
          51.738895416259766,
          14.59752082824707,
          -13.535961151123047,
          56.162635803222656,
          36.31400680541992,
          -54.12235641479492,
          62.13637161254883,
          -52.198638916015625,
          -27.93743324279785,
          -9.334625244140625,
          23.21613311767578,
          61.88579177856445,
          30.781156539916992,
          3.2142269611358643,
          71.02072143554688,
          39.842655181884766,
          49.33501052856445,
          8.468515396118164,
          35.2237434387207,
          -34.725242614746094,
          -87.7884521484375,
          78.90201568603516,
          -9.161107063293457,
          -1.4821863174438477,
          -15.649362564086914,
          16.62725067138672,
          -77.61709594726562,
          -19.2718563079834,
          47.65943908691406,
          58.559104919433594,
          82.73442840576172,
          21.965042114257812,
          34.00345993041992,
          2.7097411155700684,
          -22.974069595336914,
          -51.80656051635742,
          66.56745910644531,
          -51.60948181152344,
          -52.3426628112793,
          49.87663269042969,
          50.49245834350586,
          64.55318450927734,
          64.74845123291016,
          -19.754226684570312,
          33.20489501953125,
          11.698013305664062,
          -9.171411514282227,
          17.510372161865234,
          22.60788345336914,
          52.72706985473633,
          -61.8238639831543,
          -82.0915756225586,
          23.870162963867188,
          -15.409290313720703,
          -25.500486373901367,
          54.909019470214844,
          26.25350570678711,
          -16.310922622680664,
          11.25067138671875,
          -61.94863510131836,
          28.909181594848633,
          -42.69741439819336,
          -20.175992965698242,
          -26.31824493408203,
          55.44667434692383,
          18.520143508911133,
          64.6784896850586,
          -54.799564361572266,
          50.656681060791016,
          26.530099868774414,
          -46.04839324951172,
          47.69361877441406,
          -6.037300109863281,
          15.520750045776367,
          23.632654190063477,
          52.581687927246094,
          -6.671905517578125,
          -19.288074493408203,
          49.939300537109375,
          5.977664947509766,
          0.4415677487850189,
          37.28540802001953,
          71.93668365478516,
          53.37852096557617,
          -20.97882080078125,
          -42.113834381103516,
          69.39896392822266,
          -40.6993293762207,
          64.2545394897461,
          26.535053253173828,
          39.79996109008789,
          63.27238464355469,
          -4.732022762298584,
          -21.02843475341797,
          52.520816802978516,
          -55.2209587097168,
          -31.9200382232666,
          -26.59320068359375,
          3.4855098724365234,
          -56.31239318847656,
          -51.74331283569336,
          -0.7743682861328125,
          20.699600219726562,
          -8.31751537322998,
          -29.71651840209961,
          35.622432708740234,
          2.91853928565979,
          2.267045497894287,
          5.22278356552124,
          -19.47449493408203,
          -27.3929386138916,
          -41.70134353637695,
          40.30998992919922,
          -38.20561218261719,
          -72.98470306396484,
          51.26344299316406,
          -0.5648488402366638,
          -21.575576782226562,
          27.054019927978516,
          26.62731170654297,
          -44.91912841796875,
          52.41006088256836,
          27.66034698486328,
          62.74609375,
          1.5584847927093506,
          77.78754425048828,
          -59.872413635253906,
          -75.7802963256836,
          6.643855571746826,
          -21.667673110961914,
          11.846781730651855,
          9.34803295135498,
          -11.091999053955078,
          -66.505126953125,
          -49.896453857421875,
          20.271677017211914,
          -59.38412857055664,
          9.8804931640625,
          -42.98994827270508,
          11.881695747375488,
          51.964908599853516,
          -28.94253921508789,
          -44.63435363769531,
          61.5004997253418,
          51.76626968383789,
          -7.219029903411865,
          77.1727294921875,
          -20.751808166503906,
          24.05303382873535,
          31.3772029876709,
          -85.02859497070312,
          -22.270675659179688,
          21.027313232421875,
          -73.39059448242188,
          -22.516572952270508,
          -85.5330581665039,
          -0.3283509910106659,
          9.147866249084473,
          51.96562957763672,
          29.881956100463867,
          -6.173463821411133,
          24.91652488708496,
          -13.541938781738281,
          1.4411208629608154,
          17.029359817504883,
          4.953190326690674,
          -17.17782211303711,
          33.42884063720703,
          -25.805818557739258,
          68.41382598876953,
          -17.90894889831543,
          -55.35267639160156,
          -15.213170051574707,
          19.827556610107422,
          37.58730697631836,
          -4.8174591064453125,
          -52.344764709472656,
          -20.939550399780273,
          63.796504974365234,
          -12.05984115600586,
          80.39878845214844,
          -30.030227661132812,
          -54.82789611816406,
          -0.735133707523346,
          -10.31981372833252,
          -51.10490036010742,
          37.42048263549805,
          21.287656784057617,
          57.00691223144531,
          -38.87689208984375,
          -23.109607696533203,
          -52.249732971191406,
          -38.95479202270508,
          -60.369808197021484,
          52.994544982910156,
          -18.7039737701416,
          -1.4546544551849365,
          23.488182067871094,
          41.95049285888672,
          11.048542022705078,
          -20.855993270874023,
          -29.476701736450195,
          -26.28708839416504,
          -43.2818489074707,
          6.862558364868164,
          -24.955434799194336,
          -90.35242462158203,
          -52.88814926147461,
          -58.09760284423828,
          13.693955421447754,
          -10.873804092407227,
          65.01728820800781,
          -7.283758640289307,
          8.337642669677734,
          -30.297199249267578,
          -1.1276875734329224,
          -16.647687911987305,
          -32.178466796875,
          -39.18894577026367,
          19.4058780670166,
          -61.61913299560547,
          29.512039184570312,
          30.946226119995117,
          49.474361419677734,
          -55.78201675415039,
          54.94989776611328,
          6.4886064529418945,
          1.5388273000717163,
          54.52956008911133,
          -0.24325841665267944,
          58.351070404052734,
          -35.45941925048828,
          27.41566276550293,
          -54.91288757324219,
          47.857887268066406,
          -5.322676181793213,
          60.01383590698242,
          73.5400161743164,
          -23.509164810180664,
          60.3195686340332,
          -81.31376647949219,
          1.586413025856018,
          40.48419189453125,
          -4.279290676116943,
          66.43754577636719,
          27.726362228393555,
          6.084280490875244,
          -13.31743049621582,
          4.143795013427734,
          -6.370743274688721,
          -12.682628631591797,
          -76.26359558105469,
          49.261146545410156,
          -57.57252883911133,
          1.442428708076477,
          83.86709594726562,
          -10.522073745727539,
          -38.51722717285156,
          42.639339447021484,
          13.764801025390625,
          -6.98690128326416,
          -35.42634201049805,
          35.09599685668945,
          19.676677703857422,
          63.73301315307617,
          2.827608346939087,
          -51.689598083496094,
          -19.969955444335938,
          39.51936340332031,
          49.72480010986328,
          1.6224706172943115,
          29.46895408630371,
          12.36941146850586,
          7.888741970062256,
          -51.46284484863281,
          21.139789581298828,
          -4.418912410736084,
          -54.928401947021484,
          19.015766143798828,
          -15.066247940063477,
          -49.808616638183594,
          24.709007263183594,
          -50.61601257324219,
          -87.36263275146484,
          50.08955383300781,
          25.65957260131836,
          26.682382583618164,
          -46.3680305480957,
          -11.744894027709961,
          71.2320327758789,
          41.922035217285156,
          -19.875133514404297,
          -82.02276611328125,
          31.047168731689453,
          18.52043914794922,
          12.26124095916748,
          -37.94565963745117,
          4.352374076843262,
          -14.666669845581055,
          30.71343231201172,
          52.057098388671875,
          26.10597038269043,
          -25.20148468017578,
          -27.082233428955078,
          6.470907688140869,
          12.334992408752441,
          -19.10495376586914,
          -43.51512145996094,
          3.9376518726348877,
          35.14344787597656,
          -67.02632141113281,
          -44.45220184326172,
          -75.15388488769531,
          11.377957344055176,
          62.746273040771484,
          64.4775619506836,
          4.4570465087890625,
          50.9696159362793,
          -78.3536376953125,
          50.657840728759766,
          9.782806396484375,
          -6.153564453125,
          -19.758535385131836,
          7.8338141441345215,
          8.450431823730469,
          -0.9059529900550842,
          -54.59220886230469,
          -10.809596061706543,
          31.032968521118164,
          74.5235824584961,
          7.991637706756592,
          10.957839965820312,
          -17.09549903869629,
          22.674854278564453,
          -3.010403871536255,
          0.3688734471797943,
          -9.402803421020508,
          10.534319877624512,
          -18.841354370117188,
          -37.56172561645508,
          -18.882293701171875,
          6.055647373199463,
          -45.38058853149414,
          -30.27846336364746,
          36.08708572387695,
          25.692110061645508,
          -1.784172534942627,
          -2.065492868423462,
          -87.92314910888672,
          -53.53107833862305,
          44.57205581665039,
          -67.87696075439453,
          -84.7283935546875,
          1.3460588455200195,
          40.28413391113281,
          27.917856216430664,
          50.103553771972656,
          68.5163803100586,
          -16.389223098754883,
          -75.28624725341797,
          7.713160991668701,
          21.29802894592285,
          61.45121383666992,
          28.824275970458984,
          12.249518394470215,
          -29.300167083740234,
          79.42311096191406,
          -66.69092559814453,
          -1.3181328773498535,
          -17.56694984436035,
          -4.1824564933776855,
          -22.74551773071289,
          -9.104451179504395,
          45.27051544189453,
          -24.19770622253418,
          7.568239212036133,
          -15.971117973327637
         ],
         "yaxis": "y"
        }
       ],
       "layout": {
        "legend": {
         "tracegroupgap": 0
        },
        "margin": {
         "t": 60
        },
        "template": {
         "data": {
          "bar": [
           {
            "error_x": {
             "color": "#2a3f5f"
            },
            "error_y": {
             "color": "#2a3f5f"
            },
            "marker": {
             "line": {
              "color": "#E5ECF6",
              "width": 0.5
             },
             "pattern": {
              "fillmode": "overlay",
              "size": 10,
              "solidity": 0.2
             }
            },
            "type": "bar"
           }
          ],
          "barpolar": [
           {
            "marker": {
             "line": {
              "color": "#E5ECF6",
              "width": 0.5
             },
             "pattern": {
              "fillmode": "overlay",
              "size": 10,
              "solidity": 0.2
             }
            },
            "type": "barpolar"
           }
          ],
          "carpet": [
           {
            "aaxis": {
             "endlinecolor": "#2a3f5f",
             "gridcolor": "white",
             "linecolor": "white",
             "minorgridcolor": "white",
             "startlinecolor": "#2a3f5f"
            },
            "baxis": {
             "endlinecolor": "#2a3f5f",
             "gridcolor": "white",
             "linecolor": "white",
             "minorgridcolor": "white",
             "startlinecolor": "#2a3f5f"
            },
            "type": "carpet"
           }
          ],
          "choropleth": [
           {
            "colorbar": {
             "outlinewidth": 0,
             "ticks": ""
            },
            "type": "choropleth"
           }
          ],
          "contour": [
           {
            "colorbar": {
             "outlinewidth": 0,
             "ticks": ""
            },
            "colorscale": [
             [
              0,
              "#0d0887"
             ],
             [
              0.1111111111111111,
              "#46039f"
             ],
             [
              0.2222222222222222,
              "#7201a8"
             ],
             [
              0.3333333333333333,
              "#9c179e"
             ],
             [
              0.4444444444444444,
              "#bd3786"
             ],
             [
              0.5555555555555556,
              "#d8576b"
             ],
             [
              0.6666666666666666,
              "#ed7953"
             ],
             [
              0.7777777777777778,
              "#fb9f3a"
             ],
             [
              0.8888888888888888,
              "#fdca26"
             ],
             [
              1,
              "#f0f921"
             ]
            ],
            "type": "contour"
           }
          ],
          "contourcarpet": [
           {
            "colorbar": {
             "outlinewidth": 0,
             "ticks": ""
            },
            "type": "contourcarpet"
           }
          ],
          "heatmap": [
           {
            "colorbar": {
             "outlinewidth": 0,
             "ticks": ""
            },
            "colorscale": [
             [
              0,
              "#0d0887"
             ],
             [
              0.1111111111111111,
              "#46039f"
             ],
             [
              0.2222222222222222,
              "#7201a8"
             ],
             [
              0.3333333333333333,
              "#9c179e"
             ],
             [
              0.4444444444444444,
              "#bd3786"
             ],
             [
              0.5555555555555556,
              "#d8576b"
             ],
             [
              0.6666666666666666,
              "#ed7953"
             ],
             [
              0.7777777777777778,
              "#fb9f3a"
             ],
             [
              0.8888888888888888,
              "#fdca26"
             ],
             [
              1,
              "#f0f921"
             ]
            ],
            "type": "heatmap"
           }
          ],
          "heatmapgl": [
           {
            "colorbar": {
             "outlinewidth": 0,
             "ticks": ""
            },
            "colorscale": [
             [
              0,
              "#0d0887"
             ],
             [
              0.1111111111111111,
              "#46039f"
             ],
             [
              0.2222222222222222,
              "#7201a8"
             ],
             [
              0.3333333333333333,
              "#9c179e"
             ],
             [
              0.4444444444444444,
              "#bd3786"
             ],
             [
              0.5555555555555556,
              "#d8576b"
             ],
             [
              0.6666666666666666,
              "#ed7953"
             ],
             [
              0.7777777777777778,
              "#fb9f3a"
             ],
             [
              0.8888888888888888,
              "#fdca26"
             ],
             [
              1,
              "#f0f921"
             ]
            ],
            "type": "heatmapgl"
           }
          ],
          "histogram": [
           {
            "marker": {
             "pattern": {
              "fillmode": "overlay",
              "size": 10,
              "solidity": 0.2
             }
            },
            "type": "histogram"
           }
          ],
          "histogram2d": [
           {
            "colorbar": {
             "outlinewidth": 0,
             "ticks": ""
            },
            "colorscale": [
             [
              0,
              "#0d0887"
             ],
             [
              0.1111111111111111,
              "#46039f"
             ],
             [
              0.2222222222222222,
              "#7201a8"
             ],
             [
              0.3333333333333333,
              "#9c179e"
             ],
             [
              0.4444444444444444,
              "#bd3786"
             ],
             [
              0.5555555555555556,
              "#d8576b"
             ],
             [
              0.6666666666666666,
              "#ed7953"
             ],
             [
              0.7777777777777778,
              "#fb9f3a"
             ],
             [
              0.8888888888888888,
              "#fdca26"
             ],
             [
              1,
              "#f0f921"
             ]
            ],
            "type": "histogram2d"
           }
          ],
          "histogram2dcontour": [
           {
            "colorbar": {
             "outlinewidth": 0,
             "ticks": ""
            },
            "colorscale": [
             [
              0,
              "#0d0887"
             ],
             [
              0.1111111111111111,
              "#46039f"
             ],
             [
              0.2222222222222222,
              "#7201a8"
             ],
             [
              0.3333333333333333,
              "#9c179e"
             ],
             [
              0.4444444444444444,
              "#bd3786"
             ],
             [
              0.5555555555555556,
              "#d8576b"
             ],
             [
              0.6666666666666666,
              "#ed7953"
             ],
             [
              0.7777777777777778,
              "#fb9f3a"
             ],
             [
              0.8888888888888888,
              "#fdca26"
             ],
             [
              1,
              "#f0f921"
             ]
            ],
            "type": "histogram2dcontour"
           }
          ],
          "mesh3d": [
           {
            "colorbar": {
             "outlinewidth": 0,
             "ticks": ""
            },
            "type": "mesh3d"
           }
          ],
          "parcoords": [
           {
            "line": {
             "colorbar": {
              "outlinewidth": 0,
              "ticks": ""
             }
            },
            "type": "parcoords"
           }
          ],
          "pie": [
           {
            "automargin": true,
            "type": "pie"
           }
          ],
          "scatter": [
           {
            "fillpattern": {
             "fillmode": "overlay",
             "size": 10,
             "solidity": 0.2
            },
            "type": "scatter"
           }
          ],
          "scatter3d": [
           {
            "line": {
             "colorbar": {
              "outlinewidth": 0,
              "ticks": ""
             }
            },
            "marker": {
             "colorbar": {
              "outlinewidth": 0,
              "ticks": ""
             }
            },
            "type": "scatter3d"
           }
          ],
          "scattercarpet": [
           {
            "marker": {
             "colorbar": {
              "outlinewidth": 0,
              "ticks": ""
             }
            },
            "type": "scattercarpet"
           }
          ],
          "scattergeo": [
           {
            "marker": {
             "colorbar": {
              "outlinewidth": 0,
              "ticks": ""
             }
            },
            "type": "scattergeo"
           }
          ],
          "scattergl": [
           {
            "marker": {
             "colorbar": {
              "outlinewidth": 0,
              "ticks": ""
             }
            },
            "type": "scattergl"
           }
          ],
          "scattermapbox": [
           {
            "marker": {
             "colorbar": {
              "outlinewidth": 0,
              "ticks": ""
             }
            },
            "type": "scattermapbox"
           }
          ],
          "scatterpolar": [
           {
            "marker": {
             "colorbar": {
              "outlinewidth": 0,
              "ticks": ""
             }
            },
            "type": "scatterpolar"
           }
          ],
          "scatterpolargl": [
           {
            "marker": {
             "colorbar": {
              "outlinewidth": 0,
              "ticks": ""
             }
            },
            "type": "scatterpolargl"
           }
          ],
          "scatterternary": [
           {
            "marker": {
             "colorbar": {
              "outlinewidth": 0,
              "ticks": ""
             }
            },
            "type": "scatterternary"
           }
          ],
          "surface": [
           {
            "colorbar": {
             "outlinewidth": 0,
             "ticks": ""
            },
            "colorscale": [
             [
              0,
              "#0d0887"
             ],
             [
              0.1111111111111111,
              "#46039f"
             ],
             [
              0.2222222222222222,
              "#7201a8"
             ],
             [
              0.3333333333333333,
              "#9c179e"
             ],
             [
              0.4444444444444444,
              "#bd3786"
             ],
             [
              0.5555555555555556,
              "#d8576b"
             ],
             [
              0.6666666666666666,
              "#ed7953"
             ],
             [
              0.7777777777777778,
              "#fb9f3a"
             ],
             [
              0.8888888888888888,
              "#fdca26"
             ],
             [
              1,
              "#f0f921"
             ]
            ],
            "type": "surface"
           }
          ],
          "table": [
           {
            "cells": {
             "fill": {
              "color": "#EBF0F8"
             },
             "line": {
              "color": "white"
             }
            },
            "header": {
             "fill": {
              "color": "#C8D4E3"
             },
             "line": {
              "color": "white"
             }
            },
            "type": "table"
           }
          ]
         },
         "layout": {
          "annotationdefaults": {
           "arrowcolor": "#2a3f5f",
           "arrowhead": 0,
           "arrowwidth": 1
          },
          "autotypenumbers": "strict",
          "coloraxis": {
           "colorbar": {
            "outlinewidth": 0,
            "ticks": ""
           }
          },
          "colorscale": {
           "diverging": [
            [
             0,
             "#8e0152"
            ],
            [
             0.1,
             "#c51b7d"
            ],
            [
             0.2,
             "#de77ae"
            ],
            [
             0.3,
             "#f1b6da"
            ],
            [
             0.4,
             "#fde0ef"
            ],
            [
             0.5,
             "#f7f7f7"
            ],
            [
             0.6,
             "#e6f5d0"
            ],
            [
             0.7,
             "#b8e186"
            ],
            [
             0.8,
             "#7fbc41"
            ],
            [
             0.9,
             "#4d9221"
            ],
            [
             1,
             "#276419"
            ]
           ],
           "sequential": [
            [
             0,
             "#0d0887"
            ],
            [
             0.1111111111111111,
             "#46039f"
            ],
            [
             0.2222222222222222,
             "#7201a8"
            ],
            [
             0.3333333333333333,
             "#9c179e"
            ],
            [
             0.4444444444444444,
             "#bd3786"
            ],
            [
             0.5555555555555556,
             "#d8576b"
            ],
            [
             0.6666666666666666,
             "#ed7953"
            ],
            [
             0.7777777777777778,
             "#fb9f3a"
            ],
            [
             0.8888888888888888,
             "#fdca26"
            ],
            [
             1,
             "#f0f921"
            ]
           ],
           "sequentialminus": [
            [
             0,
             "#0d0887"
            ],
            [
             0.1111111111111111,
             "#46039f"
            ],
            [
             0.2222222222222222,
             "#7201a8"
            ],
            [
             0.3333333333333333,
             "#9c179e"
            ],
            [
             0.4444444444444444,
             "#bd3786"
            ],
            [
             0.5555555555555556,
             "#d8576b"
            ],
            [
             0.6666666666666666,
             "#ed7953"
            ],
            [
             0.7777777777777778,
             "#fb9f3a"
            ],
            [
             0.8888888888888888,
             "#fdca26"
            ],
            [
             1,
             "#f0f921"
            ]
           ]
          },
          "colorway": [
           "#636efa",
           "#EF553B",
           "#00cc96",
           "#ab63fa",
           "#FFA15A",
           "#19d3f3",
           "#FF6692",
           "#B6E880",
           "#FF97FF",
           "#FECB52"
          ],
          "font": {
           "color": "#2a3f5f"
          },
          "geo": {
           "bgcolor": "white",
           "lakecolor": "white",
           "landcolor": "#E5ECF6",
           "showlakes": true,
           "showland": true,
           "subunitcolor": "white"
          },
          "hoverlabel": {
           "align": "left"
          },
          "hovermode": "closest",
          "mapbox": {
           "style": "light"
          },
          "paper_bgcolor": "white",
          "plot_bgcolor": "#E5ECF6",
          "polar": {
           "angularaxis": {
            "gridcolor": "white",
            "linecolor": "white",
            "ticks": ""
           },
           "bgcolor": "#E5ECF6",
           "radialaxis": {
            "gridcolor": "white",
            "linecolor": "white",
            "ticks": ""
           }
          },
          "scene": {
           "xaxis": {
            "backgroundcolor": "#E5ECF6",
            "gridcolor": "white",
            "gridwidth": 2,
            "linecolor": "white",
            "showbackground": true,
            "ticks": "",
            "zerolinecolor": "white"
           },
           "yaxis": {
            "backgroundcolor": "#E5ECF6",
            "gridcolor": "white",
            "gridwidth": 2,
            "linecolor": "white",
            "showbackground": true,
            "ticks": "",
            "zerolinecolor": "white"
           },
           "zaxis": {
            "backgroundcolor": "#E5ECF6",
            "gridcolor": "white",
            "gridwidth": 2,
            "linecolor": "white",
            "showbackground": true,
            "ticks": "",
            "zerolinecolor": "white"
           }
          },
          "shapedefaults": {
           "line": {
            "color": "#2a3f5f"
           }
          },
          "ternary": {
           "aaxis": {
            "gridcolor": "white",
            "linecolor": "white",
            "ticks": ""
           },
           "baxis": {
            "gridcolor": "white",
            "linecolor": "white",
            "ticks": ""
           },
           "bgcolor": "#E5ECF6",
           "caxis": {
            "gridcolor": "white",
            "linecolor": "white",
            "ticks": ""
           }
          },
          "title": {
           "x": 0.05
          },
          "xaxis": {
           "automargin": true,
           "gridcolor": "white",
           "linecolor": "white",
           "ticks": "",
           "title": {
            "standoff": 15
           },
           "zerolinecolor": "white",
           "zerolinewidth": 2
          },
          "yaxis": {
           "automargin": true,
           "gridcolor": "white",
           "linecolor": "white",
           "ticks": "",
           "title": {
            "standoff": 15
           },
           "zerolinecolor": "white",
           "zerolinewidth": 2
          }
         }
        },
        "xaxis": {
         "anchor": "y",
         "domain": [
          0,
          1
         ],
         "title": {
          "text": "x_tsne"
         }
        },
        "yaxis": {
         "anchor": "x",
         "domain": [
          0,
          1
         ],
         "title": {
          "text": "y_tsne"
         }
        }
       }
      }
     },
     "metadata": {},
     "output_type": "display_data"
    }
   ],
   "source": [
    "plt_data = pd.DataFrame(\n",
    "    {\n",
    "        \"x_tsne\": X_tsne[:, 0],\n",
    "        \"y_tsne\": X_tsne[:, 1],\n",
    "        \"title\": titles,\n",
    "    }\n",
    ")\n",
    "fig = px.scatter(\n",
    "    plt_data,\n",
    "    x=\"x_tsne\",\n",
    "    y=\"y_tsne\",\n",
    "    hover_name=\"title\",\n",
    ")\n",
    "fig.show()"
   ]
  },
  {
   "cell_type": "code",
   "execution_count": 15,
   "id": "225ec7f4",
   "metadata": {},
   "outputs": [],
   "source": [
    "from sklearn.cluster import DBSCAN\n",
    "from sklearn import metrics"
   ]
  },
  {
   "cell_type": "code",
   "execution_count": 61,
   "id": "1ce4f43d",
   "metadata": {},
   "outputs": [
    {
     "name": "stdout",
     "output_type": "stream",
     "text": [
      "Estimated number of clusters: 459\n",
      "Estimated number of noise points: 507\n"
     ]
    }
   ],
   "source": [
    "db = DBSCAN(eps=1.5, min_samples=3).fit(X_tsne)\n",
    "labels = db.labels_\n",
    "\n",
    "# Number of clusters in labels, ignoring noise if present.\n",
    "n_clusters_ = len(set(labels)) - (1 if -1 in labels else 0)\n",
    "n_noise_ = list(labels).count(-1)\n",
    "plt_data[\"label\"] = labels\n",
    "\n",
    "print(\"Estimated number of clusters: %d\" % n_clusters_)\n",
    "print(\"Estimated number of noise points: %d\" % n_noise_)"
   ]
  },
  {
   "cell_type": "code",
   "execution_count": 62,
   "id": "b1108785",
   "metadata": {},
   "outputs": [
    {
     "data": {
      "application/vnd.plotly.v1+json": {
       "config": {
        "plotlyServerURL": "https://plot.ly"
       },
       "data": [
        {
         "customdata": [
          [
           0
          ],
          [
           -1
          ],
          [
           1
          ],
          [
           2
          ],
          [
           3
          ],
          [
           4
          ],
          [
           5
          ],
          [
           6
          ],
          [
           -1
          ],
          [
           7
          ],
          [
           8
          ],
          [
           9
          ],
          [
           10
          ],
          [
           69
          ],
          [
           -1
          ],
          [
           11
          ],
          [
           12
          ],
          [
           13
          ],
          [
           14
          ],
          [
           -1
          ],
          [
           15
          ],
          [
           16
          ],
          [
           17
          ],
          [
           18
          ],
          [
           19
          ],
          [
           20
          ],
          [
           -1
          ],
          [
           21
          ],
          [
           22
          ],
          [
           23
          ],
          [
           24
          ],
          [
           25
          ],
          [
           26
          ],
          [
           -1
          ],
          [
           27
          ],
          [
           28
          ],
          [
           -1
          ],
          [
           29
          ],
          [
           30
          ],
          [
           -1
          ],
          [
           -1
          ],
          [
           31
          ],
          [
           32
          ],
          [
           33
          ],
          [
           34
          ],
          [
           35
          ],
          [
           -1
          ],
          [
           36
          ],
          [
           37
          ],
          [
           38
          ],
          [
           -1
          ],
          [
           39
          ],
          [
           40
          ],
          [
           41
          ],
          [
           42
          ],
          [
           43
          ],
          [
           -1
          ],
          [
           44
          ],
          [
           45
          ],
          [
           46
          ],
          [
           -1
          ],
          [
           47
          ],
          [
           48
          ],
          [
           65
          ],
          [
           -1
          ],
          [
           49
          ],
          [
           50
          ],
          [
           51
          ],
          [
           52
          ],
          [
           -1
          ],
          [
           53
          ],
          [
           54
          ],
          [
           363
          ],
          [
           55
          ],
          [
           56
          ],
          [
           51
          ],
          [
           -1
          ],
          [
           57
          ],
          [
           58
          ],
          [
           59
          ],
          [
           60
          ],
          [
           42
          ],
          [
           61
          ],
          [
           62
          ],
          [
           174
          ],
          [
           63
          ],
          [
           56
          ],
          [
           -1
          ],
          [
           64
          ],
          [
           65
          ],
          [
           66
          ],
          [
           67
          ],
          [
           68
          ],
          [
           31
          ],
          [
           69
          ],
          [
           70
          ],
          [
           71
          ],
          [
           23
          ],
          [
           72
          ],
          [
           9
          ],
          [
           -1
          ],
          [
           2
          ],
          [
           73
          ],
          [
           74
          ],
          [
           75
          ],
          [
           37
          ],
          [
           76
          ],
          [
           77
          ],
          [
           78
          ],
          [
           284
          ],
          [
           25
          ],
          [
           -1
          ],
          [
           79
          ],
          [
           -1
          ],
          [
           239
          ],
          [
           80
          ],
          [
           81
          ],
          [
           82
          ],
          [
           72
          ],
          [
           18
          ],
          [
           -1
          ],
          [
           83
          ],
          [
           84
          ],
          [
           17
          ],
          [
           85
          ],
          [
           86
          ],
          [
           56
          ],
          [
           -1
          ],
          [
           -1
          ],
          [
           87
          ],
          [
           88
          ],
          [
           89
          ],
          [
           -1
          ],
          [
           203
          ],
          [
           90
          ],
          [
           -1
          ],
          [
           91
          ],
          [
           92
          ],
          [
           -1
          ],
          [
           93
          ],
          [
           94
          ],
          [
           95
          ],
          [
           96
          ],
          [
           21
          ],
          [
           -1
          ],
          [
           -1
          ],
          [
           451
          ],
          [
           97
          ],
          [
           98
          ],
          [
           86
          ],
          [
           -1
          ],
          [
           99
          ],
          [
           100
          ],
          [
           17
          ],
          [
           -1
          ],
          [
           101
          ],
          [
           102
          ],
          [
           -1
          ],
          [
           103
          ],
          [
           46
          ],
          [
           -1
          ],
          [
           32
          ],
          [
           160
          ],
          [
           104
          ],
          [
           87
          ],
          [
           71
          ],
          [
           -1
          ],
          [
           105
          ],
          [
           -1
          ],
          [
           -1
          ],
          [
           106
          ],
          [
           187
          ],
          [
           107
          ],
          [
           108
          ],
          [
           109
          ],
          [
           382
          ],
          [
           110
          ],
          [
           162
          ],
          [
           111
          ],
          [
           112
          ],
          [
           -1
          ],
          [
           113
          ],
          [
           114
          ],
          [
           115
          ],
          [
           -1
          ],
          [
           116
          ],
          [
           117
          ],
          [
           118
          ],
          [
           119
          ],
          [
           63
          ],
          [
           120
          ],
          [
           121
          ],
          [
           -1
          ],
          [
           39
          ],
          [
           41
          ],
          [
           122
          ],
          [
           9
          ],
          [
           71
          ],
          [
           123
          ],
          [
           124
          ],
          [
           51
          ],
          [
           125
          ],
          [
           434
          ],
          [
           68
          ],
          [
           -1
          ],
          [
           126
          ],
          [
           127
          ],
          [
           18
          ],
          [
           -1
          ],
          [
           6
          ],
          [
           128
          ],
          [
           -1
          ],
          [
           129
          ],
          [
           130
          ],
          [
           131
          ],
          [
           132
          ],
          [
           107
          ],
          [
           133
          ],
          [
           -1
          ],
          [
           134
          ],
          [
           135
          ],
          [
           20
          ],
          [
           136
          ],
          [
           137
          ],
          [
           138
          ],
          [
           139
          ],
          [
           125
          ],
          [
           140
          ],
          [
           87
          ],
          [
           141
          ],
          [
           142
          ],
          [
           143
          ],
          [
           82
          ],
          [
           144
          ],
          [
           145
          ],
          [
           146
          ],
          [
           147
          ],
          [
           -1
          ],
          [
           148
          ],
          [
           149
          ],
          [
           35
          ],
          [
           -1
          ],
          [
           150
          ],
          [
           151
          ],
          [
           152
          ],
          [
           229
          ],
          [
           153
          ],
          [
           154
          ],
          [
           114
          ],
          [
           13
          ],
          [
           121
          ],
          [
           106
          ],
          [
           -1
          ],
          [
           69
          ],
          [
           -1
          ],
          [
           155
          ],
          [
           156
          ],
          [
           341
          ],
          [
           -1
          ],
          [
           -1
          ],
          [
           58
          ],
          [
           220
          ],
          [
           157
          ],
          [
           363
          ],
          [
           158
          ],
          [
           -1
          ],
          [
           159
          ],
          [
           94
          ],
          [
           106
          ],
          [
           160
          ],
          [
           161
          ],
          [
           162
          ],
          [
           125
          ],
          [
           163
          ],
          [
           164
          ],
          [
           165
          ],
          [
           166
          ],
          [
           -1
          ],
          [
           167
          ],
          [
           168
          ],
          [
           169
          ],
          [
           170
          ],
          [
           -1
          ],
          [
           24
          ],
          [
           171
          ],
          [
           44
          ],
          [
           172
          ],
          [
           173
          ],
          [
           106
          ],
          [
           174
          ],
          [
           -1
          ],
          [
           -1
          ],
          [
           175
          ],
          [
           176
          ],
          [
           69
          ],
          [
           177
          ],
          [
           178
          ],
          [
           -1
          ],
          [
           179
          ],
          [
           375
          ],
          [
           180
          ],
          [
           181
          ],
          [
           182
          ],
          [
           183
          ],
          [
           -1
          ],
          [
           184
          ],
          [
           -1
          ],
          [
           185
          ],
          [
           186
          ],
          [
           187
          ],
          [
           -1
          ],
          [
           188
          ],
          [
           189
          ],
          [
           81
          ],
          [
           190
          ],
          [
           304
          ],
          [
           191
          ],
          [
           26
          ],
          [
           72
          ],
          [
           -1
          ],
          [
           -1
          ],
          [
           185
          ],
          [
           87
          ],
          [
           192
          ],
          [
           193
          ],
          [
           194
          ],
          [
           61
          ],
          [
           195
          ],
          [
           109
          ],
          [
           -1
          ],
          [
           -1
          ],
          [
           196
          ],
          [
           197
          ],
          [
           198
          ],
          [
           199
          ],
          [
           200
          ],
          [
           165
          ],
          [
           122
          ],
          [
           32
          ],
          [
           -1
          ],
          [
           59
          ],
          [
           148
          ],
          [
           -1
          ],
          [
           141
          ],
          [
           201
          ],
          [
           202
          ],
          [
           178
          ],
          [
           78
          ],
          [
           203
          ],
          [
           79
          ],
          [
           202
          ],
          [
           185
          ],
          [
           237
          ],
          [
           164
          ],
          [
           204
          ],
          [
           205
          ],
          [
           -1
          ],
          [
           206
          ],
          [
           161
          ],
          [
           -1
          ],
          [
           207
          ],
          [
           208
          ],
          [
           35
          ],
          [
           136
          ],
          [
           49
          ],
          [
           209
          ],
          [
           -1
          ],
          [
           210
          ],
          [
           78
          ],
          [
           211
          ],
          [
           -1
          ],
          [
           212
          ],
          [
           -1
          ],
          [
           42
          ],
          [
           213
          ],
          [
           117
          ],
          [
           257
          ],
          [
           -1
          ],
          [
           172
          ],
          [
           -1
          ],
          [
           -1
          ],
          [
           77
          ],
          [
           79
          ],
          [
           133
          ],
          [
           160
          ],
          [
           175
          ],
          [
           59
          ],
          [
           -1
          ],
          [
           214
          ],
          [
           183
          ],
          [
           215
          ],
          [
           216
          ],
          [
           217
          ],
          [
           200
          ],
          [
           218
          ],
          [
           219
          ],
          [
           220
          ],
          [
           137
          ],
          [
           221
          ],
          [
           137
          ],
          [
           154
          ],
          [
           222
          ],
          [
           82
          ],
          [
           223
          ],
          [
           32
          ],
          [
           224
          ],
          [
           190
          ],
          [
           225
          ],
          [
           226
          ],
          [
           148
          ],
          [
           133
          ],
          [
           227
          ],
          [
           195
          ],
          [
           228
          ],
          [
           141
          ],
          [
           229
          ],
          [
           230
          ],
          [
           188
          ],
          [
           231
          ],
          [
           -1
          ],
          [
           232
          ],
          [
           233
          ],
          [
           -1
          ],
          [
           234
          ],
          [
           -1
          ],
          [
           447
          ],
          [
           155
          ],
          [
           5
          ],
          [
           235
          ],
          [
           192
          ],
          [
           236
          ],
          [
           237
          ],
          [
           238
          ],
          [
           15
          ],
          [
           239
          ],
          [
           240
          ],
          [
           128
          ],
          [
           330
          ],
          [
           -1
          ],
          [
           -1
          ],
          [
           364
          ],
          [
           32
          ],
          [
           241
          ],
          [
           242
          ],
          [
           -1
          ],
          [
           425
          ],
          [
           -1
          ],
          [
           10
          ],
          [
           243
          ],
          [
           310
          ],
          [
           -1
          ],
          [
           117
          ],
          [
           158
          ],
          [
           244
          ],
          [
           245
          ],
          [
           58
          ],
          [
           111
          ],
          [
           246
          ],
          [
           -1
          ],
          [
           247
          ],
          [
           248
          ],
          [
           249
          ],
          [
           250
          ],
          [
           11
          ],
          [
           165
          ],
          [
           251
          ],
          [
           252
          ],
          [
           185
          ],
          [
           55
          ],
          [
           -1
          ],
          [
           102
          ],
          [
           33
          ],
          [
           142
          ],
          [
           117
          ],
          [
           206
          ],
          [
           13
          ],
          [
           253
          ],
          [
           254
          ],
          [
           -1
          ],
          [
           36
          ],
          [
           120
          ],
          [
           255
          ],
          [
           167
          ],
          [
           138
          ],
          [
           93
          ],
          [
           225
          ],
          [
           256
          ],
          [
           27
          ],
          [
           -1
          ],
          [
           257
          ],
          [
           -1
          ],
          [
           -1
          ],
          [
           189
          ],
          [
           49
          ],
          [
           -1
          ],
          [
           -1
          ],
          [
           168
          ],
          [
           258
          ],
          [
           259
          ],
          [
           102
          ],
          [
           142
          ],
          [
           117
          ],
          [
           -1
          ],
          [
           -1
          ],
          [
           122
          ],
          [
           260
          ],
          [
           261
          ],
          [
           262
          ],
          [
           263
          ],
          [
           35
          ],
          [
           264
          ],
          [
           265
          ],
          [
           266
          ],
          [
           267
          ],
          [
           156
          ],
          [
           -1
          ],
          [
           268
          ],
          [
           108
          ],
          [
           -1
          ],
          [
           269
          ],
          [
           -1
          ],
          [
           205
          ],
          [
           270
          ],
          [
           271
          ],
          [
           333
          ],
          [
           17
          ],
          [
           88
          ],
          [
           -1
          ],
          [
           -1
          ],
          [
           272
          ],
          [
           244
          ],
          [
           273
          ],
          [
           274
          ],
          [
           275
          ],
          [
           -1
          ],
          [
           276
          ],
          [
           277
          ],
          [
           278
          ],
          [
           220
          ],
          [
           235
          ],
          [
           279
          ],
          [
           161
          ],
          [
           149
          ],
          [
           -1
          ],
          [
           280
          ],
          [
           0
          ],
          [
           281
          ],
          [
           282
          ],
          [
           283
          ],
          [
           284
          ],
          [
           107
          ],
          [
           223
          ],
          [
           -1
          ],
          [
           171
          ],
          [
           285
          ],
          [
           286
          ],
          [
           46
          ],
          [
           287
          ],
          [
           288
          ],
          [
           289
          ],
          [
           214
          ],
          [
           31
          ],
          [
           24
          ],
          [
           -1
          ],
          [
           -1
          ],
          [
           -1
          ],
          [
           194
          ],
          [
           -1
          ],
          [
           -1
          ],
          [
           290
          ],
          [
           185
          ],
          [
           218
          ],
          [
           65
          ],
          [
           -1
          ],
          [
           168
          ],
          [
           -1
          ],
          [
           291
          ],
          [
           249
          ],
          [
           407
          ],
          [
           -1
          ],
          [
           16
          ],
          [
           292
          ],
          [
           186
          ],
          [
           293
          ],
          [
           294
          ],
          [
           244
          ],
          [
           295
          ],
          [
           296
          ],
          [
           -1
          ],
          [
           297
          ],
          [
           161
          ],
          [
           158
          ],
          [
           280
          ],
          [
           346
          ],
          [
           -1
          ],
          [
           117
          ],
          [
           10
          ],
          [
           53
          ],
          [
           112
          ],
          [
           -1
          ],
          [
           -1
          ],
          [
           -1
          ],
          [
           298
          ],
          [
           113
          ],
          [
           -1
          ],
          [
           299
          ],
          [
           -1
          ],
          [
           300
          ],
          [
           151
          ],
          [
           -1
          ],
          [
           -1
          ],
          [
           -1
          ],
          [
           -1
          ],
          [
           301
          ],
          [
           275
          ],
          [
           120
          ],
          [
           118
          ],
          [
           302
          ],
          [
           117
          ],
          [
           268
          ],
          [
           93
          ],
          [
           303
          ],
          [
           -1
          ],
          [
           208
          ],
          [
           304
          ],
          [
           305
          ],
          [
           -1
          ],
          [
           457
          ],
          [
           70
          ],
          [
           185
          ],
          [
           306
          ],
          [
           307
          ],
          [
           308
          ],
          [
           275
          ],
          [
           82
          ],
          [
           -1
          ],
          [
           -1
          ],
          [
           242
          ],
          [
           263
          ],
          [
           309
          ],
          [
           310
          ],
          [
           -1
          ],
          [
           311
          ],
          [
           117
          ],
          [
           146
          ],
          [
           401
          ],
          [
           312
          ],
          [
           298
          ],
          [
           313
          ],
          [
           69
          ],
          [
           314
          ],
          [
           315
          ],
          [
           105
          ],
          [
           316
          ],
          [
           105
          ],
          [
           -1
          ],
          [
           317
          ],
          [
           318
          ],
          [
           319
          ],
          [
           176
          ],
          [
           320
          ],
          [
           321
          ],
          [
           307
          ],
          [
           317
          ],
          [
           140
          ],
          [
           322
          ],
          [
           323
          ],
          [
           261
          ],
          [
           234
          ],
          [
           107
          ],
          [
           324
          ],
          [
           325
          ],
          [
           326
          ],
          [
           135
          ],
          [
           89
          ],
          [
           203
          ],
          [
           144
          ],
          [
           110
          ],
          [
           2
          ],
          [
           323
          ],
          [
           83
          ],
          [
           259
          ],
          [
           187
          ],
          [
           202
          ],
          [
           327
          ],
          [
           89
          ],
          [
           268
          ],
          [
           328
          ],
          [
           28
          ],
          [
           329
          ],
          [
           -1
          ],
          [
           330
          ],
          [
           38
          ],
          [
           39
          ],
          [
           67
          ],
          [
           6
          ],
          [
           -1
          ],
          [
           -1
          ],
          [
           331
          ],
          [
           248
          ],
          [
           255
          ],
          [
           124
          ],
          [
           245
          ],
          [
           -1
          ],
          [
           307
          ],
          [
           -1
          ],
          [
           -1
          ],
          [
           -1
          ],
          [
           -1
          ],
          [
           -1
          ],
          [
           332
          ],
          [
           70
          ],
          [
           100
          ],
          [
           333
          ],
          [
           -1
          ],
          [
           138
          ],
          [
           172
          ],
          [
           163
          ],
          [
           -1
          ],
          [
           68
          ],
          [
           194
          ],
          [
           173
          ],
          [
           257
          ],
          [
           249
          ],
          [
           -1
          ],
          [
           -1
          ],
          [
           24
          ],
          [
           315
          ],
          [
           284
          ],
          [
           194
          ],
          [
           -1
          ],
          [
           283
          ],
          [
           231
          ],
          [
           -1
          ],
          [
           381
          ],
          [
           -1
          ],
          [
           -1
          ],
          [
           1
          ],
          [
           293
          ],
          [
           334
          ],
          [
           307
          ],
          [
           89
          ],
          [
           34
          ],
          [
           158
          ],
          [
           185
          ],
          [
           335
          ],
          [
           275
          ],
          [
           -1
          ],
          [
           336
          ],
          [
           167
          ],
          [
           337
          ],
          [
           252
          ],
          [
           338
          ],
          [
           194
          ],
          [
           339
          ],
          [
           -1
          ],
          [
           -1
          ],
          [
           34
          ],
          [
           -1
          ],
          [
           340
          ],
          [
           341
          ],
          [
           31
          ],
          [
           47
          ],
          [
           342
          ],
          [
           47
          ],
          [
           343
          ],
          [
           344
          ],
          [
           117
          ],
          [
           201
          ],
          [
           89
          ],
          [
           160
          ],
          [
           345
          ],
          [
           346
          ],
          [
           103
          ],
          [
           342
          ],
          [
           347
          ],
          [
           -1
          ],
          [
           67
          ],
          [
           2
          ],
          [
           11
          ],
          [
           169
          ],
          [
           348
          ],
          [
           349
          ],
          [
           107
          ],
          [
           287
          ],
          [
           -1
          ],
          [
           289
          ],
          [
           103
          ],
          [
           21
          ],
          [
           350
          ],
          [
           131
          ],
          [
           351
          ],
          [
           125
          ],
          [
           78
          ],
          [
           -1
          ],
          [
           123
          ],
          [
           -1
          ],
          [
           351
          ],
          [
           351
          ],
          [
           0
          ],
          [
           352
          ],
          [
           -1
          ],
          [
           -1
          ],
          [
           39
          ],
          [
           298
          ],
          [
           61
          ],
          [
           270
          ],
          [
           -1
          ],
          [
           -1
          ],
          [
           198
          ],
          [
           287
          ],
          [
           113
          ],
          [
           70
          ],
          [
           306
          ],
          [
           -1
          ],
          [
           43
          ],
          [
           353
          ],
          [
           354
          ],
          [
           44
          ],
          [
           44
          ],
          [
           283
          ],
          [
           296
          ],
          [
           176
          ],
          [
           337
          ],
          [
           117
          ],
          [
           233
          ],
          [
           355
          ],
          [
           -1
          ],
          [
           277
          ],
          [
           -1
          ],
          [
           203
          ],
          [
           324
          ],
          [
           170
          ],
          [
           130
          ],
          [
           -1
          ],
          [
           -1
          ],
          [
           -1
          ],
          [
           226
          ],
          [
           356
          ],
          [
           -1
          ],
          [
           357
          ],
          [
           -1
          ],
          [
           131
          ],
          [
           132
          ],
          [
           245
          ],
          [
           207
          ],
          [
           67
          ],
          [
           338
          ],
          [
           262
          ],
          [
           11
          ],
          [
           228
          ],
          [
           123
          ],
          [
           -1
          ],
          [
           205
          ],
          [
           336
          ],
          [
           220
          ],
          [
           358
          ],
          [
           300
          ],
          [
           -1
          ],
          [
           255
          ],
          [
           359
          ],
          [
           84
          ],
          [
           308
          ],
          [
           419
          ],
          [
           120
          ],
          [
           360
          ],
          [
           361
          ],
          [
           -1
          ],
          [
           328
          ],
          [
           -1
          ],
          [
           183
          ],
          [
           450
          ],
          [
           -1
          ],
          [
           -1
          ],
          [
           350
          ],
          [
           249
          ],
          [
           450
          ],
          [
           186
          ],
          [
           362
          ],
          [
           134
          ],
          [
           355
          ],
          [
           29
          ],
          [
           225
          ],
          [
           363
          ],
          [
           53
          ],
          [
           117
          ],
          [
           -1
          ],
          [
           364
          ],
          [
           23
          ],
          [
           293
          ],
          [
           -1
          ],
          [
           365
          ],
          [
           -1
          ],
          [
           366
          ],
          [
           185
          ],
          [
           -1
          ],
          [
           367
          ],
          [
           329
          ],
          [
           77
          ],
          [
           251
          ],
          [
           356
          ],
          [
           368
          ],
          [
           369
          ],
          [
           370
          ],
          [
           371
          ],
          [
           354
          ],
          [
           372
          ],
          [
           213
          ],
          [
           216
          ],
          [
           69
          ],
          [
           373
          ],
          [
           181
          ],
          [
           374
          ],
          [
           99
          ],
          [
           100
          ],
          [
           73
          ],
          [
           -1
          ],
          [
           375
          ],
          [
           307
          ],
          [
           -1
          ],
          [
           -1
          ],
          [
           -1
          ],
          [
           376
          ],
          [
           229
          ],
          [
           377
          ],
          [
           -1
          ],
          [
           378
          ],
          [
           -1
          ],
          [
           -1
          ],
          [
           132
          ],
          [
           126
          ],
          [
           -1
          ],
          [
           110
          ],
          [
           -1
          ],
          [
           22
          ],
          [
           368
          ],
          [
           44
          ],
          [
           193
          ],
          [
           384
          ],
          [
           109
          ],
          [
           -1
          ],
          [
           379
          ],
          [
           295
          ],
          [
           39
          ],
          [
           380
          ],
          [
           381
          ],
          [
           -1
          ],
          [
           276
          ],
          [
           266
          ],
          [
           382
          ],
          [
           -1
          ],
          [
           378
          ],
          [
           382
          ],
          [
           -1
          ],
          [
           41
          ],
          [
           231
          ],
          [
           383
          ],
          [
           361
          ],
          [
           90
          ],
          [
           38
          ],
          [
           356
          ],
          [
           347
          ],
          [
           74
          ],
          [
           -1
          ],
          [
           307
          ],
          [
           185
          ],
          [
           -1
          ],
          [
           384
          ],
          [
           102
          ],
          [
           88
          ],
          [
           208
          ],
          [
           73
          ],
          [
           279
          ],
          [
           98
          ],
          [
           69
          ],
          [
           2
          ],
          [
           393
          ],
          [
           385
          ],
          [
           -1
          ],
          [
           386
          ],
          [
           -1
          ],
          [
           -1
          ],
          [
           165
          ],
          [
           157
          ],
          [
           154
          ],
          [
           -1
          ],
          [
           -1
          ],
          [
           387
          ],
          [
           246
          ],
          [
           374
          ],
          [
           -1
          ],
          [
           351
          ],
          [
           -1
          ],
          [
           358
          ],
          [
           190
          ],
          [
           -1
          ],
          [
           -1
          ],
          [
           381
          ],
          [
           205
          ],
          [
           58
          ],
          [
           -1
          ],
          [
           151
          ],
          [
           -1
          ],
          [
           195
          ],
          [
           127
          ],
          [
           -1
          ],
          [
           -1
          ],
          [
           260
          ],
          [
           176
          ],
          [
           388
          ],
          [
           185
          ],
          [
           312
          ],
          [
           -1
          ],
          [
           315
          ],
          [
           389
          ],
          [
           97
          ],
          [
           390
          ],
          [
           -1
          ],
          [
           67
          ],
          [
           391
          ],
          [
           348
          ],
          [
           332
          ],
          [
           -1
          ],
          [
           392
          ],
          [
           338
          ],
          [
           2
          ],
          [
           284
          ],
          [
           89
          ],
          [
           302
          ],
          [
           188
          ],
          [
           -1
          ],
          [
           311
          ],
          [
           -1
          ],
          [
           308
          ],
          [
           -1
          ],
          [
           -1
          ],
          [
           227
          ],
          [
           202
          ],
          [
           -1
          ],
          [
           309
          ],
          [
           243
          ],
          [
           -1
          ],
          [
           333
          ],
          [
           174
          ],
          [
           110
          ],
          [
           221
          ],
          [
           362
          ],
          [
           393
          ],
          [
           137
          ],
          [
           211
          ],
          [
           126
          ],
          [
           394
          ],
          [
           -1
          ],
          [
           72
          ],
          [
           395
          ],
          [
           210
          ],
          [
           31
          ],
          [
           56
          ],
          [
           151
          ],
          [
           191
          ],
          [
           354
          ],
          [
           -1
          ],
          [
           163
          ],
          [
           7
          ],
          [
           -1
          ],
          [
           348
          ],
          [
           396
          ],
          [
           69
          ],
          [
           51
          ],
          [
           394
          ],
          [
           115
          ],
          [
           397
          ],
          [
           -1
          ],
          [
           388
          ],
          [
           210
          ],
          [
           398
          ],
          [
           399
          ],
          [
           13
          ],
          [
           257
          ],
          [
           -1
          ],
          [
           -1
          ],
          [
           400
          ],
          [
           236
          ],
          [
           31
          ],
          [
           -1
          ],
          [
           388
          ],
          [
           401
          ],
          [
           39
          ],
          [
           -1
          ],
          [
           402
          ],
          [
           185
          ],
          [
           96
          ],
          [
           362
          ],
          [
           131
          ],
          [
           -1
          ],
          [
           311
          ],
          [
           353
          ],
          [
           -1
          ],
          [
           153
          ],
          [
           232
          ],
          [
           281
          ],
          [
           171
          ],
          [
           384
          ],
          [
           -1
          ],
          [
           295
          ],
          [
           48
          ],
          [
           351
          ],
          [
           83
          ],
          [
           106
          ],
          [
           85
          ],
          [
           188
          ],
          [
           -1
          ],
          [
           332
          ],
          [
           142
          ],
          [
           331
          ],
          [
           101
          ],
          [
           397
          ],
          [
           403
          ],
          [
           371
          ],
          [
           126
          ],
          [
           -1
          ],
          [
           103
          ],
          [
           -1
          ],
          [
           404
          ],
          [
           -1
          ],
          [
           389
          ],
          [
           181
          ],
          [
           376
          ],
          [
           155
          ],
          [
           402
          ],
          [
           405
          ],
          [
           88
          ],
          [
           228
          ],
          [
           -1
          ],
          [
           206
          ],
          [
           388
          ],
          [
           222
          ],
          [
           3
          ],
          [
           406
          ],
          [
           206
          ],
          [
           84
          ],
          [
           117
          ],
          [
           189
          ],
          [
           387
          ],
          [
           -1
          ],
          [
           289
          ],
          [
           407
          ],
          [
           -1
          ],
          [
           272
          ],
          [
           408
          ],
          [
           -1
          ],
          [
           255
          ],
          [
           278
          ],
          [
           2
          ],
          [
           344
          ],
          [
           409
          ],
          [
           345
          ],
          [
           75
          ],
          [
           334
          ],
          [
           330
          ],
          [
           410
          ],
          [
           82
          ],
          [
           239
          ],
          [
           449
          ],
          [
           -1
          ],
          [
           324
          ],
          [
           59
          ],
          [
           191
          ],
          [
           131
          ],
          [
           -1
          ],
          [
           -1
          ],
          [
           411
          ],
          [
           412
          ],
          [
           69
          ],
          [
           -1
          ],
          [
           106
          ],
          [
           385
          ],
          [
           413
          ],
          [
           128
          ],
          [
           364
          ],
          [
           264
          ],
          [
           -1
          ],
          [
           373
          ],
          [
           209
          ],
          [
           110
          ],
          [
           366
          ],
          [
           414
          ],
          [
           415
          ],
          [
           -1
          ],
          [
           385
          ],
          [
           -1
          ],
          [
           90
          ],
          [
           -1
          ],
          [
           409
          ],
          [
           -1
          ],
          [
           90
          ],
          [
           281
          ],
          [
           -1
          ],
          [
           321
          ],
          [
           286
          ],
          [
           303
          ],
          [
           266
          ],
          [
           335
          ],
          [
           -1
          ],
          [
           111
          ],
          [
           244
          ],
          [
           161
          ],
          [
           301
          ],
          [
           97
          ],
          [
           337
          ],
          [
           338
          ],
          [
           101
          ],
          [
           -1
          ],
          [
           204
          ],
          [
           372
          ],
          [
           15
          ],
          [
           192
          ],
          [
           376
          ],
          [
           158
          ],
          [
           272
          ],
          [
           187
          ],
          [
           62
          ],
          [
           31
          ],
          [
           378
          ],
          [
           -1
          ],
          [
           416
          ],
          [
           205
          ],
          [
           -1
          ],
          [
           134
          ],
          [
           113
          ],
          [
           -1
          ],
          [
           162
          ],
          [
           383
          ],
          [
           241
          ],
          [
           102
          ],
          [
           377
          ],
          [
           -1
          ],
          [
           -1
          ],
          [
           -1
          ],
          [
           13
          ],
          [
           417
          ],
          [
           415
          ],
          [
           49
          ],
          [
           81
          ],
          [
           33
          ],
          [
           52
          ],
          [
           418
          ],
          [
           151
          ],
          [
           71
          ],
          [
           -1
          ],
          [
           380
          ],
          [
           419
          ],
          [
           276
          ],
          [
           335
          ],
          [
           130
          ],
          [
           179
          ],
          [
           309
          ],
          [
           269
          ],
          [
           332
          ],
          [
           78
          ],
          [
           237
          ],
          [
           250
          ],
          [
           88
          ],
          [
           227
          ],
          [
           20
          ],
          [
           160
          ],
          [
           92
          ],
          [
           163
          ],
          [
           -1
          ],
          [
           339
          ],
          [
           207
          ],
          [
           314
          ],
          [
           -1
          ],
          [
           168
          ],
          [
           394
          ],
          [
           167
          ],
          [
           255
          ],
          [
           -1
          ],
          [
           -1
          ],
          [
           -1
          ],
          [
           65
          ],
          [
           123
          ],
          [
           161
          ],
          [
           420
          ],
          [
           184
          ],
          [
           233
          ],
          [
           -1
          ],
          [
           -1
          ],
          [
           325
          ],
          [
           355
          ],
          [
           29
          ],
          [
           81
          ],
          [
           -1
          ],
          [
           -1
          ],
          [
           289
          ],
          [
           315
          ],
          [
           132
          ],
          [
           271
          ],
          [
           51
          ],
          [
           346
          ],
          [
           405
          ],
          [
           211
          ],
          [
           169
          ],
          [
           114
          ],
          [
           206
          ],
          [
           376
          ],
          [
           382
          ],
          [
           -1
          ],
          [
           -1
          ],
          [
           11
          ],
          [
           242
          ],
          [
           150
          ],
          [
           421
          ],
          [
           188
          ],
          [
           422
          ],
          [
           77
          ],
          [
           111
          ],
          [
           -1
          ],
          [
           233
          ],
          [
           423
          ],
          [
           91
          ],
          [
           379
          ],
          [
           265
          ],
          [
           12
          ],
          [
           180
          ],
          [
           64
          ],
          [
           177
          ],
          [
           -1
          ],
          [
           209
          ],
          [
           368
          ],
          [
           -1
          ],
          [
           264
          ],
          [
           318
          ],
          [
           373
          ],
          [
           -1
          ],
          [
           -1
          ],
          [
           424
          ],
          [
           421
          ],
          [
           333
          ],
          [
           406
          ],
          [
           336
          ],
          [
           278
          ],
          [
           344
          ],
          [
           -1
          ],
          [
           206
          ],
          [
           268
          ],
          [
           395
          ],
          [
           425
          ],
          [
           28
          ],
          [
           426
          ],
          [
           9
          ],
          [
           1
          ],
          [
           256
          ],
          [
           153
          ],
          [
           185
          ],
          [
           138
          ],
          [
           427
          ],
          [
           -1
          ],
          [
           1
          ],
          [
           349
          ],
          [
           -1
          ],
          [
           253
          ],
          [
           268
          ],
          [
           414
          ],
          [
           249
          ],
          [
           185
          ],
          [
           349
          ],
          [
           -1
          ],
          [
           59
          ],
          [
           -1
          ],
          [
           189
          ],
          [
           271
          ],
          [
           236
          ],
          [
           412
          ],
          [
           129
          ],
          [
           395
          ],
          [
           100
          ],
          [
           25
          ],
          [
           186
          ],
          [
           302
          ],
          [
           117
          ],
          [
           349
          ],
          [
           206
          ],
          [
           270
          ],
          [
           19
          ],
          [
           201
          ],
          [
           119
          ],
          [
           80
          ],
          [
           -1
          ],
          [
           348
          ],
          [
           390
          ],
          [
           35
          ],
          [
           139
          ],
          [
           164
          ],
          [
           -1
          ],
          [
           25
          ],
          [
           196
          ],
          [
           216
          ],
          [
           65
          ],
          [
           220
          ],
          [
           74
          ],
          [
           366
          ],
          [
           307
          ],
          [
           238
          ],
          [
           290
          ],
          [
           371
          ],
          [
           69
          ],
          [
           165
          ],
          [
           -1
          ],
          [
           90
          ],
          [
           400
          ],
          [
           -1
          ],
          [
           -1
          ],
          [
           19
          ],
          [
           -1
          ],
          [
           58
          ],
          [
           307
          ],
          [
           11
          ],
          [
           -1
          ],
          [
           48
          ],
          [
           375
          ],
          [
           6
          ],
          [
           428
          ],
          [
           -1
          ],
          [
           69
          ],
          [
           99
          ],
          [
           -1
          ],
          [
           194
          ],
          [
           234
          ],
          [
           -1
          ],
          [
           -1
          ],
          [
           415
          ],
          [
           402
          ],
          [
           60
          ],
          [
           138
          ],
          [
           -1
          ],
          [
           -1
          ],
          [
           346
          ],
          [
           285
          ],
          [
           -1
          ],
          [
           -1
          ],
          [
           429
          ],
          [
           430
          ],
          [
           238
          ],
          [
           247
          ],
          [
           284
          ],
          [
           -1
          ],
          [
           325
          ],
          [
           284
          ],
          [
           411
          ],
          [
           -1
          ],
          [
           -1
          ],
          [
           386
          ],
          [
           370
          ],
          [
           417
          ],
          [
           355
          ],
          [
           -1
          ],
          [
           404
          ],
          [
           22
          ],
          [
           36
          ],
          [
           185
          ],
          [
           304
          ],
          [
           329
          ],
          [
           288
          ],
          [
           171
          ],
          [
           5
          ],
          [
           52
          ],
          [
           148
          ],
          [
           166
          ],
          [
           129
          ],
          [
           19
          ],
          [
           412
          ],
          [
           23
          ],
          [
           29
          ],
          [
           -1
          ],
          [
           -1
          ],
          [
           112
          ],
          [
           68
          ],
          [
           188
          ],
          [
           252
          ],
          [
           406
          ],
          [
           -1
          ],
          [
           382
          ],
          [
           389
          ],
          [
           418
          ],
          [
           207
          ],
          [
           431
          ],
          [
           454
          ],
          [
           393
          ],
          [
           321
          ],
          [
           78
          ],
          [
           432
          ],
          [
           322
          ],
          [
           -1
          ],
          [
           381
          ],
          [
           240
          ],
          [
           142
          ],
          [
           32
          ],
          [
           117
          ],
          [
           117
          ],
          [
           121
          ],
          [
           149
          ],
          [
           229
          ],
          [
           24
          ],
          [
           -1
          ],
          [
           205
          ],
          [
           208
          ],
          [
           398
          ],
          [
           72
          ],
          [
           92
          ],
          [
           254
          ],
          [
           433
          ],
          [
           270
          ],
          [
           117
          ],
          [
           383
          ],
          [
           444
          ],
          [
           191
          ],
          [
           -1
          ],
          [
           -1
          ],
          [
           94
          ],
          [
           300
          ],
          [
           94
          ],
          [
           204
          ],
          [
           378
          ],
          [
           260
          ],
          [
           121
          ],
          [
           415
          ],
          [
           404
          ],
          [
           281
          ],
          [
           22
          ],
          [
           350
          ],
          [
           19
          ],
          [
           31
          ],
          [
           317
          ],
          [
           55
          ],
          [
           279
          ],
          [
           47
          ],
          [
           174
          ],
          [
           343
          ],
          [
           40
          ],
          [
           -1
          ],
          [
           400
          ],
          [
           28
          ],
          [
           125
          ],
          [
           168
          ],
          [
           158
          ],
          [
           254
          ],
          [
           428
          ],
          [
           -1
          ],
          [
           265
          ],
          [
           416
          ],
          [
           154
          ],
          [
           332
          ],
          [
           125
          ],
          [
           288
          ],
          [
           431
          ],
          [
           312
          ],
          [
           429
          ],
          [
           214
          ],
          [
           344
          ],
          [
           136
          ],
          [
           289
          ],
          [
           54
          ],
          [
           342
          ],
          [
           257
          ],
          [
           308
          ],
          [
           239
          ],
          [
           -1
          ],
          [
           116
          ],
          [
           389
          ],
          [
           380
          ],
          [
           -1
          ],
          [
           305
          ],
          [
           262
          ],
          [
           434
          ],
          [
           108
          ],
          [
           435
          ],
          [
           -1
          ],
          [
           -1
          ],
          [
           163
          ],
          [
           61
          ],
          [
           25
          ],
          [
           408
          ],
          [
           359
          ],
          [
           26
          ],
          [
           390
          ],
          [
           33
          ],
          [
           235
          ],
          [
           57
          ],
          [
           436
          ],
          [
           185
          ],
          [
           215
          ],
          [
           265
          ],
          [
           395
          ],
          [
           337
          ],
          [
           388
          ],
          [
           15
          ],
          [
           318
          ],
          [
           187
          ],
          [
           -1
          ],
          [
           162
          ],
          [
           250
          ],
          [
           -1
          ],
          [
           107
          ],
          [
           339
          ],
          [
           67
          ],
          [
           -1
          ],
          [
           31
          ],
          [
           115
          ],
          [
           113
          ],
          [
           233
          ],
          [
           340
          ],
          [
           215
          ],
          [
           403
          ],
          [
           312
          ],
          [
           433
          ],
          [
           64
          ],
          [
           80
          ],
          [
           50
          ],
          [
           44
          ],
          [
           244
          ],
          [
           364
          ],
          [
           405
          ],
          [
           -1
          ],
          [
           375
          ],
          [
           -1
          ],
          [
           72
          ],
          [
           227
          ],
          [
           158
          ],
          [
           -1
          ],
          [
           287
          ],
          [
           437
          ],
          [
           111
          ],
          [
           240
          ],
          [
           360
          ],
          [
           346
          ],
          [
           313
          ],
          [
           139
          ],
          [
           -1
          ],
          [
           226
          ],
          [
           -1
          ],
          [
           69
          ],
          [
           390
          ],
          [
           229
          ],
          [
           370
          ],
          [
           438
          ],
          [
           299
          ],
          [
           436
          ],
          [
           413
          ],
          [
           -1
          ],
          [
           -1
          ],
          [
           -1
          ],
          [
           431
          ],
          [
           171
          ],
          [
           291
          ],
          [
           382
          ],
          [
           436
          ],
          [
           -1
          ],
          [
           295
          ],
          [
           359
          ],
          [
           168
          ],
          [
           336
          ],
          [
           353
          ],
          [
           80
          ],
          [
           369
          ],
          [
           106
          ],
          [
           -1
          ],
          [
           374
          ],
          [
           -1
          ],
          [
           439
          ],
          [
           23
          ],
          [
           45
          ],
          [
           282
          ],
          [
           154
          ],
          [
           402
          ],
          [
           69
          ],
          [
           416
          ],
          [
           40
          ],
          [
           351
          ],
          [
           -1
          ],
          [
           11
          ],
          [
           288
          ],
          [
           110
          ],
          [
           84
          ],
          [
           50
          ],
          [
           440
          ],
          [
           441
          ],
          [
           271
          ],
          [
           150
          ],
          [
           400
          ],
          [
           -1
          ],
          [
           117
          ],
          [
           15
          ],
          [
           107
          ],
          [
           387
          ],
          [
           -1
          ],
          [
           -1
          ],
          [
           442
          ],
          [
           369
          ],
          [
           -1
          ],
          [
           6
          ],
          [
           292
          ],
          [
           -1
          ],
          [
           361
          ],
          [
           72
          ],
          [
           274
          ],
          [
           288
          ],
          [
           71
          ],
          [
           -1
          ],
          [
           335
          ],
          [
           119
          ],
          [
           404
          ],
          [
           29
          ],
          [
           68
          ],
          [
           -1
          ],
          [
           -1
          ],
          [
           -1
          ],
          [
           8
          ],
          [
           288
          ],
          [
           131
          ],
          [
           407
          ],
          [
           302
          ],
          [
           -1
          ],
          [
           236
          ],
          [
           441
          ],
          [
           322
          ],
          [
           -1
          ],
          [
           443
          ],
          [
           -1
          ],
          [
           -1
          ],
          [
           -1
          ],
          [
           -1
          ],
          [
           444
          ],
          [
           69
          ],
          [
           1
          ],
          [
           327
          ],
          [
           78
          ],
          [
           399
          ],
          [
           -1
          ],
          [
           378
          ],
          [
           269
          ],
          [
           344
          ],
          [
           216
          ],
          [
           140
          ],
          [
           342
          ],
          [
           9
          ],
          [
           304
          ],
          [
           129
          ],
          [
           161
          ],
          [
           433
          ],
          [
           245
          ],
          [
           322
          ],
          [
           250
          ],
          [
           377
          ],
          [
           319
          ],
          [
           299
          ],
          [
           259
          ],
          [
           355
          ],
          [
           6
          ],
          [
           445
          ],
          [
           187
          ],
          [
           193
          ],
          [
           -1
          ],
          [
           380
          ],
          [
           215
          ],
          [
           250
          ],
          [
           67
          ],
          [
           381
          ],
          [
           125
          ],
          [
           360
          ],
          [
           246
          ],
          [
           66
          ],
          [
           427
          ],
          [
           446
          ],
          [
           134
          ],
          [
           345
          ],
          [
           350
          ],
          [
           304
          ],
          [
           25
          ],
          [
           200
          ],
          [
           429
          ],
          [
           447
          ],
          [
           70
          ],
          [
           289
          ],
          [
           423
          ],
          [
           -1
          ],
          [
           448
          ],
          [
           102
          ],
          [
           197
          ],
          [
           258
          ],
          [
           325
          ],
          [
           -1
          ],
          [
           130
          ],
          [
           116
          ],
          [
           -1
          ],
          [
           232
          ],
          [
           353
          ],
          [
           134
          ],
          [
           70
          ],
          [
           66
          ],
          [
           425
          ],
          [
           231
          ],
          [
           165
          ],
          [
           183
          ],
          [
           151
          ],
          [
           326
          ],
          [
           69
          ],
          [
           182
          ],
          [
           441
          ],
          [
           3
          ],
          [
           330
          ],
          [
           -1
          ],
          [
           412
          ],
          [
           71
          ],
          [
           206
          ],
          [
           252
          ],
          [
           104
          ],
          [
           -1
          ],
          [
           97
          ],
          [
           330
          ],
          [
           2
          ],
          [
           420
          ],
          [
           111
          ],
          [
           374
          ],
          [
           307
          ],
          [
           30
          ],
          [
           284
          ],
          [
           399
          ],
          [
           444
          ],
          [
           307
          ],
          [
           250
          ],
          [
           379
          ],
          [
           -1
          ],
          [
           298
          ],
          [
           429
          ],
          [
           143
          ],
          [
           85
          ],
          [
           351
          ],
          [
           390
          ],
          [
           247
          ],
          [
           -1
          ],
          [
           -1
          ],
          [
           441
          ],
          [
           337
          ],
          [
           -1
          ],
          [
           -1
          ],
          [
           230
          ],
          [
           -1
          ],
          [
           267
          ],
          [
           -1
          ],
          [
           341
          ],
          [
           194
          ],
          [
           199
          ],
          [
           -1
          ],
          [
           303
          ],
          [
           -1
          ],
          [
           382
          ],
          [
           143
          ],
          [
           -1
          ],
          [
           439
          ],
          [
           55
          ],
          [
           188
          ],
          [
           90
          ],
          [
           224
          ],
          [
           167
          ],
          [
           308
          ],
          [
           448
          ],
          [
           194
          ],
          [
           185
          ],
          [
           163
          ],
          [
           389
          ],
          [
           394
          ],
          [
           -1
          ],
          [
           -1
          ],
          [
           343
          ],
          [
           271
          ],
          [
           20
          ],
          [
           -1
          ],
          [
           449
          ],
          [
           -1
          ],
          [
           6
          ],
          [
           93
          ],
          [
           -1
          ],
          [
           179
          ],
          [
           -1
          ],
          [
           221
          ],
          [
           314
          ],
          [
           159
          ],
          [
           417
          ],
          [
           311
          ],
          [
           221
          ],
          [
           407
          ],
          [
           354
          ],
          [
           347
          ],
          [
           125
          ],
          [
           397
          ],
          [
           268
          ],
          [
           298
          ],
          [
           -1
          ],
          [
           204
          ],
          [
           17
          ],
          [
           450
          ],
          [
           406
          ],
          [
           76
          ],
          [
           197
          ],
          [
           -1
          ],
          [
           40
          ],
          [
           233
          ],
          [
           34
          ],
          [
           216
          ],
          [
           -1
          ],
          [
           79
          ],
          [
           145
          ],
          [
           -1
          ],
          [
           444
          ],
          [
           318
          ],
          [
           187
          ],
          [
           331
          ],
          [
           142
          ],
          [
           115
          ],
          [
           57
          ],
          [
           -1
          ],
          [
           318
          ],
          [
           272
          ],
          [
           450
          ],
          [
           54
          ],
          [
           146
          ],
          [
           218
          ],
          [
           122
          ],
          [
           176
          ],
          [
           -1
          ],
          [
           186
          ],
          [
           -1
          ],
          [
           348
          ],
          [
           227
          ],
          [
           170
          ],
          [
           352
          ],
          [
           442
          ],
          [
           444
          ],
          [
           78
          ],
          [
           386
          ],
          [
           185
          ],
          [
           237
          ],
          [
           -1
          ],
          [
           423
          ],
          [
           -1
          ],
          [
           91
          ],
          [
           68
          ],
          [
           206
          ],
          [
           291
          ],
          [
           445
          ],
          [
           334
          ],
          [
           -1
          ],
          [
           44
          ],
          [
           231
          ],
          [
           339
          ],
          [
           310
          ],
          [
           224
          ],
          [
           349
          ],
          [
           146
          ],
          [
           280
          ],
          [
           376
          ],
          [
           444
          ],
          [
           147
          ],
          [
           -1
          ],
          [
           392
          ],
          [
           444
          ],
          [
           264
          ],
          [
           223
          ],
          [
           410
          ],
          [
           -1
          ],
          [
           -1
          ],
          [
           -1
          ],
          [
           -1
          ],
          [
           -1
          ],
          [
           -1
          ],
          [
           388
          ],
          [
           -1
          ],
          [
           210
          ],
          [
           29
          ],
          [
           451
          ],
          [
           205
          ],
          [
           7
          ],
          [
           53
          ],
          [
           40
          ],
          [
           68
          ],
          [
           444
          ],
          [
           293
          ],
          [
           257
          ],
          [
           432
          ],
          [
           161
          ],
          [
           238
          ],
          [
           104
          ],
          [
           449
          ],
          [
           -1
          ],
          [
           296
          ],
          [
           442
          ],
          [
           337
          ],
          [
           318
          ],
          [
           418
          ],
          [
           -1
          ],
          [
           141
          ],
          [
           52
          ],
          [
           47
          ],
          [
           45
          ],
          [
           89
          ],
          [
           123
          ],
          [
           384
          ],
          [
           14
          ],
          [
           269
          ],
          [
           167
          ],
          [
           23
          ],
          [
           225
          ],
          [
           213
          ],
          [
           51
          ],
          [
           58
          ],
          [
           291
          ],
          [
           196
          ],
          [
           350
          ],
          [
           266
          ],
          [
           366
          ],
          [
           239
          ],
          [
           313
          ],
          [
           439
          ],
          [
           147
          ],
          [
           427
          ],
          [
           -1
          ],
          [
           301
          ],
          [
           171
          ],
          [
           202
          ],
          [
           60
          ],
          [
           79
          ],
          [
           264
          ],
          [
           -1
          ],
          [
           25
          ],
          [
           -1
          ],
          [
           448
          ],
          [
           3
          ],
          [
           152
          ],
          [
           263
          ],
          [
           284
          ],
          [
           65
          ],
          [
           407
          ],
          [
           -1
          ],
          [
           368
          ],
          [
           108
          ],
          [
           160
          ],
          [
           127
          ],
          [
           -1
          ],
          [
           133
          ],
          [
           419
          ],
          [
           375
          ],
          [
           445
          ],
          [
           152
          ],
          [
           175
          ],
          [
           247
          ],
          [
           231
          ],
          [
           50
          ],
          [
           320
          ],
          [
           391
          ],
          [
           184
          ],
          [
           51
          ],
          [
           357
          ],
          [
           -1
          ],
          [
           -1
          ],
          [
           -1
          ],
          [
           174
          ],
          [
           444
          ],
          [
           389
          ],
          [
           353
          ],
          [
           34
          ],
          [
           178
          ],
          [
           -1
          ],
          [
           289
          ],
          [
           -1
          ],
          [
           397
          ],
          [
           47
          ],
          [
           155
          ],
          [
           35
          ],
          [
           -1
          ],
          [
           -1
          ],
          [
           323
          ],
          [
           138
          ],
          [
           126
          ],
          [
           429
          ],
          [
           368
          ],
          [
           210
          ],
          [
           348
          ],
          [
           266
          ],
          [
           274
          ],
          [
           76
          ],
          [
           -1
          ],
          [
           228
          ],
          [
           237
          ],
          [
           265
          ],
          [
           394
          ],
          [
           -1
          ],
          [
           95
          ],
          [
           98
          ],
          [
           203
          ],
          [
           419
          ],
          [
           62
          ],
          [
           18
          ],
          [
           -1
          ],
          [
           -1
          ],
          [
           113
          ],
          [
           47
          ],
          [
           203
          ],
          [
           422
          ],
          [
           445
          ],
          [
           125
          ],
          [
           3
          ],
          [
           74
          ],
          [
           382
          ],
          [
           -1
          ],
          [
           294
          ],
          [
           445
          ],
          [
           320
          ],
          [
           38
          ],
          [
           440
          ],
          [
           -1
          ],
          [
           366
          ],
          [
           443
          ],
          [
           393
          ],
          [
           180
          ],
          [
           361
          ],
          [
           174
          ],
          [
           290
          ],
          [
           153
          ],
          [
           328
          ],
          [
           241
          ],
          [
           -1
          ],
          [
           68
          ],
          [
           451
          ],
          [
           212
          ],
          [
           285
          ],
          [
           51
          ],
          [
           397
          ],
          [
           -1
          ],
          [
           -1
          ],
          [
           394
          ],
          [
           302
          ],
          [
           117
          ],
          [
           437
          ],
          [
           -1
          ],
          [
           36
          ],
          [
           259
          ],
          [
           106
          ],
          [
           10
          ],
          [
           -1
          ],
          [
           446
          ],
          [
           452
          ],
          [
           -1
          ],
          [
           233
          ],
          [
           221
          ],
          [
           145
          ],
          [
           53
          ],
          [
           31
          ],
          [
           372
          ],
          [
           426
          ],
          [
           48
          ],
          [
           316
          ],
          [
           194
          ],
          [
           -1
          ],
          [
           409
          ],
          [
           199
          ],
          [
           28
          ],
          [
           348
          ],
          [
           312
          ],
          [
           447
          ],
          [
           174
          ],
          [
           181
          ],
          [
           310
          ],
          [
           307
          ],
          [
           -1
          ],
          [
           414
          ],
          [
           194
          ],
          [
           273
          ],
          [
           179
          ],
          [
           -1
          ],
          [
           453
          ],
          [
           139
          ],
          [
           406
          ],
          [
           325
          ],
          [
           261
          ],
          [
           425
          ],
          [
           272
          ],
          [
           -1
          ],
          [
           431
          ],
          [
           210
          ],
          [
           -1
          ],
          [
           -1
          ],
          [
           -1
          ],
          [
           -1
          ],
          [
           -1
          ],
          [
           -1
          ],
          [
           182
          ],
          [
           261
          ],
          [
           452
          ],
          [
           71
          ],
          [
           -1
          ],
          [
           184
          ],
          [
           39
          ],
          [
           194
          ],
          [
           105
          ],
          [
           27
          ],
          [
           -1
          ],
          [
           -1
          ],
          [
           105
          ],
          [
           -1
          ],
          [
           -1
          ],
          [
           121
          ],
          [
           -1
          ],
          [
           -1
          ],
          [
           117
          ],
          [
           198
          ],
          [
           -1
          ],
          [
           194
          ],
          [
           454
          ],
          [
           368
          ],
          [
           70
          ],
          [
           12
          ],
          [
           421
          ],
          [
           166
          ],
          [
           148
          ],
          [
           290
          ],
          [
           8
          ],
          [
           361
          ],
          [
           325
          ],
          [
           67
          ],
          [
           -1
          ],
          [
           -1
          ],
          [
           291
          ],
          [
           -1
          ],
          [
           403
          ],
          [
           389
          ],
          [
           166
          ],
          [
           -1
          ],
          [
           413
          ],
          [
           455
          ],
          [
           69
          ],
          [
           -1
          ],
          [
           40
          ],
          [
           377
          ],
          [
           364
          ],
          [
           258
          ],
          [
           -1
          ],
          [
           262
          ],
          [
           456
          ],
          [
           310
          ],
          [
           118
          ],
          [
           242
          ],
          [
           69
          ],
          [
           11
          ],
          [
           129
          ],
          [
           78
          ],
          [
           316
          ],
          [
           303
          ],
          [
           179
          ],
          [
           -1
          ],
          [
           -1
          ],
          [
           422
          ],
          [
           237
          ],
          [
           45
          ],
          [
           437
          ],
          [
           125
          ],
          [
           -1
          ],
          [
           -1
          ],
          [
           163
          ],
          [
           184
          ],
          [
           315
          ],
          [
           -1
          ],
          [
           -1
          ],
          [
           284
          ],
          [
           144
          ],
          [
           328
          ],
          [
           231
          ],
          [
           157
          ],
          [
           430
          ],
          [
           184
          ],
          [
           291
          ],
          [
           115
          ],
          [
           36
          ],
          [
           40
          ],
          [
           457
          ],
          [
           435
          ],
          [
           344
          ],
          [
           454
          ],
          [
           269
          ],
          [
           251
          ],
          [
           444
          ],
          [
           37
          ],
          [
           -1
          ],
          [
           74
          ],
          [
           -1
          ],
          [
           399
          ],
          [
           272
          ],
          [
           264
          ],
          [
           132
          ],
          [
           -1
          ],
          [
           135
          ],
          [
           148
          ],
          [
           -1
          ],
          [
           249
          ],
          [
           -1
          ],
          [
           151
          ],
          [
           392
          ],
          [
           271
          ],
          [
           79
          ],
          [
           230
          ],
          [
           295
          ],
          [
           202
          ],
          [
           458
          ],
          [
           334
          ],
          [
           148
          ],
          [
           156
          ],
          [
           456
          ],
          [
           14
          ],
          [
           34
          ],
          [
           318
          ],
          [
           44
          ],
          [
           35
          ],
          [
           94
          ],
          [
           -1
          ],
          [
           93
          ],
          [
           90
          ],
          [
           64
          ],
          [
           308
          ],
          [
           -1
          ],
          [
           261
          ],
          [
           349
          ],
          [
           246
          ],
          [
           79
          ],
          [
           -1
          ],
          [
           244
          ],
          [
           424
          ],
          [
           265
          ],
          [
           -1
          ],
          [
           323
          ],
          [
           216
          ],
          [
           267
          ],
          [
           22
          ],
          [
           365
          ],
          [
           -1
          ],
          [
           454
          ],
          [
           419
          ],
          [
           453
          ],
          [
           62
          ],
          [
           38
          ],
          [
           -1
          ],
          [
           103
          ],
          [
           -1
          ],
          [
           312
          ],
          [
           10
          ],
          [
           407
          ],
          [
           440
          ],
          [
           -1
          ],
          [
           -1
          ],
          [
           16
          ],
          [
           -1
          ],
          [
           -1
          ],
          [
           277
          ],
          [
           -1
          ],
          [
           364
          ],
          [
           432
          ],
          [
           291
          ],
          [
           289
          ],
          [
           397
          ],
          [
           -1
          ],
          [
           424
          ],
          [
           446
          ],
          [
           97
          ],
          [
           -1
          ],
          [
           430
          ],
          [
           165
          ],
          [
           62
          ],
          [
           340
          ],
          [
           434
          ],
          [
           165
          ],
          [
           -1
          ],
          [
           174
          ],
          [
           354
          ],
          [
           212
          ],
          [
           384
          ],
          [
           309
          ],
          [
           410
          ],
          [
           327
          ],
          [
           3
          ],
          [
           222
          ],
          [
           149
          ],
          [
           286
          ],
          [
           228
          ],
          [
           27
          ],
          [
           342
          ],
          [
           -1
          ],
          [
           421
          ],
          [
           -1
          ],
          [
           295
          ],
          [
           185
          ],
          [
           390
          ],
          [
           243
          ],
          [
           407
          ],
          [
           422
          ],
          [
           242
          ],
          [
           217
          ],
          [
           262
          ],
          [
           106
          ],
          [
           -1
          ],
          [
           203
          ],
          [
           116
          ],
          [
           -1
          ],
          [
           277
          ],
          [
           352
          ],
          [
           398
          ],
          [
           -1
          ],
          [
           425
          ],
          [
           447
          ],
          [
           376
          ],
          [
           259
          ],
          [
           40
          ],
          [
           315
          ],
          [
           340
          ],
          [
           341
          ],
          [
           294
          ],
          [
           -1
          ],
          [
           125
          ],
          [
           -1
          ],
          [
           378
          ],
          [
           282
          ],
          [
           114
          ],
          [
           146
          ],
          [
           61
          ],
          [
           397
          ],
          [
           330
          ],
          [
           256
          ],
          [
           306
          ],
          [
           302
          ],
          [
           -1
          ],
          [
           -1
          ],
          [
           -1
          ],
          [
           96
          ],
          [
           -1
          ],
          [
           -1
          ],
          [
           268
          ],
          [
           -1
          ],
          [
           -1
          ],
          [
           75
          ],
          [
           201
          ],
          [
           367
          ],
          [
           -1
          ],
          [
           -1
          ],
          [
           191
          ],
          [
           319
          ],
          [
           96
          ],
          [
           53
          ],
          [
           455
          ],
          [
           -1
          ],
          [
           86
          ],
          [
           43
          ],
          [
           238
          ],
          [
           68
          ],
          [
           335
          ],
          [
           29
          ],
          [
           164
          ],
          [
           456
          ],
          [
           438
          ],
          [
           272
          ],
          [
           -1
          ],
          [
           261
          ],
          [
           4
          ],
          [
           326
          ],
          [
           77
          ],
          [
           248
          ],
          [
           401
          ],
          [
           228
          ],
          [
           367
          ],
          [
           -1
          ],
          [
           415
          ],
          [
           -1
          ],
          [
           -1
          ],
          [
           399
          ],
          [
           221
          ],
          [
           268
          ],
          [
           264
          ],
          [
           292
          ],
          [
           233
          ],
          [
           62
          ],
          [
           -1
          ],
          [
           367
          ],
          [
           289
          ],
          [
           119
          ],
          [
           -1
          ],
          [
           4
          ],
          [
           -1
          ],
          [
           252
          ],
          [
           435
          ],
          [
           -1
          ],
          [
           426
          ],
          [
           443
          ],
          [
           408
          ],
          [
           109
          ],
          [
           92
          ],
          [
           -1
          ],
          [
           -1
          ],
          [
           37
          ],
          [
           294
          ],
          [
           288
          ],
          [
           127
          ],
          [
           29
          ],
          [
           -1
          ],
          [
           359
          ],
          [
           438
          ],
          [
           365
          ],
          [
           220
          ],
          [
           297
          ],
          [
           207
          ],
          [
           228
          ],
          [
           152
          ],
          [
           315
          ],
          [
           30
          ],
          [
           -1
          ],
          [
           223
          ],
          [
           -1
          ],
          [
           219
          ],
          [
           396
          ],
          [
           264
          ],
          [
           357
          ],
          [
           -1
          ],
          [
           -1
          ],
          [
           253
          ],
          [
           64
          ],
          [
           306
          ],
          [
           428
          ],
          [
           54
          ],
          [
           41
          ],
          [
           231
          ],
          [
           -1
          ],
          [
           59
          ],
          [
           243
          ],
          [
           77
          ],
          [
           416
          ],
          [
           319
          ],
          [
           77
          ],
          [
           -1
          ],
          [
           50
          ],
          [
           -1
          ],
          [
           63
          ],
          [
           94
          ],
          [
           95
          ],
          [
           262
          ],
          [
           172
          ],
          [
           92
          ],
          [
           37
          ],
          [
           219
          ],
          [
           229
          ],
          [
           438
          ],
          [
           346
          ],
          [
           447
          ],
          [
           264
          ],
          [
           296
          ],
          [
           418
          ],
          [
           324
          ],
          [
           185
          ],
          [
           355
          ],
          [
           -1
          ],
          [
           69
          ],
          [
           445
          ],
          [
           85
          ],
          [
           -1
          ],
          [
           228
          ],
          [
           -1
          ],
          [
           400
          ],
          [
           -1
          ],
          [
           325
          ],
          [
           305
          ],
          [
           458
          ],
          [
           -1
          ],
          [
           420
          ],
          [
           358
          ],
          [
           166
          ],
          [
           179
          ],
          [
           -1
          ],
          [
           -1
          ],
          [
           318
          ],
          [
           200
          ],
          [
           297
          ],
          [
           -1
          ],
          [
           69
          ],
          [
           188
          ],
          [
           6
          ],
          [
           400
          ],
          [
           355
          ],
          [
           397
          ],
          [
           394
          ],
          [
           453
          ],
          [
           452
          ],
          [
           315
          ],
          [
           61
          ],
          [
           178
          ],
          [
           -1
          ],
          [
           102
          ],
          [
           159
          ],
          [
           380
          ],
          [
           117
          ],
          [
           168
          ],
          [
           341
          ],
          [
           132
          ],
          [
           115
          ],
          [
           25
          ],
          [
           324
          ],
          [
           391
          ],
          [
           198
          ],
          [
           -1
          ],
          [
           -1
          ],
          [
           457
          ],
          [
           -1
          ],
          [
           451
          ],
          [
           427
          ],
          [
           33
          ],
          [
           199
          ],
          [
           177
          ],
          [
           169
          ],
          [
           -1
          ],
          [
           449
          ],
          [
           -1
          ],
          [
           124
          ],
          [
           -1
          ],
          [
           -1
          ],
          [
           205
          ],
          [
           -1
          ],
          [
           410
          ],
          [
           51
          ],
          [
           134
          ],
          [
           42
          ],
          [
           170
          ],
          [
           368
          ],
          [
           272
          ],
          [
           394
          ],
          [
           -1
          ],
          [
           -1
          ],
          [
           458
          ],
          [
           264
          ],
          [
           -1
          ],
          [
           273
          ],
          [
           83
          ],
          [
           455
          ],
          [
           217
          ],
          [
           396
          ],
          [
           100
          ],
          [
           89
          ],
          [
           456
          ],
          [
           -1
          ],
          [
           -1
          ],
          [
           -1
          ],
          [
           -1
          ],
          [
           144
          ],
          [
           269
          ],
          [
           401
          ],
          [
           248
          ],
          [
           -1
          ],
          [
           411
          ],
          [
           29
          ],
          [
           173
          ],
          [
           -1
          ],
          [
           388
          ],
          [
           -1
          ],
          [
           426
          ],
          [
           69
          ],
          [
           197
          ]
         ],
         "hovertemplate": "<b>%{hovertext}</b><br><br>x_tsne=%{x}<br>y_tsne=%{y}<br>label=%{customdata[0]}<extra></extra>",
         "hovertext": [
          "examining untempered social media: analyzing cascades of polarized conversations",
          "end-to-end bias mitigation: removing gender bias in deep learning",
          "predicting event attendance exploring social influence",
          "multi-task learning for influence estimation and maximization",
          "multi-task deep cnn model for no-reference image quality assessment on smartphone camera photos",
          "toward the prevention of privacy threats: how can we persuade our social network platform users?",
          "device to remotely track and locate the position of a child for safety",
          "emerging topics in internet technology: a complex networks approach",
          "demographic influences on contemporary art with unsupervised style embeddings",
          "short text topic modeling: application to tweets about bitcoin",
          "on-device filtering of social media images for efficient storage",
          "social centralization and semantic collapse: hyperbolic embeddings of networks and text",
          "somiap: social media images analysis and prediction framework",
          "inference in opinion dynamics under social pressure",
          "spread of information with confirmation bias in cyber-social networks",
          "context-aware systems for sequential item recommendation",
          "multilingual, temporal and sentimental distant-reading of city events",
          "spreading of fake news, competence, and learning: kinetic modeling and numerical approximation",
          "why polls fail to predict elections",
          "communities of attention networks: introducing qualitative and conversational perspectives for altmetrics",
          "leveraging motifs to model the temporal dynamics of diffusion networks",
          "network formation under random attack and probabilistic spread",
          "a trust-based recommendation method using network diffusion processes",
          "a co\\mbox{-}operative game theoretic approach for the budgeted influence maximization problem",
          "zealotry effects on opinion dynamics in the adaptive voter model",
          "semantic homophily in online communication: evidence from twitter",
          "redqueen: an online algorithm for smart broadcasting in social networks",
          "visualizing spreading phenomena on complex networks",
          "a behavioral analysis on the reselection of seed nodes in independent cascade based influence maximization",
          "sample debiasing in the themis open world database system (extended version)",
          "generative models for spear phishing posts on social media",
          "characterizing networks of propaganda on twitter: a case study",
          "multiscale socio-ecological networks in the age of information",
          "towards better social crisis data with hermes: hybrid sensing for emergency management system",
          "protecting anonymous speech: a generative adversarial network methodology for removing stylistic indicators in text",
          "viralbert: a user focused bert-based approach to virality prediction",
          "graph neural networks with continual learning for fake news detection from social media",
          "recommending influenceable targets based on influence propagation through activity behaviors in online social media",
          "competitive influence propagation and fake news mitigation in the presence of strong user bias",
          "familiar strangers: the collective regularity in human behaviors",
          "a transformer-based approach to irony and sarcasm detection",
          "a deep language-independent network to analyze the impact of covid-19 on the world via sentiment analysis",
          "iot-enabled social relationships meet artificial social intelligence",
          "weakly supervised collective feature learning from curated media",
          "on the use of benford's law to detect gan-generated images",
          "epidemic spreading and equilibrium social distancing in heterogeneous networks",
          "compromised account detection using authorship verification: a novel approach",
          "covid-19 and social media: beyond polarization",
          "red bots do it better: comparative analysis of social bot partisan behavior",
          "fastcover: an unsupervised learning framework for multi-hop influence maximization in social networks",
          "capturing dynamics of information diffusion in sns: a survey of methodology and techniques",
          "hpcc-ynu at semeval-2020 task 9: a bilingual vector gating mechanism for sentiment analysis of code-mixed text",
          "improved two-stage hate speech classification for twitter based on deep neural networks",
          "mobility strategies based on percolation theory to avoid the spread of diseases: covid-19",
          "people lie, actions don't! modeling infodemic proliferation predictors among social media users",
          "multidimensional outlier detection in temporal interaction networks: an application to political communication on twitter",
          "high degree vertices and spread of infections in spatially modelled social networks",
          "a quantitative framework for establishing low-risk interdistrict travel corridors during covid-19",
          "optimal percolation on multiplex networks",
          "using network motifs to characterize temporal network evolution leading to diffusion inhibition",
          "social contagions with communication channels alternation on multiplex networks",
          "online actions with offline impact: how online social networks influence online and offline user behavior",
          "quantifying how hateful communities radicalize online users",
          "epidemic thresholds of infectious diseases on tie-decay networks",
          "non-markovian temporal networks with auto- and cross-correlated link dynamics",
          "analyzing social interaction networks from twitter for planned special events",
          "adaptive influence maximization with myopic feedback",
          "a tool for spatio-temporal analysis of social anxiety with twitter data",
          "mapping the invocation structure of online political interaction",
          "prediction of soil moisture content based on satellite data and sequence-to-sequence networks",
          "revisiting item promotion in gnn-based collaborative filtering: a masked targeted topological attack perspective",
          "predicting signed edges with\no(\nn\n1+o(1)\nlogn)\nqueries",
          "analysis of the competition among viral strains using a temporal interaction-driven contagion model",
          "utfpr at semeval-2019 task 5: hate speech identification with recurrent neural networks",
          "partisanship, propaganda and post-truth politics: quantifying impact in online debate",
          "integrating sentiment and social structure to determine preference alignments: the irish marriage referendum",
          "measuring adolescents' well-being: correspondence of naive digital traces to survey data",
          "generalized network dismantling",
          "temporal network epistemology: on reaching consensus in real world setting",
          "covid-19 misinformation and disinformation on social networks -- the limits of veritistic countermeasures",
          "a simple and efficient ensemble classifier combining multiple neural network models on social media datasets in vietnamese",
          "an emotional analysis of false information in social media and news articles",
          "political discourse on social media: echo chambers, gatekeepers, and the price of bipartisanship",
          "discrimination universally determines reconstruction of multiplex networks",
          "deep learning super-diffusion in multiplex networks",
          "modeling live video streaming: real-time classification, qoe inference, and field evaluation",
          "topology and dynamics of narratives on brexit propagated by uk press during 2016 and 2017",
          "social media writing style fingerprint",
          "fybrrchat: a distributed chat application for secure p2p messaging",
          "urban epidemic hazard index for chinese cities: why did small cities become epidemic hotspots?",
          "selecting nodes and buying links to maximize the information diffusion in a network",
          "social network-based distancing strategies to flatten the covid 19 curve in a post-lockdown world",
          "who is next: rising star prediction via diffusion of user interest in social networks",
          "covid-19 attack rate increases with city size",
          "on the impact of social media recommendations on opinion consensus",
          "recommender systems with random walks: a survey",
          "an image dataset of text patches in everyday scenes",
          "asymptotically optimal bounds for estimating h-index in sublinear time with applications to subgraph counting",
          "co-training for extraction of adverse drug reaction mentions from tweets",
          "mathematics of digital hyperspace",
          "approximate identification of the optimal epidemic source in complex networks",
          "using social media for word-of-mouth marketing",
          "towards profit maximization for online social network providers",
          "scalable psychological momentum forecasting in esports",
          "sensing social media signals for cryptocurrency news",
          "bots, disinformation, and the first trump impeachment",
          "using deep networks and transfer learning to address disinformation",
          "somps-net : attention based social graph framework for early detection of fake health news",
          "deep convolutional forest: a dynamic deep ensemble approach for spam detection in text",
          "identifying semantically duplicate questions using data science approach: a quora case study",
          "independent publishers and social networks in the 21st century: the balance of power in the transatlantic spanish-language book market",
          "debunking rumors in networks",
          "bev-net: assessing social distancing compliance by joint people localization and geometric reasoning",
          "an open access nlp dataset for arabic dialects : data collection, labeling, and model construction",
          "abem: an adaptive agent-based evolutionary approach for mining influencers in online social networks",
          "influence of cognitive, geographical, and collaborative proximity on knowledge production of canadian nanotechnology",
          "reinforcement learning based recommender systems: a survey",
          "limited individual attention and online virality of low-quality information",
          "multi-task learning for extraction of adverse drug reaction mentions from tweets",
          "profit maximization using social networks in two-phase setting",
          "fog radio access networks: mobility management, interference mitigation and resource optimization",
          "ynu-hpcc at semeval-2020 task 8: using a parallel-channel model for memotion analysis",
          "long-range connections and mixed diffusion in fractional networks",
          "trust and trustworthiness in social recommender systems",
          "midmod-osn: a microscopic-level information diffusion model for online social networks",
          "repetitive users network emerges from multiple rumor cascades",
          "political polarization in social media: analysis of the \"twitter political field\" in japan",
          "predicting opioid relapse using social media data",
          "a composite centrality measure for improved identification of influential users",
          "gsim: a graph neural network based relevance measure for heterogeneous graphs",
          "symmetric continuous subgraph matching with bidirectional dynamic programming",
          "unifying continuous, discrete, and hybrid susceptible-infected-recovered processes on networks",
          "suppression of groups intermingling as appealing option for flattening and delaying the epidemiological curve while allowing economic and social life at bearable level during covid-19 pandemic",
          "document embedding for scientific articles: efficacy of word embeddings vs tfidf",
          "graph convolutional networks in feature space for image deblurring and super-resolution",
          "a service-oriented architecture for assisting the authoring of semantic crowd maps",
          "a survey on studying the social networks of students",
          "rumor source detection with multiple observations under adaptive diffusions",
          "learning dynamic embeddings from temporal interactions",
          "diffusion approximation of a network model of meme popularity",
          "social contagion on higher-order structures",
          "deeplink: a novel link prediction framework based on deep learning",
          "coloring in the links: capturing social ties as they are perceived",
          "deleting edges to restrict the size of an epidemic in temporal networks",
          "enterprise social networks as digital infrastructures -- understanding the utilitarian value of social media at the workplace",
          "selecting and combining complementary feature representations and classifiers for hate speech detection",
          "networked partisanship and framing: a socio-semantic network analysis of the italian debate on migration",
          "on misinformation containment in online social networks",
          "seeing and believing: evaluating the trustworthiness of twitter users",
          "rumor propagation with heterogeneous transmission in social networks",
          "preserving integrity in online social networks",
          "digraphwave: scalable extraction of structural node embeddings via diffusion on directed graphs",
          "dyhgcn: a dynamic heterogeneous graph convolutional network to learn users' dynamic preferences for information diffusion prediction",
          "diffnet++: a neural influence and interest diffusion network for social recommendation",
          "topology-driven diversity for targeted influence maximization with application to user engagement in social networks",
          "an early look at the parler online social network",
          "predicting peer-to-peer and collective social contagion from individual behaviour",
          "adoção de social crm em micro e pequenas empresas: uma análise do mercado santareno",
          "feasibility study of social media for public health behaviour changes",
          "motif iteration model for network representation",
          "on irreversible spread of influence in edge-weighted graphs",
          "a longitudinal analysis of the public perception of the opportunities and challenges of the internet of things",
          "social network analysis: from graph theory to applications with python",
          "interpretable multi-head self-attention model for sarcasm detection in social media",
          "a holistic approach for predicting links in coevolving multilayer networks",
          "a dataset and benchmarks for multimedia social analysis",
          "beyond personalization: social content recommendation for creator equality and consumer satisfaction",
          "characterization of citizens using word2vec and latent topic analysis in a large set of tweets",
          "co-training for demographic classification using deep learning from label proportions",
          "impersonation on social media: a deep neural approach to identify ingenuine content",
          "identifying offensive posts and targeted offense from twitter",
          "exercise? i thought you said 'extra fries': leveraging sentence demarcations and multi-hop attention for meme affect analysis",
          "structure-aware generation network for recipe generation from images",
          "diffusion geometry unravels the emergence of functional clusters in collective phenomena",
          "d-sempre: learning deep semantic-preserving embeddings for user interests-social contents modeling",
          "a privacy-preserving architecture for the protection of adolescents in online social networks",
          "from the difference of structures to the structure of the difference",
          "usefulness of the age-structured sir dynamics in modelling covid-19",
          "learning deep networks from noisy labels with dropout regularization",
          "dynamical decoherence of a qubit coupled to a quantum dot or the syk black hole",
          "does homophily make socialbots more influential? exploring infiltration strategies",
          "\"to target or not to target\": identification and analysis of abusive text using ensemble of classifiers",
          "representation learning on graphs with jumping knowledge networks",
          "predicting the diversity of early epidemic spread on networks",
          "how does active participation effect consensus: adaptive network model of opinion dynamics and influence maximizing rewiring",
          "fairness-aware caching and radio resource allocation for the downlink of multi-cell ofdma systems",
          "\"breaking\" disasters: predicting and characterizing the global news value of natural and man-made disasters",
          "contextual rnn-t for open domain asr",
          "why echo chambers form and network interventions fail: selection outpaces influence in dynamic networks",
          "facebook (a)live? are live social broadcasts really broadcasts?",
          "scalable approximation algorithm for network immunization",
          "improving information cascade modeling by social topology and dual role user dependency",
          "spatial-temporal attention fusion network for short-term passenger flow prediction on holidays in urban rail transit systems",
          "nlp-cic at semeval-2020 task 9: analysing sentiment in code-switching language using a simple deep-learning classifier",
          "reconstructing commuters network using machine learning and urban indicators",
          "netizen-style commenting on fashion photos: dataset and diversity measures",
          "scale-arbitrary invertible image downscaling",
          "heri-graphs: a workflow of creating datasets for multi-modal machine learning on graphs of heritage values and attributes with social media",
          "id-reveal: identity-aware deepfake video detection",
          "deep learning-based sentiment analysis of covid-19 vaccination responses from twitter data",
          "fusing location and text features for sentiment classification",
          "deep learning in the automotive industry: applications and tools",
          "detecting and explaining crisis",
          "sequential prediction of social media popularity with deep temporal context networks",
          "multi-level hypothesis testing for populations of heterogeneous networks",
          "trusted and secured d2d-aided communications in 5g networks",
          "socialvec: social entity embeddings",
          "earned benefit maximization in social networks under budget constraint",
          "epidemic spreading on evolving signed networks",
          "accurate portraits of scientific resources and knowledge service components",
          "increase of low-frequency modes of user dynamics in online social networks during overheating of discussions",
          "optimal active social network de-anonymization using information thresholds",
          "infection percolation: a dynamic network model of disease spreading",
          "adversarial classification on social networks",
          "learning multivariate hawkes processes at scale",
          "agent-based simulations for protecting nursing homes with prevention and vaccination strategies",
          "novel multicolumn kernel extreme learning machine for food detection via optimal features from cnn",
          "influence maximization based on dynamic personal perception in knowledge graph",
          "generating dynamic contact graphs with indirect links",
          "reportage: automatically extracting the exact age of twitter users based on self-reports in tweets",
          "a weibo dataset for the 2022 russo-ukrainian crisis",
          "the homophily principle in social network analysis",
          "disease spreading with social distancing: a prevention strategy in disordered multiplex networks",
          "a survey of location inference techniques on twitter",
          "understanding teenage perceptions and configurations of privacy on instagram",
          "behavioural dimensions for discovering knowledge actor roles utilising enterprise social network metrics",
          "a review of deep learning-based approaches for deepfake content detection",
          "viraliency: pooling local virality",
          "a novel framework with information fusion and neighborhood enhancement for user identity linkage",
          "fake it till you make it: fishing for catfishes",
          "epidemic spreading in multiplex networks influenced by opinion exchanges on vaccination",
          "detecting hostile posts using relational graph convolutional network",
          "pay attention to virality: understanding popularity of social media videos with the attention mechanism",
          "the role of geography in the complex diffusion of innovations",
          "linked credibility reviews for explainable misinformation detection",
          "communety: a deep learning system for the prediction of cohesive social communities",
          "evolution of ego-networks in social media with link recommendations",
          "a deep network model for paraphrase detection in short text messages",
          "credibility-based fake news detection",
          "behind the mask: a computational study of anonymous' presence on twitter",
          "the effect of social distancing on the reach of an epidemic in social networks",
          "compressible and learnable encryption for untrusted cloud environments",
          "did you take the pill? - detecting personal intake of medicine from twitter",
          "tracking the history and evolution of entities: entity-centric temporal analysis of large social media archives",
          "a multilayer network dataset of interaction and influence spreading in a virtual world",
          "latent viral marketing, concepts and control methods",
          "towards propagation uncertainty: edge-enhanced bayesian graph convolutional networks for rumor detection",
          "a survey on echo chambers on social media: description, detection and mitigation",
          "learning representation over dynamic graph using aggregation-diffusion mechanism",
          "fringe news networks: dynamics of us news viewership following the 2020 presidential election",
          "from #jobsearch to #mask: improving covid-19 cascade prediction with spillover effects",
          "transfer learning from lda to bilstm-cnn for offensive language detection in twitter",
          "containing misinformation spreading in temporal social networks",
          "predicting opinion dynamics via sociologically-informed neural networks",
          "emodnn: understanding emotions from short texts through a deep neural network ensemble",
          "polarization model of online social networks based on the concept of spontaneous symmetry breaking",
          "towards an augmented reality fourth generation social networks",
          "predicting human activities from user-generated content",
          "transgender community sentiment analysis from social media data: a natural language processing approach",
          "social sourcing: incorporating social networks into crowdsourcing contest design",
          "evolving nature of human contact networks with its impact on epidemic processes",
          "mitigating overexposure in viral marketing",
          "complex contagions: a decade in review",
          "cooperative coinfection dynamics on clustered networks",
          "exploring arsenic danger awareness in the polish copper basin via network simulation - preliminary results",
          "emotion correlation mining through deep learning models on natural language text",
          "clustering via information access in a network",
          "dynamics of the threshold model on hypergraphs",
          "woli at semeval-2020 task 12: arabic offensive language identification on different twitter datasets",
          "pysentimiento: a python toolkit for sentiment analysis and socialnlp tasks",
          "event-radar: real-time local event detection system for geo-tagged tweet streams",
          "how network properties and epidemic parameters influence stochastic sir dynamics on scale-free random networks",
          "adversarial threats to deepfake detection: a practical perspective",
          "modeling spatial trajectories using coarse-grained smartphone logs",
          "cyberthreat detection from twitter using deep neural networks",
          "information access equality on network generative models",
          "somin.ai: personality-driven content generation platform",
          "deep representation learning for clustering of health tweets",
          "fauxward: a graph neural network approach to fauxtography detection using social media comments",
          "multi-unit diffusion auctions with intermediaries",
          "epidemic prevalence information on social networks mediates emergent collective outcomes in voluntary vaccine schemes",
          "group emotion recognition using machine learning",
          "misinformation spreading on correlated multiplex networks",
          "deep learning guided android malware and anomaly detection",
          "people-centric computing and communications in smart cities",
          "the impact of covid-19 on flight networks",
          "activity maximization by effective information diffusion in social networks",
          "multi-granularity reasoning for social relation recognition from images",
          "ghmerti at semeval-2019 task 6: a deep word- and character-based approach to offensive language identification",
          "dani: a fast diffusion aware network inference algorithm",
          "rethinking defeasible reasoning: a scalable approach",
          "local information sources received the most attention from puerto ricans during the aftermath of hurricane maría",
          "a model for the influence of media on the ideology of content in online social networks",
          "towards a multi-agent system for online hate speech detection",
          "opinion dynamics theory for analysis of consensus formation and division of opinion on the internet",
          "evolving methods for evaluating and disseminating computing research",
          "cimtdetect: a community infused matrix-tensor coupled factorization based method for fake news detection",
          "a cnn-lstm-based hybrid deep learning approach to detect sentiment polarities on monkeypox tweets",
          "twitter bot detection using bidirectional long short-term memory neural networks and word embeddings",
          "social media usage patterns during natural hazards",
          "dynamic influence maximization",
          "remembering winter was coming: character-oriented video summaries of tv series",
          "vais hate speech detection system: a deep learning based approach for system combination",
          "deepfakes generation and detection: state-of-the-art, open challenges, countermeasures, and way forward",
          "integrity 2022: integrity in social networks and media",
          "overall evaluations on benefits of influence when disturbed by rivals",
          "mobile social services with network externality: from separate pricing to bundled pricing",
          "automatic rumor detection on microblogs: a survey",
          "a survey on influence maximization in a social network",
          "memefacegenerator: adversarial synthesis of chinese meme-face from natural sentences",
          "linky: visualizing user identity linkage results for multiple online social networks",
          "multiview deep learning for predicting twitter users' location",
          "are we always in strife? a longitudinal study of the echo chamber effect in the australian twittersphere",
          "gag: global attributed graph neural network for streaming session-based recommendation",
          "agent-based neutral competition in two-community networks",
          "cheating in online gaming spreads through observation and victimization",
          "sequential seeding in multilayer networks",
          "a graph theory approach to assess nature's contribution to people at a global scale",
          "ai-based approach for safety signals detection from social networks: application to the levothyrox scandal in 2017 on doctissimo forum",
          "subgraph nomination: query by example subgraph retrieval in networks",
          "unsupervised text mining of covid-19 records",
          "prediction of trending topics using anfis and deterministic models",
          "multi-level graph convolutional networks for cross-platform anchor link prediction",
          "interlayer link prediction in multiplex social networks based on multiple types of consistency between embedding vectors",
          "depressionnet: a novel summarization boosted deep framework for depression detection on social media",
          "a study on herd behavior using sentiment analysis in online social network",
          "identifying partisan slant in news articles and twitter during political crises",
          "coordinated behavior on social media in 2019 uk general election",
          "self-supervised learning from web data for multimodal retrieval",
          "efficient hierarchical clustering for classification and anomaly detection",
          "a replication strategy for mobile opportunistic networks based on utility clustering",
          "the gompertz growth of covid-19 outbreaks is caused by super-spreaders",
          "metadetector: meta event knowledge transfer for fake news detection",
          "bring your friend! real or virtual?",
          "investigating coordinated 'social' targeting of high-profile twitter accounts",
          "muboost: an effective method for solving indic multilingual text classification problem",
          "network modularity controls the speed of information diffusion",
          "parametric reshaping of portraits in videos",
          "cyber physical systems (cps) surveillance using an epidemic model",
          "physics graduate student employment: what we can learn from professional social media",
          "partisan asymmetries in exposure to misinformation",
          "the mass, fake news, and cognition security",
          "what sets verified users apart? insights, analysis and prediction of verified users on twitter",
          "nps-anticlone: identity cloning detection based on non-privacy-sensitive user profile data",
          "multimodal feature extraction for memes sentiment classification",
          "hierarchical fashion graph network for personalized outfit recommendation",
          "deap-faked: knowledge graph based approach for fake news detection",
          "measuring the impact of spammers on e-mail and twitter networks",
          "capturing edge attributes via network embedding",
          "analyzing worldwide social distancing through large-scale computer vision",
          "leveraging multiple relations for fashion trend forecasting based on social media",
          "cross-lingual cross-platform rumor verification pivoting on multimedia content",
          "a hub-and-spoke model for content-moderation-at-scale on an information-sharing platform",
          "deep learning approach for enhanced cyber threat indicators in twitter stream",
          "overview of checkthat! 2020: automatic identification and verification of claims in social media",
          "identifying coordinated accounts on social media through hidden influence and group behaviours",
          "super-blockers and the effect of network structure on information cascades",
          "facehack: triggering backdoored facial recognition systems using facial characteristics",
          "detecting transaction-based tax evasion activities on social media platforms using multi-modal deep neural networks",
          "learning and evaluating graph neural network explanations based on counterfactual and factual reasoning",
          "centrality with diversity",
          "scarlet: explainable attention based graph neural network for fake news spreader prediction",
          "moving the epidemic tipping point through topologically targeted social distancing",
          "optimal resource diffusion for suppressing disease spreading in multiplex networks",
          "challenges of growing social media networks from the bottom-up through the agent perspective",
          "adaptive interaction fusion networks for fake news detection",
          "using sentiment representation learning to enhance gender classification for user profiling",
          "measuring influence on instagram: a network-oblivious approach",
          "correlated feature selection for tweet spam classification",
          "leveraging transformers for hate speech detection in conversational code-mixed tweets",
          "it's always april fools' day! on the difficulty of social network misinformation classification via propagation features",
          "fast influencers in complex networks",
          "information evolution in complex networks",
          "cognitive cascades: how to model (and potentially counter) the spread of fake news",
          "epidemics on networks: reducing disease transmission using health emergency declarations and peer communication",
          "humaid: human-annotated disaster incidents data from twitter with deep learning benchmarks",
          "bias-resistant social news aggregator based on blockchain",
          "twhin: embedding the twitter heterogeneous information network for personalized recommendation",
          "gradient method for continuous influence maximization with budget-saving considerations",
          "a generalized bass model for product growth in networks",
          "generating simple directed social network graphs for information spreading",
          "ginger cannot cure cancer: battling fake health news with a comprehensive data repository",
          "observing responses to the covid-19 pandemic using worldwide network cameras",
          "blag: bandit on large action set graph",
          "a case study and qualitative analysis of simple cross-lingual opinion mining",
          "modeling political activism around gun debate via social media",
          "checkovid: a covid-19 misinformation detection system on twitter using network and content mining perspectives",
          "a robust deep ensemble classifier for figurative language detection",
          "dgsvis: visual analysis of hierarchical snapshots in dynamic graph",
          "faketagger: robust safeguards against deepfake dissemination via provenance tracking",
          "monitoring energy trends through automatic information extraction",
          "the impact of social curiosity on information spreading on networks",
          "random networks with heterogeneous reciprocity",
          "an innovative word encoding method for text classification using convolutional neural network",
          "dynamic routing for social information sharing",
          "msnet: a multilevel instance segmentation network for natural disaster damage assessment in aerial videos",
          "location and audience selection for maximizing social influence",
          "analyzing temporal relationships between trending terms on twitter and urban dictionary activity",
          "pay attention to emoji: feature fusion network with emograph2vec model for sentiment analysis",
          "a survey of location prediction on twitter",
          "social influence and unfollowing accelerate the emergence of echo chambers",
          "information consumption and boundary spanning in decentralized online social networks: the case of mastodon users",
          "the complexity of social media response: statistical evidence for one-dimensional engagement signal in twitter",
          "leveraging users' social network embeddings for fake news detection on twitter",
          "smart wireless communication is the cornerstone of smart infrastructures",
          "multimodal model with text and drug embeddings for adverse drug reaction classification",
          "fake news mitigation via point process based intervention",
          "strategic seeding of rival opinions",
          "joint learning of pre-trained and random units for domain adaptation in part-of-speech tagging",
          "fake news detection on social media using geometric deep learning",
          "contextual bandits for advertising campaigns: a diffusion-model independent approach (extended version)",
          "embracing domain differences in fake news: cross-domain fake news detection using multi-modal data",
          "temporal nuances of coordination network semantics",
          "sharing emotions at scale: the vent dataset",
          "composite behavioral modeling for identity theft detection in online social networks",
          "agent based rumor spreading in a scale-free network",
          "from senseless swarms to smart mobs: tuning networks for prosocial behaviour",
          "automatic extraction of urban outdoor perception from geolocated free-texts",
          "attributed multi-relational attention network for fact-checking url recommendation",
          "modeling social readers: novel tools for addressing reception from online book reviews",
          "a text classification framework for simple and effective early depression detection over social media streams",
          "a multi-task approach for named entity recognition in social media data",
          "influence of temporal aspects and age-correlations on the process of opinion formation based on polish contact survey",
          "understanding web archiving services and their (mis)use on social media",
          "playing with thresholds on the forward linear threshold rank",
          "network psychometrics and cognitive network science open new ways for detecting, understanding and tackling the complexity of math anxiety: a review",
          "u.s. social fragmentation at multiple scales",
          "big data for social sciences: measuring patterns of human behavior through large-scale mobile phone data",
          "claim: curriculum learning policy for influence maximization in unknown social networks",
          "deepcp: deep learning driven cascade prediction based autonomous content placement in closed social network",
          "online competitive influence maximization",
          "abusive language detection in online conversations by combining content-and graph-based features",
          "hashkat: large-scale simulations of online social networks",
          "social diffusion sources can escape detection",
          "optimization of coupling and global collapse in diffusively coupled socio-ecological resource exploitation networks",
          "covid-19 epidemic under the k-quarantine model: network approach",
          "a viral marketing-based model for opinion dynamics in online social networks",
          "eight years of homicide evolution in monterrey, mexico: a network approach",
          "task-driven sampling of attributed networks",
          "high-resolution home location prediction from tweets using deep learning with dynamic structure",
          "hidden dependence of spreading vulnerability on topological complexity",
          "cognitive systems approach to smart cities",
          "an army of me: sockpuppets in online discussion communities",
          "suicidal ideation and mental disorder detection with attentive relation networks",
          "social networks analysis to retrieve critical comments on online platforms",
          "a spectral method for activity shaping in continuous-time information cascades",
          "does yoga make you happy? analyzing twitter user happiness using textual and temporal information",
          "interpretable business survival prediction",
          "measuring disparate outcomes of content recommendation algorithms with distributional inequality metrics",
          "explosive transitions induced by interdependent contagion-consensus dynamics in multiplex networks",
          "using deep neural networks to translate multi-lingual threat intelligence",
          "identifying emergency stages in facebook posts of police departments with convolutional and recurrent neural networks and support vector machines",
          "impact of presymptomatic transmission on epidemic spreading in contact networks: a dynamic message-passing analysis",
          "changes from classical statistics to modern statistics and data science",
          "controlling graph dynamics with reinforcement learning and graph neural networks",
          "seasonal payoff variations and the evolution of cooperation in social dilemmas",
          "semantic classification of tabular datasets via character-level convolutional neural networks",
          "weighted h-index for identifying influential spreaders",
          "public risk perception and emotion on twitter during the covid-19 pandemic",
          "probabilistic social learning improves the public's detection of misinformation",
          "structural and temporal heterogeneities on networks",
          "a vector logistic dynamical approach to epidemic evolution on interacting social-contact and production-capacity graphs",
          "diffusion, influence and best-response dynamics in networks: an action model approach",
          "social influences in recommendation systems",
          "prevalence and scalable control of localized networks",
          "temporal graph kernels for classifying dissemination processes",
          "a tutorial on event detection using social media data analysis: applications, challenges, and open problems",
          "an information diffusion approach to rumor propagation and identification on twitter",
          "quarc: quaternion multi-modal fusion architecture for hate speech classification",
          "mcdiarmid drift detection methods for evolving data streams",
          "social data analysis: a study on friend rating influence",
          "qactor: on-line active learning for noisy labeled stream data",
          "vaccination with partial transmission and social distancing on contact networks",
          "deep-disaster: unsupervised disaster detection and localization using visual data",
          "face-off: adversarial face obfuscation",
          "uncritical polarized groups: the impact of spreading fake news as fact in social networks",
          "network infusion to infer information sources in networks",
          "deepsketch2face: a deep learning based sketching system for 3d face and caricature modeling",
          "connected but segregated: social networks in rural villages",
          "social media polarization and echo chambers in the context of covid-19: case study",
          "group based centrality for immunization of complex networks",
          "p2pgnn: a decentralized graph neural network for node classification in peer-to-peer networks",
          "leveraging the crowd to detect and reduce the spread of fake news and misinformation",
          "visual analysis of photo policy misconfigurations using treemaps",
          "d2d-lstm based prediction of the d2d diffusion path in mobile social networks",
          "impact of confirmation bias on competitive information spread in social networks",
          "eye of the mind: image processing for social coding",
          "similarity learning for authorship verification in social media",
          "using social network and semantic analysis to analyze online travel forums and forecast tourism demand",
          "balancing information exposure in social networks",
          "detecting contagious spreading of urban innovations on the global city network",
          "survey of nlp in pharmacology: methodology, tasks, resources, knowledge, and tools",
          "inside the echo chamber: disentangling network dynamics from polarization",
          "penetrating a social network: the follow-back problem",
          "validation of twitter opinion trends with national polling aggregates: hillary clinton vs donald trump",
          "learning shared semantic space with correlation alignment for cross-modal event retrieval",
          "diffusion and auction on graphs",
          "signed latent factors for spamming activity detection",
          "capsule-forensics: using capsule networks to detect forged images and videos",
          "scrank: spammer and celebrity ranking in directed social networks",
          "antivax movement and epidemic spreading in the era of social networks: nonmonotonic effects, bistability and network segregation",
          "weakly-supervised fine-grained event recognition on social media texts for disaster management",
          "learnability of competitive threshold models",
          "rwn: robust watermarking network for image cropping localization",
          "automatic image stylization using deep fully convolutional networks",
          "long-range connections, real-world networks and rates of diffusion",
          "deep multi-modality soft-decoding of very low bit-rate face videos",
          "danish stance classification and rumour resolution",
          "fast few shot self-attentive semi-supervised political inclination prediction",
          "controlling epidemic spread using probabilistic diffusion models on networks",
          "a framework for pre-processing of social media feeds based on integrated local knowledge base",
          "\"double vaccinated, 5g boosted!\": learning attitudes towards covid-19 vaccination from social media",
          "simplicial complexes: higher-order spectral dimension and dynamics",
          "co.me.t.a. -- covid-19 media textual analysis. a dashboard for media monitoring",
          "a friend recommendation system using semantic based knn algorithm",
          "cross-media keyphrase prediction: a unified framework with multi-modality multi-head attention and image wordings",
          "a logical framework for verifying privacy breaches of social networks",
          "new models and methods for formation and analysis of social networks",
          "word frequency and sentiment analysis of twitter messages during coronavirus pandemic",
          "opinion maximization in social trust networks",
          "the role of the big geographic sort in the circulation of misinformation among u.s. reddit users",
          "uncovering coordinated networks on social media: methods and case studies",
          "representing social networks as dynamic heterogeneous graphs",
          "emh: extended mixing h-index centrality for identification important users in social networks based on neighborhood diversity",
          "predicting diffusion reach probabilities via representation learning on social networks",
          "personalized multi-faceted trust modeling to determine trust links in social media and its potential for misinformation management",
          "sign: scalable inception graph neural networks",
          "photo filter recommendation by category-aware aesthetic learning",
          "identifying crisis response communities in online social networks for compound disasters: the case of hurricane laura and covid-19",
          "matching community structure across online social networks",
          "neural parameter calibration for large-scale multi-agent models",
          "bangla text classification using transformers",
          "sneak into devil's colony- a study of fake profiles in online social networks and the cyber law",
          "misogynistic tweet detection: modelling cnn with small datasets",
          "balancing the spread of two opinions in sparse social networks",
          "a systematic literature review about idea mining: the use of machine-driven analytics to generate ideas",
          "the size conundrum: why online knowledge markets can fail at scale",
          "outdoorsent: sentiment analysis of urban outdoor images by using semantic and deep features",
          "maximizing welfare in social networks under a utility driven influence diffusion model",
          "connected learning, collapsed contexts",
          "a case study of chinese sentiment analysis on social media reviews based on lstm",
          "evidential temporal-aware graph-based social event detection via dempster-shafer theory",
          "steghash: new method for information hiding in open social networks",
          "opinion diffusion software with strategic opinion revelation and unfriending",
          "mitigating the backfire effect using pacing and leading",
          "are anti-feminist communities gateways to the far right? evidence from reddit and youtube",
          "characterizing and predicting supply-side engagement on crowd-contributed video sharing platforms",
          "trollslayer: crowdsourcing and characterization of abusive birds in twitter",
          "cascades: a view from audience",
          "pattern and anomaly detection in urban temporal networks",
          "modeling food popularity dependencies using social media data",
          "corrective information does not necessarily curb social disruption",
          "use of a controlled experiment and computational models to measure the impact of sequential peer exposures on decision making",
          "from crowdsourcing to crowdmining: using implicit human intelligence for better understanding of crowdsourced data",
          "network representation learning: a survey",
          "a cross-repository model for predicting popularity in github",
          "motif discovery algorithms in static and temporal networks: a survey",
          "modeling interconnected social and technical risks in open source software ecosystems",
          "predicting users' value changes by the friends' influence from social media usage",
          "exposing individual differences through network topology",
          "visualizing collective idea generation and innovation processes in social networks",
          "understanding global reaction to the recent outbreaks of covid-19: insights from instagram data analysis",
          "automated email generation for targeted attacks using natural language",
          "gender prediction in english-hindi code-mixed social media content : corpus and baseline system",
          "an automated pipeline for character and relationship extraction from readers' literary book reviews on goodreads.com",
          "smart information spreading for opinion maximization in social networks",
          "youtube ad view sentiment analysis using deep learning and machine learning",
          "predicting the role of political trolls in social media",
          "blockchain for the metaverse: a review",
          "predicting enterprise cyber incidents using social network analysis on the darkweb hacker forums",
          "interpretable rumor detection in microblogs by attending to user interactions",
          "modeling spatial social complex networks for dynamical processes",
          "modelling excess mortality in covid-19-like epidemics",
          "learning word representations for tunisian sentiment analysis",
          "emerging methods of auction design in social networks",
          "evolution of the political opinion landscape during electoral periods",
          "topic-based influence computation in social networks under resource constraints",
          "herd behaviors in epidemics: a dynamics-coupled evolutionary games approach",
          "tattoo image search at scale: joint detection and compact representation learning",
          "automatic argumentative-zoning using word2vec",
          "network and agent dynamics with evolving protection against systemic risk",
          "traffic-twitter transformer: a nature language processing-joined framework for network-wide traffic forecasting",
          "continuous influence-based community partition for social networks",
          "using blockchain to rein in the new post-truth world and check the spread of fake news",
          "identifying the topology of undirected networks from diffused non-stationary graph signals",
          "neural latent space model for dynamic networks and temporal knowledge graphs",
          "revenue maximization in incentivized social advertising",
          "navigation objects extraction for better content structure understanding",
          "voting-based opinion maximization",
          "where do you want to invest? predicting startup funding from freely, publicly available web information",
          "weakening the inner strength: spotting core collusive users in youtube blackmarket network",
          "how to estimate epidemic risk from incomplete contact diaries data?",
          "recursive patterns in online echo chambers",
          "competing spreading dynamics in simplicial complex",
          "knowledge graph-enabled text-based automatic personality prediction",
          "sense-giving strategies of media organisations in social media disaster communication: findings from hurricane harvey",
          "multi-source data fusion outage location in distribution systems via probabilistic graph models",
          "socialgcn: an efficient graph convolutional network based model for social recommendation",
          "compelling evidence of oscillatory behaviour of hadronic multiplicities in the shifted gompertz distribution",
          "dasc: towards a road damage-aware social-media-driven car sensing framework for disaster response applications",
          "social discrete choice models",
          "thinking in frequency: face forgery detection by mining frequency-aware clues",
          "modeling implicit communities using spatio-temporal point processes from geo-tagged event traces",
          "abusive language detection and characterization of twitter behavior",
          "social explorative attention based recommendation for content distribution platforms",
          "emtagger: a word embedding based novel method for hashtag recommendation on twitter",
          "image2song: song retrieval via bridging image content and lyric words",
          "approximation algorithms for graph burning",
          "ties: temporal interaction embeddings for enhancing social media integrity at facebook",
          "text-mining forma mentis networks reconstruct public perception of the stem gender gap in social media",
          "instagram filter removal on fashionable images",
          "characterising different communities of twitter users: migrants and natives",
          "analysing social media network data with r: semi-automated screening of users, comments and communication patterns",
          "social network analysis using coordination games",
          "reporting revenge porn: a preliminary expert analysis",
          "combinatorial trace method for network immunization",
          "improving rnn transducer based asr with auxiliary tasks",
          "using twitter attribute information to predict stock prices",
          "automatic identification and ranking of emergency aids in social media macro community",
          "a cross-platform collection of social network profiles",
          "a study of whatsapp usage patterns and prediction models without message content",
          "deep neural networks in fully connected crf for image labeling with social network metadata",
          "tensor factorization with label information for fake news detection",
          "controlling fake news by tagging: a branching process analysis",
          "detecting cyberbullying and cyberaggression in social media",
          "violence detection in videos",
          "amobee at semeval-2019 tasks 5 and 6: multiple choice cnn over contextual embedding",
          "a deep dive into the consistently toxic 1% of twitter",
          "multi-auxiliary augmented collaborative variational auto-encoder for tag recommendation",
          "calling to cnn-lstm for rumor detection: a deep multi-channel model for message veracity classification in microblogs",
          "on the submodularity of diffusion models: equivalent conditions and applications",
          "a spreader ranking algorithm for extremely low-budget influence maximization in social networks using community bridge nodes",
          "fairness across network positions in cyberbullying detection algorithms",
          "attention-based method for categorizing different types of online harassment language",
          "hot streaks on social media",
          "neural contrastive clustering: fully unsupervised bias reduction for sentiment classification",
          "sentiment analysis of online travel reviews based on capsule network and sentiment lexicon",
          "utilizing neural networks and linguistic metadata for early detection of depression indications in text sequences",
          "fine-grained prediction of political leaning on social media with unsupervised deep learning",
          "social interactions affect discovery processes",
          "opinion formation in multiplex networks with general initial distributions",
          "concurrency-induced transitions in epidemic dynamics on temporal networks",
          "simulation and application of covid-19 compartment model using physics-informed neural network",
          "unsupervised domain adaptation with global and local graph neural networks in limited labeled data scenario: application to disaster management",
          "meta-analysis of the accuracy of syndromic surveillance",
          "ego-graph replay based continual learning for misinformation engagement prediction",
          "measuring the impact of influence on individuals: roadmap to quantifying attitude",
          "producing augmentation-invariant embeddings from real-life imagery",
          "normalizing text using language modelling based on phonetics and string similarity",
          "self-induced consensus of reddit users to characterise the gamestop short squeeze",
          "the block point process model for continuous-time event-based dynamic networks",
          "dancing to the partisan beat: a first analysis of political communication on tiktok",
          "understanding the twitter usage of humanities and social sciences academic journals",
          "gcnet: graph completion network for incomplete multimodal learning in conversation",
          "wechat uptake of chinese scholarly journals: an analysis of cssci-indexed journals",
          "fake news detection tools and methods -- a review",
          "modeling epidemic spreading through public transit using time-varying encounter network",
          "#brexit: leave or remain? the role of user's community and diachronic evolution on stance detection",
          "sparsity-aware neural user behavior modeling in online interaction platforms",
          "you too brutus! trapping hateful users in social media: challenges, solutions & insights",
          "mmga: multimodal learning with graph alignment",
          "stackemo-towards enhancing user experience by augmenting stack overflow with emojis",
          "measuring diversity in heterogeneous information networks",
          "impact of indirect contacts in emerging infectious disease on social networks",
          "modeling image virality with pairwise spatial transformer networks",
          "understanding the limitations of network online learning",
          "fake news propagate differently from real news even at early stages of spreading",
          "multi-modality deep restoration of extremely compressed face videos",
          "\"way back then\": a data-driven view of 25+ years of web evolution",
          "applications of knowledge graphs for food science and industry",
          "pocketcare: tracking the flu with mobile phones using partial observations of proximity and symptoms",
          "controlling elections through social influence",
          "c19-tranet: an empirical, global index-case transmission network of sars-cov-2",
          "characterizing the 2022 russo-ukrainian conflict through the lenses of aspect-based sentiment analysis: dataset, methodology, and preliminary findings",
          "social distancing and epidemic resurgence in agent-based susceptible-infectious-recovered models",
          "on the privacy of dk-random graphs",
          "an innovation diffusion model of a local electricity network that is influenced by internal and external factors",
          "social shaping of information infrastructure: on being specific about the technology",
          "spread, then target, and advertise in waves: optimal budget allocation across advertising channels",
          "fake news detection through graph comment advanced learning",
          "portuguese man-of-war image classification with convolutional neural networks",
          "deepfirearm: learning discriminative feature representation for fine-grained firearm retrieval",
          "nlp-cuet@dravidianlangtech-eacl2021: investigating visual and textual features to identify trolls from multimodal social media memes",
          "fashionbrain project: a vision for understanding europe's fashion data universe",
          "social interaction layers in complex networks for the dynamical epidemic modeling of covid-19 in brazil",
          "epidemic oscillations induced by social network control: the discontinuous case",
          "peer-to-peer based social networks: a comprehensive survey",
          "theories for influencer identification in complex networks",
          "infectivity enhances prediction of viral cascades in twitter",
          "spatial super-spreaders and super-susceptibles in human movement networks",
          "character networks and book genre classification",
          "detecting group beliefs related to 2018's brazilian elections in tweets a combined study on modeling topics and sentiment analysis",
          "quantum advantage for differential equation analysis",
          "recurrent neural network based part-of-speech tagger for code-mixed social media text",
          "modeling partial lockdowns in multiplex networks using partition strategies",
          "what increases (social) media attention: research impact, author prominence or title attractiveness?",
          "new normal: cooperative paradigm for covid-19 timely detection and containment using internet of things and deep learning",
          "random walks with erasure: diversifying personalized recommendations on social and information networks",
          "estimating network structure from incomplete event data",
          "volume explored by a branching random walk on general graphs",
          "e2eg: end-to-end node classification using graph topology and text-based node attributes",
          "sentiment analysis and effect of covid-19 pandemic using college subreddit data",
          "controllability of social networks and the strategic use of random information",
          "fair airtime allocation for content dissemination in wifi-direct-based mobile social networks",
          "stopping explosion by penalising transmission to hubs in scale-free spatial random graphs",
          "do we really need to catch them all? a new user-guided social media crawling method",
          "an autonomous approach to measure social distances and hygienic practices during covid-19 pandemic in public open spaces",
          "quantifying urban road network vulnerability and resilience to attacks",
          "web application for collaborative semantic web information architecture",
          "on event causality detection in tweets",
          "constructive and toxic speech detection for open-domain social media comments in vietnamese",
          "long-term dynamics of fairness intervention in connection recommender systems",
          "inf-vae: a variational autoencoder framework to integrate homophily and influence in diffusion prediction",
          "discovering small target sets in social networks: a fast and effective algorithm",
          "attestnet -- an attention and subword tokenization based approach for code-switched text hate speech detection",
          "photos and tags: a method to evaluate privacy behavior",
          "continuous activity maximization in online social networks",
          "point-of-interest type prediction using text and images",
          "characterizing behavioral trends in a community driven discussion platform",
          "to what extent homophily and influencer networks explain song popularity",
          "predicting the popularity of reddit posts with ai",
          "spatial structure and information transfer in visual networks",
          "influence of namo app on twitter",
          "a graph-based modelling of epidemics: properties, simulation, and continuum limit",
          "tunizi: a tunisian arabizi sentiment analysis dataset",
          "universal dependencies parsing for colloquial singaporean english",
          "a smart security system with face recognition",
          "political propagation of social botnets: policy consequences",
          "sequential event detection using multimodal data in nonstationary environments",
          "combination of domain knowledge and deep learning for sentiment analysis of short and informal messages on social media",
          "rcelf: a residual-based approach for influence maximization problem",
          "do diffusion protocols govern cascade growth?",
          "reputation analysis of news sources in twitter: particular case of spanish presidential election in 2019",
          "online emotions during the storming of the u.s. capitol: evidence from the social media network parler",
          "\"attention\" for detecting unreliable news in the information age",
          "local edge dynamics and opinion polarization",
          "ingesting high-velocity streaming graphs from social media sources",
          "successful new-entry prediction for multi-party online conversations via latent topics and discourse modeling",
          "this just in: fake news packs a lot in title, uses simpler, repetitive content in text body, more similar to satire than real news",
          "simplicial models of social contagion",
          "gim: gpu accelerated ris-based influence maximization algorithm",
          "epidemic spreading in populations of mobile agents with adaptive behavioral response",
          "detecting gan-generated imagery using color cues",
          "the effects of diffusion of information on epidemic spread -- a multilayer approach",
          "rumor source detection under querying with untruthful answers",
          "two-pathogen model with competition on clustered networks",
          "distributional semantics approach to detect intent in twitter conversations on sexual assaults",
          "learning-based link prediction analysis for facebook100 network",
          "streaming social event detection and evolution discovery in heterogeneous information networks",
          "a study of fake news reading and annotating in social media context",
          "bd-shs: a benchmark dataset for learning to detect online bangla hate speech in different social contexts",
          "reliable and efficient long-term social media monitoring",
          "optimize_prime@dravidianlangtech-acl2022: emotion analysis in tamil",
          "a heterogeneous graphical model to understand user-level sentiments in social media",
          "do they all look the same? deciphering chinese, japanese and koreans by fine-grained deep learning",
          "automatic image filtering on social networks using deep learning and perceptual hashing during crises",
          "false news on social media: a data-driven survey",
          "are gan generated images easy to detect? a critical analysis of the state-of-the-art",
          "detecting group anomalies in tera-scale multi-aspect data via dense-subtensor mining",
          "understanding perceptions of problematic facebook use: when people experience negative life impact and a lack of control",
          "upscaling human activity data: an ecological perspective",
          "sentiment analysis of microblogging dataset on coronavirus pandemic",
          "opinion conflicts: an effective route to detect incivility in twitter",
          "importance of initial conditions in the polarization of complex networks",
          "improving cyberbully detection with user interaction",
          "a quantitative portrait of wikipedia's high-tempo collaborations during the 2020 coronavirus pandemic",
          "evaluating deep learning approaches for covid19 fake news detection",
          "i-aid: identifying actionable information from disaster-related tweets",
          "early detection of promoted campaigns on social media",
          "balancing quarantine and self-distancing measures in adaptive epidemic networks",
          "scratch as social network: topic modeling and sentiment analysis in scratch projects",
          "a multi-layer approach to disinformation detection on twitter",
          "not all interventions are equal for the height of the second peak",
          "systematically monitoring social media: the case of the german federal election 2017",
          "pole: polarized embedding for signed networks",
          "finding qs: profiling qanon supporters on parler",
          "deep learning analysis and age prediction from shoeprints",
          "the effect of co-location on human communication networks",
          "automatic ensemble learning for online influence maximization",
          "ghostlink: latent network inference for influence-aware recommendation",
          "efficient vaccination strategies for epidemic control using network information",
          "scalable influence estimation without sampling",
          "multimodal sentiment analysis to explore the structure of emotions",
          "farmer-bot: an interactive bot for farmers",
          "the geography of open source software: evidence from github",
          "conspiracy vs science: a large-scale analysis of online discussion cascades",
          "analyzing wikipedia membership dataset and predictingunconnected nodes in the signed networks",
          "#secim2023: first public dataset for studying turkish general election",
          "importance sketching of influence dynamics in billion-scale networks",
          "a location-sentiment-aware recommender system for both home-town and out-of-town users",
          "discovering topical interactions in text-based cascades using hidden markov hawkes processes",
          "context-aware attention for understanding twitter abuse",
          "bert transformer model for detecting arabic gpt2 auto-generated tweets",
          "netspam: a network-based spam detection framework for reviews in online social media",
          "habituation effect in social networks as a potential factor silently crushing influence maximisation efforts",
          "image credibility analysis with effective domain transferred deep networks",
          "weak dynamic monopolies in social graphs",
          "a customisable pipeline for continuously harvesting socially-minded twitter users",
          "citizens' emotion on gst: a spatio-temporal analysis over twitter data",
          "a framework for quantifying controversy of social network debates using attributed networks: biased random walk (brw)",
          "social media usage in kuwait: a comparison of perspectives between healthcare practitioners and patients",
          "trend alert: how a cross-platform organization manipulated twitter trends in the indian general election",
          "deep two-path semi-supervised learning for fake news detection",
          "iust at semeval-2020 task 9: sentiment analysis for code-mixed social media text using deep neural networks and linear baselines",
          "unsupervised learning of parsimonious general-purpose embeddings for user and location modelling",
          "analyzing image-based political propaganda in referendum campaigns: from elements to strategies",
          "multivariate relations aggregation learning in social networks",
          "homophily on social networks changes evolutionary advantage in competitive information diffusion",
          "belief control strategies for interactions over weakly-connected graphs",
          "preserving privacy enables \"co-existence equilibrium\" of competitive diffusion in social networks",
          "joint autoregressive and graph models for software and developer social networks",
          "attending the emotions to detect online abusive language",
          "a decentralized trust-aware collaborative filtering recommender system based on weighted items for social tagging systems",
          "multiplex influence maximization in online social networks with heterogeneous diffusion models",
          "continuous-time relationship prediction in dynamic heterogeneous information networks",
          "twittermancer: predicting interactions on twitter accurately",
          "exploring the public reaction to covid-19 news on social media in portugal",
          "a multi-opinion based method for quantifying polarization on social networks",
          "the geographic spread of covid-19 correlates with the structure of social networks as measured by facebook",
          "spatial heterogeneity can lead to substantial local variations in covid-19 timing and severity",
          "understanding and forecasting lifecycle events in information cascades",
          "search engine drives the evolution of social networks",
          "characterizing and detecting hateful users on twitter",
          "improving automatic hate speech detection with multiword expression features",
          "graph neural network enhanced language models for efficient multilingual text classification",
          "deep learning approach for intelligent named entity recognition of cyber security",
          "psycho-linguistic differences among competing vaccination communities on social media",
          "steering social activity: a stochastic optimal control point of view",
          "a k-hop collaborate game model: extended to community budgets and adaptive non-submodularity",
          "machine learning-based automatic annotation and detection of covid-19 fake news",
          "graphse\n2\n: an encrypted graph database for privacy-preserving social search",
          "controlling distant contacts to reduce disease spreading on disordered complex networks",
          "human-centered emotion recognition in animated gifs",
          "news sharing networks expose information polluters on social media",
          "dynamics of cascades on burstiness-controlled temporal networks",
          "on credit-based incentive mechanisms of voluntary user comment reviewing in social networks",
          "survey of generative methods for social media analysis",
          "multi-task domain adaptation for sequence tagging",
          "diffusion of innovation over social networks under limited-trust equilibrium",
          "improving rotated text detection with rotation region proposal networks",
          "efficient limited-time reachability estimation in temporal networks",
          "gcn-alp: addressing matching collisions in anchor link prediction",
          "multivariate spatiotemporal hawkes processes and network reconstruction",
          "optimal vaccine roll-out strategies with respect to social distancing measures for sars-cov-2 pandemic",
          "influence maximization in unknown social networks: learning policies for effective graph sampling",
          "comparing community-aware centrality measures in online social networks",
          "network model and analysis of the spread of covid-19 with social distancing",
          "sentiment analysis with r: natural language processing for semi-automated assessments of qualitative data",
          "a bayesian social platform for inclusive and evidence-based decision making",
          "a deep hybrid model for recommendation systems",
          "tweet moodifier: towards giving emotional awareness to twitter users",
          "deep fake detection: survey of facial manipulation detection solutions",
          "a graph model with indirect co-location links",
          "multiple accounts detection on facebook using semi-supervised learning on graphs",
          "characterizing spontaneous ideation contest on social media: case study on the name change of facebook to meta",
          "regulating competition in age of information under network externalities",
          "political homophily in independence movements: analysing and classifying social media users by national identity",
          "burning two worlds: algorithms for burning dense and tree-like graphs",
          "flipping the perspective in contact tracing",
          "generalized equivariance and preferential labeling for gnn node classification",
          "crisisbert: a robust transformer for crisis classification and contextual crisis embedding",
          "local topological moves determine global diffusion properties of hyperbolic higher-order networks",
          "cyberbullying detection in social networks using deep learning based models; a reproducibility study",
          "applying text mining to protest stories as voice against media censorship",
          "spectral methods for immunization of large networks",
          "social science guided feature engineering: a novel approach to signed link analysis",
          "threat from being social: vulnerability analysis of social network coupled smart grid",
          "epidemic growth and griffiths effects on an emergent network of excited atoms",
          "influencers identification in complex networks through reaction-diffusion dynamics",
          "global sentiment analysis of covid-19 tweets over time",
          "deepfake representation with multilinear regression",
          "brexit and bots: characterizing the behaviour of automated accounts on twitter during the uk election",
          "audio style transfer",
          "a random algorithm for profit maximization with multiple adoptions in online social networks",
          "using social media background to improve cold-start recommendation deep models",
          "modelling control strategies against classical swine fever: influence of traders and markets using static and temporal networks in ecuador",
          "analysing twitter semantic networks: the case of 2018 italian elections",
          "on distributed algorithms for minimum dominating set problem, from theory to application",
          "target set selection parameterized by vertex cover and more",
          "unleashing the power of hashtags in tweet analytics with distributed framework on apache storm",
          "characterising communities of twitter users who posted vaccines related tweets by information sources",
          "user identification across social networking sites using user profiles and posting patterns",
          "nash equilibrium in social media",
          "the reachability of contagion in temporal contact networks: how disease latency can exploit the rhythm of human behavior",
          "collaborative filtering with topic and social latent factors incorporating implicit feedback",
          "internet of things (iot) and cloud computing enabled disaster management",
          "harnessing the power of ego network layers for link prediction in online social networks",
          "making sense of unstructured text data",
          "necessary and sufficient budgets in information source finding with querying: adaptivity gap",
          "false: fake news automatic and lightweight solution",
          "i'll be back: examining restored accounts on twitter",
          "on the aggression diffusion modeling and minimization in online social networks",
          "transformer-based classification of premise in tweets related to covid-19",
          "smart crawling: a new approach toward focus crawling from twitter",
          "clearumor at semeval-2019 task 7: convolving elmo against rumors",
          "building a location-based set of social media users",
          "stance detection with bert embeddings for credibility analysis of information on social media",
          "stay with your community: bridges between clusters trigger expansion of covid-19",
          "graph-based modeling of online communities for fake news detection",
          "temporal graph signal decomposition",
          "trust-based dynamic linear threshold models for non-competitive and competitive influence propagation",
          "detection of violent extremists in social media",
          "an agent-based model of message propagation in the facebook electronic social network",
          "offensive language identification in low-resourced code-mixed dravidian languages using pseudo-labeling",
          "visual sentiment analysis from disaster images in social media",
          "exposing twitter users to contrarian news",
          "an integrated framework for competitive multi-channel marketing of multi-featured products",
          "stochastic epidemic networks with strategic link formation",
          "effects of social ties in knowledge diffusion: case study on plos one",
          "optimal decisions of a rational agent in the presence of biased information providers",
          "impossible by conventional means: ten years on from the darpa red balloon challenge",
          "intweetive text summarization",
          "robust and scalable entity alignment in big data",
          "h-vgrae: a hierarchical stochastic spatial-temporal embedding method for robust anomaly detection in dynamic networks",
          "long-range event-level prediction and response simulation for urban crime and global terrorism with granger networks",
          "popular topics spread faster: new dimension for influence propagation in online social networks",
          "estimating the state of epidemics spreading with graph neural networks",
          "analysis of social media data using multimodal deep learning for disaster response",
          "real-time influence maximization on dynamic social streams",
          "lexicon-constrained copying network for chinese abstractive summarization",
          "beautiful and damned. combined effect of content quality and social ties on user engagement",
          "modeling and optimization of latency in erasure-coded storage systems",
          "analysing the social spread of behaviour: integrating complex contagions into network based diffusions",
          "modeling of information diffusion on social networks with applications to wechat",
          "dynamic deep multi-modal fusion for image privacy prediction",
          "fake news detection in social media using graph neural networks and nlp techniques: a covid-19 use-case",
          "tbcov: two billion multilingual covid-19 tweets with sentiment, entity, geo, and gender labels",
          "contact activity and dynamics of the online elite",
          "co-diffusion of social contagions",
          "optimising sars-cov-2 pooled testing strategies on social networks for low-resource settings",
          "modeling and performance of uplink cache-enabled massive mimo heterogeneous networks",
          "characterizing the 2016 russian ira influence campaign",
          "ndlib: a python library to model and analyze diffusion processes over complex networks",
          "understanding service integration of online social networks: a data-driven study",
          "effective influence spreading in temporal networks with sequential seeding",
          "#isis vs #actioncountersterrorism: a computational analysis of extremist and counter-extremist twitter narratives",
          "the spatial dissemination of covid-19 and associated socio-economic consequences",
          "identifying depression on twitter",
          "tracking infection diffusion in social networks: filtering algorithms and threshold bounds",
          "end-to-end learning for short text expansion",
          "a first look at zoombombing",
          "demographic confounding causes extreme instances of lifestyle politics on facebook",
          "identify influential nodes in online social network for brand communication",
          "gundapusunil at semeval-2020 task 9: syntactic semantic lstm architecture for sentiment analysis of code-mixed data",
          "early identification of pathogenic social media accounts",
          "news labeling as early as possible: real or fake?",
          "unibuckernel: geolocating swiss german jodels using ensemble learning",
          "machine learning towards intelligent systems: applications, challenges, and opportunities",
          "centralities in complex networks",
          "an approach for time-aware domain-based social influence prediction",
          "polysemous visual-semantic embedding for cross-modal retrieval",
          "#lockdown: network-enhanced emotional profiling at the times of covid-19",
          "uncertainty estimation for community standards violation in online social networks",
          "do you do yoga? understanding twitter users' types and motivations using social and textual information",
          "covid-19 spreading under containment actions",
          "deeptrust: a deep learning approach for measuring social media users trustworthiness",
          "social groups based content caching in wireless networks",
          "learning social circles in ego networks based on multi-view social graphs",
          "cuda-self-organizing feature map based visual sentiment analysis of bank customer complaints for analytical crm",
          "touplegdd: a fine-designed solution of influence maximization by deep reinforcement learning",
          "influence of trust in the spreading of information",
          "qanon propaganda on twitter as information warfare: influencers, networks, and narratives",
          "deep exogenous and endogenous influence combination for social chatter intensity prediction",
          "exploratory analysis of covid-19 tweets using topic modeling, umap, and digraphs",
          "composite community-aware diversified influence maximization with efficient approximation",
          "joint inference on truth/rumor and their sources in social networks",
          "detecting conspiracy theory against covid-19 vaccines",
          "stand: a spatio-temporal algorithm for network diffusion simulation",
          "beyond the coverage of information spreading: analytical and empirical evidence of re-exposure in large-scale online social networks",
          "efficient continuous multi-query processing over graph streams",
          "sok: fake news outbreak 2021: can we stop the viral spread?",
          "viral content propagation in online social networks",
          "lstm based sentiment analysis for cryptocurrency prediction",
          "trust and believe -- should we? evaluating the trustworthiness of twitter users",
          "modeling how social network algorithms can influence opinion polarization",
          "model-independent online learning for influence maximization",
          "audit analysis models, security frameworks and their relevance for voip",
          "towards a human-like open-domain chatbot",
          "two-path deep semi-supervised learning for timely fake news detection",
          "movienet: a movie multilayer network model using visual and textual semantic cues",
          "dynamics of opinion polarization",
          "neural models for offensive language detection",
          "diffusion dynamics of competing information on networks",
          "multi-stage complex contagions in random multiplex networks",
          "cascade-based echo chamber detection",
          "syntactic-gcn bert based chinese event extraction",
          "information cocoons in online navigation",
          "an open-source benchmark suite for cloud and iot microservices",
          "maximizing spreading influence via measuring influence overlap for social networks",
          "a network-based citation indicator of scientific performance",
          "echoes through time: evolution of the italian covid-19 vaccination debate",
          "tweeting for the cause: network analysis of uk petition sharing",
          "bias and high-dimensional adjustment in observational studies of peer effects",
          "modeling ideological salience and framing in polarized online groups with graph neural networks and structured sparsity",
          "fake news in social networks",
          "a structural model of business card exchange networks",
          "regional economic status inference from information flow and talent mobility",
          "leveraging multi-source weak social supervision for early detection of fake news",
          "information operations in turkey: manufacturing resilience with free twitter accounts",
          "network connectivity dynamics affect the evolution of culturally transmitted variants",
          "a corpus for english-japanese multimodal neural machine translation with comparable sentences",
          "modelling formation of online temporal communities",
          "exploring the limits of weakly supervised pretraining",
          "a synchronized action framework for responsible detection of coordination on social media",
          "attributed social network embedding",
          "extracting inter-community conflicts in reddit",
          "evaluating roles of central users in online communication networks: a case study of #panamaleaks",
          "inferring propagation paths for sparsely observed perturbations on complex networks",
          "the enemy among us: detecting hate speech with threats based 'othering' language embeddings",
          "deep neural networks for bot detection",
          "rumor detection on twitter with claim-guided hierarchical graph attention networks",
          "estimating topic exposure for under-represented users on social media",
          "numeral understanding in financial tweets for fine-grained crowd-based forecasting",
          "quantifying time-dependent media agenda and public opinion by topic modeling",
          "majority opinion diffusion in social networks: an adversarial approach",
          "network segregation in a model of misinformation and fact checking",
          "a socio-geographic perspective on human activities in social media",
          "heterogeneous peer effects in the linear threshold model",
          "can co-location be used as a proxy for face-to-face contacts?",
          "salamnet at semeval-2020 task12: deep learning approach for arabic offensive language detection",
          "vaim: visual analytics for influence maximization",
          "comparison between traditional machine learning models and neural network models for vietnamese hate speech detection",
          "movingfashion: a benchmark for the video-to-shop challenge",
          "link transmission centrality in large-scale social networks",
          "a comprehensive review of visual-textual sentiment analysis from social media networks",
          "beyond adaptive submodularity: adaptive influence maximization with intermediary constraints",
          "benchmarking unsupervised near-duplicate image detection",
          "the diffusive epidemic process on barabasi-albert networks",
          "analytics of business time series using machine learning and bayesian inference",
          "semi-supervised user geolocation via graph convolutional networks",
          "on inference of network topology and confirmation bias in cyber-social networks",
          "universal masking is urgent in the covid-19 pandemic: seir and agent based models, empirical validation, policy recommendations",
          "identifying causal relations in tweets using deep learning: use case on diabetes-related tweets from 2017-2021",
          "res-cnn-bilstm network for overcoming mental health disturbances caused due to cyberbullying through social media",
          "predicting twitter user socioeconomic attributes with network and language information",
          "analyzing behavioral trends in community driven discussion platforms like reddit",
          "fake news detection using temporal features extracted via point process",
          "personalized fashion recommendation from personal social media data: an item-to-set metric learning approach",
          "how well can machine learning predict demographics of social media users?",
          "from symbols to embeddings: a tale of two representations in computational social science",
          "subjective metrics-based cloud market performance prediction",
          "spatiotemporal cnns for pornography detection in videos",
          "time-bounded influence diffusion with incentives",
          "inferring multiplex diffusion network via multivariate marked hawkes process",
          "first-passage times to quantify and compare structural correlations and heterogeneity in complex systems",
          "learning emoji embeddings using emoji co-occurrence network graph",
          "on some tractable and hard instances for partial incentives and target set selection",
          "variable-sized input, character-level recurrent neural networks in lead generation: predicting close rates from raw user inputs",
          "mining tourism experience on twitter: a case study",
          "reading in-between the lines: an analysis of dissenter",
          "leveraging social communities for optimizing cellular device-to-device communications",
          "generating a heterosexual bipartite network embedded in social network",
          "universal growth of social groups: empirical analysis and modeling",
          "semi-supervised recurrent neural network for adverse drug reaction mention extraction",
          "towards understanding political interactions on instagram",
          "an effort to measure customer relationship performance in indonesia's fintech industry",
          "recovery: a multimodal repository for covid-19 news credibility research",
          "the unfolding structure of arguments in online debates: the case of a no-deal brexit",
          "rethinking the generational gap in online news use: an infrastructural perspective",
          "what's kooking? characterizing india's emerging social network, koo",
          "polarization of climate politics results from partisan sorting: evidence from finnish twittersphere",
          "vehicular networks for combating a worldwide pandemic: preventing the spread of covid-19",
          "learning spatiotemporal-aware representation for poi recommendation",
          "improved topic modeling in twitter through community pooling",
          "time-constrained adaptive influence maximization",
          "network inference and influence maximization from samples",
          "scalable adversarial attack algorithms on influence maximization",
          "the effect of algorithmic bias and network structure on coexistence, consensus, and polarization of opinions",
          "sentiment analysis of political tweets for israel using machine learning",
          "modeling spread of preferences in social networks for sampling-based preference aggregation",
          "on the predictability of infectious disease outbreaks",
          "human activity and mobility data reveal disparities in exposure risk reduction indicators among socially vulnerable populations during covid-19",
          "statistical physics of complex information dynamics",
          "rosgas: adaptive social bot detection with reinforced self-supervised gnn architecture search",
          "detecting ideal instagram influencer using social network analysis",
          "outward influence and cascade size estimation in billion-scale networks",
          "interplay between exogenous triggers and endogenous behavioral changes in contagion processes on social networks",
          "from agent-based models to the macroscopic description of fake-news spread: the role of competence in data-driven applications",
          "maximizing the diversity of exposure in a social network",
          "predicting user emotional tone in mental disorder online communities",
          "more than meets the tie: examining the role of interpersonal relationships in social networks",
          "an adaptable and agnostic flow scheduling approach for data center networks",
          "algorithms for online influencer marketing",
          "monitoring covid-19 social distancing with person detection and tracking via fine-tuned yolo v3 and deepsort techniques",
          "a model of spreading of sudden events on social networks",
          "bot-match: social bot detection with recursive nearest neighbors search",
          "topicbert: a transformer transfer learning based memory-graph approach for multimodal streaming social media topic detection",
          "uld@nuig at semeval-2020 task 9: generative morphemes with an attention model for sentiment analysis in code-mixed text",
          "corporate core values and social responsibility: what really matters to whom",
          "classification benchmarks for under-resourced bengali language based on multichannel convolutional-lstm network",
          "rumor detection with self-supervised learning on texts and social graph",
          "investigating and modeling the dynamics of long ties",
          "graph structure based heuristics for optimal targeting in social networks",
          "self-attentive hawkes processes",
          "stationarity of the inter-event power-law distributions",
          "deep learning via lstm models for covid-19 infection forecasting in india",
          "the covid-19 pandemic on the turkish twittersphere",
          "a comparative analysis of social network pages by interests of their followers",
          "rumor detection on social media with bi-directional graph convolutional networks",
          "rp-dnn: a tweet level propagation context based deep neural networks for early rumor detection in social media",
          "barriers and opportunities to accessible social media content authoring",
          "identifying unsafe videos on online public media using real-time crowdsourcing",
          "detecting and modelling real percolation and phase transitions of information on social media",
          "analysis of home location estimation with iteration on twitter following relationship",
          "camta: causal attention model for multi-touch attribution",
          "measuring and characterizing hate speech on news websites",
          "privacy-aware recommender systems challenge on twitter's home timeline",
          "gundapusunil at semeval-2020 task 8: multimodal memotion analysis",
          "garain at semeval-2020 task 12: sequence based deep learning for categorizing offensive language in social media",
          "understanding information spreading in social media during hurricane sandy: user activity and network properties",
          "geosocial location classification: associating type to places based on geotagged social-media posts",
          "distributed data processing frameworks for big graph data",
          "hate speech detection on vietnamese social media text using the bi-gru-lstm-cnn model",
          "modeling the effect of observational social learning on parental decision-making for childhood vaccination and diseases spread over household networks",
          "context-dependent self-exciting point processes: models, methods, and risk bounds in high dimensions",
          "hate begets hate: a temporal study of hate speech",
          "modelling and predicting the effect of social distancing and travel restrictions on covid-19 spreading",
          "zooming into video conferencing privacy and security threats",
          "deriving emotions and sentiments from visual content: a disaster analysis use case",
          "optimized caching and spectrum partitioning for d2d enabled cellular systems with clustered devices",
          "a bi-level assessment of twitter in predicting the results of an election: delhi assembly elections 2020",
          "uncovering the structure of the french media ecosystem",
          "bandit algorithms for real-time data capture on large social medias",
          "mathematical models of radicalization and terrorism",
          "are we all in a truman show? spotting instagram crowdturfing through self-training",
          "influential user subscription on time-decaying social streams",
          "news article teaser tweets and how to generate them",
          "social network structure and the spread of complex contagions from a population genetics perspective",
          "we don't speak the same language: interpreting polarization through machine translation",
          "bangla hate speech detection on social media using attention-based recurrent neural network",
          "communication and personality profiles of global software developers",
          "sub-linear memory sketches for near neighbor search on streaming data",
          "higher contagion and weaker ties mean anger spreads faster than joy in social media",
          "estimating the expected influence capacities of nodes in complex networks under the susceptible-infectious-recovered (sir) model",
          "opom: customized invisible cloak towards face privacy protection",
          "detecting bots and assessing their impact in social networks",
          "bridging separate communities with common interest in distributed social networks through the use of social objects",
          "cnn-based fast source device identification",
          "federated hierarchical hybrid networks for clickbait detection",
          "towards face encryption by generating adversarial identity masks",
          "relative, local and global dimension in complex networks",
          "keyphrase extraction from disaster-related tweets",
          "modeling echo chambers and polarization dynamics in social networks",
          "social network aided plagiarism detection: social network aided plagiarism detection",
          "automatic personality prediction; an enhanced method using ensemble modeling",
          "the anatomy of a population-scale social network",
          "camera fingerprint: a new perspective for identifying user's identity",
          "analysis of infectious-recovery epidemic models for membership dynamics of online social networks",
          "community detection in social network using temporal data",
          "a hybrid persian sentiment analysis framework: integrating dependency grammar based rules and deep neural networks",
          "exploring the effect of streamed social media data variations on social network analysis",
          "domain adaptation on graphs by learning aligned graph bases",
          "sentihood: targeted aspect based sentiment analysis dataset for urban neighbourhoods",
          "online learning and optimization under a new linear-threshold model with negative influence",
          "aracovid19-mfh: arabic covid-19 multi-label fake news and hate speech detection dataset",
          "contagion dynamics on adaptive multiplex networks with awareness-dependent rewiring",
          "a survey on multimodal disinformation detection",
          "on technical trading and social media indicators in cryptocurrencies' price classification through deep learning",
          "contagion in simplicial complexes",
          "community detection in political twitter networks using nonnegative matrix factorization methods",
          "pichunt: social media image retrieval for improved law enforcement",
          "whose advantage? measuring attention dynamics across youtube and twitter on controversial topics",
          "don't be greedy: leveraging community structure to find high quality seed sets for influence maximization",
          "touchdown on the cloud: the impact of the super bowl on cloud",
          "excavating \"excavating ai\": the elephant in the gallery",
          "a new (aleph) stochastic quenched disorder model for interaction of network- master node",
          "navigating the kaleidoscope of covid-19 misinformation using deep learning",
          "kibs innovative entrepreneurship networks on social media",
          "universal transformer hawkes process with adaptive recursive iteration",
          "discovering influencers in opinion formation over social graphs",
          "you, the web and your device: longitudinal characterization of browsing habits",
          "cft: a cluster-based file transfer scheme for highway",
          "dxram's fault-tolerance mechanisms meet high speed i/o devices",
          "demarcating endogenous and exogenous opinion dynamics: an experimental design approach",
          "application of liquid rank reputation system for content recommendation",
          "detecting offensive language in tweets using deep learning",
          "stateless computation",
          "on the behaviour of deviant communities in online social networks",
          "opinion modeling on social media and marketing aspects",
          "relevance of temporal cores for epidemic spread in temporal networks",
          "multi-perspective relevance matching with hierarchical convnets for social media search",
          "honvis: visualizing and exploring higher-order networks",
          "artificial intelligence for low-resource communities: influence maximization in an uncertain world",
          "game-on: graph attention network based multimodal fusion for fake news detection",
          "structured networks and coarse-grained descriptions: a dynamical perspective",
          "crawling political communities in twitter and extracting political affiliations",
          "networks and identity drive geographic properties of the diffusion of linguistic innovation",
          "arabic language sentiment analysis on health services",
          "social media as an instant source of feedback on water quality",
          "controlled language and baby turing test for general conversational intelligence",
          "bounded rationality in scholarly knowledge discovery",
          "neighborhood random walk graph sampling for regularized bayesian graph convolutional neural networks",
          "privacy-preserving online content moderation: a federated learning use case",
          "reentrant phase transitions in threshold driven contagion on multiplex networks",
          "lfw-beautified: a dataset of face images with beautification and augmented reality filters",
          "causally-guided regularization of graph attention improves generalizability",
          "youtube recommendations and effects on sharing across online social platforms",
          "understanding filter bubbles and polarization in social networks",
          "cybersecurity discussions in stack overflow: a developer-centred analysis of engagement and self-disclosure behaviour",
          "paper2repo: github repository recommendation for academic papers",
          "image aesthetics prediction using multiple patches preserving the original aspect ratio of contents",
          "hierarchical invasion of cooperation in complex networks",
          "social clustering in epidemic spread on coevolving networks",
          "conspiracy in the time of corona: automatic detection of covid-19 conspiracy theories in social media and the news",
          "f-score driven max margin neural network for named entity recognition in chinese social media",
          "continuous graph neural networks",
          "gcan: graph-aware co-attention networks for explainable fake news detection on social media",
          "information content of coevolutionary game landscapes",
          "misinformation mitigation under differential propagation rates and temporal penalties",
          "del-hate: a deep learning tunable ensemble for hate speech detection",
          "emotion analysis using multi-layered networks for graphical representation of tweets",
          "going extreme: comparative analysis of hate speech in parler and gab",
          "extracting real social interactions from social media: a debate of covid-19 policies in mexico",
          "generating fact checking explanations",
          "intertwined viral marketing through online social networks",
          "modeling reflexivity of social systems in disease spread",
          "interlayer link prediction in multiplex social networks: an iterative degree penalty algorithm",
          "social contagion and associative diffusion in multilayer network",
          "to simulate the spread of infectious diseases by the random matrix",
          "social network community detection based on textual content similarity and sentimental tendency",
          "hate speech in pixels: detection of offensive memes towards automatic moderation",
          "mapping and discrimination of networks in the complexity-entropy plane",
          "what is the people posting about symptoms related to coronavirus in bogota, colombia?",
          "discourse analysis of covid-19 in persian twitter social networks using graph mining and natural language processing",
          "macross: urban dynamics modeling based on metapath guided cross-modal embedding",
          "investigating italian disinformation spreading on twitter in the context of 2019 european elections",
          "a general method to find highly coordinating communities in social media through inferred interaction links",
          "on optimal two-sided pricing of congested networks",
          "studying confirmation bias in hashtag usage on twitter",
          "civil rephrases of toxic texts with self-supervised transformers",
          "personalitygate: a general plug-and-play gnn gate to enhance cascade prediction with personality recognition task",
          "evaluation of vaccination strategies for sir epidemics on random networks incorporating household structure",
          "energy-efficient wireless content delivery with proactive caching",
          "sockpuppet detection: a telegram case study",
          "disentangling sources of influence in online social networks",
          "image privacy prediction using deep neural networks",
          "exploring the effectiveness of a covid-19 contact tracing app using an agent-based model",
          "seed selection and social coupon allocation for redemption maximization in online social networks",
          "complex contagion features without social reinforcement in a model of social information flow",
          "polarization, partisanship and junk news consumption over social media in the us",
          "identifying influential nodes using overlapping modularity vitality",
          "sentiment analysis for roman urdu text over social media, a comparative study",
          "joint inference of user community and interest patterns in social interaction networks",
          "click-through rate prediction using graph neural networks and online learning",
          "labeled data generation with inexact supervision",
          "leveraging conversation structure on social media to identify potentially influential users",
          "fondue: a framework for node disambiguation using network embeddings",
          "contextualizing online conversational networks",
          "snapmode: an intelligent and distributed large-scale fashion image retrieval platform based on big data and deep generative adversarial network technologies",
          "st-former for short-term passenger flow prediction during covid-19 in urban rail transit system",
          "detecting pathogenic social media accounts without content or network structure",
          "protest activity detection and perceived violence estimation from social media images",
          "when machine learning meets big data: a wireless communication perspective",
          "epidemic spreading on time-varying multiplex networks",
          "studying fake news via network analysis: detection and mitigation",
          "botnet campaign detection on twitter",
          "the effects of data quality on the analysis of corporate board interlock networks",
          "characterizing the country-wide adoption and evolution of the jodel messaging app in saudi arabia",
          "a large-scale dataset for hate speech detection on vietnamese social media texts",
          "enwalk: learning network features for spam detection in twitter",
          "bitsa_nlp@lt-edi-acl2022: leveraging pretrained language models for detecting homophobia and transphobia in social media comments",
          "higher order monotonicity and submodularity of influence in social networks: from local to global",
          "simplified algorithms for order-based core maintenance",
          "knowledge enhanced multi-modal fake news detection",
          "redrawing the 'color line': examining racial segregation in associative networks on twitter",
          "sentiment classification of customer reviews about automobiles in roman urdu",
          "towards trusted social networks with blockchain technology",
          "pers: a personalized and explainable poi recommender system",
          "dynamical evolution of anti-social phenomena: a data science approach",
          "weakly-supervised multi-face 3d reconstruction",
          "maximizing coverage centrality via network design: extended version",
          "unraveling the effects of multiscale network entanglement on disintegration of empirical systems",
          "complete submodularity characterization in the comparative independent cascade model",
          "sybil-proof diffusion auction in social networks",
          "friend-based ranking",
          "lexicon generation for detecting fake news",
          "meta-inductive node classification across graphs",
          "ai-based bmi inference from facial images: an application to weight monitoring",
          "ego network structure in online social networks and its impact on information diffusion",
          "on the dual nature of adoption processes in complex networks",
          "phase transitions and control measures for network epidemics caused by infections with presymptomatic, asymptomatic,and symptomatic stages",
          "where do deep fakes look? synthetic face detection via gaze tracking",
          "graph-hist: graph classification from latent feature histograms with application to bot detection",
          "how polarized have we become? a multimodal classification of trump followers and clinton followers",
          "reconnecting the estranged relationships: optimizing the influence propagation in evolving networks",
          "tracking the diffusion of named entities",
          "accenture at checkthat! 2021: interesting claim identification and ranking with contextually sensitive lexical training data augmentation",
          "a method to evaluate the reliability of social media data for social network analysis",
          "multi-party campaigning",
          "detecting anti-vaccine users on twitter",
          "analyzing user activities using vector space model in online social networks",
          "a network-centric framework for auditing recommendation systems",
          "time is what prevents everything from happening at once: propagation time-conscious influence maximization",
          "understanding user topic preferences across multiple social networks",
          "seeing the forest for the trees? an investigation of network knowledge",
          "great new design: how do we talk about media architecture in social media",
          "virus spread versus contact tracing: two competing contagion processes",
          "exploring the role of intrinsic nodal activation on the spread of influence in complex networks",
          "inferring political preferences from twitter",
          "prophylaxis of epidemic spreading with transient dynamics",
          "understanding the attitudes, knowledge sharing behaviors and task performance of core developers: a longitudinal study",
          "cisco at semeval-2021 task 5: what's toxic?: leveraging transformers for multiple toxic span extraction from online comments",
          "fair treatment allocations in social networks",
          "representation learning of reconstructed graphs using random walk graph convolutional network",
          "a hybrid model for identity obfuscation by face replacement",
          "spread of infectious disease and social awareness as parasitic contagions on clustered networks",
          "vulnerability of d2d communications from interconnected social networks",
          "prediction of facebook post metrics using machine learning",
          "learning latent local conversation modes for predicting community endorsement in online discussions",
          "igniter: news recommendation in microblogging applications (extended version)",
          "building and using personal knowledge graph to improve suicidal ideation detection on social media",
          "#phramacovigilance - exploring deep learning techniques for identifying mentions of medication intake from twitter",
          "intelligent social bots uncover the link between user preference and diversity of news consumption",
          "land use identification through social network interaction",
          "informing users: effects of notification properties and user characteristics on sharing attitudes",
          "detecting fake news with capsule neural networks",
          "extracting textual overlays from social media videos using neural networks",
          "attitudes toward open access, open peer review, and altmetrics among contributors to spanish scholarly journals",
          "modeling noisiness to recognize named entities using multitask neural networks on social media",
          "phase transitions and stability of dynamical processes on hypergraphs",
          "identifying student communities in blended courses",
          "breaking the communities: characterizing community changing users using text mining and graph machine learning on twitter",
          "cognitive networks identify the content of english and italian popular posts about covid-19 vaccines: anticipation, logistics, conspiracy and loss of trust",
          "cats and captions vs. creators and the clock: comparing multimodal content to context in predicting relative popularity",
          "scalable lattice influence maximization",
          "steal your life using 5 cents: hacking android smartphones with nfc tags",
          "lights and shadows of covid-19, technology and industry 4.0",
          "it is rotating leaders who build the swarm: social network determinants of growth for healthcare virtual communities of practice",
          "etma: efficient transformer based multilevel attention framework for multimodal fake news detection",
          "contagion dynamics of extremist propaganda in social networks",
          "a survey on natural language processing for fake news detection",
          "dynamic time warping distance for message propagation classification in twitter",
          "catch me if you can: deceiving stance detection and geotagging models to protect privacy of individuals on twitter",
          "developing a trusted human-ai network for humanitarian benefit",
          "under the conditions of non-agenda ownership: social media users in the 2019 ukrainian presidential elections campaign",
          "what is the mission of innovation?",
          "cobwebs from the past and present: extracting large social networks using internet archive data",
          "socialbots supporting human rights",
          "bootstrapped graph diffusions: exposing the power of nonlinearity",
          "clickbait detection using word embeddings",
          "fine-grained event categorization with heterogeneous graph convolutional networks",
          "tales of a city: sentiment analysis of urban green space in dublin",
          "transformer based automatic covid-19 fake news detection system",
          "universality of the sis prevalence in networks",
          "gmfim: a generative mask-guided facial image manipulation model for privacy preservation",
          "social networks are divulging your identity behind crypto addresses",
          "personal vs. know-how contacts: which matter more in wiki elections?",
          "estimation of a low-rank topic-based model for information cascades",
          "a viral timeline branching process to study a social network",
          "df-captcha: a deepfake captcha for preventing fake calls",
          "super-resolving compressed images via parallel and series integration of artifact reduction and resolution enhancement",
          "buildup of speaking skills in an online learning community: a network-analytic exploration",
          "user satisfaction-driven bandwidth allocation for image transmission in a crowded environment",
          "research status of deep learning methods for rumor detection",
          "identifying possible rumor spreaders on twitter: a weak supervised learning approach",
          "the effect of computer-generated descriptions on photo-sharing experiences of people with visual impairments",
          "discovering strategic behaviors for collaborative content-production in social networks",
          "on the effect of selfie beautification filters on face detection and recognition",
          "predicting engagement in online social networks: challenges and opportunities",
          "visual and textual sentiment analysis using deep fusion convolutional neural networks",
          "multi-modal fusion using fine-tuned self-attention and transfer learning for veracity analysis of web information",
          "active unidirectional network flow generates a packet molecular transport in cells",
          "integral privacy for sampling",
          "finding early adopters of innovation in social network",
          "kinetic modelling of epidemic dynamics: social contacts, control with uncertain data, and multiscale spatial dynamics",
          "modeling conversation structure and temporal dynamics for jointly predicting rumor stance and veracity",
          "multi-channel attentive graph convolutional network with sentiment fusion for multimodal sentiment analysis",
          "multi-task dialog act and sentiment recognition on mastodon",
          "a weakly-supervised iterative graph-based approach to retrieve covid-19 misinformation topics",
          "tib's visual analytics group at mediaeval '20: detecting fake news on corona virus and 5g conspiracy",
          "depolarization of echo chambers by random dynamical nudge",
          "automatic detection of influential actors in disinformation networks",
          "modeling influencer marketing campaigns in social networks",
          "hbmax: optimizing memory efficiency for parallel influence maximization on multicore architectures",
          "a viral load-based model for epidemic spread on spatial networks",
          "attacking strategies and temporal analysis involving facebook discussion groups",
          "dydiff-vae: a dynamic variational framework for information diffusion prediction",
          "who framed roger reindeer? de-censorship of facebook posts by snippet classification",
          "how to maximize the spread of social influence: a survey",
          "ti-capsule: capsule network for stock exchange prediction",
          "forecasting people's needs in hurricane events from social network",
          "a deep multi-level attentive network for multimodal sentiment analysis",
          "identitydp: differential private identification protection for face images",
          "partial information sharing over social learning networks",
          "bi-layer voter model: modeling intolerant/tolerant positions and bots in opinion dynamics",
          "automatic discovery of political meme genres with diverse appearances",
          "interpretable stochastic block influence model: measuring social influence among homophilous communities",
          "5pen technology: a new dawn in homogeneous and heterogeneous computing",
          "optimal pricing for peer-to-peer sharing with network externalities",
          "influence maximization under generic threshold-based non-submodular model",
          "positioning services of a travel agency in social networks",
          "dynamics of tax evasion through an epidemic-like model",
          "a trust model for spreading gossip in social networks",
          "a framework for unsupervised classificiation and data mining of tweets about cyber vulnerabilities",
          "not good times for lies: misinformation detection on the russia-ukraine war, covid-19, and refugees",
          "the manufacture of partisan echo chambers by follow train abuse on twitter",
          "mass testing and proactiveness affect epidemic spreading",
          "literature survey on interplay of topics, information diffusion and connections on social networks",
          "a survey on modelling of infectious disease spread and control on social contact networks",
          "evangelism in social networks: algorithms and complexity",
          "learning through the grapevine: the impact of noise and the breadth and depth of social networks",
          "design of imacros-based data crawler and the behavioral analysis of facebook users",
          "a survey on location-driven influence maximization",
          "deep agent: studying the dynamics of information spread and evolution in social networks",
          "discovering signals from web sources to predict cyber attacks",
          "visual themes and sentiment on social networks to aid first responders during crisis events",
          "opinion formation on social networks with algorithmic bias: dynamics and bias imbalance",
          "multi-winner contests for strategic diffusion in social networks",
          "the scaling of social interactions across animal species",
          "graph capsule convolutional neural networks",
          "online caching with no regret: optimistic learning via recommendations",
          "coordination problems on networks revisited: statics and dynamics",
          "incentivized blockchain-based social media platforms: a case study of steemit",
          "majority-vote model with limited visibility: an investigation into filter bubbles",
          "homogeneity-based transmissive process to model true and false news in social networks",
          "time-varying networks approach to social dynamics: from individual to collective behavior",
          "influence maximization in social networks using discretized harris hawks optimization algorithm and neighbour scout strategy",
          "recommending links through influence maximization",
          "step out of your comfort zone: more inclusive content recommendation for networked systems",
          "spread of hate speech in online social media",
          "behaviour in social media for floods and heat waves in disaster response via artificial intelligence",
          "the advantages of interdisciplinarity in modern science",
          "addressing the challenges of cross-lingual hate speech detection",
          "data-driven contact structures: from homogeneous mixing to multilayer networks",
          "a noisy opinion formation model with two opposing mass media",
          "structural temporal graph neural networks for anomaly detection in dynamic graphs",
          "a large-scale comparison of social media coverage and mentions captured by the two altmetric aggregators- altmetric.com and plumx",
          "osn dashboard tool for sentiment analysis",
          "e-health management services in supporting empowerment",
          "using almetrics for contextualised mapping of societal impact: from hits to networks",
          "exploring mental health communications among instagram coaches",
          "sentiment analysis for arabic in social media network: a systematic mapping study",
          "cyberbullying detection using deep neural network from social media comments in bangla language",
          "reintel: a multimodal data challenge for responsible information identification on social network sites",
          "lgbtq privacy concerns on social media",
          "right-wing german hate speech on twitter: analysis and automatic detection",
          "influence of repetition through limited recall",
          "weakest-link control of invasive species: impacts of memory, bounded rationality and network structure in repeated cooperative games",
          "knowledge network and a knowledge network example",
          "deep neural models for medical concept normalization in user-generated texts",
          "the impact of incorrect social information on collective wisdom in human groups",
          "dominant set-based active learning for text classification and its application to online social media",
          "influence maximization in real-world closed social networks",
          "mitigating misinformation spread on blockchain enabled social media networks",
          "manipulating the online marketplace of ideas",
          "cyclostationary statistical models and algorithms for anomaly detection using multi-modal data",
          "does the first mover advantage exist on github?",
          "election control through social influence with unknown preferences",
          "specae: spectral autoencoder for anomaly detection in attributed networks",
          "vesonet: traffic-aware content caching for vehicular social networks based on path planning and deep reinforcement learning",
          "prisoner's dilemma on real social networks: revisited",
          "rumor stance classification in online social networks: the state-of-the-art, prospects, and future challenges",
          "dl based analysis of movie reviews",
          "developing successful shared tasks on offensive language identification for dravidian languages",
          "mcd: a modified community diversity approach for detecting influential nodes in social networks",
          "classifying vaccine sentiment tweets by modelling domain-specific representation and commonsense knowledge into context-aware attentive gru",
          "collective classification of spam campaigners on twitter: a hierarchical meta-path based approach",
          "social influence and radicalization: a social data analytics study",
          "seeds buffering for information spreading processes",
          "exploratory analysis of a social media network in sri lanka during the covid-19 virus outbreak",
          "heterogeneous graph attention networks for early detection of rumors on twitter",
          "measuring #gamergate: a tale of hate, sexism, and bullying",
          "covid-19 should be suppressed by mixed constraints -- from simulations on constrained scale-free networks",
          "mining user/movie preferred features based on reviews for video recommendation system",
          "the effect of pokémon go on the pulse of the city: a natural experiment",
          "inference of users demographic attributes based on homophily in communication networks",
          "end-to-end trainable non-collaborative dialog system",
          "a web infrastructure for certifying multimedia news content for fake news defense",
          "deep inference of personality traits by integrating image and word use in social networks",
          "unifying markov chain approach for disease and rumor spreading in complex networks",
          "modelling surveys effects in political competitions",
          "boosting parallel influence-maximization kernels for undirected networks with fusing and vectorization",
          "mining top-k sequential patterns in database graphs:a new challenging problem and a sampling-based approach",
          "community detection for access-control decisions: analysing the role of homophily and information diffusion in online social networks",
          "memory-induced mechanism for self-sustaining activity in networks",
          "survey about protection motivation on social networking sites: university of maribor students, 2018",
          "a new distribution for multiplicities in leptonic and hadronic collisions at high energies",
          "popularity prediction for social media over arbitrary time horizons",
          "effective multi-query expansions: collaborative deep networks for robust landmark retrieval",
          "dancinglines: an analytical scheme to depict cross-platform event popularity",
          "semi-supervised confidence network aided gated attention based recurrent neural network for clickbait detection",
          "greener: graph neural networks for news media profiling",
          "more or less? predict the social influence of malicious urls on social media",
          "maximizing influence-based group shapley centrality",
          "finding low-tension communities",
          "combined centrality measures for an improved characterization of influence spread in social networks",
          "modeling social media contagion using hawkes processes",
          "revenue sharing in the internet: a moral hazard approach and a net-neutrality perspective",
          "a multi-input multi-output transformer-based hybrid neural network for multi-class privacy disclosure detection",
          "an analysis of privacy-aware personalization signals by using online evaluation methods",
          "an enhanced geo location technique for social network communication system",
          "a network topology approach to bot classification",
          "joint inference of structure and diffusion in partially observed social networks",
          "attack tolerance of link prediction algorithms: how to hide your relations in a social network",
          "fake news early detection: an interdisciplinary study",
          "strategizing covid-19 lockdowns using mobility patterns",
          "the impact of information dissemination on vaccination in multiplex networks",
          "digital forensics for iot and wsns",
          "automatic detection of passable roads after floods in remote sensed and social media data",
          "flood severity mapping from volunteered geographic information by interpreting water level from images containing people: a case study of hurricane harvey",
          "deep collaborative embedding for information cascade prediction",
          "hiding individuals and communities in a social network",
          "there is something beyond the twitter network",
          "catbert: context-aware tiny bert for detecting social engineering emails",
          "evolution of diversity and dominance of companies in online activity",
          "exploring the social influence of kaggle virtual community on the m5 competition",
          "combating fake news by empowering fact-checked news spread via topology-based interventions",
          "online influence maximization under linear threshold model",
          "tracking e-cigarette warning label compliance on instagram with deep learning",
          "a multi-feature diffusion model: rumor blocking in social networks",
          "modeling caricature expressions by 3d blendshape and dynamic texture",
          "fair and representative subset selection from data streams",
          "interplay between topology and social learning over weak graphs",
          "the potential of social media analytics for improving social media communication of emergency agencies",
          "selfish caching games on directed graphs",
          "what are your pronouns? examining gender pronoun usage on twitter",
          "targeted influence with community and gender-aware seeding",
          "improved twitter sentiment analysis using naive bayes and custom language model",
          "exploring hyper-parameter optimization for neural machine translation on gpu architectures",
          "social bubbles and superspreaders: source identification for contagion processes on hypertrees",
          "burning geometric graphs",
          "long ties accelerate noisy threshold-based contagions",
          "logically at factify 2022: multimodal fact verification",
          "sentiment analysis of covid-19 tweets using evolutionary classification-based lstm model",
          "flux of information in scale-free networks",
          "aging in binary-state models: the threshold model for complex contagion",
          "sentiment analysis for arabic language: a brief survey of approaches and techniques",
          "identifying the global terror hubs and vulnerable motifs using complex network dynamics",
          "redirect2own: protecting the intellectual property of user-uploaded content through off-site indirect access",
          "influence maximization under limited network information: seeding high-degree neighbors",
          "bring a friend! privately or publicly?",
          "emergence of polarization in a voter model with personalized information",
          "deep sentiment classification and topic discovery on novel coronavirus or covid-19 online discussions: nlp using lstm recurrent neural network approach",
          "detecting the impact of public transit on the transmission of epidemics",
          "constructing interval variables via faceted rasch measurement and multitask deep learning: a hate speech application",
          "twitter sentiment analysis via bi-sense emoji embedding and attention-based lstm",
          "robustness and stability of enterprise intranet social networks: the impact of moderators",
          "the network structure of unequal diffusion",
          "an exploration of geo-temporal characteristics of users' reactions on social media during the pandemic",
          "hate speech detection: a solved problem? the challenging case of long tail on twitter",
          "explain and conquer: personalised text-based reviews to achieve transparency",
          "scheduling oltp transactions via machine learning",
          "toward early and order-of-magnitude cascade prediction in social networks",
          "on attribution of deepfakes",
          "diffusion multi-unit auctions with diminishing marginal utility buyers",
          "modelling strong control measures for epidemic propagation with networks -- a covid-19 case study",
          "real-time virtual-try-on from a single example image through deep inverse graphics and learned differentiable renderers",
          "nlp-cuet@lt-edi-eacl2021: multilingual code-mixed hope speech detection using cross-lingual representation learner",
          "campus traffic and e-learning during covid-19 pandemic",
          "writing about covid-19 vaccines: emotional profiling unravels how mainstream and alternative press framed astrazeneca, pfizer and vaccination campaigns",
          "the impact of disinformation on a controversial debate on social media",
          "mechanisms and attributes of echo chambers in social media",
          "hate speech detection on vietnamese social media text using the bidirectional-lstm model",
          "a convolutional lstm based residual network for deepfake video detection",
          "ensemble network for ranking images based on visual appeal",
          "the physics of governance networks: critical transitions in contagion dynamics on multilayer adaptive networks with application to the sustainable use of renewable resources",
          "finding influentials in twitter: a temporal influence ranking model",
          "stylistic variation in social media part-of-speech tagging",
          "visual analytics for temporal hypergraph model exploration",
          "checked: chinese covid-19 fake news dataset",
          "suppressing epidemic spreading in multiplex networks with social-support",
          "social network fusion and mining: a survey",
          "discovering polarized communities in signed networks",
          "from mean-field to complex topologies: network effects on the algorithmic bias model",
          "balancing spreads of influence in a social network",
          "cyberbullying identification using participant-vocabulary consistency",
          "a multi-transformation evolutionary framework for influence maximization in social networks",
          "a method to discover digital collaborative conversations in business collaborations",
          "social- and mobility-aware device-to-device content delivery",
          "cks: a community-based k-shell decomposition approach using community bridge nodes for influence maximization",
          "causal inference for early detection of pathogenic social media accounts",
          "natural scales in geographical patterns",
          "misleading metadata detection on youtube",
          "discourse-aware rumour stance classification in social media using sequential classifiers",
          "graph-based joint pandemic concern and relation extraction on twitter",
          "hierarchical team structure and multidimensional localization (or siloing) on networks",
          "transfer learning for risk classification of social media posts: model evaluation study",
          "complaint identification in social media with transformer networks",
          "humans of simulated new york (hosny): an exploratory comprehensive model of city life",
          "improving rating and relevance with point-of-interest recommender system",
          "no echo in the chambers of political interactions on reddit",
          "network structure and patterns of information diversity on twitter",
          "convolutional neural networks for sentiment analysis in persian social media",
          "rapid classification of crisis-related data on social networks using convolutional neural networks",
          "using graph theory and social media data to assess cultural ecosystem services in coastal areas: method development and application",
          "measuring global multi-scale place connectivity using geotagged social media data",
          "lambda learner: fast incremental learning on data streams",
          "adaptation des r{é}seaux sociaux d'entreprise pour favoriser l'apprentissage informel sur le lieu de travail",
          "lowest degree decomposition of complex networks",
          "which friends are more popular than you? contact strength and the friendship paradox in social networks",
          "ensemble deep learning on time-series representation of tweets for rumor detection in social media",
          "evaluating and improving social awareness of energy communities through semantic network analysis of online news",
          "analysis of the influence of political polarization in the vaccination stance: the brazilian covid-19 scenario",
          "catching up with trends: the changing landscape of political discussions on twitter in 2014 and 2019",
          "character-level hypernetworks for hate speech detection",
          "detecting influence campaigns in social networks using the ising model",
          "activating the \"breakfast club\": modeling influence spread in natural-world social networks",
          "semi-automatic generation of multilingual datasets for stance detection in twitter",
          "multimodal learning for hateful memes detection",
          "capturing social media expressions during the covid-19 pandemic in argentina and forecasting mental health and emotions",
          "competing control scenarios in probabilistic sir epidemics on social-contact networks",
          "synergistic interactions promote behavior spreading and alter phase transition on multiplex networks",
          "decomposing the fundamentals of creepy stories",
          "data analysis in social networks for agribusiness -- a systematic mapping study",
          "heterogeneous face attribute estimation: a deep multi-task learning approach",
          "heterogeneous contact networks in covid-19 spreading: the role of social deprivation",
          "discovering opioid use patterns from social media for relapse prevention",
          "aracovid19-ssd: arabic covid-19 sentiment and sarcasm detection dataset",
          "solvable epidemic model on degree-correlated networks",
          "optimize_prime@dravidianlangtech-acl2022: abusive comment detection in tamil",
          "named entity recognition on twitter for turkish using semi-supervised learning with word embeddings",
          "ethical user interfaces: exploring the effects of dark patterns on facebook",
          "traffic generation for benchmarking data centre networks",
          "playing with friends -- the importance of social play during the covid-19 pandemic",
          "influence maximization in social networks: a survey of behaviour-aware methods",
          "estimating group properties in online social networks with a classifier",
          "rapid prototyping of a text mining application for cryptocurrency market intelligence",
          "the impact of nft profile pictures within social network communities",
          "adaptive submodular influence maximization with myopic feedback",
          "global data science project for covid-19",
          "damnets: a deep autoregressive model for generating markovian network time series",
          "tamper-evident complex genomic networks",
          "diversity of skills and collective intelligence in github",
          "identifying exogenous and endogenous activity in social media",
          "localizing and quantifying damage in social media images",
          "jnet: learning user representations via joint network embedding and topic embedding",
          "multi-task pharmacovigilance mining from social media posts",
          "exploiting multi-domain visual information for fake news detection",
          "the influence of a transport process on the epidemic threshold",
          "contrastive clustering: toward unsupervised bias reduction for emotion and sentiment classification",
          "mining dev for social and technical insights about software development",
          "making \"fetch\" happen: the influence of social and linguistic context on nonstandard word growth and decline",
          "reverse engineering of generative models: inferring model hyperparameters from generated images",
          "neural network aided quarantine control model estimation of global covid-19 spread",
          "signed network modeling based on structural balance theory",
          "adaptive susceptibility and heterogeneity in contagion models on networks",
          "lexpander: applying colexification networks to automated lexicon expansion",
          "understanding and monitoring human trafficking via social sensors: a sociological approach",
          "on the unreasonable effectiveness of feature propagation in learning on graphs with missing node features",
          "a framework for parallel and distributed training of neural networks",
          "connected cooperators and trojan horses: how correlations between cooperativeness and social connectedness affect the evolution of cooperation",
          "asynchronous opinion dynamics in social networks",
          "depicting urban boundaries from a mobility network of spatial interactions: a case study of great britain with geo-located twitter data",
          "controversy-seeking fuels rumor-telling activity in polarized opinion networks",
          "towards offensive language identification for tamil code-mixed youtube comments and posts",
          "does the public discuss other topics on climate change than researchers? a comparison of explorative networks based on author keywords and hashtags",
          "learning to hash-tag videos with tag2vec",
          "friendship paradox biases perceptions in directed networks",
          "understanding psycholinguistic behavior of predominant drunk texters in social media",
          "captcha attack: turning captchas against humanity",
          "retweets distort exposure to polarized information",
          "instagrammable data: using visuals to showcase more than numbers on aj labs instagram page",
          "optimal modularity in complex contagion",
          "determining question-answer plausibility in crowdsourced datasets using multi-task learning",
          "ranking online social users by their influence",
          "pricing social visibility service in online social networks: modeling and algorithms",
          "the friendship paradox and social network participation",
          "movepattern: interactive framework to provide scalable visualization of movement patterns",
          "auditing digital platforms for discrimination in economic opportunity advertising",
          "graph based semi-supervised learning with convolution neural networks to classify crisis related tweets",
          "mechanism design in social networks",
          "sub-event detection from twitter streams as a sequence labeling problem",
          "social behavior and mental health: a snapshot survey under covid-19 pandemic",
          "exploring, browsing and interacting with multi-scale structures of knowledge",
          "measuring, characterizing, and detecting facebook like farms",
          "towards nlp with deep learning: convolutional neural networks and recurrent neural networks for offensive language identification in social media",
          "expert system gradient descent style training: development of a defensible artificial intelligence technique",
          "hierarchical organization of h. eugene stanley scientific collaboration community in weighted network representation",
          "what is gab? a bastion of free speech or an alt-right echo chamber?",
          "#ilooklikeanengineer: using social media based hashtag activism campaigns as a lens to better understand engineering diversity issues",
          "information source finding in networks: querying with budgets",
          "direct observation of quantum percolation dynamics",
          "the online behaviour of the algerian abusers in social media networks",
          "echo chambers on social media: a comparative analysis",
          "deephateexplainer: explainable hate speech detection in under-resourced bengali language",
          "game-theoretical approach for opinion dynamics on social networks",
          "the digital flynn effect: complexity of posts on social media increases over time",
          "all you need is \"love\": evading hate-speech detection",
          "database of indian social media influencers on twitter",
          "tracing the use of practices through networks of collaboration",
          "contrastive meta learning with behavior multiplicity for recommendation",
          "photos are all you need for reciprocal recommendation in online dating",
          "probability-turbulence divergence: a tunable allotaxonometric instrument for comparing heavy-tailed categorical distributions",
          "distance distribution in extreme modular networks",
          "better bounds on the adaptivity gap of influence maximization under full-adoption feedback",
          "towards automatic detection of wildlife trade using machine vision models",
          "detecting high-quality gan-generated face images using neural networks",
          "influential node detection in implicit social networks using multi-task gaussian copula models",
          "infynlp at smm4h task 2: stacked ensemble of shallow convolutional neural networks for identifying personal medication intake from twitter",
          "dpos: decentralized, privacy-preserving, and low-complexity online slicing for multi-tenant networks",
          "steemops: extracting and analyzing key operations in steemit blockchain-based social media platform",
          "a deep learning approach for tweet classification and rescue scheduling for effective disaster management",
          "from continuous to discontinuous transitions in social diffusion",
          "scraping social media photos posted in kenya and elsewhere to detect and analyze food types",
          "md-csdnetwork: multi-domain cross stitched network for deepfake detection",
          "optimal control of the covid-19 pandemic: controlled sanitary deconfinement in portugal",
          "effects of memory on spreading processes in non-markovian temporal networks",
          "controversy detection: a text and graph neural network based approach",
          "how far is facebook from me? facebook network infrastructure analysis",
          "deep learning paradigm with transformed monolingual word embeddings for multilingual sentiment analysis",
          "recommendation of scholarly venues based on dynamic user interests",
          "leveraging personal navigation assistant systems using automated social media traffic reporting",
          "scientific success from the perspective of the strength of weak ties",
          "size matters: a comparative analysis of community detection algorithms",
          "mining adverse drug reactions from unstructured mediums at scale",
          "the chameleon attack: manipulating content display in online social media",
          "a hierarchical attention model for social contextual image recommendation",
          "on the readability of abstract set visualizations",
          "a collaborative ranking model with multiple location-based similarities for venue suggestion",
          "molecular communications at the macroscale: a novel framework for modeling epidemic spreading and mitigation",
          "broadband internet and social capital",
          "is radicalization reinforced by social media censorship?",
          "characterization of cross-posting activity for professional users across facebook, twitter and google+",
          "intrinsic image popularity assessment",
          "recommending users: whom to follow on federated social networks",
          "a note on general statistics of publicly accessible knowledge bases",
          "falling into the echo chamber: the italian vaccination debate on twitter",
          "an implementation of vector quantization using the genetic algorithm approach",
          "visually explainable recommendation",
          "transformer hawkes process",
          "unsupervised user identity linkage via factoid embedding",
          "using deep learning neural networks and candlestick chart representation to predict stock market",
          "covi-agentsim: an agent-based model for evaluating methods of digital contact tracing",
          "do influencers influence? -- analyzing players' activity in an online multiplayer game",
          "on detecting gans and retouching based synthetic alterations",
          "network diffusion model reveals recovery multipliers and heterogeneous spatial effects in post-disaster community recovery",
          "causal inference for influence propagation -- identifiability of the independent cascade model",
          "sexism identification in tweets and gabs using deep neural networks",
          "correlations between covid-19 and dengue",
          "exploring self-identified counseling expertise in online support forums",
          "a survey of community search over big graphs",
          "youtube covid-19 vaccine misinformation on twitter: platform interactions and moderation blind spots",
          "ams_adrn at semeval-2022 task 5: a suitable image-text multimodal joint modeling method for multi-task misogyny identification",
          "is uncertainty always bad?: effect of topic competence on uncertain opinions",
          "assessing the use of social media in massive open online courses",
          "digital surveillance networks of 2014 ebola epidemics and lessons for covid-19",
          "an intelligent system for multi-topic social spam detection in microblogging",
          "the opacity problem in social contagion",
          "nearest neighbour approaches for emotion detection in tweets",
          "cross-language sentiment analysis of european twitter messages duringthe covid-19 pandemic",
          "adversarial perturbations of opinion dynamics in networks",
          "a comparative study on covid-19 fake news detection using different transformer based models",
          "the language and social behavior of innovators",
          "an influence-based clustering model on twitter",
          "link recommendations: their impact on network structure and minorities",
          "deep unified multimodal embeddings for understanding both content and users in social media networks",
          "mean birds: detecting aggression and bullying on twitter",
          "co-evolution of viral processes and structural stability in signed social networks",
          "a unified graph-based approach to disinformation detection using contextual and semantic relations",
          "ranking-based group identification via factorized attention on social tripartite graph",
          "the wisdom_of_crowds: an efficient, philosophically-validated, social epistemological network profiling toolkit",
          "deepnc: deep generative network completion",
          "synergistic effects in threshold models on networks",
          "visual content privacy leaks on social media networks",
          "learning review representations from user and product level information for spam detection",
          "tagpick: a system for bridging micro-video hashtags and e-commerce categories",
          "landmark breaker: obstructing deepfake by disturbing landmark extraction",
          "insta-vax: a multimodal benchmark for anti-vaccine and misinformation posts detection on social media",
          "anatomy of scholarly information behavior patterns in the wake of academic social media platforms",
          "sarcasm detection in twitter -- performance impact while using data augmentation: word embeddings",
          "hateful memes detection via complementary visual and linguistic networks",
          "machine learning-based approach for depression detection in twitter using content and activity features",
          "arabs and atheism: religious discussions in the arab twittersphere",
          "less is more: semi-supervised causal inference for detecting pathogenic users in social media",
          "energy-efficient data transfer optimization via decision-tree based uncertainty reduction",
          "synergistic effects in networked epidemic spreading dynamics",
          "a multilayer network model of the coevolution of the spread of a disease and competing opinions",
          "fr-detect: a multi-modal framework for early fake news detection on social media using publishers features",
          "tweepfake: about detecting deepfake tweets",
          "signed link prediction with sparse data: the role of personality information",
          "identifying influential brokers on social media from social network structure",
          "information diffusion in social networks in two phases",
          "diverse strategic identities induce dynamical states in evolutionary games",
          "network structured kinetic models of social interactions",
          "investigating classification techniques with feature selection for intention mining from twitter feed",
          "multimodal detection of information disorder from social media",
          "inferring users' preferences through leveraging their social relationships",
          "against the others! detecting moral outrage insocial media networks",
          "power structure in chilean news media",
          "detect language of transliterated texts",
          "fairfil: contrastive neural debiasing method for pretrained text encoders",
          "cognitive network science for understanding online social cognitions: a brief review",
          "friend recommendation based on hashtags analysis",
          "statistical physics of social networking",
          "higher-order percolation processes on multiplex hypergraphs",
          "connection discovery using shared images by gaussian relational topic model",
          "an early look at the gettr social network",
          "influence estimation on social media networks using causal inference",
          "fake news detection using parallel bert deep neural networks",
          "leveraging multi-level dependency of relational sequences for social spammer detection",
          "exploiting social influence to control elections based on scoring rules",
          "empirically grounded agent-based models of innovation diffusion: a critical review",
          "hierarchical propagation networks for fake news detection: investigation and exploitation",
          "content retrieval at the edge: a social-aware and named data cooperative framework",
          "cultural diffusion and trends in facebook photographs",
          "neural language model based training data augmentation for weakly supervised early rumor detection",
          "news consumption and social media regulations policy",
          "multitask learning for blackmarket tweet detection",
          "infusing collaborative recommenders with distributed representations",
          "effectiveness of diffusing information through a social network in multiple phases",
          "compressibility of network opinion and spread states in the laplacian-eigenvector basis",
          "identifying fake news from twitter sharing data: a large-scale study",
          "unstable diffusion in social networks",
          "translating multispectral imagery to nighttime imagery via conditional generative adversarial networks",
          "synchronization of online social rhythms via avatar communications",
          "assessing the interplay between travel patterns and sars-cov-2 outbreak in realistic urban setting",
          "centrality-weighted opinion dynamics: disagreement and social network partition",
          "leveraging multi-domain, heterogeneous data using deep multitask learning for hate speech detection",
          "gan-generated faces detection: a survey and new perspectives (2022)",
          "a counter-forensic method for cnn-based camera model identification",
          "event detection in colombian security twitter news using fine-grained latent topic analysis",
          "combining deep learning and string kernels for the localization of swiss german tweets",
          "quickim: efficient, accurate and robust influence maximization algorithm on billion-scale networks",
          "photozilla: a large-scale photography dataset and visual embedding for 20 photography styles",
          "protecting facial privacy: generating adversarial identity masks via style-robust makeup transfer",
          "event identification in social networks",
          "filming multimodal sarcasm detection with attention",
          "unsupervised cyberbullying detection via time-informed gaussian mixture model",
          "countering misinformation on social networks using graph alterations",
          "ideological consumerism in colombian elections, 2015: links between political ideology, twitter activity and electoral results",
          "provably efficient reinforcement learning for online adaptive influence maximization",
          "a long-term analysis of polarization on twitter",
          "exploiting the relationship between visual and textual features in social networks for image classification with zero-shot deep learning",
          "the community structure of collaboration networks in computer science and its impact on scientific production and consumption",
          "disco: influence maximization meets network embedding and deep learning",
          "network inference from a mixture of diffusion models for fake news mitigation",
          "stateless puzzles for real time online fraud preemption",
          "coevolutionary dynamics with global fields",
          "upb at semeval-2022 task 5: enhancing uniter with image sentiment and graph convolutional networks for multimedia automatic misogyny identification",
          "beyond worst-case (in)approximability of nonsubmodular influence maximization",
          "role of hubs in the synergistic spread of behavior",
          "psycho-demographic analysis of the facebook rainbow campaign",
          "lifelong learning of hate speech classification on social media",
          "learning social image embedding with deep multimodal attention networks",
          "data-driven mitigation of adversarial text perturbation",
          "coarse and fine-grained hostility detection in hindi posts using fine tuned multilingual embeddings",
          "mining social media for open innovation in transportation systems",
          "a personalized recommender system for pervasive social networks",
          "the network structure of visited locations according to geotagged social media photos",
          "promoting and countering misinformation during australia's 2019-2020 bushfires: a case study of polarisation",
          "an automated pipeline for the discovery of conspiracy and conspiracy theory narrative frameworks: bridgegate, pizzagate and storytelling on the web",
          "question retrieval for community-based question answering via heterogeneous network integration learning",
          "eyes tell all: irregular pupil shapes reveal gan-generated faces",
          "tackling racial bias in automated online hate detection: towards fair and accurate classification of hateful online users using geometric deep learning",
          "tweets2stance: users stance detection exploiting zero-shot learning algorithms on tweets",
          "distributed graph clustering by load balancing",
          "influence minimization under budget and matroid constraints: extended version",
          "detecting fake accounts through generative adversarial network in online social media",
          "\"i can't keep it up.\" a dataset from the defunct voat.co news aggregator",
          "the footprint of campaign strategies in farsi twitter: a case for 2021 iranian presidential election",
          "sequences of purchases in credit card data reveal life styles in urban populations",
          "a context-based disambiguation model for sentiment concepts using a bag-of-concepts approach",
          "manipulating twitter through deletions",
          "influence-aware task assignment in spatial crowdsourcing (technical report)",
          "aesthetic attribute assessment of images numerically on mixed multi-attribute datasets",
          "introducing an abusive language classification framework for telegram to investigate the german hater community",
          "modeling the propagation of trojan malware in online social networks",
          "walk in wild: an ensemble approach for hostility detection in hindi posts",
          "fast generation of simple directed social network graphs with reciprocal edges and high clustering",
          "\"23andme confirms: i'm super white\" -- analyzing twitter discourse on genetic testing",
          "exploring multi-task multi-lingual learning of transformer models for hate speech and offensive speech identification in social media",
          "twitter user geolocation using deep multiview learning",
          "signed graph convolutional network",
          "utilizing deep learning to identify drug use on twitter data",
          "the fake news spreading plague: was it preventable?",
          "henin: learning heterogeneous neural interaction networks for explainable cyberbullying detection on social media",
          "forsage: anatomy of a smart-contract pyramid scheme",
          "sentiq: a probabilistic logic approach to enhance sentiment analysis tool quality",
          "federated graph attention network for rumor detection",
          "user modeling for point-of-interest recommendations in location-based social networks: the state-of-the-art",
          "think globally, act locally: on the optimal seeding for nonsubmodular influence maximization",
          "community structures in information networks for a discrete agent population",
          "charting closed-loop collective cultural decisions: from book best sellers and music downloads to twitter hashtags and reddit comments",
          "an analysis of malware trends in enterprise networks",
          "critical impact of social networks infodemic on defeating coronavirus covid-19 pandemic: twitter-based study and research directions",
          "sensitivity and reliability in incomplete networks: centrality metrics to community scoring functions",
          "the role of homophily in the emergence of opinion controversies",
          "semantic sentiment analysis of twitter data",
          "creating and understanding email communication networks to aid digital forensic investigations",
          "aggression-annotated corpus of hindi-english code-mixed data",
          "digital data archives as knowledge infrastructures: mediating data sharing and reuse",
          "a hierarchical network-oriented analysis of user participation in misinformation spread on whatsapp",
          "the web centipede: understanding how web communities influence each other through the lens of mainstream and alternative news sources",
          "twibot-22: towards graph-based twitter bot detection",
          "sisl:self-supervised image signature learning for splicing detection and localization",
          "are emojis predictable?",
          "stochastic blockmodels with edge information",
          "gaps in information access in social networks",
          "measuring node contribution to community structure with modularity vitality",
          "face mask detection using convolution neural network",
          "i stand with you: using emojis to study solidarity in crisis events",
          "profile matching across unstructured online social networks: threats and countermeasures",
          "minimizing polarization and disagreement in social networks",
          "rise of qanon: a mental model of good and evil stews in an echochamber",
          "deepfakes detection with automatic face weighting",
          "analyzing the design space of re-opening policies and covid-19 outcomes in the us",
          "privacy-preserving schemes for ad hoc social networks: a survey",
          "streetscape augmentation using generative adversarial networks: insights related to health and wellbeing",
          "iad: interaction-aware diffusion framework in social networks",
          "facter-check: semi-automated fact-checking through semantic similarity and natural language inference",
          "multi-faceted trust-based collaborative filtering",
          "the limited reach of fake news on twitter during 2019 european elections",
          "identifying clickbait: a multi-strategy approach using neural networks",
          "anti-transfer learning for task invariance in convolutional neural networks for speech processing",
          "a deep ensemble framework for fake news detection and classification",
          "deepfork: supervised prediction of information diffusion in github",
          "hater-o-genius aggression classification using capsule networks",
          "eeg classification by factoring in sensor configuration",
          "explainable misinformation detection across multiple social media platforms",
          "where are we? using scopus to map the literature at the intersection between artificial intelligence and research on crime",
          "joint topic-semantic-aware social recommendation for online voting",
          "enabling and emerging technologies for social distancing: a comprehensive survey and open problems",
          "vulnerable to misinformation? verifi!",
          "automatic generation of personalized comment based on user profile",
          "sentence-level bert and multi-task learning of age and gender in social media",
          "detecting stance in tweets : a signed network based approach",
          "dissecting the meme magic: understanding indicators of virality in image memes",
          "neural conditional event time models",
          "statistical physics of vaccination",
          "universal nonlinear infection kernel from heterogeneous exposure on higher-order networks",
          "finding shortest and nearly shortest path nodes in large substantially incomplete networks",
          "socialbots on fire: modeling adversarial behaviors of socialbots via multi-agent hierarchical reinforcement learning",
          "learning stance embeddings from signed social graphs",
          "community detection using preference networks",
          "extracting significant signal of news consumption from social networks: the case of twitter in italian political elections",
          "node classification for signed social networks using diffuse interface methods",
          "deep co-attention network for multi-view subspace learning",
          "providing slowdown information to improve selfish routing",
          "photo stylistic brush: robust style transfer via superpixel-based bipartite graph",
          "detecting online hate speech: approaches using weak supervision and network embedding models",
          "characterizing vaccination movements on youtube in the united states and brazil",
          "influence maximization with deactivation in social networks",
          "controversial information spreads faster and further in reddit",
          "exact computation of influence spread by binary decision diagrams",
          "kgap: knowledge graph augmented political perspective detection in news media",
          "dialoguernn: an attentive rnn for emotion detection in conversations",
          "leveraging medical sentiment to understand patients health on social media",
          "integrating semantic and structural information with graph convolutional network for controversy detection",
          "inferring user gender from user generated visual content on a deep semantic space",
          "twitter spam detection: a systematic review",
          "multilayer network model of movie script",
          "a kernel of truth: determining rumor veracity on twitter by diffusion pattern alone",
          "tar on social media: a framework for online content moderation",
          "optimal team recruitment strategies for collaborative mobile crowdsourcing systems",
          "hypergraph laplacians in diffusion framework",
          "network composition from multi-layer data",
          "leveraging local network communities to predict academic performance",
          "popularity prediction on social platforms with coupled graph neural networks",
          "mask-guided image person removal with data synthesis",
          "learning user representations in online social networks using temporal dynamics of information diffusion",
          "the role of conversation context for sarcasm detection in online interactions",
          "simplicial contagion in temporal higher-order networks",
          "seeding with costly network information",
          "unraveling the dynamic importance of county-level features in trajectory of covid-19",
          "identifying cost-effective debunkers for multi-stage fake news mitigation campaigns",
          "human expression recognition using facial shape based fourier descriptors fusion",
          "interacting opinion and disease dynamics in multiplex networks: discontinuous phase transition and non-monotonic consensus times",
          "evaluating marijuana-related tweets on twitter",
          "emotion recognition for vietnamese social media text",
          "multivariate analysis for multiple network data via semi-symmetric tensor pca",
          "personality traits and echo chambers on facebook",
          "cultural transmission modes of music sampling traditions remain stable despite delocalization in the digital age",
          "analyzing gender inequality through large-scale facebook advertising data",
          "evolutionary of online social networks driven by pareto wealth distribution and bidirectional preferential attachment",
          "graph neural networks for user identity linkage",
          "overhead control with reliable transmission of popular packets in ad-hoc social networks",
          "gender bias in sharenting: both men and women mention sons more often than daughters on social media",
          "extractive adversarial networks: high-recall explanations for identifying personal attacks in social media posts",
          "some like it hoax: automated fake news detection in social networks",
          "a paradigm shift: detecting human rights violations through web images",
          "all one needs to know about metaverse: a complete survey on technological singularity, virtual ecosystem, and research agenda",
          "monitor: a multimodal fusion framework to assess message veracity in social networks",
          "human trajectories characteristics",
          "turing patterns mediated by network topology in homogeneous active systems",
          "white or blue, the whale gets its vengeance: a social media analysis of the blue whale challenge",
          "under the shadow of sunshine: characterizing spam campaigns abusing phone numbers across online social networks",
          "behavioral modeling of persian instagram users to detect bots",
          "the network limits of infectious disease control via occupation-based targeting",
          "the age of social sensing",
          "everything about you: a multimodal approach towards friendship inference in online social networks",
          "'dark germany': hidden patterns of participation in online far-right protests against refugee housing",
          "anomaly detection with joint representation learning of content and connection",
          "sparsemax and relaxed wasserstein for topic sparsity",
          "a neural influence diffusion model for social recommendation",
          "a study of text representations in hate speech detection",
          "large-scale gender/age prediction of tumblr users",
          "female librarians and male computer programmers? gender bias in occupational images on digital media platforms",
          "who funds misinformation? a systematic analysis of the ad-related profit routines of fake news sites",
          "incentivized campaigning in social networks",
          "fast distributed bandits for online recommendation systems",
          "towards better graph representation: two-branch collaborative graph neural networks for multimodal marketing intention detection",
          "modeling institutional credit risk with financial news",
          "detecting sarcasm in multimodal social platforms",
          "automated analysis of topic-actor networks on twitter: new approach to the analysis of socio-semantic networks",
          "deep learning for instance retrieval: a survey",
          "a social search model for large scale social networks",
          "a motif-based approach for identifying controversy",
          "bert-based ensemble approaches for hate speech detection",
          "your stance is exposed! analysing possible factors for stance detection on social media",
          "community detection using low-dimensional network embedding algorithms",
          "importance-aware learning for neural headline editing",
          "smoke screener or straight shooter: detecting elite sybil attacks in user-review social networks",
          "social catalysts: characterizing people who spark conversations among others",
          "a method for assessing the success and failure of community-level interventions in the presence of network diffusion, social reinforcement, and related social effects",
          "a sampling-guided unsupervised learning method to capture percolation in complex networks",
          "epidemic outbreaks with adaptive prevention on complex networks",
          "fakebuster: a deepfakes detection tool for video conferencing scenarios",
          "dynamic hawkes processes for discovering time-evolving communities' states behind diffusion processes",
          "electoral forecasting using a novel temporal attenuation model: predicting the us presidential elections",
          "from classical to modern opinion dynamics",
          "spatial games of fake news",
          "auditing the sensitivity of graph-based ranking with visual analytics",
          "nash equilibrium seeking with non-doubly stochastic communication weight matrix",
          "virus spread and voter model on random graphs with multiple type nodes",
          "sentiment analysis of twitter data",
          "evolution of cooperation on temporal networks",
          "modelling requirements for content recommendation systems",
          "time-dependent heterogeneity leads to transient suppression of the covid-19 epidemic, not herd immunity",
          "optimizing offer sets in sub-linear time",
          "identifying critical higher-order interactions in complex networks",
          "automated pii extraction from social media for raising privacy awareness: a deep transfer learning approach",
          "monotone submodular diversity functions for categorical vectors with application to diversification of seeds for targeted influence maximization",
          "sequence-to-sequence lexical normalization with multilingual transformers",
          "activists want better, safer technology",
          "discovering archetypes to interpret evolution of individual behavior",
          "trust based attachment",
          "venue suggestion using social-centric scores",
          "markov chain approaches to payoff optimization in the self-organizing network coloring game",
          "urban crowdsensing using social media: an empirical study on transformer and recurrent neural networks",
          "fashion conversation data on instagram",
          "reintel challenge 2020: exploiting transfer learning models for reliable intelligence identification on vietnamese social network sites",
          "deepsocial: social distancing monitoring and infection risk assessment in covid-19 pandemic",
          "learning to rank for push notifications using pairwise expected regret",
          "open access books in the humanities and social sciences: an open access altmetric advantage",
          "coordinating narratives and the capitol riots on parler",
          "new survey questions and estimators for network clustering with respondent-driven sampling data",
          "\"gettr-ing\" deep insights from the social network gettr",
          "the forchheim image database for camera identification in the wild",
          "spreading of memes on multiplex networks",
          "learning ideological embeddings from information cascades",
          "quick survey of graph-based fraud detection methods",
          "statistical physics of epidemic on network predictions for sars-cov-2 parameters",
          "user profiles matching for different social networks based on faces embeddings",
          "\"i cannot do all of this alone\": exploring instrumental and prayer support in online health communities",
          "understanding the radical mind: identifying signals to detect extremist content on twitter",
          "a self-learning information diffusion model for smart social networks",
          "joint sentiment/topic modeling on text data using boosted restricted boltzmann machine",
          "towards a social virtual reality learning environment in high fidelity",
          "hipsters on networks: how a small group of individuals can lead to an anti-establishment majority",
          "scalable influence maximization for multiple products in continuous-time diffusion networks",
          "urban scaling of football followership on twitter",
          "applications of online deep learning for crisis response using social media information",
          "cascade: contextual sarcasm detection in online discussion forums",
          "optimal interlayer structure for promoting spreading of sis model in two-layer networks",
          "exploring the ideological nature of journalists' social networks on twitter and associations with news story content",
          "defending democracy: using deep learning to identify and prevent misinformation",
          "měj přehled / be informed",
          "efficient approximation algorithms for adaptive target profit maximization",
          "interactive search and exploration in online discussion forums using multimodal embeddings",
          "sexism detection: the first corpus in algerian dialect with a code-switching in arabic/ french and english",
          "influence maximization (im) in complex networks with limited visibility using statistical methods",
          "twitter sentiment analysis using distributed word and sentence representation",
          "event graphs: advances and applications of second-order time-unfolded temporal network models",
          "a hierarchical model of non-homogeneous poisson processes for twitter retweets",
          "textually guided ranking network for attentional image retweet modeling",
          "blocking self-avoiding walks stops cyber-epidemics: a scalable gpu-based approach",
          "applicability of multilayer diffusion network inference to social media data",
          "combining textual features for the detection of hateful and offensive language",
          "phee: a phased hybrid evaluation-enhanced approach for identifying influential users in social networks",
          "firms' challenges and social responsibilities during covid-19: a twitter analysis",
          "on the detection of synthetic images generated by diffusion models",
          "ti-cnn: convolutional neural networks for fake news detection",
          "ask \"who\", not \"what\": bitcoin volatility forecasting with twitter data",
          "untangling the role of diverse social dimensions in the diffusion of microfinance",
          "cascading behavior in yelp reviews",
          "modeling covid-19 spread in small colleges",
          "mining unfollow behavior in large-scale online social networks via spatial-temporal interaction",
          "the emergence of polarization in coevolving networks",
          "games of social distancing during an epidemic: local vs statistical information",
          "bias amplification in experimental social networks is reduced by resampling",
          "how impersonators exploit instagram to generate fake engagement?",
          "a heuristic-driven uncertainty based ensemble framework for fake news detection in tweets and news articles",
          "unveiling real-life effects of online photo sharing",
          "cache-enabled uplink transmission in wireless small cell networks",
          "autoregressive perturbations for data poisoning",
          "towards a time based video search engine for al quran interpretation",
          "discovering users topic of interest from tweet",
          "monstor: an inductive approach for estimating and maximizing influence over unseen networks",
          "networks beyond pairwise interactions: structure and dynamics",
          "a sneak into the devil's colony - fake profiles in online social networks",
          "domain adaptation with adversarial training and graph embeddings",
          "graph clustering with dynamic embedding",
          "the information in emotion communication",
          "graph embeddings for abusive language detection",
          "mining trends of covid-19 vaccine beliefs on twitter with lexical embeddings",
          "generate descriptive social networks for large populations from available observations: a novel methodology and a generator",
          "joint non-negative matrix factorization for learning ideological leaning on twitter",
          "understanding the network formation pattern for better link prediction",
          "fairy: a framework for understanding relationships between users' actions and their social feeds",
          "adversarial privacy preserving graph embedding against inference attack",
          "your most telling friends: propagating latent ideological features on twitter using neighborhood coherence",
          "autonomous inference of complex network dynamics from incomplete and noisy data",
          "going viral: optimizing discount allocation in social networks for influence maximization",
          "fatigued pagerank",
          "generalizable prediction of academic performance from short texts on social media",
          "neural character-based composition models for abuse detection",
          "effectiveness of dismantling strategies on moderated vs. unmoderated online social platforms",
          "neural-brane: neural bayesian personalized ranking for attributed network embedding",
          "multifaceted privacy: how to express your online persona without revealing your sensitive attributes",
          "perceived and intended sarcasm detection with graph attention networks",
          "deep convolutional pooling transformer for deepfake detection",
          "deep learning methods for event verification and image repurposing detection",
          "forecasting managerial turnover through e-mail based social network analysis",
          "modeling influence with semantics in social networks: a survey",
          "locate who you are: matching geo-location to text for user identity linkage",
          "learning features of network structures using graphlets",
          "sarcasm analysis using conversation context",
          "distributed applications in gamification of the learning process",
          "a fast algorithm for ranking users by their influence in online social platforms",
          "the effect of pets on happiness: a data-driven approach via large-scale social media",
          "play with me? understanding and measuring the social aspect of casual gaming",
          "crawling twitter data through api: a technical/legal perspective",
          "sexism prediction in spanish and english tweets using monolingual and multilingual bert and ensemble models",
          "a case report on the \"a.i. locked-in problem\": social concerns with modern nlp",
          "fast influence maximization in dynamic graphs: a local updating approach",
          "social network analysis taxonomy based on graph representation",
          "deep learning approach on information diffusion in heterogeneous networks",
          "mining user interaction patterns in the darkweb to predict enterprise cyber incidents",
          "region-enhanced deep graph convolutional networks for rumor detection",
          "effector detection in social networks",
          "abusniff: automatic detection and defenses against abusive facebook friends",
          "patch-wise contrastive style learning for instagram filter removal",
          "feature driven and point process approaches for popularity prediction",
          "networks in a world unknown: public whatsapp groups in the venezuelan refugee crisis",
          "maximizing spreading in complex networks with risk in node activation",
          "sac2vec: information network representation with structure and content",
          "tweets sentiment analysis via word embeddings and machine learning techniques",
          "physics-informed machine learning for the covid-19 pandemic: adherence to social distancing and short-term predictions for eight countries",
          "diva: a scalable, interactive and customizable visual analytics platform for information diffusion on large networks",
          "user-aware folk popularity rank: user-popularity-based tag recommendation that can enhance social popularity",
          "systems applications of social networks",
          "exploiting investors social network for stock prediction in china's market",
          "ai for trustworthiness! credible user identification on social web for disaster response agencies",
          "abolitionist networks: modeling language change in nineteenth-century activist newspapers",
          "urban social media inequality: definition, measurements, and application",
          "characterizing twitter interaction during covid-19 pandemic using complex networks and text mining",
          "evading deepfake-image detectors with white- and black-box attacks",
          "leveraging dependency grammar for fine-grained offensive language detection using graph convolutional networks",
          "uncertainty reasoning for probabilistic petri nets via bayesian networks",
          "mining half a billion topical experts across multiple social networks",
          "quantifying agent impacts on contact sequences in social interactions",
          "modeling popularity in asynchronous social media streams with recurrent neural networks",
          "maximizing the probability of fixation in the positional voter model",
          "multimodal named entity recognition for short social media posts",
          "emoji-based co-attention network for microblog sentiment analysis",
          "the future of misinformation detection: new perspectives and trends",
          "heterogeneous collaborative filtering",
          "software engineers response to public crisis: lessons learnt from spontaneously building an informative covid-19 dashboard",
          "adaptive multi-feature budgeted profit maximization in social networks",
          "driving the last mile: characterizing and understanding distracted driving posts on social networks",
          "social media cluster dynamics create resilient global hate highways",
          "commaid: visual analytics for communication analysis through interactive dynamics modeling",
          "text-based sentiment analysis and music emotion recognition",
          "sequence learning with rnns for medical concept normalization in user-generated texts",
          "on limitations of uniplex networks for modeling multiplex contagion",
          "experiments in detecting persuasion techniques in the news",
          "the spreading of computer viruses on time-varying networks",
          "influence maximization meets efficiency and effectiveness: a hop-based approach",
          "a system for identifying and visualizing influential communities",
          "resilience and elasticity of co-evolving information ecosystems",
          "how information diffuse in a nomination network",
          "neural abstractive unsupervised summarization of online news discussions",
          "opinion-based centrality in multiplex networks: a convex optimization approach",
          "a survey on influence maximization: from an ml-based combinatorial optimization",
          "information diffusion in social networks: friendship paradox based models and statistical inference",
          "the network dynamics of social and technological conventions",
          "detection and prediction of users attitude based on real-time and batch sentiment analysis of facebook comments",
          "language identification on massive datasets of short message using an attention mechanism cnn",
          "online human-bot interactions: detection, estimation, and characterization",
          "mentorship network structure: how relationships emerge online and what they mean for amateur creators",
          "a semantic approach for user-brand targeting in on-line social networks",
          "deep learning based parameter search for an agent based social network model",
          "fishing for clickbaits in social images and texts with linguistically-infused neural network models",
          "the spread of voting attitudes in social networks",
          "ggvit:multistream vision transformer network in face2face facial reenactment detection",
          "temporal scale estimation for oversampled network cascades: theory, algorithms, and experiment",
          "multi-view community detection in facebook public pages",
          "beyond covid-19 pandemic: topology-aware optimisation of vaccination strategy for minimising virus spreading",
          "optimal community structure for social contagions",
          "social media marketing analytics : a multicultural approach applied to the beauty \\& cosmetic sector",
          "predicting the quality of short narratives from social media",
          "studying leaders & their concerns using online social media during the times of crisis -- a covid case study",
          "call attention to rumors: deep attention based recurrent neural networks for early rumor detection",
          "how often should i access my online social networks?",
          "smart flood resilience: harnessing community-scale big data for predictive flood risk monitoring, rapid impact assessment, and situational awareness",
          "complex social contagion induces bistability on multiplex networks",
          "learning from online regrets: from deleted posts to risk awareness in social network sites",
          "detecting face2face facial reenactment in videos",
          "recurrent neural networks for online video popularity prediction",
          "detection and classification of masses in mammographic images in a multi-kernel approach",
          "troll tweet detection using contextualized word representations",
          "explain influence maximization with sobol indices",
          "limsi_upv at semeval-2020 task 9: recurrent convolutional neural network for code-mixed sentiment analysis",
          "sentiment index of the russian speaking facebook",
          "social media analysis for organizations: us northeastern public and state libraries case study",
          "explainable authorship verification in social media via attention-based similarity learning",
          "a comparative analysis of graph neural networks and commonly used machine learning algorithms on fake news detection",
          "service adoption spreading in online social networks",
          "como mensurar a importância, influência e a relevância de usuários do twitter? uma análise da interação dos candidatos à presidência do brasil nas eleições de 2018",
          "a picture is worth a thousand words: an empirical study on the influence of content visibility on diffusion processes within a virtual world",
          "plexus: an interactive visualization tool for analyzing public emotions from twitter data",
          "casgcn: predicting future cascade growth based on information diffusion graph",
          "information spreading dynamics on adaptive social networks",
          "correlation between social proximity and mobility similarity",
          "few-shot tweet detection in emerging disaster events",
          "competitive contagion with sparse seeding",
          "low government performance and uncivil political tweets: evidence from the covid-19 crisis in the u.s",
          "identifying biased users in online social networks to enhance the accuracy of sentiment analysis: a user behavior-based approach",
          "evolution of collective fairness in complex networks through degree-based role assignment",
          "junk news on military affairs and national security: social media disinformation campaigns against us military personnel and veterans",
          "understanding echo chambers in e-commerce recommender systems",
          "content-based analysis of the cultural differences between tiktok and douyin",
          "do you really follow them? automatic detection of credulous twitter users",
          "modeling of user portrait through social media",
          "interpretable fake news detection with topic and deep variational models",
          "goodfatr: a platform for automated threat report collection and ioc extraction",
          "image manipulation specifications on social networking services for encryption-then-compression systems",
          "dynamic laplace: efficient centrality measure for weighted or unweighted evolving networks",
          "election manipulation on social networks: seeding, edge removal, edge addition",
          "modeling the impact of social distancing and targeted vaccination on the spread of covid-19 through a real city-scale contact network",
          "multimodal analysis: informed content estimation and audio source separation",
          "restoring the structure: a modular analysis of ego-driven organizational networks",
          "feedback shaping: a modeling approach to nurture content creation",
          "neural networks for dengue prediction: a systematic review",
          "ai based presentation creator with customized audio content delivery",
          "maximizing contrasting opinions in signed social networks",
          "two-faced humans on twitter and facebook: harvesting social multimedia for human personality profiling",
          "team dynamics during the delivery of a large-scale, engineered system",
          "pornography consumption in social media",
          "characterising user content on a multi-lingual social network",
          "data driven modeling social media influence using differential equations",
          "tracing community genealogy: how new communities emerge from the old",
          "crush: contextually regularized and user anchored self-supervised hate speech detection",
          "drag: dynamic region-aware gcn for privacy-leaking image detection",
          "foundations of temporal text networks",
          "eggs: a flexible approach to relational modeling of social network spam",
          "strategies and vulnerabilities of participants in venezuelan influence operations",
          "hawkes process classification through discriminative modeling of text",
          "fake news detection on news-oriented heterogeneous information networks through hierarchical graph attention",
          "phase transition of the 2-choices dynamics on core-periphery networks",
          "dual application of speech enhancement for automatic speech recognition",
          "comparing suicide risk insights derived from clinical and social media data",
          "convergence of opinion diffusion is pspace-complete",
          "double-scale self-supervised hypergraph learning for group recommendation",
          "assessing the impact of social network structure on the diffusion of coronavirus disease (covid-19): a generalized spatial seird model",
          "poised: spotting twitter spam off the beaten paths",
          "exploring and mining attributed sequences of interactions",
          "a cnn-rnn framework for image annotation from visual cues and social network metadata",
          "discovery and classification of twitter bots",
          "superspreading k-cores at the center of covid-19 pandemic persistence",
          "quantifying echo chamber effects in information spreading over political communication networks",
          "uncertainty-aware personal assistant for making personalized privacy decisions",
          "wac: a corpus of wikipedia conversations for online abuse detection",
          "controlling percolation with limited resources",
          "making \"fetch\" happen: the influence of social and linguistic context on nonstandard word growth and decline",
          "detecting deepfakes with metric learning",
          "the influence of social networks on human society",
          "debate on online social networks at the time of covid-19: an italian case study",
          "a survey of point-of-interest recommendation in location-based social networks",
          "contingency-aware influence maximization: a reinforcement learning approach",
          "the impact of twitter on political influence on the choice of a running mate: social network analysis and semantic analysis -- a review",
          "contagion-preserving network sparsifiers: exploring epidemic edge importance utilizing effective resistance",
          "the effect of people recommenders on echo chambers and polarization",
          "cyber anomaly detection using graph-node role-dynamics",
          "a structural characterization of market power in electric power networks",
          "collective decision dynamics in group evacuation: behavioral experiment and machine learning models",
          "reputation systems for news on twitter: a large-scale study",
          "interdependent diffusion: the social contagion of interacting beliefs",
          "least cost influence maximization across multiple social networks",
          "neighborhood matters: influence maximization in social networks with limited access",
          "cost function learning in memorized social networks with cognitive behavioral asymmetry",
          "consistent approximation of epidemic dynamics on degree-heterogeneous clustered networks",
          "weibo-cov: a large-scale covid-19 social media dataset from weibo",
          "assessing the impact of contextual information in hate speech detection",
          "\"like sheep among wolves\": characterizing hateful users on twitter",
          "adapting deep learning methods for mental health prediction on social media",
          "moral emotions shape the virality of covid-19 misinformation on social media",
          "maximizing fair content spread via edge suggestion in social networks",
          "scaling of foreign attractiveness for countries and states",
          "dynamic graph echo state networks",
          "gender recognition in informal and formal language scenarios via transfer learning",
          "bots increase exposure to negative and inflammatory content in online social systems",
          "prediction of esg compliance using a heterogeneous information network",
          "finding top performers through email patterns analysis",
          "headline diagnosis: manipulation of content farm headlines",
          "a temporal network version of watts's cascade model",
          "a map equation with metadata: varying the role of attributes in community detection",
          "integrating lexical and temporal signals in neural ranking models for searching social media streams",
          "heterogeneous interventions reduce the spread of covid-19 in simulations on real mobility data",
          "deep health care text classification",
          "twitter dataset for 2022 russo-ukrainian crisis",
          "fake news identification using machine learning algorithms based on graph features",
          "do the young live in a \"smaller world\" than the old? age-specific degrees of separation in human communication",
          "nonlinear random walks optimize the trade-off between cost and prevention in epidemics lockdown measures : the esir model",
          "user behavior discovery in the covid-19 era through the sentiment analysis of user tweet texts",
          "topical alignment in online social systems",
          "inter-cluster transmission control using graph modal barriers",
          "learning networks from random walk-based node similarities",
          "social distancing as a network population game in a socially connected world",
          "network disruption: maximizing disagreement and polarization in social networks",
          "e-commerce in your inbox: product recommendations at scale",
          "styling with attention to details",
          "racism is a virus: anti-asian hate and counterspeech in social media during the covid-19 crisis",
          "pattern dynamics of interacting contagions",
          "fake news detection using semi-supervised graph convolutional network",
          "i know where you are coming from: on the impact of social media sources on ai model performance",
          "adversarial active learning based heterogeneous graph neural network for fake news detection",
          "nowcasting the stance of social media users in a sudden vote: the case of the greek referendum",
          "pattern detection in the activation space for identifying synthesized content",
          "semi-supervised stance detection of tweets via distant network supervision",
          "impact of covid-19 on city-scale transportation and safety: an early experience from detroit",
          "structural inequalities exacerbate infection disparities: a computational approach",
          "close and ordinary social contacts: how important are they in promoting large-scale contagion?",
          "\"a virus has no religion\": analyzing islamophobia on twitter during the covid-19 outbreak",
          "who will share my image? predicting the content diffusion path in online social networks",
          "bayesian graph convolutional neural networks via tempered mcmc",
          "blockchain-enabled end-to-end encryption for instant messaging applications",
          "aggressive, repetitive, intentional, visible, and imbalanced: refining representations for cyberbullying classification",
          "epidemic spreading in a social network with facial masks wearing individuals",
          "contextualizing asr lattice rescoring with hybrid pointer network language model",
          "improving joint layer rnn based keyphrase extraction by using syntactical features",
          "collective influence of multiple spreaders evaluated by tracing real information flow in large-scale social networks",
          "sd-measure: a social distancing detector",
          "deep learning-based spatially explicit emulation of an agent-based simulator for pandemic in a city",
          "inference, prediction and optimization of non-pharmaceutical interventions using compartment models: the pyross library",
          "dimensionrank: personal neural representations for personalized general search",
          "vaccination strategies against covid-19 and the diffusion of anti-vaccination views",
          "networks of power: analyzing world leaders interactions on social media",
          "check_square at checkthat! 2020: claim detection in social media via fusion of transformer and syntactic features",
          "mapping social media attention in microbiology: identifying main topics and actors",
          "perception of emergent epidemic of covid-2019 / sars cov-2 on the polish internet",
          "an approximate marginal spread computation approach for the budgeted influence maximization with delay",
          "detecting gang-involved escalation on social media using context",
          "rosetta: large scale system for text detection and recognition in images",
          "fairness in influence maximization through randomization",
          "timme: twitter ideology-detection via multi-task multi-relational embedding",
          "measuring similarity between brands using followers' post in social media",
          "sequential change-point detection in high-dimensional gaussian graphical models",
          "high quality degree based heuristics for the influence maximization problem",
          "social-aware cooperative caching in fog radio access networks",
          "online tools for public engagement: case studies from reykjavik",
          "actionable and political text classification using word embeddings and lstm",
          "characterizing efficient referrals in social networks",
          "a probabilistic framework for location inference from social media",
          "identifying user profiles via user footprints",
          "identifying individual dogs in social media images",
          "centralized and decentralized isolation strategies and their impact on the covid-19 pandemic dynamics",
          "discovering interesting subgraphs in social media networks",
          "protecting shared information in networks: a network security game with strategic attacks",
          "improving the authentication with built-in camera protocol using built-in motion sensors: a deep learning solution",
          "centralities for networks with consumable resources",
          "stochastic dynamic programming heuristics for influence maximization-revenue optimization",
          "affect analysis in-the-wild: valence-arousal, expressions, action units and a unified framework",
          "item: independent temporal motifs to summarize and compare temporal networks",
          "unknowable manipulators: social network curator algorithms",
          "you shall know a user by the company it keeps: dynamic representations for social media users in nlp",
          "social network structure is predictive of health and wellness",
          "covid-19 infodemic reveals new tipping point epidemiology and a revised\nr\nformula",
          "an information theoretic framework for active de-anonymization in social networks based on group memberships",
          "who with whom and how?: extracting large social networks using search engines",
          "detecting human-to-human-or-object (h2o) interactions with diabolo",
          "a re-conceptualization of online misinformation diffusion",
          "contributive social capital extraction from different types of online data sources",
          "friend network as gatekeeper: a study of wechat users' consumption of friend-curated contents",
          "transitivity and degree assortativity explained: the bipartite structure of social networks",
          "predicting the patterns of spatio-temporal signal propagation in complex networks",
          "how social are social media the dark patterns in facebook's interface",
          "predicting the flu from instagram",
          "dynamics of diffusion on monoplex and multiplex networks: a message-passing approach",
          "an email attachment is worth a thousand words, or is it?",
          "learning heat diffusion graphs",
          "deciphering social opinion polarization towards political event based on content and structural analysis",
          "tracking influential nodes in time-decaying dynamic interaction networks",
          "experiments in inferring social networks of diffusion",
          "modelling and analysing behaviours and emotions via complex user interactions",
          "get-aid: visual recognition of human rights abuses via global emotional traits",
          "simulation of the covid-19 pandemic on the social network of slovenia: estimating the intrinsic forecast uncertainty",
          "analysis of adversarial attacks against cnn-based image forgery detectors",
          "content privacy enforcement models in decentralized online social networks: state of play, solutions, limitations, and future directions",
          "image data hiding with multi-scale autoencoder network",
          "gitevolve: predicting the evolution of github repositories",
          "self-presentation and emotional contagion on facebook: new experimental measures of profiles' emotional coherence",
          "lg4av: combining language models and graph neural networks for author verification",
          "\"when and where?\": behavior dominant location forecasting with micro-blog streams",
          "omni-directional image generation from single snapshot image",
          "credulous users and fake news: a real case study on the propagation in twitter",
          "data backup network formation with heterogeneous agents",
          "graph-aware evolutionary algorithms for influence maximization",
          "schemes of propagation models and source estimators for rumor source detection in online social networks: a short survey of a decade of research",
          "the human geography of twitter",
          "discipline reputation evaluation based on phd exchange network",
          "profile matching across online social networks",
          "privacy leakage through innocent content sharing in online social networks",
          "explainable depression detection with multi-modalities using a hybrid deep learning model on social media",
          "understanding and predicting delay in reciprocal relations",
          "a semi-supervised approach to message stance classification",
          "why so inflammatory? explainability in automatic detection of inflammatory social media users",
          "on the identifiability of the influence model for stochastic spatiotemporal spread processes",
          "author2vec: a framework for generating user embedding",
          "social community-aware content placement in wireless device-to-device communication networks",
          "new methods to generate massive synthetic networks",
          "a bayesian and machine learning approach to estimating influence model parameters for im-ro",
          "the healthy states of america: creating a health taxonomy with social media",
          "online influence maximization under the independent cascade model with node-level feedback",
          "segregation in religion networks",
          "mining reaction and diffusion dynamics in social activities",
          "metapriv: acting in favor of privacy on social media platforms",
          "coevolution spreading in complex networks",
          "restricted black-box adversarial attack against deepfake face swapping",
          "hate speech detection using static bert embeddings",
          "the digital architectures of social media: comparing political campaigning on facebook, twitter, instagram, and snapchat in the 2016 u.s. election",
          "impact of social media posts in real life violence: a case study in bangladesh",
          "mining urban lifestyles: urban computing, human behavior and recommender systems",
          "network topology inference from spectral templates",
          "lexical analysis of automated accounts on twitter",
          "combating the elsagate phenomenon: deep learning architectures for disturbing cartoons",
          "challenges in community resilience planning and opportunities with simulation modeling",
          "extracting feelings of people regarding covid-19 by social network mining",
          "implicit crowdsourcing for identifying abusive behavior in online social networks",
          "graph representation learning via graphical mutual information maximization",
          "team yao at factify 2022: utilizing pre-trained models and co-attention networks for multi-modal fact verification",
          "political elections under (social) fire? analysis and detection of propaganda on twitter",
          "understanding public opinion on using hydroxychloroquine for covid-19 treatment via social media",
          "an analysis of community structure in brazilian political topic-based twitter networks",
          "entropy-enhanced multimodal attention model for scene-aware dialogue generation",
          "on multi-cascade influence maximization: model, hardness and algorithmic framework",
          "multi-modal attention network for stock movements prediction",
          "an energy conserving routing scheme for wireless body sensor nanonetwork communication",
          "anatomy of a stablecoin's failure: the terra-luna case",
          "nhad: neuro-fuzzy based horizontal anomaly detection in online social networks",
          "inferring structural characteristics of networks with strong and weak ties from fixed-choice surveys",
          "reducing seed bias in respondent-driven sampling by estimating block transition probabilities",
          "role of artificial intelligence in detection of hateful speech for hinglish data on social media",
          "study of the usability of linkedin: a social media platform meant to connect employers and employees",
          "a systematic identification and analysis of scientists on twitter",
          "detecting offensive language on social networks: an end-to-end detection method based on graph attention networks",
          "improved forecasting of cryptocurrency price using social signals",
          "detection of propaganda techniques in visuo-lingual metaphor in memes",
          "characterizing the spread of exaggerated news content over social media",
          "viewpoint discovery and understanding in social networks",
          "covid19-hpsmp: covid-19 adopted hybrid and parallel deep information fusion framework for stock price movement prediction",
          "a unified seeding framework",
          "improving latent user models in online social media",
          "the social bow tie",
          "leveraging tagging and rating for recommendation: rmf meets weighted diffusion on tripartite graphs",
          "divided we rule: influencer polarization on twitter during political crises in india",
          "beyond performance metrics: examining a decrease in students' physics self-efficacy through a social network lens",
          "quantification of the propagation of rumors on social media",
          "retweet-bert: political leaning detection using language features and information diffusion on social networks",
          "social dynamics of financial networks",
          "multimodal deep learning framework for image popularity prediction on social media",
          "winning the competition: enhancing counter-contagion in sis-like epidemic processes",
          "infringement of tweets geo-location privacy: an approach based on graph convolutional neural networks",
          "generating cyber threat intelligence to discover potential security threats using classification and topic modeling",
          "an emotion-aware multi-task approach to fake news and rumour detection using transfer learning",
          "affective polarization in online climate change discourse on twitter",
          "a multilevel clustering technique for community detection",
          "graph representation learning for popularity prediction problem: a survey",
          "restoration of user videos shared on social media",
          "ossint - open source social network intelligence an efficient and effective way to uncover \"private\" information in osn profiles",
          "sars-cov-2 dissemination using a network of the united states counties",
          "modelling social context for fake news detection: a graph neural network based approach",
          "heterogeneous continuous time random walks",
          "transformer-graph neural network with global-local attention for multimodal rumour detection with knowledge distillation",
          "estimating emotion contagion on social media via localized diffusion in dynamic graphs",
          "surveying the research on fake news in social media: a tale of networks and language",
          "including images into message veracity assessment in social media",
          "question identification in arabic language using emotional based features",
          "coupon advertising in online social systems: algorithms and sampling techniques",
          "fitting in and breaking up: a nonlinear version of coevolving voter models",
          "complex contagions with timers",
          "contrastive learning of emoji-based representations for resource-poor languages",
          "peopletraffic: a common framework for harmonizing privacy and epidemic risks",
          "simple attention-based representation learning for ranking short social media posts",
          "a deep learning approach for detecting traffic accidents from social media data",
          "integrating boundary assembling into a dnn framework for named entity recognition in chinese social media text",
          "topology reveals universal features for network comparison",
          "cognitive analysis of security threats on social networking services: slovakia in need of stronger action",
          "anatomy of an online misinformation network",
          "the structure of online social networks mirror those in the offline world",
          "competing local and global interactions in social dynamics: how important is the friendship network?",
          "graph-based methods for discrete choice",
          "privacy-driven access control in social networks by means of automatic semantic annotation",
          "what's in a name? understanding profile name reuse on twitter",
          "an event detection technique using social media data",
          "a multitask deep learning approach for user depression detection on sina weibo",
          "three prophylactic interventions to counter fake news on social media",
          "a human dimension of hacking: social engineering through social media",
          "automatic sexism detection with multilingual transformer models",
          "exploiting deep learning for persian sentiment analysis",
          "ntulm: enriching social media text representations with non-textual units",
          "distributed rumor blocking with multiple positive cascades",
          "textrolls: identifying russian trolls on twitter from a textual perspective",
          "collaborative inference of coexisting information diffusions",
          "strategies and influence of social bots in a 2017 german state election - a case study on twitter",
          "semantic property graph for scalable knowledge graph analytics",
          "a structured approach to predicting image enhancement parameters",
          "latte: application oriented social network embedding",
          "network science predicts who dies next in game of thrones",
          "event extraction based on deep learning in food hazard arabic texts",
          "continual distributed learning for crisis management",
          "investigating dissemination of scientific information on twitter: a study of topic networks in opioid publications",
          "modeling aggression propagation on social media",
          "on the fairness of time-critical influence maximization in social networks",
          "the impact of social media presence and board member composition on new venture success: evidences from vc-backed u.s. startups",
          "adjustable reach in a network centrality based on current flows",
          "weak ties strengthen anger contagion in social media",
          "directionality reduces the impact of epidemics in multilayer networks",
          "social politics: agenda setting and political communication on social media",
          "topology comparison of twitter diffusion networks effectively reveals misleading information",
          "diffusion of new products with recovering consumers",
          "uncovering flaming events on news media in social media",
          "exploring the effects of activity-preserving time dilation on the dynamic interplay of airborne contagion processes and temporal networks using an interaction-driven model",
          "robust training of social media image classification models for rapid disaster response",
          "user blocking considered harmful? an attacker-controllable side channel to identify social accounts",
          "bi-directional recurrent neural ordinary differential equations for social media text classification",
          "towards scalable network delay minimization",
          "did state-sponsored trolls shape the 2016 us presidential election discourse? quantifying influence on twitter",
          "burstiness and tie reinforcement in time varying social networks",
          "network refinement: a unified framework for enhancing signal or removing noise of networks",
          "post quantum cryptography: readiness challenges and the approaching storm",
          "why do cascade sizes follow a power-law?",
          "cross-lingual capsule network for hate speech detection in social media",
          "signed graph diffusion network",
          "how mobility patterns drive disease spread: a case study using public transit passenger card travel data",
          "real-time detection of content polluters in partially observable twitter networks",
          "small coverage effect in epidemic network models shows that masks can become more effective with less people wearing them",
          "characterizing user susceptibility to covid-19 misinformation on twitter",
          "when the umpire is also a player: bias in private label product recommendations on e-commerce marketplaces",
          "predictive linguistic cues for fake news: a societal artificial intelligence problem",
          "exploring the antecedents of consumer confidence through semantic network analysis of online news",
          "adult content in social live streaming services: characterizing deviant users and relationships",
          "network-based fake news detection: a pattern-driven approach",
          "spatial-temporal frequency forgery clue for video forgery detection in vis and nir scenario",
          "improved approximation factor for adaptive influence maximization via simple greedy strategies",
          "personalized word representations carrying personalized semantics learned from social network posts",
          "motivations and expectations for virtual gift-giving in douyin live streams",
          "the effect of heterogeneity on hypergraph contagion models",
          "pairwise link prediction",
          "public wisdom matters! discourse-aware hyperbolic fourier co-attention for social-text classification",
          "continuous profit maximization: a study of unconstrained dr-submodular maximization",
          "an efficient randomized algorithm for rumor blocking in online social networks",
          "social bots for online public health interventions",
          "deep learning benchmarks and datasets for social media image classification for disaster response",
          "the quoter model: a paradigmatic model of the social flow of written information",
          "quantifying the structure of controversial discussions with unsupervised methods: a look into the twitter climate change conversation",
          "resilient consensus for multi-agent systems under adversarial spreading processes",
          "the mechanisms of self-organised criticality in social processes of knowledge creation",
          "qsan: a quantum-probability based signed attention network for explainable false information detection",
          "social value and information quality in online health information search",
          "a general definition of network communities and the corresponding detection algorithm",
          "epidemic sir model on a face-to-face interaction network: new mobility induced phase transitions",
          "jointly embedding the local and global relations of heterogeneous graph for rumor detection",
          "detecting medical misinformation on social media using multimodal deep learning",
          "as long as you talk about me: the importance of family firm brands and the contingent role of family-firm identity",
          "an adaptive bounded-confidence model of opinion dynamics on networks",
          "sarcasm detection framework using emotion and sentiment features",
          "hashtag-centric immersive search on social media",
          "um sistema de aquisição e análise de dados para extração de conhecimento da plataforma ebit",
          "an agent-based model for emotion contagion and competition in online social media",
          "a pipeline for graph-based monitoring of the changes in the information space of russian social media during the lockdown",
          "caching structures for distributed data management in p2p-based social networks",
          "deepc2: ai-powered covert command and control on osns",
          "multi-winner election control via social influence",
          "identification of social-media platform of videos through the use of shared features",
          "multi-dimensional racism classification during covid-19: stigmatization, offensiveness, blame, and exclusion",
          "k-core structure of real multiplex networks",
          "how many tweets dowe need?: efficient mining of short-term polarized topics on twitter: a case study from japan",
          "understanding political polarization via jointly modeling users, connections and multimodal contents on heterogeneous graphs",
          "zoom-rnn: a novel method for person recognition using recurrent neural networks",
          "lobo -- evaluation of generalization deficiencies in twitter bot classifiers",
          "stochastic win-stay-lose-shift strategy with dynamic aspirations in evolutionary social dilemmas",
          "branching process with attack: viral competing markets",
          "utcnn: a deep learning model of stance classificationon on social media text",
          "a fast, compact, accurate model for language identification of codemixed text",
          "startupbr: higher education's influence on social networks and entrepreneurship in brazil",
          "graph-based normalizing flow for human motion generation and reconstruction",
          "opinion dynamics with backfire effect and biased assimilation",
          "designing weighted and multiplex networks for deep learning user geolocation in twitter",
          "a correspondence analysis framework for author-conference recommendations",
          "online caching with optimistic learning",
          "global misinformation spillovers in the online vaccination debate before and during covid-19",
          "early warning of covid-19 hotspots using mobility of high risk users from web search queries",
          "gudie: a flexible, user-defined method to extract subgraphs of interest from large graphs",
          "identifying the\nk\nbest targets for an advertisement campaign via online social networks",
          "shallow reading with deep learning: predicting popularity of online content using only its title",
          "analyzing digital politics: challenges and experiments in a dual perspective",
          "public discourse and social network echo chambers driven by socio-cognitive biases",
          "fakedetector: effective fake news detection with deep diffusive neural network",
          "improving the explainability of neural sentiment classifiers via data augmentation",
          "evidence of complex contagion of information in social media: an experiment using twitter bots",
          "reducing access disparities in networks using edge augmentation",
          "an end-to-end framework to identify pathogenic social media accounts on twitter",
          "disaster tweets classification using bert-based language model",
          "efficiency in truthful auctions via a social network",
          "from social netizens to data citizens: variations of gdpr awareness in 28 european countries",
          "maximising the benefits of an acutely limited number of covid-19 tests",
          "the automatic quasi-clique merger algorithm (aqcm)",
          "news-sharing on twitter reveals emergent fragmentation of media agenda and persistent polarization",
          "probing empirical contact networks by simulation of spreading dynamics",
          "the first large scale collection of diverse hausa language datasets",
          "modelling competitive marketing strategies in social networks",
          "increasing the flow of rumors in social networks by spreading groups",
          "analyzing offline social engagements: an empirical study of meetup events related to software development",
          "the effect of sociocultural variables on sarcasm communication online",
          "variation across scales: measurement fidelity under twitter data sampling",
          "migration patterns, friendship networks, and the diaspora: the potential of facebook social connectedness index to anticipate displacement patterns induced by russia invasion of ukraine in the european union",
          "expertise and confidence explain how social influence evolves along intellective tasks",
          "improving fractal pre-training",
          "automatically identifying political ads on facebook: towards understanding of manipulation via user targeting",
          "rapid detection of fast innovation under the pressure of covid-19",
          "flexible imitation suppresses epidemics through better vaccination",
          "post or tweet: lessons from a study of facebook and twitter usage",
          "do you see what i see? capabilities and limits of automated multimedia content analysis",
          "uncovering the dark side of telegram: fakes, clones, scams, and conspiracy movements",
          "covid-19 sentiment analysis via deep learning during the rise of novel cases",
          "determining the veracity of rumours on twitter",
          "opinion manipulation on farsi twitter",
          "how medical crowdfunding helps people? a large-scale case study on waterdrop fundraising",
          "preference enhanced social influence modeling for network-aware cascade prediction",
          "characterizing the use of images in state-sponsored information warfare operations by russian trolls on twitter",
          "sentiment analysis of typhoon related tweets using standard and bidirectional recurrent neural networks",
          "temporal effects on hashtag reuse in twitter: a cognitive-inspired hashtag recommendation approach",
          "assessing individual and community vulnerability to fake news in social networks",
          "gated recurrent neural network approach for multilabel emotion detection in microblogs",
          "detecting radical text over online media using deep learning",
          "krylov subspace approximation for local community detection in large networks",
          "behavioral communities and the atomic structure of networks",
          "continuous detection, rapidly react: unseen rumors detection based on continual prompt-tuning",
          "what propels celebrity follower counts? language use or social connectivity",
          "predicting anti-asian hateful users on twitter during covid-19",
          "match-tensor: a deep relevance model for search",
          "reasoning about complex networks: a logic programming approach",
          "bertuit: understanding spanish language in twitter through a native transformer",
          "iitk at semeval-2020 task 8: unimodal and bimodal sentiment analysis of internet memes",
          "insights into incitement: a computational perspective on dangerous speech on twitter in india",
          "temporal patterns of reciprocity in communication networks",
          "blocking adversarial influence in social networks",
          "independent asymmetric embedding for information diffusion prediction on social networks",
          "a novel formal agent-based simulation modeling framework of an aids complex adaptive system",
          "fake news detection with heterogeneous transformer",
          "humor detection in english-hindi code-mixed social media content : corpus and baseline system",
          "conductance and social capital: modeling and empirically measuring online social influence",
          "inside the right-leaning echo chambers: characterizing gab, an unmoderated social system",
          "from social to epidemic criticality and back",
          "social network analysis of electric vehicles adoption: a data-based approach",
          "bounding the inefficiency of compromise in opinion formation",
          "recurrent graph neural networks for rumor detection in online forums",
          "diffusion geometry of multiplex and interdependent systems",
          "an efficient architecture for predicting the case of characters using sequence models",
          "applying machine learning techniques for caching in edge networks: a comprehensive survey",
          "revisiting information cascades in online social networks",
          "social networks through the prism of cognition",
          "a multimodal model with twitter finbert embeddings for extreme price movement prediction of bitcoin",
          "mulbot: unsupervised bot detection based on multivariate time series",
          "seed selection for information cascade in multilayer networks",
          "social media networks attacks and their preventive mechanisms: a review",
          "a bounded-confidence model of opinion dynamics with heterogeneous node-activity levels",
          "an event correlation filtering method for fake news detection"
         ],
         "legendgroup": "",
         "marker": {
          "color": "#636efa",
          "symbol": "circle"
         },
         "mode": "markers",
         "name": "",
         "showlegend": false,
         "type": "scattergl",
         "x": [
          -23.854642868041992,
          40.03560256958008,
          3.4111506938934326,
          39.11759567260742,
          40.875511169433594,
          5.237941265106201,
          20.818572998046875,
          25.053386688232422,
          49.29352569580078,
          -13.651021003723145,
          27.70184326171875,
          31.924612045288086,
          20.06394386291504,
          36.470420837402344,
          14.341798782348633,
          51.03636169433594,
          -13.637767791748047,
          -54.07981872558594,
          90.52825927734375,
          -6.4685869216918945,
          10.341118812561035,
          -7.046256065368652,
          43.68305587768555,
          56.88093185424805,
          85.53199005126953,
          -21.601333618164062,
          10.471938133239746,
          60.38330078125,
          51.8619270324707,
          69.85724639892578,
          -7.160118103027344,
          -22.758527755737305,
          8.671920776367188,
          -73.2442398071289,
          5.063509464263916,
          -32.31166076660156,
          -69.50267028808594,
          -8.349381446838379,
          -52.07720184326172,
          2.2532031536102295,
          18.660001754760742,
          -61.647247314453125,
          29.344457626342773,
          30.60129737854004,
          41.4351806640625,
          -15.753996849060059,
          7.824828624725342,
          -59.1465950012207,
          -38.95400619506836,
          46.845550537109375,
          16.7696533203125,
          26.4185791015625,
          -20.540868759155273,
          -15.111373901367188,
          -57.735408782958984,
          -43.16169357299805,
          -14.535762786865234,
          -49.53889465332031,
          18.76527976989746,
          73.70489501953125,
          -9.697752952575684,
          1.0126248598098755,
          -29.98845672607422,
          -26.565887451171875,
          5.7502641677856445,
          10.167680740356445,
          54.428348541259766,
          -29.7552490234375,
          -3.906754493713379,
          -23.8413143157959,
          42.10911178588867,
          80.51863098144531,
          -16.513906478881836,
          -15.179803848266602,
          -36.879581451416016,
          -31.643850326538086,
          15.059927940368652,
          46.0662727355957,
          -3.871525526046753,
          -71.97883605957031,
          -41.076107025146484,
          -58.40863037109375,
          -38.05144500732422,
          12.59571361541748,
          18.714794158935547,
          -2.613107919692993,
          -37.259246826171875,
          5.51249361038208,
          16.48186683654785,
          -28.79849624633789,
          5.05539083480835,
          -41.74895095825195,
          42.82229995727539,
          -62.99120330810547,
          35.48688888549805,
          40.2252197265625,
          35.19987869262695,
          71.26277160644531,
          -54.87165451049805,
          31.767454147338867,
          -24.00385093688965,
          39.1414909362793,
          -28.401248931884766,
          -0.013765113428235054,
          -79.13468170166016,
          -38.77947235107422,
          24.31118392944336,
          -65.96668243408203,
          -41.95134735107422,
          12.268062591552734,
          -23.44771385192871,
          -94.20201110839844,
          -56.82889175415039,
          0.18423083424568176,
          44.845184326171875,
          20.201709747314453,
          47.90626907348633,
          -14.156740188598633,
          -55.12809753417969,
          57.39384078979492,
          79.88539123535156,
          16.179885864257812,
          20.10869026184082,
          43.75246047973633,
          28.304922103881836,
          -85.38642120361328,
          -38.208438873291016,
          -58.582435607910156,
          71.97117614746094,
          66.00201416015625,
          73.01863098144531,
          -13.621358871459961,
          -44.08190155029297,
          64.9979248046875,
          77.8453369140625,
          36.041107177734375,
          21.793729782104492,
          -88.61034393310547,
          35.54267883300781,
          -10.48270320892334,
          -0.15830443799495697,
          58.02895736694336,
          1.1563470363616943,
          60.782859802246094,
          1.6562509536743164,
          -24.351783752441406,
          -20.0578670501709,
          -70.86402130126953,
          3.997187852859497,
          -85.56396484375,
          2.6620655059814453,
          66.70669555664062,
          0.03173828125,
          44.20307159423828,
          45.41431427001953,
          -28.79792022705078,
          11.531817436218262,
          11.935647964477539,
          -31.827363967895508,
          73.55469512939453,
          52.54513168334961,
          29.375080108642578,
          -18.58504295349121,
          72.83700561523438,
          65.00108337402344,
          35.64077377319336,
          54.0820198059082,
          -34.74296951293945,
          28.20389747619629,
          -55.00949478149414,
          -10.14906120300293,
          16.951942443847656,
          38.742881774902344,
          7.2305803298950195,
          19.074243545532227,
          -12.749223709106445,
          13.040237426757812,
          -36.99578857421875,
          27.928388595581055,
          7.62408447265625,
          -43.927040100097656,
          -12.521039009094238,
          61.59379577636719,
          -21.11400032043457,
          33.55615997314453,
          74.46553039550781,
          -76.2181396484375,
          30.676496505737305,
          1.3073803186416626,
          -2.5408308506011963,
          -25.604843139648438,
          27.294279098510742,
          -24.392580032348633,
          24.80746841430664,
          -16.31266212463379,
          43.188697814941406,
          30.534732818603516,
          34.78683853149414,
          49.31130599975586,
          -59.836734771728516,
          -30.376422882080078,
          48.065914154052734,
          -67.8827896118164,
          43.2698860168457,
          48.56714630126953,
          77.73343658447266,
          61.31245040893555,
          56.6894645690918,
          -28.132286071777344,
          25.883398056030273,
          2.3535618782043457,
          8.195732116699219,
          -30.28713035583496,
          -56.18294143676758,
          35.06464767456055,
          -50.453548431396484,
          38.094871520996094,
          35.30607223510742,
          36.633304595947266,
          -34.78768539428711,
          -67.52498626708984,
          -21.43330192565918,
          -41.75575637817383,
          -4.512253761291504,
          11.423628807067871,
          12.044288635253906,
          45.838043212890625,
          -28.760478973388672,
          64.65496826171875,
          6.187526702880859,
          -33.54513168334961,
          -8.990900993347168,
          -14.471763610839844,
          23.077198028564453,
          -75.02400970458984,
          29.907970428466797,
          54.61827087402344,
          10.004266738891602,
          -59.83606719970703,
          12.10706901550293,
          -15.938980102539062,
          21.290075302124023,
          -58.175567626953125,
          -6.429122447967529,
          -12.881257057189941,
          -34.692771911621094,
          -87.62332916259766,
          -38.370365142822266,
          61.22615432739258,
          -52.492210388183594,
          26.206872940063477,
          -8.776345252990723,
          -69.77257537841797,
          37.322914123535156,
          -33.08308410644531,
          -21.478975296020508,
          -4.544691562652588,
          21.155160903930664,
          -28.24146842956543,
          37.61294174194336,
          -4.926121234893799,
          38.174007415771484,
          -7.794983386993408,
          -17.944522857666016,
          -23.022493362426758,
          -36.333526611328125,
          30.790945053100586,
          0.4508069157600403,
          -10.000910758972168,
          -19.436670303344727,
          -15.04776382446289,
          -36.189613342285156,
          45.56170654296875,
          69.23258972167969,
          -10.537374496459961,
          9.495176315307617,
          5.127066135406494,
          -47.12678527832031,
          -65.47311401367188,
          -54.7471923828125,
          -37.3726806640625,
          -38.08134460449219,
          -69.76255798339844,
          -6.64194393157959,
          24.409873962402344,
          -49.46292495727539,
          56.15130615234375,
          25.204639434814453,
          -10.804391860961914,
          16.36250877380371,
          13.863399505615234,
          -75.3967056274414,
          -34.65457534790039,
          -23.687105178833008,
          37.97750473022461,
          -67.65601348876953,
          -62.19659423828125,
          -53.668766021728516,
          -37.10822677612305,
          -78.64105987548828,
          56.81401443481445,
          13.153717041015625,
          -26.447452545166016,
          42.84640884399414,
          2.780519723892212,
          42.95221710205078,
          47.28998947143555,
          -91.6569595336914,
          54.86386489868164,
          16.861570358276367,
          67.14942932128906,
          28.291027069091797,
          -33.203155517578125,
          48.20099639892578,
          -34.67557144165039,
          -17.019258499145508,
          -3.333249092102051,
          8.854979515075684,
          -56.6955680847168,
          51.10555648803711,
          -55.621585845947266,
          -86.5623779296875,
          65.13137817382812,
          64.8383560180664,
          -54.19485092163086,
          -23.56032371520996,
          -36.58989715576172,
          -20.83868980407715,
          19.551774978637695,
          24.678424835205078,
          54.33517837524414,
          -42.02510452270508,
          -67.55546569824219,
          32.27480697631836,
          -28.748966217041016,
          2.496079206466675,
          9.728986740112305,
          41.5836067199707,
          29.38909912109375,
          23.43726921081543,
          -71.48861694335938,
          -62.444129943847656,
          1.341428279876709,
          6.235397815704346,
          15.115488052368164,
          80.36875915527344,
          -62.9071159362793,
          -44.168365478515625,
          64.64579772949219,
          -56.75327682495117,
          80.7119369506836,
          -92.43533325195312,
          -7.785181522369385,
          -10.649765968322754,
          -46.48368835449219,
          -23.131826400756836,
          8.711368560791016,
          58.04378890991211,
          -14.676568984985352,
          79.52635192871094,
          71.27185821533203,
          -70.59605407714844,
          -15.188337326049805,
          -41.11936569213867,
          9.359637260437012,
          -48.1173095703125,
          -27.140392303466797,
          2.193227767944336,
          -43.53132247924805,
          -20.1547908782959,
          -68.78740692138672,
          23.591703414916992,
          15.908553123474121,
          -57.5416259765625,
          -31.03304672241211,
          -75.44561004638672,
          -25.022356033325195,
          -2.9201364517211914,
          57.44021224975586,
          35.25554275512695,
          16.838747024536133,
          -66.03742218017578,
          -56.50738525390625,
          33.56272506713867,
          -20.866613388061523,
          -35.37863540649414,
          -72.70880126953125,
          18.652820587158203,
          62.32241439819336,
          43.06907653808594,
          73.00456237792969,
          -7.0638275146484375,
          -8.761218070983887,
          2.6019725799560547,
          12.04254150390625,
          -73.67277526855469,
          37.285072326660156,
          -5.188104152679443,
          -39.9093132019043,
          -3.7021920680999756,
          -37.500221252441406,
          60.60646438598633,
          -14.119572639465332,
          -55.63169479370117,
          30.661523818969727,
          -54.145442962646484,
          -35.38432693481445,
          15.922941207885742,
          29.35146141052246,
          -60.582313537597656,
          34.15036392211914,
          -57.22593307495117,
          -21.96567153930664,
          -37.46857833862305,
          6.335769176483154,
          -35.118186950683594,
          -65.06904602050781,
          27.556222915649414,
          -52.572608947753906,
          17.264249801635742,
          -86.2786865234375,
          9.164724349975586,
          -3.7953338623046875,
          28.577255249023438,
          11.613718032836914,
          18.162574768066406,
          -20.76426887512207,
          20.729137420654297,
          46.97579574584961,
          64.69256591796875,
          38.76174545288086,
          -8.173433303833008,
          8.496373176574707,
          10.573042869567871,
          46.741580963134766,
          -56.78302001953125,
          2.8784708976745605,
          -37.305118560791016,
          48.57582473754883,
          18.162094116210938,
          21.523189544677734,
          28.41402816772461,
          -16.8524169921875,
          -56.558013916015625,
          -7.587553977966309,
          27.463720321655273,
          -28.247961044311523,
          20.114768981933594,
          43.28462600708008,
          -22.6246395111084,
          -10.690909385681152,
          -75.52174377441406,
          -23.671401977539062,
          0.9450366497039795,
          48.9908561706543,
          -3.937134027481079,
          26.23462677001953,
          65.75520324707031,
          -56.583370208740234,
          -71.07410430908203,
          17.260984420776367,
          -25.171510696411133,
          -3.2328875064849854,
          51.51845932006836,
          8.666810989379883,
          67.79480743408203,
          -21.174671173095703,
          -87.05704498291016,
          -16.213314056396484,
          20.588254928588867,
          11.829825401306152,
          31.75105094909668,
          -34.454978942871094,
          -76.04513549804688,
          58.94275665283203,
          -53.54130935668945,
          23.87241554260254,
          54.32716751098633,
          -14.489516258239746,
          -59.76660919189453,
          -25.90070915222168,
          85.20132446289062,
          -64.5120849609375,
          10.431999206542969,
          -11.06047534942627,
          15.764278411865234,
          38.39542007446289,
          4.784411907196045,
          -12.390192985534668,
          -25.91425132751465,
          -18.411712646484375,
          -0.05074944347143173,
          -32.84530258178711,
          8.976813316345215,
          -31.90137481689453,
          21.069656372070312,
          -54.270084381103516,
          -42.15153503417969,
          44.43047332763672,
          11.344564437866211,
          -33.99606704711914,
          -75.735595703125,
          11.710725784301758,
          28.1678409576416,
          42.64337921142578,
          21.590116500854492,
          50.3518180847168,
          0.646430253982544,
          -28.585552215576172,
          -16.126140594482422,
          17.7503604888916,
          -79.80945587158203,
          9.301486015319824,
          -51.373130798339844,
          -5.704010486602783,
          10.024721145629883,
          8.639962196350098,
          6.21347188949585,
          -62.487667083740234,
          31.79159164428711,
          -17.74378204345703,
          -22.013368606567383,
          59.61384963989258,
          27.240707397460938,
          41.82787322998047,
          43.186309814453125,
          74.65592193603516,
          50.282386779785156,
          -75.57038879394531,
          77.44902801513672,
          1.4258967638015747,
          18.506263732910156,
          -15.466919898986816,
          -3.6632285118103027,
          51.02935791015625,
          34.49496078491211,
          44.16096878051758,
          -19.656932830810547,
          38.84588623046875,
          46.76789855957031,
          -35.38195037841797,
          -14.458595275878906,
          13.447514533996582,
          13.661298751831055,
          -28.74205207824707,
          -22.70865821838379,
          -1.8922590017318726,
          -19.581897735595703,
          28.818384170532227,
          10.487534523010254,
          39.83821105957031,
          -57.090755462646484,
          29.926088333129883,
          23.10618782043457,
          53.818824768066406,
          56.22758865356445,
          73.25467681884766,
          57.606197357177734,
          50.29851150512695,
          4.014703273773193,
          62.074951171875,
          -62.230342864990234,
          -7.209399700164795,
          5.701383113861084,
          17.266029357910156,
          31.630088806152344,
          -24.471328735351562,
          -31.151432037353516,
          31.518648147583008,
          -6.1504974365234375,
          -89.50971221923828,
          11.81767463684082,
          -28.59395408630371,
          -17.453189849853516,
          -54.38601303100586,
          -34.2860107421875,
          11.571075439453125,
          -24.30744743347168,
          60.852195739746094,
          7.143636703491211,
          -7.638519287109375,
          -5.064543724060059,
          53.59066390991211,
          -70.22577667236328,
          66.46129608154297,
          2.2530763149261475,
          37.29560470581055,
          24.801616668701172,
          50.83570861816406,
          0.6181693077087402,
          -13.512738227844238,
          -23.330223083496094,
          -28.147708892822266,
          -9.819175720214844,
          2.800018072128296,
          -77.35977935791016,
          19.931915283203125,
          42.72380828857422,
          6.931391716003418,
          -5.990812301635742,
          47.597679138183594,
          47.44618225097656,
          26.395048141479492,
          -13.809588432312012,
          54.081871032714844,
          58.32129669189453,
          19.14194679260254,
          54.207672119140625,
          -7.879641056060791,
          8.694581985473633,
          50.318504333496094,
          -9.933485984802246,
          -21.018613815307617,
          17.543399810791016,
          -5.343774795532227,
          -25.779605865478516,
          30.686817169189453,
          -77.8402099609375,
          -78.41169738769531,
          10.78569507598877,
          -11.642287254333496,
          44.92942428588867,
          -63.414424896240234,
          -70.06234741210938,
          -18.667184829711914,
          44.58578109741211,
          -12.75967788696289,
          -15.026352882385254,
          40.18559265136719,
          -89.14759826660156,
          32.62184143066406,
          48.474796295166016,
          -2.380876302719116,
          -4.405172824859619,
          -13.491073608398438,
          -3.9824721813201904,
          -12.403820991516113,
          -56.03298568725586,
          -28.696857452392578,
          17.695537567138672,
          -21.69055938720703,
          -19.064931869506836,
          -58.574520111083984,
          -74.31458282470703,
          29.054365158081055,
          -11.74552059173584,
          33.64523696899414,
          25.344934463500977,
          17.03192901611328,
          34.651123046875,
          26.056161880493164,
          -32.73548889160156,
          -32.8785400390625,
          -0.9213787913322449,
          -32.44538497924805,
          -51.693389892578125,
          -24.754369735717773,
          -26.13029670715332,
          16.75621223449707,
          -23.114479064941406,
          35.52687072753906,
          14.800362586975098,
          47.8888053894043,
          -24.724435806274414,
          -29.399757385253906,
          20.0919189453125,
          -57.3892822265625,
          50.0777587890625,
          28.507814407348633,
          37.956905364990234,
          -12.303420066833496,
          87.2095718383789,
          -45.725364685058594,
          -67.11801147460938,
          -13.122130393981934,
          63.82140350341797,
          23.20367431640625,
          13.879203796386719,
          37.23543167114258,
          -57.13142013549805,
          16.664718627929688,
          43.25102996826172,
          16.10320281982422,
          81.03961944580078,
          -32.83123016357422,
          -13.375373840332031,
          11.807334899902344,
          23.89378547668457,
          -32.03959655761719,
          -19.397451400756836,
          -23.187162399291992,
          -36.27755355834961,
          48.998287200927734,
          27.157875061035156,
          -41.03597640991211,
          26.68743324279785,
          -59.04899978637695,
          50.75585174560547,
          24.09591293334961,
          16.569957733154297,
          84.8109359741211,
          -59.08719253540039,
          48.85380935668945,
          32.797645568847656,
          51.939056396484375,
          18.39665412902832,
          -60.27593231201172,
          -6.209059238433838,
          36.061561584472656,
          -50.490535736083984,
          -35.321842193603516,
          41.334228515625,
          -0.5153464674949646,
          43.424861907958984,
          -6.5763444900512695,
          11.454997062683105,
          56.42424774169922,
          68.95356750488281,
          -13.361754417419434,
          42.02906036376953,
          -22.58123779296875,
          24.527549743652344,
          -25.436750411987305,
          -25.42210578918457,
          -17.44708824157715,
          10.537285804748535,
          -7.687714099884033,
          -36.622432708740234,
          11.067983627319336,
          -22.795970916748047,
          41.70781707763672,
          28.862266540527344,
          -50.41558074951172,
          -51.80135726928711,
          -61.66639709472656,
          36.95796585083008,
          -24.330596923828125,
          2.311321973800659,
          -69.5180435180664,
          -4.177439212799072,
          51.766841888427734,
          -10.269819259643555,
          41.339019775390625,
          -23.366151809692383,
          -90.09622192382812,
          -17.818756103515625,
          -4.527594566345215,
          60.264060974121094,
          -20.099002838134766,
          -64.60218811035156,
          -27.008203506469727,
          -22.37421417236328,
          -33.221248626708984,
          -23.64154815673828,
          58.19911193847656,
          -73.23876190185547,
          -61.64067077636719,
          41.60340118408203,
          -53.475460052490234,
          0.06681258976459503,
          21.314661026000977,
          -62.48299789428711,
          1.218287706375122,
          42.45380783081055,
          1.928531289100647,
          -59.00553894042969,
          -70.3761978149414,
          -78.59693145751953,
          13.878053665161133,
          -12.14551830291748,
          -20.57166862487793,
          -45.173519134521484,
          -11.512231826782227,
          -32.595481872558594,
          43.693023681640625,
          -48.35458755493164,
          58.805908203125,
          -42.143943786621094,
          40.37184143066406,
          51.367591857910156,
          -36.922576904296875,
          47.915672302246094,
          -33.29466247558594,
          36.80110168457031,
          56.60698699951172,
          -65.04357147216797,
          3.062448740005493,
          -32.988773345947266,
          60.456512451171875,
          36.9559211730957,
          33.91826248168945,
          -1.9457110166549683,
          42.9608039855957,
          -41.09816360473633,
          15.325764656066895,
          50.80195617675781,
          52.537696838378906,
          -0.20267178118228912,
          -0.5900367498397827,
          -23.210956573486328,
          -61.167667388916016,
          -30.90226173400879,
          -70.47357940673828,
          25.521053314208984,
          25.190561294555664,
          -35.54275131225586,
          59.73726272583008,
          12.687994956970215,
          43.815399169921875,
          32.84228515625,
          57.341041564941406,
          -13.471288681030273,
          39.815799713134766,
          31.914386749267578,
          13.09803581237793,
          -42.78766632080078,
          -56.34339141845703,
          -23.376832962036133,
          -48.41145706176758,
          -48.17821502685547,
          28.16063690185547,
          24.741500854492188,
          -21.987998962402344,
          -26.04379653930664,
          -74.62736511230469,
          9.559222221374512,
          -82.11615753173828,
          32.68881607055664,
          44.64164733886719,
          -68.82987213134766,
          63.65774154663086,
          -12.488203048706055,
          -38.76813507080078,
          -55.905887603759766,
          27.15043067932129,
          7.873022079467773,
          -7.93189001083374,
          29.81138038635254,
          25.892370223999023,
          15.118022918701172,
          25.27253532409668,
          60.53227615356445,
          34.326534271240234,
          -49.44822692871094,
          48.53370666503906,
          70.98030853271484,
          -42.53213119506836,
          -33.23396682739258,
          2.276378631591797,
          50.442100524902344,
          -38.79026412963867,
          50.17864227294922,
          36.627838134765625,
          -23.036836624145508,
          -21.02509117126465,
          37.32428741455078,
          -26.202102661132812,
          54.21092987060547,
          -13.478813171386719,
          85.1230697631836,
          -70.1861343383789,
          19.534456253051758,
          -3.40358829498291,
          -27.748443603515625,
          -25.611249923706055,
          82.62149047851562,
          8.656062126159668,
          4.4939374923706055,
          23.921466827392578,
          -62.49354934692383,
          42.53029251098633,
          -37.7362174987793,
          21.033018112182617,
          40.60334396362305,
          37.86479187011719,
          -26.356834411621094,
          -36.603763580322266,
          54.36250305175781,
          46.37129592895508,
          -36.75428771972656,
          -84.60302734375,
          -7.213093280792236,
          16.78217315673828,
          -16.93907928466797,
          44.088348388671875,
          -76.20917510986328,
          56.59726333618164,
          21.428150177001953,
          70.47183227539062,
          -70.25952911376953,
          -0.7474709153175354,
          -22.97958755493164,
          -54.704124450683594,
          20.694734573364258,
          -88.92174530029297,
          24.83138084411621,
          -63.098758697509766,
          -19.891490936279297,
          -66.11129760742188,
          67.80155944824219,
          25.328449249267578,
          -58.4089469909668,
          -2.9767251014709473,
          -4.388877868652344,
          -45.11357116699219,
          -21.30467987060547,
          34.25829315185547,
          -30.92178726196289,
          -8.298019409179688,
          35.943233489990234,
          -45.45293426513672,
          13.156098365783691,
          -9.767845153808594,
          67.67601013183594,
          -2.022357702255249,
          -28.484209060668945,
          -24.028959274291992,
          -79.59037780761719,
          49.74180603027344,
          16.085742950439453,
          -11.807568550109863,
          74.48748779296875,
          -9.43952465057373,
          -34.28833770751953,
          17.91899871826172,
          -72.28553771972656,
          -54.739410400390625,
          8.005010604858398,
          -7.3472514152526855,
          -48.996368408203125,
          79.66938018798828,
          -57.68644714355469,
          11.827187538146973,
          64.3607177734375,
          50.85670471191406,
          -58.66215133666992,
          -49.53727340698242,
          -54.12791442871094,
          11.782536506652832,
          18.67611312866211,
          -25.346294403076172,
          -12.628310203552246,
          35.23699188232422,
          25.912464141845703,
          -43.21467208862305,
          -59.45576477050781,
          34.4509162902832,
          34.23675537109375,
          8.728679656982422,
          -10.40570068359375,
          21.49058723449707,
          -55.00345993041992,
          -11.766153335571289,
          -28.245445251464844,
          -14.964759826660156,
          -50.25093460083008,
          76.74871063232422,
          9.686681747436523,
          76.98573303222656,
          46.776695251464844,
          25.530546188354492,
          -48.48427963256836,
          0.3112849295139313,
          -55.62178421020508,
          48.07017517089844,
          -91.03050994873047,
          -73.26912689208984,
          12.89510440826416,
          11.000285148620605,
          74.11724090576172,
          -70.75948333740234,
          -28.514549255371094,
          -36.14180374145508,
          3.9765231609344482,
          36.76354217529297,
          39.25300216674805,
          11.785272598266602,
          28.18768310546875,
          -70.46784210205078,
          21.578271865844727,
          36.97642517089844,
          -5.689547061920166,
          11.741436958312988,
          -7.976399898529053,
          -37.9977912902832,
          -42.08548355102539,
          50.82231903076172,
          47.03951644897461,
          65.68775177001953,
          -10.383296966552734,
          -82.10823822021484,
          -1.3645097017288208,
          29.86702537536621,
          -25.199752807617188,
          -35.247859954833984,
          5.568917751312256,
          19.20783233642578,
          -60.782814025878906,
          -24.10316276550293,
          -5.636606216430664,
          31.628225326538086,
          -6.963607311248779,
          30.40476417541504,
          -20.734006881713867,
          61.052223205566406,
          -18.520483016967773,
          -9.88587760925293,
          21.506851196289062,
          -22.892641067504883,
          -2.8005573749542236,
          -89.71282196044922,
          34.22526168823242,
          -25.27199935913086,
          -37.37152862548828,
          49.681514739990234,
          -68.42976379394531,
          5.767890453338623,
          11.612491607666016,
          -43.30730056762695,
          -8.622175216674805,
          48.39039993286133,
          -36.04973602294922,
          58.36457824707031,
          5.850482940673828,
          -33.25540542602539,
          37.84138870239258,
          11.94615364074707,
          -13.937346458435059,
          -76.94657135009766,
          28.93859100341797,
          14.294838905334473,
          -59.94343948364258,
          -50.49248123168945,
          -3.6199607849121094,
          6.072886943817139,
          -13.361734390258789,
          -57.99749755859375,
          80.37721252441406,
          5.738363742828369,
          16.339885711669922,
          43.81019592285156,
          42.49968719482422,
          43.239166259765625,
          17.317602157592773,
          13.579325675964355,
          -39.31303405761719,
          46.36663818359375,
          11.757862091064453,
          -4.599179267883301,
          -19.46573829650879,
          78.1137924194336,
          12.025640487670898,
          7.5240020751953125,
          -55.040130615234375,
          -41.313987731933594,
          0.7603428363800049,
          -64.14370727539062,
          -36.78691101074219,
          -7.460131645202637,
          -3.486396074295044,
          -22.923248291015625,
          -54.191429138183594,
          68.67717742919922,
          -13.472043991088867,
          55.755306243896484,
          48.03693389892578,
          61.9505615234375,
          37.05500030517578,
          -29.966209411621094,
          13.330028533935547,
          -21.437368392944336,
          -48.545372009277344,
          15.8955717086792,
          -1.8873472213745117,
          1.8210505247116089,
          56.9769401550293,
          -0.16349413990974426,
          -54.307586669921875,
          -26.257003784179688,
          -5.819813251495361,
          -2.6235575675964355,
          78.08135986328125,
          38.52248001098633,
          -63.10251998901367,
          -53.10885238647461,
          -3.6647095680236816,
          -10.41159725189209,
          25.65216064453125,
          29.83686065673828,
          -3.2032113075256348,
          -90.23589324951172,
          0.4571164548397064,
          46.392677307128906,
          34.63227844238281,
          1.8483452796936035,
          -58.495452880859375,
          -56.32297134399414,
          12.12492561340332,
          -88.25914001464844,
          -86.87190246582031,
          -2.4396345615386963,
          23.512714385986328,
          13.801292419433594,
          17.81521987915039,
          36.19114303588867,
          -28.78422737121582,
          -0.5403147339820862,
          16.56431007385254,
          -10.364407539367676,
          27.62517738342285,
          27.333751678466797,
          73.14116668701172,
          -35.61311340332031,
          -34.250064849853516,
          24.03641128540039,
          -27.578716278076172,
          -48.525753021240234,
          -56.39643859863281,
          -45.21257400512695,
          78.58905029296875,
          -33.583717346191406,
          -32.03432846069336,
          18.377788543701172,
          -45.453792572021484,
          3.9765641689300537,
          48.45044708251953,
          12.299751281738281,
          -8.866917610168457,
          -22.253765106201172,
          -4.115915298461914,
          52.699806213378906,
          72.4912338256836,
          -38.52399444580078,
          -28.66611671447754,
          60.13515090942383,
          -4.438684940338135,
          60.589820861816406,
          41.36399841308594,
          60.94218826293945,
          59.7108154296875,
          19.752206802368164,
          -79.2723617553711,
          -32.70620346069336,
          48.22468948364258,
          2.7407867908477783,
          4.527042865753174,
          61.21721649169922,
          -28.40611457824707,
          77.50454711914062,
          -21.05218505859375,
          -8.585110664367676,
          83.7430419921875,
          -20.148277282714844,
          39.17219161987305,
          -69.8057861328125,
          -9.298797607421875,
          -46.56317901611328,
          -79.5091781616211,
          -3.5121631622314453,
          -37.32390594482422,
          -51.93933868408203,
          -15.674835205078125,
          46.434730529785156,
          15.353480339050293,
          49.32093811035156,
          -13.438211441040039,
          -71.7730484008789,
          -2.4236996173858643,
          35.19218063354492,
          43.83442306518555,
          22.2278995513916,
          46.59128952026367,
          56.88310623168945,
          38.0307502746582,
          40.29407501220703,
          -8.891406059265137,
          28.471593856811523,
          -9.114761352539062,
          3.0532991886138916,
          22.562665939331055,
          16.279254913330078,
          62.004913330078125,
          -44.99698257446289,
          -48.02191925048828,
          12.430855751037598,
          21.28446388244629,
          21.573179244995117,
          -25.180130004882812,
          -23.888940811157227,
          27.428794860839844,
          28.7529239654541,
          77.72075653076172,
          21.31410789489746,
          -9.281007766723633,
          52.88753128051758,
          77.31794738769531,
          -1.5091056823730469,
          -27.174808502197266,
          14.54675579071045,
          56.13786697387695,
          46.056705474853516,
          7.66134786605835,
          -17.333816528320312,
          -73.2532730102539,
          26.59813117980957,
          3.2241170406341553,
          -14.209085464477539,
          17.355287551879883,
          -69.84920501708984,
          -26.757545471191406,
          -33.385498046875,
          -28.214887619018555,
          5.057591915130615,
          -46.37228775024414,
          33.77418518066406,
          8.963072776794434,
          64.863037109375,
          -10.471640586853027,
          -22.048322677612305,
          78.28888702392578,
          15.13319206237793,
          12.127007484436035,
          -63.38572311401367,
          -56.453163146972656,
          -18.459104537963867,
          -20.56846046447754,
          -23.50525665283203,
          45.001312255859375,
          -35.894126892089844,
          -12.06772518157959,
          79.98625946044922,
          -35.752769470214844,
          76.7563705444336,
          -16.634601593017578,
          12.580543518066406,
          17.764158248901367,
          -41.65147018432617,
          63.974510192871094,
          -5.351225852966309,
          -52.082942962646484,
          72.53522491455078,
          -25.627058029174805,
          9.710892677307129,
          48.21339797973633,
          30.82293701171875,
          -3.245657444000244,
          74.17977142333984,
          -8.865386962890625,
          35.98893356323242,
          -24.39507293701172,
          -43.65308380126953,
          -27.262269973754883,
          34.15153121948242,
          -16.766141891479492,
          -56.72590255737305,
          -36.834041595458984,
          17.516977310180664,
          32.432281494140625,
          -35.88725662231445,
          -43.70807647705078,
          -8.012332916259766,
          -4.578836441040039,
          74.47486114501953,
          -56.598209381103516,
          -21.953710556030273,
          -21.879215240478516,
          -88.68987274169922,
          67.27183532714844,
          14.674087524414062,
          57.39318084716797,
          70.08551025390625,
          26.663232803344727,
          30.3591365814209,
          -54.81257247924805,
          14.419951438903809,
          -63.77424240112305,
          84.68914031982422,
          23.297693252563477,
          -10.140580177307129,
          -2.2835164070129395,
          -27.08744239807129,
          50.37826919555664,
          -13.990988731384277,
          -20.09943389892578,
          43.6207275390625,
          7.61541748046875,
          10.978970527648926,
          -8.562898635864258,
          84.76497650146484,
          -83.14595031738281,
          -7.172627925872803,
          47.15278625488281,
          56.154239654541016,
          11.976120948791504,
          5.0009989738464355,
          -33.99216842651367,
          -48.518985748291016,
          27.985143661499023,
          -31.389938354492188,
          -10.345633506774902,
          52.793922424316406,
          -20.92282485961914,
          -37.91775131225586,
          61.71123123168945,
          60.92120361328125,
          -9.265554428100586,
          -11.715963363647461,
          60.39091110229492,
          -2.752638816833496,
          49.772491455078125,
          -56.6910514831543,
          -58.061500549316406,
          -42.445377349853516,
          27.3134765625,
          7.638128757476807,
          -66.98910522460938,
          27.337604522705078,
          12.96277904510498,
          8.73291015625,
          0.7876417636871338,
          22.143890380859375,
          -11.334108352661133,
          -81.66544342041016,
          -14.199881553649902,
          56.75130844116211,
          16.106542587280273,
          -68.2196273803711,
          -6.095462322235107,
          -47.909183502197266,
          -59.152828216552734,
          -62.69888687133789,
          14.373291969299316,
          -26.491775512695312,
          -44.863121032714844,
          -35.92582321166992,
          20.84839630126953,
          26.305952072143555,
          -42.20709228515625,
          42.24354934692383,
          62.15823745727539,
          -20.201032638549805,
          -19.164657592773438,
          -70.33793640136719,
          -24.538331985473633,
          61.590980529785156,
          10.961920738220215,
          -40.89366149902344,
          25.913585662841797,
          -32.19906997680664,
          -5.357683181762695,
          31.23282814025879,
          1.8774974346160889,
          39.27875900268555,
          -89.61885070800781,
          -85.3656005859375,
          10.194329261779785,
          33.36178970336914,
          52.87477493286133,
          3.1251471042633057,
          -31.415279388427734,
          -53.51179885864258,
          23.236251831054688,
          8.10611629486084,
          22.49515724182129,
          -25.349403381347656,
          -89.43171691894531,
          -32.04546356201172,
          -18.979944229125977,
          -71.69599914550781,
          -72.310546875,
          -32.29954528808594,
          26.024974822998047,
          37.997283935546875,
          56.12625503540039,
          -30.67878532409668,
          -41.73113250732422,
          -0.06553643196821213,
          -22.165077209472656,
          54.352848052978516,
          -78.15469360351562,
          -76.67274475097656,
          -32.12977981567383,
          60.14644241333008,
          58.367889404296875,
          86.04122924804688,
          14.461134910583496,
          -0.09096306562423706,
          20.78218650817871,
          47.247802734375,
          47.39683532714844,
          4.065960884094238,
          -17.079769134521484,
          13.012934684753418,
          -10.630270957946777,
          -74.71429443359375,
          -22.758373260498047,
          -40.96757507324219,
          -8.294919967651367,
          -29.185474395751953,
          38.40425109863281,
          0.5599138736724854,
          20.340444564819336,
          49.57160949707031,
          8.087427139282227,
          -6.351351737976074,
          -45.692649841308594,
          37.584049224853516,
          10.57237434387207,
          -1.5443320274353027,
          78.5751724243164,
          79.57049560546875,
          8.93746566772461,
          16.981822967529297,
          85.89861297607422,
          -52.37385940551758,
          -4.347018718719482,
          49.58858871459961,
          52.642555236816406,
          51.7179069519043,
          -28.614639282226562,
          -80.44973754882812,
          26.786006927490234,
          -21.75588035583496,
          -13.038386344909668,
          36.317169189453125,
          67.61405181884766,
          -9.972203254699707,
          -24.17348289489746,
          28.923362731933594,
          -6.508395195007324,
          -6.004860877990723,
          -24.7762393951416,
          -2.920402765274048,
          -41.05492401123047,
          11.69066333770752,
          -19.28614044189453,
          14.947921752929688,
          -9.65274429321289,
          53.34954833984375,
          -46.44663619995117,
          -60.898963928222656,
          1.3345601558685303,
          48.13600540161133,
          7.159412860870361,
          -71.65213775634766,
          10.959178924560547,
          31.5817813873291,
          85.52741241455078,
          10.867142677307129,
          45.89091110229492,
          13.99371337890625,
          -94.19633483886719,
          21.070283889770508,
          -4.472225666046143,
          72.81468200683594,
          -84.19306182861328,
          -45.822105407714844,
          -45.33333969116211,
          50.89461135864258,
          -57.26122283935547,
          -90.84638214111328,
          -17.39635467529297,
          -20.099153518676758,
          51.600337982177734,
          23.096654891967773,
          20.749950408935547,
          -3.3888423442840576,
          -60.4928092956543,
          5.035861968994141,
          -29.395673751831055,
          86.78546905517578,
          55.84421157836914,
          71.70279693603516,
          -4.09127950668335,
          23.279268264770508,
          6.056469440460205,
          7.02691650390625,
          43.603946685791016,
          29.28817367553711,
          -20.436344146728516,
          61.86033248901367,
          -71.41817474365234,
          -12.044032096862793,
          50.31645965576172,
          73.06454467773438,
          70.69441223144531,
          0.7982866168022156,
          38.647769927978516,
          11.740675926208496,
          13.632145881652832,
          -41.96116638183594,
          -5.0264458656311035,
          19.624778747558594,
          56.966552734375,
          -59.97111892700195,
          -56.44599914550781,
          -33.39662170410156,
          30.117271423339844,
          -75.05797576904297,
          -73.73331451416016,
          26.022781372070312,
          12.42395305633545,
          -34.68048095703125,
          -7.604372024536133,
          45.093814849853516,
          -23.50214958190918,
          -70.24551391601562,
          56.760398864746094,
          -53.79905700683594,
          -87.9906005859375,
          54.68889236450195,
          52.24809646606445,
          59.36851501464844,
          -78.27626037597656,
          77.0733413696289,
          0.2246217429637909,
          -3.466306447982788,
          -26.685657501220703,
          31.56532096862793,
          1.1051111221313477,
          54.22408676147461,
          -1.2126039266586304,
          -46.3196907043457,
          -55.293907165527344,
          21.928131103515625,
          28.27520751953125,
          -24.71413230895996,
          -45.604061126708984,
          -2.8181803226470947,
          50.94172286987305,
          36.2901611328125,
          85.92771911621094,
          -62.62664031982422,
          -25.185110092163086,
          -15.145198822021484,
          -35.82622528076172,
          2.7925937175750732,
          16.966075897216797,
          -58.51555633544922,
          -22.513395309448242,
          0.4276927411556244,
          77.96270751953125,
          -31.706727981567383,
          44.4488639831543,
          -54.64313888549805,
          -23.80554962158203,
          53.620819091796875,
          -23.02182960510254,
          -54.010250091552734,
          -80.70408630371094,
          -19.77828598022461,
          -38.38283157348633,
          -35.61330032348633,
          46.67399215698242,
          48.73042297363281,
          1.651180624961853,
          33.4635124206543,
          0.7591683268547058,
          63.10695266723633,
          -70.84282684326172,
          -41.41453552246094,
          6.1746745109558105,
          80.74488067626953,
          43.297019958496094,
          -26.267671585083008,
          -3.417518377304077,
          45.40342330932617,
          -4.2873663902282715,
          74.98986053466797,
          51.835506439208984,
          -43.17736053466797,
          -15.954679489135742,
          44.501468658447266,
          0.4076489508152008,
          -66.73188781738281,
          6.503908634185791,
          -59.0792236328125,
          -54.639671325683594,
          -0.9384613037109375,
          68.25392150878906,
          -38.477699279785156,
          -23.790225982666016,
          -21.093549728393555,
          -69.3034896850586,
          8.901901245117188,
          6.536979675292969,
          32.43927764892578,
          46.10148239135742,
          45.71800231933594,
          21.34435272216797,
          -86.88854217529297,
          72.65218353271484,
          -80.00623321533203,
          -40.868553161621094,
          -26.529052734375,
          -4.546999931335449,
          9.068926811218262,
          -25.799152374267578,
          15.493288040161133,
          -56.316680908203125,
          -35.96795654296875,
          -5.642806053161621,
          -38.06986999511719,
          37.135799407958984,
          57.75544738769531,
          -42.84412384033203,
          -58.56296157836914,
          -62.50027847290039,
          -20.54792594909668,
          -14.1589994430542,
          8.66930866241455,
          -0.12416824698448181,
          74.13671112060547,
          -56.86225128173828,
          33.826393127441406,
          52.2547607421875,
          18.662111282348633,
          21.120729446411133,
          54.51020812988281,
          -49.6456184387207,
          2.4249696731567383,
          21.02156639099121,
          52.11273956298828,
          1.3894274234771729,
          -79.2263412475586,
          35.236454010009766,
          -56.09322738647461,
          -57.27629089355469,
          -24.86825942993164,
          -3.9839518070220947,
          56.834991455078125,
          -18.39064598083496,
          26.28203010559082,
          -56.968502044677734,
          82.60025024414062,
          -10.699259757995605,
          17.428165435791016,
          11.07703685760498,
          79.71028900146484,
          29.099143981933594,
          -2.011631488800049,
          35.21732711791992,
          5.590036392211914,
          -36.1028938293457,
          -4.13661003112793,
          -16.450557708740234,
          58.050750732421875,
          21.342992782592773,
          -8.50140380859375,
          -49.821109771728516,
          -18.385313034057617,
          20.020885467529297,
          1.9562119245529175,
          22.934616088867188,
          13.682316780090332,
          -10.716594696044922,
          21.343063354492188,
          58.783260345458984,
          36.4201774597168,
          -69.54115295410156,
          -53.042030334472656,
          -19.826614379882812,
          -55.74163055419922,
          20.251956939697266,
          -3.4601051807403564,
          -9.550727844238281,
          28.232553482055664,
          -10.31635856628418,
          -25.855958938598633,
          -6.100406646728516,
          70.74302673339844,
          19.86627197265625,
          -19.811037063598633,
          -37.90644454956055,
          -3.3224973678588867,
          35.74991226196289,
          -19.453344345092773,
          -22.866662979125977,
          -0.2246798425912857,
          -4.325305938720703,
          50.656455993652344,
          51.03066635131836,
          13.958900451660156,
          19.84800148010254,
          54.32006072998047,
          27.391172409057617,
          42.79230880737305,
          26.956262588500977,
          -57.73986053466797,
          77.04607391357422,
          16.959346771240234,
          -77.8992691040039,
          8.242169380187988,
          39.93341064453125,
          47.20301818847656,
          -49.05398178100586,
          5.7611212730407715,
          -14.354097366333008,
          -3.676439046859741,
          25.618606567382812,
          26.9339542388916,
          -5.599980354309082,
          23.323993682861328,
          8.259398460388184,
          -55.0611572265625,
          -14.728001594543457,
          50.288536071777344,
          36.2588005065918,
          47.962337493896484,
          -17.413183212280273,
          1.6006832122802734,
          -45.53031539916992,
          -7.253354549407959,
          44.15507888793945,
          51.721961975097656,
          -17.23002815246582,
          -82.10930633544922,
          26.507253646850586,
          50.86558532714844,
          35.3902702331543,
          63.87876892089844,
          -78.34642791748047,
          -41.648643493652344,
          38.23984146118164,
          42.466651916503906,
          18.82118034362793,
          45.55767059326172,
          2.8814921379089355,
          -51.29534149169922,
          -2.605231761932373,
          78.37460327148438,
          -80.36058044433594,
          -1.2211052179336548,
          37.2894172668457,
          3.614769697189331,
          -33.56625747680664,
          -42.22260284423828,
          0.3522387146949768,
          -35.04331588745117,
          -55.71852493286133,
          33.17873764038086,
          -70.33858489990234,
          -7.412485122680664,
          -29.54823112487793,
          43.30951690673828,
          32.14992904663086,
          -18.776874542236328,
          -32.01044845581055,
          -15.242907524108887,
          52.616634368896484,
          47.96300506591797,
          20.050579071044922,
          -4.438915729522705,
          16.0933837890625,
          16.86241340637207,
          58.113075256347656,
          44.76279067993164,
          -83.49362182617188,
          26.5493221282959,
          74.90202331542969,
          15.4383544921875,
          -54.29642105102539,
          -67.47628021240234,
          -43.22551727294922,
          73.55757904052734,
          -5.067550182342529,
          -42.623931884765625,
          -60.217132568359375,
          43.47883224487305,
          82.67059326171875,
          65.18529510498047,
          5.392390727996826,
          33.11780548095703,
          -8.87365436553955,
          -35.45775604248047,
          -46.453712463378906,
          37.44081497192383,
          -19.333330154418945,
          -24.51224708557129,
          1.3302446603775024,
          2.591615676879883,
          17.933063507080078,
          38.98442077636719,
          5.093188285827637,
          0.7974064946174622,
          12.06774616241455,
          6.926390171051025,
          13.149931907653809,
          -68.7542953491211,
          -42.76654052734375,
          87.11490631103516,
          21.485292434692383,
          -57.19191360473633,
          75.19235229492188,
          -11.275794982910156,
          -87.45698547363281,
          -54.69227600097656,
          -37.26335906982422,
          39.96470260620117,
          5.294570446014404,
          24.978731155395508,
          -51.775657653808594,
          12.102340698242188,
          41.494441986083984,
          -6.2091827392578125,
          -46.086116790771484,
          38.75961685180664,
          -26.421606063842773,
          42.9084358215332,
          41.35590744018555,
          -37.00983428955078,
          34.446861267089844,
          55.41886901855469,
          35.692596435546875,
          59.37916946411133,
          -21.045270919799805,
          72.55937194824219,
          -3.2574639320373535,
          -69.34567260742188,
          -35.606197357177734,
          39.840423583984375,
          -19.97758674621582,
          26.807392120361328,
          -10.422836303710938,
          50.73493957519531,
          -51.84891891479492,
          11.104056358337402,
          0.0168316513299942,
          -1.9621723890304565,
          51.37921905517578,
          -5.828187465667725,
          -12.15767765045166,
          -24.595279693603516,
          25.063993453979492,
          1.9638104438781738,
          -8.995739936828613,
          28.479625701904297,
          0.5530264973640442,
          4.644255638122559,
          -70.63018798828125,
          -65.28986358642578,
          19.842578887939453,
          43.15306854248047,
          -25.893510818481445,
          -26.126705169677734,
          72.29911041259766,
          -65.17045593261719,
          -60.698524475097656,
          -51.879981994628906,
          -40.24871063232422,
          23.05475425720215,
          -23.109521865844727,
          -29.02171516418457,
          33.88619613647461,
          46.241539001464844,
          -18.872446060180664,
          -12.930885314941406,
          -8.991613388061523,
          16.852069854736328,
          -6.7637763023376465,
          -15.378727912902832,
          28.138776779174805,
          77.92350006103516,
          -54.0950927734375,
          -65.86378479003906,
          -4.478056907653809,
          7.226166725158691,
          -22.29241180419922,
          -90.9256362915039,
          66.32064819335938,
          49.28404998779297,
          12.820758819580078,
          -23.265892028808594,
          -42.278045654296875,
          -58.78621292114258,
          26.430185317993164,
          -21.378921508789062,
          -29.129602432250977,
          13.431656837463379,
          -17.67962074279785,
          26.081727981567383,
          -11.86130428314209,
          -14.783443450927734,
          -36.34867858886719,
          37.40167236328125,
          -40.61387252807617,
          26.4282169342041,
          31.056447982788086,
          72.47874450683594,
          -60.35772705078125,
          -40.49769592285156,
          62.80390930175781,
          -22.053495407104492,
          -48.56227493286133,
          47.30487823486328,
          -47.46196746826172,
          8.55931282043457,
          23.645143508911133,
          -7.255881309509277,
          -46.35470199584961,
          43.3035888671875,
          -37.27174758911133,
          61.43468475341797,
          24.515037536621094,
          -67.89592742919922,
          18.950349807739258,
          -20.365713119506836,
          10.777255058288574,
          39.332096099853516,
          -9.255261421203613,
          -2.5928008556365967,
          -57.45140838623047,
          -74.81290435791016,
          -21.87641143798828,
          2.0098583698272705,
          -25.192405700683594,
          16.499345779418945,
          24.29057502746582,
          -34.60929489135742,
          -19.986282348632812,
          45.493377685546875,
          -43.927574157714844,
          -24.415300369262695,
          76.91032409667969,
          -36.705074310302734,
          80.11740112304688,
          29.551464080810547,
          12.19384765625,
          42.3850212097168,
          -23.427316665649414,
          -80.27225494384766,
          53.68825912475586,
          -18.915573120117188,
          47.905235290527344,
          -55.88719177246094,
          -37.15536117553711,
          -60.817604064941406,
          -14.390466690063477,
          0.3200027644634247,
          -42.5072135925293,
          21.73369598388672,
          -87.92400360107422,
          -7.8267388343811035,
          33.88617706298828,
          0.8421601057052612,
          4.435276508331299,
          21.702423095703125,
          43.17974853515625,
          60.7791633605957,
          14.309427261352539,
          74.77188110351562,
          -4.14850378036499,
          51.69343948364258,
          -48.7823486328125,
          -52.05994415283203,
          57.38139724731445,
          -22.460580825805664,
          -53.698768615722656,
          -33.6907844543457,
          30.296001434326172,
          -28.01871681213379,
          -11.221851348876953,
          -0.6781978011131287,
          54.58660888671875,
          67.16315460205078,
          5.26328182220459,
          0.7227151393890381,
          16.355796813964844,
          -56.94013595581055,
          -51.95629119873047,
          31.524503707885742,
          -51.548519134521484,
          -15.952714920043945,
          10.525800704956055,
          -18.810850143432617,
          -45.86547088623047,
          -4.032922744750977,
          -48.98676681518555,
          1.1819194555282593,
          -5.657160758972168,
          -19.915571212768555,
          -24.731821060180664,
          -12.876983642578125,
          42.73929214477539,
          -21.50873374938965,
          45.19835662841797,
          -0.8633162379264832,
          -71.0339126586914,
          -26.872005462646484,
          -5.818694591522217,
          -14.124314308166504,
          8.008605003356934,
          72.63794708251953,
          13.853957176208496,
          20.334331512451172,
          24.69648551940918,
          -14.322529792785645,
          -27.317529678344727,
          -25.944562911987305,
          73.62189483642578,
          -72.97178649902344,
          6.803133964538574,
          -2.61618709564209,
          1.724108099937439,
          19.40453338623047,
          -11.157425880432129,
          49.8028450012207,
          12.542851448059082,
          89.96109008789062,
          33.65294647216797,
          -64.54752349853516,
          71.05903625488281,
          16.809051513671875,
          -31.750146865844727,
          -31.109949111938477,
          -4.004906177520752,
          11.727901458740234,
          -41.311710357666016,
          37.612430572509766,
          8.419818878173828,
          19.668020248413086,
          46.087371826171875,
          17.088584899902344,
          -6.111516952514648,
          54.35874557495117,
          34.278446197509766,
          47.9825439453125,
          18.382305145263672,
          23.514812469482422,
          81.46057891845703,
          -41.05549621582031,
          -57.103004455566406,
          17.321714401245117,
          12.961233139038086,
          -23.99308204650879,
          66.9089126586914,
          6.995321273803711,
          41.28117370605469,
          -10.637986183166504,
          -29.512990951538086,
          10.641679763793945,
          -27.930892944335938,
          63.27035903930664,
          -6.006961345672607,
          -57.666343688964844,
          5.836654186248779,
          -21.021724700927734,
          59.97135925292969,
          33.645835876464844,
          34.452823638916016,
          -24.345928192138672,
          -79.79013061523438,
          74.84928894042969,
          -11.956104278564453,
          -34.151119232177734,
          -70.89311981201172,
          -49.90948486328125,
          53.93622970581055,
          34.68780517578125,
          -8.254264831542969,
          43.031620025634766,
          -30.818037033081055,
          25.01582908630371,
          -41.65352249145508,
          -41.55809020996094,
          -28.90172576904297,
          17.813426971435547,
          -2.952662944793701,
          51.19068908691406,
          -56.68783950805664,
          41.84308624267578,
          -62.09840774536133,
          -81.5098648071289,
          3.801166534423828,
          -28.904796600341797,
          -47.058555603027344,
          2.8345017433166504,
          -21.642412185668945,
          -14.787050247192383,
          39.649375915527344,
          -55.00950241088867,
          -56.26906967163086,
          11.45620346069336,
          79.34866333007812,
          2.6722426414489746,
          -57.2420768737793,
          1.401649832725525,
          48.999542236328125,
          8.556344985961914,
          -15.421011924743652,
          24.125932693481445,
          72.2717514038086,
          -37.68856430053711,
          -8.370097160339355,
          -80.44766998291016,
          12.723221778869629,
          -27.7805233001709,
          58.05712890625,
          4.051708698272705,
          64.2447280883789,
          -25.43064308166504,
          11.230931282043457,
          57.84156036376953,
          28.90727424621582,
          15.228569984436035,
          -13.603219985961914,
          1.8899071216583252,
          64.66127014160156,
          8.824797630310059,
          73.98644256591797,
          46.69227600097656,
          40.09950256347656,
          1.628220558166504,
          -10.868496894836426,
          60.57737731933594,
          67.18610382080078,
          74.64527130126953,
          34.36369323730469,
          48.13227462768555,
          26.44794464111328,
          -0.0358230285346508,
          20.61172103881836,
          2.8863203525543213,
          11.773701667785645,
          57.60734939575195,
          9.682034492492676,
          18.038814544677734,
          -6.054956436157227,
          -87.86540985107422,
          24.737958908081055,
          -17.393281936645508,
          50.31056594848633,
          42.84383010864258,
          -19.704805374145508,
          22.57304573059082,
          53.90011978149414,
          -30.62296485900879,
          -49.478858947753906,
          13.854580879211426,
          47.65577697753906,
          12.846985816955566,
          -78.15299224853516,
          -79.23323822021484,
          -18.249555587768555,
          2.3062825202941895,
          -58.30113983154297,
          44.113529205322266,
          -9.137040138244629,
          21.504573822021484,
          -71.57777404785156,
          -10.185029983520508,
          40.967044830322266,
          83.86367797851562,
          9.558834075927734,
          -40.04233169555664,
          -75.61871337890625,
          44.272857666015625,
          -63.460636138916016,
          33.926292419433594,
          -4.059593677520752,
          -30.82969093322754,
          -1.4533218145370483,
          -24.271648406982422,
          -46.4452018737793,
          -9.348037719726562,
          -28.19101333618164,
          -32.359588623046875,
          46.967063903808594,
          32.217891693115234,
          16.876502990722656,
          18.450002670288086,
          13.058869361877441,
          -21.328195571899414,
          50.06133270263672,
          12.78825569152832,
          22.622600555419922,
          -25.663095474243164,
          18.53120231628418,
          -36.78041458129883,
          4.9907002449035645,
          65.07176208496094,
          12.218454360961914,
          61.51045608520508,
          87.27176666259766,
          50.23179626464844,
          26.533044815063477,
          76.22045135498047,
          -49.563846588134766,
          1.5166988372802734,
          2.472810745239258,
          17.57984733581543,
          -59.44838333129883,
          -87.39124298095703,
          10.266228675842285,
          -70.07723999023438,
          -9.918246269226074,
          -26.555105209350586,
          50.25749969482422,
          41.019081115722656,
          34.63243865966797,
          -34.16999435424805,
          44.230369567871094,
          25.765586853027344,
          -23.331401824951172,
          -33.711326599121094,
          4.8037614822387695,
          -69.53842163085938,
          -2.29093074798584,
          -35.15324783325195,
          14.01903247833252,
          -32.05768966674805,
          27.064208984375,
          13.530121803283691,
          2.086184501647949,
          -75.74129486083984,
          33.06043243408203,
          -26.482412338256836,
          -24.99420166015625,
          38.61192321777344,
          -57.05678176879883,
          39.74691390991211,
          -14.704572677612305,
          -44.02313232421875,
          4.423965930938721,
          -59.94028854370117,
          -5.388083457946777,
          26.951662063598633,
          9.315617561340332,
          86.67444610595703,
          -43.2175178527832,
          20.90049934387207,
          7.061023712158203,
          11.795389175415039,
          -51.43758773803711,
          -56.088226318359375,
          49.820343017578125,
          4.862501621246338,
          8.177806854248047,
          -8.889126777648926,
          -27.380455017089844,
          37.3350830078125,
          78.58522033691406,
          -21.342700958251953,
          17.087753295898438,
          22.478654861450195,
          -43.01753234863281,
          3.953075408935547,
          2.393293857574463,
          -63.22263717651367,
          -21.997045516967773,
          30.69743537902832,
          -56.917808532714844,
          39.28742599487305,
          51.31371307373047,
          -31.459375381469727,
          -42.41437911987305,
          -2.0946428775787354,
          45.403053283691406,
          -37.2477912902832,
          -54.204551696777344,
          -38.390682220458984,
          7.203852653503418,
          -7.914953231811523,
          19.530994415283203,
          -18.390790939331055,
          47.3583984375,
          -10.113204002380371,
          -54.186737060546875,
          67.13595581054688,
          44.89063262939453,
          -36.011199951171875,
          -27.886253356933594,
          39.67951202392578,
          10.005274772644043,
          24.234193801879883,
          23.405418395996094,
          -51.12043762207031,
          -8.941794395446777,
          48.63383865356445,
          43.4652214050293,
          15.221501350402832,
          -20.1282958984375,
          -58.21434020996094,
          -22.985776901245117,
          -14.407665252685547,
          -59.088706970214844,
          -69.79281616210938,
          38.6700553894043,
          31.335567474365234,
          67.84092712402344,
          1.3806517124176025,
          -38.35238265991211,
          -52.57645034790039,
          2.1170544624328613,
          -72.76456451416016,
          -0.4206244647502899,
          76.45834350585938,
          14.988253593444824,
          -48.034881591796875,
          -47.1370735168457,
          -67.34394073486328,
          -61.96342086791992,
          -3.9793708324432373,
          -26.230777740478516,
          -59.2242317199707,
          -8.396466255187988,
          5.666137218475342,
          27.202091217041016,
          -57.57998275756836,
          -66.40164947509766,
          36.74655532836914,
          81.03718566894531,
          -14.348301887512207,
          -4.695260524749756,
          -60.63665771484375,
          -5.4551286697387695,
          -63.42568588256836,
          89.8315658569336,
          39.96280288696289,
          -24.888212203979492,
          -50.4727668762207,
          -16.74333381652832,
          -1.6556668281555176,
          -67.96443939208984,
          -10.91019058227539,
          77.13604736328125,
          17.43086051940918,
          -2.9798078536987305,
          -49.909637451171875,
          50.886714935302734,
          -30.888914108276367,
          65.41157531738281,
          -56.348567962646484,
          -0.5230163931846619,
          1.4910969734191895,
          26.904033660888672,
          -80.25048828125,
          -10.263057708740234,
          -57.36662292480469,
          -8.429738998413086,
          -51.87710952758789,
          49.68678283691406,
          -23.505619049072266,
          15.260457038879395,
          38.637752532958984,
          -26.219562530517578,
          65.25897216796875,
          10.85527515411377,
          46.664825439453125,
          79.4741439819336,
          -33.141109466552734,
          7.2535200119018555,
          34.55980682373047,
          20.09335708618164,
          61.890132904052734,
          26.577320098876953,
          -43.58161926269531,
          50.71363067626953,
          -6.176770210266113,
          37.48118209838867,
          71.99020385742188,
          45.01804733276367,
          -32.90133285522461,
          23.279277801513672,
          -4.647983074188232,
          12.307990074157715,
          6.3253936767578125,
          -50.1470947265625,
          8.12479305267334,
          26.221099853515625,
          -9.900763511657715,
          -69.76546478271484,
          -20.617530822753906,
          47.89216613769531,
          8.99046516418457,
          11.344058990478516,
          -0.24789778888225555,
          -66.04444122314453,
          9.985087394714355,
          -31.050575256347656,
          19.123624801635742,
          -22.581785202026367,
          23.817447662353516,
          12.737135887145996,
          17.167034149169922,
          -51.9587287902832,
          -32.68169021606445,
          41.79310607910156,
          60.632991790771484,
          13.789677619934082,
          56.26566696166992,
          -39.234928131103516,
          4.722445487976074,
          42.08053970336914,
          62.18820571899414,
          -43.70124053955078,
          53.65145492553711,
          36.77922821044922,
          -86.7903823852539,
          6.11241340637207,
          43.55708694458008,
          62.60697937011719,
          8.365592002868652,
          -55.835880279541016,
          -8.678215026855469,
          1.5709534883499146,
          -8.2966890335083,
          45.88243103027344,
          64.82788848876953,
          75.69915008544922,
          15.594605445861816,
          44.952178955078125,
          -60.33488845825195,
          56.3400993347168,
          -14.635835647583008,
          25.377931594848633,
          16.91233253479004,
          -8.758625984191895,
          45.29299545288086,
          -21.01800537109375,
          -34.121421813964844,
          -0.5600271224975586,
          22.69276237487793,
          66.59112548828125,
          -34.40987777709961,
          45.765323638916016,
          -70.07291412353516,
          -55.27265548706055,
          -19.636905670166016,
          62.243892669677734,
          28.220426559448242,
          -35.69928741455078,
          -48.06861877441406,
          -36.63526153564453,
          39.249507904052734,
          31.979646682739258,
          -78.11612701416016,
          32.695404052734375,
          23.656808853149414,
          -60.40858840942383,
          1.762412667274475,
          66.90687561035156,
          -6.567750930786133,
          12.198801040649414,
          -10.362338066101074,
          -5.6168742179870605,
          -79.59889221191406,
          12.779425621032715,
          -63.855079650878906,
          31.58984375,
          -59.56666946411133,
          -3.309514045715332,
          16.31995391845703,
          0.1266849935054779,
          44.49245071411133,
          -27.087923049926758,
          23.444406509399414,
          -85.95262145996094,
          -43.277565002441406,
          8.041438102722168,
          44.52895736694336,
          -17.034181594848633,
          -5.261157035827637,
          -10.12368106842041,
          -62.47417449951172,
          -17.296798706054688,
          76.9702377319336,
          20.552186965942383,
          49.2720947265625,
          4.268933296203613,
          -45.885555267333984,
          -66.293212890625,
          17.037015914916992,
          -10.55072021484375,
          -36.924591064453125,
          -63.935218811035156,
          -51.44719314575195,
          -25.441608428955078,
          63.97807312011719,
          83.97749328613281,
          -1.2480016946792603,
          -40.92115783691406,
          9.925209045410156,
          16.693775177001953,
          -6.162883281707764,
          8.963863372802734,
          10.97413158416748,
          6.045200347900391,
          -64.69931030273438,
          4.150654315948486,
          0.2804099917411804,
          47.602699279785156,
          4.435311317443848,
          -3.3991568088531494,
          -21.725135803222656,
          -58.04364013671875,
          -55.93180847167969,
          -5.0177435874938965,
          2.8858988285064697,
          -20.9851016998291,
          18.47625160217285,
          -88.22871398925781,
          -31.643949508666992,
          23.949007034301758,
          -39.59572982788086,
          67.60491943359375,
          49.53813552856445,
          60.29829025268555,
          -6.91105842590332,
          -42.089115142822266,
          -69.58003997802734,
          -15.795816421508789,
          -23.083934783935547,
          37.88092041015625,
          0.7468435168266296,
          70.83322143554688,
          -38.656124114990234,
          -12.3528470993042,
          -36.90731430053711,
          -51.1851692199707,
          35.24941635131836,
          -55.15382766723633,
          -21.262813568115234,
          -73.34989929199219,
          62.65534973144531,
          14.036582946777344,
          25.923858642578125,
          -30.909873962402344,
          27.334312438964844,
          24.29743766784668,
          18.773298263549805,
          32.20267105102539,
          -21.833677291870117,
          79.66082000732422,
          -15.801895141601562,
          -52.45443344116211,
          -49.883567810058594,
          -71.90520477294922,
          42.396915435791016,
          -66.75988006591797,
          -19.549150466918945,
          15.124356269836426,
          -65.30467987060547,
          47.42230987548828,
          54.45310592651367,
          6.3170976638793945,
          -3.312687635421753,
          0.33325397968292236,
          57.990760803222656,
          1.8096811771392822,
          58.008453369140625,
          -88.0155258178711,
          -37.696685791015625,
          -73.39686584472656,
          -34.03662109375,
          -16.92127799987793,
          -10.457253456115723,
          17.430553436279297,
          14.993101119995117,
          23.837984085083008,
          73.8210678100586,
          -12.520914077758789,
          -90.19461059570312,
          -83.78311157226562,
          29.40276336669922,
          35.967464447021484,
          74.82530975341797,
          28.784006118774414,
          11.943108558654785,
          -37.917205810546875,
          -57.38184356689453,
          78.3653335571289,
          -10.885333061218262,
          85.34551239013672,
          44.509647369384766,
          -13.993408203125,
          6.341272830963135,
          -19.3480167388916,
          -25.194557189941406,
          6.1236958503723145,
          -37.944950103759766,
          13.636833190917969,
          -33.840065002441406,
          -23.73537254333496,
          2.0049452781677246,
          1.612768530845642,
          59.207122802734375,
          36.28969955444336,
          28.51194190979004,
          26.96063232421875,
          79.46800994873047,
          -82.24272918701172,
          -50.851993560791016,
          13.911346435546875,
          65.07826232910156,
          40.74452590942383,
          -35.34696960449219,
          -37.88796615600586,
          -62.16657638549805,
          -24.79994773864746,
          10.18414306640625,
          30.24583625793457,
          -43.261234283447266,
          -76.89520263671875,
          -52.68378448486328,
          23.0416259765625,
          -49.11709213256836,
          -18.843238830566406,
          -24.18517303466797,
          -12.457128524780273,
          -7.8629021644592285,
          33.16854476928711,
          -53.16590881347656,
          -25.622766494750977,
          -13.748893737792969,
          -11.53298282623291,
          -19.844268798828125,
          33.28239059448242,
          30.889665603637695,
          -28.51038932800293,
          -68.04507446289062,
          -37.48616027832031,
          -11.375798225402832,
          14.822669982910156,
          -51.8915901184082,
          -59.24576187133789,
          -32.20358657836914,
          -40.25349807739258,
          -21.107229232788086,
          79.98609161376953,
          -51.86433792114258,
          -32.136138916015625,
          -35.847007751464844,
          -57.48326110839844,
          -37.23489761352539,
          -57.93165969848633,
          77.27129364013672,
          11.870716094970703,
          -87.20203399658203,
          -18.33382797241211,
          -14.4569673538208,
          16.32318115234375,
          13.779796600341797,
          19.07557487487793,
          16.26149559020996,
          -27.8712215423584,
          -8.70489501953125,
          62.066287994384766,
          -1.0530036687850952,
          -11.718727111816406,
          -63.305320739746094,
          5.715852737426758,
          3.5732178688049316,
          -25.866384506225586,
          -17.369050979614258,
          23.15562629699707,
          32.91936492919922,
          -11.660356521606445,
          18.073322296142578,
          17.180593490600586,
          45.49176025390625,
          -7.007740020751953,
          25.326078414916992,
          -81.55888366699219,
          -5.33329963684082,
          51.735740661621094,
          -4.343866348266602,
          36.270965576171875,
          -67.77196502685547
         ],
         "xaxis": "x",
         "y": [
          23.09756088256836,
          4.388855457305908,
          10.63566780090332,
          48.187591552734375,
          -53.78501892089844,
          -20.323890686035156,
          8.154603958129883,
          2.203007221221924,
          -42.49411392211914,
          -44.0595588684082,
          -31.434843063354492,
          -29.856342315673828,
          -42.81119918823242,
          13.932598114013672,
          35.920021057128906,
          -15.392562866210938,
          -1.8651018142700195,
          7.337661266326904,
          16.406200408935547,
          9.136482238769531,
          62.31803894042969,
          64.42826080322266,
          -8.775944709777832,
          36.77920150756836,
          18.974414825439453,
          34.10005187988281,
          7.100637435913086,
          17.46135711669922,
          52.149993896484375,
          23.62238121032715,
          -49.98832321166992,
          1.9365547895431519,
          -0.9808621406555176,
          -37.598697662353516,
          -50.3752555847168,
          43.57136154174805,
          -12.761383056640625,
          -17.903017044067383,
          1.484130620956421,
          19.983081817626953,
          -71.93865966796875,
          43.5266227722168,
          -9.844450950622559,
          -53.75822067260742,
          -77.8381576538086,
          59.81765365600586,
          -11.515984535217285,
          32.717018127441406,
          -7.786763668060303,
          25.263212203979492,
          63.00637435913086,
          -75.72695922851562,
          -74.76158905029297,
          41.06837844848633,
          6.102974891662598,
          -16.856220245361328,
          58.130088806152344,
          48.905738830566406,
          71.59146118164062,
          16.23443031311035,
          82.64434051513672,
          -12.004400253295898,
          -73.97663879394531,
          68.70471954345703,
          57.37431335449219,
          26.319374084472656,
          49.95857238769531,
          -37.485477447509766,
          11.347057342529297,
          -34.87031173706055,
          -14.272377967834473,
          0.0895063579082489,
          72.48038482666016,
          -78.77726745605469,
          9.566703796386719,
          -35.570640563964844,
          -49.07857894897461,
          70.26907348632812,
          45.4492301940918,
          27.7620906829834,
          -80.25846862792969,
          6.297534942626953,
          12.939929008483887,
          53.86066436767578,
          66.26254272460938,
          0.6764433979988098,
          10.341207504272461,
          -48.09141540527344,
          -22.537429809570312,
          66.06431579589844,
          44.16535568237305,
          49.02035140991211,
          -23.683961868286133,
          45.70320510864258,
          6.259575843811035,
          -8.60258674621582,
          -45.77616882324219,
          26.15618133544922,
          -58.04161071777344,
          -29.205244064331055,
          67.14913177490234,
          50.100284576416016,
          34.38175964355469,
          13.84648609161377,
          -22.30997657775879,
          -8.389142990112305,
          -56.538360595703125,
          -10.076765060424805,
          30.99833106994629,
          -42.81258773803711,
          2.4976840019226074,
          -2.725614547729492,
          50.89439392089844,
          -62.28525161743164,
          44.377197265625,
          1.7137097120285034,
          -15.728845596313477,
          -5.391289710998535,
          -57.95632553100586,
          38.09020233154297,
          -16.814197540283203,
          -84.4869613647461,
          77.25825500488281,
          -7.652806758880615,
          20.657102584838867,
          6.031997203826904,
          9.6308012008667,
          -60.455665588378906,
          50.596981048583984,
          -13.95688247680664,
          7.216134071350098,
          67.45824432373047,
          50.66248321533203,
          -1.2813959121704102,
          1.8832954168319702,
          -33.320213317871094,
          19.493995666503906,
          12.7713623046875,
          -28.59185791015625,
          34.739532470703125,
          83.5119857788086,
          -10.605269432067871,
          24.31710433959961,
          18.384065628051758,
          4.596188068389893,
          -77.2945785522461,
          6.727069854736328,
          6.982426643371582,
          -27.636493682861328,
          5.5140814781188965,
          -14.953372955322266,
          2.0294721126556396,
          49.83354568481445,
          -9.41141414642334,
          40.357242584228516,
          -78.7510986328125,
          4.636641979217529,
          -4.416008472442627,
          12.004996299743652,
          16.09657096862793,
          61.613929748535156,
          -9.918414115905762,
          -45.857112884521484,
          -51.14765548706055,
          -13.229642868041992,
          -45.71152877807617,
          -20.85654067993164,
          -22.125852584838867,
          -55.28569793701172,
          -24.550559997558594,
          -74.34303283691406,
          -87.49542236328125,
          -21.60629653930664,
          41.859371185302734,
          -58.19430160522461,
          -17.06231689453125,
          46.76292037963867,
          67.9923324584961,
          -53.56519317626953,
          84.54727172851562,
          -3.9224984645843506,
          -69.80648040771484,
          9.87346363067627,
          63.949615478515625,
          10.37131404876709,
          -22.632564544677734,
          -39.56041717529297,
          -67.94942474365234,
          41.35487365722656,
          0.5951038002967834,
          78.43867492675781,
          64.50708770751953,
          43.701229095458984,
          -76.51683807373047,
          40.13552474975586,
          -37.39595031738281,
          -31.93550682067871,
          -47.02082443237305,
          -58.791603088378906,
          22.453689575195312,
          -38.50548553466797,
          -64.20857238769531,
          -40.99272918701172,
          -26.22745132446289,
          16.486474990844727,
          -24.329999923706055,
          -2.112776279449463,
          37.266780853271484,
          59.71649169921875,
          2.3237273693084717,
          35.625152587890625,
          -6.613293647766113,
          49.669132232666016,
          -6.519309043884277,
          81.66093444824219,
          62.865901947021484,
          -21.141395568847656,
          42.35075378417969,
          69.4270248413086,
          -20.096416473388672,
          -28.07405662536621,
          33.57069396972656,
          56.35113525390625,
          -36.7612419128418,
          -18.54583168029785,
          23.13245964050293,
          -66.09828186035156,
          40.90083694458008,
          -14.786358833312988,
          -9.996393203735352,
          72.47726440429688,
          -91.92835235595703,
          -4.2728352546691895,
          30.00095558166504,
          1.575334072113037,
          -42.811988830566406,
          -6.5103936195373535,
          -77.4500503540039,
          -10.74787712097168,
          -25.648317337036133,
          59.576873779296875,
          -25.78243637084961,
          -54.34011459350586,
          2.23714280128479,
          55.018585205078125,
          38.34877395629883,
          6.303544998168945,
          17.218029022216797,
          9.385977745056152,
          7.245664119720459,
          65.42206573486328,
          -74.39033508300781,
          8.910353660583496,
          11.585938453674316,
          -45.67138671875,
          28.267311096191406,
          -2.1487724781036377,
          11.872504234313965,
          -39.244327545166016,
          27.491193771362305,
          44.82276916503906,
          31.360200881958008,
          80.81257629394531,
          71.38944244384766,
          58.78247833251953,
          -52.252235412597656,
          34.56612777709961,
          84.58562469482422,
          -75.76750183105469,
          -45.89549255371094,
          -28.043668746948242,
          69.05155944824219,
          -64.67589569091797,
          -35.372459411621094,
          -56.10413360595703,
          70.61312103271484,
          -45.4057502746582,
          -52.17377853393555,
          -5.080415725708008,
          -74.06082153320312,
          74.487548828125,
          -44.56268310546875,
          8.965377807617188,
          -50.25016403198242,
          -10.076440811157227,
          49.4815673828125,
          42.092742919921875,
          -4.135025978088379,
          -75.1467514038086,
          64.52647399902344,
          44.34089279174805,
          -46.736656188964844,
          3.3273987770080566,
          -73.50225067138672,
          11.627676963806152,
          31.456697463989258,
          -17.743228912353516,
          20.148658752441406,
          -11.036811828613281,
          -37.85044479370117,
          46.67546081542969,
          -69.00657653808594,
          -70.46110534667969,
          -66.8923110961914,
          -15.285100936889648,
          32.31959915161133,
          2.8602921962738037,
          2.31614089012146,
          36.96052169799805,
          -89.21783447265625,
          -19.116901397705078,
          -38.844364166259766,
          19.609830856323242,
          -16.778175354003906,
          26.528457641601562,
          -61.66710662841797,
          31.325992584228516,
          -1.206065058708191,
          -57.88140106201172,
          18.35314178466797,
          40.3812255859375,
          1.9507277011871338,
          -13.793086051940918,
          -11.497907638549805,
          -42.47079086303711,
          -39.12542724609375,
          12.291147232055664,
          -7.447884559631348,
          -57.347923278808594,
          -53.07831954956055,
          -29.59320640563965,
          65.9670181274414,
          -16.57337188720703,
          49.801753997802734,
          -10.410841941833496,
          -81.70844268798828,
          70.19990539550781,
          -37.50205993652344,
          -10.849288940429688,
          17.040451049804688,
          28.78987693786621,
          -9.295063972473145,
          -29.260765075683594,
          -8.508124351501465,
          -86.12615966796875,
          -34.870487213134766,
          -19.556928634643555,
          30.08623695373535,
          0.9099864363670349,
          51.888816833496094,
          -35.68907165527344,
          2.284703254699707,
          -63.4002571105957,
          -57.31380844116211,
          -24.804765701293945,
          -8.88647174835205,
          68.57085418701172,
          -67.60396575927734,
          -25.55255889892578,
          4.276042938232422,
          47.96786117553711,
          -7.785627841949463,
          60.845603942871094,
          56.65459060668945,
          27.156736373901367,
          -14.80866813659668,
          -39.72780227661133,
          -2.233083724975586,
          31.4987850189209,
          -72.1344223022461,
          16.777801513671875,
          39.895511627197266,
          52.47555923461914,
          5.713083744049072,
          61.90957260131836,
          -41.76681137084961,
          12.312911987304688,
          -29.67789649963379,
          42.824440002441406,
          54.55144119262695,
          19.265947341918945,
          -9.437870979309082,
          52.56688690185547,
          41.94861602783203,
          -46.16598892211914,
          3.2901031970977783,
          27.751068115234375,
          -71.92369842529297,
          16.645950317382812,
          -67.4717788696289,
          -9.400197982788086,
          19.28666114807129,
          40.22322082519531,
          -81.65650177001953,
          30.386566162109375,
          -34.79030990600586,
          30.207202911376953,
          -35.92426300048828,
          -40.45442581176758,
          -36.582157135009766,
          18.499448776245117,
          -31.891294479370117,
          -4.384698390960693,
          -0.08180272579193115,
          -9.44035530090332,
          -53.985069274902344,
          25.93027687072754,
          37.72437286376953,
          -58.13804244995117,
          -9.473243713378906,
          42.40282440185547,
          -13.680286407470703,
          -6.922270774841309,
          -55.81221008300781,
          -9.720306396484375,
          37.36701202392578,
          8.865480422973633,
          -36.921485900878906,
          -2.9496521949768066,
          -36.36829376220703,
          -4.047511100769043,
          -59.177425384521484,
          22.981281280517578,
          -16.567575454711914,
          74.79899597167969,
          4.316745281219482,
          29.527334213256836,
          8.944438934326172,
          20.157100677490234,
          -10.672748565673828,
          38.11358642578125,
          -65.45986938476562,
          31.783329010009766,
          61.734153747558594,
          43.81867980957031,
          58.53276443481445,
          35.317161560058594,
          -27.088787078857422,
          16.876434326171875,
          -42.38340377807617,
          49.46187210083008,
          -9.5487699508667,
          -18.783288955688477,
          -40.40176773071289,
          14.24111557006836,
          62.02855682373047,
          -28.2983341217041,
          -41.78599548339844,
          5.812773704528809,
          51.27854537963867,
          -49.87498474121094,
          -42.72090148925781,
          60.3116340637207,
          63.624794006347656,
          19.248868942260742,
          43.52933120727539,
          -52.48993682861328,
          48.68673324584961,
          25.139583587646484,
          4.4573655128479,
          80.18331909179688,
          62.24010467529297,
          57.65694046020508,
          -12.842021942138672,
          70.08599853515625,
          14.25241756439209,
          -26.32608985900879,
          1.8317962884902954,
          -78.89127349853516,
          65.23168182373047,
          3.3983447551727295,
          -52.980560302734375,
          74.50923156738281,
          -39.7514533996582,
          -67.43325805664062,
          7.6798224449157715,
          73.87071990966797,
          -59.697914123535156,
          27.750614166259766,
          32.98189926147461,
          79.72439575195312,
          4.046192169189453,
          -3.3588268756866455,
          -17.358230590820312,
          33.73848342895508,
          37.531497955322266,
          -44.02592086791992,
          -51.501827239990234,
          -38.85239791870117,
          10.835293769836426,
          40.54041290283203,
          -61.992332458496094,
          19.08173942565918,
          27.50040626525879,
          -3.185926675796509,
          -58.70288848876953,
          -74.74674224853516,
          33.548892974853516,
          -57.520774841308594,
          5.331582069396973,
          73.78824615478516,
          -42.1204948425293,
          72.36631774902344,
          -51.00369644165039,
          -37.490211486816406,
          75.86702728271484,
          -52.3011474609375,
          -38.111698150634766,
          6.82645320892334,
          60.16331481933594,
          -52.890647888183594,
          31.820554733276367,
          48.64649200439453,
          22.185100555419922,
          -1.6364613771438599,
          -77.46446228027344,
          -21.975482940673828,
          41.22941589355469,
          39.429019927978516,
          12.012445449829102,
          5.220287322998047,
          -8.57486629486084,
          13.06392765045166,
          38.002593994140625,
          60.687721252441406,
          -8.326675415039062,
          6.736180782318115,
          -32.821678161621094,
          -46.390933990478516,
          38.5098876953125,
          63.9273567199707,
          -67.43478393554688,
          -14.171858787536621,
          -68.40007781982422,
          39.2750129699707,
          -15.437108039855957,
          25.801570892333984,
          -41.2513313293457,
          29.966411590576172,
          20.64693832397461,
          -39.762672424316406,
          -28.224201202392578,
          -26.2545223236084,
          65.19539642333984,
          16.81313705444336,
          23.067913055419922,
          3.616976261138916,
          -59.58369445800781,
          68.4046630859375,
          -42.06180953979492,
          -22.425874710083008,
          0.6098043918609619,
          -2.6265857219696045,
          -11.747258186340332,
          9.718897819519043,
          3.6456732749938965,
          15.82767391204834,
          0.32567495107650757,
          -29.557838439941406,
          22.110065460205078,
          16.348979949951172,
          44.16899490356445,
          -48.998111724853516,
          -75.26750183105469,
          -36.372100830078125,
          15.228949546813965,
          -39.20469665527344,
          -10.790233612060547,
          -22.248586654663086,
          -44.61479187011719,
          -0.4083375632762909,
          29.551738739013672,
          66.944580078125,
          -51.499271392822266,
          -74.6414566040039,
          1.1522804498672485,
          15.058650016784668,
          63.01026153564453,
          -21.26588249206543,
          -62.23216247558594,
          64.29559326171875,
          -39.27964782714844,
          36.746097564697266,
          -2.1306421756744385,
          9.475702285766602,
          63.438148498535156,
          35.37921905517578,
          -21.344711303710938,
          39.527069091796875,
          30.932628631591797,
          -25.402196884155273,
          60.6242561340332,
          16.22322654724121,
          62.67625045776367,
          -44.9494743347168,
          -40.045989990234375,
          -44.080081939697266,
          -13.500051498413086,
          84.1649169921875,
          -40.72645950317383,
          11.048884391784668,
          -76.24469757080078,
          -46.85050582885742,
          -68.26344299316406,
          -20.849435806274414,
          -40.725563049316406,
          -84.0234146118164,
          72.675537109375,
          2.688621759414673,
          13.505609512329102,
          -34.948001861572266,
          16.94476890563965,
          0.9361734986305237,
          24.405113220214844,
          -66.1544189453125,
          79.21794891357422,
          -67.94146728515625,
          52.61972427368164,
          -41.50947952270508,
          -23.246135711669922,
          32.71004867553711,
          -41.737815856933594,
          -11.669795989990234,
          -6.446091651916504,
          -62.37357711791992,
          -49.7003173828125,
          -77.1246566772461,
          -18.65404510498047,
          -11.124076843261719,
          2.7443063259124756,
          61.9162483215332,
          32.43781661987305,
          -51.78670120239258,
          -67.3508529663086,
          -4.319351673126221,
          -57.97675323486328,
          -38.8585205078125,
          -41.513824462890625,
          6.908958911895752,
          -3.85190486907959,
          49.74345016479492,
          67.72766876220703,
          57.64174270629883,
          -40.460575103759766,
          -41.94055938720703,
          -29.0405216217041,
          30.043001174926758,
          -48.0829963684082,
          -64.226806640625,
          6.114256381988525,
          44.09316635131836,
          6.227244853973389,
          -22.930002212524414,
          15.682663917541504,
          -23.155094146728516,
          -17.328144073486328,
          56.86613845825195,
          -21.004810333251953,
          -7.500344276428223,
          -73.74710083007812,
          -31.183820724487305,
          -16.809085845947266,
          33.708412170410156,
          56.32514572143555,
          41.138179779052734,
          58.22393035888672,
          -7.966715335845947,
          -52.582942962646484,
          -16.689016342163086,
          -20.891071319580078,
          49.211063385009766,
          24.589406967163086,
          63.893436431884766,
          -27.768693923950195,
          66.82854461669922,
          2.570765972137451,
          29.5207462310791,
          46.50502014160156,
          46.94981384277344,
          -8.310344696044922,
          -83.71369171142578,
          -57.93910598754883,
          -89.56753540039062,
          -36.54322814941406,
          52.6611213684082,
          66.46400451660156,
          -22.582693099975586,
          34.56010437011719,
          41.44464874267578,
          42.101173400878906,
          -0.8921166062355042,
          -29.118741989135742,
          25.624277114868164,
          -75.79653930664062,
          49.57264709472656,
          5.827799320220947,
          51.74210739135742,
          -27.663164138793945,
          52.86662292480469,
          80.86486053466797,
          5.392276763916016,
          22.814105987548828,
          20.328166961669922,
          -7.077149868011475,
          28.230932235717773,
          -13.2446870803833,
          46.254974365234375,
          -41.879451751708984,
          -33.35200500488281,
          -48.41058349609375,
          -84.917724609375,
          -8.344205856323242,
          49.973907470703125,
          59.9658088684082,
          -85.02740478515625,
          -18.079431533813477,
          42.22681427001953,
          -36.68843460083008,
          14.217098236083984,
          -24.603551864624023,
          -38.81158447265625,
          -3.8422892093658447,
          9.735849380493164,
          61.98927307128906,
          -51.49790573120117,
          -51.32974624633789,
          -50.63247299194336,
          4.940954685211182,
          -41.649436950683594,
          -40.31342315673828,
          31.39484405517578,
          68.4807357788086,
          -2.625046730041504,
          18.81298065185547,
          -2.1491479873657227,
          3.576155185699463,
          10.816444396972656,
          9.785930633544922,
          -1.7361232042312622,
          79.4829330444336,
          30.490337371826172,
          66.88994598388672,
          -77.79655456542969,
          59.14372253417969,
          3.551395893096924,
          69.23764038085938,
          -67.18255615234375,
          -9.656429290771484,
          -29.74835205078125,
          -4.1501994132995605,
          -74.09040832519531,
          -26.11810874938965,
          -44.088626861572266,
          -39.39985656738281,
          -59.11146545410156,
          -37.46235656738281,
          1.1603590250015259,
          -77.07430267333984,
          -11.554510116577148,
          -20.11663818359375,
          11.836466789245605,
          41.44227981567383,
          -13.400049209594727,
          0.8894069790840149,
          -12.523151397705078,
          27.8526611328125,
          19.65756607055664,
          -42.8497428894043,
          -85.83173370361328,
          67.4601058959961,
          -46.91251754760742,
          -16.497316360473633,
          64.03738403320312,
          11.531094551086426,
          0.5890108942985535,
          -32.97549819946289,
          18.978546142578125,
          47.92793655395508,
          47.209720611572266,
          -12.209802627563477,
          74.41070556640625,
          49.729713439941406,
          -50.367881774902344,
          -19.636917114257812,
          -0.18980450928211212,
          0.6917282938957214,
          23.138996124267578,
          12.754948616027832,
          17.267333984375,
          -4.373314380645752,
          81.9318618774414,
          -32.16456985473633,
          -64.16831970214844,
          31.069467544555664,
          2.5393495559692383,
          -58.706722259521484,
          61.619510650634766,
          -30.18311882019043,
          -31.58757209777832,
          23.474822998046875,
          -45.781375885009766,
          -5.334839344024658,
          -20.261871337890625,
          -76.41252136230469,
          -47.476436614990234,
          11.040526390075684,
          12.547430038452148,
          68.46342468261719,
          15.933853149414062,
          51.80177688598633,
          0.33254873752593994,
          -69.19791412353516,
          -9.965218544006348,
          61.51192092895508,
          56.26209259033203,
          -16.093509674072266,
          27.59331703186035,
          27.06743812561035,
          46.895835876464844,
          47.5892333984375,
          67.3600082397461,
          -19.956682205200195,
          -73.80923461914062,
          -76.16349792480469,
          -41.87575912475586,
          -58.179996490478516,
          30.824216842651367,
          27.20000457763672,
          27.92597007751465,
          16.849023818969727,
          3.028496026992798,
          50.68898010253906,
          -43.66813659667969,
          -4.9116082191467285,
          60.37955093383789,
          -11.593441009521484,
          16.052398681640625,
          -58.529296875,
          26.61158561706543,
          -81.70711517333984,
          47.579063415527344,
          -15.079360008239746,
          80.71263885498047,
          63.77775955200195,
          19.404781341552734,
          48.35443115234375,
          49.040775299072266,
          -42.61882400512695,
          -37.32301712036133,
          -14.376343727111816,
          -54.27230453491211,
          -59.17422103881836,
          69.42529296875,
          -9.713277816772461,
          -30.82061767578125,
          29.116188049316406,
          26.636260986328125,
          72.67835998535156,
          52.68153381347656,
          4.261378765106201,
          -40.32193374633789,
          78.59461212158203,
          -51.787986755371094,
          -15.181402206420898,
          78.4621810913086,
          -4.067150592803955,
          15.280082702636719,
          83.98888397216797,
          34.62452697753906,
          39.529842376708984,
          -66.80517578125,
          -5.209716320037842,
          -83.33895874023438,
          28.322566986083984,
          -3.6746816635131836,
          63.34327697753906,
          -2.6076595783233643,
          35.62712860107422,
          60.50056838989258,
          -19.954761505126953,
          31.454208374023438,
          -19.154006958007812,
          38.84910202026367,
          71.74443817138672,
          -13.259117126464844,
          -38.321712493896484,
          -7.727133274078369,
          47.24340057373047,
          23.906044006347656,
          -2.023270606994629,
          -13.118000030517578,
          -61.56072235107422,
          17.581314086914062,
          -16.491619110107422,
          -1.5790116786956787,
          -44.900020599365234,
          -1.066736102104187,
          41.658782958984375,
          -11.36351490020752,
          14.113219261169434,
          27.15526580810547,
          -30.426546096801758,
          35.933135986328125,
          -78.39275360107422,
          -44.25215148925781,
          26.486764907836914,
          45.0272102355957,
          61.883148193359375,
          18.858924865722656,
          5.6306328773498535,
          18.95782470703125,
          -68.30693817138672,
          25.68349266052246,
          3.105902910232544,
          50.30776596069336,
          34.83333969116211,
          66.99479675292969,
          -39.41438674926758,
          31.820650100708008,
          -66.79057312011719,
          -4.77437162399292,
          -10.420434951782227,
          78.11170959472656,
          35.669334411621094,
          -31.438796997070312,
          18.420654296875,
          22.338186264038086,
          47.292869567871094,
          82.37928009033203,
          62.931793212890625,
          -23.516618728637695,
          18.682138442993164,
          46.3219108581543,
          -16.417316436767578,
          53.104827880859375,
          -29.857608795166016,
          47.858154296875,
          -42.49652099609375,
          64.07312774658203,
          -59.46691131591797,
          -6.461297988891602,
          3.128157138824463,
          35.56610870361328,
          -75.6945571899414,
          -66.6700210571289,
          -3.660156726837158,
          -38.43881607055664,
          -15.205015182495117,
          49.38618469238281,
          -16.716705322265625,
          -59.09091567993164,
          21.271066665649414,
          -15.76766300201416,
          -28.293001174926758,
          41.19736099243164,
          -4.121704578399658,
          -19.907228469848633,
          16.38336753845215,
          1.2451732158660889,
          25.94822120666504,
          26.944625854492188,
          -32.82332229614258,
          13.687232971191406,
          40.36532211303711,
          33.26613998413086,
          3.9105172157287598,
          35.58137893676758,
          62.94110870361328,
          4.286207675933838,
          7.281493186950684,
          -5.688574314117432,
          34.98542785644531,
          -38.575469970703125,
          -27.761930465698242,
          10.255928993225098,
          48.06596755981445,
          -32.03789138793945,
          -60.0552864074707,
          -20.26479721069336,
          -35.40620040893555,
          3.89310359954834,
          -73.39900970458984,
          70.2373275756836,
          80.85548400878906,
          18.090106964111328,
          -32.17770767211914,
          -27.313264846801758,
          -68.31082916259766,
          49.192806243896484,
          23.93538475036621,
          25.465927124023438,
          -30.680204391479492,
          -2.62690806388855,
          26.70599937438965,
          26.0452880859375,
          25.525936126708984,
          56.98773956298828,
          -2.9005677700042725,
          -8.134915351867676,
          44.93252944946289,
          -61.48134231567383,
          1.905380368232727,
          -57.032894134521484,
          -7.377911567687988,
          -1.7516282796859741,
          1.9275239706039429,
          11.679924964904785,
          74.70218658447266,
          -72.19155883789062,
          -8.370538711547852,
          0.9450422525405884,
          27.577346801757812,
          -44.21525192260742,
          6.549053192138672,
          40.521968841552734,
          7.012886047363281,
          2.3133296966552734,
          74.82643127441406,
          47.632545471191406,
          -77.10688018798828,
          47.7071418762207,
          -86.27934265136719,
          16.4649715423584,
          70.98004150390625,
          -42.870849609375,
          47.475826263427734,
          -42.489959716796875,
          65.87262725830078,
          53.27644729614258,
          -38.98755645751953,
          35.879356384277344,
          57.4725341796875,
          -48.42129135131836,
          -52.97359848022461,
          10.25218677520752,
          14.218936920166016,
          -14.091636657714844,
          -35.15181350708008,
          10.195426940917969,
          -4.126527786254883,
          6.363135814666748,
          -53.832481384277344,
          60.0305290222168,
          65.47175598144531,
          48.119606018066406,
          -40.5416374206543,
          60.330020904541016,
          -30.07989501953125,
          -36.86044692993164,
          -71.72633361816406,
          -24.005495071411133,
          27.030384063720703,
          39.35222244262695,
          -57.37546920776367,
          6.735663890838623,
          -1.9373334646224976,
          44.97019958496094,
          9.421733856201172,
          1.4661039113998413,
          28.77640151977539,
          25.87394142150879,
          55.47536087036133,
          -36.07725143432617,
          -44.050785064697266,
          48.379478454589844,
          48.60577392578125,
          28.016294479370117,
          6.556407451629639,
          -36.38679122924805,
          27.33254623413086,
          63.468536376953125,
          53.007328033447266,
          52.47904586791992,
          -8.162887573242188,
          -2.9698562622070312,
          53.441009521484375,
          56.74677276611328,
          7.249818801879883,
          11.54154109954834,
          12.635595321655273,
          21.304561614990234,
          -14.096075057983398,
          38.069644927978516,
          45.34688949584961,
          10.08266830444336,
          -8.489665031433105,
          -30.115196228027344,
          -76.00686645507812,
          12.30799388885498,
          -84.26179504394531,
          2.1670596599578857,
          24.718873977661133,
          59.8786506652832,
          81.28459930419922,
          55.37363815307617,
          57.49433517456055,
          28.542123794555664,
          20.31510353088379,
          5.936735153198242,
          -3.4577078819274902,
          4.003553867340088,
          -12.49656867980957,
          62.82365798950195,
          -42.30426025390625,
          36.696678161621094,
          -73.00118255615234,
          -30.86885643005371,
          -84.64567565917969,
          -75.2276382446289,
          20.83559226989746,
          -38.00087356567383,
          -7.126877307891846,
          -85.7088851928711,
          71.33146667480469,
          52.6856689453125,
          -78.88746643066406,
          53.023311614990234,
          34.5382080078125,
          -44.26097106933594,
          -23.764511108398438,
          0.21252688765525818,
          10.81976318359375,
          -13.215497016906738,
          2.725069761276245,
          -2.582378625869751,
          40.54976272583008,
          -67.80931854248047,
          78.3798828125,
          29.040332794189453,
          -84.51683807373047,
          0.10679705440998077,
          7.245723247528076,
          -55.70250701904297,
          57.92817687988281,
          -67.9310531616211,
          -8.501977920532227,
          -31.87126350402832,
          -54.96452331542969,
          -50.08732986450195,
          -66.9597396850586,
          78.93306732177734,
          -43.5769157409668,
          18.925634384155273,
          -68.01937103271484,
          -44.91149139404297,
          23.307777404785156,
          -20.873708724975586,
          62.417274475097656,
          37.9979133605957,
          -52.87272262573242,
          -13.127700805664062,
          5.576862335205078,
          -41.57366943359375,
          49.31616973876953,
          21.328794479370117,
          87.63031768798828,
          -16.566633224487305,
          -22.463483810424805,
          79.62945556640625,
          -29.327880859375,
          -20.168132781982422,
          -4.785118103027344,
          43.478607177734375,
          10.73468017578125,
          -42.513553619384766,
          50.20845413208008,
          26.662586212158203,
          29.797409057617188,
          80.55440521240234,
          15.949153900146484,
          -17.600812911987305,
          -1.953070878982544,
          28.978736877441406,
          8.702536582946777,
          -4.134665012359619,
          -73.30651092529297,
          -60.58237075805664,
          -1.0739457607269287,
          35.221622467041016,
          48.55909729003906,
          -53.034854888916016,
          20.39698600769043,
          19.910158157348633,
          -15.468478202819824,
          46.54439163208008,
          -15.327310562133789,
          33.1627082824707,
          -50.15945816040039,
          -35.28281784057617,
          -60.24138641357422,
          4.086411476135254,
          3.4522767066955566,
          -25.80217170715332,
          87.6001968383789,
          -37.946598052978516,
          4.187670707702637,
          3.277179002761841,
          14.050528526306152,
          -16.941566467285156,
          4.023252964019775,
          -40.85992431640625,
          48.8366813659668,
          68.68638610839844,
          35.587162017822266,
          -53.502506256103516,
          63.72024917602539,
          -27.047380447387695,
          24.17277717590332,
          6.520347595214844,
          -74.54991912841797,
          -43.71501922607422,
          -78.59912109375,
          39.423763275146484,
          -23.764617919921875,
          44.54328536987305,
          62.415382385253906,
          -11.524142265319824,
          78.46150970458984,
          61.37425994873047,
          37.705440521240234,
          -90.87763977050781,
          52.45967483520508,
          42.096397399902344,
          21.378507614135742,
          39.7821044921875,
          4.884195327758789,
          -8.293882369995117,
          1.4862746000289917,
          -19.825054168701172,
          -70.06502532958984,
          10.527850151062012,
          69.8719711303711,
          -20.040325164794922,
          -18.343612670898438,
          4.831867218017578,
          -31.378244400024414,
          44.247337341308594,
          37.42446517944336,
          80.52792358398438,
          7.142827987670898,
          44.52924728393555,
          -49.26451873779297,
          25.702014923095703,
          -15.389384269714355,
          -53.750823974609375,
          11.708891868591309,
          39.93523406982422,
          3.667468547821045,
          -44.214969635009766,
          43.7035026550293,
          -67.7054214477539,
          -15.290570259094238,
          -15.125353813171387,
          70.1109848022461,
          -6.139533519744873,
          -12.07504940032959,
          -5.031785011291504,
          13.313033103942871,
          -86.06041717529297,
          30.335922241210938,
          -66.53840637207031,
          57.587249755859375,
          8.257710456848145,
          -14.015679359436035,
          35.12744140625,
          -46.76350021362305,
          14.472672462463379,
          -36.451778411865234,
          28.971439361572266,
          -59.85893249511719,
          48.93167495727539,
          42.91360855102539,
          63.0651741027832,
          -75.34590911865234,
          24.72225570678711,
          -5.081076145172119,
          5.19333553314209,
          -51.628936767578125,
          -11.007226943969727,
          70.5362319946289,
          68.4361572265625,
          -59.01541519165039,
          -28.575485229492188,
          25.181625366210938,
          32.869449615478516,
          -59.49888610839844,
          -51.12752151489258,
          -13.14085865020752,
          24.871570587158203,
          30.52094078063965,
          -18.03530502319336,
          -15.767436981201172,
          48.43185043334961,
          18.05168914794922,
          22.780590057373047,
          6.80422830581665,
          63.18766403198242,
          38.816993713378906,
          -36.62343978881836,
          64.24266815185547,
          0.02863011322915554,
          -71.57120513916016,
          74.53620910644531,
          9.826509475708008,
          -65.53826141357422,
          77.53378295898438,
          -14.386382102966309,
          -9.587599754333496,
          10.166613578796387,
          -14.007156372070312,
          -40.10590744018555,
          -54.39560317993164,
          -7.856937885284424,
          -39.26020431518555,
          -27.23506736755371,
          -12.15550422668457,
          -52.267574310302734,
          -10.97387981414795,
          -59.37229919433594,
          87.07454681396484,
          20.20132827758789,
          2.8355906009674072,
          32.26747512817383,
          -2.3898112773895264,
          45.91605758666992,
          -22.27486228942871,
          30.839466094970703,
          4.37853479385376,
          -15.78965950012207,
          -30.738670349121094,
          -6.712356090545654,
          -54.640377044677734,
          -19.389156341552734,
          20.235937118530273,
          -1.0506592988967896,
          29.53763198852539,
          -18.867101669311523,
          -7.690664291381836,
          60.49542236328125,
          -49.43767547607422,
          -29.99742889404297,
          -41.10340881347656,
          20.50107765197754,
          65.0550765991211,
          -65.58728790283203,
          -23.707897186279297,
          7.9438700675964355,
          62.42235565185547,
          42.27378463745117,
          -25.296016693115234,
          -31.6787109375,
          9.66306209564209,
          -44.443199157714844,
          5.523714065551758,
          1.5307621955871582,
          -16.833057403564453,
          -0.8539878726005554,
          -37.925376892089844,
          9.803553581237793,
          -51.78522491455078,
          -11.20993709564209,
          74.57701873779297,
          -23.23122215270996,
          32.921974182128906,
          60.89659881591797,
          0.6405539512634277,
          -51.23727798461914,
          -36.97468185424805,
          26.2417049407959,
          18.405866622924805,
          18.63251304626465,
          37.714378356933594,
          36.87459945678711,
          29.28321075439453,
          49.662750244140625,
          6.67483377456665,
          49.85723114013672,
          2.35668683052063,
          36.86553192138672,
          52.34185028076172,
          -45.14870834350586,
          -51.183372497558594,
          -66.70745849609375,
          12.872200012207031,
          20.32887840270996,
          -85.90644073486328,
          42.134883880615234,
          0.49673473834991455,
          2.8340559005737305,
          48.59288024902344,
          1.2167376279830933,
          58.12028121948242,
          22.361814498901367,
          -56.12092208862305,
          28.050352096557617,
          1.4214634895324707,
          66.6498794555664,
          18.024526596069336,
          67.18148040771484,
          28.972089767456055,
          13.003057479858398,
          -17.43755531311035,
          30.230981826782227,
          31.985807418823242,
          -43.953033447265625,
          -44.307125091552734,
          7.488938331604004,
          70.62464904785156,
          43.23750686645508,
          2.7195522785186768,
          -14.622392654418945,
          53.33378219604492,
          -26.618330001831055,
          20.0072021484375,
          3.7640230655670166,
          44.777122497558594,
          31.52675437927246,
          -12.441085815429688,
          -24.391769409179688,
          -73.46748352050781,
          -39.158607482910156,
          5.374792575836182,
          -81.3189697265625,
          52.51084518432617,
          13.5225248336792,
          3.0553133487701416,
          20.291181564331055,
          -40.31828308105469,
          -16.043975830078125,
          9.103372573852539,
          12.611210823059082,
          -50.57133102416992,
          -84.79083251953125,
          -79.81759643554688,
          -18.85483741760254,
          -75.58399200439453,
          2.405275821685791,
          64.44181823730469,
          9.812504768371582,
          -56.1792106628418,
          1.448616623878479,
          -63.61716842651367,
          37.64633560180664,
          31.63007926940918,
          4.635707378387451,
          -40.776546478271484,
          8.584244728088379,
          24.668912887573242,
          -40.2887077331543,
          -1.5660873651504517,
          71.4369125366211,
          -2.7247955799102783,
          -35.5140380859375,
          -78.31372833251953,
          43.70322799682617,
          31.147756576538086,
          34.019676208496094,
          2.6451001167297363,
          53.08778381347656,
          31.530467987060547,
          2.3792128562927246,
          -61.832576751708984,
          41.62248992919922,
          -31.18208122253418,
          -9.760489463806152,
          8.748779296875,
          12.581095695495605,
          -8.115406036376953,
          -46.30381774902344,
          49.397865295410156,
          19.012243270874023,
          29.397336959838867,
          23.13498306274414,
          -18.28349494934082,
          50.5325813293457,
          -18.71337127685547,
          84.23926544189453,
          -25.74021339416504,
          -37.17676544189453,
          -25.494258880615234,
          -49.82441329956055,
          -12.789811134338379,
          -16.087080001831055,
          41.45468521118164,
          39.81951141357422,
          48.84333419799805,
          77.5641098022461,
          22.342321395874023,
          -30.404327392578125,
          -17.414779663085938,
          28.807022094726562,
          -6.963128566741943,
          58.67499542236328,
          -8.334770202636719,
          -3.579500436782837,
          58.832096099853516,
          72.47137451171875,
          -9.647159576416016,
          -39.243709564208984,
          -42.95671081542969,
          64.53474426269531,
          -25.54909896850586,
          36.513362884521484,
          -49.0223503112793,
          40.17870330810547,
          -7.353489398956299,
          -6.403492450714111,
          53.084835052490234,
          -58.0692253112793,
          13.865968704223633,
          -59.54566955566406,
          22.493627548217773,
          12.934640884399414,
          -41.13478088378906,
          -18.90117073059082,
          -72.7249755859375,
          29.976871490478516,
          -37.055416107177734,
          -61.37156295776367,
          83.496826171875,
          72.68900299072266,
          82.96265411376953,
          -23.091650009155273,
          21.090167999267578,
          75.49368286132812,
          64.45872497558594,
          -50.459014892578125,
          2.293463706970215,
          4.606650352478027,
          53.924835205078125,
          -2.9603776931762695,
          19.909873962402344,
          42.93016815185547,
          57.78921127319336,
          -79.9351577758789,
          -39.020484924316406,
          -13.095908164978027,
          66.85665893554688,
          28.36549949645996,
          -76.0071029663086,
          -33.146968841552734,
          -15.499671936035156,
          42.12480163574219,
          -64.68693542480469,
          -74.15882110595703,
          59.94001770019531,
          -59.9039421081543,
          -81.01042175292969,
          30.366252899169922,
          32.162567138671875,
          4.792119026184082,
          17.063812255859375,
          -85.62738800048828,
          -63.65766143798828,
          -31.385683059692383,
          78.54620361328125,
          28.607032775878906,
          -64.1301040649414,
          16.642230987548828,
          21.359060287475586,
          56.515357971191406,
          22.02126693725586,
          -0.32127147912979126,
          0.16938532888889313,
          10.7432861328125,
          -52.22355270385742,
          44.125762939453125,
          16.287317276000977,
          -22.162967681884766,
          42.262935638427734,
          -66.53252410888672,
          36.60243606567383,
          -50.74119567871094,
          -38.094078063964844,
          -41.7381591796875,
          40.77117919921875,
          -44.06563949584961,
          17.15431022644043,
          64.66572570800781,
          -36.127479553222656,
          12.177653312683105,
          3.8941986560821533,
          -52.88052749633789,
          -40.138362884521484,
          -1.2686347961425781,
          1.9123021364212036,
          -52.49604797363281,
          19.855527877807617,
          69.98303985595703,
          90.67041778564453,
          0.8073808550834656,
          -9.526881217956543,
          33.691001892089844,
          6.453279495239258,
          -75.3040771484375,
          -8.396515846252441,
          62.81320571899414,
          -19.652334213256836,
          -90.21711730957031,
          24.421768188476562,
          69.4537582397461,
          59.3874626159668,
          -46.818267822265625,
          -20.013309478759766,
          -59.50972366333008,
          48.66151428222656,
          -60.43647003173828,
          42.82785415649414,
          65.57890319824219,
          -69.76470947265625,
          -58.54541015625,
          -20.69580841064453,
          -8.861464500427246,
          33.81371307373047,
          28.649316787719727,
          21.924503326416016,
          -23.471126556396484,
          -0.03727972134947777,
          50.667938232421875,
          47.81889343261719,
          62.94468307495117,
          46.8975830078125,
          0.4550013840198517,
          55.645286560058594,
          -38.95020294189453,
          -29.647754669189453,
          -57.73191833496094,
          -13.069755554199219,
          59.26020050048828,
          -57.97807312011719,
          1.5598939657211304,
          14.038894653320312,
          -51.192176818847656,
          58.4171028137207,
          -3.857879400253296,
          65.43153381347656,
          -63.266353607177734,
          22.344667434692383,
          4.207332611083984,
          -57.9754638671875,
          43.45229721069336,
          10.567925453186035,
          3.1184258460998535,
          37.425804138183594,
          -78.59734344482422,
          19.542875289916992,
          -41.480159759521484,
          90.65657806396484,
          -0.3252410590648651,
          -16.609294891357422,
          24.02236557006836,
          -4.83399772644043,
          77.64198303222656,
          -11.797971725463867,
          15.962050437927246,
          -17.329662322998047,
          90.65927124023438,
          16.689125061035156,
          33.77919006347656,
          -39.97726821899414,
          -75.04723358154297,
          -29.135271072387695,
          28.832603454589844,
          1.3245770931243896,
          35.19844436645508,
          -74.48001098632812,
          -55.938629150390625,
          24.89399528503418,
          21.306917190551758,
          29.577564239501953,
          24.024587631225586,
          71.34028625488281,
          -58.42655944824219,
          18.10918617248535,
          -84.38957977294922,
          10.193081855773926,
          5.2069573402404785,
          -76.80253601074219,
          -29.425973892211914,
          16.617563247680664,
          -14.691818237304688,
          -30.704071044921875,
          48.6884651184082,
          77.00892639160156,
          49.585227966308594,
          -25.793855667114258,
          -79.85624694824219,
          38.59746170043945,
          -54.514583587646484,
          -14.852113723754883,
          -26.61211585998535,
          -43.53999328613281,
          62.12136459350586,
          -22.403722763061523,
          -67.8342514038086,
          56.129730224609375,
          57.362876892089844,
          -34.68478775024414,
          35.036705017089844,
          -74.04192352294922,
          3.85052752494812,
          -39.185115814208984,
          76.84687805175781,
          16.724050521850586,
          -58.735816955566406,
          -15.470245361328125,
          -30.359703063964844,
          -46.24907684326172,
          -6.551117897033691,
          67.63082122802734,
          40.76395034790039,
          3.5262129306793213,
          -19.073667526245117,
          -24.03017234802246,
          -24.361778259277344,
          5.320356845855713,
          25.44115447998047,
          -31.319889068603516,
          -31.112112045288086,
          80.38036346435547,
          -17.869098663330078,
          52.796390533447266,
          44.230525970458984,
          38.877567291259766,
          -79.55690002441406,
          58.826210021972656,
          51.526634216308594,
          -90.35297393798828,
          45.18391418457031,
          21.006153106689453,
          39.86820983886719,
          30.112993240356445,
          -71.30664825439453,
          6.128830909729004,
          9.489556312561035,
          53.1018180847168,
          29.59701919555664,
          57.07465362548828,
          -44.31525421142578,
          21.20977783203125,
          11.884771347045898,
          20.17732048034668,
          17.85894012451172,
          41.19523620605469,
          -0.3171871602535248,
          -30.91386604309082,
          -62.18526840209961,
          48.82518768310547,
          -29.200345993041992,
          21.483488082885742,
          18.732919692993164,
          59.21550369262695,
          58.11534881591797,
          -30.874732971191406,
          -7.874438762664795,
          -41.3101692199707,
          -58.9699821472168,
          30.028287887573242,
          3.220766544342041,
          -51.77864074707031,
          -90.35737609863281,
          -42.41323471069336,
          22.09407615661621,
          -67.36648559570312,
          -9.202963829040527,
          58.81212615966797,
          49.86725616455078,
          -3.479193687438965,
          -64.4957504272461,
          -4.382925510406494,
          50.41153335571289,
          43.31571960449219,
          0.037346698343753815,
          50.741241455078125,
          -20.189537048339844,
          -16.356178283691406,
          -3.4419209957122803,
          -63.094322204589844,
          4.924011707305908,
          -82.40751647949219,
          -64.29373931884766,
          3.8839828968048096,
          -9.895149230957031,
          24.015483856201172,
          87.1109619140625,
          18.133970260620117,
          -33.98030090332031,
          5.063758373260498,
          -15.101631164550781,
          33.96846389770508,
          24.520999908447266,
          29.578857421875,
          -5.895029544830322,
          -21.97484016418457,
          -4.776643753051758,
          -3.5588510036468506,
          28.349971771240234,
          -19.987924575805664,
          -10.331589698791504,
          43.569068908691406,
          61.598323822021484,
          -2.8330254554748535,
          70.08736419677734,
          -66.80451965332031,
          0.935787558555603,
          63.59457778930664,
          7.368297576904297,
          -71.3315658569336,
          -80.00785064697266,
          -54.95353317260742,
          -27.73446273803711,
          -38.44074249267578,
          29.595151901245117,
          -44.7238655090332,
          -67.3490219116211,
          -26.579164505004883,
          -50.611141204833984,
          -50.1433219909668,
          7.059089660644531,
          -29.540254592895508,
          47.652069091796875,
          25.343339920043945,
          -52.622032165527344,
          24.946735382080078,
          30.302488327026367,
          1.4566162824630737,
          -38.551109313964844,
          58.41693878173828,
          -71.62687683105469,
          28.971607208251953,
          59.571895599365234,
          3.01611590385437,
          -77.76893615722656,
          -47.07994079589844,
          -63.63493347167969,
          -91.85142517089844,
          19.977771759033203,
          -31.25115966796875,
          1.5723673105239868,
          2.946916341781616,
          1.0851391553878784,
          -52.36350631713867,
          -80.35139465332031,
          -73.92681121826172,
          -16.931394577026367,
          -4.836862564086914,
          8.83022403717041,
          -20.430185317993164,
          23.09326934814453,
          0.35695067048072815,
          12.425265312194824,
          -41.63595962524414,
          -9.730876922607422,
          21.634794235229492,
          -40.758663177490234,
          -75.6975326538086,
          -15.538229942321777,
          -91.86306762695312,
          19.262542724609375,
          28.93761444091797,
          -78.96707916259766,
          -38.669490814208984,
          2.4361627101898193,
          -53.80472946166992,
          -3.0800974369049072,
          -51.085147857666016,
          -34.71698760986328,
          -41.861968994140625,
          0.6005448698997498,
          -36.744667053222656,
          41.90310287475586,
          26.246912002563477,
          -1.3436017036437988,
          35.66754150390625,
          28.83685874938965,
          38.931495666503906,
          33.340911865234375,
          -34.608055114746094,
          11.262372970581055,
          -64.18798828125,
          1.843578815460205,
          32.3658561706543,
          9.003278732299805,
          -10.152572631835938,
          -54.778411865234375,
          -39.33755111694336,
          43.08340072631836,
          34.29948806762695,
          44.697269439697266,
          57.34164047241211,
          -41.014488220214844,
          -19.281539916992188,
          26.848560333251953,
          -32.73573303222656,
          -63.07372283935547,
          53.554588317871094,
          -22.854116439819336,
          -47.445289611816406,
          82.54407501220703,
          -23.557825088500977,
          -8.32714557647705,
          -4.009220123291016,
          -49.708595275878906,
          -57.10148620605469,
          -15.715970039367676,
          62.71657943725586,
          -74.17451477050781,
          -59.35930633544922,
          -77.56037139892578,
          18.312599182128906,
          9.497888565063477,
          49.76704406738281,
          1.525770902633667,
          -37.227928161621094,
          -71.6483154296875,
          -19.003225326538086,
          -88.45413208007812,
          53.37369918823242,
          74.96993255615234,
          64.42160034179688,
          69.82046508789062,
          -3.9155802726745605,
          -18.278038024902344,
          36.7965202331543,
          -2.841886281967163,
          1.4174613952636719,
          -42.084991455078125,
          30.86692237854004,
          -37.50979995727539,
          -73.0906753540039,
          29.673824310302734,
          38.13189697265625,
          2.23140025138855,
          50.28620529174805,
          -14.696308135986328,
          -45.4305534362793,
          -45.422393798828125,
          -34.66759490966797,
          -72.27395629882812,
          30.778528213500977,
          -35.373233795166016,
          2.032710552215576,
          -63.956600189208984,
          21.630990982055664,
          87.32830047607422,
          27.4014835357666,
          19.396278381347656,
          -25.448627471923828,
          -64.88648986816406,
          15.487251281738281,
          -49.56363296508789,
          79.46630859375,
          44.99974822998047,
          46.286842346191406,
          -1.9629124402999878,
          -60.12580108642578,
          50.961883544921875,
          -52.99983215332031,
          -49.94356155395508,
          -41.66342544555664,
          16.16645622253418,
          78.45631408691406,
          -70.65904235839844,
          -6.715528964996338,
          -19.116798400878906,
          71.18401336669922,
          -70.54946899414062,
          -51.722984313964844,
          0.5478513836860657,
          -20.86275291442871,
          -22.245445251464844,
          -10.368888854980469,
          36.68986511230469,
          51.549476623535156,
          -36.88682556152344,
          34.03036117553711,
          -9.549260139465332,
          55.97113800048828,
          -4.212656021118164,
          -17.97174644470215,
          8.057992935180664,
          -9.089714050292969,
          -44.03765106201172,
          -13.56551456451416,
          -75.77450561523438,
          -25.962566375732422,
          -70.3047866821289,
          -1.8362733125686646,
          10.549243927001953,
          -6.71925163269043,
          -25.91667938232422,
          34.042083740234375,
          -50.90079116821289,
          11.382951736450195,
          -52.37839889526367,
          -19.987146377563477,
          -34.7030143737793,
          -75.42865753173828,
          -20.427082061767578,
          38.76314163208008,
          -13.653975486755371,
          -7.577417850494385,
          11.684490203857422,
          -10.701554298400879,
          71.7501220703125,
          66.91143035888672,
          -60.408756256103516,
          62.20381164550781,
          16.587583541870117,
          12.601439476013184,
          -4.203773498535156,
          25.123132705688477,
          38.887332916259766,
          62.002174377441406,
          -37.327186584472656,
          44.29235076904297,
          13.955899238586426,
          66.38028717041016,
          -2.6675446033477783,
          50.07035827636719,
          -16.244861602783203,
          42.4767951965332,
          -64.14984893798828,
          29.78282356262207,
          -5.8644795417785645,
          -1.6527907848358154,
          -6.5454182624816895,
          24.61066436767578,
          -10.470145225524902,
          -35.29725646972656,
          -79.90473937988281,
          50.96068572998047,
          -51.7870979309082,
          -10.976776123046875,
          1.0509926080703735,
          31.375974655151367,
          -34.135555267333984,
          -56.345096588134766,
          55.693206787109375,
          7.085517883300781,
          -39.13178634643555,
          67.67778778076172,
          -18.831899642944336,
          4.713693141937256,
          -30.262041091918945,
          41.44196319580078,
          -45.73781204223633,
          -0.8706850409507751,
          14.664597511291504,
          42.61686325073242,
          -14.043060302734375,
          -40.615970611572266,
          -50.910003662109375,
          55.12889862060547,
          3.4540560245513916,
          3.6872668266296387,
          -4.548439979553223,
          48.6833381652832,
          -31.250375747680664,
          -77.8568115234375,
          34.27263641357422,
          -37.692142486572266,
          47.320655822753906,
          -18.392379760742188,
          -18.493345260620117,
          57.74502944946289,
          64.20399475097656,
          -72.14833068847656,
          42.015533447265625,
          28.896596908569336,
          -76.5333251953125,
          -19.093338012695312,
          -22.740829467773438,
          24.791040420532227,
          -33.784141540527344,
          53.71782684326172,
          -11.807075500488281,
          28.660079956054688,
          59.622314453125,
          4.574736595153809,
          -24.548477172851562,
          -8.671713829040527,
          -16.814470291137695,
          -23.566734313964844,
          -62.920494079589844,
          -31.333049774169922,
          -3.0729830265045166,
          48.6014404296875,
          49.209163665771484,
          -14.236871719360352,
          -56.15464782714844,
          -4.772848606109619,
          -53.95720672607422,
          -65.48265838623047,
          31.783395767211914,
          26.07278060913086,
          8.597871780395508,
          -10.48348331451416,
          -26.75629234313965,
          1.678364634513855,
          -14.761293411254883,
          53.840091705322266,
          38.43513870239258,
          36.67631530761719,
          -49.41610336303711,
          -68.76800537109375,
          -12.53106689453125,
          0.6111285090446472,
          -27.906177520751953,
          -49.256919860839844,
          -63.90709686279297,
          -55.080135345458984,
          14.361515998840332,
          -16.916996002197266,
          -15.140361785888672,
          8.719237327575684,
          -49.65264129638672,
          -31.4510555267334,
          25.778675079345703,
          -26.385469436645508,
          4.277583122253418,
          -16.516889572143555,
          -90.35265350341797,
          -31.365514755249023,
          46.809669494628906,
          14.906591415405273,
          64.75988006591797,
          -44.57899856567383,
          6.036393165588379,
          34.52301788330078,
          -17.716894149780273,
          -34.92760467529297,
          -24.49363899230957,
          9.131632804870605,
          40.39668655395508,
          9.688626289367676,
          -37.394412994384766,
          53.66108322143555,
          61.00542449951172,
          -28.78661346435547,
          25.1335391998291,
          51.48358917236328,
          -42.44821548461914,
          14.511476516723633,
          3.69862961769104,
          32.267513275146484,
          -57.96821212768555,
          -72.21548461914062,
          -42.54063034057617,
          -12.433655738830566,
          50.29792022705078,
          -26.82021141052246,
          21.439340591430664,
          -59.448612213134766,
          -40.243560791015625,
          1.6357433795928955,
          -12.279361724853516,
          44.86383056640625,
          44.56294631958008,
          -23.894397735595703,
          -74.02880859375,
          15.775577545166016,
          -37.926536560058594,
          -56.1806526184082,
          87.71418762207031,
          -11.561305046081543,
          42.454532623291016,
          47.271942138671875,
          29.026615142822266,
          2.4856491088867188,
          65.0869140625,
          -68.323486328125,
          49.764869689941406,
          30.65157127380371,
          68.24044799804688,
          32.673789978027344,
          -41.43678665161133,
          -67.4454574584961,
          -10.251940727233887,
          20.450868606567383,
          -25.191293716430664,
          23.091445922851562,
          -49.50102996826172,
          23.24018669128418,
          -53.9461784362793,
          62.15291213989258,
          37.682552337646484,
          61.295448303222656,
          77.9404525756836,
          -3.519670009613037,
          -50.26576232910156,
          30.590967178344727,
          -1.8904539346694946,
          7.4207282066345215,
          -49.8853874206543,
          82.80020904541016,
          -69.84696197509766,
          -54.63051986694336,
          -26.732826232910156,
          -43.855506896972656,
          -11.130683898925781,
          32.165260314941406,
          -77.09103393554688,
          -42.2366943359375,
          -22.510427474975586,
          -51.42375183105469,
          -12.787915229797363,
          70.5476303100586,
          -22.434755325317383,
          60.65936279296875,
          -39.274147033691406,
          65.48355102539062,
          64.81824493408203,
          19.888172149658203,
          -40.88813018798828,
          50.70530700683594,
          -17.065032958984375,
          -41.10505676269531,
          22.866758346557617,
          -29.255081176757812,
          -7.459344387054443,
          -2.1011009216308594,
          -8.613235473632812,
          -46.758853912353516,
          -10.350831031799316,
          -45.03961944580078,
          -31.343143463134766,
          15.400391578674316,
          25.01908302307129,
          48.719234466552734,
          -83.39485931396484,
          14.960121154785156,
          13.27888298034668,
          44.963775634765625,
          34.987953186035156,
          40.95991134643555,
          -46.17305374145508,
          53.680850982666016,
          -0.7917364239692688,
          1.4873565435409546,
          9.61560344696045,
          40.288150787353516,
          -76.8457260131836,
          -31.131471633911133,
          48.17420196533203,
          33.9546012878418,
          7.030392169952393,
          -39.5205078125,
          -15.761774063110352,
          49.10017395019531,
          -67.93809509277344,
          -39.668212890625,
          7.3089985847473145,
          -13.458006858825684,
          49.44078063964844,
          30.864913940429688,
          16.07978057861328,
          -41.31869125366211,
          -11.431422233581543,
          55.53181838989258,
          14.546768188476562,
          -27.052284240722656,
          -64.90602111816406,
          72.41911315917969,
          14.038883209228516,
          -63.8278923034668,
          -11.065393447875977,
          30.186826705932617,
          -36.515933990478516,
          33.467891693115234,
          6.13422966003418,
          59.658729553222656,
          -3.84773850440979,
          -38.815406799316406,
          29.760942459106445,
          35.3759880065918,
          -3.0128302574157715,
          80.4395980834961,
          38.48320388793945,
          33.307708740234375,
          15.402495384216309,
          64.63169860839844,
          32.33549118041992,
          -76.38824462890625,
          -19.433917999267578,
          -44.065303802490234,
          21.83263397216797,
          24.207061767578125,
          11.765315055847168,
          14.88337230682373,
          -71.62310028076172,
          -7.185519695281982,
          51.738895416259766,
          14.59752082824707,
          -13.535961151123047,
          56.162635803222656,
          36.31400680541992,
          -54.12235641479492,
          62.13637161254883,
          -52.198638916015625,
          -27.93743324279785,
          -9.334625244140625,
          23.21613311767578,
          61.88579177856445,
          30.781156539916992,
          3.2142269611358643,
          71.02072143554688,
          39.842655181884766,
          49.33501052856445,
          8.468515396118164,
          35.2237434387207,
          -34.725242614746094,
          -87.7884521484375,
          78.90201568603516,
          -9.161107063293457,
          -1.4821863174438477,
          -15.649362564086914,
          16.62725067138672,
          -77.61709594726562,
          -19.2718563079834,
          47.65943908691406,
          58.559104919433594,
          82.73442840576172,
          21.965042114257812,
          34.00345993041992,
          2.7097411155700684,
          -22.974069595336914,
          -51.80656051635742,
          66.56745910644531,
          -51.60948181152344,
          -52.3426628112793,
          49.87663269042969,
          50.49245834350586,
          64.55318450927734,
          64.74845123291016,
          -19.754226684570312,
          33.20489501953125,
          11.698013305664062,
          -9.171411514282227,
          17.510372161865234,
          22.60788345336914,
          52.72706985473633,
          -61.8238639831543,
          -82.0915756225586,
          23.870162963867188,
          -15.409290313720703,
          -25.500486373901367,
          54.909019470214844,
          26.25350570678711,
          -16.310922622680664,
          11.25067138671875,
          -61.94863510131836,
          28.909181594848633,
          -42.69741439819336,
          -20.175992965698242,
          -26.31824493408203,
          55.44667434692383,
          18.520143508911133,
          64.6784896850586,
          -54.799564361572266,
          50.656681060791016,
          26.530099868774414,
          -46.04839324951172,
          47.69361877441406,
          -6.037300109863281,
          15.520750045776367,
          23.632654190063477,
          52.581687927246094,
          -6.671905517578125,
          -19.288074493408203,
          49.939300537109375,
          5.977664947509766,
          0.4415677487850189,
          37.28540802001953,
          71.93668365478516,
          53.37852096557617,
          -20.97882080078125,
          -42.113834381103516,
          69.39896392822266,
          -40.6993293762207,
          64.2545394897461,
          26.535053253173828,
          39.79996109008789,
          63.27238464355469,
          -4.732022762298584,
          -21.02843475341797,
          52.520816802978516,
          -55.2209587097168,
          -31.9200382232666,
          -26.59320068359375,
          3.4855098724365234,
          -56.31239318847656,
          -51.74331283569336,
          -0.7743682861328125,
          20.699600219726562,
          -8.31751537322998,
          -29.71651840209961,
          35.622432708740234,
          2.91853928565979,
          2.267045497894287,
          5.22278356552124,
          -19.47449493408203,
          -27.3929386138916,
          -41.70134353637695,
          40.30998992919922,
          -38.20561218261719,
          -72.98470306396484,
          51.26344299316406,
          -0.5648488402366638,
          -21.575576782226562,
          27.054019927978516,
          26.62731170654297,
          -44.91912841796875,
          52.41006088256836,
          27.66034698486328,
          62.74609375,
          1.5584847927093506,
          77.78754425048828,
          -59.872413635253906,
          -75.7802963256836,
          6.643855571746826,
          -21.667673110961914,
          11.846781730651855,
          9.34803295135498,
          -11.091999053955078,
          -66.505126953125,
          -49.896453857421875,
          20.271677017211914,
          -59.38412857055664,
          9.8804931640625,
          -42.98994827270508,
          11.881695747375488,
          51.964908599853516,
          -28.94253921508789,
          -44.63435363769531,
          61.5004997253418,
          51.76626968383789,
          -7.219029903411865,
          77.1727294921875,
          -20.751808166503906,
          24.05303382873535,
          31.3772029876709,
          -85.02859497070312,
          -22.270675659179688,
          21.027313232421875,
          -73.39059448242188,
          -22.516572952270508,
          -85.5330581665039,
          -0.3283509910106659,
          9.147866249084473,
          51.96562957763672,
          29.881956100463867,
          -6.173463821411133,
          24.91652488708496,
          -13.541938781738281,
          1.4411208629608154,
          17.029359817504883,
          4.953190326690674,
          -17.17782211303711,
          33.42884063720703,
          -25.805818557739258,
          68.41382598876953,
          -17.90894889831543,
          -55.35267639160156,
          -15.213170051574707,
          19.827556610107422,
          37.58730697631836,
          -4.8174591064453125,
          -52.344764709472656,
          -20.939550399780273,
          63.796504974365234,
          -12.05984115600586,
          80.39878845214844,
          -30.030227661132812,
          -54.82789611816406,
          -0.735133707523346,
          -10.31981372833252,
          -51.10490036010742,
          37.42048263549805,
          21.287656784057617,
          57.00691223144531,
          -38.87689208984375,
          -23.109607696533203,
          -52.249732971191406,
          -38.95479202270508,
          -60.369808197021484,
          52.994544982910156,
          -18.7039737701416,
          -1.4546544551849365,
          23.488182067871094,
          41.95049285888672,
          11.048542022705078,
          -20.855993270874023,
          -29.476701736450195,
          -26.28708839416504,
          -43.2818489074707,
          6.862558364868164,
          -24.955434799194336,
          -90.35242462158203,
          -52.88814926147461,
          -58.09760284423828,
          13.693955421447754,
          -10.873804092407227,
          65.01728820800781,
          -7.283758640289307,
          8.337642669677734,
          -30.297199249267578,
          -1.1276875734329224,
          -16.647687911987305,
          -32.178466796875,
          -39.18894577026367,
          19.4058780670166,
          -61.61913299560547,
          29.512039184570312,
          30.946226119995117,
          49.474361419677734,
          -55.78201675415039,
          54.94989776611328,
          6.4886064529418945,
          1.5388273000717163,
          54.52956008911133,
          -0.24325841665267944,
          58.351070404052734,
          -35.45941925048828,
          27.41566276550293,
          -54.91288757324219,
          47.857887268066406,
          -5.322676181793213,
          60.01383590698242,
          73.5400161743164,
          -23.509164810180664,
          60.3195686340332,
          -81.31376647949219,
          1.586413025856018,
          40.48419189453125,
          -4.279290676116943,
          66.43754577636719,
          27.726362228393555,
          6.084280490875244,
          -13.31743049621582,
          4.143795013427734,
          -6.370743274688721,
          -12.682628631591797,
          -76.26359558105469,
          49.261146545410156,
          -57.57252883911133,
          1.442428708076477,
          83.86709594726562,
          -10.522073745727539,
          -38.51722717285156,
          42.639339447021484,
          13.764801025390625,
          -6.98690128326416,
          -35.42634201049805,
          35.09599685668945,
          19.676677703857422,
          63.73301315307617,
          2.827608346939087,
          -51.689598083496094,
          -19.969955444335938,
          39.51936340332031,
          49.72480010986328,
          1.6224706172943115,
          29.46895408630371,
          12.36941146850586,
          7.888741970062256,
          -51.46284484863281,
          21.139789581298828,
          -4.418912410736084,
          -54.928401947021484,
          19.015766143798828,
          -15.066247940063477,
          -49.808616638183594,
          24.709007263183594,
          -50.61601257324219,
          -87.36263275146484,
          50.08955383300781,
          25.65957260131836,
          26.682382583618164,
          -46.3680305480957,
          -11.744894027709961,
          71.2320327758789,
          41.922035217285156,
          -19.875133514404297,
          -82.02276611328125,
          31.047168731689453,
          18.52043914794922,
          12.26124095916748,
          -37.94565963745117,
          4.352374076843262,
          -14.666669845581055,
          30.71343231201172,
          52.057098388671875,
          26.10597038269043,
          -25.20148468017578,
          -27.082233428955078,
          6.470907688140869,
          12.334992408752441,
          -19.10495376586914,
          -43.51512145996094,
          3.9376518726348877,
          35.14344787597656,
          -67.02632141113281,
          -44.45220184326172,
          -75.15388488769531,
          11.377957344055176,
          62.746273040771484,
          64.4775619506836,
          4.4570465087890625,
          50.9696159362793,
          -78.3536376953125,
          50.657840728759766,
          9.782806396484375,
          -6.153564453125,
          -19.758535385131836,
          7.8338141441345215,
          8.450431823730469,
          -0.9059529900550842,
          -54.59220886230469,
          -10.809596061706543,
          31.032968521118164,
          74.5235824584961,
          7.991637706756592,
          10.957839965820312,
          -17.09549903869629,
          22.674854278564453,
          -3.010403871536255,
          0.3688734471797943,
          -9.402803421020508,
          10.534319877624512,
          -18.841354370117188,
          -37.56172561645508,
          -18.882293701171875,
          6.055647373199463,
          -45.38058853149414,
          -30.27846336364746,
          36.08708572387695,
          25.692110061645508,
          -1.784172534942627,
          -2.065492868423462,
          -87.92314910888672,
          -53.53107833862305,
          44.57205581665039,
          -67.87696075439453,
          -84.7283935546875,
          1.3460588455200195,
          40.28413391113281,
          27.917856216430664,
          50.103553771972656,
          68.5163803100586,
          -16.389223098754883,
          -75.28624725341797,
          7.713160991668701,
          21.29802894592285,
          61.45121383666992,
          28.824275970458984,
          12.249518394470215,
          -29.300167083740234,
          79.42311096191406,
          -66.69092559814453,
          -1.3181328773498535,
          -17.56694984436035,
          -4.1824564933776855,
          -22.74551773071289,
          -9.104451179504395,
          45.27051544189453,
          -24.19770622253418,
          7.568239212036133,
          -15.971117973327637
         ],
         "yaxis": "y"
        }
       ],
       "layout": {
        "legend": {
         "tracegroupgap": 0
        },
        "margin": {
         "t": 60
        },
        "template": {
         "data": {
          "bar": [
           {
            "error_x": {
             "color": "#2a3f5f"
            },
            "error_y": {
             "color": "#2a3f5f"
            },
            "marker": {
             "line": {
              "color": "#E5ECF6",
              "width": 0.5
             },
             "pattern": {
              "fillmode": "overlay",
              "size": 10,
              "solidity": 0.2
             }
            },
            "type": "bar"
           }
          ],
          "barpolar": [
           {
            "marker": {
             "line": {
              "color": "#E5ECF6",
              "width": 0.5
             },
             "pattern": {
              "fillmode": "overlay",
              "size": 10,
              "solidity": 0.2
             }
            },
            "type": "barpolar"
           }
          ],
          "carpet": [
           {
            "aaxis": {
             "endlinecolor": "#2a3f5f",
             "gridcolor": "white",
             "linecolor": "white",
             "minorgridcolor": "white",
             "startlinecolor": "#2a3f5f"
            },
            "baxis": {
             "endlinecolor": "#2a3f5f",
             "gridcolor": "white",
             "linecolor": "white",
             "minorgridcolor": "white",
             "startlinecolor": "#2a3f5f"
            },
            "type": "carpet"
           }
          ],
          "choropleth": [
           {
            "colorbar": {
             "outlinewidth": 0,
             "ticks": ""
            },
            "type": "choropleth"
           }
          ],
          "contour": [
           {
            "colorbar": {
             "outlinewidth": 0,
             "ticks": ""
            },
            "colorscale": [
             [
              0,
              "#0d0887"
             ],
             [
              0.1111111111111111,
              "#46039f"
             ],
             [
              0.2222222222222222,
              "#7201a8"
             ],
             [
              0.3333333333333333,
              "#9c179e"
             ],
             [
              0.4444444444444444,
              "#bd3786"
             ],
             [
              0.5555555555555556,
              "#d8576b"
             ],
             [
              0.6666666666666666,
              "#ed7953"
             ],
             [
              0.7777777777777778,
              "#fb9f3a"
             ],
             [
              0.8888888888888888,
              "#fdca26"
             ],
             [
              1,
              "#f0f921"
             ]
            ],
            "type": "contour"
           }
          ],
          "contourcarpet": [
           {
            "colorbar": {
             "outlinewidth": 0,
             "ticks": ""
            },
            "type": "contourcarpet"
           }
          ],
          "heatmap": [
           {
            "colorbar": {
             "outlinewidth": 0,
             "ticks": ""
            },
            "colorscale": [
             [
              0,
              "#0d0887"
             ],
             [
              0.1111111111111111,
              "#46039f"
             ],
             [
              0.2222222222222222,
              "#7201a8"
             ],
             [
              0.3333333333333333,
              "#9c179e"
             ],
             [
              0.4444444444444444,
              "#bd3786"
             ],
             [
              0.5555555555555556,
              "#d8576b"
             ],
             [
              0.6666666666666666,
              "#ed7953"
             ],
             [
              0.7777777777777778,
              "#fb9f3a"
             ],
             [
              0.8888888888888888,
              "#fdca26"
             ],
             [
              1,
              "#f0f921"
             ]
            ],
            "type": "heatmap"
           }
          ],
          "heatmapgl": [
           {
            "colorbar": {
             "outlinewidth": 0,
             "ticks": ""
            },
            "colorscale": [
             [
              0,
              "#0d0887"
             ],
             [
              0.1111111111111111,
              "#46039f"
             ],
             [
              0.2222222222222222,
              "#7201a8"
             ],
             [
              0.3333333333333333,
              "#9c179e"
             ],
             [
              0.4444444444444444,
              "#bd3786"
             ],
             [
              0.5555555555555556,
              "#d8576b"
             ],
             [
              0.6666666666666666,
              "#ed7953"
             ],
             [
              0.7777777777777778,
              "#fb9f3a"
             ],
             [
              0.8888888888888888,
              "#fdca26"
             ],
             [
              1,
              "#f0f921"
             ]
            ],
            "type": "heatmapgl"
           }
          ],
          "histogram": [
           {
            "marker": {
             "pattern": {
              "fillmode": "overlay",
              "size": 10,
              "solidity": 0.2
             }
            },
            "type": "histogram"
           }
          ],
          "histogram2d": [
           {
            "colorbar": {
             "outlinewidth": 0,
             "ticks": ""
            },
            "colorscale": [
             [
              0,
              "#0d0887"
             ],
             [
              0.1111111111111111,
              "#46039f"
             ],
             [
              0.2222222222222222,
              "#7201a8"
             ],
             [
              0.3333333333333333,
              "#9c179e"
             ],
             [
              0.4444444444444444,
              "#bd3786"
             ],
             [
              0.5555555555555556,
              "#d8576b"
             ],
             [
              0.6666666666666666,
              "#ed7953"
             ],
             [
              0.7777777777777778,
              "#fb9f3a"
             ],
             [
              0.8888888888888888,
              "#fdca26"
             ],
             [
              1,
              "#f0f921"
             ]
            ],
            "type": "histogram2d"
           }
          ],
          "histogram2dcontour": [
           {
            "colorbar": {
             "outlinewidth": 0,
             "ticks": ""
            },
            "colorscale": [
             [
              0,
              "#0d0887"
             ],
             [
              0.1111111111111111,
              "#46039f"
             ],
             [
              0.2222222222222222,
              "#7201a8"
             ],
             [
              0.3333333333333333,
              "#9c179e"
             ],
             [
              0.4444444444444444,
              "#bd3786"
             ],
             [
              0.5555555555555556,
              "#d8576b"
             ],
             [
              0.6666666666666666,
              "#ed7953"
             ],
             [
              0.7777777777777778,
              "#fb9f3a"
             ],
             [
              0.8888888888888888,
              "#fdca26"
             ],
             [
              1,
              "#f0f921"
             ]
            ],
            "type": "histogram2dcontour"
           }
          ],
          "mesh3d": [
           {
            "colorbar": {
             "outlinewidth": 0,
             "ticks": ""
            },
            "type": "mesh3d"
           }
          ],
          "parcoords": [
           {
            "line": {
             "colorbar": {
              "outlinewidth": 0,
              "ticks": ""
             }
            },
            "type": "parcoords"
           }
          ],
          "pie": [
           {
            "automargin": true,
            "type": "pie"
           }
          ],
          "scatter": [
           {
            "fillpattern": {
             "fillmode": "overlay",
             "size": 10,
             "solidity": 0.2
            },
            "type": "scatter"
           }
          ],
          "scatter3d": [
           {
            "line": {
             "colorbar": {
              "outlinewidth": 0,
              "ticks": ""
             }
            },
            "marker": {
             "colorbar": {
              "outlinewidth": 0,
              "ticks": ""
             }
            },
            "type": "scatter3d"
           }
          ],
          "scattercarpet": [
           {
            "marker": {
             "colorbar": {
              "outlinewidth": 0,
              "ticks": ""
             }
            },
            "type": "scattercarpet"
           }
          ],
          "scattergeo": [
           {
            "marker": {
             "colorbar": {
              "outlinewidth": 0,
              "ticks": ""
             }
            },
            "type": "scattergeo"
           }
          ],
          "scattergl": [
           {
            "marker": {
             "colorbar": {
              "outlinewidth": 0,
              "ticks": ""
             }
            },
            "type": "scattergl"
           }
          ],
          "scattermapbox": [
           {
            "marker": {
             "colorbar": {
              "outlinewidth": 0,
              "ticks": ""
             }
            },
            "type": "scattermapbox"
           }
          ],
          "scatterpolar": [
           {
            "marker": {
             "colorbar": {
              "outlinewidth": 0,
              "ticks": ""
             }
            },
            "type": "scatterpolar"
           }
          ],
          "scatterpolargl": [
           {
            "marker": {
             "colorbar": {
              "outlinewidth": 0,
              "ticks": ""
             }
            },
            "type": "scatterpolargl"
           }
          ],
          "scatterternary": [
           {
            "marker": {
             "colorbar": {
              "outlinewidth": 0,
              "ticks": ""
             }
            },
            "type": "scatterternary"
           }
          ],
          "surface": [
           {
            "colorbar": {
             "outlinewidth": 0,
             "ticks": ""
            },
            "colorscale": [
             [
              0,
              "#0d0887"
             ],
             [
              0.1111111111111111,
              "#46039f"
             ],
             [
              0.2222222222222222,
              "#7201a8"
             ],
             [
              0.3333333333333333,
              "#9c179e"
             ],
             [
              0.4444444444444444,
              "#bd3786"
             ],
             [
              0.5555555555555556,
              "#d8576b"
             ],
             [
              0.6666666666666666,
              "#ed7953"
             ],
             [
              0.7777777777777778,
              "#fb9f3a"
             ],
             [
              0.8888888888888888,
              "#fdca26"
             ],
             [
              1,
              "#f0f921"
             ]
            ],
            "type": "surface"
           }
          ],
          "table": [
           {
            "cells": {
             "fill": {
              "color": "#EBF0F8"
             },
             "line": {
              "color": "white"
             }
            },
            "header": {
             "fill": {
              "color": "#C8D4E3"
             },
             "line": {
              "color": "white"
             }
            },
            "type": "table"
           }
          ]
         },
         "layout": {
          "annotationdefaults": {
           "arrowcolor": "#2a3f5f",
           "arrowhead": 0,
           "arrowwidth": 1
          },
          "autotypenumbers": "strict",
          "coloraxis": {
           "colorbar": {
            "outlinewidth": 0,
            "ticks": ""
           }
          },
          "colorscale": {
           "diverging": [
            [
             0,
             "#8e0152"
            ],
            [
             0.1,
             "#c51b7d"
            ],
            [
             0.2,
             "#de77ae"
            ],
            [
             0.3,
             "#f1b6da"
            ],
            [
             0.4,
             "#fde0ef"
            ],
            [
             0.5,
             "#f7f7f7"
            ],
            [
             0.6,
             "#e6f5d0"
            ],
            [
             0.7,
             "#b8e186"
            ],
            [
             0.8,
             "#7fbc41"
            ],
            [
             0.9,
             "#4d9221"
            ],
            [
             1,
             "#276419"
            ]
           ],
           "sequential": [
            [
             0,
             "#0d0887"
            ],
            [
             0.1111111111111111,
             "#46039f"
            ],
            [
             0.2222222222222222,
             "#7201a8"
            ],
            [
             0.3333333333333333,
             "#9c179e"
            ],
            [
             0.4444444444444444,
             "#bd3786"
            ],
            [
             0.5555555555555556,
             "#d8576b"
            ],
            [
             0.6666666666666666,
             "#ed7953"
            ],
            [
             0.7777777777777778,
             "#fb9f3a"
            ],
            [
             0.8888888888888888,
             "#fdca26"
            ],
            [
             1,
             "#f0f921"
            ]
           ],
           "sequentialminus": [
            [
             0,
             "#0d0887"
            ],
            [
             0.1111111111111111,
             "#46039f"
            ],
            [
             0.2222222222222222,
             "#7201a8"
            ],
            [
             0.3333333333333333,
             "#9c179e"
            ],
            [
             0.4444444444444444,
             "#bd3786"
            ],
            [
             0.5555555555555556,
             "#d8576b"
            ],
            [
             0.6666666666666666,
             "#ed7953"
            ],
            [
             0.7777777777777778,
             "#fb9f3a"
            ],
            [
             0.8888888888888888,
             "#fdca26"
            ],
            [
             1,
             "#f0f921"
            ]
           ]
          },
          "colorway": [
           "#636efa",
           "#EF553B",
           "#00cc96",
           "#ab63fa",
           "#FFA15A",
           "#19d3f3",
           "#FF6692",
           "#B6E880",
           "#FF97FF",
           "#FECB52"
          ],
          "font": {
           "color": "#2a3f5f"
          },
          "geo": {
           "bgcolor": "white",
           "lakecolor": "white",
           "landcolor": "#E5ECF6",
           "showlakes": true,
           "showland": true,
           "subunitcolor": "white"
          },
          "hoverlabel": {
           "align": "left"
          },
          "hovermode": "closest",
          "mapbox": {
           "style": "light"
          },
          "paper_bgcolor": "white",
          "plot_bgcolor": "#E5ECF6",
          "polar": {
           "angularaxis": {
            "gridcolor": "white",
            "linecolor": "white",
            "ticks": ""
           },
           "bgcolor": "#E5ECF6",
           "radialaxis": {
            "gridcolor": "white",
            "linecolor": "white",
            "ticks": ""
           }
          },
          "scene": {
           "xaxis": {
            "backgroundcolor": "#E5ECF6",
            "gridcolor": "white",
            "gridwidth": 2,
            "linecolor": "white",
            "showbackground": true,
            "ticks": "",
            "zerolinecolor": "white"
           },
           "yaxis": {
            "backgroundcolor": "#E5ECF6",
            "gridcolor": "white",
            "gridwidth": 2,
            "linecolor": "white",
            "showbackground": true,
            "ticks": "",
            "zerolinecolor": "white"
           },
           "zaxis": {
            "backgroundcolor": "#E5ECF6",
            "gridcolor": "white",
            "gridwidth": 2,
            "linecolor": "white",
            "showbackground": true,
            "ticks": "",
            "zerolinecolor": "white"
           }
          },
          "shapedefaults": {
           "line": {
            "color": "#2a3f5f"
           }
          },
          "ternary": {
           "aaxis": {
            "gridcolor": "white",
            "linecolor": "white",
            "ticks": ""
           },
           "baxis": {
            "gridcolor": "white",
            "linecolor": "white",
            "ticks": ""
           },
           "bgcolor": "#E5ECF6",
           "caxis": {
            "gridcolor": "white",
            "linecolor": "white",
            "ticks": ""
           }
          },
          "title": {
           "x": 0.05
          },
          "xaxis": {
           "automargin": true,
           "gridcolor": "white",
           "linecolor": "white",
           "ticks": "",
           "title": {
            "standoff": 15
           },
           "zerolinecolor": "white",
           "zerolinewidth": 2
          },
          "yaxis": {
           "automargin": true,
           "gridcolor": "white",
           "linecolor": "white",
           "ticks": "",
           "title": {
            "standoff": 15
           },
           "zerolinecolor": "white",
           "zerolinewidth": 2
          }
         }
        },
        "xaxis": {
         "anchor": "y",
         "domain": [
          0,
          1
         ],
         "title": {
          "text": "x_tsne"
         }
        },
        "yaxis": {
         "anchor": "x",
         "domain": [
          0,
          1
         ],
         "title": {
          "text": "y_tsne"
         }
        }
       }
      }
     },
     "metadata": {},
     "output_type": "display_data"
    }
   ],
   "source": [
    "fig = px.scatter(\n",
    "    plt_data,\n",
    "    x=\"x_tsne\",\n",
    "    y=\"y_tsne\",\n",
    "    hover_name=\"title\",\n",
    "    hover_data=[\"label\"]\n",
    ")\n",
    "fig.show()\n",
    "### TODO: Collapse clusters (concatenate documets in a cluster) to generate higher-level clusters"
   ]
  },
  {
   "cell_type": "code",
   "execution_count": 37,
   "id": "c5f031db-7e18-4922-813f-cc6a055fcfa3",
   "metadata": {},
   "outputs": [],
   "source": [
    "src_idx = 4\n",
    "dists = np.linalg.norm(X_tsne[src_idx] - X_tsne, axis=1)\n",
    "sim_ids = np.argsort(dists)"
   ]
  },
  {
   "cell_type": "code",
   "execution_count": 38,
   "id": "dd99fc99-e485-4f3d-a55b-14d97b1ae20b",
   "metadata": {},
   "outputs": [
    {
     "name": "stdout",
     "output_type": "stream",
     "text": [
      "multi-task deep cnn model for no-reference image quality assessment on smartphone camera photos \n",
      "\n",
      "a counter-forensic method for cnn-based camera model identification \n",
      "\n",
      "cnn-based fast source device identification \n",
      "\n",
      "the forchheim image database for camera identification in the wild \n",
      "\n",
      "analysis of adversarial attacks against cnn-based image forgery detectors \n",
      "\n",
      "spatiotemporal cnns for pornography detection in videos \n",
      "\n",
      "deep learning methods for event verification and image repurposing detection \n",
      "\n",
      "deepfirearm: learning discriminative feature representation for fine-grained firearm retrieval \n",
      "\n",
      "evading deepfake-image detectors with white- and black-box attacks \n",
      "\n",
      "improving the authentication with built-in camera protocol using built-in motion sensors: a deep learning solution \n",
      "\n"
     ]
    }
   ],
   "source": [
    "for idx in range(10):\n",
    "    print(documents[sim_ids[idx]].split(\"--\")[0], end=\"\\n\\n\")"
   ]
  },
  {
   "cell_type": "code",
   "execution_count": 128,
   "id": "1583a533-bfe4-496e-a40f-0cdd12aa92bc",
   "metadata": {},
   "outputs": [],
   "source": [
    "# LDA can only use raw term counts for LDA because it is a probabilistic graphical model\n",
    "tf_vectorizer = CountVectorizer(\n",
    "    max_df=0.95,\n",
    "    min_df=2,\n",
    "    max_features=no_features,\n",
    "    stop_words=\"english\"\n",
    ")\n",
    "tf = tf_vectorizer.fit_transform(documents)\n",
    "tf_feature_names = tf_vectorizer.get_feature_names()"
   ]
  },
  {
   "cell_type": "code",
   "execution_count": 28,
   "id": "c2bb101f-4a58-48e8-8ed3-2f62017fab01",
   "metadata": {},
   "outputs": [
    {
     "name": "stderr",
     "output_type": "stream",
     "text": [
      "/home/ronnypetson/anaconda3/lib/python3.7/site-packages/sklearn/decomposition/_nmf.py:1425: FutureWarning: `alpha` was deprecated in version 1.0 and will be removed in 1.2. Use `alpha_W` and `alpha_H` instead\n",
      "  FutureWarning,\n",
      "/home/ronnypetson/anaconda3/lib/python3.7/site-packages/sklearn/decomposition/_nmf.py:1641: ConvergenceWarning: Maximum number of iterations 200 reached. Increase it to improve convergence.\n",
      "  ConvergenceWarning,\n"
     ]
    }
   ],
   "source": [
    "# Run NMF\n",
    "nmf = NMF(\n",
    "    n_components=no_topics,\n",
    "    random_state=1,\n",
    "    alpha=.1,\n",
    "    l1_ratio=.5,\n",
    "    init='nndsvd'\n",
    ").fit(tfidf)"
   ]
  },
  {
   "cell_type": "code",
   "execution_count": 130,
   "id": "6592e332-3545-42fc-89e2-c1f2b6219ac7",
   "metadata": {},
   "outputs": [],
   "source": [
    "# Run LDA\n",
    "lda = LatentDirichletAllocation(\n",
    "    n_components=no_topics,\n",
    "    max_iter=5,\n",
    "    learning_method='online',\n",
    "    learning_offset=50.,\n",
    "    random_state=0\n",
    ").fit(tf)"
   ]
  },
  {
   "cell_type": "code",
   "execution_count": 29,
   "id": "6dae10a3-9757-4bd2-a62c-cdc75146f686",
   "metadata": {},
   "outputs": [],
   "source": [
    "def display_topics(model, feature_names, no_top_words):\n",
    "    for topic_idx, topic in enumerate(model.components_):\n",
    "        print(f\"Topic {topic_idx}:\")\n",
    "        print(\" \".join(\n",
    "                [feature_names[i] for i in topic.argsort()[:-no_top_words - 1:-1]]\n",
    "            )\n",
    "        )\n",
    "    print()"
   ]
  },
  {
   "cell_type": "code",
   "execution_count": null,
   "id": "3271d982-fa18-4b63-af75-81f8a9169508",
   "metadata": {},
   "outputs": [],
   "source": [
    "display_topics(nmf, tfidf_feature_names, no_top_words)\n",
    "display_topics(lda, tf_feature_names, no_top_words)"
   ]
  },
  {
   "cell_type": "code",
   "execution_count": null,
   "id": "d6625936-9c28-4e03-8539-50241c9088f4",
   "metadata": {},
   "outputs": [],
   "source": []
  }
 ],
 "metadata": {
  "kernelspec": {
   "display_name": "base",
   "language": "python",
   "name": "python3"
  },
  "language_info": {
   "codemirror_mode": {
    "name": "ipython",
    "version": 3
   },
   "file_extension": ".py",
   "mimetype": "text/x-python",
   "name": "python",
   "nbconvert_exporter": "python",
   "pygments_lexer": "ipython3",
   "version": "3.7.4"
  },
  "vscode": {
   "interpreter": {
    "hash": "65d6ab5c1287ed9bee7ddb3139cda0a6cb6c9996a348fd6461b7a89edc2ce667"
   }
  }
 },
 "nbformat": 4,
 "nbformat_minor": 5
}
