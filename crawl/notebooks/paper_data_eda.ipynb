{
 "cells": [
  {
   "cell_type": "code",
   "execution_count": 1,
   "metadata": {},
   "outputs": [],
   "source": [
    "import os\n",
    "from glob import glob\n",
    "import json\n",
    "\n",
    "source_dir = os.path.join(\"..\", \"arxiv_papers_infos\")\n",
    "papers_paths = glob(os.path.join(source_dir, \"*.json\"))"
   ]
  },
  {
   "cell_type": "code",
   "execution_count": 2,
   "metadata": {},
   "outputs": [
    {
     "name": "stdout",
     "output_type": "stream",
     "text": [
      "320\n"
     ]
    }
   ],
   "source": [
    "paper_data = []\n",
    "for path in papers_paths:\n",
    "    with open(path, \"r\") as f:\n",
    "        data = json.load(f)\n",
    "    paper_data.append(data)\n",
    "print(len(paper_data))"
   ]
  },
  {
   "cell_type": "code",
   "execution_count": 3,
   "metadata": {},
   "outputs": [],
   "source": [
    "from sentence_transformers import SentenceTransformer\n",
    "\n",
    "# model = SentenceTransformer('sentence-transformers/all-MiniLM-L6-v2')\n",
    "model = SentenceTransformer(\"paraphrase-MiniLM-L6-v2\")"
   ]
  },
  {
   "cell_type": "code",
   "execution_count": 4,
   "metadata": {},
   "outputs": [
    {
     "name": "stdout",
     "output_type": "stream",
     "text": [
      "320\n"
     ]
    }
   ],
   "source": [
    "docs = []\n",
    "titles = []\n",
    "for data in paper_data:\n",
    "    if \"result\" not in data:\n",
    "        continue\n",
    "    data = data[\"result\"]\n",
    "    authors = \"\" if \"authors\" not in data else \" \".join(data[\"authors\"])\n",
    "    title = \"\" if \"title\" not in data else data[\"title\"]\n",
    "    abstract = \"\" if \"abstract\" not in data else data[\"abstract\"]\n",
    "    # sent = authors + \" \" + title + \" \" + abstract\n",
    "    sent = title + \" ----- \" + abstract\n",
    "    docs.append(sent)\n",
    "    titles.append(title)\n",
    "print(len(docs))"
   ]
  },
  {
   "cell_type": "code",
   "execution_count": 5,
   "metadata": {},
   "outputs": [],
   "source": [
    "embeddings = model.encode(docs[:1000])"
   ]
  },
  {
   "cell_type": "code",
   "execution_count": 17,
   "metadata": {},
   "outputs": [],
   "source": [
    "from sklearn.manifold import TSNE\n",
    "\n",
    "X_tsne = TSNE(\n",
    "    n_components=2,\n",
    "    learning_rate='auto',\n",
    "    init='random',\n",
    "    perplexity=10\n",
    ").fit_transform(embeddings)"
   ]
  },
  {
   "cell_type": "code",
   "execution_count": 36,
   "metadata": {},
   "outputs": [],
   "source": [
    "import pandas as pd\n",
    "from matplotlib import pyplot as plt\n",
    "import plotly.express as px\n",
    "from sklearn.cluster import DBSCAN\n",
    "from sklearn.metrics import silhouette_score\n",
    "\n",
    "\n",
    "runs_df = {\n",
    "    \"TSNE perplexity\": [],\n",
    "    \"DBSCAN eps\": [],\n",
    "    \"DBSCAN min_samples\": [],\n",
    "    \"Num. clusters\": [],\n",
    "    \"Num. noise\": [],\n",
    "    \"Silhouette\": [],\n",
    "}\n",
    "\n",
    "for perp in [10]:\n",
    "    X_tsne = TSNE(\n",
    "        n_components=2,\n",
    "        learning_rate='auto',\n",
    "        init='random',\n",
    "        perplexity=perp\n",
    "    ).fit_transform(embeddings)\n",
    "    plt_data = pd.DataFrame(\n",
    "        {\n",
    "            \"x_tsne\": X_tsne[:, 0],\n",
    "            \"y_tsne\": X_tsne[:, 1],\n",
    "            \"content\": titles[:len(X_tsne)],\n",
    "        }\n",
    "    )\n",
    "    for _eps in [int(4 * 2.75)]:\n",
    "        eps = _eps / 4.0\n",
    "        for min_samples in [2]:\n",
    "            db = DBSCAN(eps=eps, min_samples=min_samples).fit(X_tsne)\n",
    "            labels = db.labels_\n",
    "            if len(set(labels)) == 1:\n",
    "                sil_score = -1.0\n",
    "            else:\n",
    "                sil_score = silhouette_score(X_tsne, labels)\n",
    "            n_clusters_ = len(set(labels)) - (1 if -1 in labels else 0)\n",
    "            n_noise_ = list(labels).count(-1)\n",
    "            runs_df[\"TSNE perplexity\"].append(perp)\n",
    "            runs_df[\"DBSCAN eps\"].append(eps)\n",
    "            runs_df[\"DBSCAN min_samples\"].append(min_samples)\n",
    "            runs_df[\"Num. clusters\"].append(n_clusters_)\n",
    "            runs_df[\"Num. noise\"].append(n_noise_)\n",
    "            runs_df[\"Silhouette\"].append(sil_score)\n",
    "\n",
    "runs_df = pd.DataFrame(runs_df)\n",
    "\n",
    "# n_clusters_ = len(set(labels)) - (1 if -1 in labels else 0)\n",
    "# n_noise_ = list(labels).count(-1)\n",
    "\n",
    "# print(f\"Estimated number of clusters: {n_clusters_}\")\n",
    "# print(f\"Estimated number of noise points: {n_noise_}\")"
   ]
  },
  {
   "cell_type": "code",
   "execution_count": 39,
   "metadata": {},
   "outputs": [
    {
     "data": {
      "text/html": [
       "<div>\n",
       "<style scoped>\n",
       "    .dataframe tbody tr th:only-of-type {\n",
       "        vertical-align: middle;\n",
       "    }\n",
       "\n",
       "    .dataframe tbody tr th {\n",
       "        vertical-align: top;\n",
       "    }\n",
       "\n",
       "    .dataframe thead th {\n",
       "        text-align: right;\n",
       "    }\n",
       "</style>\n",
       "<table border=\"1\" class=\"dataframe\">\n",
       "  <thead>\n",
       "    <tr style=\"text-align: right;\">\n",
       "      <th></th>\n",
       "      <th>TSNE perplexity</th>\n",
       "      <th>DBSCAN eps</th>\n",
       "      <th>DBSCAN min_samples</th>\n",
       "      <th>Num. clusters</th>\n",
       "      <th>Num. noise</th>\n",
       "      <th>Silhouette</th>\n",
       "    </tr>\n",
       "  </thead>\n",
       "  <tbody>\n",
       "    <tr>\n",
       "      <th>0</th>\n",
       "      <td>10</td>\n",
       "      <td>2.75</td>\n",
       "      <td>2</td>\n",
       "      <td>54</td>\n",
       "      <td>24</td>\n",
       "      <td>0.239184</td>\n",
       "    </tr>\n",
       "  </tbody>\n",
       "</table>\n",
       "</div>"
      ],
      "text/plain": [
       "   TSNE perplexity  DBSCAN eps  DBSCAN min_samples  Num. clusters  Num. noise  \\\n",
       "0               10        2.75                   2             54          24   \n",
       "\n",
       "   Silhouette  \n",
       "0    0.239184  "
      ]
     },
     "metadata": {},
     "output_type": "display_data"
    },
    {
     "data": {
      "application/vnd.plotly.v1+json": {
       "config": {
        "plotlyServerURL": "https://plot.ly"
       },
       "data": [
        {
         "customdata": [
          [
           0
          ],
          [
           1
          ],
          [
           2
          ],
          [
           2
          ],
          [
           3
          ],
          [
           4
          ],
          [
           0
          ],
          [
           5
          ],
          [
           6
          ],
          [
           7
          ],
          [
           8
          ],
          [
           9
          ],
          [
           10
          ],
          [
           11
          ],
          [
           12
          ],
          [
           -1
          ],
          [
           9
          ],
          [
           13
          ],
          [
           14
          ],
          [
           7
          ],
          [
           15
          ],
          [
           16
          ],
          [
           17
          ],
          [
           18
          ],
          [
           19
          ],
          [
           20
          ],
          [
           12
          ],
          [
           5
          ],
          [
           10
          ],
          [
           5
          ],
          [
           5
          ],
          [
           12
          ],
          [
           5
          ],
          [
           10
          ],
          [
           21
          ],
          [
           14
          ],
          [
           5
          ],
          [
           14
          ],
          [
           22
          ],
          [
           12
          ],
          [
           10
          ],
          [
           23
          ],
          [
           19
          ],
          [
           4
          ],
          [
           12
          ],
          [
           0
          ],
          [
           10
          ],
          [
           24
          ],
          [
           25
          ],
          [
           26
          ],
          [
           10
          ],
          [
           25
          ],
          [
           7
          ],
          [
           5
          ],
          [
           12
          ],
          [
           27
          ],
          [
           7
          ],
          [
           28
          ],
          [
           29
          ],
          [
           30
          ],
          [
           17
          ],
          [
           19
          ],
          [
           5
          ],
          [
           0
          ],
          [
           11
          ],
          [
           31
          ],
          [
           32
          ],
          [
           33
          ],
          [
           18
          ],
          [
           28
          ],
          [
           10
          ],
          [
           30
          ],
          [
           13
          ],
          [
           -1
          ],
          [
           -1
          ],
          [
           20
          ],
          [
           15
          ],
          [
           21
          ],
          [
           4
          ],
          [
           2
          ],
          [
           5
          ],
          [
           26
          ],
          [
           34
          ],
          [
           0
          ],
          [
           -1
          ],
          [
           35
          ],
          [
           36
          ],
          [
           10
          ],
          [
           31
          ],
          [
           -1
          ],
          [
           37
          ],
          [
           10
          ],
          [
           14
          ],
          [
           0
          ],
          [
           5
          ],
          [
           20
          ],
          [
           31
          ],
          [
           38
          ],
          [
           -1
          ],
          [
           39
          ],
          [
           -1
          ],
          [
           12
          ],
          [
           0
          ],
          [
           12
          ],
          [
           34
          ],
          [
           20
          ],
          [
           0
          ],
          [
           0
          ],
          [
           25
          ],
          [
           0
          ],
          [
           40
          ],
          [
           -1
          ],
          [
           17
          ],
          [
           17
          ],
          [
           33
          ],
          [
           17
          ],
          [
           5
          ],
          [
           10
          ],
          [
           -1
          ],
          [
           13
          ],
          [
           0
          ],
          [
           36
          ],
          [
           -1
          ],
          [
           10
          ],
          [
           12
          ],
          [
           13
          ],
          [
           31
          ],
          [
           10
          ],
          [
           17
          ],
          [
           18
          ],
          [
           41
          ],
          [
           10
          ],
          [
           5
          ],
          [
           1
          ],
          [
           25
          ],
          [
           5
          ],
          [
           42
          ],
          [
           12
          ],
          [
           22
          ],
          [
           12
          ],
          [
           10
          ],
          [
           26
          ],
          [
           12
          ],
          [
           43
          ],
          [
           37
          ],
          [
           0
          ],
          [
           -1
          ],
          [
           10
          ],
          [
           12
          ],
          [
           12
          ],
          [
           17
          ],
          [
           12
          ],
          [
           37
          ],
          [
           12
          ],
          [
           44
          ],
          [
           45
          ],
          [
           41
          ],
          [
           41
          ],
          [
           9
          ],
          [
           -1
          ],
          [
           18
          ],
          [
           3
          ],
          [
           43
          ],
          [
           41
          ],
          [
           -1
          ],
          [
           -1
          ],
          [
           45
          ],
          [
           0
          ],
          [
           5
          ],
          [
           34
          ],
          [
           0
          ],
          [
           7
          ],
          [
           13
          ],
          [
           46
          ],
          [
           41
          ],
          [
           32
          ],
          [
           45
          ],
          [
           29
          ],
          [
           4
          ],
          [
           18
          ],
          [
           12
          ],
          [
           47
          ],
          [
           48
          ],
          [
           47
          ],
          [
           44
          ],
          [
           28
          ],
          [
           7
          ],
          [
           7
          ],
          [
           49
          ],
          [
           -1
          ],
          [
           6
          ],
          [
           5
          ],
          [
           9
          ],
          [
           12
          ],
          [
           -1
          ],
          [
           27
          ],
          [
           15
          ],
          [
           10
          ],
          [
           1
          ],
          [
           -1
          ],
          [
           16
          ],
          [
           5
          ],
          [
           6
          ],
          [
           7
          ],
          [
           -1
          ],
          [
           0
          ],
          [
           7
          ],
          [
           42
          ],
          [
           40
          ],
          [
           7
          ],
          [
           -1
          ],
          [
           23
          ],
          [
           50
          ],
          [
           18
          ],
          [
           -1
          ],
          [
           19
          ],
          [
           5
          ],
          [
           34
          ],
          [
           40
          ],
          [
           17
          ],
          [
           19
          ],
          [
           44
          ],
          [
           19
          ],
          [
           18
          ],
          [
           -1
          ],
          [
           41
          ],
          [
           51
          ],
          [
           7
          ],
          [
           35
          ],
          [
           29
          ],
          [
           5
          ],
          [
           19
          ],
          [
           38
          ],
          [
           34
          ],
          [
           19
          ],
          [
           13
          ],
          [
           12
          ],
          [
           4
          ],
          [
           1
          ],
          [
           20
          ],
          [
           -1
          ],
          [
           45
          ],
          [
           7
          ],
          [
           5
          ],
          [
           12
          ],
          [
           23
          ],
          [
           17
          ],
          [
           18
          ],
          [
           18
          ],
          [
           19
          ],
          [
           23
          ],
          [
           49
          ],
          [
           0
          ],
          [
           7
          ],
          [
           5
          ],
          [
           17
          ],
          [
           23
          ],
          [
           12
          ],
          [
           -1
          ],
          [
           20
          ],
          [
           20
          ],
          [
           17
          ],
          [
           40
          ],
          [
           5
          ],
          [
           48
          ],
          [
           19
          ],
          [
           19
          ],
          [
           51
          ],
          [
           21
          ],
          [
           50
          ],
          [
           5
          ],
          [
           0
          ],
          [
           10
          ],
          [
           6
          ],
          [
           8
          ],
          [
           6
          ],
          [
           25
          ],
          [
           18
          ],
          [
           20
          ],
          [
           14
          ],
          [
           28
          ],
          [
           21
          ],
          [
           7
          ],
          [
           17
          ],
          [
           12
          ],
          [
           7
          ],
          [
           52
          ],
          [
           19
          ],
          [
           24
          ],
          [
           32
          ],
          [
           -1
          ],
          [
           18
          ],
          [
           21
          ],
          [
           12
          ],
          [
           12
          ],
          [
           46
          ],
          [
           39
          ],
          [
           33
          ],
          [
           19
          ],
          [
           45
          ],
          [
           32
          ],
          [
           18
          ],
          [
           18
          ],
          [
           32
          ],
          [
           5
          ],
          [
           26
          ],
          [
           31
          ],
          [
           53
          ],
          [
           53
          ],
          [
           32
          ],
          [
           12
          ],
          [
           18
          ],
          [
           12
          ],
          [
           20
          ],
          [
           6
          ],
          [
           52
          ],
          [
           12
          ],
          [
           25
          ],
          [
           38
          ],
          [
           18
          ]
         ],
         "hovertemplate": "<b>%{hovertext}</b><br><br>x_tsne=%{x}<br>y_tsne=%{y}<br>label=%{customdata[0]}<br>color=%{marker.color}<extra></extra>",
         "hovertext": [
          "energy-efficient and privacy-aware social distance monitoring with low-resolution infrared sensors and adaptive inference",
          "moduleformer: learning modular large language models from uncurated data",
          "patch-level routing in mixture-of-experts is provably sample-efficient for convolutional neural networks",
          "soft merging of experts with adaptive routing",
          "towards anytime classification in early-exit architectures by enforcing conditional monotonicity",
          "csi-based efficient self-quarantine monitoring system using branchy convolution neural network",
          "marsellus: a heterogeneous risc-v ai-iot end-node soc with 2-to-8b dnn acceleration and 30%-boost adaptive body biasing",
          "towards convergence rates for parameter estimation in gaussian-gated mixture of experts",
          "hypere2vid: improving event-based video reconstruction via hypernetworks",
          "transforming visual scene graphs to image captions",
          "big-little adaptive neural networks on low-power near-subthreshold processors",
          "long-distance gesture recognition using dynamic neural networks",
          "atheena: a toolflow for hardware early-exit network automation",
          "gradmdm: adversarial attack on dynamic networks",
          "dynamicdet: a unified dynamic architecture for object detection",
          "graph mixture of experts: learning on large-scale graphs with explicit diversity modeling",
          "long-tailed visual recognition via self-heterogeneous integration with knowledge excavation",
          "seenn: towards temporal spiking early-exit neural networks",
          "evolving artificial neural networks to imitate human behaviour in shinobi iii : return of the ninja master",
          "re-iqa: unsupervised learning for image quality assessment in the wild",
          "a small-scale switch transformer and nlp-based model for clinical narratives classification",
          "dynamic healthcare embeddings for improving patient care",
          "improving deep attractor network by bgru and gmm for speech separation",
          "memorization capacity of neural networks with conditional computation",
          "gated compression layers for efficient always-on models",
          "simultaneous action recognition and human whole-body motion and dynamics prediction from wearable sensors",
          "dynamic neural network for multi-task learning searching across diverse network topologies",
          "a hybrid tensor-expert-data parallelism approach to optimize mixture-of-experts training",
          "hierarchical training of deep neural networks using early exiting",
          "improving expert specialization in mixture of experts",
          "ta-moe: topology-aware large scale mixture-of-expert training",
          "fixing overconfidence in dynamic neural networks",
          "gaussian process-gated hierarchical mixtures of experts",
          "lgvit: dynamic early exiting for accelerating vision transformer",
          "ed-batch: efficient automatic batching of dynamic neural networks via learned finite state machines",
          "enhancing once-for-all: a study on parallel blocks, skip connections and early exits",
          "fast, differentiable and sparse top-k: a convex analysis perspective",
          "anticipate, ensemble and prune: improving convolutional neural networks via aggregated early exits",
          "neural abstractions",
          "adaensemble: learning adaptively sparse structured ensemble network for click-through rate prediction",
          "eenet: learning to early exit for adaptive inference",
          "post-train adaptive u-net for image segmentation",
          "adaptive neural networks using residual fitting",
          "heterogeneous domain adaptation and equipment matching: dann-based alignment with cyclic supervision (dbacs)",
          "monadic deep learning",
          "accuracy-guaranteed collaborative dnn inference in industrial iot via deep reinforcement learning",
          "quicknets: saving training and preventing overconfidence in early-exit neural architectures",
          "sparse upcycling: training mixture-of-experts from dense checkpoints",
          "adaptive neural network backstepping control method for aerial manipulator based on variable inertia parameter modeling",
          "hadas: hardware-aware dynamic neural architecture search for edge performance scaling",
          "understanding the robustness of multi-exit models under common corruptions",
          "boosted dynamic neural networks",
          "cfnet: conditional filter learning with dynamic noise estimation for real image denoising",
          "spatial mixture-of-experts",
          "physics-informed koopman network",
          "alioth: a machine learning based interference-aware performance monitor for multi-tenancy applications in public cloud",
          "dynamic-pix2pix: noise injected cgan for modeling input and target domain joint distributions with limited training data",
          "cold start streaming learning for deep networks",
          "safe real-world autonomous driving by learning to predict and plan with a mixture of experts",
          "tiny-attention adapter: contexts are more important than the number of parameters",
          "parallel gated neural network with attention mechanism for speech enhancement",
          "adaptive neural network ensemble using frequency distribution",
          "on the adversarial robustness of mixture of experts",
          "a novel membership inference attack against dynamic neural networks by utilizing policy networks information",
          "dynamics-aware adversarial attack of adaptive neural networks",
          "feamoe: fair, explainable and adaptive mixture of experts",
          "trainability, expressivity and interpretability in gated neural odes",
          "probabilistic partition of unity networks for high-dimensional regression problems",
          "sparsity-constrained optimal transport",
          "tuning of mixture-of-experts mixed-precision neural networks",
          "fluid batching: exit-aware preemptive serving of early-exit neural networks on edge npus",
          "sda-\nx\nnet: selective depth attention networks for adaptive multi-scale feature representation",
          "improving the performance of dnn-based software services using automated layer caching",
          "a new hazard event classification model via deep learning and multifractal",
          "a survey of neural trees",
          "human activity recognition on microcontrollers with quantized and adaptive deep neural networks",
          "efficient sparsely activated transformers",
          "dycl: dynamic neural network compilation via program rewriting and graph optimization",
          "admoe: anomaly detection with mixture-of-experts from noisy labels",
          "a theoretical view on sparsely activated networks",
          "towards understanding mixture of experts in deep learning",
          "on-demand resource management for 6g wireless networks using knowledge-assisted dynamic neural networks",
          "test-time adaptation via conjugate pseudo-labels",
          "eve: environmental adaptive neural network models for low-power energy harvesting system",
          "t-recx: tiny-resource efficient convolutional neural networks with early-exit",
          "omni-seg: a scale-aware dynamic network for renal pathological image segmentation",
          "scai: a spectral data classification framework with adaptive inference for the iot platform",
          "binary early-exit network for adaptive inference on low-resource devices",
          "the future of human-centric explainable artificial intelligence (xai) is not post-hoc explanations",
          "satbench: benchmarking the speed-accuracy tradeoff in object recognition by humans and dynamic neural networks",
          "fault-tolerant collaborative inference through the edge-prune framework",
          "resource-constrained edge ai with early exit prediction",
          "exploring the intersection between neural architecture search and continual learning",
          "continuer: maintaining distributed dnn services during edge failures",
          "uni-perceiver-moe: learning sparse generalist models with conditional moes",
          "adaptive neural network-based unscented kalman filter for robust pose tracking of noncooperative spacecraft",
          "interpretable mixture of experts",
          "temporal domain generalization with drift-aware dynamic neural networks",
          "optimizing mixture of experts using dynamic recompilations",
          "stock price prediction using dynamic neural networks",
          "test-time adaptable neural networks for robust medical image segmentation",
          "a survey on dynamic neural networks for natural language processing",
          "ereba: black-box energy testing of adaptive neural networks",
          "physics-guided problem decomposition for scaling deep learning of high-dimensional eigen-solvers: the case of schrödinger's equation",
          "a field of experts prior for adapting neural networks at test time",
          "towards lightweight neural animation : exploration of neural network pruning in mixture of experts-based animation models",
          "mobilefaceswap: a lightweight framework for video face swapping",
          "an adaptive device-edge co-inference framework based on soft actor-critic",
          "feature matching as improved transfer learning technique for wearable eeg",
          "heterogeneous transformer: a scale adaptable neural network architecture for device activity detection",
          "learning over all stabilizing nonlinear controllers for a partially-observed linear system",
          "towards efficient single image dehazing and desnowing",
          "a mixture of expert based deep neural network for improved asr",
          "privacy attacks for automatic speech recognition acoustic models in a federated learning framework",
          "polynomial-spline neural networks with exact integrals",
          "private language model adaptation for speech recognition",
          "sparse moes meet efficient ensembles",
          "consistency training of multi-exit architectures for sensor data",
          "dystyle: dynamic neural network for multi-attribute-conditioned style editing",
          "dynamic neural network architectural and topological adaptation and related methods -- a survey",
          "early-exit deep neural networks for distorted images: providing an efficient edge offloading",
          "airex: neural network-based approach for air quality inference in unmonitored cities",
          "table-based fact verification with self-adaptive mixture of experts",
          "eeea-net: an early exit evolutionary neural architecture search",
          "forecasting the outcome of spintronic experiments with neural ordinary differential equations",
          "few-shot and continual learning with attentive independent mechanisms",
          "federated mixture of experts",
          "multi-exit vision transformer for dynamic inference",
          "mixtures of deep neural experts for automated speech scoring",
          "better training using weight-constrained stochastic dynamics",
          "machine learning methods for postprocessing ensemble forecasts of wind gusts: a systematic comparison",
          "zero time waste: recycling predictions in early exit neural networks",
          "dselect-k: differentiable selection in the mixture of experts with applications to multi-task learning",
          "moebert: from bert to mixture-of-experts via importance-guided adaptation",
          "student performance prediction using dynamic neural models",
          "mixture of elm based experts with trainable gating network",
          "show why the answer is correct! towards explainable ai using compositional temporal attention",
          "kdexplainer: a task-oriented attention model for explaining knowledge distillation",
          "basisnet: two-stage model synthesis for efficient inference",
          "ecnns: ensemble learning methods for improving planar grasp quality estimation",
          "improving the accuracy of early exits in multi-exit architectures via curriculum learning",
          "dyno: dynamic onloading of deep neural networks from cloud to device",
          "contextual hypernetworks for novel feature adaptation",
          "deep dynamic neural network to trade-off between accuracy and diversity in a news recommender system",
          "resource allocation for multiuser edge inference with batching and early exiting (extended version)",
          "split computing and early exiting for deep learning applications: survey and research challenges",
          "task-adaptive neural network search with meta-contrastive learning",
          "e\n2\ncm: early exit via class means for efficient supervised and unsupervised learning",
          "deep learning with a classifier system: initial results",
          "embedded knowledge distillation in depth-level dynamic neural network",
          "siamese labels auxiliary learning",
          "dynamic neural networks: a survey",
          "learning task-oriented communication for edge inference: an information bottleneck approach",
          "a reproducibility study of \"augmenting genetic algorithms with deep neural networks for exploring the chemical space\"",
          "precise motion control of wafer stages via adaptive neural network and fractional-order super-twisting algorithm",
          "understanding the influence of receptive field and network complexity in neural-network-guided tem image analysis",
          "a novel cluster classify regress model predictive controller formulation; ccr-mpc",
          "gated ensemble of spatio-temporal mixture of experts for multi-task learning in ride-hailing system",
          "self-supervised multimodal domino: in search of biomarkers for alzheimer's disease",
          "multi-expert learning of adaptive legged locomotion",
          "diffprune: neural network pruning with deterministic approximate binary gates and\nl\n0\nregularization",
          "anytime prediction as a model of human reaction time",
          "dadnn: multi-scene ctr prediction via domain-aware deep neural network",
          "nested mixture of experts: cooperative and competitive learning of hybrid dynamical system",
          "discovery of the hidden state in ionic models using a domain-specific recurrent neural network",
          "dynamically throttleable neural networks (tnn)",
          "adaptive neural network-based ofdm receivers",
          "branchy-gnn: a device-edge co-inference framework for efficient point cloud processing",
          "towards a universal gating network for mixtures of experts",
          "adapting neural networks for uplift models",
          "calibration-aided edge inference offloading via adaptive model partitioning of deep neural networks",
          "glance and focus: a dynamic approach to reducing spatial redundancy in image classification",
          "revisiting batch normalization for training low-latency deep spiking neural networks from scratch",
          "identification of probability weighted arx models with arbitrary domains",
          "flight-connection prediction for airline crew scheduling to construct initial clusters for or optimizer",
          "neurocoder: learning general-purpose computation using stored neural programs",
          "aidx: adaptive inference scheme to mitigate state-drift in memristive vmm accelerators",
          "flash: fast and light motion prediction for autonomous driving with bayesian inverse planning and learned motion profiles",
          "anomaly detection by recombining gated unsupervised experts",
          "adaptive neural network-based approximation to accelerate eulerian fluid simulation",
          "making neural networks interpretable with attribution: application to implicit signals prediction",
          "spinn: synergistic progressive inference of neural networks over device and cloud",
          "mixcaps: a capsule network-based mixture of experts for lung nodule malignancy prediction",
          "hapi: hardware-aware progressive inference",
          "velocity regulation of 3d bipedal walking robots with uncertain dynamics through adaptive neural network controller",
          "wrapnet: neural net inference with ultra-low-resolution arithmetic",
          "learning to compose hypercolumns for visual correspondence",
          "learning to learn parameterized classification networks for scalable input images",
          "summareranker: a multi-task mixture-of-experts re-ranking framework for abstractive summarization",
          "gshard: scaling giant models with conditional computation and automatic sharding",
          "early exit or not: resource-efficient blind quality enhancement for compressed images",
          "fast deep mixtures of gaussian process experts",
          "elf: an early-exiting framework for long-tailed classification",
          "nimble: efficiently compiling dynamic neural networks for model inference",
          "surprisal-triggered conditional computation with neural networks",
          "conditionally deep hybrid neural networks across edge and cloud",
          "faster depth-adaptive transformers",
          "why should we add early exits to neural networks?",
          "the right tool for the job: matching model and instance complexities",
          "dynamic instance domain adaptation",
          "deepcare: a deep dynamic memory model for predictive medicine",
          "learning charme models with neural networks",
          "gla in mediaeval 2018 emotional impact of movies task",
          "improving distant supervised relation extraction by dynamic neural network",
          "hierarchical mixtures of generators for adversarial learning",
          "edge ai: on-demand accelerating deep neural network inference via edge computing",
          "cross-modal subspace learning with scheduled adaptive margin constraints",
          "learning sparse mixture of experts for visual question answering",
          "mpc-net: a first principles guided policy search",
          "expert sample consensus applied to camera re-localization",
          "an adaptive architecture for portability of greenhouse models",
          "deep adaptive inference networks for single image super-resolution",
          "an empirical study of batch normalization and group normalization in conditional computation",
          "controlling model complexity in probabilistic model-based dynamic optimization of neural network structures",
          "gated embeddings in end-to-end speech recognition for conversational-context fusion",
          "conditional computation for continual learning",
          "learning in gated neural networks",
          "adapting neural networks for the estimation of treatment effects",
          "interpretable pid parameter tuning for control engineering using general dynamic neural networks: an extensive comparison",
          "robust sound event detection in bioacoustic sensor networks",
          "dynamic neural network channel execution for efficient training",
          "adaptive neural network based dynamic surface control for uncertain dual arm robots",
          "conditional channel gated networks for task-aware continual learning",
          "l\n0\n-arm: network sparsification via stochastic binary optimization",
          "on the functional equivalence of tsk fuzzy systems to neural networks, mixture of experts, cart, and stacking ensemble regression",
          "a mixture of experts model for predicting persistent weather patterns",
          "a new approach for topic detection using adaptive neural networks",
          "stefann: scene text editor using font adaptive neural network",
          "boundary-weighted domain adaptive neural network for prostate mr image segmentation",
          "uncertainty-aware driver trajectory prediction at urban intersections",
          "dropout regularization in hierarchical mixture of experts",
          "channel selection using gumbel softmax",
          "towards neural network patching: evaluating engagement-layers and patch-architectures",
          "spatiotemporal adaptive neural network for long-term forecasting of financial time series",
          "you look twice: gaternet for dynamic filter selection in cnns",
          "a mixture of expert approach for low-cost customization of deep neural networks",
          "shallow-deep networks: understanding and mitigating network overthinking",
          "mixture of expert/imitator networks: scalable semi-supervised learning framework",
          "multi-source cross-lingual model transfer: learning what to share",
          "human motion prediction using semi-adaptable neural networks",
          "deepdrum: an adaptive conditional neural network",
          "rate-adaptive neural networks for spatial multiplexers",
          "reservoir computing based neural image filters",
          "bounded rational decision-making with adaptive neural network priors",
          "fast adaptively weighted matrix factorization for recommendation with implicit feedback",
          "designing adaptive neural networks for energy-constrained image classification",
          "unsupervised domain adaptation by adversarial learning for robust speech recognition",
          "conditional information gain networks",
          "bayesian filtering unifies adaptive and non-adaptive neural network optimization methods",
          "adaptive neural trees",
          "context-adaptive neural network based prediction for image compression",
          "one-shot learning for question-answering in gaokao history challenge",
          "edge intelligence: on-demand deep learning model co-inference with device-edge synergy",
          "moe-spnet: a mixture-of-experts scene parsing network",
          "channel gating neural networks",
          "voice separation with an unknown number of multiple speakers",
          "adaptive neural network classifier for decoding meg signals",
          "dictionary learning by dynamical neural networks",
          "deep predictive coding network with local recurrent processing for object recognition",
          "a dynamic neural network approach to generating robot's novel actions: a simulation experiment",
          "view adaptive neural networks for high performance skeleton-based human action recognition",
          "espnet: end-to-end speech processing toolkit",
          "discontinuity-sensitive optimal control learning by mixture of experts",
          "breaking the gridlock in mixture-of-experts: consistent and efficient algorithms",
          "granger-causal attentive mixtures of experts: learning important features with neural networks",
          "overcoming the vanishing gradient problem in plain recurrent networks",
          "the tree ensemble layer: differentiability meets conditional computation",
          "topic compositional neural language model",
          "cavs: a vertex-centric programming interface for dynamic neural networks",
          "learning sparse neural networks through\nl\n0\nregularization",
          "deep gaussian covariance network",
          "fast yolo: a fast you only look once system for real-time embedded object detection in video",
          "branchynet: fast inference via early exiting from deep neural networks",
          "uts submission to google youtube-8m challenge 2017",
          "effective approaches to batch parallelization for dynamic neural network architectures",
          "large-scale youtube-8m video understanding with deep neural networks",
          "predictive coding-based deep dynamic neural network for visuomotor learning",
          "controlling computation versus quality for neural sequence models",
          "seamless integration and coordination of cognitive skills in humanoid robots: a deep learning approach",
          "a tale of two animats: what does it take to have goals?",
          "ampnet: asynchronous model-parallel training for dynamic neural networks",
          "on-the-fly operation batching in dynamic computation graphs",
          "multi-scale dense networks for resource efficient image classification",
          "speech enhancement using a deep mixture of experts",
          "quality resilient deep neural networks",
          "learning robust visual-semantic embeddings",
          "adaptive ensemble prediction for deep neural networks based on confidence level",
          "adaptive neural networks for efficient inference",
          "towards crowdsourced training of large neural networks using decentralized mixture-of-experts",
          "gated multimodal units for information fusion",
          "visual saliency prediction using a mixture of deep neural networks",
          "outrageously large neural networks: the sparsely-gated mixture-of-experts layer",
          "dynet: the dynamic neural network toolkit",
          "factory of realities: on the emergence of virtual spatiotemporal structures",
          "unifying multi-domain multi-task learning: tensor and neural network perspectives",
          "nonlinear systems identification using deep dynamic neural networks",
          "gated neural networks for option pricing: rationality by design",
          "deep online convex optimization with gated games",
          "decision forests, convolutional networks and the models in-between",
          "unsupervised adaptive neural network regularization for accelerated radial cine mri",
          "attractor metadynamics in adapting neural networks",
          "low-rank approximations for conditional feedforward computation in deep neural networks",
          "estimating or propagating gradients through stochastic neurons for conditional computation",
          "neurally implementable semantic networks",
          "extended mixture of mlp experts by hybrid of conjugate gradient method and modified cuckoo search",
          "electricity demand and energy consumption management system",
          "learning to bluff",
          "from neuron to neural networks dynamics",
          "from neuron to neural networks dynamics",
          "dynamical neural network: information and topology",
          "concept of e-machine: how does a \"dynamical\" brain learn to process \"symbolic\" information? part i",
          "conditional computation in neural networks for faster models",
          "machine learning methods to analyze arabidopsis thaliana plant root growth",
          "achieving synergy in cognitive behavior of humanoids via deep learning of dynamic visuo-motor-attentional coordination",
          "efficient large scale video classification",
          "distilling the knowledge in a neural network",
          "web spam classification using supervised artificial neural network algorithms",
          "pseudo dynamic transitional modeling of building heating energy demand using artificial neural network",
          "domain adaptive neural networks for object recognition",
          "exponentially increasing the capacity-to-computation ratio for conditional computation in deep learning"
         ],
         "legendgroup": "",
         "marker": {
          "color": [
           0,
           1,
           2,
           2,
           3,
           4,
           0,
           5,
           6,
           7,
           8,
           9,
           10,
           11,
           12,
           -1,
           9,
           13,
           14,
           7,
           15,
           16,
           17,
           18,
           19,
           20,
           12,
           5,
           10,
           5,
           5,
           12,
           5,
           10,
           21,
           14,
           5,
           14,
           22,
           12,
           10,
           23,
           19,
           4,
           12,
           0,
           10,
           24,
           25,
           26,
           10,
           25,
           7,
           5,
           12,
           27,
           7,
           28,
           29,
           30,
           17,
           19,
           5,
           0,
           11,
           31,
           32,
           33,
           18,
           28,
           10,
           30,
           13,
           -1,
           -1,
           20,
           15,
           21,
           4,
           2,
           5,
           26,
           34,
           0,
           -1,
           35,
           36,
           10,
           31,
           -1,
           37,
           10,
           14,
           0,
           5,
           20,
           31,
           38,
           -1,
           39,
           -1,
           12,
           0,
           12,
           34,
           20,
           0,
           0,
           25,
           0,
           40,
           -1,
           17,
           17,
           33,
           17,
           5,
           10,
           -1,
           13,
           0,
           36,
           -1,
           10,
           12,
           13,
           31,
           10,
           17,
           18,
           41,
           10,
           5,
           1,
           25,
           5,
           42,
           12,
           22,
           12,
           10,
           26,
           12,
           43,
           37,
           0,
           -1,
           10,
           12,
           12,
           17,
           12,
           37,
           12,
           44,
           45,
           41,
           41,
           9,
           -1,
           18,
           3,
           43,
           41,
           -1,
           -1,
           45,
           0,
           5,
           34,
           0,
           7,
           13,
           46,
           41,
           32,
           45,
           29,
           4,
           18,
           12,
           47,
           48,
           47,
           44,
           28,
           7,
           7,
           49,
           -1,
           6,
           5,
           9,
           12,
           -1,
           27,
           15,
           10,
           1,
           -1,
           16,
           5,
           6,
           7,
           -1,
           0,
           7,
           42,
           40,
           7,
           -1,
           23,
           50,
           18,
           -1,
           19,
           5,
           34,
           40,
           17,
           19,
           44,
           19,
           18,
           -1,
           41,
           51,
           7,
           35,
           29,
           5,
           19,
           38,
           34,
           19,
           13,
           12,
           4,
           1,
           20,
           -1,
           45,
           7,
           5,
           12,
           23,
           17,
           18,
           18,
           19,
           23,
           49,
           0,
           7,
           5,
           17,
           23,
           12,
           -1,
           20,
           20,
           17,
           40,
           5,
           48,
           19,
           19,
           51,
           21,
           50,
           5,
           0,
           10,
           6,
           8,
           6,
           25,
           18,
           20,
           14,
           28,
           21,
           7,
           17,
           12,
           7,
           52,
           19,
           24,
           32,
           -1,
           18,
           21,
           12,
           12,
           46,
           39,
           33,
           19,
           45,
           32,
           18,
           18,
           32,
           5,
           26,
           31,
           53,
           53,
           32,
           12,
           18,
           12,
           20,
           6,
           52,
           12,
           25,
           38,
           18
          ],
          "coloraxis": "coloraxis",
          "symbol": "circle"
         },
         "mode": "markers",
         "name": "",
         "orientation": "v",
         "showlegend": false,
         "type": "scatter",
         "x": [
          15.710677146911621,
          8.419783592224121,
          -25.290069580078125,
          -24.248210906982422,
          -13.731311798095703,
          10.00309944152832,
          15.966351509094238,
          -11.227696418762207,
          10.55444622039795,
          4.593075275421143,
          -12.410970687866211,
          -3.7466912269592285,
          -11.039507865905762,
          -30.524349212646484,
          4.999015808105469,
          27.451404571533203,
          -3.2658112049102783,
          22.841571807861328,
          -7.103866100311279,
          7.895034313201904,
          -16.96765899658203,
          2.8441030979156494,
          16.982769012451172,
          -17.43100357055664,
          -22.540014266967773,
          18.559701919555664,
          7.7950053215026855,
          -13.550566673278809,
          -15.230798721313477,
          -12.017709732055664,
          -12.324928283691406,
          -1.8574565649032593,
          -8.124783515930176,
          -10.602651596069336,
          33.92363357543945,
          -8.453834533691406,
          -15.945841789245605,
          -9.694234848022461,
          -7.754734039306641,
          -4.198491096496582,
          -15.079534530639648,
          2.3953170776367188,
          -24.940139770507812,
          6.476407527923584,
          6.710746765136719,
          16.973709106445312,
          -14.61087703704834,
          -21.19682502746582,
          6.536705017089844,
          25.7619571685791,
          -11.191832542419434,
          3.3142731189727783,
          4.4488205909729,
          -5.857201099395752,
          -0.5758796334266663,
          19.47660255432129,
          6.7635321617126465,
          -14.963661193847656,
          19.1344051361084,
          8.82561206817627,
          17.260093688964844,
          -23.66834259033203,
          -18.340110778808594,
          19.355628967285156,
          -29.999717712402344,
          5.180704116821289,
          -9.658971786499023,
          -24.729249954223633,
          -21.498537063598633,
          -13.251188278198242,
          -9.511738777160645,
          9.05090045928955,
          22.17570686340332,
          8.552534103393555,
          -32.43429946899414,
          16.164020538330078,
          -17.276935577392578,
          33.226226806640625,
          10.678022384643555,
          -23.527915954589844,
          -12.336081504821777,
          27.651323318481445,
          1.4845068454742432,
          16.466646194458008,
          -20.51321792602539,
          -0.011946918442845345,
          12.123748779296875,
          -16.68693733215332,
          1.4508099555969238,
          15.691753387451172,
          13.497276306152344,
          -15.829973220825195,
          -8.356732368469238,
          20.5689754486084,
          -17.038171768188477,
          16.70122718811035,
          3.3088107109069824,
          -2.15972638130188,
          30.511783599853516,
          -2.320807695388794,
          23.459522247314453,
          5.052066802978516,
          18.99761390686035,
          1.8329898118972778,
          0.9355353713035583,
          19.784137725830078,
          12.97237491607666,
          14.321600914001465,
          8.178238868713379,
          12.277932167053223,
          -17.03923225402832,
          8.95691204071045,
          15.786415100097656,
          15.676800727844238,
          -24.9052791595459,
          13.278251647949219,
          -15.078128814697266,
          -12.850442886352539,
          26.565185546875,
          22.71220588684082,
          16.783079147338867,
          12.753890037536621,
          2.5866119861602783,
          -17.362995147705078,
          -1.675851583480835,
          21.73526382446289,
          6.01662015914917,
          -11.542818069458008,
          15.21539306640625,
          -18.134830474853516,
          -8.892788887023926,
          -17.389129638671875,
          -15.205389022827148,
          7.152184009552002,
          3.539911985397339,
          -5.149466514587402,
          20.055221557617188,
          -0.41285228729248047,
          -8.400598526000977,
          -4.796571731567383,
          -14.216370582580566,
          25.285675048828125,
          -4.618621826171875,
          -5.6865458488464355,
          14.353039741516113,
          18.692951202392578,
          -19.27115249633789,
          -15.251362800598145,
          -7.370200157165527,
          2.735846519470215,
          13.815422058105469,
          6.8855299949646,
          13.83969783782959,
          -8.450970649719238,
          25.388521194458008,
          6.646822929382324,
          -6.346161842346191,
          -10.433658599853516,
          -0.8301864266395569,
          20.908571243286133,
          -19.772905349731445,
          -13.356184959411621,
          -3.493010997772217,
          -6.386950969696045,
          -4.087700366973877,
          26.18003273010254,
          2.583756685256958,
          16.559791564941406,
          -8.1503267288208,
          -0.5072212815284729,
          15.288843154907227,
          7.899857044219971,
          22.59014320373535,
          -27.713891983032227,
          -10.975991249084473,
          -10.305373191833496,
          4.773935794830322,
          18.70124053955078,
          9.803023338317871,
          -16.821598052978516,
          -3.3332107067108154,
          22.03896713256836,
          -2.9318785667419434,
          22.812631607055664,
          25.398305892944336,
          -12.318516731262207,
          4.392075061798096,
          7.585224151611328,
          11.174583435058594,
          -20.8493595123291,
          9.282181739807129,
          -7.793988227844238,
          -3.857572555541992,
          4.264410972595215,
          -13.742361068725586,
          19.1706485748291,
          -17.61618423461914,
          -13.496657371520996,
          6.24219274520874,
          -3.2589685916900635,
          2.6282107830047607,
          -18.400218963623047,
          16.558767318725586,
          0.7747189402580261,
          -6.118101596832275,
          18.3348388671875,
          2.253816843032837,
          20.268346786499023,
          -17.702247619628906,
          10.035849571228027,
          8.428384780883789,
          3.8594882488250732,
          -23.869815826416016,
          -19.048877716064453,
          1.172222375869751,
          -20.57979965209961,
          -10.007805824279785,
          -0.13282044231891632,
          -15.887492179870605,
          15.283732414245605,
          -22.868846893310547,
          25.43914031982422,
          -21.269386291503906,
          -20.84834861755371,
          -16.563554763793945,
          -6.3233442306518555,
          15.433062553405762,
          9.723370552062988,
          1.0831495523452759,
          18.44492530822754,
          -6.0265374183654785,
          -23.788043975830078,
          -2.603040933609009,
          -0.39421072602272034,
          -25.619417190551758,
          24.15968894958496,
          -0.6274052858352661,
          8.283617973327637,
          10.517894744873047,
          19.345792770385742,
          -25.22003173828125,
          5.07774543762207,
          7.846465110778809,
          -14.104703903198242,
          -4.526912212371826,
          4.683396339416504,
          14.345316886901855,
          -15.34726333618164,
          -21.32261848449707,
          -26.585487365722656,
          4.328322887420654,
          11.40620231628418,
          18.78221893310547,
          4.421429634094238,
          -11.120294570922852,
          18.0104923248291,
          5.959813594818115,
          2.9509971141815186,
          -0.17413301765918732,
          21.66836929321289,
          18.14142608642578,
          19.410995483398438,
          -16.710922241210938,
          -12.479192733764648,
          -2.745798110961914,
          -20.408761978149414,
          -27.051679611206055,
          15.59359359741211,
          32.5222053527832,
          -23.54659080505371,
          -9.073356628417969,
          13.487555503845215,
          -16.36969566345215,
          14.89716911315918,
          -13.280294418334961,
          13.815994262695312,
          5.853973388671875,
          -18.72895050048828,
          23.816869735717773,
          -5.57706880569458,
          -13.541050910949707,
          34.18510818481445,
          5.9843525886535645,
          17.892221450805664,
          -2.7211413383483887,
          3.647360324859619,
          -21.9818172454834,
          -25.55441665649414,
          -22.725473403930664,
          -8.900501251220703,
          6.911999702453613,
          -15.891959190368652,
          34.849395751953125,
          2.0404324531555176,
          9.36451530456543,
          -29.2419376373291,
          -2.848864793777466,
          -25.572322845458984,
          -27.027544021606445,
          3.9450976848602295,
          -10.40627670288086,
          -14.288553237915039,
          -13.411325454711914,
          -7.405849456787109,
          -10.391956329345703,
          29.04038429260254,
          5.874510288238525,
          -1.6275930404663086,
          -1.6275634765625,
          -8.912092208862305,
          2.264263391494751,
          -15.07432746887207,
          -9.672141075134277,
          23.711692810058594,
          12.927234649658203,
          -20.957101821899414,
          -5.737490177154541,
          5.441024303436279,
          -1.0230170488357544,
          -15.79276180267334
         ],
         "xaxis": "x",
         "y": [
          14.4760103225708,
          -25.61985969543457,
          -20.440919876098633,
          -19.9156551361084,
          24.1059627532959,
          -6.949711799621582,
          12.749589920043945,
          -24.280906677246094,
          29.755558013916016,
          29.900182723999023,
          -0.5603410601615906,
          20.77269172668457,
          15.334765434265137,
          8.626486778259277,
          -3.526691436767578,
          3.7617199420928955,
          18.783693313598633,
          16.42048454284668,
          8.39550495147705,
          24.04558753967285,
          4.591762065887451,
          -19.22400665283203,
          -22.51008415222168,
          -2.297144651412964,
          -2.570152759552002,
          -5.862145900726318,
          -1.7669966220855713,
          -26.98735809326172,
          15.493690490722656,
          -27.093761444091797,
          -28.347946166992188,
          2.1621580123901367,
          -21.9429931640625,
          20.470706939697266,
          3.206285238265991,
          9.379152297973633,
          -22.45452308654785,
          12.137225151062012,
          -1.000329852104187,
          -2.1609890460968018,
          20.239559173583984,
          15.795958518981934,
          7.951521396636963,
          -9.166319847106934,
          -5.539748668670654,
          11.070268630981445,
          13.354612350463867,
          -23.58757972717285,
          4.991921424865723,
          9.2247314453125,
          17.454959869384766,
          5.951667785644531,
          25.324304580688477,
          -20.21294593811035,
          -2.001272439956665,
          3.901561737060547,
          26.228124618530273,
          8.13739013671875,
          -11.880382537841797,
          10.897586822509766,
          -25.384193420410156,
          9.191633224487305,
          -21.460359573364258,
          11.686174392700195,
          8.557126998901367,
          -14.696985244750977,
          -4.627245903015137,
          -8.377593040466309,
          -10.858102798461914,
          7.765726566314697,
          15.620562553405762,
          12.00934886932373,
          11.716453552246094,
          -14.429082870483398,
          -0.33219170570373535,
          -4.258552551269531,
          3.188815116882324,
          0.18684956431388855,
          -10.797653198242188,
          -19.60906982421875,
          -25.971202850341797,
          9.609189987182617,
          -32.229557037353516,
          15.862635612487793,
          18.44153594970703,
          21.260446548461914,
          15.163888931274414,
          16.09207534790039,
          -14.924297332763672,
          20.872495651245117,
          1.467630386352539,
          19.30724334716797,
          9.761717796325684,
          9.33720588684082,
          -25.095117568969727,
          -7.30621862411499,
          -14.716245651245117,
          12.24011516571045,
          6.154430389404297,
          -12.398049354553223,
          2.8502891063690186,
          -1.040933609008789,
          15.290566444396973,
          -1.01456618309021,
          -32.175357818603516,
          -5.950046539306641,
          7.989161014556885,
          10.66511344909668,
          3.342280387878418,
          10.33456802368164,
          -15.052486419677734,
          16.588233947753906,
          -24.725919723510742,
          -26.288150787353516,
          -7.515525817871094,
          -26.706167221069336,
          -25.72987937927246,
          17.283248901367188,
          14.855730056762695,
          12.985014915466309,
          9.097185134887695,
          17.59685707092285,
          -11.810659408569336,
          22.19209861755371,
          -0.6732919216156006,
          14.0636568069458,
          -12.392545700073242,
          19.535634994506836,
          -23.897350311279297,
          -6.80215311050415,
          -14.755636215209961,
          19.52741241455078,
          -24.47591781616211,
          -25.053001403808594,
          4.048355579376221,
          -23.952486038208008,
          24.495595932006836,
          -3.84682559967041,
          -0.3906165063381195,
          -3.3516838550567627,
          17.877567291259766,
          8.448486328125,
          1.7136729955673218,
          25.038795471191406,
          4.190743923187256,
          7.911268711090088,
          10.476288795471191,
          18.238529205322266,
          3.128835439682007,
          0.8286527395248413,
          -22.95331573486328,
          -1.7334729433059692,
          2.5162086486816406,
          3.4192557334899902,
          -11.440003395080566,
          13.49738883972168,
          -14.022621154785156,
          -13.1965913772583,
          17.61147117614746,
          -3.4242594242095947,
          -8.859006881713867,
          24.82814598083496,
          26.038511276245117,
          -11.461601257324219,
          -6.247087478637695,
          18.889617919921875,
          11.272259712219238,
          6.6926679611206055,
          -19.715930938720703,
          -28.96794891357422,
          9.323619842529297,
          23.060232162475586,
          15.509547233581543,
          -10.279260635375977,
          -12.888516426086426,
          -3.3915300369262695,
          11.55866527557373,
          -10.624597549438477,
          -9.70453929901123,
          -9.100329399108887,
          0.13385425508022308,
          6.479734420776367,
          -20.559663772583008,
          5.767040729522705,
          -8.760790824890137,
          6.545022964477539,
          27.76603889465332,
          22.083415985107422,
          -20.766286849975586,
          -28.52935218811035,
          29.66571044921875,
          -21.408893585205078,
          18.419923782348633,
          -1.8483307361602783,
          -7.884782791137695,
          5.1904072761535645,
          2.4285125732421875,
          15.12714958190918,
          -23.765457153320312,
          14.82930850982666,
          -19.8351993560791,
          -25.723018646240234,
          27.86786651611328,
          29.388641357421875,
          -8.261255264282227,
          9.893878936767578,
          27.344196319580078,
          24.074485778808594,
          -15.316237449645996,
          22.61247444152832,
          7.055451393127441,
          16.247671127319336,
          -13.693113327026367,
          -7.287840843200684,
          33.348236083984375,
          -1.3877443075180054,
          -18.67620849609375,
          -29.71169090270996,
          -13.850847244262695,
          -29.15386390686035,
          -0.2055388242006302,
          -9.577733993530273,
          -1.1075456142425537,
          -9.800647735595703,
          -30.152986526489258,
          -14.78702449798584,
          -17.708911895751953,
          25.2572021484375,
          22.035608291625977,
          -11.317981719970703,
          -23.267181396484375,
          -0.02472330443561077,
          10.655990600585938,
          -33.596824645996094,
          0.6479094624519348,
          12.821003913879395,
          2.6530232429504395,
          -8.162352561950684,
          -26.181489944458008,
          -7.76528787612915,
          13.110128402709961,
          13.573091506958008,
          19.88918685913086,
          -20.686603546142578,
          -0.4616745114326477,
          16.84109115600586,
          -26.874752044677734,
          -1.1975786685943604,
          -6.978364944458008,
          5.586644649505615,
          19.121871948242188,
          -18.834300994873047,
          9.313090324401855,
          22.71538734436035,
          -17.788414001464844,
          -28.13323402404785,
          16.9261531829834,
          -4.3657965660095215,
          6.802610397338867,
          -7.087955474853516,
          -4.975476264953613,
          -23.261260986328125,
          -17.717845916748047,
          -24.818950653076172,
          -17.991933822631836,
          0.3664378225803375,
          4.465208530426025,
          -18.893407821655273,
          -0.894456684589386,
          -13.305665969848633,
          -24.57323455810547,
          12.31429386138916,
          14.504015922546387,
          28.422998428344727,
          1.6657090187072754,
          28.615251541137695,
          3.3887529373168945,
          -4.501033782958984,
          -6.314496040344238,
          7.635631561279297,
          9.938250541687012,
          2.0724053382873535,
          22.139986038208008,
          -26.434886932373047,
          3.9555392265319824,
          27.938583374023438,
          6.337621212005615,
          7.281073570251465,
          -24.2918701171875,
          -9.34559440612793,
          35.61900329589844,
          -2.552934408187866,
          1.4690361022949219,
          -7.590213298797607,
          -1.7636144161224365,
          -11.291680335998535,
          -11.43272590637207,
          -5.266526222229004,
          2.8808634281158447,
          13.436637878417969,
          -6.577587127685547,
          -3.363293170928955,
          -4.609353542327881,
          -5.610476970672607,
          -21.996166229248047,
          10.319440841674805,
          -16.075464248657227,
          -7.6221232414245605,
          -7.622133255004883,
          -7.519861698150635,
          -5.020373344421387,
          -2.306588888168335,
          3.906416654586792,
          -5.852359294891357,
          28.734983444213867,
          5.803765296936035,
          4.1753249168396,
          1.9097449779510498,
          13.186758041381836,
          -4.108647346496582
         ],
         "yaxis": "y"
        }
       ],
       "layout": {
        "coloraxis": {
         "colorbar": {
          "title": {
           "text": "color"
          }
         },
         "colorscale": [
          [
           0,
           "#0d0887"
          ],
          [
           0.1111111111111111,
           "#46039f"
          ],
          [
           0.2222222222222222,
           "#7201a8"
          ],
          [
           0.3333333333333333,
           "#9c179e"
          ],
          [
           0.4444444444444444,
           "#bd3786"
          ],
          [
           0.5555555555555556,
           "#d8576b"
          ],
          [
           0.6666666666666666,
           "#ed7953"
          ],
          [
           0.7777777777777778,
           "#fb9f3a"
          ],
          [
           0.8888888888888888,
           "#fdca26"
          ],
          [
           1,
           "#f0f921"
          ]
         ]
        },
        "legend": {
         "tracegroupgap": 0
        },
        "margin": {
         "t": 60
        },
        "template": {
         "data": {
          "bar": [
           {
            "error_x": {
             "color": "#2a3f5f"
            },
            "error_y": {
             "color": "#2a3f5f"
            },
            "marker": {
             "line": {
              "color": "#E5ECF6",
              "width": 0.5
             },
             "pattern": {
              "fillmode": "overlay",
              "size": 10,
              "solidity": 0.2
             }
            },
            "type": "bar"
           }
          ],
          "barpolar": [
           {
            "marker": {
             "line": {
              "color": "#E5ECF6",
              "width": 0.5
             },
             "pattern": {
              "fillmode": "overlay",
              "size": 10,
              "solidity": 0.2
             }
            },
            "type": "barpolar"
           }
          ],
          "carpet": [
           {
            "aaxis": {
             "endlinecolor": "#2a3f5f",
             "gridcolor": "white",
             "linecolor": "white",
             "minorgridcolor": "white",
             "startlinecolor": "#2a3f5f"
            },
            "baxis": {
             "endlinecolor": "#2a3f5f",
             "gridcolor": "white",
             "linecolor": "white",
             "minorgridcolor": "white",
             "startlinecolor": "#2a3f5f"
            },
            "type": "carpet"
           }
          ],
          "choropleth": [
           {
            "colorbar": {
             "outlinewidth": 0,
             "ticks": ""
            },
            "type": "choropleth"
           }
          ],
          "contour": [
           {
            "colorbar": {
             "outlinewidth": 0,
             "ticks": ""
            },
            "colorscale": [
             [
              0,
              "#0d0887"
             ],
             [
              0.1111111111111111,
              "#46039f"
             ],
             [
              0.2222222222222222,
              "#7201a8"
             ],
             [
              0.3333333333333333,
              "#9c179e"
             ],
             [
              0.4444444444444444,
              "#bd3786"
             ],
             [
              0.5555555555555556,
              "#d8576b"
             ],
             [
              0.6666666666666666,
              "#ed7953"
             ],
             [
              0.7777777777777778,
              "#fb9f3a"
             ],
             [
              0.8888888888888888,
              "#fdca26"
             ],
             [
              1,
              "#f0f921"
             ]
            ],
            "type": "contour"
           }
          ],
          "contourcarpet": [
           {
            "colorbar": {
             "outlinewidth": 0,
             "ticks": ""
            },
            "type": "contourcarpet"
           }
          ],
          "heatmap": [
           {
            "colorbar": {
             "outlinewidth": 0,
             "ticks": ""
            },
            "colorscale": [
             [
              0,
              "#0d0887"
             ],
             [
              0.1111111111111111,
              "#46039f"
             ],
             [
              0.2222222222222222,
              "#7201a8"
             ],
             [
              0.3333333333333333,
              "#9c179e"
             ],
             [
              0.4444444444444444,
              "#bd3786"
             ],
             [
              0.5555555555555556,
              "#d8576b"
             ],
             [
              0.6666666666666666,
              "#ed7953"
             ],
             [
              0.7777777777777778,
              "#fb9f3a"
             ],
             [
              0.8888888888888888,
              "#fdca26"
             ],
             [
              1,
              "#f0f921"
             ]
            ],
            "type": "heatmap"
           }
          ],
          "heatmapgl": [
           {
            "colorbar": {
             "outlinewidth": 0,
             "ticks": ""
            },
            "colorscale": [
             [
              0,
              "#0d0887"
             ],
             [
              0.1111111111111111,
              "#46039f"
             ],
             [
              0.2222222222222222,
              "#7201a8"
             ],
             [
              0.3333333333333333,
              "#9c179e"
             ],
             [
              0.4444444444444444,
              "#bd3786"
             ],
             [
              0.5555555555555556,
              "#d8576b"
             ],
             [
              0.6666666666666666,
              "#ed7953"
             ],
             [
              0.7777777777777778,
              "#fb9f3a"
             ],
             [
              0.8888888888888888,
              "#fdca26"
             ],
             [
              1,
              "#f0f921"
             ]
            ],
            "type": "heatmapgl"
           }
          ],
          "histogram": [
           {
            "marker": {
             "pattern": {
              "fillmode": "overlay",
              "size": 10,
              "solidity": 0.2
             }
            },
            "type": "histogram"
           }
          ],
          "histogram2d": [
           {
            "colorbar": {
             "outlinewidth": 0,
             "ticks": ""
            },
            "colorscale": [
             [
              0,
              "#0d0887"
             ],
             [
              0.1111111111111111,
              "#46039f"
             ],
             [
              0.2222222222222222,
              "#7201a8"
             ],
             [
              0.3333333333333333,
              "#9c179e"
             ],
             [
              0.4444444444444444,
              "#bd3786"
             ],
             [
              0.5555555555555556,
              "#d8576b"
             ],
             [
              0.6666666666666666,
              "#ed7953"
             ],
             [
              0.7777777777777778,
              "#fb9f3a"
             ],
             [
              0.8888888888888888,
              "#fdca26"
             ],
             [
              1,
              "#f0f921"
             ]
            ],
            "type": "histogram2d"
           }
          ],
          "histogram2dcontour": [
           {
            "colorbar": {
             "outlinewidth": 0,
             "ticks": ""
            },
            "colorscale": [
             [
              0,
              "#0d0887"
             ],
             [
              0.1111111111111111,
              "#46039f"
             ],
             [
              0.2222222222222222,
              "#7201a8"
             ],
             [
              0.3333333333333333,
              "#9c179e"
             ],
             [
              0.4444444444444444,
              "#bd3786"
             ],
             [
              0.5555555555555556,
              "#d8576b"
             ],
             [
              0.6666666666666666,
              "#ed7953"
             ],
             [
              0.7777777777777778,
              "#fb9f3a"
             ],
             [
              0.8888888888888888,
              "#fdca26"
             ],
             [
              1,
              "#f0f921"
             ]
            ],
            "type": "histogram2dcontour"
           }
          ],
          "mesh3d": [
           {
            "colorbar": {
             "outlinewidth": 0,
             "ticks": ""
            },
            "type": "mesh3d"
           }
          ],
          "parcoords": [
           {
            "line": {
             "colorbar": {
              "outlinewidth": 0,
              "ticks": ""
             }
            },
            "type": "parcoords"
           }
          ],
          "pie": [
           {
            "automargin": true,
            "type": "pie"
           }
          ],
          "scatter": [
           {
            "fillpattern": {
             "fillmode": "overlay",
             "size": 10,
             "solidity": 0.2
            },
            "type": "scatter"
           }
          ],
          "scatter3d": [
           {
            "line": {
             "colorbar": {
              "outlinewidth": 0,
              "ticks": ""
             }
            },
            "marker": {
             "colorbar": {
              "outlinewidth": 0,
              "ticks": ""
             }
            },
            "type": "scatter3d"
           }
          ],
          "scattercarpet": [
           {
            "marker": {
             "colorbar": {
              "outlinewidth": 0,
              "ticks": ""
             }
            },
            "type": "scattercarpet"
           }
          ],
          "scattergeo": [
           {
            "marker": {
             "colorbar": {
              "outlinewidth": 0,
              "ticks": ""
             }
            },
            "type": "scattergeo"
           }
          ],
          "scattergl": [
           {
            "marker": {
             "colorbar": {
              "outlinewidth": 0,
              "ticks": ""
             }
            },
            "type": "scattergl"
           }
          ],
          "scattermapbox": [
           {
            "marker": {
             "colorbar": {
              "outlinewidth": 0,
              "ticks": ""
             }
            },
            "type": "scattermapbox"
           }
          ],
          "scatterpolar": [
           {
            "marker": {
             "colorbar": {
              "outlinewidth": 0,
              "ticks": ""
             }
            },
            "type": "scatterpolar"
           }
          ],
          "scatterpolargl": [
           {
            "marker": {
             "colorbar": {
              "outlinewidth": 0,
              "ticks": ""
             }
            },
            "type": "scatterpolargl"
           }
          ],
          "scatterternary": [
           {
            "marker": {
             "colorbar": {
              "outlinewidth": 0,
              "ticks": ""
             }
            },
            "type": "scatterternary"
           }
          ],
          "surface": [
           {
            "colorbar": {
             "outlinewidth": 0,
             "ticks": ""
            },
            "colorscale": [
             [
              0,
              "#0d0887"
             ],
             [
              0.1111111111111111,
              "#46039f"
             ],
             [
              0.2222222222222222,
              "#7201a8"
             ],
             [
              0.3333333333333333,
              "#9c179e"
             ],
             [
              0.4444444444444444,
              "#bd3786"
             ],
             [
              0.5555555555555556,
              "#d8576b"
             ],
             [
              0.6666666666666666,
              "#ed7953"
             ],
             [
              0.7777777777777778,
              "#fb9f3a"
             ],
             [
              0.8888888888888888,
              "#fdca26"
             ],
             [
              1,
              "#f0f921"
             ]
            ],
            "type": "surface"
           }
          ],
          "table": [
           {
            "cells": {
             "fill": {
              "color": "#EBF0F8"
             },
             "line": {
              "color": "white"
             }
            },
            "header": {
             "fill": {
              "color": "#C8D4E3"
             },
             "line": {
              "color": "white"
             }
            },
            "type": "table"
           }
          ]
         },
         "layout": {
          "annotationdefaults": {
           "arrowcolor": "#2a3f5f",
           "arrowhead": 0,
           "arrowwidth": 1
          },
          "autotypenumbers": "strict",
          "coloraxis": {
           "colorbar": {
            "outlinewidth": 0,
            "ticks": ""
           }
          },
          "colorscale": {
           "diverging": [
            [
             0,
             "#8e0152"
            ],
            [
             0.1,
             "#c51b7d"
            ],
            [
             0.2,
             "#de77ae"
            ],
            [
             0.3,
             "#f1b6da"
            ],
            [
             0.4,
             "#fde0ef"
            ],
            [
             0.5,
             "#f7f7f7"
            ],
            [
             0.6,
             "#e6f5d0"
            ],
            [
             0.7,
             "#b8e186"
            ],
            [
             0.8,
             "#7fbc41"
            ],
            [
             0.9,
             "#4d9221"
            ],
            [
             1,
             "#276419"
            ]
           ],
           "sequential": [
            [
             0,
             "#0d0887"
            ],
            [
             0.1111111111111111,
             "#46039f"
            ],
            [
             0.2222222222222222,
             "#7201a8"
            ],
            [
             0.3333333333333333,
             "#9c179e"
            ],
            [
             0.4444444444444444,
             "#bd3786"
            ],
            [
             0.5555555555555556,
             "#d8576b"
            ],
            [
             0.6666666666666666,
             "#ed7953"
            ],
            [
             0.7777777777777778,
             "#fb9f3a"
            ],
            [
             0.8888888888888888,
             "#fdca26"
            ],
            [
             1,
             "#f0f921"
            ]
           ],
           "sequentialminus": [
            [
             0,
             "#0d0887"
            ],
            [
             0.1111111111111111,
             "#46039f"
            ],
            [
             0.2222222222222222,
             "#7201a8"
            ],
            [
             0.3333333333333333,
             "#9c179e"
            ],
            [
             0.4444444444444444,
             "#bd3786"
            ],
            [
             0.5555555555555556,
             "#d8576b"
            ],
            [
             0.6666666666666666,
             "#ed7953"
            ],
            [
             0.7777777777777778,
             "#fb9f3a"
            ],
            [
             0.8888888888888888,
             "#fdca26"
            ],
            [
             1,
             "#f0f921"
            ]
           ]
          },
          "colorway": [
           "#636efa",
           "#EF553B",
           "#00cc96",
           "#ab63fa",
           "#FFA15A",
           "#19d3f3",
           "#FF6692",
           "#B6E880",
           "#FF97FF",
           "#FECB52"
          ],
          "font": {
           "color": "#2a3f5f"
          },
          "geo": {
           "bgcolor": "white",
           "lakecolor": "white",
           "landcolor": "#E5ECF6",
           "showlakes": true,
           "showland": true,
           "subunitcolor": "white"
          },
          "hoverlabel": {
           "align": "left"
          },
          "hovermode": "closest",
          "mapbox": {
           "style": "light"
          },
          "paper_bgcolor": "white",
          "plot_bgcolor": "#E5ECF6",
          "polar": {
           "angularaxis": {
            "gridcolor": "white",
            "linecolor": "white",
            "ticks": ""
           },
           "bgcolor": "#E5ECF6",
           "radialaxis": {
            "gridcolor": "white",
            "linecolor": "white",
            "ticks": ""
           }
          },
          "scene": {
           "xaxis": {
            "backgroundcolor": "#E5ECF6",
            "gridcolor": "white",
            "gridwidth": 2,
            "linecolor": "white",
            "showbackground": true,
            "ticks": "",
            "zerolinecolor": "white"
           },
           "yaxis": {
            "backgroundcolor": "#E5ECF6",
            "gridcolor": "white",
            "gridwidth": 2,
            "linecolor": "white",
            "showbackground": true,
            "ticks": "",
            "zerolinecolor": "white"
           },
           "zaxis": {
            "backgroundcolor": "#E5ECF6",
            "gridcolor": "white",
            "gridwidth": 2,
            "linecolor": "white",
            "showbackground": true,
            "ticks": "",
            "zerolinecolor": "white"
           }
          },
          "shapedefaults": {
           "line": {
            "color": "#2a3f5f"
           }
          },
          "ternary": {
           "aaxis": {
            "gridcolor": "white",
            "linecolor": "white",
            "ticks": ""
           },
           "baxis": {
            "gridcolor": "white",
            "linecolor": "white",
            "ticks": ""
           },
           "bgcolor": "#E5ECF6",
           "caxis": {
            "gridcolor": "white",
            "linecolor": "white",
            "ticks": ""
           }
          },
          "title": {
           "x": 0.05
          },
          "xaxis": {
           "automargin": true,
           "gridcolor": "white",
           "linecolor": "white",
           "ticks": "",
           "title": {
            "standoff": 15
           },
           "zerolinecolor": "white",
           "zerolinewidth": 2
          },
          "yaxis": {
           "automargin": true,
           "gridcolor": "white",
           "linecolor": "white",
           "ticks": "",
           "title": {
            "standoff": 15
           },
           "zerolinecolor": "white",
           "zerolinewidth": 2
          }
         }
        },
        "xaxis": {
         "anchor": "y",
         "domain": [
          0,
          1
         ],
         "title": {
          "text": "x_tsne"
         }
        },
        "yaxis": {
         "anchor": "x",
         "domain": [
          0,
          1
         ],
         "title": {
          "text": "y_tsne"
         }
        }
       }
      }
     },
     "metadata": {},
     "output_type": "display_data"
    }
   ],
   "source": [
    "pd.set_option(\"display.max_rows\", 180)\n",
    "display(runs_df.sort_values(\"Silhouette\", ascending=False).iloc[:180])\n",
    "\n",
    "plt_data[\"label\"] = labels\n",
    "fig = px.scatter(\n",
    "    plt_data,\n",
    "    x=\"x_tsne\",\n",
    "    y=\"y_tsne\",\n",
    "    hover_name=\"content\",\n",
    "    hover_data=[\"label\"],\n",
    "    color=labels,\n",
    ")\n",
    "fig.show()"
   ]
  },
  {
   "cell_type": "code",
   "execution_count": 40,
   "metadata": {},
   "outputs": [],
   "source": [
    "from collections import defaultdict as dd\n",
    "\n",
    "cluster_counts = dd(int)\n",
    "cluster_titles = dd(list)\n",
    "\n",
    "for idx, label in enumerate(labels):\n",
    "    cluster_counts[label] += 1\n",
    "    cluster_titles[label].append(titles[idx])"
   ]
  },
  {
   "cell_type": "code",
   "execution_count": 41,
   "metadata": {},
   "outputs": [],
   "source": [
    "sorted_clusters = sorted(cluster_titles.items(), key=lambda x: -len(x[1]))"
   ]
  },
  {
   "cell_type": "code",
   "execution_count": 43,
   "metadata": {},
   "outputs": [
    {
     "data": {
      "text/plain": [
       "[(12,\n",
       "  ['dynamicdet: a unified dynamic architecture for object detection',\n",
       "   'dynamic neural network for multi-task learning searching across diverse network topologies',\n",
       "   'fixing overconfidence in dynamic neural networks',\n",
       "   'adaensemble: learning adaptively sparse structured ensemble network for click-through rate prediction',\n",
       "   'monadic deep learning',\n",
       "   'physics-informed koopman network',\n",
       "   'a survey on dynamic neural networks for natural language processing',\n",
       "   \"physics-guided problem decomposition for scaling deep learning of high-dimensional eigen-solvers: the case of schrödinger's equation\",\n",
       "   'forecasting the outcome of spintronic experiments with neural ordinary differential equations',\n",
       "   'kdexplainer: a task-oriented attention model for explaining knowledge distillation',\n",
       "   'ecnns: ensemble learning methods for improving planar grasp quality estimation',\n",
       "   'contextual hypernetworks for novel feature adaptation',\n",
       "   'deep learning with a classifier system: initial results',\n",
       "   'embedded knowledge distillation in depth-level dynamic neural network',\n",
       "   'dynamic neural networks: a survey',\n",
       "   'a reproducibility study of \"augmenting genetic algorithms with deep neural networks for exploring the chemical space\"',\n",
       "   'making neural networks interpretable with attribution: application to implicit signals prediction',\n",
       "   'nimble: efficiently compiling dynamic neural networks for model inference',\n",
       "   'shallow-deep networks: understanding and mitigating network overthinking',\n",
       "   'fast adaptively weighted matrix factorization for recommendation with implicit feedback',\n",
       "   'dictionary learning by dynamical neural networks',\n",
       "   'quality resilient deep neural networks',\n",
       "   'factory of realities: on the emergence of virtual spatiotemporal structures',\n",
       "   'unifying multi-domain multi-task learning: tensor and neural network perspectives',\n",
       "   'concept of e-machine: how does a \"dynamical\" brain learn to process \"symbolic\" information? part i',\n",
       "   'machine learning methods to analyze arabidopsis thaliana plant root growth',\n",
       "   'web spam classification using supervised artificial neural network algorithms']),\n",
       " (-1,\n",
       "  ['graph mixture of experts: learning on large-scale graphs with explicit diversity modeling',\n",
       "   'a new hazard event classification model via deep learning and multifractal',\n",
       "   'a survey of neural trees',\n",
       "   't-recx: tiny-resource efficient convolutional neural networks with early-exit',\n",
       "   'satbench: benchmarking the speed-accuracy tradeoff in object recognition by humans and dynamic neural networks',\n",
       "   'optimizing mixture of experts using dynamic recompilations',\n",
       "   'test-time adaptable neural networks for robust medical image segmentation',\n",
       "   'towards efficient single image dehazing and desnowing',\n",
       "   'dystyle: dynamic neural network for multi-attribute-conditioned style editing',\n",
       "   'table-based fact verification with self-adaptive mixture of experts',\n",
       "   'task-adaptive neural network search with meta-contrastive learning',\n",
       "   'multi-expert learning of adaptive legged locomotion',\n",
       "   'discovery of the hidden state in ionic models using a domain-specific recurrent neural network',\n",
       "   'dynamically throttleable neural networks (tnn)',\n",
       "   'gshard: scaling giant models with conditional computation and automatic sharding',\n",
       "   'surprisal-triggered conditional computation with neural networks',\n",
       "   'dynamic instance domain adaptation',\n",
       "   'hierarchical mixtures of generators for adversarial learning',\n",
       "   'an adaptive architecture for portability of greenhouse models',\n",
       "   'gated embeddings in end-to-end speech recognition for conversational-context fusion',\n",
       "   'on the functional equivalence of tsk fuzzy systems to neural networks, mixture of experts, cart, and stacking ensemble regression',\n",
       "   'deepdrum: an adaptive conditional neural network',\n",
       "   'deep predictive coding network with local recurrent processing for object recognition',\n",
       "   'visual saliency prediction using a mixture of deep neural networks']),\n",
       " (5,\n",
       "  ['towards convergence rates for parameter estimation in gaussian-gated mixture of experts',\n",
       "   'a hybrid tensor-expert-data parallelism approach to optimize mixture-of-experts training',\n",
       "   'improving expert specialization in mixture of experts',\n",
       "   'ta-moe: topology-aware large scale mixture-of-expert training',\n",
       "   'gaussian process-gated hierarchical mixtures of experts',\n",
       "   'fast, differentiable and sparse top-k: a convex analysis perspective',\n",
       "   'spatial mixture-of-experts',\n",
       "   'on the adversarial robustness of mixture of experts',\n",
       "   'towards understanding mixture of experts in deep learning',\n",
       "   'uni-perceiver-moe: learning sparse generalist models with conditional moes',\n",
       "   'sparse moes meet efficient ensembles',\n",
       "   'dselect-k: differentiable selection in the mixture of experts with applications to multi-task learning',\n",
       "   'mixture of elm based experts with trainable gating network',\n",
       "   'towards a universal gating network for mixtures of experts',\n",
       "   'fast deep mixtures of gaussian process experts',\n",
       "   'learning charme models with neural networks',\n",
       "   'learning in gated neural networks',\n",
       "   'dropout regularization in hierarchical mixture of experts',\n",
       "   'bounded rational decision-making with adaptive neural network priors',\n",
       "   'channel gating neural networks',\n",
       "   'breaking the gridlock in mixture-of-experts: consistent and efficient algorithms',\n",
       "   'deep gaussian covariance network',\n",
       "   'extended mixture of mlp experts by hybrid of conjugate gradient method and modified cuckoo search']),\n",
       " (0,\n",
       "  ['energy-efficient and privacy-aware social distance monitoring with low-resolution infrared sensors and adaptive inference',\n",
       "   'marsellus: a heterogeneous risc-v ai-iot end-node soc with 2-to-8b dnn acceleration and 30%-boost adaptive body biasing',\n",
       "   'accuracy-guaranteed collaborative dnn inference in industrial iot via deep reinforcement learning',\n",
       "   'a novel membership inference attack against dynamic neural networks by utilizing policy networks information',\n",
       "   'eve: environmental adaptive neural network models for low-power energy harvesting system',\n",
       "   'continuer: maintaining distributed dnn services during edge failures',\n",
       "   'ereba: black-box energy testing of adaptive neural networks',\n",
       "   'mobilefaceswap: a lightweight framework for video face swapping',\n",
       "   'an adaptive device-edge co-inference framework based on soft actor-critic',\n",
       "   'heterogeneous transformer: a scale adaptable neural network architecture for device activity detection',\n",
       "   'early-exit deep neural networks for distorted images: providing an efficient edge offloading',\n",
       "   'split computing and early exiting for deep learning applications: survey and research challenges',\n",
       "   'branchy-gnn: a device-edge co-inference framework for efficient point cloud processing',\n",
       "   'calibration-aided edge inference offloading via adaptive model partitioning of deep neural networks',\n",
       "   'edge ai: on-demand accelerating deep neural network inference via edge computing',\n",
       "   'edge intelligence: on-demand deep learning model co-inference with device-edge synergy',\n",
       "   'fast yolo: a fast you only look once system for real-time embedded object detection in video']),\n",
       " (10,\n",
       "  ['atheena: a toolflow for hardware early-exit network automation',\n",
       "   'hierarchical training of deep neural networks using early exiting',\n",
       "   'lgvit: dynamic early exiting for accelerating vision transformer',\n",
       "   'eenet: learning to early exit for adaptive inference',\n",
       "   'quicknets: saving training and preventing overconfidence in early-exit neural architectures',\n",
       "   'understanding the robustness of multi-exit models under common corruptions',\n",
       "   'fluid batching: exit-aware preemptive serving of early-exit neural networks on edge npus',\n",
       "   'binary early-exit network for adaptive inference on low-resource devices',\n",
       "   'resource-constrained edge ai with early exit prediction',\n",
       "   'consistency training of multi-exit architectures for sensor data',\n",
       "   'eeea-net: an early exit evolutionary neural architecture search',\n",
       "   'multi-exit vision transformer for dynamic inference',\n",
       "   'zero time waste: recycling predictions in early exit neural networks',\n",
       "   'improving the accuracy of early exits in multi-exit architectures via curriculum learning',\n",
       "   'e\\n2\\ncm: early exit via class means for efficient supervised and unsupervised learning',\n",
       "   'why should we add early exits to neural networks?',\n",
       "   'branchynet: fast inference via early exiting from deep neural networks']),\n",
       " (7,\n",
       "  ['transforming visual scene graphs to image captions',\n",
       "   're-iqa: unsupervised learning for image quality assessment in the wild',\n",
       "   'cfnet: conditional filter learning with dynamic noise estimation for real image denoising',\n",
       "   'dynamic-pix2pix: noise injected cgan for modeling input and target domain joint distributions with limited training data',\n",
       "   'glance and focus: a dynamic approach to reducing spatial redundancy in image classification',\n",
       "   'learning to compose hypercolumns for visual correspondence',\n",
       "   'learning to learn parameterized classification networks for scalable input images',\n",
       "   'improving distant supervised relation extraction by dynamic neural network',\n",
       "   'cross-modal subspace learning with scheduled adaptive margin constraints',\n",
       "   'expert sample consensus applied to camera re-localization',\n",
       "   'stefann: scene text editor using font adaptive neural network',\n",
       "   'reservoir computing based neural image filters',\n",
       "   'moe-spnet: a mixture-of-experts scene parsing network',\n",
       "   'multi-scale dense networks for resource efficient image classification',\n",
       "   'learning robust visual-semantic embeddings']),\n",
       " (18,\n",
       "  ['memorization capacity of neural networks with conditional computation',\n",
       "   'sparsity-constrained optimal transport',\n",
       "   'better training using weight-constrained stochastic dynamics',\n",
       "   'diffprune: neural network pruning with deterministic approximate binary gates and\\nl\\n0\\nregularization',\n",
       "   'adaptive neural network-based approximation to accelerate eulerian fluid simulation',\n",
       "   'controlling model complexity in probabilistic model-based dynamic optimization of neural network structures',\n",
       "   'l\\n0\\n-arm: network sparsification via stochastic binary optimization',\n",
       "   'conditional information gain networks',\n",
       "   'bayesian filtering unifies adaptive and non-adaptive neural network optimization methods',\n",
       "   'controlling computation versus quality for neural sequence models',\n",
       "   'outrageously large neural networks: the sparsely-gated mixture-of-experts layer',\n",
       "   'low-rank approximations for conditional feedforward computation in deep neural networks',\n",
       "   'estimating or propagating gradients through stochastic neurons for conditional computation',\n",
       "   'conditional computation in neural networks for faster models',\n",
       "   'exponentially increasing the capacity-to-computation ratio for conditional computation in deep learning']),\n",
       " (19,\n",
       "  ['gated compression layers for efficient always-on models',\n",
       "   'adaptive neural networks using residual fitting',\n",
       "   'adaptive neural network ensemble using frequency distribution',\n",
       "   'conditional computation for continual learning',\n",
       "   'dynamic neural network channel execution for efficient training',\n",
       "   'conditional channel gated networks for task-aware continual learning',\n",
       "   'channel selection using gumbel softmax',\n",
       "   'you look twice: gaternet for dynamic filter selection in cnns',\n",
       "   'adaptive neural trees',\n",
       "   'overcoming the vanishing gradient problem in plain recurrent networks',\n",
       "   'the tree ensemble layer: differentiability meets conditional computation',\n",
       "   'adaptive neural networks for efficient inference',\n",
       "   'decision forests, convolutional networks and the models in-between']),\n",
       " (17,\n",
       "  ['improving deep attractor network by bgru and gmm for speech separation',\n",
       "   'parallel gated neural network with attention mechanism for speech enhancement',\n",
       "   'a mixture of expert based deep neural network for improved asr',\n",
       "   'privacy attacks for automatic speech recognition acoustic models in a federated learning framework',\n",
       "   'private language model adaptation for speech recognition',\n",
       "   'mixtures of deep neural experts for automated speech scoring',\n",
       "   'siamese labels auxiliary learning',\n",
       "   'robust sound event detection in bioacoustic sensor networks',\n",
       "   'unsupervised domain adaptation by adversarial learning for robust speech recognition',\n",
       "   'voice separation with an unknown number of multiple speakers',\n",
       "   'espnet: end-to-end speech processing toolkit',\n",
       "   'speech enhancement using a deep mixture of experts']),\n",
       " (20,\n",
       "  ['simultaneous action recognition and human whole-body motion and dynamics prediction from wearable sensors',\n",
       "   'human activity recognition on microcontrollers with quantized and adaptive deep neural networks',\n",
       "   'adaptive neural network-based unscented kalman filter for robust pose tracking of noncooperative spacecraft',\n",
       "   'towards lightweight neural animation : exploration of neural network pruning in mixture of experts-based animation models',\n",
       "   'human motion prediction using semi-adaptable neural networks',\n",
       "   \"a dynamic neural network approach to generating robot's novel actions: a simulation experiment\",\n",
       "   'view adaptive neural networks for high performance skeleton-based human action recognition',\n",
       "   'seamless integration and coordination of cognitive skills in humanoid robots: a deep learning approach',\n",
       "   'achieving synergy in cognitive behavior of humanoids via deep learning of dynamic visuo-motor-attentional coordination']),\n",
       " (6,\n",
       "  ['hypere2vid: improving event-based video reconstruction via hypernetworks',\n",
       "   'early exit or not: resource-efficient blind quality enhancement for compressed images',\n",
       "   'gla in mediaeval 2018 emotional impact of movies task',\n",
       "   'uts submission to google youtube-8m challenge 2017',\n",
       "   'large-scale youtube-8m video understanding with deep neural networks',\n",
       "   'efficient large scale video classification']),\n",
       " (13,\n",
       "  ['seenn: towards temporal spiking early-exit neural networks',\n",
       "   'improving the performance of dnn-based software services using automated layer caching',\n",
       "   'dynamic neural network architectural and topological adaptation and related methods -- a survey',\n",
       "   'few-shot and continual learning with attentive independent mechanisms',\n",
       "   'revisiting batch normalization for training low-latency deep spiking neural networks from scratch',\n",
       "   'a mixture of expert approach for low-cost customization of deep neural networks']),\n",
       " (25,\n",
       "  ['adaptive neural network backstepping control method for aerial manipulator based on variable inertia parameter modeling',\n",
       "   'boosted dynamic neural networks',\n",
       "   'feature matching as improved transfer learning technique for wearable eeg',\n",
       "   'student performance prediction using dynamic neural models',\n",
       "   'predictive coding-based deep dynamic neural network for visuomotor learning',\n",
       "   'pseudo dynamic transitional modeling of building heating energy demand using artificial neural network']),\n",
       " (32,\n",
       "  ['trainability, expressivity and interpretability in gated neural odes',\n",
       "   'neurocoder: learning general-purpose computation using stored neural programs',\n",
       "   'gated multimodal units for information fusion',\n",
       "   'attractor metadynamics in adapting neural networks',\n",
       "   'neurally implementable semantic networks',\n",
       "   'dynamical neural network: information and topology']),\n",
       " (41,\n",
       "  ['machine learning methods for postprocessing ensemble forecasts of wind gusts: a systematic comparison',\n",
       "   'a novel cluster classify regress model predictive controller formulation; ccr-mpc',\n",
       "   'gated ensemble of spatio-temporal mixture of experts for multi-task learning in ride-hailing system',\n",
       "   'nested mixture of experts: cooperative and competitive learning of hybrid dynamical system',\n",
       "   'flight-connection prediction for airline crew scheduling to construct initial clusters for or optimizer',\n",
       "   'a mixture of experts model for predicting persistent weather patterns']),\n",
       " (4,\n",
       "  ['csi-based efficient self-quarantine monitoring system using branchy convolution neural network',\n",
       "   'heterogeneous domain adaptation and equipment matching: dann-based alignment with cyclic supervision (dbacs)',\n",
       "   'admoe: anomaly detection with mixture-of-experts from noisy labels',\n",
       "   'anomaly detection by recombining gated unsupervised experts',\n",
       "   'mixture of expert/imitator networks: scalable semi-supervised learning framework']),\n",
       " (14,\n",
       "  ['evolving artificial neural networks to imitate human behaviour in shinobi iii : return of the ninja master',\n",
       "   'enhancing once-for-all: a study on parallel blocks, skip connections and early exits',\n",
       "   'anticipate, ensemble and prune: improving convolutional neural networks via aggregated early exits',\n",
       "   'exploring the intersection between neural architecture search and continual learning',\n",
       "   'a tale of two animats: what does it take to have goals?']),\n",
       " (21,\n",
       "  ['ed-batch: efficient automatic batching of dynamic neural networks via learned finite state machines',\n",
       "   'dycl: dynamic neural network compilation via program rewriting and graph optimization',\n",
       "   'cavs: a vertex-centric programming interface for dynamic neural networks',\n",
       "   'on-the-fly operation batching in dynamic computation graphs',\n",
       "   'dynet: the dynamic neural network toolkit']),\n",
       " (23,\n",
       "  ['post-train adaptive u-net for image segmentation',\n",
       "   'deep adaptive inference networks for single image super-resolution',\n",
       "   'designing adaptive neural networks for energy-constrained image classification',\n",
       "   'context-adaptive neural network based prediction for image compression',\n",
       "   'adaptive neural network classifier for decoding meg signals']),\n",
       " (31,\n",
       "  ['feamoe: fair, explainable and adaptive mixture of experts',\n",
       "   'the future of human-centric explainable artificial intelligence (xai) is not post-hoc explanations',\n",
       "   'interpretable mixture of experts',\n",
       "   'federated mixture of experts',\n",
       "   'learning to bluff']),\n",
       " (34,\n",
       "  ['test-time adaptation via conjugate pseudo-labels',\n",
       "   'a field of experts prior for adapting neural networks at test time',\n",
       "   'adapting neural networks for uplift models',\n",
       "   'adapting neural networks for the estimation of treatment effects',\n",
       "   'spatiotemporal adaptive neural network for long-term forecasting of financial time series']),\n",
       " (45,\n",
       "  ['understanding the influence of receptive field and network complexity in neural-network-guided tem image analysis',\n",
       "   'adaptive neural network-based ofdm receivers',\n",
       "   'aidx: adaptive inference scheme to mitigate state-drift in memristive vmm accelerators',\n",
       "   'rate-adaptive neural networks for spatial multiplexers',\n",
       "   'unsupervised adaptive neural network regularization for accelerated radial cine mri']),\n",
       " (1,\n",
       "  ['moduleformer: learning modular large language models from uncurated data',\n",
       "   'moebert: from bert to mixture-of-experts via importance-guided adaptation',\n",
       "   'the right tool for the job: matching model and instance complexities',\n",
       "   'multi-source cross-lingual model transfer: learning what to share']),\n",
       " (9,\n",
       "  ['long-distance gesture recognition using dynamic neural networks',\n",
       "   'long-tailed visual recognition via self-heterogeneous integration with knowledge excavation',\n",
       "   \"self-supervised multimodal domino: in search of biomarkers for alzheimer's disease\",\n",
       "   'elf: an early-exiting framework for long-tailed classification']),\n",
       " (26,\n",
       "  ['hadas: hardware-aware dynamic neural architecture search for edge performance scaling',\n",
       "   'on-demand resource management for 6g wireless networks using knowledge-assisted dynamic neural networks',\n",
       "   'dyno: dynamic onloading of deep neural networks from cloud to device',\n",
       "   'electricity demand and energy consumption management system']),\n",
       " (28,\n",
       "  ['cold start streaming learning for deep networks',\n",
       "   'tuning of mixture-of-experts mixed-precision neural networks',\n",
       "   'wrapnet: neural net inference with ultra-low-resolution arithmetic',\n",
       "   'ampnet: asynchronous model-parallel training for dynamic neural networks']),\n",
       " (40,\n",
       "  ['learning over all stabilizing nonlinear controllers for a partially-observed linear system',\n",
       "   'mpc-net: a first principles guided policy search',\n",
       "   'interpretable pid parameter tuning for control engineering using general dynamic neural networks: an extensive comparison',\n",
       "   'discontinuity-sensitive optimal control learning by mixture of experts']),\n",
       " (2,\n",
       "  ['patch-level routing in mixture-of-experts is provably sample-efficient for convolutional neural networks',\n",
       "   'soft merging of experts with adaptive routing',\n",
       "   'a theoretical view on sparsely activated networks']),\n",
       " (15,\n",
       "  ['a small-scale switch transformer and nlp-based model for clinical narratives classification',\n",
       "   'efficient sparsely activated transformers',\n",
       "   'faster depth-adaptive transformers']),\n",
       " (29,\n",
       "  ['safe real-world autonomous driving by learning to predict and plan with a mixture of experts',\n",
       "   'flash: fast and light motion prediction for autonomous driving with bayesian inverse planning and learned motion profiles',\n",
       "   'uncertainty-aware driver trajectory prediction at urban intersections']),\n",
       " (33,\n",
       "  ['probabilistic partition of unity networks for high-dimensional regression problems',\n",
       "   'polynomial-spline neural networks with exact integrals',\n",
       "   'deep online convex optimization with gated games']),\n",
       " (37,\n",
       "  ['fault-tolerant collaborative inference through the edge-prune framework',\n",
       "   'resource allocation for multiuser edge inference with batching and early exiting (extended version)',\n",
       "   'learning task-oriented communication for edge inference: an information bottleneck approach']),\n",
       " (38,\n",
       "  ['temporal domain generalization with drift-aware dynamic neural networks',\n",
       "   'towards neural network patching: evaluating engagement-layers and patch-architectures',\n",
       "   'domain adaptive neural networks for object recognition']),\n",
       " (44,\n",
       "  ['precise motion control of wafer stages via adaptive neural network and fractional-order super-twisting algorithm',\n",
       "   'velocity regulation of 3d bipedal walking robots with uncertain dynamics through adaptive neural network controller',\n",
       "   'adaptive neural network based dynamic surface control for uncertain dual arm robots']),\n",
       " (3,\n",
       "  ['towards anytime classification in early-exit architectures by enforcing conditional monotonicity',\n",
       "   'anytime prediction as a model of human reaction time']),\n",
       " (8,\n",
       "  ['big-little adaptive neural networks on low-power near-subthreshold processors',\n",
       "   'effective approaches to batch parallelization for dynamic neural network architectures']),\n",
       " (11,\n",
       "  ['gradmdm: adversarial attack on dynamic networks',\n",
       "   'dynamics-aware adversarial attack of adaptive neural networks']),\n",
       " (16,\n",
       "  ['dynamic healthcare embeddings for improving patient care',\n",
       "   'deepcare: a deep dynamic memory model for predictive medicine']),\n",
       " (22,\n",
       "  ['neural abstractions',\n",
       "   'basisnet: two-stage model synthesis for efficient inference']),\n",
       " (24,\n",
       "  ['sparse upcycling: training mixture-of-experts from dense checkpoints',\n",
       "   'towards crowdsourced training of large neural networks using decentralized mixture-of-experts']),\n",
       " (27,\n",
       "  ['alioth: a machine learning based interference-aware performance monitor for multi-tenancy applications in public cloud',\n",
       "   'conditionally deep hybrid neural networks across edge and cloud']),\n",
       " (30,\n",
       "  ['tiny-attention adapter: contexts are more important than the number of parameters',\n",
       "   'sda-\\nx\\nnet: selective depth attention networks for adaptive multi-scale feature representation']),\n",
       " (35,\n",
       "  ['omni-seg: a scale-aware dynamic network for renal pathological image segmentation',\n",
       "   'boundary-weighted domain adaptive neural network for prostate mr image segmentation']),\n",
       " (36,\n",
       "  ['scai: a spectral data classification framework with adaptive inference for the iot platform',\n",
       "   'airex: neural network-based approach for air quality inference in unmonitored cities']),\n",
       " (39,\n",
       "  ['stock price prediction using dynamic neural networks',\n",
       "   'gated neural networks for option pricing: rationality by design']),\n",
       " (42,\n",
       "  ['show why the answer is correct! towards explainable ai using compositional temporal attention',\n",
       "   'learning sparse mixture of experts for visual question answering']),\n",
       " (43,\n",
       "  ['deep dynamic neural network to trade-off between accuracy and diversity in a news recommender system',\n",
       "   'dadnn: multi-scene ctr prediction via domain-aware deep neural network']),\n",
       " (46,\n",
       "  ['identification of probability weighted arx models with arbitrary domains',\n",
       "   'nonlinear systems identification using deep dynamic neural networks']),\n",
       " (47,\n",
       "  ['spinn: synergistic progressive inference of neural networks over device and cloud',\n",
       "   'hapi: hardware-aware progressive inference']),\n",
       " (48,\n",
       "  ['mixcaps: a capsule network-based mixture of experts for lung nodule malignancy prediction',\n",
       "   'granger-causal attentive mixtures of experts: learning important features with neural networks']),\n",
       " (49,\n",
       "  ['summareranker: a multi-task mixture-of-experts re-ranking framework for abstractive summarization',\n",
       "   'one-shot learning for question-answering in gaokao history challenge']),\n",
       " (50,\n",
       "  ['an empirical study of batch normalization and group normalization in conditional computation',\n",
       "   'learning sparse neural networks through\\nl\\n0\\nregularization']),\n",
       " (51,\n",
       "  ['a new approach for topic detection using adaptive neural networks',\n",
       "   'topic compositional neural language model']),\n",
       " (52,\n",
       "  ['adaptive ensemble prediction for deep neural networks based on confidence level',\n",
       "   'distilling the knowledge in a neural network']),\n",
       " (53,\n",
       "  ['from neuron to neural networks dynamics',\n",
       "   'from neuron to neural networks dynamics'])]"
      ]
     },
     "execution_count": 43,
     "metadata": {},
     "output_type": "execute_result"
    }
   ],
   "source": [
    "sorted_clusters #[1:]"
   ]
  },
  {
   "cell_type": "code",
   "execution_count": null,
   "metadata": {},
   "outputs": [],
   "source": [
    "cluster_lenghts = [len(x[1]) for x in sorted_clusters[1:]]\n",
    "print(sum(cluster_lenghts)) # [1:125]\n",
    "plt.hist(cluster_lenghts, bins=220)\n",
    "plt.grid()\n",
    "plt.title(\"Distribuição do No de artigos. Perp = 30\")\n",
    "plt.show()"
   ]
  },
  {
   "cell_type": "code",
   "execution_count": null,
   "metadata": {},
   "outputs": [],
   "source": []
  }
 ],
 "metadata": {
  "kernelspec": {
   "display_name": "Python 3.9.13 ('base')",
   "language": "python",
   "name": "python3"
  },
  "language_info": {
   "codemirror_mode": {
    "name": "ipython",
    "version": 3
   },
   "file_extension": ".py",
   "mimetype": "text/x-python",
   "name": "python",
   "nbconvert_exporter": "python",
   "pygments_lexer": "ipython3",
   "version": "3.9.13"
  },
  "orig_nbformat": 4,
  "vscode": {
   "interpreter": {
    "hash": "ad2bdc8ecc057115af97d19610ffacc2b4e99fae6737bb82f5d7fb13d2f2c186"
   }
  }
 },
 "nbformat": 4,
 "nbformat_minor": 2
}
