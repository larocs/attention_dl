{
 "cells": [
  {
   "cell_type": "code",
   "execution_count": null,
   "metadata": {},
   "outputs": [],
   "source": [
    "import os\n",
    "from glob import glob\n",
    "import json\n",
    "\n",
    "source_dir = os.path.join(\"..\", \"arxiv_papers_infos\")\n",
    "papers_paths = glob(os.path.join(source_dir, \"*.json\"))"
   ]
  },
  {
   "cell_type": "code",
   "execution_count": null,
   "metadata": {},
   "outputs": [],
   "source": [
    "paper_data = []\n",
    "for path in papers_paths:\n",
    "    with open(path, \"r\") as f:\n",
    "        data = json.load(f)\n",
    "    paper_data.append(data)\n",
    "print(len(paper_data))"
   ]
  },
  {
   "cell_type": "code",
   "execution_count": null,
   "metadata": {},
   "outputs": [],
   "source": [
    "from sentence_transformers import SentenceTransformer\n",
    "\n",
    "model = SentenceTransformer('sentence-transformers/all-MiniLM-L6-v2')\n",
    "# model = SentenceTransformer(\"paraphrase-MiniLM-L6-v2\")"
   ]
  },
  {
   "cell_type": "code",
   "execution_count": null,
   "metadata": {},
   "outputs": [],
   "source": [
    "docs = []\n",
    "titles = []\n",
    "for data in paper_data:\n",
    "    if \"result\" not in data:\n",
    "        continue\n",
    "    data = data[\"result\"]\n",
    "    authors = \"\" if \"authors\" not in data else \" \".join(data[\"authors\"])\n",
    "    title = \"\" if \"title\" not in data else data[\"title\"]\n",
    "    abstract = \"\" if \"abstract\" not in data else data[\"abstract\"]\n",
    "    sent = authors + \" \" + title + \" \" + abstract\n",
    "    docs.append(sent)\n",
    "    titles.append(title)\n",
    "print(len(docs))"
   ]
  },
  {
   "cell_type": "code",
   "execution_count": null,
   "metadata": {},
   "outputs": [],
   "source": [
    "embeddings = model.encode(docs[:1000])"
   ]
  },
  {
   "cell_type": "code",
   "execution_count": null,
   "metadata": {},
   "outputs": [],
   "source": [
    "from sklearn.manifold import TSNE\n",
    "\n",
    "X_tsne = TSNE(\n",
    "    n_components=2,\n",
    "    # learning_rate='auto',\n",
    "    init='random',\n",
    "    perplexity=30\n",
    ").fit_transform(embeddings)"
   ]
  },
  {
   "cell_type": "code",
   "execution_count": null,
   "metadata": {},
   "outputs": [],
   "source": [
    "import pandas as pd\n",
    "from matplotlib import pyplot as plt\n",
    "import plotly.express as px\n",
    "from sklearn.cluster import DBSCAN\n",
    "\n",
    "plt_data = pd.DataFrame(\n",
    "    {\n",
    "        \"x_tsne\": X_tsne[:, 0],\n",
    "        \"y_tsne\": X_tsne[:, 1],\n",
    "        \"content\": titles[:len(X_tsne)],\n",
    "    }\n",
    ")\n",
    "\n",
    "db = DBSCAN(eps=1.5, min_samples=5).fit(X_tsne)\n",
    "labels = db.labels_\n",
    "\n",
    "n_clusters_ = len(set(labels)) - (1 if -1 in labels else 0)\n",
    "n_noise_ = list(labels).count(-1)\n",
    "plt_data[\"label\"] = labels\n",
    "\n",
    "print(f\"Estimated number of clusters: {n_clusters_}\")\n",
    "print(f\"Estimated number of noise points: {n_noise_}\")\n",
    "\n",
    "fig = px.scatter(\n",
    "    plt_data,\n",
    "    x=\"x_tsne\",\n",
    "    y=\"y_tsne\",\n",
    "    hover_name=\"content\",\n",
    "    hover_data=[\"label\"],\n",
    "    color=labels,\n",
    ")\n",
    "fig.show()"
   ]
  },
  {
   "cell_type": "code",
   "execution_count": null,
   "metadata": {},
   "outputs": [],
   "source": []
  }
 ],
 "metadata": {
  "kernelspec": {
   "display_name": "Python 3.9.13 ('base')",
   "language": "python",
   "name": "python3"
  },
  "language_info": {
   "codemirror_mode": {
    "name": "ipython",
    "version": 3
   },
   "file_extension": ".py",
   "mimetype": "text/x-python",
   "name": "python",
   "nbconvert_exporter": "python",
   "pygments_lexer": "ipython3",
   "version": "3.9.13"
  },
  "orig_nbformat": 4,
  "vscode": {
   "interpreter": {
    "hash": "ad2bdc8ecc057115af97d19610ffacc2b4e99fae6737bb82f5d7fb13d2f2c186"
   }
  }
 },
 "nbformat": 4,
 "nbformat_minor": 2
}
